{
  "nbformat": 4,
  "nbformat_minor": 0,
  "metadata": {
    "colab": {
      "name": "mo-2-7-0.ipynb",
      "provenance": [],
      "collapsed_sections": [],
      "toc_visible": true,
      "machine_shape": "hm"
    },
    "kernelspec": {
      "name": "python3",
      "display_name": "Python 3"
    },
    "accelerator": "GPU"
  },
  "cells": [
    {
      "cell_type": "markdown",
      "metadata": {
        "id": "L3rSI8Sri-M_",
        "colab_type": "text"
      },
      "source": [
        "# Лабораторная работа №7\n",
        "\n",
        "## Рекуррентные нейронные сети для анализа текста"
      ]
    },
    {
      "cell_type": "markdown",
      "metadata": {
        "id": "-SED2kKFjeQm",
        "colab_type": "text"
      },
      "source": [
        "Набор данных для предсказания оценок для отзывов, собранных с сайта _imdb.com_, который состоит из 50,000 отзывов в виде текстовых файлов.\n",
        "\n",
        "Отзывы разделены на положительные (25,000) и отрицательные (25,000).\n",
        "\n",
        "Данные предварительно токенизированы по принципу «мешка слов», индексы слов можно взять из словаря (_imdb.vocab_).\n",
        "\n",
        "Обучающая выборка включает в себя 12,500 положительных и 12,500 отрицательных отзывов, контрольная выборка также содержит 12,500 положительных и 12,500 отрицательных отзывов.\n",
        "\n",
        "Данные можно скачать ~~на сайте _Kaggle_~~: ~~https://www.kaggle.com/iarunava/imdb-movie-reviews-dataset~~ https://ai.stanford.edu/~amaas/data/sentiment/"
      ]
    },
    {
      "cell_type": "markdown",
      "metadata": {
        "id": "YvvJioiIkBuS",
        "colab_type": "text"
      },
      "source": [
        "### Задание 1\n",
        "\n",
        "Загрузите данные. Преобразуйте текстовые файлы во внутренние структуры данных, которые используют индексы вместо слов."
      ]
    },
    {
      "cell_type": "markdown",
      "metadata": {
        "id": "TeJvOnrrRCLy",
        "colab_type": "text"
      },
      "source": [
        "Будем брать первые `MAX_LENGTH` слов, а если в отзыве слов меньше, чем это число, то применять паддинг."
      ]
    },
    {
      "cell_type": "code",
      "metadata": {
        "id": "m2xYxvFJ0xJj",
        "colab_type": "code",
        "outputId": "dc7cbba3-adc1-4444-803b-a0a402f56995",
        "colab": {
          "base_uri": "https://localhost:8080/",
          "height": 34
        }
      },
      "source": [
        "from google.colab import drive\n",
        "\n",
        "drive.mount('/content/drive', force_remount = True)"
      ],
      "execution_count": 1,
      "outputs": [
        {
          "output_type": "stream",
          "text": [
            "Mounted at /content/drive\n"
          ],
          "name": "stdout"
        }
      ]
    },
    {
      "cell_type": "code",
      "metadata": {
        "id": "7Yg-w4Aw1Ohq",
        "colab_type": "code",
        "colab": {}
      },
      "source": [
        "BASE_DIR = '/content/drive/My Drive/Colab Files/mo-2'\n",
        "\n",
        "import sys\n",
        "\n",
        "sys.path.append(BASE_DIR)\n",
        "\n",
        "import os"
      ],
      "execution_count": 0,
      "outputs": []
    },
    {
      "cell_type": "code",
      "metadata": {
        "id": "UqlKvsJ41Rwy",
        "colab_type": "code",
        "colab": {}
      },
      "source": [
        "DATA_ARCHIVE_NAME = 'imdb-dataset-of-50k-movie-reviews.zip'\n",
        "\n",
        "LOCAL_DIR_NAME = 'imdb-sentiments'"
      ],
      "execution_count": 0,
      "outputs": []
    },
    {
      "cell_type": "code",
      "metadata": {
        "id": "QLAwfqxe1b7Z",
        "colab_type": "code",
        "colab": {}
      },
      "source": [
        "from zipfile import ZipFile\n",
        "\n",
        "with ZipFile(os.path.join(BASE_DIR, DATA_ARCHIVE_NAME), 'r') as zip_:\n",
        "    zip_.extractall(LOCAL_DIR_NAME)"
      ],
      "execution_count": 0,
      "outputs": []
    },
    {
      "cell_type": "code",
      "metadata": {
        "id": "m4Euqp8l1lUo",
        "colab_type": "code",
        "colab": {}
      },
      "source": [
        "DATA_FILE_PATH = 'imdb-sentiments/IMDB Dataset.csv'"
      ],
      "execution_count": 0,
      "outputs": []
    },
    {
      "cell_type": "code",
      "metadata": {
        "id": "_X4fdpuo1vBT",
        "colab_type": "code",
        "colab": {}
      },
      "source": [
        "import pandas as pd\n",
        "\n",
        "all_df = pd.read_csv(DATA_FILE_PATH)"
      ],
      "execution_count": 0,
      "outputs": []
    },
    {
      "cell_type": "code",
      "metadata": {
        "id": "z2Jm_7561x9w",
        "colab_type": "code",
        "outputId": "a68112dd-9380-4bbc-f333-c86fa5c5efb1",
        "colab": {
          "base_uri": "https://localhost:8080/",
          "height": 34
        }
      },
      "source": [
        "print(all_df.shape)"
      ],
      "execution_count": 7,
      "outputs": [
        {
          "output_type": "stream",
          "text": [
            "(50000, 2)\n"
          ],
          "name": "stdout"
        }
      ]
    },
    {
      "cell_type": "code",
      "metadata": {
        "id": "ViW4uNZt90u0",
        "colab_type": "code",
        "outputId": "29313d1b-f5e0-409a-d4ec-1a2fc03472cd",
        "colab": {
          "base_uri": "https://localhost:8080/",
          "height": 70
        }
      },
      "source": [
        "import nltk\n",
        "\n",
        "nltk.download('punkt')"
      ],
      "execution_count": 8,
      "outputs": [
        {
          "output_type": "stream",
          "text": [
            "[nltk_data] Downloading package punkt to /root/nltk_data...\n",
            "[nltk_data]   Package punkt is already up-to-date!\n"
          ],
          "name": "stdout"
        },
        {
          "output_type": "execute_result",
          "data": {
            "text/plain": [
              "True"
            ]
          },
          "metadata": {
            "tags": []
          },
          "execution_count": 8
        }
      ]
    },
    {
      "cell_type": "code",
      "metadata": {
        "id": "Z6WR8PBaGygW",
        "colab_type": "code",
        "colab": {}
      },
      "source": [
        "MAX_LENGTH = 40\n",
        "\n",
        "STRING_DTYPE = '<U12'\n",
        "\n",
        "PADDING_TOKEN = 'PAD'\n",
        "\n",
        "LIMIT_OF_TOKENS = 100000"
      ],
      "execution_count": 0,
      "outputs": []
    },
    {
      "cell_type": "code",
      "metadata": {
        "id": "Tivq-oQK-sW_",
        "colab_type": "code",
        "colab": {}
      },
      "source": [
        "from nltk import word_tokenize\n",
        "import numpy as np\n",
        "import string\n",
        "import re\n",
        "\n",
        "def tokenize_string(_string):\n",
        "    return  [tok_.lower() for tok_ in word_tokenize(_string) if not re.fullmatch('[' + string.punctuation + ']+', tok_)]\n",
        "\n",
        "def pad(A, length):\n",
        "    arr = np.empty(length, dtype = STRING_DTYPE)\n",
        "    arr.fill(PADDING_TOKEN)\n",
        "    arr[:len(A)] = A\n",
        "    return arr\n",
        "\n",
        "def tokenize_row(_sentence):\n",
        "    return pad(tokenize_string(_sentence)[:MAX_LENGTH], MAX_LENGTH)\n",
        "\n",
        "def encode_row(_label):\n",
        "    return 1 if _label == 'positive' else 0\n",
        "\n",
        "def encode_and_tokenize(_dataframe):\n",
        "\n",
        "    tttt = _dataframe.apply(lambda row: tokenize_row(row['review']), axis = 1)\n",
        "    llll = _dataframe.apply(lambda row: encode_row(row['sentiment']), axis = 1)\n",
        "\n",
        "    data_dict_ = { 'label': llll, 'tokens': tttt }\n",
        "\n",
        "    encoded_and_tokenized_ = pd.DataFrame(data_dict_, columns = ['label', 'tokens'])\n",
        "\n",
        "    return encoded_and_tokenized_"
      ],
      "execution_count": 0,
      "outputs": []
    },
    {
      "cell_type": "code",
      "metadata": {
        "id": "fVEdzi_oEvkp",
        "colab_type": "code",
        "colab": {}
      },
      "source": [
        "all_df_tokenized = encode_and_tokenize(all_df)"
      ],
      "execution_count": 0,
      "outputs": []
    },
    {
      "cell_type": "code",
      "metadata": {
        "id": "tq8FJvCCKYbn",
        "colab_type": "code",
        "colab": {}
      },
      "source": [
        "from collections import Counter\n",
        "\n",
        "def get_tokens_list(_dataframe):\n",
        "    \n",
        "    all_tokens_ = []\n",
        "    \n",
        "    for sent_ in _dataframe['tokens'].values:\n",
        "        all_tokens_.extend(sent_)\n",
        "\n",
        "    tokens_counter_ = Counter(all_tokens_)\n",
        "                \n",
        "    return [t for t, _ in tokens_counter_.most_common(LIMIT_OF_TOKENS)]"
      ],
      "execution_count": 0,
      "outputs": []
    },
    {
      "cell_type": "code",
      "metadata": {
        "id": "kcwmqBD8NnPS",
        "colab_type": "code",
        "colab": {}
      },
      "source": [
        "tokens_list = get_tokens_list(all_df_tokenized)"
      ],
      "execution_count": 0,
      "outputs": []
    },
    {
      "cell_type": "code",
      "metadata": {
        "id": "VBaHte_cN57P",
        "colab_type": "code",
        "colab": {}
      },
      "source": [
        "word_to_int_dict = {}\n",
        "\n",
        "word_to_int_dict.update(\n",
        "    {t : i for i, t in enumerate(tokens_list)})"
      ],
      "execution_count": 0,
      "outputs": []
    },
    {
      "cell_type": "code",
      "metadata": {
        "id": "YitqCwMYO02P",
        "colab_type": "code",
        "colab": {}
      },
      "source": [
        "def intize_row(_tokens):\n",
        "    return np.array([word_to_int_dict[t]\n",
        "                if t in word_to_int_dict\n",
        "                else 0\n",
        "            for t in _tokens])\n",
        "\n",
        "def encode_and_tokenize(_dataframe):\n",
        "\n",
        "    iiii = _dataframe.apply(lambda row: intize_row(row['tokens']), axis = 1)\n",
        "\n",
        "    data_dict_ = { 'label': _dataframe['label'], 'ints': iiii }\n",
        "\n",
        "    intized_ = pd.DataFrame(data_dict_, columns = ['label', 'ints'])\n",
        "\n",
        "    return intized_"
      ],
      "execution_count": 0,
      "outputs": []
    },
    {
      "cell_type": "code",
      "metadata": {
        "id": "HaVH0rXGPTFE",
        "colab_type": "code",
        "colab": {}
      },
      "source": [
        "all_df_intized = encode_and_tokenize(all_df_tokenized)"
      ],
      "execution_count": 0,
      "outputs": []
    },
    {
      "cell_type": "markdown",
      "metadata": {
        "id": "d9_f_zIukTGK",
        "colab_type": "text"
      },
      "source": [
        "### Задание 2\n",
        "\n",
        "Реализуйте и обучите двунаправленную рекуррентную сеть (_LSTM_ или _GRU_).\n",
        "\n",
        "Какого качества классификации удалось достичь?"
      ]
    },
    {
      "cell_type": "code",
      "metadata": {
        "id": "s-f0LrGwRvI-",
        "colab_type": "code",
        "outputId": "74a5a8fe-dfbd-47e8-d713-e15213ab7dc6",
        "colab": {
          "base_uri": "https://localhost:8080/",
          "height": 213
        }
      },
      "source": [
        "! pip install tensorflow-gpu --pre --quiet\n",
        "\n",
        "! pip show tensorflow-gpu"
      ],
      "execution_count": 17,
      "outputs": [
        {
          "output_type": "stream",
          "text": [
            "Name: tensorflow-gpu\n",
            "Version: 2.2.0rc3\n",
            "Summary: TensorFlow is an open source machine learning framework for everyone.\n",
            "Home-page: https://www.tensorflow.org/\n",
            "Author: Google Inc.\n",
            "Author-email: packages@tensorflow.org\n",
            "License: Apache 2.0\n",
            "Location: /usr/local/lib/python3.6/dist-packages\n",
            "Requires: protobuf, opt-einsum, numpy, tensorflow-estimator, wrapt, scipy, absl-py, gast, wheel, six, google-pasta, termcolor, astunparse, h5py, keras-preprocessing, tensorboard, grpcio\n",
            "Required-by: \n"
          ],
          "name": "stdout"
        }
      ]
    },
    {
      "cell_type": "code",
      "metadata": {
        "id": "56BJY9L3Rya4",
        "colab_type": "code",
        "colab": {}
      },
      "source": [
        "import tensorflow as tf\n",
        "from tensorflow import keras"
      ],
      "execution_count": 0,
      "outputs": []
    },
    {
      "cell_type": "markdown",
      "metadata": {
        "id": "sPBbuJMWH9FM",
        "colab_type": "text"
      },
      "source": [
        "Здесь будем использовать такую конфигурацию рекуррентного _LSTM_-слоя, которая позволит использовать очень быструю _cuDNN_ имплементацию."
      ]
    },
    {
      "cell_type": "code",
      "metadata": {
        "id": "Jl8QgL8YR3MB",
        "colab_type": "code",
        "colab": {}
      },
      "source": [
        "from tensorflow.keras.models import Sequential\n",
        "from tensorflow.keras.layers import Bidirectional, LSTM, Dense\n",
        "\n",
        "# The requirements to use the cuDNN implementation are:\n",
        "# 1. `activation` == `tanh`\n",
        "# 2. `recurrent_activation` == `sigmoid`\n",
        "# 3. `recurrent_dropout` == 0\n",
        "# 4. `unroll` is `False`\n",
        "# 5. `use_bias` is `True`\n",
        "# 6. `reset_after` is `True`\n",
        "# 7. Inputs, if use masking, are strictly right-padded.\n",
        "\n",
        "model = tf.keras.Sequential()\n",
        "\n",
        "model.add(Bidirectional(LSTM(100, return_sequences = False), merge_mode = 'concat',\n",
        "          input_shape = (MAX_LENGTH, 1)))\n",
        "model.add(Dense(1, activation = 'sigmoid'))"
      ],
      "execution_count": 0,
      "outputs": []
    },
    {
      "cell_type": "code",
      "metadata": {
        "id": "0XOQCFPLSxAY",
        "colab_type": "code",
        "outputId": "15e56585-b58c-4ab4-dc04-1811701a8e96",
        "colab": {
          "base_uri": "https://localhost:8080/",
          "height": 228
        }
      },
      "source": [
        "model.compile(optimizer = 'adam',\n",
        "              loss = 'binary_crossentropy',\n",
        "              metrics = ['accuracy'])\n",
        "\n",
        "model.summary()"
      ],
      "execution_count": 20,
      "outputs": [
        {
          "output_type": "stream",
          "text": [
            "Model: \"sequential\"\n",
            "_________________________________________________________________\n",
            "Layer (type)                 Output Shape              Param #   \n",
            "=================================================================\n",
            "bidirectional (Bidirectional (None, 200)               81600     \n",
            "_________________________________________________________________\n",
            "dense (Dense)                (None, 1)                 201       \n",
            "=================================================================\n",
            "Total params: 81,801\n",
            "Trainable params: 81,801\n",
            "Non-trainable params: 0\n",
            "_________________________________________________________________\n"
          ],
          "name": "stdout"
        }
      ]
    },
    {
      "cell_type": "code",
      "metadata": {
        "id": "0P7S_oSbUyqR",
        "colab_type": "code",
        "colab": {}
      },
      "source": [
        "X_intized = np.asarray(list(all_df_intized['ints'].values), dtype = float)[..., np.newaxis]\n",
        "\n",
        "y_intized = np.asarray(list(all_df_intized['label'].values))"
      ],
      "execution_count": 0,
      "outputs": []
    },
    {
      "cell_type": "code",
      "metadata": {
        "id": "VCBDllgPS5v4",
        "colab_type": "code",
        "outputId": "684d683b-2e51-401c-fc0b-85687fbabeaf",
        "colab": {
          "base_uri": "https://localhost:8080/",
          "height": 738
        }
      },
      "source": [
        "model.fit(x = X_intized, y = y_intized, validation_split = 0.15, epochs = 20)"
      ],
      "execution_count": 22,
      "outputs": [
        {
          "output_type": "stream",
          "text": [
            "Epoch 1/20\n",
            "1329/1329 [==============================] - 10s 7ms/step - loss: 0.6928 - accuracy: 0.5268 - val_loss: 0.6874 - val_accuracy: 0.5453\n",
            "Epoch 2/20\n",
            "1329/1329 [==============================] - 9s 7ms/step - loss: 0.6880 - accuracy: 0.5409 - val_loss: 0.6847 - val_accuracy: 0.5464\n",
            "Epoch 3/20\n",
            "1329/1329 [==============================] - 9s 7ms/step - loss: 0.6849 - accuracy: 0.5535 - val_loss: 0.6823 - val_accuracy: 0.5535\n",
            "Epoch 4/20\n",
            "1329/1329 [==============================] - 10s 7ms/step - loss: 0.6818 - accuracy: 0.5632 - val_loss: 0.6797 - val_accuracy: 0.5632\n",
            "Epoch 5/20\n",
            "1329/1329 [==============================] - 9s 7ms/step - loss: 0.6790 - accuracy: 0.5677 - val_loss: 0.6842 - val_accuracy: 0.5569\n",
            "Epoch 6/20\n",
            "1329/1329 [==============================] - 9s 7ms/step - loss: 0.6772 - accuracy: 0.5699 - val_loss: 0.6794 - val_accuracy: 0.5651\n",
            "Epoch 7/20\n",
            "1329/1329 [==============================] - 9s 7ms/step - loss: 0.6749 - accuracy: 0.5750 - val_loss: 0.6775 - val_accuracy: 0.5684\n",
            "Epoch 8/20\n",
            "1329/1329 [==============================] - 9s 7ms/step - loss: 0.6725 - accuracy: 0.5776 - val_loss: 0.6763 - val_accuracy: 0.5695\n",
            "Epoch 9/20\n",
            "1329/1329 [==============================] - 9s 7ms/step - loss: 0.6700 - accuracy: 0.5834 - val_loss: 0.6757 - val_accuracy: 0.5697\n",
            "Epoch 10/20\n",
            "1329/1329 [==============================] - 9s 7ms/step - loss: 0.6680 - accuracy: 0.5833 - val_loss: 0.6734 - val_accuracy: 0.5708\n",
            "Epoch 11/20\n",
            "1329/1329 [==============================] - 10s 7ms/step - loss: 0.6664 - accuracy: 0.5864 - val_loss: 0.6702 - val_accuracy: 0.5772\n",
            "Epoch 12/20\n",
            "1329/1329 [==============================] - 9s 7ms/step - loss: 0.6635 - accuracy: 0.5881 - val_loss: 0.6711 - val_accuracy: 0.5801\n",
            "Epoch 13/20\n",
            "1329/1329 [==============================] - 10s 7ms/step - loss: 0.6609 - accuracy: 0.5953 - val_loss: 0.6708 - val_accuracy: 0.5752\n",
            "Epoch 14/20\n",
            "1329/1329 [==============================] - 10s 7ms/step - loss: 0.6593 - accuracy: 0.5959 - val_loss: 0.6721 - val_accuracy: 0.5772\n",
            "Epoch 15/20\n",
            "1329/1329 [==============================] - 10s 7ms/step - loss: 0.6567 - accuracy: 0.5983 - val_loss: 0.6772 - val_accuracy: 0.5711\n",
            "Epoch 16/20\n",
            "1329/1329 [==============================] - 10s 7ms/step - loss: 0.6537 - accuracy: 0.6030 - val_loss: 0.6703 - val_accuracy: 0.5796\n",
            "Epoch 17/20\n",
            "1329/1329 [==============================] - 9s 7ms/step - loss: 0.6519 - accuracy: 0.6065 - val_loss: 0.6692 - val_accuracy: 0.5823\n",
            "Epoch 18/20\n",
            "1329/1329 [==============================] - 9s 7ms/step - loss: 0.6482 - accuracy: 0.6084 - val_loss: 0.6709 - val_accuracy: 0.5784\n",
            "Epoch 19/20\n",
            "1329/1329 [==============================] - 9s 7ms/step - loss: 0.6450 - accuracy: 0.6121 - val_loss: 0.6704 - val_accuracy: 0.5825\n",
            "Epoch 20/20\n",
            "1329/1329 [==============================] - 9s 7ms/step - loss: 0.6418 - accuracy: 0.6176 - val_loss: 0.6694 - val_accuracy: 0.5836\n"
          ],
          "name": "stdout"
        },
        {
          "output_type": "execute_result",
          "data": {
            "text/plain": [
              "<tensorflow.python.keras.callbacks.History at 0x7fd328dfd668>"
            ]
          },
          "metadata": {
            "tags": []
          },
          "execution_count": 22
        }
      ]
    },
    {
      "cell_type": "markdown",
      "metadata": {
        "id": "77UZR8gEQzLX",
        "colab_type": "text"
      },
      "source": [
        "Как и ожидалось, использование эмбеддингов показало лучший результат, чем кодирование просто целыми числами."
      ]
    },
    {
      "cell_type": "markdown",
      "metadata": {
        "id": "x2DsAeq2kbGK",
        "colab_type": "text"
      },
      "source": [
        "### Задание 3\n",
        "\n",
        "Используйте индексы слов и их различное внутреннее представление (_word2vec_, _glove_). Как влияет данное преобразование на качество классификации?"
      ]
    },
    {
      "cell_type": "markdown",
      "metadata": {
        "id": "Ae7ziw75aupE",
        "colab_type": "text"
      },
      "source": [
        "Используем 300-мерные вектора _FastTest_ &mdash; лучшую на сегодняшний день имплементацию word2vec: https://fasttext.cc/docs/en/english-vectors.html. Файл пришлось доработать &mdash; 9-я строка не читалась."
      ]
    },
    {
      "cell_type": "code",
      "metadata": {
        "id": "ckBXWDOka8ci",
        "colab_type": "code",
        "colab": {}
      },
      "source": [
        "# VECTORS_ARCHIVE_NAME = 'wiki-news-300d-1M-fixed.zip'\n",
        "\n",
        "# VECTORS_FILE_NAME = 'wiki-news-300d-1M-fixed.vec'\n",
        "\n",
        "# VECTORS_LOCAL_DIR_NAME = 'vectors'"
      ],
      "execution_count": 0,
      "outputs": []
    },
    {
      "cell_type": "code",
      "metadata": {
        "id": "SNMIh9tmc_gq",
        "colab_type": "code",
        "colab": {}
      },
      "source": [
        "# with ZipFile(os.path.join(BASE_DIR, VECTORS_ARCHIVE_NAME), 'r') as zip_:\n",
        "#     zip_.extractall(VECTORS_LOCAL_DIR_NAME)"
      ],
      "execution_count": 0,
      "outputs": []
    },
    {
      "cell_type": "markdown",
      "metadata": {
        "id": "iZpMbmhxbXQS",
        "colab_type": "text"
      },
      "source": [
        "Создадим уменьшенный словарь, содержащий только встреченные токены, чтобы уменьшить нагрузку на _Google Drive_:"
      ]
    },
    {
      "cell_type": "code",
      "metadata": {
        "id": "ZLWp8IDobtve",
        "colab_type": "code",
        "colab": {}
      },
      "source": [
        "# def build_vectors_dict(_actual_tokens, _vectors_file_path, _unknown_token = 'unknown'):\n",
        "\n",
        "#     vec_data_ = pd.read_csv(_vectors_file_path, sep = ' ', header = None, skiprows = [9])\n",
        "        \n",
        "#     actual_vectors_ = [x for x in vec_data_.values if x[0] in _actual_tokens or x[0] == _unknown_token]\n",
        "\n",
        "#     return actual_vectors_"
      ],
      "execution_count": 0,
      "outputs": []
    },
    {
      "cell_type": "code",
      "metadata": {
        "id": "kuxUELYlw-yp",
        "colab_type": "code",
        "colab": {}
      },
      "source": [
        "# actual_vectors = build_vectors_dict(tokens_list, os.path.join(VECTORS_LOCAL_DIR_NAME, VECTORS_FILE_NAME))"
      ],
      "execution_count": 0,
      "outputs": []
    },
    {
      "cell_type": "code",
      "metadata": {
        "id": "ACqhxpMRyeIA",
        "colab_type": "code",
        "colab": {}
      },
      "source": [
        "# vectors_np = np.array(actual_vectors)\n",
        "\n",
        "# vectors_dict = dict(zip(vectors_np[:, 0], vectors_np[:, 1:]))\n",
        "\n",
        "# vectors_dict_file_name = 'word-vec-dict-{}-items'.format(len(vectors_dict))\n",
        "\n",
        "# vectors_dict_file_path = os.path.join(BASE_DIR, vectors_dict_file_name)\n",
        "\n",
        "# np.savez_compressed(vectors_dict_file_path, vectors_dict, allow_pickle = True)"
      ],
      "execution_count": 0,
      "outputs": []
    },
    {
      "cell_type": "code",
      "metadata": {
        "id": "Yf1Lw5ogehU0",
        "colab_type": "code",
        "colab": {}
      },
      "source": [
        "vectors_dict_file_path = './drive/My Drive/Colab Files/mo-2/word-vec-dict-56485-items.npz'"
      ],
      "execution_count": 0,
      "outputs": []
    },
    {
      "cell_type": "code",
      "metadata": {
        "id": "utXOK7y5d6wy",
        "colab_type": "code",
        "colab": {}
      },
      "source": [
        "vectors_dict_data = np.load(vectors_dict_file_path, allow_pickle = True)\n",
        "\n",
        "vectors_dict = vectors_dict_data['arr_0'][()]"
      ],
      "execution_count": 0,
      "outputs": []
    },
    {
      "cell_type": "code",
      "metadata": {
        "id": "vnMBGetre6w6",
        "colab_type": "code",
        "colab": {}
      },
      "source": [
        "VECTORS_LENGTH = 300"
      ],
      "execution_count": 0,
      "outputs": []
    },
    {
      "cell_type": "code",
      "metadata": {
        "id": "EARSGQIJe-42",
        "colab_type": "code",
        "colab": {}
      },
      "source": [
        "def tokens_to_vectors(_word_to_vec_dict, _tokens, _unknown_token):\n",
        "    return [_word_to_vec_dict[t]\n",
        "                if t in _word_to_vec_dict\n",
        "                else _word_to_vec_dict[_unknown_token]\n",
        "            for t in _tokens]\n",
        "\n",
        "def row_to_vectors(_tokens):\n",
        "    return np.array(tokens_to_vectors(vectors_dict, _tokens, 'unknown'))\n",
        "\n",
        "def vectorize(_dataframe):\n",
        "\n",
        "    vvvv = _dataframe.apply(lambda row: row_to_vectors(row['tokens']), axis = 1)\n",
        "\n",
        "    data_dict_ = { 'label': _dataframe['label'], 'vectors': vvvv }\n",
        "\n",
        "    vectorized_ = pd.DataFrame(data_dict_, columns = ['label', 'vectors'])\n",
        "\n",
        "    return vectorized_"
      ],
      "execution_count": 0,
      "outputs": []
    },
    {
      "cell_type": "code",
      "metadata": {
        "id": "k9An9BkGfBbT",
        "colab_type": "code",
        "colab": {}
      },
      "source": [
        "all_df_vectorized = vectorize(all_df_tokenized)"
      ],
      "execution_count": 0,
      "outputs": []
    },
    {
      "cell_type": "code",
      "metadata": {
        "id": "fBn_Xb67BFu6",
        "colab_type": "code",
        "colab": {}
      },
      "source": [
        "X_vectorized = np.asarray(list(all_df_vectorized['vectors'].values), dtype = float)\n",
        "\n",
        "y_vectorized = np.asarray(list(all_df_intized['label'].values))"
      ],
      "execution_count": 0,
      "outputs": []
    },
    {
      "cell_type": "code",
      "metadata": {
        "id": "hLgWA1I5Af1C",
        "colab_type": "code",
        "colab": {}
      },
      "source": [
        "model = tf.keras.Sequential()\n",
        "\n",
        "model.add(Bidirectional(LSTM(100, return_sequences = False), merge_mode = 'concat',\n",
        "          input_shape = (MAX_LENGTH, VECTORS_LENGTH)))\n",
        "model.add(Dense(1, activation = 'sigmoid'))"
      ],
      "execution_count": 0,
      "outputs": []
    },
    {
      "cell_type": "code",
      "metadata": {
        "id": "y4aP2xGUAg95",
        "colab_type": "code",
        "colab": {
          "base_uri": "https://localhost:8080/",
          "height": 228
        },
        "outputId": "54ff3860-55d3-475b-cd0e-1f80ac936179"
      },
      "source": [
        "model.compile(optimizer = 'adam',\n",
        "              loss = 'binary_crossentropy',\n",
        "              metrics = ['accuracy'])\n",
        "\n",
        "model.summary()"
      ],
      "execution_count": 38,
      "outputs": [
        {
          "output_type": "stream",
          "text": [
            "Model: \"sequential_3\"\n",
            "_________________________________________________________________\n",
            "Layer (type)                 Output Shape              Param #   \n",
            "=================================================================\n",
            "bidirectional_3 (Bidirection (None, 200)               320800    \n",
            "_________________________________________________________________\n",
            "dense_1 (Dense)              (None, 1)                 201       \n",
            "=================================================================\n",
            "Total params: 321,001\n",
            "Trainable params: 321,001\n",
            "Non-trainable params: 0\n",
            "_________________________________________________________________\n"
          ],
          "name": "stdout"
        }
      ]
    },
    {
      "cell_type": "code",
      "metadata": {
        "id": "pRer4D7hAjPs",
        "colab_type": "code",
        "colab": {
          "base_uri": "https://localhost:8080/",
          "height": 738
        },
        "outputId": "e66c1e88-ff13-4161-a5a1-977de1cc7a76"
      },
      "source": [
        "model.fit(x = X_vectorized, y = y_vectorized, validation_split = 0.15, epochs = 20)"
      ],
      "execution_count": 39,
      "outputs": [
        {
          "output_type": "stream",
          "text": [
            "Epoch 1/20\n",
            "1329/1329 [==============================] - 12s 9ms/step - loss: 0.5417 - accuracy: 0.7183 - val_loss: 0.4969 - val_accuracy: 0.7532\n",
            "Epoch 2/20\n",
            "1329/1329 [==============================] - 11s 8ms/step - loss: 0.4844 - accuracy: 0.7581 - val_loss: 0.4829 - val_accuracy: 0.7536\n",
            "Epoch 3/20\n",
            "1329/1329 [==============================] - 11s 9ms/step - loss: 0.4558 - accuracy: 0.7754 - val_loss: 0.4961 - val_accuracy: 0.7408\n",
            "Epoch 4/20\n",
            "1329/1329 [==============================] - 11s 9ms/step - loss: 0.4314 - accuracy: 0.7914 - val_loss: 0.4763 - val_accuracy: 0.7564\n",
            "Epoch 5/20\n",
            "1329/1329 [==============================] - 11s 8ms/step - loss: 0.4060 - accuracy: 0.8066 - val_loss: 0.4622 - val_accuracy: 0.7737\n",
            "Epoch 6/20\n",
            "1329/1329 [==============================] - 11s 8ms/step - loss: 0.3754 - accuracy: 0.8238 - val_loss: 0.4739 - val_accuracy: 0.7683\n",
            "Epoch 7/20\n",
            "1329/1329 [==============================] - 11s 8ms/step - loss: 0.3387 - accuracy: 0.8454 - val_loss: 0.5071 - val_accuracy: 0.7612\n",
            "Epoch 8/20\n",
            "1329/1329 [==============================] - 11s 8ms/step - loss: 0.2961 - accuracy: 0.8670 - val_loss: 0.5322 - val_accuracy: 0.7565\n",
            "Epoch 9/20\n",
            "1329/1329 [==============================] - 11s 8ms/step - loss: 0.2482 - accuracy: 0.8945 - val_loss: 0.6054 - val_accuracy: 0.7648\n",
            "Epoch 10/20\n",
            "1329/1329 [==============================] - 11s 9ms/step - loss: 0.1991 - accuracy: 0.9175 - val_loss: 0.6887 - val_accuracy: 0.7536\n",
            "Epoch 11/20\n",
            "1329/1329 [==============================] - 11s 8ms/step - loss: 0.1504 - accuracy: 0.9412 - val_loss: 0.8021 - val_accuracy: 0.7567\n",
            "Epoch 12/20\n",
            "1329/1329 [==============================] - 11s 9ms/step - loss: 0.1125 - accuracy: 0.9575 - val_loss: 0.8687 - val_accuracy: 0.7497\n",
            "Epoch 13/20\n",
            "1329/1329 [==============================] - 11s 9ms/step - loss: 0.0782 - accuracy: 0.9719 - val_loss: 1.0084 - val_accuracy: 0.7541\n",
            "Epoch 14/20\n",
            "1329/1329 [==============================] - 11s 8ms/step - loss: 0.0608 - accuracy: 0.9792 - val_loss: 1.0871 - val_accuracy: 0.7541\n",
            "Epoch 15/20\n",
            "1329/1329 [==============================] - 12s 9ms/step - loss: 0.0434 - accuracy: 0.9859 - val_loss: 1.1876 - val_accuracy: 0.7484\n",
            "Epoch 16/20\n",
            "1329/1329 [==============================] - 11s 8ms/step - loss: 0.0400 - accuracy: 0.9875 - val_loss: 1.2224 - val_accuracy: 0.7504\n",
            "Epoch 17/20\n",
            "1329/1329 [==============================] - 11s 8ms/step - loss: 0.0305 - accuracy: 0.9903 - val_loss: 1.2945 - val_accuracy: 0.7572\n",
            "Epoch 18/20\n",
            "1329/1329 [==============================] - 11s 8ms/step - loss: 0.0301 - accuracy: 0.9904 - val_loss: 1.3661 - val_accuracy: 0.7501\n",
            "Epoch 19/20\n",
            "1329/1329 [==============================] - 11s 8ms/step - loss: 0.0274 - accuracy: 0.9913 - val_loss: 1.3950 - val_accuracy: 0.7521\n",
            "Epoch 20/20\n",
            "1329/1329 [==============================] - 11s 8ms/step - loss: 0.0205 - accuracy: 0.9937 - val_loss: 1.4352 - val_accuracy: 0.7364\n"
          ],
          "name": "stdout"
        },
        {
          "output_type": "execute_result",
          "data": {
            "text/plain": [
              "<tensorflow.python.keras.callbacks.History at 0x7fd23355d080>"
            ]
          },
          "metadata": {
            "tags": []
          },
          "execution_count": 39
        }
      ]
    },
    {
      "cell_type": "markdown",
      "metadata": {
        "id": "D5-qnk0zkiE8",
        "colab_type": "text"
      },
      "source": [
        "### Задание 4\n",
        "\n",
        "Поэкспериментируйте со структурой сети (добавьте больше рекуррентных, полносвязных или сверточных слоев). Как это повлияло на качество классификации?"
      ]
    },
    {
      "cell_type": "markdown",
      "metadata": {
        "id": "EZ1LfR8dkrK8",
        "colab_type": "text"
      },
      "source": [
        "### Задание 5\n",
        "\n",
        "Используйте предобученную рекуррентную нейронную сеть (например, _DeepMoji_ или что-то подобное).\n",
        "\n",
        "Какой максимальный результат удалось получить на контрольной выборке?"
      ]
    }
  ]
}