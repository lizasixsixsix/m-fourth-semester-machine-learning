{
 "cells": [
  {
   "cell_type": "markdown",
   "metadata": {
    "colab_type": "text",
    "id": "L3rSI8Sri-M_"
   },
   "source": [
    "# Лабораторная работа №7\n",
    "\n",
    "## Рекуррентные нейронные сети для анализа текста"
   ]
  },
  {
   "cell_type": "markdown",
   "metadata": {
    "colab_type": "text",
    "id": "-SED2kKFjeQm"
   },
   "source": [
    "Набор данных для предсказания оценок для отзывов, собранных с сайта _imdb.com_, который состоит из 50,000 отзывов в виде текстовых файлов.\n",
    "\n",
    "Отзывы разделены на положительные (25,000) и отрицательные (25,000).\n",
    "\n",
    "Данные предварительно токенизированы по принципу «мешка слов», индексы слов можно взять из словаря (_imdb.vocab_).\n",
    "\n",
    "Обучающая выборка включает в себя 12,500 положительных и 12,500 отрицательных отзывов, контрольная выборка также содержит 12,500 положительных и 12,500 отрицательных отзывов.\n",
    "\n",
    "Данные можно скачать ~~на сайте _Kaggle_~~: ~~https://www.kaggle.com/iarunava/imdb-movie-reviews-dataset~~ https://ai.stanford.edu/~amaas/data/sentiment/"
   ]
  },
  {
   "cell_type": "markdown",
   "metadata": {
    "colab_type": "text",
    "id": "YvvJioiIkBuS"
   },
   "source": [
    "### Задание 1\n",
    "\n",
    "Загрузите данные. Преобразуйте текстовые файлы во внутренние структуры данных, которые используют индексы вместо слов."
   ]
  },
  {
   "cell_type": "markdown",
   "metadata": {
    "colab_type": "text",
    "id": "TeJvOnrrRCLy"
   },
   "source": [
    "Будем брать первые `MAX_LENGTH` слов, а если в отзыве слов меньше, чем это число, то применять паддинг."
   ]
  },
  {
   "cell_type": "code",
   "execution_count": 0,
   "metadata": {
    "colab": {},
    "colab_type": "code",
    "id": "3-Lj_d8LLHnv"
   },
   "outputs": [],
   "source": [
    "import warnings\n",
    "\n",
    "warnings.filterwarnings('ignore')"
   ]
  },
  {
   "cell_type": "code",
   "execution_count": 0,
   "metadata": {
    "colab": {
     "base_uri": "https://localhost:8080/",
     "height": 34
    },
    "colab_type": "code",
    "id": "m2xYxvFJ0xJj",
    "outputId": "f39784d9-5bc1-4576-cf40-d51c601c6269"
   },
   "outputs": [
    {
     "name": "stdout",
     "output_type": "stream",
     "text": [
      "Mounted at /content/drive\n"
     ]
    }
   ],
   "source": [
    "from google.colab import drive\n",
    "\n",
    "drive.mount('/content/drive', force_remount = True)"
   ]
  },
  {
   "cell_type": "code",
   "execution_count": 0,
   "metadata": {
    "colab": {},
    "colab_type": "code",
    "id": "7Yg-w4Aw1Ohq"
   },
   "outputs": [],
   "source": [
    "BASE_DIR = '/content/drive/My Drive/Colab Files/mo-2'\n",
    "\n",
    "import sys\n",
    "\n",
    "sys.path.append(BASE_DIR)\n",
    "\n",
    "import os"
   ]
  },
  {
   "cell_type": "code",
   "execution_count": 0,
   "metadata": {
    "colab": {},
    "colab_type": "code",
    "id": "UqlKvsJ41Rwy"
   },
   "outputs": [],
   "source": [
    "DATA_ARCHIVE_NAME = 'imdb-dataset-of-50k-movie-reviews.zip'\n",
    "\n",
    "LOCAL_DIR_NAME = 'imdb-sentiments'"
   ]
  },
  {
   "cell_type": "code",
   "execution_count": 0,
   "metadata": {
    "colab": {},
    "colab_type": "code",
    "id": "QLAwfqxe1b7Z"
   },
   "outputs": [],
   "source": [
    "from zipfile import ZipFile\n",
    "\n",
    "with ZipFile(os.path.join(BASE_DIR, DATA_ARCHIVE_NAME), 'r') as zip_:\n",
    "    zip_.extractall(LOCAL_DIR_NAME)"
   ]
  },
  {
   "cell_type": "code",
   "execution_count": 0,
   "metadata": {
    "colab": {},
    "colab_type": "code",
    "id": "m4Euqp8l1lUo"
   },
   "outputs": [],
   "source": [
    "DATA_FILE_PATH = 'imdb-sentiments/IMDB Dataset.csv'"
   ]
  },
  {
   "cell_type": "code",
   "execution_count": 0,
   "metadata": {
    "colab": {},
    "colab_type": "code",
    "id": "_X4fdpuo1vBT"
   },
   "outputs": [],
   "source": [
    "import pandas as pd\n",
    "\n",
    "all_df = pd.read_csv(DATA_FILE_PATH)"
   ]
  },
  {
   "cell_type": "code",
   "execution_count": 0,
   "metadata": {
    "colab": {},
    "colab_type": "code",
    "id": "5lfNokNS2t6W"
   },
   "outputs": [],
   "source": [
    "df_test = all_df.sample(frac = 0.1)\n",
    "\n",
    "df_train = all_df.drop(df_test.index)"
   ]
  },
  {
   "cell_type": "code",
   "execution_count": 0,
   "metadata": {
    "colab": {
     "base_uri": "https://localhost:8080/",
     "height": 34
    },
    "colab_type": "code",
    "id": "z2Jm_7561x9w",
    "outputId": "2ebd5bd7-93b0-4632-983f-f43a34918bda"
   },
   "outputs": [
    {
     "data": {
      "text/plain": [
       "((45000, 2), (5000, 2))"
      ]
     },
     "execution_count": 9,
     "metadata": {
      "tags": []
     },
     "output_type": "execute_result"
    }
   ],
   "source": [
    "df_train.shape, df_test.shape"
   ]
  },
  {
   "cell_type": "code",
   "execution_count": 0,
   "metadata": {
    "colab": {
     "base_uri": "https://localhost:8080/",
     "height": 70
    },
    "colab_type": "code",
    "id": "ViW4uNZt90u0",
    "outputId": "edfd90ef-7041-49a2-a681-fbbc90cc7dd0"
   },
   "outputs": [
    {
     "name": "stdout",
     "output_type": "stream",
     "text": [
      "[nltk_data] Downloading package punkt to /root/nltk_data...\n",
      "[nltk_data]   Package punkt is already up-to-date!\n"
     ]
    },
    {
     "data": {
      "text/plain": [
       "True"
      ]
     },
     "execution_count": 10,
     "metadata": {
      "tags": []
     },
     "output_type": "execute_result"
    }
   ],
   "source": [
    "import nltk\n",
    "\n",
    "nltk.download('punkt')"
   ]
  },
  {
   "cell_type": "code",
   "execution_count": 0,
   "metadata": {
    "colab": {},
    "colab_type": "code",
    "id": "Z6WR8PBaGygW"
   },
   "outputs": [],
   "source": [
    "MAX_LENGTH = 40\n",
    "\n",
    "STRING_DTYPE = '<U12'\n",
    "\n",
    "PADDING_TOKEN = 'PAD'\n",
    "\n",
    "LIMIT_OF_TOKENS = 100000"
   ]
  },
  {
   "cell_type": "code",
   "execution_count": 0,
   "metadata": {
    "colab": {},
    "colab_type": "code",
    "id": "Tivq-oQK-sW_"
   },
   "outputs": [],
   "source": [
    "from nltk import word_tokenize\n",
    "import numpy as np\n",
    "import string\n",
    "import re\n",
    "\n",
    "def tokenize_string(_string):\n",
    "    return  [tok_.lower() for tok_ in word_tokenize(_string)\n",
    "             if not re.fullmatch('[' + string.punctuation + ']+', tok_)]\n",
    "\n",
    "def pad(A, length):\n",
    "    arr = np.empty(length, dtype = STRING_DTYPE)\n",
    "    arr.fill(PADDING_TOKEN)\n",
    "    arr[:len(A)] = A\n",
    "    return arr\n",
    "\n",
    "def tokenize_row(_sentence):\n",
    "    return pad(tokenize_string(_sentence)[:MAX_LENGTH], MAX_LENGTH)\n",
    "\n",
    "def encode_row(_label):\n",
    "    return 1 if _label == 'positive' else 0\n",
    "\n",
    "def encode_and_tokenize(_dataframe):\n",
    "\n",
    "    tttt = _dataframe.apply(lambda row: tokenize_row(row['review']), axis = 1)\n",
    "    llll = _dataframe.apply(lambda row: encode_row(row['sentiment']), axis = 1)\n",
    "\n",
    "    data_dict_ = { 'label': llll, 'tokens': tttt }\n",
    "\n",
    "    encoded_and_tokenized_ = pd.DataFrame(data_dict_,\n",
    "                                          columns = ['label', 'tokens'])\n",
    "\n",
    "    return encoded_and_tokenized_"
   ]
  },
  {
   "cell_type": "code",
   "execution_count": 0,
   "metadata": {
    "colab": {},
    "colab_type": "code",
    "id": "fVEdzi_oEvkp"
   },
   "outputs": [],
   "source": [
    "df_train_tokenized = encode_and_tokenize(df_train)\n",
    "df_test_tokenized = encode_and_tokenize(df_test)"
   ]
  },
  {
   "cell_type": "code",
   "execution_count": 0,
   "metadata": {
    "colab": {},
    "colab_type": "code",
    "id": "tq8FJvCCKYbn"
   },
   "outputs": [],
   "source": [
    "from collections import Counter\n",
    "\n",
    "def get_tokens_list(_dataframe):\n",
    "    \n",
    "    all_tokens_ = []\n",
    "    \n",
    "    for sent_ in _dataframe['tokens'].values:\n",
    "        all_tokens_.extend(sent_)\n",
    "\n",
    "    tokens_counter_ = Counter(all_tokens_)\n",
    "                \n",
    "    return [t for t, _ in tokens_counter_.most_common(LIMIT_OF_TOKENS)]"
   ]
  },
  {
   "cell_type": "code",
   "execution_count": 0,
   "metadata": {
    "colab": {},
    "colab_type": "code",
    "id": "kcwmqBD8NnPS"
   },
   "outputs": [],
   "source": [
    "tokens_list = get_tokens_list(pd.concat([df_train_tokenized,\n",
    "                                         df_test_tokenized]))"
   ]
  },
  {
   "cell_type": "code",
   "execution_count": 0,
   "metadata": {
    "colab": {},
    "colab_type": "code",
    "id": "VBaHte_cN57P"
   },
   "outputs": [],
   "source": [
    "word_to_int_dict = {}\n",
    "\n",
    "word_to_int_dict.update(\n",
    "    {t : i for i, t in enumerate(tokens_list)})"
   ]
  },
  {
   "cell_type": "code",
   "execution_count": 0,
   "metadata": {
    "colab": {},
    "colab_type": "code",
    "id": "YitqCwMYO02P"
   },
   "outputs": [],
   "source": [
    "def intize_row(_tokens):\n",
    "    return np.array([word_to_int_dict[t]\n",
    "                if t in word_to_int_dict\n",
    "                else 0\n",
    "            for t in _tokens])\n",
    "\n",
    "def encode_and_tokenize(_dataframe):\n",
    "\n",
    "    iiii = _dataframe.apply(lambda row: intize_row(row['tokens']), axis = 1)\n",
    "\n",
    "    data_dict_ = { 'label': _dataframe['label'], 'ints': iiii }\n",
    "\n",
    "    intized_ = pd.DataFrame(data_dict_, columns = ['label', 'ints'])\n",
    "\n",
    "    return intized_"
   ]
  },
  {
   "cell_type": "code",
   "execution_count": 0,
   "metadata": {
    "colab": {},
    "colab_type": "code",
    "id": "HaVH0rXGPTFE"
   },
   "outputs": [],
   "source": [
    "df_train_intized = encode_and_tokenize(df_train_tokenized)\n",
    "df_test_intized = encode_and_tokenize(df_test_tokenized)"
   ]
  },
  {
   "cell_type": "markdown",
   "metadata": {
    "colab_type": "text",
    "id": "d9_f_zIukTGK"
   },
   "source": [
    "### Задание 2\n",
    "\n",
    "Реализуйте и обучите двунаправленную рекуррентную сеть (_LSTM_ или _GRU_).\n",
    "\n",
    "Какого качества классификации удалось достичь?"
   ]
  },
  {
   "cell_type": "code",
   "execution_count": 0,
   "metadata": {
    "colab": {},
    "colab_type": "code",
    "id": "s-f0LrGwRvI-"
   },
   "outputs": [],
   "source": [
    "! pip install tensorflow-gpu --pre --quiet"
   ]
  },
  {
   "cell_type": "code",
   "execution_count": 0,
   "metadata": {
    "colab": {},
    "colab_type": "code",
    "id": "56BJY9L3Rya4"
   },
   "outputs": [],
   "source": [
    "import tensorflow as tf\n",
    "\n",
    "tf.compat.v1.logging.set_verbosity(tf.compat.v1.logging.ERROR)\n",
    "\n",
    "from tensorflow import keras"
   ]
  },
  {
   "cell_type": "code",
   "execution_count": 0,
   "metadata": {
    "colab": {},
    "colab_type": "code",
    "id": "1lYKHRn1RMbB"
   },
   "outputs": [],
   "source": [
    "# To fix memory leak: https://github.com/tensorflow/tensorflow/issues/33009\n",
    "\n",
    "tf.compat.v1.disable_eager_execution()"
   ]
  },
  {
   "cell_type": "markdown",
   "metadata": {
    "colab_type": "text",
    "id": "sPBbuJMWH9FM"
   },
   "source": [
    "Здесь будем использовать такую конфигурацию рекуррентного _LSTM_-слоя, которая позволит использовать очень быструю _cuDNN_ имплементацию."
   ]
  },
  {
   "cell_type": "code",
   "execution_count": 0,
   "metadata": {
    "colab": {},
    "colab_type": "code",
    "id": "Jl8QgL8YR3MB"
   },
   "outputs": [],
   "source": [
    "from tensorflow.keras.models import Sequential\n",
    "from tensorflow.keras.layers import Bidirectional, LSTM, Dense\n",
    "\n",
    "# The requirements to use the cuDNN implementation are:\n",
    "# 1. `activation` == `tanh`\n",
    "# 2. `recurrent_activation` == `sigmoid`\n",
    "# 3. `recurrent_dropout` == 0\n",
    "# 4. `unroll` is `False`\n",
    "# 5. `use_bias` is `True`\n",
    "# 6. `reset_after` is `True`\n",
    "# 7. Inputs, if use masking, are strictly right-padded.\n",
    "\n",
    "model = tf.keras.Sequential()\n",
    "\n",
    "model.add(Bidirectional(LSTM(100, return_sequences = False),\n",
    "                        merge_mode = 'concat', input_shape = (MAX_LENGTH, 1)))\n",
    "model.add(Dense(1, activation = 'sigmoid'))"
   ]
  },
  {
   "cell_type": "code",
   "execution_count": 0,
   "metadata": {
    "colab": {
     "base_uri": "https://localhost:8080/",
     "height": 228
    },
    "colab_type": "code",
    "id": "0XOQCFPLSxAY",
    "outputId": "23cbd52f-23db-4b0f-e2f1-80dc56e17b93"
   },
   "outputs": [
    {
     "name": "stdout",
     "output_type": "stream",
     "text": [
      "Model: \"sequential\"\n",
      "_________________________________________________________________\n",
      "Layer (type)                 Output Shape              Param #   \n",
      "=================================================================\n",
      "bidirectional (Bidirectional (None, 200)               81600     \n",
      "_________________________________________________________________\n",
      "dense (Dense)                (None, 1)                 201       \n",
      "=================================================================\n",
      "Total params: 81,801\n",
      "Trainable params: 81,801\n",
      "Non-trainable params: 0\n",
      "_________________________________________________________________\n"
     ]
    }
   ],
   "source": [
    "model.compile(optimizer = 'adam',\n",
    "              loss = 'binary_crossentropy',\n",
    "              metrics = ['accuracy'])\n",
    "\n",
    "model.summary()"
   ]
  },
  {
   "cell_type": "code",
   "execution_count": 0,
   "metadata": {
    "colab": {},
    "colab_type": "code",
    "id": "0P7S_oSbUyqR"
   },
   "outputs": [],
   "source": [
    "X_train_intized = np.asarray(list(df_train_intized['ints'].values),\n",
    "                             dtype = float)[..., np.newaxis]\n",
    "X_test_intized = np.asarray(list(df_test_intized['ints'].values),\n",
    "                            dtype = float)[..., np.newaxis]\n",
    "\n",
    "y_train_intized = np.asarray(list(df_train_intized['label'].values))\n",
    "y_test_intized = np.asarray(list(df_test_intized['label'].values))"
   ]
  },
  {
   "cell_type": "code",
   "execution_count": 0,
   "metadata": {
    "colab": {},
    "colab_type": "code",
    "id": "VCBDllgPS5v4"
   },
   "outputs": [],
   "source": [
    "history = model.fit(x = X_train_intized, y = y_train_intized, epochs = 20,\n",
    "                    validation_split = 0.15, verbose = 0)"
   ]
  },
  {
   "cell_type": "code",
   "execution_count": 0,
   "metadata": {
    "colab": {},
    "colab_type": "code",
    "id": "p23z5zkYca8R"
   },
   "outputs": [],
   "source": [
    "%matplotlib inline\n",
    "\n",
    "import matplotlib.pyplot as plt\n",
    "import seaborn as sns\n",
    "from matplotlib import rcParams\n",
    "\n",
    "rcParams['figure.figsize'] = 8, 6\n",
    "\n",
    "sns.set()\n",
    "sns.set_palette(sns.color_palette('hls'))\n",
    "\n",
    "def plot_accuracy(_history,\n",
    "                  _train_acc_name = 'accuracy',\n",
    "                  _val_acc_name = 'val_accuracy'):\n",
    "\n",
    "    plt.plot(_history.history[_train_acc_name])\n",
    "    plt.plot(_history.history[_val_acc_name])\n",
    "\n",
    "    plt.title('Model accuracy')\n",
    "\n",
    "    plt.ylabel('Accuracy')\n",
    "    plt.xlabel('Epoch')\n",
    "\n",
    "    plt.legend(['Train', 'Validation'], loc = 'right')\n",
    "\n",
    "    plt.show()\n",
    "\n",
    "def plot_loss(_history):\n",
    "\n",
    "    plt.plot(_history.history['loss'])\n",
    "    plt.plot(_history.history['val_loss'])\n",
    "\n",
    "    plt.title('Model loss')\n",
    "\n",
    "    plt.ylabel('Loss')\n",
    "    plt.xlabel('Epoch')\n",
    "\n",
    "    plt.legend(['Train', 'Validation'], loc = 'right')\n",
    "\n",
    "    plt.show()"
   ]
  },
  {
   "cell_type": "code",
   "execution_count": 0,
   "metadata": {
    "colab": {
     "base_uri": "https://localhost:8080/",
     "height": 410
    },
    "colab_type": "code",
    "id": "5WN02E9Ecdls",
    "outputId": "41064804-47e8-48f4-d60d-c9ed1976202d"
   },
   "outputs": [
    {
     "data": {
      "image/png": "[encoded data removed]",
      "text/plain": [
       "<Figure size 576x432 with 1 Axes>"
      ]
     },
     "metadata": {
      "tags": []
     },
     "output_type": "display_data"
    }
   ],
   "source": [
    "plot_accuracy(history)"
   ]
  },
  {
   "cell_type": "code",
   "execution_count": 0,
   "metadata": {
    "colab": {
     "base_uri": "https://localhost:8080/",
     "height": 410
    },
    "colab_type": "code",
    "id": "gannGCwmQ-Wl",
    "outputId": "40d0f347-7a35-4c89-ab5b-8a2ab57aafa3"
   },
   "outputs": [
    {
     "data": {
      "image/png": "[encoded data removed]",
      "text/plain": [
       "<Figure size 576x432 with 1 Axes>"
      ]
     },
     "metadata": {
      "tags": []
     },
     "output_type": "display_data"
    }
   ],
   "source": [
    "plot_loss(history)"
   ]
  },
  {
   "cell_type": "code",
   "execution_count": 0,
   "metadata": {
    "colab": {
     "base_uri": "https://localhost:8080/",
     "height": 34
    },
    "colab_type": "code",
    "id": "iB5Yf25n5IDZ",
    "outputId": "725bbad7-2650-4c95-eaf3-01df4512040f"
   },
   "outputs": [
    {
     "name": "stdout",
     "output_type": "stream",
     "text": [
      "Test loss, test accuracy: [0.6782044233322143, 0.571]\n"
     ]
    }
   ],
   "source": [
    "results = model.evaluate(X_test_intized, y_test_intized)\n",
    "\n",
    "print('Test loss, test accuracy:', results)"
   ]
  },
  {
   "cell_type": "markdown",
   "metadata": {
    "colab_type": "text",
    "id": "77UZR8gEQzLX"
   },
   "source": [
    "На валидационной выборке удалось достичь точности 57%."
   ]
  },
  {
   "cell_type": "markdown",
   "metadata": {
    "colab_type": "text",
    "id": "x2DsAeq2kbGK"
   },
   "source": [
    "### Задание 3\n",
    "\n",
    "Используйте индексы слов и их различное внутреннее представление (_word2vec_, _glove_). Как влияет данное преобразование на качество классификации?"
   ]
  },
  {
   "cell_type": "markdown",
   "metadata": {
    "colab_type": "text",
    "id": "Ae7ziw75aupE"
   },
   "source": [
    "Используем 300-мерные вектора _FastTest_ &mdash; лучшую на сегодняшний день имплементацию word2vec: https://fasttext.cc/docs/en/english-vectors.html. Файл пришлось доработать &mdash; 9-я строка не читалась."
   ]
  },
  {
   "cell_type": "code",
   "execution_count": 0,
   "metadata": {
    "colab": {},
    "colab_type": "code",
    "id": "ckBXWDOka8ci"
   },
   "outputs": [],
   "source": [
    "# VECTORS_ARCHIVE_NAME = 'wiki-news-300d-1M-fixed.zip'\n",
    "\n",
    "# VECTORS_FILE_NAME = 'wiki-news-300d-1M-fixed.vec'\n",
    "\n",
    "# VECTORS_LOCAL_DIR_NAME = 'vectors'"
   ]
  },
  {
   "cell_type": "code",
   "execution_count": 0,
   "metadata": {
    "colab": {},
    "colab_type": "code",
    "id": "SNMIh9tmc_gq"
   },
   "outputs": [],
   "source": [
    "# with ZipFile(os.path.join(BASE_DIR, VECTORS_ARCHIVE_NAME), 'r') as zip_:\n",
    "#     zip_.extractall(VECTORS_LOCAL_DIR_NAME)"
   ]
  },
  {
   "cell_type": "markdown",
   "metadata": {
    "colab_type": "text",
    "id": "iZpMbmhxbXQS"
   },
   "source": [
    "Создадим уменьшенный словарь, содержащий только встреченные токены, чтобы уменьшить нагрузку на _Google Drive_:"
   ]
  },
  {
   "cell_type": "code",
   "execution_count": 0,
   "metadata": {
    "colab": {},
    "colab_type": "code",
    "id": "ZLWp8IDobtve"
   },
   "outputs": [],
   "source": [
    "# def build_vectors_dict(_actual_tokens, _vectors_file_path,\n",
    "#                        _unknown_token = 'unknown'):\n",
    "\n",
    "#     vec_data_ = pd.read_csv(_vectors_file_path, sep = ' ',\n",
    "#                             header = None, skiprows = [9])\n",
    "        \n",
    "#     actual_vectors_ = [x for x in vec_data_.values\n",
    "#                        if x[0] in _actual_tokens or x[0] == _unknown_token]\n",
    "\n",
    "#     return actual_vectors_"
   ]
  },
  {
   "cell_type": "code",
   "execution_count": 0,
   "metadata": {
    "colab": {},
    "colab_type": "code",
    "id": "kuxUELYlw-yp"
   },
   "outputs": [],
   "source": [
    "# actual_vectors = build_vectors_dict(tokens_list,\n",
    "#                                     os.path.join(VECTORS_LOCAL_DIR_NAME,\n",
    "#                                                  VECTORS_FILE_NAME))"
   ]
  },
  {
   "cell_type": "code",
   "execution_count": 0,
   "metadata": {
    "colab": {},
    "colab_type": "code",
    "id": "ACqhxpMRyeIA"
   },
   "outputs": [],
   "source": [
    "# vectors_np = np.array(actual_vectors)\n",
    "\n",
    "# vectors_dict = dict(zip(vectors_np[:, 0], vectors_np[:, 1:]))\n",
    "\n",
    "# vectors_dict_file_name = 'word-vec-dict-{}-items'.format(len(vectors_dict))\n",
    "\n",
    "# vectors_dict_file_path = os.path.join(BASE_DIR, vectors_dict_file_name)\n",
    "\n",
    "# np.savez_compressed(vectors_dict_file_path, vectors_dict, allow_pickle = True)"
   ]
  },
  {
   "cell_type": "code",
   "execution_count": 0,
   "metadata": {
    "colab": {},
    "colab_type": "code",
    "id": "Yf1Lw5ogehU0"
   },
   "outputs": [],
   "source": [
    "vectors_dict_file_path = (\n",
    "    './drive/My Drive/Colab Files/mo-2/word-vec-dict-56485-items.npz')"
   ]
  },
  {
   "cell_type": "code",
   "execution_count": 0,
   "metadata": {
    "colab": {},
    "colab_type": "code",
    "id": "utXOK7y5d6wy"
   },
   "outputs": [],
   "source": [
    "vectors_dict_data = np.load(vectors_dict_file_path, allow_pickle = True)\n",
    "\n",
    "vectors_dict = vectors_dict_data['arr_0'][()]"
   ]
  },
  {
   "cell_type": "code",
   "execution_count": 0,
   "metadata": {
    "colab": {},
    "colab_type": "code",
    "id": "vnMBGetre6w6"
   },
   "outputs": [],
   "source": [
    "VECTORS_LENGTH = 300"
   ]
  },
  {
   "cell_type": "code",
   "execution_count": 0,
   "metadata": {
    "colab": {},
    "colab_type": "code",
    "id": "EARSGQIJe-42"
   },
   "outputs": [],
   "source": [
    "def tokens_to_vectors(_word_to_vec_dict, _tokens, _unknown_token):\n",
    "    return [_word_to_vec_dict[t]\n",
    "                if t in _word_to_vec_dict\n",
    "                else _word_to_vec_dict[_unknown_token]\n",
    "            for t in _tokens]\n",
    "\n",
    "def row_to_vectors(_tokens):\n",
    "    return np.array(tokens_to_vectors(vectors_dict, _tokens, 'unknown'))\n",
    "\n",
    "def vectorize(_dataframe):\n",
    "\n",
    "    vvvv = _dataframe.apply(lambda row: row_to_vectors(row['tokens']), axis = 1)\n",
    "\n",
    "    data_dict_ = { 'label': _dataframe['label'], 'vectors': vvvv }\n",
    "\n",
    "    vectorized_ = pd.DataFrame(data_dict_, columns = ['label', 'vectors'])\n",
    "\n",
    "    return vectorized_"
   ]
  },
  {
   "cell_type": "code",
   "execution_count": 0,
   "metadata": {
    "colab": {},
    "colab_type": "code",
    "id": "k9An9BkGfBbT"
   },
   "outputs": [],
   "source": [
    "df_train_vectorized = vectorize(df_train_tokenized)\n",
    "df_test_vectorized = vectorize(df_test_tokenized)"
   ]
  },
  {
   "cell_type": "code",
   "execution_count": 0,
   "metadata": {
    "colab": {},
    "colab_type": "code",
    "id": "fBn_Xb67BFu6"
   },
   "outputs": [],
   "source": [
    "X_train_vectorized = np.asarray(list(df_train_vectorized['vectors'].values),\n",
    "                                dtype = float)\n",
    "X_test_vectorized = np.asarray(list(df_test_vectorized['vectors'].values),\n",
    "                               dtype = float)\n",
    "\n",
    "y_train_vectorized = np.asarray(list(df_train_vectorized['label'].values))\n",
    "y_test_vectorized = np.asarray(list(df_test_vectorized['label'].values))"
   ]
  },
  {
   "cell_type": "code",
   "execution_count": 0,
   "metadata": {
    "colab": {},
    "colab_type": "code",
    "id": "hLgWA1I5Af1C"
   },
   "outputs": [],
   "source": [
    "model_2 = tf.keras.Sequential()\n",
    "\n",
    "model_2.add(Bidirectional(LSTM(100, return_sequences = False),\n",
    "                          merge_mode = 'concat',\n",
    "                          input_shape = (MAX_LENGTH, VECTORS_LENGTH)))\n",
    "model_2.add(Dense(1, activation = 'sigmoid'))"
   ]
  },
  {
   "cell_type": "code",
   "execution_count": 0,
   "metadata": {
    "colab": {
     "base_uri": "https://localhost:8080/",
     "height": 228
    },
    "colab_type": "code",
    "id": "y4aP2xGUAg95",
    "outputId": "3db1c13e-4a09-4838-d463-5462f2a4563b"
   },
   "outputs": [
    {
     "name": "stdout",
     "output_type": "stream",
     "text": [
      "Model: \"sequential_1\"\n",
      "_________________________________________________________________\n",
      "Layer (type)                 Output Shape              Param #   \n",
      "=================================================================\n",
      "bidirectional_1 (Bidirection (None, 200)               320800    \n",
      "_________________________________________________________________\n",
      "dense_1 (Dense)              (None, 1)                 201       \n",
      "=================================================================\n",
      "Total params: 321,001\n",
      "Trainable params: 321,001\n",
      "Non-trainable params: 0\n",
      "_________________________________________________________________\n"
     ]
    }
   ],
   "source": [
    "model_2.compile(optimizer = 'adam',\n",
    "                loss = 'binary_crossentropy',\n",
    "                metrics = ['accuracy'])\n",
    "\n",
    "model_2.summary()"
   ]
  },
  {
   "cell_type": "code",
   "execution_count": 0,
   "metadata": {
    "colab": {},
    "colab_type": "code",
    "id": "pRer4D7hAjPs"
   },
   "outputs": [],
   "source": [
    "history_2 = model_2.fit(x = X_train_vectorized, y = y_train_vectorized,\n",
    "                        epochs = 20, validation_split = 0.15, verbose = 0)"
   ]
  },
  {
   "cell_type": "code",
   "execution_count": 44,
   "metadata": {
    "colab": {
     "base_uri": "https://localhost:8080/",
     "height": 410
    },
    "colab_type": "code",
    "id": "v_jswqw1cjZt",
    "outputId": "723539a3-8401-4c82-84ef-319af88d8d4d"
   },
   "outputs": [
    {
     "data": {
      "image/png": "[encoded data removed]",
      "text/plain": [
       "<Figure size 576x432 with 1 Axes>"
      ]
     },
     "metadata": {
      "tags": []
     },
     "output_type": "display_data"
    }
   ],
   "source": [
    "plot_accuracy(history_2)"
   ]
  },
  {
   "cell_type": "code",
   "execution_count": 45,
   "metadata": {
    "colab": {
     "base_uri": "https://localhost:8080/",
     "height": 410
    },
    "colab_type": "code",
    "id": "AQ5WfYy5RGAg",
    "outputId": "ddb7cb0b-ed02-4a72-a593-7dea34295bbe"
   },
   "outputs": [
    {
     "data": {
      "image/png": "[encoded data removed]",
      "text/plain": [
       "<Figure size 576x432 with 1 Axes>"
      ]
     },
     "metadata": {
      "tags": []
     },
     "output_type": "display_data"
    }
   ],
   "source": [
    "plot_loss(history_2)"
   ]
  },
  {
   "cell_type": "code",
   "execution_count": 46,
   "metadata": {
    "colab": {
     "base_uri": "https://localhost:8080/",
     "height": 34
    },
    "colab_type": "code",
    "id": "y3IrWkrg5r5D",
    "outputId": "b5342b9b-157a-4011-94a4-459134c91f2e"
   },
   "outputs": [
    {
     "name": "stdout",
     "output_type": "stream",
     "text": [
      "Test loss, test accuracy: [1.384592835521698, 0.7472]\n"
     ]
    }
   ],
   "source": [
    "results_2 = model_2.evaluate(X_test_vectorized, y_test_vectorized)\n",
    "\n",
    "print('Test loss, test accuracy:', results_2)"
   ]
  },
  {
   "cell_type": "markdown",
   "metadata": {
    "colab_type": "text",
    "id": "OMYZ-lb8v46D"
   },
   "source": [
    "Как и ожидалось, использование эмбеддингов показало лучший результат, чем кодирование слов просто целыми числами &mdash; 74%."
   ]
  },
  {
   "cell_type": "markdown",
   "metadata": {
    "colab_type": "text",
    "id": "D5-qnk0zkiE8"
   },
   "source": [
    "### Задание 4\n",
    "\n",
    "Поэкспериментируйте со структурой сети (добавьте больше рекуррентных, полносвязных или сверточных слоев). Как это повлияло на качество классификации?"
   ]
  },
  {
   "cell_type": "code",
   "execution_count": 0,
   "metadata": {
    "colab": {},
    "colab_type": "code",
    "id": "SlGF30EoJRvF"
   },
   "outputs": [],
   "source": [
    "model_3 = tf.keras.Sequential()\n",
    "\n",
    "model_3.add(Bidirectional(LSTM(5, return_sequences = True),\n",
    "                          merge_mode = 'concat', \n",
    "                          input_shape = (MAX_LENGTH, VECTORS_LENGTH)))\n",
    "model_3.add(LSTM(1, return_sequences = False))\n",
    "model_3.add(Dense(10, activation = 'linear'))\n",
    "model_3.add(Dense(1, activation = 'sigmoid'))"
   ]
  },
  {
   "cell_type": "code",
   "execution_count": 48,
   "metadata": {
    "colab": {
     "base_uri": "https://localhost:8080/",
     "height": 298
    },
    "colab_type": "code",
    "id": "4f95YCmTJaMd",
    "outputId": "bdb3a7fe-5330-4c67-aa77-59bb8b800338"
   },
   "outputs": [
    {
     "name": "stdout",
     "output_type": "stream",
     "text": [
      "Model: \"sequential_2\"\n",
      "_________________________________________________________________\n",
      "Layer (type)                 Output Shape              Param #   \n",
      "=================================================================\n",
      "bidirectional_2 (Bidirection (None, 40, 10)            12240     \n",
      "_________________________________________________________________\n",
      "lstm_3 (LSTM)                (None, 1)                 48        \n",
      "_________________________________________________________________\n",
      "dense_2 (Dense)              (None, 10)                20        \n",
      "_________________________________________________________________\n",
      "dense_3 (Dense)              (None, 1)                 11        \n",
      "=================================================================\n",
      "Total params: 12,319\n",
      "Trainable params: 12,319\n",
      "Non-trainable params: 0\n",
      "_________________________________________________________________\n"
     ]
    }
   ],
   "source": [
    "model_3.compile(optimizer = 'adam',\n",
    "                loss = 'binary_crossentropy',\n",
    "                metrics = ['accuracy'])\n",
    "\n",
    "model_3.summary()"
   ]
  },
  {
   "cell_type": "code",
   "execution_count": 0,
   "metadata": {
    "colab": {},
    "colab_type": "code",
    "id": "qucrLBmfJc4K"
   },
   "outputs": [],
   "source": [
    "history_3 = model_3.fit(x = X_train_vectorized, y = y_train_vectorized,\n",
    "                        validation_split = 0.15, epochs = 20, verbose = 0)"
   ]
  },
  {
   "cell_type": "code",
   "execution_count": 50,
   "metadata": {
    "colab": {
     "base_uri": "https://localhost:8080/",
     "height": 410
    },
    "colab_type": "code",
    "id": "WMNHzBhPiIxl",
    "outputId": "a537de96-d753-4225-dcb6-6af5d614a0ee"
   },
   "outputs": [
    {
     "data": {
      "image/png": "[encoded data removed]",
      "text/plain": [
       "<Figure size 576x432 with 1 Axes>"
      ]
     },
     "metadata": {
      "tags": []
     },
     "output_type": "display_data"
    }
   ],
   "source": [
    "plot_accuracy(history_3)"
   ]
  },
  {
   "cell_type": "code",
   "execution_count": 51,
   "metadata": {
    "colab": {
     "base_uri": "https://localhost:8080/",
     "height": 410
    },
    "colab_type": "code",
    "id": "zt8lr3fHRPMQ",
    "outputId": "c0de7430-2a38-4b9c-92e2-6b049dd9492a"
   },
   "outputs": [
    {
     "data": {
      "image/png": "[encoded data removed]",
      "text/plain": [
       "<Figure size 576x432 with 1 Axes>"
      ]
     },
     "metadata": {
      "tags": []
     },
     "output_type": "display_data"
    }
   ],
   "source": [
    "plot_loss(history_3)"
   ]
  },
  {
   "cell_type": "code",
   "execution_count": 52,
   "metadata": {
    "colab": {
     "base_uri": "https://localhost:8080/",
     "height": 34
    },
    "colab_type": "code",
    "id": "z-pX922T57QU",
    "outputId": "910730f5-60d4-4ebb-eee7-c98e152c01c9"
   },
   "outputs": [
    {
     "name": "stdout",
     "output_type": "stream",
     "text": [
      "Test loss, test accuracy: [0.4730978265762329, 0.7682]\n"
     ]
    }
   ],
   "source": [
    "results_3 = model_3.evaluate(X_test_vectorized, y_test_vectorized)\n",
    "\n",
    "print('Test loss, test accuracy:', results_3)"
   ]
  },
  {
   "cell_type": "markdown",
   "metadata": {
    "colab_type": "text",
    "id": "QjPIsrSpwICB"
   },
   "source": [
    "Добавление ещё одного рекуррентного слоя ненамного улучшило результат &mdash; точность 76% на тестовой выборке."
   ]
  },
  {
   "cell_type": "markdown",
   "metadata": {
    "colab_type": "text",
    "id": "EZ1LfR8dkrK8"
   },
   "source": [
    "### Задание 5\n",
    "\n",
    "Используйте предобученную рекуррентную нейронную сеть (например, _DeepMoji_ или что-то подобное).\n",
    "\n",
    "Какой максимальный результат удалось получить на контрольной выборке?"
   ]
  },
  {
   "cell_type": "markdown",
   "metadata": {
    "colab_type": "text",
    "id": "VKOTfQwNKHTW"
   },
   "source": [
    "На своих моделях удалось достигнуть максимальной точности 76% на тестовой выборке."
   ]
  }
 ],
 "metadata": {
  "accelerator": "GPU",
  "colab": {
   "collapsed_sections": [],
   "machine_shape": "hm",
   "name": "mo-2-7-0.ipynb",
   "provenance": [],
   "toc_visible": true
  },
  "kernelspec": {
   "display_name": "Python 3",
   "language": "python",
   "name": "python3"
  },
  "language_info": {
   "codemirror_mode": {
    "name": "ipython",
    "version": 3
   },
   "file_extension": ".py",
   "mimetype": "text/x-python",
   "name": "python",
   "nbconvert_exporter": "python",
   "pygments_lexer": "ipython3",
   "version": "3.7.3"
  }
 },
 "nbformat": 4,
 "nbformat_minor": 1
}
