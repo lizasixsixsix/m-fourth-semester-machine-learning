{
  "nbformat": 4,
  "nbformat_minor": 0,
  "metadata": {
    "colab": {
      "name": "mo-2-7-0.ipynb",
      "provenance": [],
      "collapsed_sections": [],
      "toc_visible": true,
      "machine_shape": "hm"
    },
    "kernelspec": {
      "name": "python3",
      "display_name": "Python 3"
    },
    "accelerator": "GPU"
  },
  "cells": [
    {
      "cell_type": "markdown",
      "metadata": {
        "id": "L3rSI8Sri-M_",
        "colab_type": "text"
      },
      "source": [
        "# Лабораторная работа №7\n",
        "\n",
        "## Рекуррентные нейронные сети для анализа текста"
      ]
    },
    {
      "cell_type": "markdown",
      "metadata": {
        "id": "-SED2kKFjeQm",
        "colab_type": "text"
      },
      "source": [
        "Набор данных для предсказания оценок для отзывов, собранных с сайта _imdb.com_, который состоит из 50,000 отзывов в виде текстовых файлов.\n",
        "\n",
        "Отзывы разделены на положительные (25,000) и отрицательные (25,000).\n",
        "\n",
        "Данные предварительно токенизированы по принципу «мешка слов», индексы слов можно взять из словаря (_imdb.vocab_).\n",
        "\n",
        "Обучающая выборка включает в себя 12,500 положительных и 12,500 отрицательных отзывов, контрольная выборка также содержит 12,500 положительных и 12,500 отрицательных отзывов.\n",
        "\n",
        "Данные можно скачать ~~на сайте _Kaggle_~~: ~~https://www.kaggle.com/iarunava/imdb-movie-reviews-dataset~~ https://ai.stanford.edu/~amaas/data/sentiment/"
      ]
    },
    {
      "cell_type": "markdown",
      "metadata": {
        "id": "YvvJioiIkBuS",
        "colab_type": "text"
      },
      "source": [
        "### Задание 1\n",
        "\n",
        "Загрузите данные. Преобразуйте текстовые файлы во внутренние структуры данных, которые используют индексы вместо слов."
      ]
    },
    {
      "cell_type": "markdown",
      "metadata": {
        "id": "TeJvOnrrRCLy",
        "colab_type": "text"
      },
      "source": [
        "Будем брать первые `MAX_LENGTH` слов, а если в отзыве слов меньше, чем это число, то применять паддинг."
      ]
    },
    {
      "cell_type": "code",
      "metadata": {
        "id": "m2xYxvFJ0xJj",
        "colab_type": "code",
        "outputId": "e0eaf1b3-b01f-40bc-9856-58a5719dcf1f",
        "colab": {
          "base_uri": "https://localhost:8080/",
          "height": 125
        }
      },
      "source": [
        "from google.colab import drive\n",
        "\n",
        "drive.mount('/content/drive', force_remount = True)"
      ],
      "execution_count": 4,
      "outputs": [
        {
          "output_type": "stream",
          "text": [
            "Go to this URL in a browser: https://accounts.google.com/o/oauth2/auth?client_id=947318989803-6bn6qk8qdgf4n4g3pfee6491hc0brc4i.apps.googleusercontent.com&redirect_uri=urn%3aietf%3awg%3aoauth%3a2.0%3aoob&response_type=code&scope=email%20https%3a%2f%2fwww.googleapis.com%2fauth%2fdocs.test%20https%3a%2f%2fwww.googleapis.com%2fauth%2fdrive%20https%3a%2f%2fwww.googleapis.com%2fauth%2fdrive.photos.readonly%20https%3a%2f%2fwww.googleapis.com%2fauth%2fpeopleapi.readonly\n",
            "\n",
            "Enter your authorization code:\n",
            "··········\n",
            "Mounted at /content/drive\n"
          ],
          "name": "stdout"
        }
      ]
    },
    {
      "cell_type": "code",
      "metadata": {
        "id": "7Yg-w4Aw1Ohq",
        "colab_type": "code",
        "colab": {}
      },
      "source": [
        "BASE_DIR = '/content/drive/My Drive/Colab Files/mo-2'\n",
        "\n",
        "import sys\n",
        "\n",
        "sys.path.append(BASE_DIR)\n",
        "\n",
        "import os"
      ],
      "execution_count": 0,
      "outputs": []
    },
    {
      "cell_type": "code",
      "metadata": {
        "id": "UqlKvsJ41Rwy",
        "colab_type": "code",
        "colab": {}
      },
      "source": [
        "DATA_ARCHIVE_NAME = 'imdb-dataset-of-50k-movie-reviews.zip'\n",
        "\n",
        "LOCAL_DIR_NAME = 'imdb-sentiments'"
      ],
      "execution_count": 0,
      "outputs": []
    },
    {
      "cell_type": "code",
      "metadata": {
        "id": "QLAwfqxe1b7Z",
        "colab_type": "code",
        "colab": {}
      },
      "source": [
        "from zipfile import ZipFile\n",
        "\n",
        "with ZipFile(os.path.join(BASE_DIR, DATA_ARCHIVE_NAME), 'r') as zip_:\n",
        "    zip_.extractall(LOCAL_DIR_NAME)"
      ],
      "execution_count": 0,
      "outputs": []
    },
    {
      "cell_type": "code",
      "metadata": {
        "id": "m4Euqp8l1lUo",
        "colab_type": "code",
        "colab": {}
      },
      "source": [
        "DATA_FILE_PATH = 'imdb-sentiments/IMDB Dataset.csv'"
      ],
      "execution_count": 0,
      "outputs": []
    },
    {
      "cell_type": "code",
      "metadata": {
        "id": "_X4fdpuo1vBT",
        "colab_type": "code",
        "colab": {}
      },
      "source": [
        "import pandas as pd\n",
        "\n",
        "all_df = pd.read_csv(DATA_FILE_PATH)"
      ],
      "execution_count": 0,
      "outputs": []
    },
    {
      "cell_type": "code",
      "metadata": {
        "id": "z2Jm_7561x9w",
        "colab_type": "code",
        "outputId": "169dea55-2957-4b09-9182-d4cb7e5d99d9",
        "colab": {
          "base_uri": "https://localhost:8080/",
          "height": 34
        }
      },
      "source": [
        "print(all_df.shape)"
      ],
      "execution_count": 10,
      "outputs": [
        {
          "output_type": "stream",
          "text": [
            "(50000, 2)\n"
          ],
          "name": "stdout"
        }
      ]
    },
    {
      "cell_type": "code",
      "metadata": {
        "id": "ViW4uNZt90u0",
        "colab_type": "code",
        "outputId": "18bfa418-4d75-4ddb-ac99-41ac1cc713da",
        "colab": {
          "base_uri": "https://localhost:8080/",
          "height": 70
        }
      },
      "source": [
        "import nltk\n",
        "\n",
        "nltk.download('punkt')"
      ],
      "execution_count": 11,
      "outputs": [
        {
          "output_type": "stream",
          "text": [
            "[nltk_data] Downloading package punkt to /root/nltk_data...\n",
            "[nltk_data]   Unzipping tokenizers/punkt.zip.\n"
          ],
          "name": "stdout"
        },
        {
          "output_type": "execute_result",
          "data": {
            "text/plain": [
              "True"
            ]
          },
          "metadata": {
            "tags": []
          },
          "execution_count": 11
        }
      ]
    },
    {
      "cell_type": "code",
      "metadata": {
        "id": "Z6WR8PBaGygW",
        "colab_type": "code",
        "colab": {}
      },
      "source": [
        "MAX_LENGTH = 40\n",
        "\n",
        "STRING_DTYPE = '<U12'\n",
        "\n",
        "PADDING_TOKEN = 'PAD'\n",
        "\n",
        "LIMIT_OF_TOKENS = 100000"
      ],
      "execution_count": 0,
      "outputs": []
    },
    {
      "cell_type": "code",
      "metadata": {
        "id": "Tivq-oQK-sW_",
        "colab_type": "code",
        "colab": {}
      },
      "source": [
        "from nltk import word_tokenize\n",
        "import numpy as np\n",
        "import string\n",
        "import re\n",
        "\n",
        "def tokenize_string(_string):\n",
        "    return  [tok_.lower() for tok_ in word_tokenize(_string) if not re.fullmatch('[' + string.punctuation + ']+', tok_)]\n",
        "\n",
        "def pad(A, length):\n",
        "    arr = np.empty(length, dtype = STRING_DTYPE)\n",
        "    arr.fill(PADDING_TOKEN)\n",
        "    arr[:len(A)] = A\n",
        "    return arr\n",
        "\n",
        "def tokenize_row(_sentence):\n",
        "    return pad(tokenize_string(_sentence)[:MAX_LENGTH], MAX_LENGTH)\n",
        "\n",
        "def encode_row(_label):\n",
        "    return 1 if _label == 'positive' else 0\n",
        "\n",
        "def encode_and_tokenize(_dataframe):\n",
        "\n",
        "    tttt = _dataframe.apply(lambda row: tokenize_row(row['review']), axis = 1)\n",
        "    llll = _dataframe.apply(lambda row: encode_row(row['sentiment']), axis = 1)\n",
        "\n",
        "    data_dict_ = { 'label': llll, 'tokens': tttt }\n",
        "\n",
        "    encoded_and_tokenized_ = pd.DataFrame(data_dict_, columns = ['label', 'tokens'])\n",
        "\n",
        "    return encoded_and_tokenized_"
      ],
      "execution_count": 0,
      "outputs": []
    },
    {
      "cell_type": "code",
      "metadata": {
        "id": "fVEdzi_oEvkp",
        "colab_type": "code",
        "colab": {}
      },
      "source": [
        "all_df_tokenized = encode_and_tokenize(all_df)"
      ],
      "execution_count": 0,
      "outputs": []
    },
    {
      "cell_type": "code",
      "metadata": {
        "id": "tq8FJvCCKYbn",
        "colab_type": "code",
        "colab": {}
      },
      "source": [
        "from collections import Counter\n",
        "\n",
        "def get_tokens_list(_dataframe):\n",
        "    \n",
        "    all_tokens_ = []\n",
        "    \n",
        "    for sent_ in _dataframe['tokens'].values:\n",
        "        all_tokens_.extend(sent_)\n",
        "\n",
        "    tokens_counter_ = Counter(all_tokens_)\n",
        "                \n",
        "    return [t for t, _ in tokens_counter_.most_common(LIMIT_OF_TOKENS)]"
      ],
      "execution_count": 0,
      "outputs": []
    },
    {
      "cell_type": "code",
      "metadata": {
        "id": "kcwmqBD8NnPS",
        "colab_type": "code",
        "colab": {}
      },
      "source": [
        "tokens_list = get_tokens_list(all_df_tokenized)"
      ],
      "execution_count": 0,
      "outputs": []
    },
    {
      "cell_type": "code",
      "metadata": {
        "id": "VBaHte_cN57P",
        "colab_type": "code",
        "colab": {}
      },
      "source": [
        "word_to_int_dict = {}\n",
        "\n",
        "word_to_int_dict.update(\n",
        "    {t : i for i, t in enumerate(tokens_list)})"
      ],
      "execution_count": 0,
      "outputs": []
    },
    {
      "cell_type": "code",
      "metadata": {
        "id": "YitqCwMYO02P",
        "colab_type": "code",
        "colab": {}
      },
      "source": [
        "def intize_row(_tokens):\n",
        "    return np.array([word_to_int_dict[t]\n",
        "                if t in word_to_int_dict\n",
        "                else 0\n",
        "            for t in _tokens])\n",
        "\n",
        "def encode_and_tokenize(_dataframe):\n",
        "\n",
        "    iiii = _dataframe.apply(lambda row: intize_row(row['tokens']), axis = 1)\n",
        "\n",
        "    data_dict_ = { 'label': _dataframe['label'], 'ints': iiii }\n",
        "\n",
        "    intized_ = pd.DataFrame(data_dict_, columns = ['label', 'ints'])\n",
        "\n",
        "    return intized_"
      ],
      "execution_count": 0,
      "outputs": []
    },
    {
      "cell_type": "code",
      "metadata": {
        "id": "HaVH0rXGPTFE",
        "colab_type": "code",
        "colab": {}
      },
      "source": [
        "all_df_intized = encode_and_tokenize(all_df_tokenized)"
      ],
      "execution_count": 0,
      "outputs": []
    },
    {
      "cell_type": "markdown",
      "metadata": {
        "id": "d9_f_zIukTGK",
        "colab_type": "text"
      },
      "source": [
        "### Задание 2\n",
        "\n",
        "Реализуйте и обучите двунаправленную рекуррентную сеть (_LSTM_ или _GRU_).\n",
        "\n",
        "Какого качества классификации удалось достичь?"
      ]
    },
    {
      "cell_type": "code",
      "metadata": {
        "id": "s-f0LrGwRvI-",
        "colab_type": "code",
        "outputId": "91c6c494-de50-4726-871b-62fe9190a05c",
        "colab": {
          "base_uri": "https://localhost:8080/",
          "height": 230
        }
      },
      "source": [
        "! pip install tensorflow-gpu --pre --quiet\n",
        "\n",
        "! pip show tensorflow-gpu"
      ],
      "execution_count": 20,
      "outputs": [
        {
          "output_type": "stream",
          "text": [
            "\u001b[K     |████████████████████████████████| 516.2MB 26kB/s \n",
            "\u001b[?25hName: tensorflow-gpu\n",
            "Version: 2.2.0rc3\n",
            "Summary: TensorFlow is an open source machine learning framework for everyone.\n",
            "Home-page: https://www.tensorflow.org/\n",
            "Author: Google Inc.\n",
            "Author-email: packages@tensorflow.org\n",
            "License: Apache 2.0\n",
            "Location: /usr/local/lib/python3.6/dist-packages\n",
            "Requires: h5py, wrapt, astunparse, absl-py, grpcio, wheel, numpy, tensorflow-estimator, termcolor, protobuf, six, scipy, tensorboard, google-pasta, opt-einsum, keras-preprocessing, gast\n",
            "Required-by: \n"
          ],
          "name": "stdout"
        }
      ]
    },
    {
      "cell_type": "code",
      "metadata": {
        "id": "56BJY9L3Rya4",
        "colab_type": "code",
        "colab": {}
      },
      "source": [
        "import tensorflow as tf\n",
        "from tensorflow import keras"
      ],
      "execution_count": 0,
      "outputs": []
    },
    {
      "cell_type": "markdown",
      "metadata": {
        "id": "sPBbuJMWH9FM",
        "colab_type": "text"
      },
      "source": [
        "Здесь будем использовать такую конфигурацию рекуррентного _LSTM_-слоя, которая позволит использовать очень быструю _cuDNN_ имплементацию."
      ]
    },
    {
      "cell_type": "code",
      "metadata": {
        "id": "Jl8QgL8YR3MB",
        "colab_type": "code",
        "colab": {}
      },
      "source": [
        "from tensorflow.keras.models import Sequential\n",
        "from tensorflow.keras.layers import Bidirectional, LSTM, Dense\n",
        "\n",
        "# The requirements to use the cuDNN implementation are:\n",
        "# 1. `activation` == `tanh`\n",
        "# 2. `recurrent_activation` == `sigmoid`\n",
        "# 3. `recurrent_dropout` == 0\n",
        "# 4. `unroll` is `False`\n",
        "# 5. `use_bias` is `True`\n",
        "# 6. `reset_after` is `True`\n",
        "# 7. Inputs, if use masking, are strictly right-padded.\n",
        "\n",
        "model = tf.keras.Sequential()\n",
        "\n",
        "model.add(Bidirectional(LSTM(100, return_sequences = False), merge_mode = 'concat',\n",
        "          input_shape = (MAX_LENGTH, 1)))\n",
        "model.add(Dense(1, activation = 'sigmoid'))"
      ],
      "execution_count": 0,
      "outputs": []
    },
    {
      "cell_type": "code",
      "metadata": {
        "id": "0XOQCFPLSxAY",
        "colab_type": "code",
        "outputId": "c443348f-13ed-4433-bcbd-e6a97bb64204",
        "colab": {
          "base_uri": "https://localhost:8080/",
          "height": 228
        }
      },
      "source": [
        "model.compile(optimizer = 'adam',\n",
        "              loss = 'binary_crossentropy',\n",
        "              metrics = ['accuracy'])\n",
        "\n",
        "model.summary()"
      ],
      "execution_count": 23,
      "outputs": [
        {
          "output_type": "stream",
          "text": [
            "Model: \"sequential\"\n",
            "_________________________________________________________________\n",
            "Layer (type)                 Output Shape              Param #   \n",
            "=================================================================\n",
            "bidirectional (Bidirectional (None, 200)               81600     \n",
            "_________________________________________________________________\n",
            "dense (Dense)                (None, 1)                 201       \n",
            "=================================================================\n",
            "Total params: 81,801\n",
            "Trainable params: 81,801\n",
            "Non-trainable params: 0\n",
            "_________________________________________________________________\n"
          ],
          "name": "stdout"
        }
      ]
    },
    {
      "cell_type": "code",
      "metadata": {
        "id": "0P7S_oSbUyqR",
        "colab_type": "code",
        "colab": {}
      },
      "source": [
        "X_intized = np.asarray(list(all_df_intized['ints'].values), dtype = float)[..., np.newaxis]\n",
        "\n",
        "y_intized = np.asarray(list(all_df_intized['label'].values))"
      ],
      "execution_count": 0,
      "outputs": []
    },
    {
      "cell_type": "code",
      "metadata": {
        "id": "VCBDllgPS5v4",
        "colab_type": "code",
        "outputId": "c59d8c82-6519-4809-8c72-8d37ce95fa8a",
        "colab": {
          "base_uri": "https://localhost:8080/",
          "height": 738
        }
      },
      "source": [
        "model.fit(x = X_intized, y = y_intized, validation_split = 0.15, epochs = 20)"
      ],
      "execution_count": 25,
      "outputs": [
        {
          "output_type": "stream",
          "text": [
            "Epoch 1/20\n",
            "1329/1329 [==============================] - 12s 9ms/step - loss: 0.6934 - accuracy: 0.5194 - val_loss: 0.6916 - val_accuracy: 0.5212\n",
            "Epoch 2/20\n",
            "1329/1329 [==============================] - 12s 9ms/step - loss: 0.6891 - accuracy: 0.5383 - val_loss: 0.6863 - val_accuracy: 0.5469\n",
            "Epoch 3/20\n",
            "1329/1329 [==============================] - 12s 9ms/step - loss: 0.6865 - accuracy: 0.5456 - val_loss: 0.6886 - val_accuracy: 0.5521\n",
            "Epoch 4/20\n",
            "1329/1329 [==============================] - 11s 9ms/step - loss: 0.6854 - accuracy: 0.5498 - val_loss: 0.6851 - val_accuracy: 0.5471\n",
            "Epoch 5/20\n",
            "1329/1329 [==============================] - 12s 9ms/step - loss: 0.6834 - accuracy: 0.5567 - val_loss: 0.6832 - val_accuracy: 0.5568\n",
            "Epoch 6/20\n",
            "1329/1329 [==============================] - 12s 9ms/step - loss: 0.6808 - accuracy: 0.5618 - val_loss: 0.6833 - val_accuracy: 0.5593\n",
            "Epoch 7/20\n",
            "1329/1329 [==============================] - 12s 9ms/step - loss: 0.6800 - accuracy: 0.5645 - val_loss: 0.6820 - val_accuracy: 0.5577\n",
            "Epoch 8/20\n",
            "1329/1329 [==============================] - 12s 9ms/step - loss: 0.6778 - accuracy: 0.5670 - val_loss: 0.6809 - val_accuracy: 0.5635\n",
            "Epoch 9/20\n",
            "1329/1329 [==============================] - 12s 9ms/step - loss: 0.6757 - accuracy: 0.5746 - val_loss: 0.6857 - val_accuracy: 0.5521\n",
            "Epoch 10/20\n",
            "1329/1329 [==============================] - 12s 9ms/step - loss: 0.6736 - accuracy: 0.5765 - val_loss: 0.6799 - val_accuracy: 0.5637\n",
            "Epoch 11/20\n",
            "1329/1329 [==============================] - 12s 9ms/step - loss: 0.6711 - accuracy: 0.5819 - val_loss: 0.6767 - val_accuracy: 0.5691\n",
            "Epoch 12/20\n",
            "1329/1329 [==============================] - 11s 9ms/step - loss: 0.6706 - accuracy: 0.5787 - val_loss: 0.6754 - val_accuracy: 0.5721\n",
            "Epoch 13/20\n",
            "1329/1329 [==============================] - 12s 9ms/step - loss: 0.6679 - accuracy: 0.5852 - val_loss: 0.6756 - val_accuracy: 0.5692\n",
            "Epoch 14/20\n",
            "1329/1329 [==============================] - 12s 9ms/step - loss: 0.6653 - accuracy: 0.5891 - val_loss: 0.6769 - val_accuracy: 0.5640\n",
            "Epoch 15/20\n",
            "1329/1329 [==============================] - 11s 9ms/step - loss: 0.6634 - accuracy: 0.5924 - val_loss: 0.6716 - val_accuracy: 0.5820\n",
            "Epoch 16/20\n",
            "1329/1329 [==============================] - 12s 9ms/step - loss: 0.6602 - accuracy: 0.5960 - val_loss: 0.6729 - val_accuracy: 0.5759\n",
            "Epoch 17/20\n",
            "1329/1329 [==============================] - 11s 9ms/step - loss: 0.6577 - accuracy: 0.5983 - val_loss: 0.6755 - val_accuracy: 0.5707\n",
            "Epoch 18/20\n",
            "1329/1329 [==============================] - 12s 9ms/step - loss: 0.6553 - accuracy: 0.6018 - val_loss: 0.6759 - val_accuracy: 0.5656\n",
            "Epoch 19/20\n",
            "1329/1329 [==============================] - 12s 9ms/step - loss: 0.6518 - accuracy: 0.6063 - val_loss: 0.6729 - val_accuracy: 0.5727\n",
            "Epoch 20/20\n",
            "1329/1329 [==============================] - 11s 9ms/step - loss: 0.6495 - accuracy: 0.6098 - val_loss: 0.6715 - val_accuracy: 0.5848\n"
          ],
          "name": "stdout"
        },
        {
          "output_type": "execute_result",
          "data": {
            "text/plain": [
              "<tensorflow.python.keras.callbacks.History at 0x7fadd1bdadd8>"
            ]
          },
          "metadata": {
            "tags": []
          },
          "execution_count": 25
        }
      ]
    },
    {
      "cell_type": "markdown",
      "metadata": {
        "id": "77UZR8gEQzLX",
        "colab_type": "text"
      },
      "source": [
        "Как и ожидалось, использование эмбеддингов показало лучший результат, чем кодирование слов просто целыми числами."
      ]
    },
    {
      "cell_type": "markdown",
      "metadata": {
        "id": "x2DsAeq2kbGK",
        "colab_type": "text"
      },
      "source": [
        "### Задание 3\n",
        "\n",
        "Используйте индексы слов и их различное внутреннее представление (_word2vec_, _glove_). Как влияет данное преобразование на качество классификации?"
      ]
    },
    {
      "cell_type": "markdown",
      "metadata": {
        "id": "Ae7ziw75aupE",
        "colab_type": "text"
      },
      "source": [
        "Используем 300-мерные вектора _FastTest_ &mdash; лучшую на сегодняшний день имплементацию word2vec: https://fasttext.cc/docs/en/english-vectors.html. Файл пришлось доработать &mdash; 9-я строка не читалась."
      ]
    },
    {
      "cell_type": "code",
      "metadata": {
        "id": "ckBXWDOka8ci",
        "colab_type": "code",
        "colab": {}
      },
      "source": [
        "# VECTORS_ARCHIVE_NAME = 'wiki-news-300d-1M-fixed.zip'\n",
        "\n",
        "# VECTORS_FILE_NAME = 'wiki-news-300d-1M-fixed.vec'\n",
        "\n",
        "# VECTORS_LOCAL_DIR_NAME = 'vectors'"
      ],
      "execution_count": 0,
      "outputs": []
    },
    {
      "cell_type": "code",
      "metadata": {
        "id": "SNMIh9tmc_gq",
        "colab_type": "code",
        "colab": {}
      },
      "source": [
        "# with ZipFile(os.path.join(BASE_DIR, VECTORS_ARCHIVE_NAME), 'r') as zip_:\n",
        "#     zip_.extractall(VECTORS_LOCAL_DIR_NAME)"
      ],
      "execution_count": 0,
      "outputs": []
    },
    {
      "cell_type": "markdown",
      "metadata": {
        "id": "iZpMbmhxbXQS",
        "colab_type": "text"
      },
      "source": [
        "Создадим уменьшенный словарь, содержащий только встреченные токены, чтобы уменьшить нагрузку на _Google Drive_:"
      ]
    },
    {
      "cell_type": "code",
      "metadata": {
        "id": "ZLWp8IDobtve",
        "colab_type": "code",
        "colab": {}
      },
      "source": [
        "# def build_vectors_dict(_actual_tokens, _vectors_file_path, _unknown_token = 'unknown'):\n",
        "\n",
        "#     vec_data_ = pd.read_csv(_vectors_file_path, sep = ' ', header = None, skiprows = [9])\n",
        "        \n",
        "#     actual_vectors_ = [x for x in vec_data_.values if x[0] in _actual_tokens or x[0] == _unknown_token]\n",
        "\n",
        "#     return actual_vectors_"
      ],
      "execution_count": 0,
      "outputs": []
    },
    {
      "cell_type": "code",
      "metadata": {
        "id": "kuxUELYlw-yp",
        "colab_type": "code",
        "colab": {}
      },
      "source": [
        "# actual_vectors = build_vectors_dict(tokens_list, os.path.join(VECTORS_LOCAL_DIR_NAME, VECTORS_FILE_NAME))"
      ],
      "execution_count": 0,
      "outputs": []
    },
    {
      "cell_type": "code",
      "metadata": {
        "id": "ACqhxpMRyeIA",
        "colab_type": "code",
        "colab": {}
      },
      "source": [
        "# vectors_np = np.array(actual_vectors)\n",
        "\n",
        "# vectors_dict = dict(zip(vectors_np[:, 0], vectors_np[:, 1:]))\n",
        "\n",
        "# vectors_dict_file_name = 'word-vec-dict-{}-items'.format(len(vectors_dict))\n",
        "\n",
        "# vectors_dict_file_path = os.path.join(BASE_DIR, vectors_dict_file_name)\n",
        "\n",
        "# np.savez_compressed(vectors_dict_file_path, vectors_dict, allow_pickle = True)"
      ],
      "execution_count": 0,
      "outputs": []
    },
    {
      "cell_type": "code",
      "metadata": {
        "id": "Yf1Lw5ogehU0",
        "colab_type": "code",
        "colab": {}
      },
      "source": [
        "vectors_dict_file_path = './drive/My Drive/Colab Files/mo-2/word-vec-dict-56485-items.npz'"
      ],
      "execution_count": 0,
      "outputs": []
    },
    {
      "cell_type": "code",
      "metadata": {
        "id": "utXOK7y5d6wy",
        "colab_type": "code",
        "colab": {}
      },
      "source": [
        "vectors_dict_data = np.load(vectors_dict_file_path, allow_pickle = True)\n",
        "\n",
        "vectors_dict = vectors_dict_data['arr_0'][()]"
      ],
      "execution_count": 0,
      "outputs": []
    },
    {
      "cell_type": "code",
      "metadata": {
        "id": "vnMBGetre6w6",
        "colab_type": "code",
        "colab": {}
      },
      "source": [
        "VECTORS_LENGTH = 300"
      ],
      "execution_count": 0,
      "outputs": []
    },
    {
      "cell_type": "code",
      "metadata": {
        "id": "EARSGQIJe-42",
        "colab_type": "code",
        "colab": {}
      },
      "source": [
        "def tokens_to_vectors(_word_to_vec_dict, _tokens, _unknown_token):\n",
        "    return [_word_to_vec_dict[t]\n",
        "                if t in _word_to_vec_dict\n",
        "                else _word_to_vec_dict[_unknown_token]\n",
        "            for t in _tokens]\n",
        "\n",
        "def row_to_vectors(_tokens):\n",
        "    return np.array(tokens_to_vectors(vectors_dict, _tokens, 'unknown'))\n",
        "\n",
        "def vectorize(_dataframe):\n",
        "\n",
        "    vvvv = _dataframe.apply(lambda row: row_to_vectors(row['tokens']), axis = 1)\n",
        "\n",
        "    data_dict_ = { 'label': _dataframe['label'], 'vectors': vvvv }\n",
        "\n",
        "    vectorized_ = pd.DataFrame(data_dict_, columns = ['label', 'vectors'])\n",
        "\n",
        "    return vectorized_"
      ],
      "execution_count": 0,
      "outputs": []
    },
    {
      "cell_type": "code",
      "metadata": {
        "id": "k9An9BkGfBbT",
        "colab_type": "code",
        "colab": {}
      },
      "source": [
        "all_df_vectorized = vectorize(all_df_tokenized)"
      ],
      "execution_count": 0,
      "outputs": []
    },
    {
      "cell_type": "code",
      "metadata": {
        "id": "fBn_Xb67BFu6",
        "colab_type": "code",
        "colab": {}
      },
      "source": [
        "X_vectorized = np.asarray(list(all_df_vectorized['vectors'].values), dtype = float)\n",
        "\n",
        "y_vectorized = np.asarray(list(all_df_intized['label'].values))"
      ],
      "execution_count": 0,
      "outputs": []
    },
    {
      "cell_type": "code",
      "metadata": {
        "id": "hLgWA1I5Af1C",
        "colab_type": "code",
        "colab": {}
      },
      "source": [
        "model_2 = tf.keras.Sequential()\n",
        "\n",
        "model_2.add(Bidirectional(LSTM(100, return_sequences = False), merge_mode = 'concat',\n",
        "            input_shape = (MAX_LENGTH, VECTORS_LENGTH)))\n",
        "model_2.add(Dense(1, activation = 'sigmoid'))"
      ],
      "execution_count": 0,
      "outputs": []
    },
    {
      "cell_type": "code",
      "metadata": {
        "id": "y4aP2xGUAg95",
        "colab_type": "code",
        "colab": {}
      },
      "source": [
        "model_2.compile(optimizer = 'adam',\n",
        "                loss = 'binary_crossentropy',\n",
        "                metrics = ['accuracy'])\n",
        "\n",
        "model_2.summary()"
      ],
      "execution_count": 0,
      "outputs": []
    },
    {
      "cell_type": "code",
      "metadata": {
        "id": "pRer4D7hAjPs",
        "colab_type": "code",
        "colab": {}
      },
      "source": [
        "model_2.fit(x = X_vectorized, y = y_vectorized, validation_split = 0.15, epochs = 20)"
      ],
      "execution_count": 0,
      "outputs": []
    },
    {
      "cell_type": "markdown",
      "metadata": {
        "id": "D5-qnk0zkiE8",
        "colab_type": "text"
      },
      "source": [
        "### Задание 4\n",
        "\n",
        "Поэкспериментируйте со структурой сети (добавьте больше рекуррентных, полносвязных или сверточных слоев). Как это повлияло на качество классификации?"
      ]
    },
    {
      "cell_type": "code",
      "metadata": {
        "id": "SlGF30EoJRvF",
        "colab_type": "code",
        "colab": {}
      },
      "source": [
        "model_3 = tf.keras.Sequential()\n",
        "\n",
        "model_3.add(Bidirectional(LSTM(10, return_sequences = False), merge_mode = 'concat',\n",
        "model_3.add(Bidirectional(LSTM(10, return_sequences = False), merge_mode = 'concat'))\n",
        "model_3.add(Dense(100, activation = 'linear'))\n",
        "model_3.add(Dense(1, activation = 'sigmoid'))"
      ],
      "execution_count": 0,
      "outputs": []
    },
    {
      "cell_type": "code",
      "metadata": {
        "id": "4f95YCmTJaMd",
        "colab_type": "code",
        "colab": {}
      },
      "source": [
        "model_3.compile(optimizer = 'adam',\n",
        "                loss = 'binary_crossentropy',\n",
        "                metrics = ['accuracy'])\n",
        "\n",
        "model_3.summary()"
      ],
      "execution_count": 0,
      "outputs": []
    },
    {
      "cell_type": "code",
      "metadata": {
        "id": "qucrLBmfJc4K",
        "colab_type": "code",
        "colab": {}
      },
      "source": [
        "model_3.fit(x = X_vectorized, y = y_vectorized, validation_split = 0.15, epochs = 20)"
      ],
      "execution_count": 0,
      "outputs": []
    },
    {
      "cell_type": "markdown",
      "metadata": {
        "id": "EZ1LfR8dkrK8",
        "colab_type": "text"
      },
      "source": [
        "### Задание 5\n",
        "\n",
        "Используйте предобученную рекуррентную нейронную сеть (например, _DeepMoji_ или что-то подобное).\n",
        "\n",
        "Какой максимальный результат удалось получить на контрольной выборке?"
      ]
    }
  ]
}