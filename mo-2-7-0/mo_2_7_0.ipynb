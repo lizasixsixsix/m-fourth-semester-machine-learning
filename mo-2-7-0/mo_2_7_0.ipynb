{
  "nbformat": 4,
  "nbformat_minor": 0,
  "metadata": {
    "colab": {
      "name": "mo-2-7-0.ipynb",
      "provenance": [],
      "collapsed_sections": [],
      "toc_visible": true,
      "machine_shape": "hm"
    },
    "kernelspec": {
      "name": "python3",
      "display_name": "Python 3"
    },
    "accelerator": "GPU"
  },
  "cells": [
    {
      "cell_type": "markdown",
      "metadata": {
        "id": "L3rSI8Sri-M_",
        "colab_type": "text"
      },
      "source": [
        "# Лабораторная работа №7\n",
        "\n",
        "## Рекуррентные нейронные сети для анализа текста"
      ]
    },
    {
      "cell_type": "markdown",
      "metadata": {
        "id": "-SED2kKFjeQm",
        "colab_type": "text"
      },
      "source": [
        "Набор данных для предсказания оценок для отзывов, собранных с сайта _imdb.com_, который состоит из 50,000 отзывов в виде текстовых файлов.\n",
        "\n",
        "Отзывы разделены на положительные (25,000) и отрицательные (25,000).\n",
        "\n",
        "Данные предварительно токенизированы по принципу «мешка слов», индексы слов можно взять из словаря (_imdb.vocab_).\n",
        "\n",
        "Обучающая выборка включает в себя 12,500 положительных и 12,500 отрицательных отзывов, контрольная выборка также содержит 12,500 положительных и 12,500 отрицательных отзывов.\n",
        "\n",
        "Данные можно скачать ~~на сайте _Kaggle_~~: ~~https://www.kaggle.com/iarunava/imdb-movie-reviews-dataset~~ https://ai.stanford.edu/~amaas/data/sentiment/"
      ]
    },
    {
      "cell_type": "markdown",
      "metadata": {
        "id": "YvvJioiIkBuS",
        "colab_type": "text"
      },
      "source": [
        "### Задание 1\n",
        "\n",
        "Загрузите данные. Преобразуйте текстовые файлы во внутренние структуры данных, которые используют индексы вместо слов."
      ]
    },
    {
      "cell_type": "markdown",
      "metadata": {
        "id": "TeJvOnrrRCLy",
        "colab_type": "text"
      },
      "source": [
        "Будем брать первые `MAX_LENGTH` слов, а если в отзыве слов меньше, чем это число, то применять паддинг."
      ]
    },
    {
      "cell_type": "code",
      "metadata": {
        "id": "m2xYxvFJ0xJj",
        "colab_type": "code",
        "outputId": "acfd2b06-acf7-41e6-e297-3b51c1e4b7bf",
        "colab": {
          "base_uri": "https://localhost:8080/",
          "height": 125
        }
      },
      "source": [
        "from google.colab import drive\n",
        "\n",
        "drive.mount('/content/drive', force_remount = True)"
      ],
      "execution_count": 0,
      "outputs": [
        {
          "output_type": "stream",
          "text": [
            "Go to this URL in a browser: https://accounts.google.com/o/oauth2/auth?client_id=947318989803-6bn6qk8qdgf4n4g3pfee6491hc0brc4i.apps.googleusercontent.com&redirect_uri=urn%3aietf%3awg%3aoauth%3a2.0%3aoob&response_type=code&scope=email%20https%3a%2f%2fwww.googleapis.com%2fauth%2fdocs.test%20https%3a%2f%2fwww.googleapis.com%2fauth%2fdrive%20https%3a%2f%2fwww.googleapis.com%2fauth%2fdrive.photos.readonly%20https%3a%2f%2fwww.googleapis.com%2fauth%2fpeopleapi.readonly\n",
            "\n",
            "Enter your authorization code:\n",
            "··········\n",
            "Mounted at /content/drive\n"
          ],
          "name": "stdout"
        }
      ]
    },
    {
      "cell_type": "code",
      "metadata": {
        "id": "7Yg-w4Aw1Ohq",
        "colab_type": "code",
        "colab": {}
      },
      "source": [
        "BASE_DIR = '/content/drive/My Drive/Colab Files/mo-2'\n",
        "\n",
        "import sys\n",
        "\n",
        "sys.path.append(BASE_DIR)\n",
        "\n",
        "import os"
      ],
      "execution_count": 0,
      "outputs": []
    },
    {
      "cell_type": "code",
      "metadata": {
        "id": "UqlKvsJ41Rwy",
        "colab_type": "code",
        "colab": {}
      },
      "source": [
        "DATA_ARCHIVE_NAME = 'imdb-dataset-of-50k-movie-reviews.zip'\n",
        "\n",
        "LOCAL_DIR_NAME = 'imdb-sentiments'"
      ],
      "execution_count": 0,
      "outputs": []
    },
    {
      "cell_type": "code",
      "metadata": {
        "id": "QLAwfqxe1b7Z",
        "colab_type": "code",
        "colab": {}
      },
      "source": [
        "from zipfile import ZipFile\n",
        "\n",
        "with ZipFile(os.path.join(BASE_DIR, DATA_ARCHIVE_NAME), 'r') as zip_:\n",
        "    zip_.extractall(LOCAL_DIR_NAME)"
      ],
      "execution_count": 0,
      "outputs": []
    },
    {
      "cell_type": "code",
      "metadata": {
        "id": "m4Euqp8l1lUo",
        "colab_type": "code",
        "colab": {}
      },
      "source": [
        "DATA_FILE_PATH = 'imdb-sentiments/IMDB Dataset.csv'"
      ],
      "execution_count": 0,
      "outputs": []
    },
    {
      "cell_type": "code",
      "metadata": {
        "id": "_X4fdpuo1vBT",
        "colab_type": "code",
        "colab": {}
      },
      "source": [
        "import pandas as pd\n",
        "\n",
        "all_df = pd.read_csv(DATA_FILE_PATH)"
      ],
      "execution_count": 0,
      "outputs": []
    },
    {
      "cell_type": "code",
      "metadata": {
        "id": "5lfNokNS2t6W",
        "colab_type": "code",
        "colab": {}
      },
      "source": [
        "df_test = all_df.sample(frac = 0.1)\n",
        "\n",
        "df_train = all_df.drop(df_test.index)"
      ],
      "execution_count": 0,
      "outputs": []
    },
    {
      "cell_type": "code",
      "metadata": {
        "id": "z2Jm_7561x9w",
        "colab_type": "code",
        "outputId": "8d3a2eb8-40e0-42c1-a7c6-9242d1d82f25",
        "colab": {
          "base_uri": "https://localhost:8080/",
          "height": 34
        }
      },
      "source": [
        "df_train.shape, df_test.shape"
      ],
      "execution_count": 0,
      "outputs": [
        {
          "output_type": "execute_result",
          "data": {
            "text/plain": [
              "((45000, 2), (5000, 2))"
            ]
          },
          "metadata": {
            "tags": []
          },
          "execution_count": 8
        }
      ]
    },
    {
      "cell_type": "code",
      "metadata": {
        "id": "ViW4uNZt90u0",
        "colab_type": "code",
        "outputId": "bb82f08f-d9c8-4985-9282-6c7a22e9acd5",
        "colab": {
          "base_uri": "https://localhost:8080/",
          "height": 70
        }
      },
      "source": [
        "import nltk\n",
        "\n",
        "nltk.download('punkt')"
      ],
      "execution_count": 0,
      "outputs": [
        {
          "output_type": "stream",
          "text": [
            "[nltk_data] Downloading package punkt to /root/nltk_data...\n",
            "[nltk_data]   Unzipping tokenizers/punkt.zip.\n"
          ],
          "name": "stdout"
        },
        {
          "output_type": "execute_result",
          "data": {
            "text/plain": [
              "True"
            ]
          },
          "metadata": {
            "tags": []
          },
          "execution_count": 9
        }
      ]
    },
    {
      "cell_type": "code",
      "metadata": {
        "id": "Z6WR8PBaGygW",
        "colab_type": "code",
        "colab": {}
      },
      "source": [
        "MAX_LENGTH = 40\n",
        "\n",
        "STRING_DTYPE = '<U12'\n",
        "\n",
        "PADDING_TOKEN = 'PAD'\n",
        "\n",
        "LIMIT_OF_TOKENS = 100000"
      ],
      "execution_count": 0,
      "outputs": []
    },
    {
      "cell_type": "code",
      "metadata": {
        "id": "Tivq-oQK-sW_",
        "colab_type": "code",
        "colab": {}
      },
      "source": [
        "from nltk import word_tokenize\n",
        "import numpy as np\n",
        "import string\n",
        "import re\n",
        "\n",
        "def tokenize_string(_string):\n",
        "    return  [tok_.lower() for tok_ in word_tokenize(_string) if not re.fullmatch('[' + string.punctuation + ']+', tok_)]\n",
        "\n",
        "def pad(A, length):\n",
        "    arr = np.empty(length, dtype = STRING_DTYPE)\n",
        "    arr.fill(PADDING_TOKEN)\n",
        "    arr[:len(A)] = A\n",
        "    return arr\n",
        "\n",
        "def tokenize_row(_sentence):\n",
        "    return pad(tokenize_string(_sentence)[:MAX_LENGTH], MAX_LENGTH)\n",
        "\n",
        "def encode_row(_label):\n",
        "    return 1 if _label == 'positive' else 0\n",
        "\n",
        "def encode_and_tokenize(_dataframe):\n",
        "\n",
        "    tttt = _dataframe.apply(lambda row: tokenize_row(row['review']), axis = 1)\n",
        "    llll = _dataframe.apply(lambda row: encode_row(row['sentiment']), axis = 1)\n",
        "\n",
        "    data_dict_ = { 'label': llll, 'tokens': tttt }\n",
        "\n",
        "    encoded_and_tokenized_ = pd.DataFrame(data_dict_, columns = ['label', 'tokens'])\n",
        "\n",
        "    return encoded_and_tokenized_"
      ],
      "execution_count": 0,
      "outputs": []
    },
    {
      "cell_type": "code",
      "metadata": {
        "id": "fVEdzi_oEvkp",
        "colab_type": "code",
        "colab": {}
      },
      "source": [
        "df_train_tokenized = encode_and_tokenize(df_train)\n",
        "df_test_tokenized = encode_and_tokenize(df_test)"
      ],
      "execution_count": 0,
      "outputs": []
    },
    {
      "cell_type": "code",
      "metadata": {
        "id": "tq8FJvCCKYbn",
        "colab_type": "code",
        "colab": {}
      },
      "source": [
        "from collections import Counter\n",
        "\n",
        "def get_tokens_list(_dataframe):\n",
        "    \n",
        "    all_tokens_ = []\n",
        "    \n",
        "    for sent_ in _dataframe['tokens'].values:\n",
        "        all_tokens_.extend(sent_)\n",
        "\n",
        "    tokens_counter_ = Counter(all_tokens_)\n",
        "                \n",
        "    return [t for t, _ in tokens_counter_.most_common(LIMIT_OF_TOKENS)]"
      ],
      "execution_count": 0,
      "outputs": []
    },
    {
      "cell_type": "code",
      "metadata": {
        "id": "kcwmqBD8NnPS",
        "colab_type": "code",
        "colab": {}
      },
      "source": [
        "tokens_list = get_tokens_list(pd.concat([df_train_tokenized, df_test_tokenized]))"
      ],
      "execution_count": 0,
      "outputs": []
    },
    {
      "cell_type": "code",
      "metadata": {
        "id": "VBaHte_cN57P",
        "colab_type": "code",
        "colab": {}
      },
      "source": [
        "word_to_int_dict = {}\n",
        "\n",
        "word_to_int_dict.update(\n",
        "    {t : i for i, t in enumerate(tokens_list)})"
      ],
      "execution_count": 0,
      "outputs": []
    },
    {
      "cell_type": "code",
      "metadata": {
        "id": "YitqCwMYO02P",
        "colab_type": "code",
        "colab": {}
      },
      "source": [
        "def intize_row(_tokens):\n",
        "    return np.array([word_to_int_dict[t]\n",
        "                if t in word_to_int_dict\n",
        "                else 0\n",
        "            for t in _tokens])\n",
        "\n",
        "def encode_and_tokenize(_dataframe):\n",
        "\n",
        "    iiii = _dataframe.apply(lambda row: intize_row(row['tokens']), axis = 1)\n",
        "\n",
        "    data_dict_ = { 'label': _dataframe['label'], 'ints': iiii }\n",
        "\n",
        "    intized_ = pd.DataFrame(data_dict_, columns = ['label', 'ints'])\n",
        "\n",
        "    return intized_"
      ],
      "execution_count": 0,
      "outputs": []
    },
    {
      "cell_type": "code",
      "metadata": {
        "id": "HaVH0rXGPTFE",
        "colab_type": "code",
        "colab": {}
      },
      "source": [
        "df_train_intized = encode_and_tokenize(df_train_tokenized)\n",
        "df_test_intized = encode_and_tokenize(df_test_tokenized)"
      ],
      "execution_count": 0,
      "outputs": []
    },
    {
      "cell_type": "markdown",
      "metadata": {
        "id": "d9_f_zIukTGK",
        "colab_type": "text"
      },
      "source": [
        "### Задание 2\n",
        "\n",
        "Реализуйте и обучите двунаправленную рекуррентную сеть (_LSTM_ или _GRU_).\n",
        "\n",
        "Какого качества классификации удалось достичь?"
      ]
    },
    {
      "cell_type": "code",
      "metadata": {
        "id": "s-f0LrGwRvI-",
        "colab_type": "code",
        "outputId": "12dc57cb-d09c-4204-b7b2-53fef40132a7",
        "colab": {
          "base_uri": "https://localhost:8080/",
          "height": 230
        }
      },
      "source": [
        "! pip install tensorflow-gpu --pre --quiet\n",
        "\n",
        "! pip show tensorflow-gpu"
      ],
      "execution_count": 0,
      "outputs": [
        {
          "output_type": "stream",
          "text": [
            "\u001b[K     |████████████████████████████████| 516.2MB 30kB/s \n",
            "\u001b[?25hName: tensorflow-gpu\n",
            "Version: 2.2.0rc3\n",
            "Summary: TensorFlow is an open source machine learning framework for everyone.\n",
            "Home-page: https://www.tensorflow.org/\n",
            "Author: Google Inc.\n",
            "Author-email: packages@tensorflow.org\n",
            "License: Apache 2.0\n",
            "Location: /usr/local/lib/python3.6/dist-packages\n",
            "Requires: keras-preprocessing, wrapt, gast, grpcio, astunparse, h5py, termcolor, tensorflow-estimator, six, google-pasta, absl-py, opt-einsum, wheel, numpy, protobuf, scipy, tensorboard\n",
            "Required-by: \n"
          ],
          "name": "stdout"
        }
      ]
    },
    {
      "cell_type": "code",
      "metadata": {
        "id": "56BJY9L3Rya4",
        "colab_type": "code",
        "colab": {}
      },
      "source": [
        "import tensorflow as tf\n",
        "from tensorflow import keras"
      ],
      "execution_count": 0,
      "outputs": []
    },
    {
      "cell_type": "code",
      "metadata": {
        "id": "1lYKHRn1RMbB",
        "colab_type": "code",
        "colab": {}
      },
      "source": [
        "# To fix memory leak: https://github.com/tensorflow/tensorflow/issues/33009\n",
        "\n",
        "tf.compat.v1.disable_eager_execution()"
      ],
      "execution_count": 0,
      "outputs": []
    },
    {
      "cell_type": "markdown",
      "metadata": {
        "id": "sPBbuJMWH9FM",
        "colab_type": "text"
      },
      "source": [
        "Здесь будем использовать такую конфигурацию рекуррентного _LSTM_-слоя, которая позволит использовать очень быструю _cuDNN_ имплементацию."
      ]
    },
    {
      "cell_type": "code",
      "metadata": {
        "id": "Jl8QgL8YR3MB",
        "colab_type": "code",
        "outputId": "6b6aa127-bcb3-4c5e-85a7-eb1035528b7b",
        "colab": {
          "base_uri": "https://localhost:8080/",
          "height": 142
        }
      },
      "source": [
        "from tensorflow.keras.models import Sequential\n",
        "from tensorflow.keras.layers import Bidirectional, LSTM, Dense\n",
        "\n",
        "# The requirements to use the cuDNN implementation are:\n",
        "# 1. `activation` == `tanh`\n",
        "# 2. `recurrent_activation` == `sigmoid`\n",
        "# 3. `recurrent_dropout` == 0\n",
        "# 4. `unroll` is `False`\n",
        "# 5. `use_bias` is `True`\n",
        "# 6. `reset_after` is `True`\n",
        "# 7. Inputs, if use masking, are strictly right-padded.\n",
        "\n",
        "model = tf.keras.Sequential()\n",
        "\n",
        "model.add(Bidirectional(LSTM(100, return_sequences = False), merge_mode = 'concat',\n",
        "          input_shape = (MAX_LENGTH, 1)))\n",
        "model.add(Dense(1, activation = 'sigmoid'))"
      ],
      "execution_count": 0,
      "outputs": [
        {
          "output_type": "stream",
          "text": [
            "WARNING:tensorflow:Layer lstm will not use cuDNN kernel since it doesn't meet the cuDNN kernel criteria. It will use generic GPU kernel as fallback when running on GPU\n",
            "WARNING:tensorflow:Layer lstm will not use cuDNN kernel since it doesn't meet the cuDNN kernel criteria. It will use generic GPU kernel as fallback when running on GPU\n",
            "WARNING:tensorflow:Layer lstm will not use cuDNN kernel since it doesn't meet the cuDNN kernel criteria. It will use generic GPU kernel as fallback when running on GPU\n",
            "WARNING:tensorflow:From /usr/local/lib/python3.6/dist-packages/tensorflow/python/ops/resource_variable_ops.py:1666: calling BaseResourceVariable.__init__ (from tensorflow.python.ops.resource_variable_ops) with constraint is deprecated and will be removed in a future version.\n",
            "Instructions for updating:\n",
            "If using Keras pass *_constraint arguments to layers.\n"
          ],
          "name": "stdout"
        }
      ]
    },
    {
      "cell_type": "code",
      "metadata": {
        "id": "0XOQCFPLSxAY",
        "colab_type": "code",
        "outputId": "d6d97d9c-d7b4-4cea-f215-7dfc2ebf6115",
        "colab": {
          "base_uri": "https://localhost:8080/",
          "height": 228
        }
      },
      "source": [
        "model.compile(optimizer = 'adam',\n",
        "              loss = 'binary_crossentropy',\n",
        "              metrics = ['accuracy'])\n",
        "\n",
        "model.summary()"
      ],
      "execution_count": 0,
      "outputs": [
        {
          "output_type": "stream",
          "text": [
            "Model: \"sequential\"\n",
            "_________________________________________________________________\n",
            "Layer (type)                 Output Shape              Param #   \n",
            "=================================================================\n",
            "bidirectional (Bidirectional (None, 200)               81600     \n",
            "_________________________________________________________________\n",
            "dense (Dense)                (None, 1)                 201       \n",
            "=================================================================\n",
            "Total params: 81,801\n",
            "Trainable params: 81,801\n",
            "Non-trainable params: 0\n",
            "_________________________________________________________________\n"
          ],
          "name": "stdout"
        }
      ]
    },
    {
      "cell_type": "code",
      "metadata": {
        "id": "0P7S_oSbUyqR",
        "colab_type": "code",
        "colab": {}
      },
      "source": [
        "X_train_intized = np.asarray(list(df_train_intized['ints'].values), dtype = float)[..., np.newaxis]\n",
        "X_test_intized = np.asarray(list(df_test_intized['ints'].values), dtype = float)[..., np.newaxis]\n",
        "\n",
        "y_train_intized = np.asarray(list(df_train_intized['label'].values))\n",
        "y_test_intized = np.asarray(list(df_test_intized['label'].values))"
      ],
      "execution_count": 0,
      "outputs": []
    },
    {
      "cell_type": "code",
      "metadata": {
        "id": "VCBDllgPS5v4",
        "colab_type": "code",
        "outputId": "1fef9846-2435-46cc-b604-189a09b643a4",
        "colab": {
          "base_uri": "https://localhost:8080/",
          "height": 756
        }
      },
      "source": [
        "model.fit(x = X_train_intized, y = y_train_intized, validation_split = 0.15, epochs = 20)"
      ],
      "execution_count": 0,
      "outputs": [
        {
          "output_type": "stream",
          "text": [
            "Train on 38250 samples, validate on 6750 samples\n",
            "Epoch 1/20\n",
            "38250/38250 [==============================] - 51s 1ms/sample - loss: 0.6936 - accuracy: 0.5191 - val_loss: 0.6901 - val_accuracy: 0.5313\n",
            "Epoch 2/20\n",
            "38250/38250 [==============================] - 51s 1ms/sample - loss: 0.6884 - accuracy: 0.5418 - val_loss: 0.6862 - val_accuracy: 0.5560\n",
            "Epoch 3/20\n",
            "38250/38250 [==============================] - 50s 1ms/sample - loss: 0.6853 - accuracy: 0.5501 - val_loss: 0.6826 - val_accuracy: 0.5612\n",
            "Epoch 4/20\n",
            "38250/38250 [==============================] - 51s 1ms/sample - loss: 0.6828 - accuracy: 0.5585 - val_loss: 0.6889 - val_accuracy: 0.5498\n",
            "Epoch 5/20\n",
            "38250/38250 [==============================] - 50s 1ms/sample - loss: 0.6808 - accuracy: 0.5618 - val_loss: 0.6818 - val_accuracy: 0.5630\n",
            "Epoch 6/20\n",
            "38250/38250 [==============================] - 50s 1ms/sample - loss: 0.6787 - accuracy: 0.5702 - val_loss: 0.6788 - val_accuracy: 0.5695\n",
            "Epoch 7/20\n",
            "38250/38250 [==============================] - 49s 1ms/sample - loss: 0.6768 - accuracy: 0.5738 - val_loss: 0.6825 - val_accuracy: 0.5637\n",
            "Epoch 8/20\n",
            "38250/38250 [==============================] - 50s 1ms/sample - loss: 0.6742 - accuracy: 0.5739 - val_loss: 0.6775 - val_accuracy: 0.5720\n",
            "Epoch 9/20\n",
            "38250/38250 [==============================] - 49s 1ms/sample - loss: 0.6724 - accuracy: 0.5778 - val_loss: 0.6807 - val_accuracy: 0.5615\n",
            "Epoch 10/20\n",
            "38250/38250 [==============================] - 50s 1ms/sample - loss: 0.6701 - accuracy: 0.5816 - val_loss: 0.6777 - val_accuracy: 0.5693\n",
            "Epoch 11/20\n",
            "38250/38250 [==============================] - 49s 1ms/sample - loss: 0.6676 - accuracy: 0.5858 - val_loss: 0.6787 - val_accuracy: 0.5637\n",
            "Epoch 12/20\n",
            "38250/38250 [==============================] - 49s 1ms/sample - loss: 0.6654 - accuracy: 0.5880 - val_loss: 0.6768 - val_accuracy: 0.5680\n",
            "Epoch 13/20\n",
            "38250/38250 [==============================] - 49s 1ms/sample - loss: 0.6621 - accuracy: 0.5933 - val_loss: 0.6726 - val_accuracy: 0.5766\n",
            "Epoch 14/20\n",
            "38250/38250 [==============================] - 49s 1ms/sample - loss: 0.6598 - accuracy: 0.5970 - val_loss: 0.6755 - val_accuracy: 0.5701\n",
            "Epoch 15/20\n",
            "38250/38250 [==============================] - 49s 1ms/sample - loss: 0.6571 - accuracy: 0.5987 - val_loss: 0.6728 - val_accuracy: 0.5692\n",
            "Epoch 16/20\n",
            "38250/38250 [==============================] - 49s 1ms/sample - loss: 0.6542 - accuracy: 0.6018 - val_loss: 0.6747 - val_accuracy: 0.5661\n",
            "Epoch 17/20\n",
            "38250/38250 [==============================] - 50s 1ms/sample - loss: 0.6516 - accuracy: 0.6045 - val_loss: 0.6726 - val_accuracy: 0.5736\n",
            "Epoch 18/20\n",
            "38250/38250 [==============================] - 49s 1ms/sample - loss: 0.6485 - accuracy: 0.6095 - val_loss: 0.6807 - val_accuracy: 0.5759\n",
            "Epoch 19/20\n",
            "38250/38250 [==============================] - 49s 1ms/sample - loss: 0.6467 - accuracy: 0.6125 - val_loss: 0.6771 - val_accuracy: 0.5714\n",
            "Epoch 20/20\n",
            "38250/38250 [==============================] - 49s 1ms/sample - loss: 0.6438 - accuracy: 0.6130 - val_loss: 0.6781 - val_accuracy: 0.5658\n"
          ],
          "name": "stdout"
        },
        {
          "output_type": "execute_result",
          "data": {
            "text/plain": [
              "<tensorflow.python.keras.callbacks.History at 0x7f8fdaa8b208>"
            ]
          },
          "metadata": {
            "tags": []
          },
          "execution_count": 24
        }
      ]
    },
    {
      "cell_type": "code",
      "metadata": {
        "id": "iB5Yf25n5IDZ",
        "colab_type": "code",
        "outputId": "e2464f32-9fb3-4ccb-f32a-f22019bf0e73",
        "colab": {
          "base_uri": "https://localhost:8080/",
          "height": 34
        }
      },
      "source": [
        "results = model.evaluate(X_test_intized, y_test_intized)\n",
        "\n",
        "print('Test loss, test accuracy:', results)"
      ],
      "execution_count": 0,
      "outputs": [
        {
          "output_type": "stream",
          "text": [
            "Test loss, test accuracy: [0.6761944528579712, 0.5762]\n"
          ],
          "name": "stdout"
        }
      ]
    },
    {
      "cell_type": "markdown",
      "metadata": {
        "id": "77UZR8gEQzLX",
        "colab_type": "text"
      },
      "source": [
        "На валидационной выборке удалось достичь точности 57%."
      ]
    },
    {
      "cell_type": "markdown",
      "metadata": {
        "id": "x2DsAeq2kbGK",
        "colab_type": "text"
      },
      "source": [
        "### Задание 3\n",
        "\n",
        "Используйте индексы слов и их различное внутреннее представление (_word2vec_, _glove_). Как влияет данное преобразование на качество классификации?"
      ]
    },
    {
      "cell_type": "markdown",
      "metadata": {
        "id": "Ae7ziw75aupE",
        "colab_type": "text"
      },
      "source": [
        "Используем 300-мерные вектора _FastTest_ &mdash; лучшую на сегодняшний день имплементацию word2vec: https://fasttext.cc/docs/en/english-vectors.html. Файл пришлось доработать &mdash; 9-я строка не читалась."
      ]
    },
    {
      "cell_type": "code",
      "metadata": {
        "id": "ckBXWDOka8ci",
        "colab_type": "code",
        "colab": {}
      },
      "source": [
        "# VECTORS_ARCHIVE_NAME = 'wiki-news-300d-1M-fixed.zip'\n",
        "\n",
        "# VECTORS_FILE_NAME = 'wiki-news-300d-1M-fixed.vec'\n",
        "\n",
        "# VECTORS_LOCAL_DIR_NAME = 'vectors'"
      ],
      "execution_count": 0,
      "outputs": []
    },
    {
      "cell_type": "code",
      "metadata": {
        "id": "SNMIh9tmc_gq",
        "colab_type": "code",
        "colab": {}
      },
      "source": [
        "# with ZipFile(os.path.join(BASE_DIR, VECTORS_ARCHIVE_NAME), 'r') as zip_:\n",
        "#     zip_.extractall(VECTORS_LOCAL_DIR_NAME)"
      ],
      "execution_count": 0,
      "outputs": []
    },
    {
      "cell_type": "markdown",
      "metadata": {
        "id": "iZpMbmhxbXQS",
        "colab_type": "text"
      },
      "source": [
        "Создадим уменьшенный словарь, содержащий только встреченные токены, чтобы уменьшить нагрузку на _Google Drive_:"
      ]
    },
    {
      "cell_type": "code",
      "metadata": {
        "id": "ZLWp8IDobtve",
        "colab_type": "code",
        "colab": {}
      },
      "source": [
        "# def build_vectors_dict(_actual_tokens, _vectors_file_path, _unknown_token = 'unknown'):\n",
        "\n",
        "#     vec_data_ = pd.read_csv(_vectors_file_path, sep = ' ', header = None, skiprows = [9])\n",
        "        \n",
        "#     actual_vectors_ = [x for x in vec_data_.values if x[0] in _actual_tokens or x[0] == _unknown_token]\n",
        "\n",
        "#     return actual_vectors_"
      ],
      "execution_count": 0,
      "outputs": []
    },
    {
      "cell_type": "code",
      "metadata": {
        "id": "kuxUELYlw-yp",
        "colab_type": "code",
        "colab": {}
      },
      "source": [
        "# actual_vectors = build_vectors_dict(tokens_list, os.path.join(VECTORS_LOCAL_DIR_NAME, VECTORS_FILE_NAME))"
      ],
      "execution_count": 0,
      "outputs": []
    },
    {
      "cell_type": "code",
      "metadata": {
        "id": "ACqhxpMRyeIA",
        "colab_type": "code",
        "colab": {}
      },
      "source": [
        "# vectors_np = np.array(actual_vectors)\n",
        "\n",
        "# vectors_dict = dict(zip(vectors_np[:, 0], vectors_np[:, 1:]))\n",
        "\n",
        "# vectors_dict_file_name = 'word-vec-dict-{}-items'.format(len(vectors_dict))\n",
        "\n",
        "# vectors_dict_file_path = os.path.join(BASE_DIR, vectors_dict_file_name)\n",
        "\n",
        "# np.savez_compressed(vectors_dict_file_path, vectors_dict, allow_pickle = True)"
      ],
      "execution_count": 0,
      "outputs": []
    },
    {
      "cell_type": "code",
      "metadata": {
        "id": "Yf1Lw5ogehU0",
        "colab_type": "code",
        "colab": {}
      },
      "source": [
        "vectors_dict_file_path = './drive/My Drive/Colab Files/mo-2/word-vec-dict-56485-items.npz'"
      ],
      "execution_count": 0,
      "outputs": []
    },
    {
      "cell_type": "code",
      "metadata": {
        "id": "utXOK7y5d6wy",
        "colab_type": "code",
        "colab": {}
      },
      "source": [
        "vectors_dict_data = np.load(vectors_dict_file_path, allow_pickle = True)\n",
        "\n",
        "vectors_dict = vectors_dict_data['arr_0'][()]"
      ],
      "execution_count": 0,
      "outputs": []
    },
    {
      "cell_type": "code",
      "metadata": {
        "id": "vnMBGetre6w6",
        "colab_type": "code",
        "colab": {}
      },
      "source": [
        "VECTORS_LENGTH = 300"
      ],
      "execution_count": 0,
      "outputs": []
    },
    {
      "cell_type": "code",
      "metadata": {
        "id": "EARSGQIJe-42",
        "colab_type": "code",
        "colab": {}
      },
      "source": [
        "def tokens_to_vectors(_word_to_vec_dict, _tokens, _unknown_token):\n",
        "    return [_word_to_vec_dict[t]\n",
        "                if t in _word_to_vec_dict\n",
        "                else _word_to_vec_dict[_unknown_token]\n",
        "            for t in _tokens]\n",
        "\n",
        "def row_to_vectors(_tokens):\n",
        "    return np.array(tokens_to_vectors(vectors_dict, _tokens, 'unknown'))\n",
        "\n",
        "def vectorize(_dataframe):\n",
        "\n",
        "    vvvv = _dataframe.apply(lambda row: row_to_vectors(row['tokens']), axis = 1)\n",
        "\n",
        "    data_dict_ = { 'label': _dataframe['label'], 'vectors': vvvv }\n",
        "\n",
        "    vectorized_ = pd.DataFrame(data_dict_, columns = ['label', 'vectors'])\n",
        "\n",
        "    return vectorized_"
      ],
      "execution_count": 0,
      "outputs": []
    },
    {
      "cell_type": "code",
      "metadata": {
        "id": "k9An9BkGfBbT",
        "colab_type": "code",
        "colab": {}
      },
      "source": [
        "df_train_vectorized = vectorize(df_train_tokenized)\n",
        "df_test_vectorized = vectorize(df_test_tokenized)"
      ],
      "execution_count": 0,
      "outputs": []
    },
    {
      "cell_type": "code",
      "metadata": {
        "id": "fBn_Xb67BFu6",
        "colab_type": "code",
        "colab": {}
      },
      "source": [
        "X_train_vectorized = np.asarray(list(df_train_vectorized['vectors'].values), dtype = float)\n",
        "X_test_vectorized = np.asarray(list(df_test_vectorized['vectors'].values), dtype = float)\n",
        "\n",
        "y_train_vectorized = np.asarray(list(df_train_vectorized['label'].values))\n",
        "y_test_vectorized = np.asarray(list(df_test_vectorized['label'].values))"
      ],
      "execution_count": 0,
      "outputs": []
    },
    {
      "cell_type": "code",
      "metadata": {
        "id": "hLgWA1I5Af1C",
        "colab_type": "code",
        "outputId": "8fe3a8ef-8ca0-4e70-bb66-c89553d354af",
        "colab": {
          "base_uri": "https://localhost:8080/",
          "height": 90
        }
      },
      "source": [
        "model_2 = tf.keras.Sequential()\n",
        "\n",
        "model_2.add(Bidirectional(LSTM(100, return_sequences = False), merge_mode = 'concat',\n",
        "            input_shape = (MAX_LENGTH, VECTORS_LENGTH)))\n",
        "model_2.add(Dense(1, activation = 'sigmoid'))"
      ],
      "execution_count": 0,
      "outputs": [
        {
          "output_type": "stream",
          "text": [
            "WARNING:tensorflow:Layer lstm_1 will not use cuDNN kernel since it doesn't meet the cuDNN kernel criteria. It will use generic GPU kernel as fallback when running on GPU\n",
            "WARNING:tensorflow:Layer lstm_1 will not use cuDNN kernel since it doesn't meet the cuDNN kernel criteria. It will use generic GPU kernel as fallback when running on GPU\n",
            "WARNING:tensorflow:Layer lstm_1 will not use cuDNN kernel since it doesn't meet the cuDNN kernel criteria. It will use generic GPU kernel as fallback when running on GPU\n"
          ],
          "name": "stdout"
        }
      ]
    },
    {
      "cell_type": "code",
      "metadata": {
        "id": "y4aP2xGUAg95",
        "colab_type": "code",
        "outputId": "de9b5c62-85f9-4071-fd62-c0bf39bee934",
        "colab": {
          "base_uri": "https://localhost:8080/",
          "height": 228
        }
      },
      "source": [
        "model_2.compile(optimizer = 'adam',\n",
        "                loss = 'binary_crossentropy',\n",
        "                metrics = ['accuracy'])\n",
        "\n",
        "model_2.summary()"
      ],
      "execution_count": 0,
      "outputs": [
        {
          "output_type": "stream",
          "text": [
            "Model: \"sequential_1\"\n",
            "_________________________________________________________________\n",
            "Layer (type)                 Output Shape              Param #   \n",
            "=================================================================\n",
            "bidirectional_1 (Bidirection (None, 200)               320800    \n",
            "_________________________________________________________________\n",
            "dense_1 (Dense)              (None, 1)                 201       \n",
            "=================================================================\n",
            "Total params: 321,001\n",
            "Trainable params: 321,001\n",
            "Non-trainable params: 0\n",
            "_________________________________________________________________\n"
          ],
          "name": "stdout"
        }
      ]
    },
    {
      "cell_type": "code",
      "metadata": {
        "id": "pRer4D7hAjPs",
        "colab_type": "code",
        "outputId": "5bf5ed26-d831-43be-895d-34298cce637d",
        "colab": {
          "base_uri": "https://localhost:8080/",
          "height": 756
        }
      },
      "source": [
        "model_2.fit(x = X_train_vectorized, y = y_train_vectorized, validation_split = 0.15, epochs = 20)"
      ],
      "execution_count": 0,
      "outputs": [
        {
          "output_type": "stream",
          "text": [
            "Train on 38250 samples, validate on 6750 samples\n",
            "Epoch 1/20\n",
            "38250/38250 [==============================] - 52s 1ms/sample - loss: 0.5456 - accuracy: 0.7143 - val_loss: 0.4991 - val_accuracy: 0.7511\n",
            "Epoch 2/20\n",
            "38250/38250 [==============================] - 53s 1ms/sample - loss: 0.4851 - accuracy: 0.7566 - val_loss: 0.4786 - val_accuracy: 0.7603\n",
            "Epoch 3/20\n",
            "38250/38250 [==============================] - 52s 1ms/sample - loss: 0.4589 - accuracy: 0.7734 - val_loss: 0.4749 - val_accuracy: 0.7640\n",
            "Epoch 4/20\n",
            "38250/38250 [==============================] - 52s 1ms/sample - loss: 0.4354 - accuracy: 0.7882 - val_loss: 0.4676 - val_accuracy: 0.7686\n",
            "Epoch 5/20\n",
            "38250/38250 [==============================] - 53s 1ms/sample - loss: 0.4117 - accuracy: 0.8025 - val_loss: 0.4917 - val_accuracy: 0.7613\n",
            "Epoch 6/20\n",
            "38250/38250 [==============================] - 52s 1ms/sample - loss: 0.3849 - accuracy: 0.8179 - val_loss: 0.4727 - val_accuracy: 0.7667\n",
            "Epoch 7/20\n",
            "38250/38250 [==============================] - 52s 1ms/sample - loss: 0.3511 - accuracy: 0.8372 - val_loss: 0.5012 - val_accuracy: 0.7529\n",
            "Epoch 8/20\n",
            "38250/38250 [==============================] - 53s 1ms/sample - loss: 0.3122 - accuracy: 0.8599 - val_loss: 0.5162 - val_accuracy: 0.7553\n",
            "Epoch 9/20\n",
            "38250/38250 [==============================] - 52s 1ms/sample - loss: 0.2662 - accuracy: 0.8848 - val_loss: 0.5886 - val_accuracy: 0.7609\n",
            "Epoch 10/20\n",
            "38250/38250 [==============================] - 52s 1ms/sample - loss: 0.2165 - accuracy: 0.9092 - val_loss: 0.6468 - val_accuracy: 0.7603\n",
            "Epoch 11/20\n",
            "38250/38250 [==============================] - 53s 1ms/sample - loss: 0.1680 - accuracy: 0.9329 - val_loss: 0.7128 - val_accuracy: 0.7470\n",
            "Epoch 12/20\n",
            "38250/38250 [==============================] - 53s 1ms/sample - loss: 0.1269 - accuracy: 0.9524 - val_loss: 0.8222 - val_accuracy: 0.7526\n",
            "Epoch 13/20\n",
            "38250/38250 [==============================] - 52s 1ms/sample - loss: 0.0908 - accuracy: 0.9670 - val_loss: 0.8999 - val_accuracy: 0.7487\n",
            "Epoch 14/20\n",
            "38250/38250 [==============================] - 53s 1ms/sample - loss: 0.0651 - accuracy: 0.9780 - val_loss: 1.0383 - val_accuracy: 0.7427\n",
            "Epoch 15/20\n",
            "38250/38250 [==============================] - 52s 1ms/sample - loss: 0.0495 - accuracy: 0.9842 - val_loss: 1.1222 - val_accuracy: 0.7464\n",
            "Epoch 16/20\n",
            "38250/38250 [==============================] - 52s 1ms/sample - loss: 0.0379 - accuracy: 0.9884 - val_loss: 1.2738 - val_accuracy: 0.7513\n",
            "Epoch 17/20\n",
            "38250/38250 [==============================] - 52s 1ms/sample - loss: 0.0326 - accuracy: 0.9897 - val_loss: 1.3313 - val_accuracy: 0.7434\n",
            "Epoch 18/20\n",
            "38250/38250 [==============================] - 52s 1ms/sample - loss: 0.0364 - accuracy: 0.9888 - val_loss: 1.2889 - val_accuracy: 0.7495\n",
            "Epoch 19/20\n",
            "38250/38250 [==============================] - 52s 1ms/sample - loss: 0.0237 - accuracy: 0.9933 - val_loss: 1.4557 - val_accuracy: 0.7465\n",
            "Epoch 20/20\n",
            "38250/38250 [==============================] - 52s 1ms/sample - loss: 0.0216 - accuracy: 0.9940 - val_loss: 1.3947 - val_accuracy: 0.7459\n"
          ],
          "name": "stdout"
        },
        {
          "output_type": "execute_result",
          "data": {
            "text/plain": [
              "<tensorflow.python.keras.callbacks.History at 0x7f8fd4befa20>"
            ]
          },
          "metadata": {
            "tags": []
          },
          "execution_count": 39
        }
      ]
    },
    {
      "cell_type": "code",
      "metadata": {
        "id": "y3IrWkrg5r5D",
        "colab_type": "code",
        "outputId": "14f2f3e3-9467-4256-929f-afe1ec990d80",
        "colab": {
          "base_uri": "https://localhost:8080/",
          "height": 34
        }
      },
      "source": [
        "results_2 = model_2.evaluate(X_test_vectorized, y_test_vectorized)\n",
        "\n",
        "print('Test loss, test accuracy:', results_2)"
      ],
      "execution_count": 0,
      "outputs": [
        {
          "output_type": "stream",
          "text": [
            "Test loss, test accuracy: [1.3811187601089479, 0.7412]\n"
          ],
          "name": "stdout"
        }
      ]
    },
    {
      "cell_type": "markdown",
      "metadata": {
        "id": "OMYZ-lb8v46D",
        "colab_type": "text"
      },
      "source": [
        "Как и ожидалось, использование эмбеддингов показало лучший результат, чем кодирование слов просто целыми числами &mdash; 74%."
      ]
    },
    {
      "cell_type": "markdown",
      "metadata": {
        "id": "D5-qnk0zkiE8",
        "colab_type": "text"
      },
      "source": [
        "### Задание 4\n",
        "\n",
        "Поэкспериментируйте со структурой сети (добавьте больше рекуррентных, полносвязных или сверточных слоев). Как это повлияло на качество классификации?"
      ]
    },
    {
      "cell_type": "code",
      "metadata": {
        "id": "SlGF30EoJRvF",
        "colab_type": "code",
        "outputId": "cccc9703-ceba-42ae-b0ec-d9e3f6ae20da",
        "colab": {
          "base_uri": "https://localhost:8080/",
          "height": 107
        }
      },
      "source": [
        "model_3 = tf.keras.Sequential()\n",
        "\n",
        "model_3.add(Bidirectional(LSTM(5, return_sequences = True), merge_mode = 'concat',\n",
        "            input_shape = (MAX_LENGTH, VECTORS_LENGTH)))\n",
        "model_3.add(LSTM(1, return_sequences = False))\n",
        "model_3.add(Dense(10, activation = 'linear'))\n",
        "model_3.add(Dense(1, activation = 'sigmoid'))"
      ],
      "execution_count": 0,
      "outputs": [
        {
          "output_type": "stream",
          "text": [
            "WARNING:tensorflow:Layer lstm_2 will not use cuDNN kernel since it doesn't meet the cuDNN kernel criteria. It will use generic GPU kernel as fallback when running on GPU\n",
            "WARNING:tensorflow:Layer lstm_2 will not use cuDNN kernel since it doesn't meet the cuDNN kernel criteria. It will use generic GPU kernel as fallback when running on GPU\n",
            "WARNING:tensorflow:Layer lstm_2 will not use cuDNN kernel since it doesn't meet the cuDNN kernel criteria. It will use generic GPU kernel as fallback when running on GPU\n",
            "WARNING:tensorflow:Layer lstm_3 will not use cuDNN kernel since it doesn't meet the cuDNN kernel criteria. It will use generic GPU kernel as fallback when running on GPU\n"
          ],
          "name": "stdout"
        }
      ]
    },
    {
      "cell_type": "code",
      "metadata": {
        "id": "4f95YCmTJaMd",
        "colab_type": "code",
        "outputId": "8756e8c3-aa66-4057-832c-1a8a6b40378d",
        "colab": {
          "base_uri": "https://localhost:8080/",
          "height": 298
        }
      },
      "source": [
        "model_3.compile(optimizer = 'adam',\n",
        "                loss = 'binary_crossentropy',\n",
        "                metrics = ['accuracy'])\n",
        "\n",
        "model_3.summary()"
      ],
      "execution_count": 0,
      "outputs": [
        {
          "output_type": "stream",
          "text": [
            "Model: \"sequential_2\"\n",
            "_________________________________________________________________\n",
            "Layer (type)                 Output Shape              Param #   \n",
            "=================================================================\n",
            "bidirectional_2 (Bidirection (None, 40, 10)            12240     \n",
            "_________________________________________________________________\n",
            "lstm_3 (LSTM)                (None, 1)                 48        \n",
            "_________________________________________________________________\n",
            "dense_2 (Dense)              (None, 10)                20        \n",
            "_________________________________________________________________\n",
            "dense_3 (Dense)              (None, 1)                 11        \n",
            "=================================================================\n",
            "Total params: 12,319\n",
            "Trainable params: 12,319\n",
            "Non-trainable params: 0\n",
            "_________________________________________________________________\n"
          ],
          "name": "stdout"
        }
      ]
    },
    {
      "cell_type": "code",
      "metadata": {
        "id": "qucrLBmfJc4K",
        "colab_type": "code",
        "outputId": "aaa261cd-6611-4a3c-e3b2-76d2949a796b",
        "colab": {
          "base_uri": "https://localhost:8080/",
          "height": 756
        }
      },
      "source": [
        "model_3.fit(x = X_train_vectorized, y = y_train_vectorized, validation_split = 0.15, epochs = 20)"
      ],
      "execution_count": 0,
      "outputs": [
        {
          "output_type": "stream",
          "text": [
            "Train on 38250 samples, validate on 6750 samples\n",
            "Epoch 1/20\n",
            "38250/38250 [==============================] - 83s 2ms/sample - loss: 0.6033 - accuracy: 0.6808 - val_loss: 0.5700 - val_accuracy: 0.7108\n",
            "Epoch 2/20\n",
            "38250/38250 [==============================] - 82s 2ms/sample - loss: 0.5302 - accuracy: 0.7388 - val_loss: 0.5133 - val_accuracy: 0.7453\n",
            "Epoch 3/20\n",
            "38250/38250 [==============================] - 81s 2ms/sample - loss: 0.4987 - accuracy: 0.7546 - val_loss: 0.4906 - val_accuracy: 0.7566\n",
            "Epoch 4/20\n",
            "38250/38250 [==============================] - 81s 2ms/sample - loss: 0.4819 - accuracy: 0.7621 - val_loss: 0.4779 - val_accuracy: 0.7625\n",
            "Epoch 5/20\n",
            "38250/38250 [==============================] - 82s 2ms/sample - loss: 0.4681 - accuracy: 0.7725 - val_loss: 0.4778 - val_accuracy: 0.7579\n",
            "Epoch 6/20\n",
            "38250/38250 [==============================] - 81s 2ms/sample - loss: 0.4602 - accuracy: 0.7770 - val_loss: 0.4755 - val_accuracy: 0.7636\n",
            "Epoch 7/20\n",
            "38250/38250 [==============================] - 81s 2ms/sample - loss: 0.4515 - accuracy: 0.7817 - val_loss: 0.4838 - val_accuracy: 0.7563\n",
            "Epoch 8/20\n",
            "38250/38250 [==============================] - 81s 2ms/sample - loss: 0.4444 - accuracy: 0.7843 - val_loss: 0.4796 - val_accuracy: 0.7613\n",
            "Epoch 9/20\n",
            "38250/38250 [==============================] - 82s 2ms/sample - loss: 0.4363 - accuracy: 0.7929 - val_loss: 0.4616 - val_accuracy: 0.7683\n",
            "Epoch 10/20\n",
            "38250/38250 [==============================] - 81s 2ms/sample - loss: 0.4329 - accuracy: 0.7923 - val_loss: 0.4661 - val_accuracy: 0.7726\n",
            "Epoch 11/20\n",
            "38250/38250 [==============================] - 81s 2ms/sample - loss: 0.4258 - accuracy: 0.7961 - val_loss: 0.4658 - val_accuracy: 0.7674\n",
            "Epoch 12/20\n",
            "38250/38250 [==============================] - 81s 2ms/sample - loss: 0.4192 - accuracy: 0.8000 - val_loss: 0.4680 - val_accuracy: 0.7711\n",
            "Epoch 13/20\n",
            "38250/38250 [==============================] - 82s 2ms/sample - loss: 0.4138 - accuracy: 0.8031 - val_loss: 0.4609 - val_accuracy: 0.7754\n",
            "Epoch 14/20\n",
            "38250/38250 [==============================] - 81s 2ms/sample - loss: 0.4084 - accuracy: 0.8092 - val_loss: 0.4622 - val_accuracy: 0.7763\n",
            "Epoch 15/20\n",
            "38250/38250 [==============================] - 82s 2ms/sample - loss: 0.4028 - accuracy: 0.8098 - val_loss: 0.4717 - val_accuracy: 0.7705\n",
            "Epoch 16/20\n",
            "38250/38250 [==============================] - 81s 2ms/sample - loss: 0.3975 - accuracy: 0.8142 - val_loss: 0.4648 - val_accuracy: 0.7742\n",
            "Epoch 17/20\n",
            "38250/38250 [==============================] - 81s 2ms/sample - loss: 0.3942 - accuracy: 0.8166 - val_loss: 0.4751 - val_accuracy: 0.7673\n",
            "Epoch 18/20\n",
            "38250/38250 [==============================] - 81s 2ms/sample - loss: 0.3886 - accuracy: 0.8202 - val_loss: 0.4730 - val_accuracy: 0.7730\n",
            "Epoch 19/20\n",
            "38250/38250 [==============================] - 81s 2ms/sample - loss: 0.3844 - accuracy: 0.8226 - val_loss: 0.4740 - val_accuracy: 0.7753\n",
            "Epoch 20/20\n",
            "38250/38250 [==============================] - 82s 2ms/sample - loss: 0.3797 - accuracy: 0.8246 - val_loss: 0.4765 - val_accuracy: 0.7727\n"
          ],
          "name": "stdout"
        },
        {
          "output_type": "execute_result",
          "data": {
            "text/plain": [
              "<tensorflow.python.keras.callbacks.History at 0x7f8ef6e7a6a0>"
            ]
          },
          "metadata": {
            "tags": []
          },
          "execution_count": 44
        }
      ]
    },
    {
      "cell_type": "code",
      "metadata": {
        "id": "z-pX922T57QU",
        "colab_type": "code",
        "outputId": "db21c1b1-39b9-4310-d166-1d2aa6204026",
        "colab": {
          "base_uri": "https://localhost:8080/",
          "height": 34
        }
      },
      "source": [
        "results_3 = model_3.evaluate(X_test_vectorized, y_test_vectorized)\n",
        "\n",
        "print('Test loss, test accuracy:', results_3)"
      ],
      "execution_count": 0,
      "outputs": [
        {
          "output_type": "stream",
          "text": [
            "Test loss, test accuracy: [0.49010655212402343, 0.766]\n"
          ],
          "name": "stdout"
        }
      ]
    },
    {
      "cell_type": "markdown",
      "metadata": {
        "id": "QjPIsrSpwICB",
        "colab_type": "text"
      },
      "source": [
        "Добавление ещё одного рекуррентного слоя ненамного улучшило результат &mdash; точность 76% на тестовой выборке."
      ]
    },
    {
      "cell_type": "markdown",
      "metadata": {
        "id": "EZ1LfR8dkrK8",
        "colab_type": "text"
      },
      "source": [
        "### Задание 5\n",
        "\n",
        "Используйте предобученную рекуррентную нейронную сеть (например, _DeepMoji_ или что-то подобное).\n",
        "\n",
        "Какой максимальный результат удалось получить на контрольной выборке?"
      ]
    },
    {
      "cell_type": "markdown",
      "metadata": {
        "id": "VKOTfQwNKHTW",
        "colab_type": "text"
      },
      "source": [
        "На своих моделях удалось достигнуть максимальной точности 76%."
      ]
    }
  ]
}