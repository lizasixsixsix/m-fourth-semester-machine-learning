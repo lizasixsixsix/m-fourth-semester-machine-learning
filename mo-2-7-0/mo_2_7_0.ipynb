{
  "nbformat": 4,
  "nbformat_minor": 0,
  "metadata": {
    "colab": {
      "name": "mo-2-7-0.ipynb",
      "provenance": [],
      "collapsed_sections": [],
      "toc_visible": true,
      "machine_shape": "hm"
    },
    "kernelspec": {
      "name": "python3",
      "display_name": "Python 3"
    },
    "accelerator": "GPU"
  },
  "cells": [
    {
      "cell_type": "markdown",
      "metadata": {
        "id": "L3rSI8Sri-M_",
        "colab_type": "text"
      },
      "source": [
        "# Лабораторная работа №7\n",
        "\n",
        "## Рекуррентные нейронные сети для анализа текста"
      ]
    },
    {
      "cell_type": "markdown",
      "metadata": {
        "id": "-SED2kKFjeQm",
        "colab_type": "text"
      },
      "source": [
        "Набор данных для предсказания оценок для отзывов, собранных с сайта _imdb.com_, который состоит из 50,000 отзывов в виде текстовых файлов.\n",
        "\n",
        "Отзывы разделены на положительные (25,000) и отрицательные (25,000).\n",
        "\n",
        "Данные предварительно токенизированы по принципу «мешка слов», индексы слов можно взять из словаря (_imdb.vocab_).\n",
        "\n",
        "Обучающая выборка включает в себя 12,500 положительных и 12,500 отрицательных отзывов, контрольная выборка также содержит 12,500 положительных и 12,500 отрицательных отзывов.\n",
        "\n",
        "Данные можно скачать ~~на сайте _Kaggle_~~: ~~https://www.kaggle.com/iarunava/imdb-movie-reviews-dataset~~ https://ai.stanford.edu/~amaas/data/sentiment/"
      ]
    },
    {
      "cell_type": "markdown",
      "metadata": {
        "id": "YvvJioiIkBuS",
        "colab_type": "text"
      },
      "source": [
        "### Задание 1\n",
        "\n",
        "Загрузите данные. Преобразуйте текстовые файлы во внутренние структуры данных, которые используют индексы вместо слов."
      ]
    },
    {
      "cell_type": "markdown",
      "metadata": {
        "id": "TeJvOnrrRCLy",
        "colab_type": "text"
      },
      "source": [
        "Будем брать первые `MAX_LENGTH` слов, а если в отзыве слов меньше, чем это число, то применять паддинг."
      ]
    },
    {
      "cell_type": "code",
      "metadata": {
        "id": "m2xYxvFJ0xJj",
        "colab_type": "code",
        "outputId": "fb22007d-f87f-4fda-ed6a-8f68876a00b6",
        "colab": {
          "base_uri": "https://localhost:8080/",
          "height": 34
        }
      },
      "source": [
        "from google.colab import drive\n",
        "\n",
        "drive.mount('/content/drive', force_remount = True)"
      ],
      "execution_count": 1,
      "outputs": [
        {
          "output_type": "stream",
          "text": [
            "Mounted at /content/drive\n"
          ],
          "name": "stdout"
        }
      ]
    },
    {
      "cell_type": "code",
      "metadata": {
        "id": "7Yg-w4Aw1Ohq",
        "colab_type": "code",
        "colab": {}
      },
      "source": [
        "BASE_DIR = '/content/drive/My Drive/Colab Files/mo-2'\n",
        "\n",
        "import sys\n",
        "\n",
        "sys.path.append(BASE_DIR)\n",
        "\n",
        "import os"
      ],
      "execution_count": 0,
      "outputs": []
    },
    {
      "cell_type": "code",
      "metadata": {
        "id": "UqlKvsJ41Rwy",
        "colab_type": "code",
        "colab": {}
      },
      "source": [
        "DATA_ARCHIVE_NAME = 'imdb-dataset-of-50k-movie-reviews.zip'\n",
        "\n",
        "LOCAL_DIR_NAME = 'imdb-sentiments'"
      ],
      "execution_count": 0,
      "outputs": []
    },
    {
      "cell_type": "code",
      "metadata": {
        "id": "QLAwfqxe1b7Z",
        "colab_type": "code",
        "colab": {}
      },
      "source": [
        "from zipfile import ZipFile\n",
        "\n",
        "with ZipFile(os.path.join(BASE_DIR, DATA_ARCHIVE_NAME), 'r') as zip_:\n",
        "    zip_.extractall(LOCAL_DIR_NAME)"
      ],
      "execution_count": 0,
      "outputs": []
    },
    {
      "cell_type": "code",
      "metadata": {
        "id": "m4Euqp8l1lUo",
        "colab_type": "code",
        "colab": {}
      },
      "source": [
        "DATA_FILE_PATH = 'imdb-sentiments/IMDB Dataset.csv'"
      ],
      "execution_count": 0,
      "outputs": []
    },
    {
      "cell_type": "code",
      "metadata": {
        "id": "_X4fdpuo1vBT",
        "colab_type": "code",
        "colab": {}
      },
      "source": [
        "import pandas as pd\n",
        "\n",
        "all_df = pd.read_csv(DATA_FILE_PATH)"
      ],
      "execution_count": 0,
      "outputs": []
    },
    {
      "cell_type": "code",
      "metadata": {
        "id": "5lfNokNS2t6W",
        "colab_type": "code",
        "colab": {}
      },
      "source": [
        "df_test = all_df.sample(frac = 0.1)\n",
        "\n",
        "df_train = all_df.drop(df_test.index)"
      ],
      "execution_count": 0,
      "outputs": []
    },
    {
      "cell_type": "code",
      "metadata": {
        "id": "z2Jm_7561x9w",
        "colab_type": "code",
        "outputId": "62b05461-a93e-4460-98dd-eb760baf0861",
        "colab": {
          "base_uri": "https://localhost:8080/",
          "height": 34
        }
      },
      "source": [
        "df_train.shape, df_test.shape"
      ],
      "execution_count": 8,
      "outputs": [
        {
          "output_type": "execute_result",
          "data": {
            "text/plain": [
              "((45000, 2), (5000, 2))"
            ]
          },
          "metadata": {
            "tags": []
          },
          "execution_count": 8
        }
      ]
    },
    {
      "cell_type": "code",
      "metadata": {
        "id": "ViW4uNZt90u0",
        "colab_type": "code",
        "outputId": "69124234-e9b0-4a5e-e8b8-5ed23f9cd9bf",
        "colab": {
          "base_uri": "https://localhost:8080/",
          "height": 70
        }
      },
      "source": [
        "import nltk\n",
        "\n",
        "nltk.download('punkt')"
      ],
      "execution_count": 9,
      "outputs": [
        {
          "output_type": "stream",
          "text": [
            "[nltk_data] Downloading package punkt to /root/nltk_data...\n",
            "[nltk_data]   Unzipping tokenizers/punkt.zip.\n"
          ],
          "name": "stdout"
        },
        {
          "output_type": "execute_result",
          "data": {
            "text/plain": [
              "True"
            ]
          },
          "metadata": {
            "tags": []
          },
          "execution_count": 9
        }
      ]
    },
    {
      "cell_type": "code",
      "metadata": {
        "id": "Z6WR8PBaGygW",
        "colab_type": "code",
        "colab": {}
      },
      "source": [
        "MAX_LENGTH = 40\n",
        "\n",
        "STRING_DTYPE = '<U12'\n",
        "\n",
        "PADDING_TOKEN = 'PAD'\n",
        "\n",
        "LIMIT_OF_TOKENS = 100000"
      ],
      "execution_count": 0,
      "outputs": []
    },
    {
      "cell_type": "code",
      "metadata": {
        "id": "Tivq-oQK-sW_",
        "colab_type": "code",
        "colab": {}
      },
      "source": [
        "from nltk import word_tokenize\n",
        "import numpy as np\n",
        "import string\n",
        "import re\n",
        "\n",
        "def tokenize_string(_string):\n",
        "    return  [tok_.lower() for tok_ in word_tokenize(_string) if not re.fullmatch('[' + string.punctuation + ']+', tok_)]\n",
        "\n",
        "def pad(A, length):\n",
        "    arr = np.empty(length, dtype = STRING_DTYPE)\n",
        "    arr.fill(PADDING_TOKEN)\n",
        "    arr[:len(A)] = A\n",
        "    return arr\n",
        "\n",
        "def tokenize_row(_sentence):\n",
        "    return pad(tokenize_string(_sentence)[:MAX_LENGTH], MAX_LENGTH)\n",
        "\n",
        "def encode_row(_label):\n",
        "    return 1 if _label == 'positive' else 0\n",
        "\n",
        "def encode_and_tokenize(_dataframe):\n",
        "\n",
        "    tttt = _dataframe.apply(lambda row: tokenize_row(row['review']), axis = 1)\n",
        "    llll = _dataframe.apply(lambda row: encode_row(row['sentiment']), axis = 1)\n",
        "\n",
        "    data_dict_ = { 'label': llll, 'tokens': tttt }\n",
        "\n",
        "    encoded_and_tokenized_ = pd.DataFrame(data_dict_, columns = ['label', 'tokens'])\n",
        "\n",
        "    return encoded_and_tokenized_"
      ],
      "execution_count": 0,
      "outputs": []
    },
    {
      "cell_type": "code",
      "metadata": {
        "id": "fVEdzi_oEvkp",
        "colab_type": "code",
        "colab": {}
      },
      "source": [
        "df_train_tokenized = encode_and_tokenize(df_train)\n",
        "df_test_tokenized = encode_and_tokenize(df_test)"
      ],
      "execution_count": 0,
      "outputs": []
    },
    {
      "cell_type": "code",
      "metadata": {
        "id": "tq8FJvCCKYbn",
        "colab_type": "code",
        "colab": {}
      },
      "source": [
        "from collections import Counter\n",
        "\n",
        "def get_tokens_list(_dataframe):\n",
        "    \n",
        "    all_tokens_ = []\n",
        "    \n",
        "    for sent_ in _dataframe['tokens'].values:\n",
        "        all_tokens_.extend(sent_)\n",
        "\n",
        "    tokens_counter_ = Counter(all_tokens_)\n",
        "                \n",
        "    return [t for t, _ in tokens_counter_.most_common(LIMIT_OF_TOKENS)]"
      ],
      "execution_count": 0,
      "outputs": []
    },
    {
      "cell_type": "code",
      "metadata": {
        "id": "kcwmqBD8NnPS",
        "colab_type": "code",
        "colab": {}
      },
      "source": [
        "tokens_list = get_tokens_list(pd.concat([df_train_tokenized, df_test_tokenized]))"
      ],
      "execution_count": 0,
      "outputs": []
    },
    {
      "cell_type": "code",
      "metadata": {
        "id": "VBaHte_cN57P",
        "colab_type": "code",
        "colab": {}
      },
      "source": [
        "word_to_int_dict = {}\n",
        "\n",
        "word_to_int_dict.update(\n",
        "    {t : i for i, t in enumerate(tokens_list)})"
      ],
      "execution_count": 0,
      "outputs": []
    },
    {
      "cell_type": "code",
      "metadata": {
        "id": "YitqCwMYO02P",
        "colab_type": "code",
        "colab": {}
      },
      "source": [
        "def intize_row(_tokens):\n",
        "    return np.array([word_to_int_dict[t]\n",
        "                if t in word_to_int_dict\n",
        "                else 0\n",
        "            for t in _tokens])\n",
        "\n",
        "def encode_and_tokenize(_dataframe):\n",
        "\n",
        "    iiii = _dataframe.apply(lambda row: intize_row(row['tokens']), axis = 1)\n",
        "\n",
        "    data_dict_ = { 'label': _dataframe['label'], 'ints': iiii }\n",
        "\n",
        "    intized_ = pd.DataFrame(data_dict_, columns = ['label', 'ints'])\n",
        "\n",
        "    return intized_"
      ],
      "execution_count": 0,
      "outputs": []
    },
    {
      "cell_type": "code",
      "metadata": {
        "id": "HaVH0rXGPTFE",
        "colab_type": "code",
        "colab": {}
      },
      "source": [
        "df_train_intized = encode_and_tokenize(df_train_tokenized)\n",
        "df_test_intized = encode_and_tokenize(df_test_tokenized)"
      ],
      "execution_count": 0,
      "outputs": []
    },
    {
      "cell_type": "markdown",
      "metadata": {
        "id": "d9_f_zIukTGK",
        "colab_type": "text"
      },
      "source": [
        "### Задание 2\n",
        "\n",
        "Реализуйте и обучите двунаправленную рекуррентную сеть (_LSTM_ или _GRU_).\n",
        "\n",
        "Какого качества классификации удалось достичь?"
      ]
    },
    {
      "cell_type": "code",
      "metadata": {
        "id": "s-f0LrGwRvI-",
        "colab_type": "code",
        "outputId": "5f758c6b-f48b-4ab4-ab26-7b86ee1e902e",
        "colab": {
          "base_uri": "https://localhost:8080/",
          "height": 230
        }
      },
      "source": [
        "! pip install tensorflow-gpu --pre --quiet\n",
        "\n",
        "! pip show tensorflow-gpu"
      ],
      "execution_count": 18,
      "outputs": [
        {
          "output_type": "stream",
          "text": [
            "\u001b[K     |████████████████████████████████| 516.2MB 30kB/s \n",
            "\u001b[?25hName: tensorflow-gpu\n",
            "Version: 2.2.0rc3\n",
            "Summary: TensorFlow is an open source machine learning framework for everyone.\n",
            "Home-page: https://www.tensorflow.org/\n",
            "Author: Google Inc.\n",
            "Author-email: packages@tensorflow.org\n",
            "License: Apache 2.0\n",
            "Location: /usr/local/lib/python3.6/dist-packages\n",
            "Requires: wheel, google-pasta, grpcio, opt-einsum, keras-preprocessing, scipy, tensorflow-estimator, six, astunparse, numpy, termcolor, wrapt, tensorboard, gast, h5py, absl-py, protobuf\n",
            "Required-by: \n"
          ],
          "name": "stdout"
        }
      ]
    },
    {
      "cell_type": "code",
      "metadata": {
        "id": "56BJY9L3Rya4",
        "colab_type": "code",
        "colab": {}
      },
      "source": [
        "import tensorflow as tf\n",
        "from tensorflow import keras"
      ],
      "execution_count": 0,
      "outputs": []
    },
    {
      "cell_type": "code",
      "metadata": {
        "id": "1lYKHRn1RMbB",
        "colab_type": "code",
        "colab": {}
      },
      "source": [
        "# To fix memory leak: https://github.com/tensorflow/tensorflow/issues/33009\n",
        "\n",
        "tf.compat.v1.disable_eager_execution()"
      ],
      "execution_count": 0,
      "outputs": []
    },
    {
      "cell_type": "markdown",
      "metadata": {
        "id": "sPBbuJMWH9FM",
        "colab_type": "text"
      },
      "source": [
        "Здесь будем использовать такую конфигурацию рекуррентного _LSTM_-слоя, которая позволит использовать очень быструю _cuDNN_ имплементацию."
      ]
    },
    {
      "cell_type": "code",
      "metadata": {
        "id": "Jl8QgL8YR3MB",
        "colab_type": "code",
        "outputId": "cbd31526-8f7b-47e4-d220-79655ca56612",
        "colab": {
          "base_uri": "https://localhost:8080/",
          "height": 142
        }
      },
      "source": [
        "from tensorflow.keras.models import Sequential\n",
        "from tensorflow.keras.layers import Bidirectional, LSTM, Dense\n",
        "\n",
        "# The requirements to use the cuDNN implementation are:\n",
        "# 1. `activation` == `tanh`\n",
        "# 2. `recurrent_activation` == `sigmoid`\n",
        "# 3. `recurrent_dropout` == 0\n",
        "# 4. `unroll` is `False`\n",
        "# 5. `use_bias` is `True`\n",
        "# 6. `reset_after` is `True`\n",
        "# 7. Inputs, if use masking, are strictly right-padded.\n",
        "\n",
        "model = tf.keras.Sequential()\n",
        "\n",
        "model.add(Bidirectional(LSTM(100, return_sequences = False), merge_mode = 'concat',\n",
        "          input_shape = (MAX_LENGTH, 1)))\n",
        "model.add(Dense(1, activation = 'sigmoid'))"
      ],
      "execution_count": 21,
      "outputs": [
        {
          "output_type": "stream",
          "text": [
            "WARNING:tensorflow:Layer lstm will not use cuDNN kernel since it doesn't meet the cuDNN kernel criteria. It will use generic GPU kernel as fallback when running on GPU\n",
            "WARNING:tensorflow:Layer lstm will not use cuDNN kernel since it doesn't meet the cuDNN kernel criteria. It will use generic GPU kernel as fallback when running on GPU\n",
            "WARNING:tensorflow:Layer lstm will not use cuDNN kernel since it doesn't meet the cuDNN kernel criteria. It will use generic GPU kernel as fallback when running on GPU\n",
            "WARNING:tensorflow:From /usr/local/lib/python3.6/dist-packages/tensorflow/python/ops/resource_variable_ops.py:1666: calling BaseResourceVariable.__init__ (from tensorflow.python.ops.resource_variable_ops) with constraint is deprecated and will be removed in a future version.\n",
            "Instructions for updating:\n",
            "If using Keras pass *_constraint arguments to layers.\n"
          ],
          "name": "stdout"
        }
      ]
    },
    {
      "cell_type": "code",
      "metadata": {
        "id": "0XOQCFPLSxAY",
        "colab_type": "code",
        "outputId": "426c5d7e-231d-4259-b451-6f92eb5303a0",
        "colab": {
          "base_uri": "https://localhost:8080/",
          "height": 228
        }
      },
      "source": [
        "model.compile(optimizer = 'adam',\n",
        "              loss = 'binary_crossentropy',\n",
        "              metrics = ['accuracy'])\n",
        "\n",
        "model.summary()"
      ],
      "execution_count": 22,
      "outputs": [
        {
          "output_type": "stream",
          "text": [
            "Model: \"sequential\"\n",
            "_________________________________________________________________\n",
            "Layer (type)                 Output Shape              Param #   \n",
            "=================================================================\n",
            "bidirectional (Bidirectional (None, 200)               81600     \n",
            "_________________________________________________________________\n",
            "dense (Dense)                (None, 1)                 201       \n",
            "=================================================================\n",
            "Total params: 81,801\n",
            "Trainable params: 81,801\n",
            "Non-trainable params: 0\n",
            "_________________________________________________________________\n"
          ],
          "name": "stdout"
        }
      ]
    },
    {
      "cell_type": "code",
      "metadata": {
        "id": "0P7S_oSbUyqR",
        "colab_type": "code",
        "colab": {}
      },
      "source": [
        "X_train_intized = np.asarray(list(df_train_intized['ints'].values), dtype = float)[..., np.newaxis]\n",
        "X_test_intized = np.asarray(list(df_test_intized['ints'].values), dtype = float)[..., np.newaxis]\n",
        "\n",
        "y_train_intized = np.asarray(list(df_train_intized['label'].values))\n",
        "y_test_intized = np.asarray(list(df_test_intized['label'].values))"
      ],
      "execution_count": 0,
      "outputs": []
    },
    {
      "cell_type": "code",
      "metadata": {
        "id": "VCBDllgPS5v4",
        "colab_type": "code",
        "outputId": "1c50a6fd-0c17-41a8-844b-eef70888e236",
        "colab": {
          "base_uri": "https://localhost:8080/",
          "height": 738
        }
      },
      "source": [
        "history = model.fit(x = X_train_intized, y = y_train_intized, validation_split = 0.15, epochs = 20)"
      ],
      "execution_count": 24,
      "outputs": [
        {
          "output_type": "stream",
          "text": [
            "Train on 38250 samples, validate on 6750 samples\n",
            "Epoch 1/20\n",
            "38250/38250 [==============================] - 50s 1ms/sample - loss: 0.6937 - accuracy: 0.5199 - val_loss: 0.6879 - val_accuracy: 0.5447\n",
            "Epoch 2/20\n",
            "38250/38250 [==============================] - 49s 1ms/sample - loss: 0.6883 - accuracy: 0.5420 - val_loss: 0.6892 - val_accuracy: 0.5348\n",
            "Epoch 3/20\n",
            "38250/38250 [==============================] - 49s 1ms/sample - loss: 0.6859 - accuracy: 0.5495 - val_loss: 0.6883 - val_accuracy: 0.5519\n",
            "Epoch 4/20\n",
            "38250/38250 [==============================] - 49s 1ms/sample - loss: 0.6842 - accuracy: 0.5548 - val_loss: 0.6832 - val_accuracy: 0.5538\n",
            "Epoch 5/20\n",
            "38250/38250 [==============================] - 48s 1ms/sample - loss: 0.6814 - accuracy: 0.5604 - val_loss: 0.6834 - val_accuracy: 0.5567\n",
            "Epoch 6/20\n",
            "38250/38250 [==============================] - 48s 1ms/sample - loss: 0.6795 - accuracy: 0.5670 - val_loss: 0.6835 - val_accuracy: 0.5545\n",
            "Epoch 7/20\n",
            "38250/38250 [==============================] - 49s 1ms/sample - loss: 0.6769 - accuracy: 0.5690 - val_loss: 0.6813 - val_accuracy: 0.5609\n",
            "Epoch 8/20\n",
            "38250/38250 [==============================] - 48s 1ms/sample - loss: 0.6750 - accuracy: 0.5748 - val_loss: 0.6784 - val_accuracy: 0.5671\n",
            "Epoch 9/20\n",
            "38250/38250 [==============================] - 48s 1ms/sample - loss: 0.6728 - accuracy: 0.5766 - val_loss: 0.6777 - val_accuracy: 0.5665\n",
            "Epoch 10/20\n",
            "38250/38250 [==============================] - 48s 1ms/sample - loss: 0.6705 - accuracy: 0.5816 - val_loss: 0.6831 - val_accuracy: 0.5585\n",
            "Epoch 11/20\n",
            "38250/38250 [==============================] - 48s 1ms/sample - loss: 0.6692 - accuracy: 0.5856 - val_loss: 0.6794 - val_accuracy: 0.5667\n",
            "Epoch 12/20\n",
            "38250/38250 [==============================] - 48s 1ms/sample - loss: 0.6664 - accuracy: 0.5882 - val_loss: 0.6751 - val_accuracy: 0.5721\n",
            "Epoch 13/20\n",
            "38250/38250 [==============================] - 48s 1ms/sample - loss: 0.6653 - accuracy: 0.5893 - val_loss: 0.6769 - val_accuracy: 0.5698\n",
            "Epoch 14/20\n",
            "38250/38250 [==============================] - 49s 1ms/sample - loss: 0.6626 - accuracy: 0.5925 - val_loss: 0.6735 - val_accuracy: 0.5757\n",
            "Epoch 15/20\n",
            "38250/38250 [==============================] - 48s 1ms/sample - loss: 0.6606 - accuracy: 0.5983 - val_loss: 0.6833 - val_accuracy: 0.5676\n",
            "Epoch 16/20\n",
            "38250/38250 [==============================] - 48s 1ms/sample - loss: 0.6592 - accuracy: 0.5974 - val_loss: 0.6769 - val_accuracy: 0.5702\n",
            "Epoch 17/20\n",
            "38250/38250 [==============================] - 48s 1ms/sample - loss: 0.6559 - accuracy: 0.6018 - val_loss: 0.6763 - val_accuracy: 0.5751\n",
            "Epoch 18/20\n",
            "38250/38250 [==============================] - 48s 1ms/sample - loss: 0.6526 - accuracy: 0.6098 - val_loss: 0.6780 - val_accuracy: 0.5763\n",
            "Epoch 19/20\n",
            "38250/38250 [==============================] - 48s 1ms/sample - loss: 0.6498 - accuracy: 0.6117 - val_loss: 0.6763 - val_accuracy: 0.5809\n",
            "Epoch 20/20\n",
            "38250/38250 [==============================] - 49s 1ms/sample - loss: 0.6467 - accuracy: 0.6119 - val_loss: 0.6789 - val_accuracy: 0.5727\n"
          ],
          "name": "stdout"
        }
      ]
    },
    {
      "cell_type": "code",
      "metadata": {
        "id": "p23z5zkYca8R",
        "colab_type": "code",
        "colab": {}
      },
      "source": [
        "%matplotlib inline\n",
        "\n",
        "import matplotlib.pyplot as plt"
      ],
      "execution_count": 0,
      "outputs": []
    },
    {
      "cell_type": "code",
      "metadata": {
        "id": "Pu9GlIpcccGb",
        "colab_type": "code",
        "colab": {
          "base_uri": "https://localhost:8080/",
          "height": 72
        },
        "outputId": "138aab14-c940-4ccf-f72f-f60d41210f6f"
      },
      "source": [
        "import seaborn as sns\n",
        "\n",
        "from matplotlib import rcParams\n",
        "\n",
        "rcParams['figure.figsize'] = 11.7, 8.27\n",
        "\n",
        "sns.set()\n",
        "\n",
        "sns.set_palette(sns.color_palette('hls'))"
      ],
      "execution_count": 26,
      "outputs": [
        {
          "output_type": "stream",
          "text": [
            "/usr/local/lib/python3.6/dist-packages/statsmodels/tools/_testing.py:19: FutureWarning: pandas.util.testing is deprecated. Use the functions in the public API at pandas.testing instead.\n",
            "  import pandas.util.testing as tm\n"
          ],
          "name": "stderr"
        }
      ]
    },
    {
      "cell_type": "code",
      "metadata": {
        "id": "5WN02E9Ecdls",
        "colab_type": "code",
        "colab": {
          "base_uri": "https://localhost:8080/",
          "height": 1000
        },
        "outputId": "c91b3479-37ab-487a-fdac-ab5c2ef7d580"
      },
      "source": [
        "plt.plot(history.history['accuracy'])\n",
        "plt.plot(history.history['val_accuracy'])\n",
        "plt.title('Model accuracy')\n",
        "plt.ylabel('Accuracy')\n",
        "plt.xlabel('Epoch')\n",
        "plt.legend(['Train', 'Validation'], loc = 'upper left')\n",
        "plt.show()\n",
        "\n",
        "plt.plot(history.history['loss'])\n",
        "plt.plot(history.history['val_loss'])\n",
        "plt.title('Model loss')\n",
        "plt.ylabel('Loss')\n",
        "plt.xlabel('Epoch')\n",
        "plt.legend(['Train', 'Validation'], loc = 'upper left')\n",
        "plt.show()"
      ],
      "execution_count": 27,
      "outputs": [
        {
          "output_type": "display_data",
          "data": {
            "image/png": "[encoded data removed]",
            "text/plain": [
              "<Figure size 842.4x595.44 with 1 Axes>"
            ]
          },
          "metadata": {
            "tags": []
          }
        },
        {
          "output_type": "display_data",
          "data": {
            "image/png": "[encoded data removed]",
            "text/plain": [
              "<Figure size 842.4x595.44 with 1 Axes>"
            ]
          },
          "metadata": {
            "tags": []
          }
        }
      ]
    },
    {
      "cell_type": "code",
      "metadata": {
        "id": "iB5Yf25n5IDZ",
        "colab_type": "code",
        "outputId": "c05823f6-44ac-43f3-b903-dcaf42fb54e7",
        "colab": {
          "base_uri": "https://localhost:8080/",
          "height": 34
        }
      },
      "source": [
        "results = model.evaluate(X_test_intized, y_test_intized)\n",
        "\n",
        "print('Test loss, test accuracy:', results)"
      ],
      "execution_count": 28,
      "outputs": [
        {
          "output_type": "stream",
          "text": [
            "Test loss, test accuracy: [0.682829614162445, 0.5698]\n"
          ],
          "name": "stdout"
        }
      ]
    },
    {
      "cell_type": "markdown",
      "metadata": {
        "id": "77UZR8gEQzLX",
        "colab_type": "text"
      },
      "source": [
        "На валидационной выборке удалось достичь точности 56%."
      ]
    },
    {
      "cell_type": "markdown",
      "metadata": {
        "id": "x2DsAeq2kbGK",
        "colab_type": "text"
      },
      "source": [
        "### Задание 3\n",
        "\n",
        "Используйте индексы слов и их различное внутреннее представление (_word2vec_, _glove_). Как влияет данное преобразование на качество классификации?"
      ]
    },
    {
      "cell_type": "markdown",
      "metadata": {
        "id": "Ae7ziw75aupE",
        "colab_type": "text"
      },
      "source": [
        "Используем 300-мерные вектора _FastTest_ &mdash; лучшую на сегодняшний день имплементацию word2vec: https://fasttext.cc/docs/en/english-vectors.html. Файл пришлось доработать &mdash; 9-я строка не читалась."
      ]
    },
    {
      "cell_type": "code",
      "metadata": {
        "id": "ckBXWDOka8ci",
        "colab_type": "code",
        "colab": {}
      },
      "source": [
        "# VECTORS_ARCHIVE_NAME = 'wiki-news-300d-1M-fixed.zip'\n",
        "\n",
        "# VECTORS_FILE_NAME = 'wiki-news-300d-1M-fixed.vec'\n",
        "\n",
        "# VECTORS_LOCAL_DIR_NAME = 'vectors'"
      ],
      "execution_count": 0,
      "outputs": []
    },
    {
      "cell_type": "code",
      "metadata": {
        "id": "SNMIh9tmc_gq",
        "colab_type": "code",
        "colab": {}
      },
      "source": [
        "# with ZipFile(os.path.join(BASE_DIR, VECTORS_ARCHIVE_NAME), 'r') as zip_:\n",
        "#     zip_.extractall(VECTORS_LOCAL_DIR_NAME)"
      ],
      "execution_count": 0,
      "outputs": []
    },
    {
      "cell_type": "markdown",
      "metadata": {
        "id": "iZpMbmhxbXQS",
        "colab_type": "text"
      },
      "source": [
        "Создадим уменьшенный словарь, содержащий только встреченные токены, чтобы уменьшить нагрузку на _Google Drive_:"
      ]
    },
    {
      "cell_type": "code",
      "metadata": {
        "id": "ZLWp8IDobtve",
        "colab_type": "code",
        "colab": {}
      },
      "source": [
        "# def build_vectors_dict(_actual_tokens, _vectors_file_path, _unknown_token = 'unknown'):\n",
        "\n",
        "#     vec_data_ = pd.read_csv(_vectors_file_path, sep = ' ', header = None, skiprows = [9])\n",
        "        \n",
        "#     actual_vectors_ = [x for x in vec_data_.values if x[0] in _actual_tokens or x[0] == _unknown_token]\n",
        "\n",
        "#     return actual_vectors_"
      ],
      "execution_count": 0,
      "outputs": []
    },
    {
      "cell_type": "code",
      "metadata": {
        "id": "kuxUELYlw-yp",
        "colab_type": "code",
        "colab": {}
      },
      "source": [
        "# actual_vectors = build_vectors_dict(tokens_list, os.path.join(VECTORS_LOCAL_DIR_NAME, VECTORS_FILE_NAME))"
      ],
      "execution_count": 0,
      "outputs": []
    },
    {
      "cell_type": "code",
      "metadata": {
        "id": "ACqhxpMRyeIA",
        "colab_type": "code",
        "colab": {}
      },
      "source": [
        "# vectors_np = np.array(actual_vectors)\n",
        "\n",
        "# vectors_dict = dict(zip(vectors_np[:, 0], vectors_np[:, 1:]))\n",
        "\n",
        "# vectors_dict_file_name = 'word-vec-dict-{}-items'.format(len(vectors_dict))\n",
        "\n",
        "# vectors_dict_file_path = os.path.join(BASE_DIR, vectors_dict_file_name)\n",
        "\n",
        "# np.savez_compressed(vectors_dict_file_path, vectors_dict, allow_pickle = True)"
      ],
      "execution_count": 0,
      "outputs": []
    },
    {
      "cell_type": "code",
      "metadata": {
        "id": "Yf1Lw5ogehU0",
        "colab_type": "code",
        "colab": {}
      },
      "source": [
        "vectors_dict_file_path = './drive/My Drive/Colab Files/mo-2/word-vec-dict-56485-items.npz'"
      ],
      "execution_count": 0,
      "outputs": []
    },
    {
      "cell_type": "code",
      "metadata": {
        "id": "utXOK7y5d6wy",
        "colab_type": "code",
        "colab": {}
      },
      "source": [
        "vectors_dict_data = np.load(vectors_dict_file_path, allow_pickle = True)\n",
        "\n",
        "vectors_dict = vectors_dict_data['arr_0'][()]"
      ],
      "execution_count": 0,
      "outputs": []
    },
    {
      "cell_type": "code",
      "metadata": {
        "id": "vnMBGetre6w6",
        "colab_type": "code",
        "colab": {}
      },
      "source": [
        "VECTORS_LENGTH = 300"
      ],
      "execution_count": 0,
      "outputs": []
    },
    {
      "cell_type": "code",
      "metadata": {
        "id": "EARSGQIJe-42",
        "colab_type": "code",
        "colab": {}
      },
      "source": [
        "def tokens_to_vectors(_word_to_vec_dict, _tokens, _unknown_token):\n",
        "    return [_word_to_vec_dict[t]\n",
        "                if t in _word_to_vec_dict\n",
        "                else _word_to_vec_dict[_unknown_token]\n",
        "            for t in _tokens]\n",
        "\n",
        "def row_to_vectors(_tokens):\n",
        "    return np.array(tokens_to_vectors(vectors_dict, _tokens, 'unknown'))\n",
        "\n",
        "def vectorize(_dataframe):\n",
        "\n",
        "    vvvv = _dataframe.apply(lambda row: row_to_vectors(row['tokens']), axis = 1)\n",
        "\n",
        "    data_dict_ = { 'label': _dataframe['label'], 'vectors': vvvv }\n",
        "\n",
        "    vectorized_ = pd.DataFrame(data_dict_, columns = ['label', 'vectors'])\n",
        "\n",
        "    return vectorized_"
      ],
      "execution_count": 0,
      "outputs": []
    },
    {
      "cell_type": "code",
      "metadata": {
        "id": "k9An9BkGfBbT",
        "colab_type": "code",
        "colab": {}
      },
      "source": [
        "df_train_vectorized = vectorize(df_train_tokenized)\n",
        "df_test_vectorized = vectorize(df_test_tokenized)"
      ],
      "execution_count": 0,
      "outputs": []
    },
    {
      "cell_type": "code",
      "metadata": {
        "id": "fBn_Xb67BFu6",
        "colab_type": "code",
        "colab": {}
      },
      "source": [
        "X_train_vectorized = np.asarray(list(df_train_vectorized['vectors'].values), dtype = float)\n",
        "X_test_vectorized = np.asarray(list(df_test_vectorized['vectors'].values), dtype = float)\n",
        "\n",
        "y_train_vectorized = np.asarray(list(df_train_vectorized['label'].values))\n",
        "y_test_vectorized = np.asarray(list(df_test_vectorized['label'].values))"
      ],
      "execution_count": 0,
      "outputs": []
    },
    {
      "cell_type": "code",
      "metadata": {
        "id": "hLgWA1I5Af1C",
        "colab_type": "code",
        "outputId": "4e5c5186-f58e-49ff-83e5-9d82fe49ce04",
        "colab": {
          "base_uri": "https://localhost:8080/",
          "height": 90
        }
      },
      "source": [
        "model_2 = tf.keras.Sequential()\n",
        "\n",
        "model_2.add(Bidirectional(LSTM(100, return_sequences = False), merge_mode = 'concat',\n",
        "            input_shape = (MAX_LENGTH, VECTORS_LENGTH)))\n",
        "model_2.add(Dense(1, activation = 'sigmoid'))"
      ],
      "execution_count": 40,
      "outputs": [
        {
          "output_type": "stream",
          "text": [
            "WARNING:tensorflow:Layer lstm_1 will not use cuDNN kernel since it doesn't meet the cuDNN kernel criteria. It will use generic GPU kernel as fallback when running on GPU\n",
            "WARNING:tensorflow:Layer lstm_1 will not use cuDNN kernel since it doesn't meet the cuDNN kernel criteria. It will use generic GPU kernel as fallback when running on GPU\n",
            "WARNING:tensorflow:Layer lstm_1 will not use cuDNN kernel since it doesn't meet the cuDNN kernel criteria. It will use generic GPU kernel as fallback when running on GPU\n"
          ],
          "name": "stdout"
        }
      ]
    },
    {
      "cell_type": "code",
      "metadata": {
        "id": "y4aP2xGUAg95",
        "colab_type": "code",
        "outputId": "3964eb68-6163-40e4-b5ab-b9c06ac78c34",
        "colab": {
          "base_uri": "https://localhost:8080/",
          "height": 228
        }
      },
      "source": [
        "model_2.compile(optimizer = 'adam',\n",
        "                loss = 'binary_crossentropy',\n",
        "                metrics = ['accuracy'])\n",
        "\n",
        "model_2.summary()"
      ],
      "execution_count": 41,
      "outputs": [
        {
          "output_type": "stream",
          "text": [
            "Model: \"sequential_1\"\n",
            "_________________________________________________________________\n",
            "Layer (type)                 Output Shape              Param #   \n",
            "=================================================================\n",
            "bidirectional_1 (Bidirection (None, 200)               320800    \n",
            "_________________________________________________________________\n",
            "dense_1 (Dense)              (None, 1)                 201       \n",
            "=================================================================\n",
            "Total params: 321,001\n",
            "Trainable params: 321,001\n",
            "Non-trainable params: 0\n",
            "_________________________________________________________________\n"
          ],
          "name": "stdout"
        }
      ]
    },
    {
      "cell_type": "code",
      "metadata": {
        "id": "pRer4D7hAjPs",
        "colab_type": "code",
        "outputId": "eee09f36-6972-407c-da44-e320d55ba012",
        "colab": {
          "base_uri": "https://localhost:8080/",
          "height": 738
        }
      },
      "source": [
        "history_2 = model_2.fit(x = X_train_vectorized, y = y_train_vectorized, validation_split = 0.15, epochs = 20)"
      ],
      "execution_count": 42,
      "outputs": [
        {
          "output_type": "stream",
          "text": [
            "Train on 38250 samples, validate on 6750 samples\n",
            "Epoch 1/20\n",
            "38250/38250 [==============================] - 53s 1ms/sample - loss: 0.5449 - accuracy: 0.7137 - val_loss: 0.5143 - val_accuracy: 0.7422\n",
            "Epoch 2/20\n",
            "38250/38250 [==============================] - 53s 1ms/sample - loss: 0.4866 - accuracy: 0.7559 - val_loss: 0.4913 - val_accuracy: 0.7604\n",
            "Epoch 3/20\n",
            "38250/38250 [==============================] - 53s 1ms/sample - loss: 0.4594 - accuracy: 0.7755 - val_loss: 0.4766 - val_accuracy: 0.7618\n",
            "Epoch 4/20\n",
            "38250/38250 [==============================] - 53s 1ms/sample - loss: 0.4364 - accuracy: 0.7881 - val_loss: 0.4598 - val_accuracy: 0.7708\n",
            "Epoch 5/20\n",
            "38250/38250 [==============================] - 53s 1ms/sample - loss: 0.4095 - accuracy: 0.8028 - val_loss: 0.4932 - val_accuracy: 0.7527\n",
            "Epoch 6/20\n",
            "38250/38250 [==============================] - 53s 1ms/sample - loss: 0.3818 - accuracy: 0.8222 - val_loss: 0.4736 - val_accuracy: 0.7698\n",
            "Epoch 7/20\n",
            "38250/38250 [==============================] - 52s 1ms/sample - loss: 0.3469 - accuracy: 0.8403 - val_loss: 0.5053 - val_accuracy: 0.7677\n",
            "Epoch 8/20\n",
            "38250/38250 [==============================] - 52s 1ms/sample - loss: 0.3047 - accuracy: 0.8647 - val_loss: 0.5212 - val_accuracy: 0.7633\n",
            "Epoch 9/20\n",
            "38250/38250 [==============================] - 52s 1ms/sample - loss: 0.2579 - accuracy: 0.8875 - val_loss: 0.5661 - val_accuracy: 0.7609\n",
            "Epoch 10/20\n",
            "38250/38250 [==============================] - 52s 1ms/sample - loss: 0.2083 - accuracy: 0.9137 - val_loss: 0.6364 - val_accuracy: 0.7572\n",
            "Epoch 11/20\n",
            "38250/38250 [==============================] - 52s 1ms/sample - loss: 0.1586 - accuracy: 0.9374 - val_loss: 0.7294 - val_accuracy: 0.7529\n",
            "Epoch 12/20\n",
            "38250/38250 [==============================] - 51s 1ms/sample - loss: 0.1128 - accuracy: 0.9570 - val_loss: 0.8719 - val_accuracy: 0.7545\n",
            "Epoch 13/20\n",
            "38250/38250 [==============================] - 51s 1ms/sample - loss: 0.0804 - accuracy: 0.9714 - val_loss: 0.9297 - val_accuracy: 0.7564\n",
            "Epoch 14/20\n",
            "38250/38250 [==============================] - 51s 1ms/sample - loss: 0.0552 - accuracy: 0.9817 - val_loss: 1.0989 - val_accuracy: 0.7508\n",
            "Epoch 15/20\n",
            "38250/38250 [==============================] - 51s 1ms/sample - loss: 0.0443 - accuracy: 0.9859 - val_loss: 1.2276 - val_accuracy: 0.7516\n",
            "Epoch 16/20\n",
            "38250/38250 [==============================] - 51s 1ms/sample - loss: 0.0406 - accuracy: 0.9872 - val_loss: 1.2833 - val_accuracy: 0.7419\n",
            "Epoch 17/20\n",
            "38250/38250 [==============================] - 51s 1ms/sample - loss: 0.0322 - accuracy: 0.9904 - val_loss: 1.2227 - val_accuracy: 0.7446\n",
            "Epoch 18/20\n",
            "38250/38250 [==============================] - 51s 1ms/sample - loss: 0.0253 - accuracy: 0.9922 - val_loss: 1.3247 - val_accuracy: 0.7449\n",
            "Epoch 19/20\n",
            "38250/38250 [==============================] - 51s 1ms/sample - loss: 0.0286 - accuracy: 0.9907 - val_loss: 1.3299 - val_accuracy: 0.7588\n",
            "Epoch 20/20\n",
            "38250/38250 [==============================] - 51s 1ms/sample - loss: 0.0209 - accuracy: 0.9938 - val_loss: 1.4388 - val_accuracy: 0.7566\n"
          ],
          "name": "stdout"
        }
      ]
    },
    {
      "cell_type": "code",
      "metadata": {
        "id": "v_jswqw1cjZt",
        "colab_type": "code",
        "colab": {
          "base_uri": "https://localhost:8080/",
          "height": 1000
        },
        "outputId": "2cc41b46-b797-43dd-c931-20dbafa09f8a"
      },
      "source": [
        "plt.plot(history_2.history['accuracy'])\n",
        "plt.plot(history_2.history['val_accuracy'])\n",
        "plt.title('Model accuracy')\n",
        "plt.ylabel('Accuracy')\n",
        "plt.xlabel('Epoch')\n",
        "plt.legend(['Train', 'Validation'], loc = 'upper left')\n",
        "plt.show()\n",
        "\n",
        "plt.plot(history_2.history['loss'])\n",
        "plt.plot(history_2.history['val_loss'])\n",
        "plt.title('Model loss')\n",
        "plt.ylabel('Loss')\n",
        "plt.xlabel('Epoch')\n",
        "plt.legend(['Train', 'Validation'], loc = 'upper left')\n",
        "plt.show()"
      ],
      "execution_count": 43,
      "outputs": [
        {
          "output_type": "display_data",
          "data": {
            "image/png": "[encoded data removed]",
            "text/plain": [
              "<Figure size 842.4x595.44 with 1 Axes>"
            ]
          },
          "metadata": {
            "tags": []
          }
        },
        {
          "output_type": "display_data",
          "data": {
            "image/png": "[encoded data removed]",
            "text/plain": [
              "<Figure size 842.4x595.44 with 1 Axes>"
            ]
          },
          "metadata": {
            "tags": []
          }
        }
      ]
    },
    {
      "cell_type": "code",
      "metadata": {
        "id": "y3IrWkrg5r5D",
        "colab_type": "code",
        "outputId": "b27cdd0b-2739-413a-ac6d-026e9836d714",
        "colab": {
          "base_uri": "https://localhost:8080/",
          "height": 34
        }
      },
      "source": [
        "results_2 = model_2.evaluate(X_test_vectorized, y_test_vectorized)\n",
        "\n",
        "print('Test loss, test accuracy:', results_2)"
      ],
      "execution_count": 44,
      "outputs": [
        {
          "output_type": "stream",
          "text": [
            "Test loss, test accuracy: [1.4954523480892181, 0.7468]\n"
          ],
          "name": "stdout"
        }
      ]
    },
    {
      "cell_type": "markdown",
      "metadata": {
        "id": "OMYZ-lb8v46D",
        "colab_type": "text"
      },
      "source": [
        "Как и ожидалось, использование эмбеддингов показало лучший результат, чем кодирование слов просто целыми числами &mdash; 74%."
      ]
    },
    {
      "cell_type": "markdown",
      "metadata": {
        "id": "D5-qnk0zkiE8",
        "colab_type": "text"
      },
      "source": [
        "### Задание 4\n",
        "\n",
        "Поэкспериментируйте со структурой сети (добавьте больше рекуррентных, полносвязных или сверточных слоев). Как это повлияло на качество классификации?"
      ]
    },
    {
      "cell_type": "code",
      "metadata": {
        "id": "SlGF30EoJRvF",
        "colab_type": "code",
        "outputId": "c5e1946f-bbd0-4243-f925-465ff34a5a2d",
        "colab": {
          "base_uri": "https://localhost:8080/",
          "height": 107
        }
      },
      "source": [
        "model_3 = tf.keras.Sequential()\n",
        "\n",
        "model_3.add(Bidirectional(LSTM(5, return_sequences = True), merge_mode = 'concat',\n",
        "            input_shape = (MAX_LENGTH, VECTORS_LENGTH)))\n",
        "model_3.add(LSTM(1, return_sequences = False))\n",
        "model_3.add(Dense(10, activation = 'linear'))\n",
        "model_3.add(Dense(1, activation = 'sigmoid'))"
      ],
      "execution_count": 45,
      "outputs": [
        {
          "output_type": "stream",
          "text": [
            "WARNING:tensorflow:Layer lstm_2 will not use cuDNN kernel since it doesn't meet the cuDNN kernel criteria. It will use generic GPU kernel as fallback when running on GPU\n",
            "WARNING:tensorflow:Layer lstm_2 will not use cuDNN kernel since it doesn't meet the cuDNN kernel criteria. It will use generic GPU kernel as fallback when running on GPU\n",
            "WARNING:tensorflow:Layer lstm_2 will not use cuDNN kernel since it doesn't meet the cuDNN kernel criteria. It will use generic GPU kernel as fallback when running on GPU\n",
            "WARNING:tensorflow:Layer lstm_3 will not use cuDNN kernel since it doesn't meet the cuDNN kernel criteria. It will use generic GPU kernel as fallback when running on GPU\n"
          ],
          "name": "stdout"
        }
      ]
    },
    {
      "cell_type": "code",
      "metadata": {
        "id": "4f95YCmTJaMd",
        "colab_type": "code",
        "outputId": "377ecdda-f63d-48e8-9c75-eb4a1b61faa0",
        "colab": {
          "base_uri": "https://localhost:8080/",
          "height": 298
        }
      },
      "source": [
        "model_3.compile(optimizer = 'adam',\n",
        "                loss = 'binary_crossentropy',\n",
        "                metrics = ['accuracy'])\n",
        "\n",
        "model_3.summary()"
      ],
      "execution_count": 46,
      "outputs": [
        {
          "output_type": "stream",
          "text": [
            "Model: \"sequential_2\"\n",
            "_________________________________________________________________\n",
            "Layer (type)                 Output Shape              Param #   \n",
            "=================================================================\n",
            "bidirectional_2 (Bidirection (None, 40, 10)            12240     \n",
            "_________________________________________________________________\n",
            "lstm_3 (LSTM)                (None, 1)                 48        \n",
            "_________________________________________________________________\n",
            "dense_2 (Dense)              (None, 10)                20        \n",
            "_________________________________________________________________\n",
            "dense_3 (Dense)              (None, 1)                 11        \n",
            "=================================================================\n",
            "Total params: 12,319\n",
            "Trainable params: 12,319\n",
            "Non-trainable params: 0\n",
            "_________________________________________________________________\n"
          ],
          "name": "stdout"
        }
      ]
    },
    {
      "cell_type": "code",
      "metadata": {
        "id": "qucrLBmfJc4K",
        "colab_type": "code",
        "outputId": "9659dbac-d3a6-4661-ce38-7fd1c47134e0",
        "colab": {
          "base_uri": "https://localhost:8080/",
          "height": 738
        }
      },
      "source": [
        "history_3 = model_3.fit(x = X_train_vectorized, y = y_train_vectorized, validation_split = 0.15, epochs = 20)"
      ],
      "execution_count": 50,
      "outputs": [
        {
          "output_type": "stream",
          "text": [
            "Train on 38250 samples, validate on 6750 samples\n",
            "Epoch 1/20\n",
            "38250/38250 [==============================] - 84s 2ms/sample - loss: 0.3770 - accuracy: 0.8253 - val_loss: 0.4855 - val_accuracy: 0.7699\n",
            "Epoch 2/20\n",
            "38250/38250 [==============================] - 82s 2ms/sample - loss: 0.3720 - accuracy: 0.8275 - val_loss: 0.5009 - val_accuracy: 0.7649\n",
            "Epoch 3/20\n",
            "38250/38250 [==============================] - 82s 2ms/sample - loss: 0.3676 - accuracy: 0.8303 - val_loss: 0.4929 - val_accuracy: 0.7756\n",
            "Epoch 4/20\n",
            "38250/38250 [==============================] - 82s 2ms/sample - loss: 0.3649 - accuracy: 0.8318 - val_loss: 0.4934 - val_accuracy: 0.7733\n",
            "Epoch 5/20\n",
            "38250/38250 [==============================] - 81s 2ms/sample - loss: 0.3603 - accuracy: 0.8339 - val_loss: 0.5004 - val_accuracy: 0.7630\n",
            "Epoch 6/20\n",
            "38250/38250 [==============================] - 81s 2ms/sample - loss: 0.3571 - accuracy: 0.8376 - val_loss: 0.5087 - val_accuracy: 0.7677\n",
            "Epoch 7/20\n",
            "38250/38250 [==============================] - 83s 2ms/sample - loss: 0.3524 - accuracy: 0.8388 - val_loss: 0.4985 - val_accuracy: 0.7727\n",
            "Epoch 8/20\n",
            "38250/38250 [==============================] - 85s 2ms/sample - loss: 0.3492 - accuracy: 0.8400 - val_loss: 0.5036 - val_accuracy: 0.7711\n",
            "Epoch 9/20\n",
            "38250/38250 [==============================] - 85s 2ms/sample - loss: 0.3474 - accuracy: 0.8409 - val_loss: 0.5124 - val_accuracy: 0.7668\n",
            "Epoch 10/20\n",
            "38250/38250 [==============================] - 84s 2ms/sample - loss: 0.3432 - accuracy: 0.8440 - val_loss: 0.4945 - val_accuracy: 0.7705\n",
            "Epoch 11/20\n",
            "38250/38250 [==============================] - 83s 2ms/sample - loss: 0.3372 - accuracy: 0.8462 - val_loss: 0.5378 - val_accuracy: 0.7655\n",
            "Epoch 12/20\n",
            "38250/38250 [==============================] - 84s 2ms/sample - loss: 0.3365 - accuracy: 0.8462 - val_loss: 0.5131 - val_accuracy: 0.7701\n",
            "Epoch 13/20\n",
            "38250/38250 [==============================] - 84s 2ms/sample - loss: 0.3315 - accuracy: 0.8477 - val_loss: 0.5216 - val_accuracy: 0.7702\n",
            "Epoch 14/20\n",
            "38250/38250 [==============================] - 83s 2ms/sample - loss: 0.3296 - accuracy: 0.8509 - val_loss: 0.5189 - val_accuracy: 0.7673\n",
            "Epoch 15/20\n",
            "38250/38250 [==============================] - 83s 2ms/sample - loss: 0.3275 - accuracy: 0.8525 - val_loss: 0.5378 - val_accuracy: 0.7650\n",
            "Epoch 16/20\n",
            "38250/38250 [==============================] - 84s 2ms/sample - loss: 0.3240 - accuracy: 0.8524 - val_loss: 0.5619 - val_accuracy: 0.7686\n",
            "Epoch 17/20\n",
            "38250/38250 [==============================] - 83s 2ms/sample - loss: 0.3214 - accuracy: 0.8536 - val_loss: 0.5621 - val_accuracy: 0.7679\n",
            "Epoch 18/20\n",
            "38250/38250 [==============================] - 82s 2ms/sample - loss: 0.3182 - accuracy: 0.8564 - val_loss: 0.5480 - val_accuracy: 0.7649\n",
            "Epoch 19/20\n",
            "38250/38250 [==============================] - 83s 2ms/sample - loss: 0.3148 - accuracy: 0.8601 - val_loss: 0.5656 - val_accuracy: 0.7631\n",
            "Epoch 20/20\n",
            "38250/38250 [==============================] - 82s 2ms/sample - loss: 0.3131 - accuracy: 0.8586 - val_loss: 0.5506 - val_accuracy: 0.7693\n"
          ],
          "name": "stdout"
        }
      ]
    },
    {
      "cell_type": "code",
      "metadata": {
        "id": "WMNHzBhPiIxl",
        "colab_type": "code",
        "colab": {
          "base_uri": "https://localhost:8080/",
          "height": 1000
        },
        "outputId": "cf9c163f-3bd2-4b32-ff30-872b7a000fb2"
      },
      "source": [
        "plt.plot(history_3.history['accuracy'])\n",
        "plt.plot(history_3.history['val_accuracy'])\n",
        "plt.title('Model accuracy')\n",
        "plt.ylabel('Accuracy')\n",
        "plt.xlabel('Epoch')\n",
        "plt.legend(['Train', 'Validation'], loc = 'upper left')\n",
        "plt.show()\n",
        "\n",
        "plt.plot(history_3.history['loss'])\n",
        "plt.plot(history_3.history['val_loss'])\n",
        "plt.title('Model loss')\n",
        "plt.ylabel('Loss')\n",
        "plt.xlabel('Epoch')\n",
        "plt.legend(['Train', 'Validation'], loc = 'upper left')\n",
        "plt.show()"
      ],
      "execution_count": 51,
      "outputs": [
        {
          "output_type": "display_data",
          "data": {
            "image/png": "[encoded data removed]",
            "text/plain": [
              "<Figure size 842.4x595.44 with 1 Axes>"
            ]
          },
          "metadata": {
            "tags": []
          }
        },
        {
          "output_type": "display_data",
          "data": {
            "image/png": "[encoded data removed]",
            "text/plain": [
              "<Figure size 842.4x595.44 with 1 Axes>"
            ]
          },
          "metadata": {
            "tags": []
          }
        }
      ]
    },
    {
      "cell_type": "code",
      "metadata": {
        "id": "z-pX922T57QU",
        "colab_type": "code",
        "outputId": "a47df83d-8b38-462f-d2e5-5390c48a433c",
        "colab": {
          "base_uri": "https://localhost:8080/",
          "height": 34
        }
      },
      "source": [
        "results_3 = model_3.evaluate(X_test_vectorized, y_test_vectorized)\n",
        "\n",
        "print('Test loss, test accuracy:', results_3)"
      ],
      "execution_count": 52,
      "outputs": [
        {
          "output_type": "stream",
          "text": [
            "Test loss, test accuracy: [0.5695644823074341, 0.7558]\n"
          ],
          "name": "stdout"
        }
      ]
    },
    {
      "cell_type": "markdown",
      "metadata": {
        "id": "QjPIsrSpwICB",
        "colab_type": "text"
      },
      "source": [
        "Добавление ещё одного рекуррентного слоя ненамного улучшило результат &mdash; точность 75% на тестовой выборке."
      ]
    },
    {
      "cell_type": "markdown",
      "metadata": {
        "id": "EZ1LfR8dkrK8",
        "colab_type": "text"
      },
      "source": [
        "### Задание 5\n",
        "\n",
        "Используйте предобученную рекуррентную нейронную сеть (например, _DeepMoji_ или что-то подобное).\n",
        "\n",
        "Какой максимальный результат удалось получить на контрольной выборке?"
      ]
    },
    {
      "cell_type": "markdown",
      "metadata": {
        "id": "VKOTfQwNKHTW",
        "colab_type": "text"
      },
      "source": [
        "На своих моделях удалось достигнуть максимальной точности 76%."
      ]
    }
  ]
}