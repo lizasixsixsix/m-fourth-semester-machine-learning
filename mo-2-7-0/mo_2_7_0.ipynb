{
  "nbformat": 4,
  "nbformat_minor": 0,
  "metadata": {
    "colab": {
      "name": "mo-2-7-0.ipynb",
      "provenance": [],
      "collapsed_sections": [],
      "toc_visible": true,
      "machine_shape": "hm"
    },
    "kernelspec": {
      "name": "python3",
      "display_name": "Python 3"
    },
    "accelerator": "GPU"
  },
  "cells": [
    {
      "cell_type": "markdown",
      "metadata": {
        "id": "L3rSI8Sri-M_",
        "colab_type": "text"
      },
      "source": [
        "# Лабораторная работа №7\n",
        "\n",
        "## Рекуррентные нейронные сети для анализа текста"
      ]
    },
    {
      "cell_type": "markdown",
      "metadata": {
        "id": "-SED2kKFjeQm",
        "colab_type": "text"
      },
      "source": [
        "Набор данных для предсказания оценок для отзывов, собранных с сайта _imdb.com_, который состоит из 50,000 отзывов в виде текстовых файлов.\n",
        "\n",
        "Отзывы разделены на положительные (25,000) и отрицательные (25,000).\n",
        "\n",
        "Данные предварительно токенизированы по принципу «мешка слов», индексы слов можно взять из словаря (_imdb.vocab_).\n",
        "\n",
        "Обучающая выборка включает в себя 12,500 положительных и 12,500 отрицательных отзывов, контрольная выборка также содержит 12,500 положительных и 12,500 отрицательных отзывов.\n",
        "\n",
        "Данные можно скачать ~~на сайте _Kaggle_~~: ~~https://www.kaggle.com/iarunava/imdb-movie-reviews-dataset~~ https://ai.stanford.edu/~amaas/data/sentiment/"
      ]
    },
    {
      "cell_type": "markdown",
      "metadata": {
        "id": "YvvJioiIkBuS",
        "colab_type": "text"
      },
      "source": [
        "### Задание 1\n",
        "\n",
        "Загрузите данные. Преобразуйте текстовые файлы во внутренние структуры данных, которые используют индексы вместо слов."
      ]
    },
    {
      "cell_type": "markdown",
      "metadata": {
        "id": "TeJvOnrrRCLy",
        "colab_type": "text"
      },
      "source": [
        "Будем брать первые `MAX_LENGTH` слов, а если в отзыве слов меньше, чем это число, то применять паддинг."
      ]
    },
    {
      "cell_type": "code",
      "metadata": {
        "id": "m2xYxvFJ0xJj",
        "colab_type": "code",
        "outputId": "c7004eda-a75f-4f83-b9bb-1a3062dc44b4",
        "colab": {
          "base_uri": "https://localhost:8080/",
          "height": 34
        }
      },
      "source": [
        "from google.colab import drive\n",
        "\n",
        "drive.mount('/content/drive', force_remount = True)"
      ],
      "execution_count": 1,
      "outputs": [
        {
          "output_type": "stream",
          "text": [
            "Mounted at /content/drive\n"
          ],
          "name": "stdout"
        }
      ]
    },
    {
      "cell_type": "code",
      "metadata": {
        "id": "7Yg-w4Aw1Ohq",
        "colab_type": "code",
        "colab": {}
      },
      "source": [
        "BASE_DIR = '/content/drive/My Drive/Colab Files/mo-2'\n",
        "\n",
        "import sys\n",
        "\n",
        "sys.path.append(BASE_DIR)\n",
        "\n",
        "import os"
      ],
      "execution_count": 0,
      "outputs": []
    },
    {
      "cell_type": "code",
      "metadata": {
        "id": "UqlKvsJ41Rwy",
        "colab_type": "code",
        "colab": {}
      },
      "source": [
        "DATA_ARCHIVE_NAME = 'imdb-dataset-of-50k-movie-reviews.zip'\n",
        "\n",
        "LOCAL_DIR_NAME = 'imdb-sentiments'"
      ],
      "execution_count": 0,
      "outputs": []
    },
    {
      "cell_type": "code",
      "metadata": {
        "id": "QLAwfqxe1b7Z",
        "colab_type": "code",
        "colab": {}
      },
      "source": [
        "from zipfile import ZipFile\n",
        "\n",
        "with ZipFile(os.path.join(BASE_DIR, DATA_ARCHIVE_NAME), 'r') as zip_:\n",
        "    zip_.extractall(LOCAL_DIR_NAME)"
      ],
      "execution_count": 0,
      "outputs": []
    },
    {
      "cell_type": "code",
      "metadata": {
        "id": "m4Euqp8l1lUo",
        "colab_type": "code",
        "colab": {}
      },
      "source": [
        "DATA_FILE_PATH = 'imdb-sentiments/IMDB Dataset.csv'"
      ],
      "execution_count": 0,
      "outputs": []
    },
    {
      "cell_type": "code",
      "metadata": {
        "id": "_X4fdpuo1vBT",
        "colab_type": "code",
        "colab": {}
      },
      "source": [
        "import pandas as pd\n",
        "\n",
        "all_df = pd.read_csv(DATA_FILE_PATH)"
      ],
      "execution_count": 0,
      "outputs": []
    },
    {
      "cell_type": "code",
      "metadata": {
        "id": "z2Jm_7561x9w",
        "colab_type": "code",
        "outputId": "31556113-e733-45b1-99e3-ff88ec6a503c",
        "colab": {
          "base_uri": "https://localhost:8080/",
          "height": 34
        }
      },
      "source": [
        "print(all_df.shape)"
      ],
      "execution_count": 7,
      "outputs": [
        {
          "output_type": "stream",
          "text": [
            "(50000, 2)\n"
          ],
          "name": "stdout"
        }
      ]
    },
    {
      "cell_type": "code",
      "metadata": {
        "id": "ViW4uNZt90u0",
        "colab_type": "code",
        "outputId": "70f6b39c-db84-49c7-e9b8-e6b329d7394e",
        "colab": {
          "base_uri": "https://localhost:8080/",
          "height": 70
        }
      },
      "source": [
        "import nltk\n",
        "\n",
        "nltk.download('punkt')"
      ],
      "execution_count": 8,
      "outputs": [
        {
          "output_type": "stream",
          "text": [
            "[nltk_data] Downloading package punkt to /root/nltk_data...\n",
            "[nltk_data]   Package punkt is already up-to-date!\n"
          ],
          "name": "stdout"
        },
        {
          "output_type": "execute_result",
          "data": {
            "text/plain": [
              "True"
            ]
          },
          "metadata": {
            "tags": []
          },
          "execution_count": 8
        }
      ]
    },
    {
      "cell_type": "code",
      "metadata": {
        "id": "Z6WR8PBaGygW",
        "colab_type": "code",
        "colab": {}
      },
      "source": [
        "MAX_LENGTH = 40\n",
        "\n",
        "STRING_DTYPE = '<U12'\n",
        "\n",
        "PADDING_TOKEN = 'PAD'\n",
        "\n",
        "LIMIT_OF_TOKENS = 100000"
      ],
      "execution_count": 0,
      "outputs": []
    },
    {
      "cell_type": "code",
      "metadata": {
        "id": "Tivq-oQK-sW_",
        "colab_type": "code",
        "colab": {}
      },
      "source": [
        "from nltk import word_tokenize\n",
        "import numpy as np\n",
        "import string\n",
        "import re\n",
        "\n",
        "def tokenize_string(_string):\n",
        "    return  [tok_.lower() for tok_ in word_tokenize(_string) if not re.fullmatch('[' + string.punctuation + ']+', tok_)]\n",
        "\n",
        "def pad(A, length):\n",
        "    arr = np.empty(length, dtype = STRING_DTYPE)\n",
        "    arr.fill(PADDING_TOKEN)\n",
        "    arr[:len(A)] = A\n",
        "    return arr\n",
        "\n",
        "def tokenize_row(_sentence):\n",
        "    return pad(tokenize_string(_sentence)[:MAX_LENGTH], MAX_LENGTH)\n",
        "\n",
        "def encode_row(_label):\n",
        "    return 1 if _label == 'positive' else 0\n",
        "\n",
        "def encode_and_tokenize(_dataframe):\n",
        "\n",
        "    tttt = _dataframe.apply(lambda row: tokenize_row(row['review']), axis = 1)\n",
        "    llll = _dataframe.apply(lambda row: encode_row(row['sentiment']), axis = 1)\n",
        "\n",
        "    data_dict_ = { 'label': llll, 'tokens': tttt }\n",
        "\n",
        "    encoded_and_tokenized_ = pd.DataFrame(data_dict_, columns = ['label', 'tokens'])\n",
        "\n",
        "    return encoded_and_tokenized_"
      ],
      "execution_count": 0,
      "outputs": []
    },
    {
      "cell_type": "code",
      "metadata": {
        "id": "fVEdzi_oEvkp",
        "colab_type": "code",
        "colab": {}
      },
      "source": [
        "all_df_tokenized = encode_and_tokenize(all_df)"
      ],
      "execution_count": 0,
      "outputs": []
    },
    {
      "cell_type": "code",
      "metadata": {
        "id": "tq8FJvCCKYbn",
        "colab_type": "code",
        "colab": {}
      },
      "source": [
        "from collections import Counter\n",
        "\n",
        "def get_tokens_list(_dataframe):\n",
        "    \n",
        "    all_tokens_ = []\n",
        "    \n",
        "    for sent_ in _dataframe['tokens'].values:\n",
        "        all_tokens_.extend(sent_)\n",
        "\n",
        "    tokens_counter_ = Counter(all_tokens_)\n",
        "                \n",
        "    return [t for t, _ in tokens_counter_.most_common(LIMIT_OF_TOKENS)]"
      ],
      "execution_count": 0,
      "outputs": []
    },
    {
      "cell_type": "code",
      "metadata": {
        "id": "kcwmqBD8NnPS",
        "colab_type": "code",
        "colab": {}
      },
      "source": [
        "tokens_list = get_tokens_list(all_df_tokenized)"
      ],
      "execution_count": 0,
      "outputs": []
    },
    {
      "cell_type": "code",
      "metadata": {
        "id": "VBaHte_cN57P",
        "colab_type": "code",
        "colab": {}
      },
      "source": [
        "word_to_int_dict = {}\n",
        "\n",
        "word_to_int_dict.update(\n",
        "    {t : i for i, t in enumerate(tokens_list)})"
      ],
      "execution_count": 0,
      "outputs": []
    },
    {
      "cell_type": "code",
      "metadata": {
        "id": "YitqCwMYO02P",
        "colab_type": "code",
        "colab": {}
      },
      "source": [
        "def intize_row(_tokens):\n",
        "    return np.array([word_to_int_dict[t]\n",
        "                if t in word_to_int_dict\n",
        "                else 0\n",
        "            for t in _tokens])\n",
        "\n",
        "def encode_and_tokenize(_dataframe):\n",
        "\n",
        "    iiii = _dataframe.apply(lambda row: intize_row(row['tokens']), axis = 1)\n",
        "\n",
        "    data_dict_ = { 'label': _dataframe['label'], 'ints': iiii }\n",
        "\n",
        "    intized_ = pd.DataFrame(data_dict_, columns = ['label', 'ints'])\n",
        "\n",
        "    return intized_"
      ],
      "execution_count": 0,
      "outputs": []
    },
    {
      "cell_type": "code",
      "metadata": {
        "id": "HaVH0rXGPTFE",
        "colab_type": "code",
        "colab": {}
      },
      "source": [
        "all_df_intized = encode_and_tokenize(all_df_tokenized)"
      ],
      "execution_count": 0,
      "outputs": []
    },
    {
      "cell_type": "markdown",
      "metadata": {
        "id": "d9_f_zIukTGK",
        "colab_type": "text"
      },
      "source": [
        "### Задание 2\n",
        "\n",
        "Реализуйте и обучите двунаправленную рекуррентную сеть (_LSTM_ или _GRU_).\n",
        "\n",
        "Какого качества классификации удалось достичь?"
      ]
    },
    {
      "cell_type": "code",
      "metadata": {
        "id": "s-f0LrGwRvI-",
        "colab_type": "code",
        "outputId": "defc4c16-6abc-4e6f-e867-8b072510caec",
        "colab": {
          "base_uri": "https://localhost:8080/",
          "height": 213
        }
      },
      "source": [
        "! pip install tensorflow-gpu --pre --quiet\n",
        "\n",
        "! pip show tensorflow-gpu"
      ],
      "execution_count": 17,
      "outputs": [
        {
          "output_type": "stream",
          "text": [
            "Name: tensorflow-gpu\n",
            "Version: 2.2.0rc3\n",
            "Summary: TensorFlow is an open source machine learning framework for everyone.\n",
            "Home-page: https://www.tensorflow.org/\n",
            "Author: Google Inc.\n",
            "Author-email: packages@tensorflow.org\n",
            "License: Apache 2.0\n",
            "Location: /usr/local/lib/python3.6/dist-packages\n",
            "Requires: absl-py, h5py, termcolor, protobuf, wrapt, gast, google-pasta, astunparse, keras-preprocessing, numpy, six, grpcio, tensorboard, wheel, tensorflow-estimator, scipy, opt-einsum\n",
            "Required-by: \n"
          ],
          "name": "stdout"
        }
      ]
    },
    {
      "cell_type": "code",
      "metadata": {
        "id": "56BJY9L3Rya4",
        "colab_type": "code",
        "colab": {}
      },
      "source": [
        "import tensorflow as tf\n",
        "from tensorflow import keras"
      ],
      "execution_count": 0,
      "outputs": []
    },
    {
      "cell_type": "code",
      "metadata": {
        "id": "1lYKHRn1RMbB",
        "colab_type": "code",
        "colab": {}
      },
      "source": [
        "# To fix memory leak: https://github.com/tensorflow/tensorflow/issues/33009\n",
        "\n",
        "tf.compat.v1.disable_eager_execution()"
      ],
      "execution_count": 0,
      "outputs": []
    },
    {
      "cell_type": "markdown",
      "metadata": {
        "id": "sPBbuJMWH9FM",
        "colab_type": "text"
      },
      "source": [
        "Здесь будем использовать такую конфигурацию рекуррентного _LSTM_-слоя, которая позволит использовать очень быструю _cuDNN_ имплементацию."
      ]
    },
    {
      "cell_type": "code",
      "metadata": {
        "id": "Jl8QgL8YR3MB",
        "colab_type": "code",
        "colab": {
          "base_uri": "https://localhost:8080/",
          "height": 142
        },
        "outputId": "5a824787-4652-4f7e-c587-4af21366ab3e"
      },
      "source": [
        "from tensorflow.keras.models import Sequential\n",
        "from tensorflow.keras.layers import Bidirectional, LSTM, Dense\n",
        "\n",
        "# The requirements to use the cuDNN implementation are:\n",
        "# 1. `activation` == `tanh`\n",
        "# 2. `recurrent_activation` == `sigmoid`\n",
        "# 3. `recurrent_dropout` == 0\n",
        "# 4. `unroll` is `False`\n",
        "# 5. `use_bias` is `True`\n",
        "# 6. `reset_after` is `True`\n",
        "# 7. Inputs, if use masking, are strictly right-padded.\n",
        "\n",
        "model = tf.keras.Sequential()\n",
        "\n",
        "model.add(Bidirectional(LSTM(100, return_sequences = False), merge_mode = 'concat',\n",
        "          input_shape = (MAX_LENGTH, 1)))\n",
        "model.add(Dense(1, activation = 'sigmoid'))"
      ],
      "execution_count": 20,
      "outputs": [
        {
          "output_type": "stream",
          "text": [
            "WARNING:tensorflow:Layer lstm will not use cuDNN kernel since it doesn't meet the cuDNN kernel criteria. It will use generic GPU kernel as fallback when running on GPU\n",
            "WARNING:tensorflow:Layer lstm will not use cuDNN kernel since it doesn't meet the cuDNN kernel criteria. It will use generic GPU kernel as fallback when running on GPU\n",
            "WARNING:tensorflow:Layer lstm will not use cuDNN kernel since it doesn't meet the cuDNN kernel criteria. It will use generic GPU kernel as fallback when running on GPU\n",
            "WARNING:tensorflow:From /usr/local/lib/python3.6/dist-packages/tensorflow/python/ops/resource_variable_ops.py:1666: calling BaseResourceVariable.__init__ (from tensorflow.python.ops.resource_variable_ops) with constraint is deprecated and will be removed in a future version.\n",
            "Instructions for updating:\n",
            "If using Keras pass *_constraint arguments to layers.\n"
          ],
          "name": "stdout"
        }
      ]
    },
    {
      "cell_type": "code",
      "metadata": {
        "id": "0XOQCFPLSxAY",
        "colab_type": "code",
        "outputId": "61b88db5-e4dc-4d6c-8ab9-b5b5950473f0",
        "colab": {
          "base_uri": "https://localhost:8080/",
          "height": 228
        }
      },
      "source": [
        "model.compile(optimizer = 'adam',\n",
        "              loss = 'binary_crossentropy',\n",
        "              metrics = ['accuracy'])\n",
        "\n",
        "model.summary()"
      ],
      "execution_count": 21,
      "outputs": [
        {
          "output_type": "stream",
          "text": [
            "Model: \"sequential\"\n",
            "_________________________________________________________________\n",
            "Layer (type)                 Output Shape              Param #   \n",
            "=================================================================\n",
            "bidirectional (Bidirectional (None, 200)               81600     \n",
            "_________________________________________________________________\n",
            "dense (Dense)                (None, 1)                 201       \n",
            "=================================================================\n",
            "Total params: 81,801\n",
            "Trainable params: 81,801\n",
            "Non-trainable params: 0\n",
            "_________________________________________________________________\n"
          ],
          "name": "stdout"
        }
      ]
    },
    {
      "cell_type": "code",
      "metadata": {
        "id": "0P7S_oSbUyqR",
        "colab_type": "code",
        "colab": {}
      },
      "source": [
        "X_intized = np.asarray(list(all_df_intized['ints'].values), dtype = float)[..., np.newaxis]\n",
        "\n",
        "y_intized = np.asarray(list(all_df_intized['label'].values))"
      ],
      "execution_count": 0,
      "outputs": []
    },
    {
      "cell_type": "code",
      "metadata": {
        "id": "VCBDllgPS5v4",
        "colab_type": "code",
        "outputId": "29571649-9c37-4e8f-f70f-aca2c74456be",
        "colab": {
          "base_uri": "https://localhost:8080/",
          "height": 756
        }
      },
      "source": [
        "model.fit(x = X_intized, y = y_intized, validation_split = 0.15, epochs = 20)"
      ],
      "execution_count": 23,
      "outputs": [
        {
          "output_type": "stream",
          "text": [
            "Train on 42500 samples, validate on 7500 samples\n",
            "Epoch 1/20\n",
            "42500/42500 [==============================] - 78s 2ms/sample - loss: 0.6940 - accuracy: 0.5180 - val_loss: 0.6920 - val_accuracy: 0.5229\n",
            "Epoch 2/20\n",
            "42500/42500 [==============================] - 78s 2ms/sample - loss: 0.6898 - accuracy: 0.5339 - val_loss: 0.6851 - val_accuracy: 0.5475\n",
            "Epoch 3/20\n",
            "42500/42500 [==============================] - 78s 2ms/sample - loss: 0.6890 - accuracy: 0.5391 - val_loss: 0.6903 - val_accuracy: 0.5287\n",
            "Epoch 4/20\n",
            "42500/42500 [==============================] - 78s 2ms/sample - loss: 0.6861 - accuracy: 0.5499 - val_loss: 0.6873 - val_accuracy: 0.5381\n",
            "Epoch 5/20\n",
            "42500/42500 [==============================] - 79s 2ms/sample - loss: 0.6826 - accuracy: 0.5605 - val_loss: 0.6983 - val_accuracy: 0.5343\n",
            "Epoch 6/20\n",
            "42500/42500 [==============================] - 79s 2ms/sample - loss: 0.6822 - accuracy: 0.5580 - val_loss: 0.6813 - val_accuracy: 0.5575\n",
            "Epoch 7/20\n",
            "42500/42500 [==============================] - 79s 2ms/sample - loss: 0.6794 - accuracy: 0.5655 - val_loss: 0.6793 - val_accuracy: 0.5601\n",
            "Epoch 8/20\n",
            "42500/42500 [==============================] - 78s 2ms/sample - loss: 0.6776 - accuracy: 0.5685 - val_loss: 0.6767 - val_accuracy: 0.5689\n",
            "Epoch 9/20\n",
            "42500/42500 [==============================] - 78s 2ms/sample - loss: 0.6752 - accuracy: 0.5724 - val_loss: 0.6894 - val_accuracy: 0.5493\n",
            "Epoch 10/20\n",
            "42500/42500 [==============================] - 79s 2ms/sample - loss: 0.6734 - accuracy: 0.5771 - val_loss: 0.6760 - val_accuracy: 0.5695\n",
            "Epoch 11/20\n",
            "42500/42500 [==============================] - 79s 2ms/sample - loss: 0.6715 - accuracy: 0.5821 - val_loss: 0.6791 - val_accuracy: 0.5635\n",
            "Epoch 12/20\n",
            "42500/42500 [==============================] - 79s 2ms/sample - loss: 0.6687 - accuracy: 0.5831 - val_loss: 0.6738 - val_accuracy: 0.5733\n",
            "Epoch 13/20\n",
            "42500/42500 [==============================] - 78s 2ms/sample - loss: 0.6667 - accuracy: 0.5845 - val_loss: 0.6712 - val_accuracy: 0.5740\n",
            "Epoch 14/20\n",
            "42500/42500 [==============================] - 79s 2ms/sample - loss: 0.6647 - accuracy: 0.5895 - val_loss: 0.6752 - val_accuracy: 0.5684\n",
            "Epoch 15/20\n",
            "42500/42500 [==============================] - 80s 2ms/sample - loss: 0.6623 - accuracy: 0.5926 - val_loss: 0.6741 - val_accuracy: 0.5751\n",
            "Epoch 16/20\n",
            "42500/42500 [==============================] - 79s 2ms/sample - loss: 0.6600 - accuracy: 0.5923 - val_loss: 0.6693 - val_accuracy: 0.5765\n",
            "Epoch 17/20\n",
            "42500/42500 [==============================] - 78s 2ms/sample - loss: 0.6580 - accuracy: 0.5947 - val_loss: 0.6706 - val_accuracy: 0.5733\n",
            "Epoch 18/20\n",
            "42500/42500 [==============================] - 78s 2ms/sample - loss: 0.6547 - accuracy: 0.6002 - val_loss: 0.6726 - val_accuracy: 0.5772\n",
            "Epoch 19/20\n",
            "42500/42500 [==============================] - 79s 2ms/sample - loss: 0.6517 - accuracy: 0.6040 - val_loss: 0.6747 - val_accuracy: 0.5707\n",
            "Epoch 20/20\n",
            "42500/42500 [==============================] - 78s 2ms/sample - loss: 0.6493 - accuracy: 0.6065 - val_loss: 0.6786 - val_accuracy: 0.5725\n"
          ],
          "name": "stdout"
        },
        {
          "output_type": "execute_result",
          "data": {
            "text/plain": [
              "<tensorflow.python.keras.callbacks.History at 0x7f48ee7dec50>"
            ]
          },
          "metadata": {
            "tags": []
          },
          "execution_count": 23
        }
      ]
    },
    {
      "cell_type": "markdown",
      "metadata": {
        "id": "77UZR8gEQzLX",
        "colab_type": "text"
      },
      "source": [
        "На валидационной выборке удалось достичь точности 57%."
      ]
    },
    {
      "cell_type": "markdown",
      "metadata": {
        "id": "x2DsAeq2kbGK",
        "colab_type": "text"
      },
      "source": [
        "### Задание 3\n",
        "\n",
        "Используйте индексы слов и их различное внутреннее представление (_word2vec_, _glove_). Как влияет данное преобразование на качество классификации?"
      ]
    },
    {
      "cell_type": "markdown",
      "metadata": {
        "id": "Ae7ziw75aupE",
        "colab_type": "text"
      },
      "source": [
        "Используем 300-мерные вектора _FastTest_ &mdash; лучшую на сегодняшний день имплементацию word2vec: https://fasttext.cc/docs/en/english-vectors.html. Файл пришлось доработать &mdash; 9-я строка не читалась."
      ]
    },
    {
      "cell_type": "code",
      "metadata": {
        "id": "ckBXWDOka8ci",
        "colab_type": "code",
        "colab": {}
      },
      "source": [
        "# VECTORS_ARCHIVE_NAME = 'wiki-news-300d-1M-fixed.zip'\n",
        "\n",
        "# VECTORS_FILE_NAME = 'wiki-news-300d-1M-fixed.vec'\n",
        "\n",
        "# VECTORS_LOCAL_DIR_NAME = 'vectors'"
      ],
      "execution_count": 0,
      "outputs": []
    },
    {
      "cell_type": "code",
      "metadata": {
        "id": "SNMIh9tmc_gq",
        "colab_type": "code",
        "colab": {}
      },
      "source": [
        "# with ZipFile(os.path.join(BASE_DIR, VECTORS_ARCHIVE_NAME), 'r') as zip_:\n",
        "#     zip_.extractall(VECTORS_LOCAL_DIR_NAME)"
      ],
      "execution_count": 0,
      "outputs": []
    },
    {
      "cell_type": "markdown",
      "metadata": {
        "id": "iZpMbmhxbXQS",
        "colab_type": "text"
      },
      "source": [
        "Создадим уменьшенный словарь, содержащий только встреченные токены, чтобы уменьшить нагрузку на _Google Drive_:"
      ]
    },
    {
      "cell_type": "code",
      "metadata": {
        "id": "ZLWp8IDobtve",
        "colab_type": "code",
        "colab": {}
      },
      "source": [
        "# def build_vectors_dict(_actual_tokens, _vectors_file_path, _unknown_token = 'unknown'):\n",
        "\n",
        "#     vec_data_ = pd.read_csv(_vectors_file_path, sep = ' ', header = None, skiprows = [9])\n",
        "        \n",
        "#     actual_vectors_ = [x for x in vec_data_.values if x[0] in _actual_tokens or x[0] == _unknown_token]\n",
        "\n",
        "#     return actual_vectors_"
      ],
      "execution_count": 0,
      "outputs": []
    },
    {
      "cell_type": "code",
      "metadata": {
        "id": "kuxUELYlw-yp",
        "colab_type": "code",
        "colab": {}
      },
      "source": [
        "# actual_vectors = build_vectors_dict(tokens_list, os.path.join(VECTORS_LOCAL_DIR_NAME, VECTORS_FILE_NAME))"
      ],
      "execution_count": 0,
      "outputs": []
    },
    {
      "cell_type": "code",
      "metadata": {
        "id": "ACqhxpMRyeIA",
        "colab_type": "code",
        "colab": {}
      },
      "source": [
        "# vectors_np = np.array(actual_vectors)\n",
        "\n",
        "# vectors_dict = dict(zip(vectors_np[:, 0], vectors_np[:, 1:]))\n",
        "\n",
        "# vectors_dict_file_name = 'word-vec-dict-{}-items'.format(len(vectors_dict))\n",
        "\n",
        "# vectors_dict_file_path = os.path.join(BASE_DIR, vectors_dict_file_name)\n",
        "\n",
        "# np.savez_compressed(vectors_dict_file_path, vectors_dict, allow_pickle = True)"
      ],
      "execution_count": 0,
      "outputs": []
    },
    {
      "cell_type": "code",
      "metadata": {
        "id": "Yf1Lw5ogehU0",
        "colab_type": "code",
        "colab": {}
      },
      "source": [
        "vectors_dict_file_path = './drive/My Drive/Colab Files/mo-2/word-vec-dict-56485-items.npz'"
      ],
      "execution_count": 0,
      "outputs": []
    },
    {
      "cell_type": "code",
      "metadata": {
        "id": "utXOK7y5d6wy",
        "colab_type": "code",
        "colab": {}
      },
      "source": [
        "vectors_dict_data = np.load(vectors_dict_file_path, allow_pickle = True)\n",
        "\n",
        "vectors_dict = vectors_dict_data['arr_0'][()]"
      ],
      "execution_count": 0,
      "outputs": []
    },
    {
      "cell_type": "code",
      "metadata": {
        "id": "vnMBGetre6w6",
        "colab_type": "code",
        "colab": {}
      },
      "source": [
        "VECTORS_LENGTH = 300"
      ],
      "execution_count": 0,
      "outputs": []
    },
    {
      "cell_type": "code",
      "metadata": {
        "id": "EARSGQIJe-42",
        "colab_type": "code",
        "colab": {}
      },
      "source": [
        "def tokens_to_vectors(_word_to_vec_dict, _tokens, _unknown_token):\n",
        "    return [_word_to_vec_dict[t]\n",
        "                if t in _word_to_vec_dict\n",
        "                else _word_to_vec_dict[_unknown_token]\n",
        "            for t in _tokens]\n",
        "\n",
        "def row_to_vectors(_tokens):\n",
        "    return np.array(tokens_to_vectors(vectors_dict, _tokens, 'unknown'))\n",
        "\n",
        "def vectorize(_dataframe):\n",
        "\n",
        "    vvvv = _dataframe.apply(lambda row: row_to_vectors(row['tokens']), axis = 1)\n",
        "\n",
        "    data_dict_ = { 'label': _dataframe['label'], 'vectors': vvvv }\n",
        "\n",
        "    vectorized_ = pd.DataFrame(data_dict_, columns = ['label', 'vectors'])\n",
        "\n",
        "    return vectorized_"
      ],
      "execution_count": 0,
      "outputs": []
    },
    {
      "cell_type": "code",
      "metadata": {
        "id": "k9An9BkGfBbT",
        "colab_type": "code",
        "colab": {}
      },
      "source": [
        "all_df_vectorized = vectorize(all_df_tokenized)"
      ],
      "execution_count": 0,
      "outputs": []
    },
    {
      "cell_type": "code",
      "metadata": {
        "id": "fBn_Xb67BFu6",
        "colab_type": "code",
        "colab": {}
      },
      "source": [
        "X_vectorized = np.asarray(list(all_df_vectorized['vectors'].values), dtype = float)\n",
        "\n",
        "y_vectorized = np.asarray(list(all_df_intized['label'].values))"
      ],
      "execution_count": 0,
      "outputs": []
    },
    {
      "cell_type": "code",
      "metadata": {
        "id": "hLgWA1I5Af1C",
        "colab_type": "code",
        "colab": {
          "base_uri": "https://localhost:8080/",
          "height": 90
        },
        "outputId": "5ed21428-761b-4ab6-8b43-7c62f6bc110e"
      },
      "source": [
        "model_2 = tf.keras.Sequential()\n",
        "\n",
        "model_2.add(Bidirectional(LSTM(100, return_sequences = False), merge_mode = 'concat',\n",
        "            input_shape = (MAX_LENGTH, VECTORS_LENGTH)))\n",
        "model_2.add(Dense(1, activation = 'sigmoid'))"
      ],
      "execution_count": 35,
      "outputs": [
        {
          "output_type": "stream",
          "text": [
            "WARNING:tensorflow:Layer lstm_1 will not use cuDNN kernel since it doesn't meet the cuDNN kernel criteria. It will use generic GPU kernel as fallback when running on GPU\n",
            "WARNING:tensorflow:Layer lstm_1 will not use cuDNN kernel since it doesn't meet the cuDNN kernel criteria. It will use generic GPU kernel as fallback when running on GPU\n",
            "WARNING:tensorflow:Layer lstm_1 will not use cuDNN kernel since it doesn't meet the cuDNN kernel criteria. It will use generic GPU kernel as fallback when running on GPU\n"
          ],
          "name": "stdout"
        }
      ]
    },
    {
      "cell_type": "code",
      "metadata": {
        "id": "y4aP2xGUAg95",
        "colab_type": "code",
        "outputId": "bc8e43e6-855c-4775-f559-3bbc5b963662",
        "colab": {
          "base_uri": "https://localhost:8080/",
          "height": 228
        }
      },
      "source": [
        "model_2.compile(optimizer = 'adam',\n",
        "                loss = 'binary_crossentropy',\n",
        "                metrics = ['accuracy'])\n",
        "\n",
        "model_2.summary()"
      ],
      "execution_count": 36,
      "outputs": [
        {
          "output_type": "stream",
          "text": [
            "Model: \"sequential_1\"\n",
            "_________________________________________________________________\n",
            "Layer (type)                 Output Shape              Param #   \n",
            "=================================================================\n",
            "bidirectional_1 (Bidirection (None, 200)               320800    \n",
            "_________________________________________________________________\n",
            "dense_1 (Dense)              (None, 1)                 201       \n",
            "=================================================================\n",
            "Total params: 321,001\n",
            "Trainable params: 321,001\n",
            "Non-trainable params: 0\n",
            "_________________________________________________________________\n"
          ],
          "name": "stdout"
        }
      ]
    },
    {
      "cell_type": "code",
      "metadata": {
        "id": "pRer4D7hAjPs",
        "colab_type": "code",
        "outputId": "5d0225c7-f58d-4878-8597-ee65c875ac8e",
        "colab": {
          "base_uri": "https://localhost:8080/",
          "height": 756
        }
      },
      "source": [
        "model_2.fit(x = X_vectorized, y = y_vectorized, validation_split = 0.15, epochs = 20)"
      ],
      "execution_count": 37,
      "outputs": [
        {
          "output_type": "stream",
          "text": [
            "Train on 42500 samples, validate on 7500 samples\n",
            "Epoch 1/20\n",
            "42500/42500 [==============================] - 83s 2ms/sample - loss: 0.5421 - accuracy: 0.7173 - val_loss: 0.5064 - val_accuracy: 0.7381\n",
            "Epoch 2/20\n",
            "42500/42500 [==============================] - 83s 2ms/sample - loss: 0.4833 - accuracy: 0.7584 - val_loss: 0.4793 - val_accuracy: 0.7609\n",
            "Epoch 3/20\n",
            "42500/42500 [==============================] - 82s 2ms/sample - loss: 0.4557 - accuracy: 0.7750 - val_loss: 0.4664 - val_accuracy: 0.7661\n",
            "Epoch 4/20\n",
            "42500/42500 [==============================] - 83s 2ms/sample - loss: 0.4313 - accuracy: 0.7892 - val_loss: 0.4639 - val_accuracy: 0.7657\n",
            "Epoch 5/20\n",
            "42500/42500 [==============================] - 84s 2ms/sample - loss: 0.4061 - accuracy: 0.8059 - val_loss: 0.4737 - val_accuracy: 0.7631\n",
            "Epoch 6/20\n",
            "42500/42500 [==============================] - 83s 2ms/sample - loss: 0.3756 - accuracy: 0.8230 - val_loss: 0.4986 - val_accuracy: 0.7704\n",
            "Epoch 7/20\n",
            "42500/42500 [==============================] - 82s 2ms/sample - loss: 0.3417 - accuracy: 0.8433 - val_loss: 0.4921 - val_accuracy: 0.7711\n",
            "Epoch 8/20\n",
            "42500/42500 [==============================] - 82s 2ms/sample - loss: 0.3023 - accuracy: 0.8647 - val_loss: 0.5196 - val_accuracy: 0.7633\n",
            "Epoch 9/20\n",
            "42500/42500 [==============================] - 81s 2ms/sample - loss: 0.2560 - accuracy: 0.8892 - val_loss: 0.5812 - val_accuracy: 0.7605\n",
            "Epoch 10/20\n",
            "42500/42500 [==============================] - 82s 2ms/sample - loss: 0.2063 - accuracy: 0.9156 - val_loss: 0.6636 - val_accuracy: 0.7617\n",
            "Epoch 11/20\n",
            "42500/42500 [==============================] - 79s 2ms/sample - loss: 0.1581 - accuracy: 0.9362 - val_loss: 0.7549 - val_accuracy: 0.7497\n",
            "Epoch 12/20\n",
            "42500/42500 [==============================] - 80s 2ms/sample - loss: 0.1148 - accuracy: 0.9559 - val_loss: 0.8497 - val_accuracy: 0.7532\n",
            "Epoch 13/20\n",
            "42500/42500 [==============================] - 80s 2ms/sample - loss: 0.0806 - accuracy: 0.9708 - val_loss: 1.0303 - val_accuracy: 0.7431\n",
            "Epoch 14/20\n",
            "42500/42500 [==============================] - 82s 2ms/sample - loss: 0.0626 - accuracy: 0.9790 - val_loss: 1.0829 - val_accuracy: 0.7553\n",
            "Epoch 15/20\n",
            "42500/42500 [==============================] - 80s 2ms/sample - loss: 0.0439 - accuracy: 0.9864 - val_loss: 1.2067 - val_accuracy: 0.7377\n",
            "Epoch 16/20\n",
            "42500/42500 [==============================] - 81s 2ms/sample - loss: 0.0363 - accuracy: 0.9894 - val_loss: 1.2734 - val_accuracy: 0.7469\n",
            "Epoch 17/20\n",
            "42500/42500 [==============================] - 80s 2ms/sample - loss: 0.0311 - accuracy: 0.9905 - val_loss: 1.3134 - val_accuracy: 0.7517\n",
            "Epoch 18/20\n",
            "42500/42500 [==============================] - 80s 2ms/sample - loss: 0.0274 - accuracy: 0.9916 - val_loss: 1.4333 - val_accuracy: 0.7471\n",
            "Epoch 19/20\n",
            "42500/42500 [==============================] - 80s 2ms/sample - loss: 0.0267 - accuracy: 0.9912 - val_loss: 1.4254 - val_accuracy: 0.7481\n",
            "Epoch 20/20\n",
            "42500/42500 [==============================] - 82s 2ms/sample - loss: 0.0211 - accuracy: 0.9938 - val_loss: 1.4276 - val_accuracy: 0.7461\n"
          ],
          "name": "stdout"
        },
        {
          "output_type": "execute_result",
          "data": {
            "text/plain": [
              "<tensorflow.python.keras.callbacks.History at 0x7f48e5f88390>"
            ]
          },
          "metadata": {
            "tags": []
          },
          "execution_count": 37
        }
      ]
    },
    {
      "cell_type": "markdown",
      "metadata": {
        "id": "OMYZ-lb8v46D",
        "colab_type": "text"
      },
      "source": [
        "Как и ожидалось, использование эмбеддингов показало лучший результат, чем кодирование слов просто целыми числами &mdash; 77%."
      ]
    },
    {
      "cell_type": "markdown",
      "metadata": {
        "id": "D5-qnk0zkiE8",
        "colab_type": "text"
      },
      "source": [
        "### Задание 4\n",
        "\n",
        "Поэкспериментируйте со структурой сети (добавьте больше рекуррентных, полносвязных или сверточных слоев). Как это повлияло на качество классификации?"
      ]
    },
    {
      "cell_type": "code",
      "metadata": {
        "id": "SlGF30EoJRvF",
        "colab_type": "code",
        "colab": {
          "base_uri": "https://localhost:8080/",
          "height": 107
        },
        "outputId": "e2e2ef08-051a-427e-fe98-d9354bf297e3"
      },
      "source": [
        "model_3 = tf.keras.Sequential()\n",
        "\n",
        "model_3.add(Bidirectional(LSTM(5, return_sequences = True), merge_mode = 'concat',\n",
        "            input_shape = (MAX_LENGTH, VECTORS_LENGTH)))\n",
        "model_3.add(LSTM(1, return_sequences = False))\n",
        "model_3.add(Dense(10, activation = 'linear'))\n",
        "model_3.add(Dense(1, activation = 'sigmoid'))"
      ],
      "execution_count": 43,
      "outputs": [
        {
          "output_type": "stream",
          "text": [
            "WARNING:tensorflow:Layer lstm_3 will not use cuDNN kernel since it doesn't meet the cuDNN kernel criteria. It will use generic GPU kernel as fallback when running on GPU\n",
            "WARNING:tensorflow:Layer lstm_3 will not use cuDNN kernel since it doesn't meet the cuDNN kernel criteria. It will use generic GPU kernel as fallback when running on GPU\n",
            "WARNING:tensorflow:Layer lstm_3 will not use cuDNN kernel since it doesn't meet the cuDNN kernel criteria. It will use generic GPU kernel as fallback when running on GPU\n",
            "WARNING:tensorflow:Layer lstm_4 will not use cuDNN kernel since it doesn't meet the cuDNN kernel criteria. It will use generic GPU kernel as fallback when running on GPU\n"
          ],
          "name": "stdout"
        }
      ]
    },
    {
      "cell_type": "code",
      "metadata": {
        "id": "4f95YCmTJaMd",
        "colab_type": "code",
        "colab": {
          "base_uri": "https://localhost:8080/",
          "height": 298
        },
        "outputId": "947be865-46c9-4aab-8043-bfaaa094c00a"
      },
      "source": [
        "model_3.compile(optimizer = 'adam',\n",
        "                loss = 'binary_crossentropy',\n",
        "                metrics = ['accuracy'])\n",
        "\n",
        "model_3.summary()"
      ],
      "execution_count": 44,
      "outputs": [
        {
          "output_type": "stream",
          "text": [
            "Model: \"sequential_3\"\n",
            "_________________________________________________________________\n",
            "Layer (type)                 Output Shape              Param #   \n",
            "=================================================================\n",
            "bidirectional_3 (Bidirection (None, 40, 10)            12240     \n",
            "_________________________________________________________________\n",
            "lstm_4 (LSTM)                (None, 1)                 48        \n",
            "_________________________________________________________________\n",
            "dense_5 (Dense)              (None, 10)                20        \n",
            "_________________________________________________________________\n",
            "dense_6 (Dense)              (None, 1)                 11        \n",
            "=================================================================\n",
            "Total params: 12,319\n",
            "Trainable params: 12,319\n",
            "Non-trainable params: 0\n",
            "_________________________________________________________________\n"
          ],
          "name": "stdout"
        }
      ]
    },
    {
      "cell_type": "code",
      "metadata": {
        "id": "qucrLBmfJc4K",
        "colab_type": "code",
        "colab": {
          "base_uri": "https://localhost:8080/",
          "height": 756
        },
        "outputId": "214d601e-d6fb-4442-de11-3a68db6c6c3c"
      },
      "source": [
        "model_3.fit(x = X_vectorized, y = y_vectorized, validation_split = 0.15, epochs = 20)"
      ],
      "execution_count": 45,
      "outputs": [
        {
          "output_type": "stream",
          "text": [
            "Train on 42500 samples, validate on 7500 samples\n",
            "Epoch 1/20\n",
            "42500/42500 [==============================] - 132s 3ms/sample - loss: 0.5996 - accuracy: 0.6808 - val_loss: 0.5606 - val_accuracy: 0.7195\n",
            "Epoch 2/20\n",
            "42500/42500 [==============================] - 129s 3ms/sample - loss: 0.5365 - accuracy: 0.7338 - val_loss: 0.5165 - val_accuracy: 0.7481\n",
            "Epoch 3/20\n",
            "42500/42500 [==============================] - 130s 3ms/sample - loss: 0.5107 - accuracy: 0.7459 - val_loss: 0.4993 - val_accuracy: 0.7515\n",
            "Epoch 4/20\n",
            "42500/42500 [==============================] - 133s 3ms/sample - loss: 0.4901 - accuracy: 0.7565 - val_loss: 0.4833 - val_accuracy: 0.7597\n",
            "Epoch 5/20\n",
            "42500/42500 [==============================] - 132s 3ms/sample - loss: 0.4786 - accuracy: 0.7632 - val_loss: 0.4783 - val_accuracy: 0.7643\n",
            "Epoch 6/20\n",
            "42500/42500 [==============================] - 132s 3ms/sample - loss: 0.4682 - accuracy: 0.7689 - val_loss: 0.4835 - val_accuracy: 0.7569\n",
            "Epoch 7/20\n",
            "42500/42500 [==============================] - 131s 3ms/sample - loss: 0.4590 - accuracy: 0.7736 - val_loss: 0.4744 - val_accuracy: 0.7681\n",
            "Epoch 8/20\n",
            "42500/42500 [==============================] - 129s 3ms/sample - loss: 0.4521 - accuracy: 0.7778 - val_loss: 0.5128 - val_accuracy: 0.7351\n",
            "Epoch 9/20\n",
            "42500/42500 [==============================] - 132s 3ms/sample - loss: 0.4458 - accuracy: 0.7825 - val_loss: 0.4663 - val_accuracy: 0.7687\n",
            "Epoch 10/20\n",
            "42500/42500 [==============================] - 130s 3ms/sample - loss: 0.4392 - accuracy: 0.7857 - val_loss: 0.4700 - val_accuracy: 0.7675\n",
            "Epoch 11/20\n",
            "42500/42500 [==============================] - 130s 3ms/sample - loss: 0.4348 - accuracy: 0.7893 - val_loss: 0.4644 - val_accuracy: 0.7708\n",
            "Epoch 12/20\n",
            "42500/42500 [==============================] - 130s 3ms/sample - loss: 0.4285 - accuracy: 0.7934 - val_loss: 0.4597 - val_accuracy: 0.7749\n",
            "Epoch 13/20\n",
            "42500/42500 [==============================] - 130s 3ms/sample - loss: 0.4244 - accuracy: 0.7954 - val_loss: 0.4585 - val_accuracy: 0.7744\n",
            "Epoch 14/20\n",
            "42500/42500 [==============================] - 130s 3ms/sample - loss: 0.4193 - accuracy: 0.7973 - val_loss: 0.4707 - val_accuracy: 0.7665\n",
            "Epoch 15/20\n",
            "42500/42500 [==============================] - 130s 3ms/sample - loss: 0.4140 - accuracy: 0.8022 - val_loss: 0.4791 - val_accuracy: 0.7667\n",
            "Epoch 16/20\n",
            "42500/42500 [==============================] - 133s 3ms/sample - loss: 0.4090 - accuracy: 0.8048 - val_loss: 0.4612 - val_accuracy: 0.7777\n",
            "Epoch 17/20\n",
            "42500/42500 [==============================] - 134s 3ms/sample - loss: 0.4040 - accuracy: 0.8080 - val_loss: 0.4689 - val_accuracy: 0.7772\n",
            "Epoch 18/20\n",
            "42500/42500 [==============================] - 131s 3ms/sample - loss: 0.4010 - accuracy: 0.8099 - val_loss: 0.4612 - val_accuracy: 0.7788\n",
            "Epoch 19/20\n",
            "42500/42500 [==============================] - 131s 3ms/sample - loss: 0.3955 - accuracy: 0.8125 - val_loss: 0.4623 - val_accuracy: 0.7797\n",
            "Epoch 20/20\n",
            "42500/42500 [==============================] - 131s 3ms/sample - loss: 0.3923 - accuracy: 0.8140 - val_loss: 0.5032 - val_accuracy: 0.7645\n"
          ],
          "name": "stdout"
        },
        {
          "output_type": "execute_result",
          "data": {
            "text/plain": [
              "<tensorflow.python.keras.callbacks.History at 0x7f48e5a17748>"
            ]
          },
          "metadata": {
            "tags": []
          },
          "execution_count": 45
        }
      ]
    },
    {
      "cell_type": "markdown",
      "metadata": {
        "id": "QjPIsrSpwICB",
        "colab_type": "text"
      },
      "source": [
        "Добавление ещё-одного рекуррентного слоя не изменило результат &mdash; точность 77% на валидационной выборке."
      ]
    },
    {
      "cell_type": "markdown",
      "metadata": {
        "id": "EZ1LfR8dkrK8",
        "colab_type": "text"
      },
      "source": [
        "### Задание 5\n",
        "\n",
        "Используйте предобученную рекуррентную нейронную сеть (например, _DeepMoji_ или что-то подобное).\n",
        "\n",
        "Какой максимальный результат удалось получить на контрольной выборке?"
      ]
    }
  ]
}