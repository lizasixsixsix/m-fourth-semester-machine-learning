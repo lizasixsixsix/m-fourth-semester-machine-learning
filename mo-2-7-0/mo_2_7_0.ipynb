{
  "nbformat": 4,
  "nbformat_minor": 0,
  "metadata": {
    "colab": {
      "name": "mo-2-7-0.ipynb",
      "provenance": [],
      "collapsed_sections": [],
      "toc_visible": true,
      "machine_shape": "hm"
    },
    "kernelspec": {
      "name": "python3",
      "display_name": "Python 3"
    },
    "accelerator": "GPU"
  },
  "cells": [
    {
      "cell_type": "markdown",
      "metadata": {
        "id": "L3rSI8Sri-M_",
        "colab_type": "text"
      },
      "source": [
        "# Лабораторная работа №7\n",
        "\n",
        "## Рекуррентные нейронные сети для анализа текста"
      ]
    },
    {
      "cell_type": "markdown",
      "metadata": {
        "id": "-SED2kKFjeQm",
        "colab_type": "text"
      },
      "source": [
        "Набор данных для предсказания оценок для отзывов, собранных с сайта _imdb.com_, который состоит из 50,000 отзывов в виде текстовых файлов.\n",
        "\n",
        "Отзывы разделены на положительные (25,000) и отрицательные (25,000).\n",
        "\n",
        "Данные предварительно токенизированы по принципу «мешка слов», индексы слов можно взять из словаря (_imdb.vocab_).\n",
        "\n",
        "Обучающая выборка включает в себя 12,500 положительных и 12,500 отрицательных отзывов, контрольная выборка также содержит 12,500 положительных и 12,500 отрицательных отзывов.\n",
        "\n",
        "Данные можно скачать ~~на сайте _Kaggle_~~: ~~https://www.kaggle.com/iarunava/imdb-movie-reviews-dataset~~ https://ai.stanford.edu/~amaas/data/sentiment/"
      ]
    },
    {
      "cell_type": "markdown",
      "metadata": {
        "id": "YvvJioiIkBuS",
        "colab_type": "text"
      },
      "source": [
        "### Задание 1\n",
        "\n",
        "Загрузите данные. Преобразуйте текстовые файлы во внутренние структуры данных, которые используют индексы вместо слов."
      ]
    },
    {
      "cell_type": "code",
      "metadata": {
        "id": "m2xYxvFJ0xJj",
        "colab_type": "code",
        "outputId": "3472cc2e-81ec-4aa6-ca24-9993ddbbc10d",
        "colab": {
          "base_uri": "https://localhost:8080/",
          "height": 34
        }
      },
      "source": [
        "from google.colab import drive\n",
        "\n",
        "drive.mount('/content/drive', force_remount = True)"
      ],
      "execution_count": 1,
      "outputs": [
        {
          "output_type": "stream",
          "text": [
            "Mounted at /content/drive\n"
          ],
          "name": "stdout"
        }
      ]
    },
    {
      "cell_type": "code",
      "metadata": {
        "id": "7Yg-w4Aw1Ohq",
        "colab_type": "code",
        "colab": {}
      },
      "source": [
        "BASE_DIR = '/content/drive/My Drive/Colab Files/mo-2'\n",
        "\n",
        "import sys\n",
        "\n",
        "sys.path.append(BASE_DIR)\n",
        "\n",
        "import os"
      ],
      "execution_count": 0,
      "outputs": []
    },
    {
      "cell_type": "code",
      "metadata": {
        "id": "UqlKvsJ41Rwy",
        "colab_type": "code",
        "colab": {}
      },
      "source": [
        "DATA_ARCHIVE_NAME = 'imdb-dataset-of-50k-movie-reviews.zip'\n",
        "\n",
        "LOCAL_DIR_NAME = 'imdb-sentiments'"
      ],
      "execution_count": 0,
      "outputs": []
    },
    {
      "cell_type": "code",
      "metadata": {
        "id": "QLAwfqxe1b7Z",
        "colab_type": "code",
        "colab": {}
      },
      "source": [
        "from zipfile import ZipFile\n",
        "\n",
        "with ZipFile(os.path.join(BASE_DIR, DATA_ARCHIVE_NAME), 'r') as zip_:\n",
        "    zip_.extractall(LOCAL_DIR_NAME)"
      ],
      "execution_count": 0,
      "outputs": []
    },
    {
      "cell_type": "code",
      "metadata": {
        "id": "m4Euqp8l1lUo",
        "colab_type": "code",
        "colab": {}
      },
      "source": [
        "DATA_FILE_PATH = 'imdb-sentiments/IMDB Dataset.csv'"
      ],
      "execution_count": 0,
      "outputs": []
    },
    {
      "cell_type": "code",
      "metadata": {
        "id": "_X4fdpuo1vBT",
        "colab_type": "code",
        "colab": {}
      },
      "source": [
        "import pandas as pd\n",
        "\n",
        "all_df = pd.read_csv(DATA_FILE_PATH)"
      ],
      "execution_count": 0,
      "outputs": []
    },
    {
      "cell_type": "code",
      "metadata": {
        "id": "z2Jm_7561x9w",
        "colab_type": "code",
        "outputId": "0a911898-46b5-43c1-b464-7c333cd9f660",
        "colab": {
          "base_uri": "https://localhost:8080/",
          "height": 34
        }
      },
      "source": [
        "print(all_df.shape)"
      ],
      "execution_count": 7,
      "outputs": [
        {
          "output_type": "stream",
          "text": [
            "(50000, 2)\n"
          ],
          "name": "stdout"
        }
      ]
    },
    {
      "cell_type": "code",
      "metadata": {
        "id": "jUBEQWuWQBkN",
        "colab_type": "code",
        "colab": {}
      },
      "source": [
        "train_df = all_df.sample(frac = 0.7)\n",
        "all_df = all_df.drop(train_df.index)\n",
        "\n",
        "val_df = all_df.sample(frac = 0.5)\n",
        "test_df = all_df.drop(val_df.index)"
      ],
      "execution_count": 0,
      "outputs": []
    },
    {
      "cell_type": "code",
      "metadata": {
        "id": "xdLmfaYeQHzB",
        "colab_type": "code",
        "outputId": "f3286e97-4bfd-4295-9891-d338e57a1def",
        "colab": {
          "base_uri": "https://localhost:8080/",
          "height": 70
        }
      },
      "source": [
        "print(train_df.shape)\n",
        "print(val_df.shape)\n",
        "print(test_df.shape)"
      ],
      "execution_count": 9,
      "outputs": [
        {
          "output_type": "stream",
          "text": [
            "(35000, 2)\n",
            "(7500, 2)\n",
            "(7500, 2)\n"
          ],
          "name": "stdout"
        }
      ]
    },
    {
      "cell_type": "code",
      "metadata": {
        "id": "ViW4uNZt90u0",
        "colab_type": "code",
        "colab": {
          "base_uri": "https://localhost:8080/",
          "height": 70
        },
        "outputId": "6393442a-52ee-4eb0-8d11-6bdd227b79de"
      },
      "source": [
        "import nltk\n",
        "\n",
        "nltk.download('punkt')"
      ],
      "execution_count": 10,
      "outputs": [
        {
          "output_type": "stream",
          "text": [
            "[nltk_data] Downloading package punkt to /root/nltk_data...\n",
            "[nltk_data]   Package punkt is already up-to-date!\n"
          ],
          "name": "stdout"
        },
        {
          "output_type": "execute_result",
          "data": {
            "text/plain": [
              "True"
            ]
          },
          "metadata": {
            "tags": []
          },
          "execution_count": 10
        }
      ]
    },
    {
      "cell_type": "code",
      "metadata": {
        "id": "Z6WR8PBaGygW",
        "colab_type": "code",
        "colab": {}
      },
      "source": [
        "MAX_LENGTH = 200\n",
        "\n",
        "STRING_DTYPE = '<U12'\n",
        "\n",
        "PADDING_TOKEN = 'PAD'\n",
        "\n",
        "LIMIT_OF_TOKENS = 100000"
      ],
      "execution_count": 0,
      "outputs": []
    },
    {
      "cell_type": "code",
      "metadata": {
        "id": "Tivq-oQK-sW_",
        "colab_type": "code",
        "colab": {}
      },
      "source": [
        "from nltk import word_tokenize\n",
        "import numpy as np\n",
        "import string\n",
        "import re\n",
        "\n",
        "def tokenize_string(_string):\n",
        "    return  [tok_.lower() for tok_ in word_tokenize(_string) if not re.fullmatch('[' + string.punctuation + ']+', tok_)]\n",
        "\n",
        "def pad(A, length):\n",
        "    arr = np.empty(length, dtype = STRING_DTYPE)\n",
        "    arr.fill(PADDING_TOKEN)\n",
        "    arr[:len(A)] = A\n",
        "    return arr\n",
        "\n",
        "def tokenize_row(_sentence):\n",
        "    return pad(tokenize_string(_sentence)[:MAX_LENGTH], MAX_LENGTH)\n",
        "\n",
        "def encode_row(_label):\n",
        "    return 1 if _label == 'positive' else 0\n",
        "\n",
        "def encode_and_tokenize(_dataframe):\n",
        "\n",
        "    tttt = _dataframe.apply(lambda row: tokenize_row(row['review']), axis = 1)\n",
        "    llll = _dataframe.apply(lambda row: encode_row(row['sentiment']), axis = 1)\n",
        "\n",
        "    data_dict = { 'label': llll, 'tokens': tttt }\n",
        "\n",
        "    encoded_and_tokenized = pd.DataFrame(data_dict, columns = ['label', 'tokens'])\n",
        "\n",
        "    return encoded_and_tokenized"
      ],
      "execution_count": 0,
      "outputs": []
    },
    {
      "cell_type": "code",
      "metadata": {
        "id": "fVEdzi_oEvkp",
        "colab_type": "code",
        "colab": {}
      },
      "source": [
        "train_df_tokenized = encode_and_tokenize(train_df)\n",
        "val_df_tokenized = encode_and_tokenize(val_df)\n",
        "test_df_tokenized = encode_and_tokenize(test_df)"
      ],
      "execution_count": 0,
      "outputs": []
    },
    {
      "cell_type": "code",
      "metadata": {
        "id": "tq8FJvCCKYbn",
        "colab_type": "code",
        "colab": {}
      },
      "source": [
        "from collections import Counter\n",
        "\n",
        "def get_tokens_list(_dataframes_list):\n",
        "    \n",
        "    all_dataframe_ = pd.concat(_dataframes_list)\n",
        "    \n",
        "    all_tokens_ = []\n",
        "    \n",
        "    for sent_ in all_dataframe_['tokens'].values:\n",
        "        all_tokens_.extend(sent_)\n",
        "\n",
        "    tokens_counter_ = Counter(all_tokens_)\n",
        "                \n",
        "    return [t for t, _ in tokens_counter_.most_common(LIMIT_OF_TOKENS)]"
      ],
      "execution_count": 0,
      "outputs": []
    },
    {
      "cell_type": "code",
      "metadata": {
        "id": "kcwmqBD8NnPS",
        "colab_type": "code",
        "colab": {}
      },
      "source": [
        "tokens_list = get_tokens_list([train_df_tokenized, val_df_tokenized, test_df_tokenized])"
      ],
      "execution_count": 0,
      "outputs": []
    },
    {
      "cell_type": "code",
      "metadata": {
        "id": "VBaHte_cN57P",
        "colab_type": "code",
        "colab": {}
      },
      "source": [
        "word_to_int_dict = {}\n",
        "\n",
        "word_to_int_dict.update(\n",
        "    {t : i for i, t in enumerate(tokens_list)})"
      ],
      "execution_count": 0,
      "outputs": []
    },
    {
      "cell_type": "code",
      "metadata": {
        "id": "YitqCwMYO02P",
        "colab_type": "code",
        "colab": {}
      },
      "source": [
        "def intize_row(_tokens):\n",
        "    return np.array([word_to_int_dict[t]\n",
        "                if t in word_to_int_dict\n",
        "                else 0\n",
        "            for t in _tokens])\n",
        "\n",
        "def encode_and_tokenize(_dataframe):\n",
        "\n",
        "    iiii = _dataframe.apply(lambda row: intize_row(row['tokens']), axis = 1)\n",
        "\n",
        "    data_dict = { 'label': _dataframe['label'], 'ints': iiii }\n",
        "\n",
        "    intized = pd.DataFrame(data_dict, columns = ['label', 'ints'])\n",
        "\n",
        "    return intized"
      ],
      "execution_count": 0,
      "outputs": []
    },
    {
      "cell_type": "code",
      "metadata": {
        "id": "HaVH0rXGPTFE",
        "colab_type": "code",
        "colab": {}
      },
      "source": [
        "train_df_intized = encode_and_tokenize(train_df_tokenized)\n",
        "val_df_intized = encode_and_tokenize(val_df_tokenized)\n",
        "test_df_intized = encode_and_tokenize(test_df_tokenized)"
      ],
      "execution_count": 0,
      "outputs": []
    },
    {
      "cell_type": "code",
      "metadata": {
        "id": "FjJRS6MbPvEX",
        "colab_type": "code",
        "colab": {
          "base_uri": "https://localhost:8080/",
          "height": 402
        },
        "outputId": "cc5766ed-2485-49ef-8b72-9190fea04864"
      },
      "source": [
        "train_df_intized"
      ],
      "execution_count": 19,
      "outputs": [
        {
          "output_type": "execute_result",
          "data": {
            "text/html": [
              "<div>\n",
              "<style scoped>\n",
              "    .dataframe tbody tr th:only-of-type {\n",
              "        vertical-align: middle;\n",
              "    }\n",
              "\n",
              "    .dataframe tbody tr th {\n",
              "        vertical-align: top;\n",
              "    }\n",
              "\n",
              "    .dataframe thead th {\n",
              "        text-align: right;\n",
              "    }\n",
              "</style>\n",
              "<table border=\"1\" class=\"dataframe\">\n",
              "  <thead>\n",
              "    <tr style=\"text-align: right;\">\n",
              "      <th></th>\n",
              "      <th>label</th>\n",
              "      <th>ints</th>\n",
              "    </tr>\n",
              "  </thead>\n",
              "  <tbody>\n",
              "    <tr>\n",
              "      <th>40632</th>\n",
              "      <td>0</td>\n",
              "      <td>[1, 3177, 630, 34, 1651, 7349, 14, 1, 67, 74, ...</td>\n",
              "    </tr>\n",
              "    <tr>\n",
              "      <th>47816</th>\n",
              "      <td>1</td>\n",
              "      <td>[8, 190, 12, 32, 79, 71, 23, 39, 1798, 2058, 4...</td>\n",
              "    </tr>\n",
              "    <tr>\n",
              "      <th>1573</th>\n",
              "      <td>1</td>\n",
              "      <td>[11, 6, 62, 51, 196, 987, 10, 1, 20, 3, 2, 74,...</td>\n",
              "    </tr>\n",
              "    <tr>\n",
              "      <th>2090</th>\n",
              "      <td>1</td>\n",
              "      <td>[11, 15, 6, 158, 319, 4, 2, 452, 2409, 879, 7,...</td>\n",
              "    </tr>\n",
              "    <tr>\n",
              "      <th>25406</th>\n",
              "      <td>1</td>\n",
              "      <td>[238, 69, 7, 433, 11, 195, 5, 169, 19, 1, 395,...</td>\n",
              "    </tr>\n",
              "    <tr>\n",
              "      <th>...</th>\n",
              "      <td>...</td>\n",
              "      <td>...</td>\n",
              "    </tr>\n",
              "    <tr>\n",
              "      <th>40447</th>\n",
              "      <td>1</td>\n",
              "      <td>[11, 6, 27, 4, 1, 115, 110, 7, 26, 113, 98, 85...</td>\n",
              "    </tr>\n",
              "    <tr>\n",
              "      <th>15087</th>\n",
              "      <td>0</td>\n",
              "      <td>[8, 13, 7284, 9, 9, 174, 25974, 634, 7, 119, 1...</td>\n",
              "    </tr>\n",
              "    <tr>\n",
              "      <th>34353</th>\n",
              "      <td>0</td>\n",
              "      <td>[0, 109, 1086, 10, 11, 0, 11, 15, 14, 427, 7, ...</td>\n",
              "    </tr>\n",
              "    <tr>\n",
              "      <th>32328</th>\n",
              "      <td>0</td>\n",
              "      <td>[8, 13, 83, 129, 1021, 145, 150, 19, 7, 130, 3...</td>\n",
              "    </tr>\n",
              "    <tr>\n",
              "      <th>28049</th>\n",
              "      <td>0</td>\n",
              "      <td>[18, 147, 4, 21, 36, 43, 23, 323, 91, 6561, 20...</td>\n",
              "    </tr>\n",
              "  </tbody>\n",
              "</table>\n",
              "<p>35000 rows × 2 columns</p>\n",
              "</div>"
            ],
            "text/plain": [
              "       label                                               ints\n",
              "40632      0  [1, 3177, 630, 34, 1651, 7349, 14, 1, 67, 74, ...\n",
              "47816      1  [8, 190, 12, 32, 79, 71, 23, 39, 1798, 2058, 4...\n",
              "1573       1  [11, 6, 62, 51, 196, 987, 10, 1, 20, 3, 2, 74,...\n",
              "2090       1  [11, 15, 6, 158, 319, 4, 2, 452, 2409, 879, 7,...\n",
              "25406      1  [238, 69, 7, 433, 11, 195, 5, 169, 19, 1, 395,...\n",
              "...      ...                                                ...\n",
              "40447      1  [11, 6, 27, 4, 1, 115, 110, 7, 26, 113, 98, 85...\n",
              "15087      0  [8, 13, 7284, 9, 9, 174, 25974, 634, 7, 119, 1...\n",
              "34353      0  [0, 109, 1086, 10, 11, 0, 11, 15, 14, 427, 7, ...\n",
              "32328      0  [8, 13, 83, 129, 1021, 145, 150, 19, 7, 130, 3...\n",
              "28049      0  [18, 147, 4, 21, 36, 43, 23, 323, 91, 6561, 20...\n",
              "\n",
              "[35000 rows x 2 columns]"
            ]
          },
          "metadata": {
            "tags": []
          },
          "execution_count": 19
        }
      ]
    },
    {
      "cell_type": "markdown",
      "metadata": {
        "id": "d9_f_zIukTGK",
        "colab_type": "text"
      },
      "source": [
        "### Задание 2\n",
        "\n",
        "Реализуйте и обучите двунаправленную рекуррентную сеть (_LSTM_ или _GRU_).\n",
        "\n",
        "Какого качества классификации удалось достичь?"
      ]
    },
    {
      "cell_type": "code",
      "metadata": {
        "id": "s-f0LrGwRvI-",
        "colab_type": "code",
        "colab": {
          "base_uri": "https://localhost:8080/",
          "height": 213
        },
        "outputId": "4b20dad6-7416-425f-b489-8be9bc96e9f3"
      },
      "source": [
        "! pip install tensorflow-gpu --pre --quiet\n",
        "\n",
        "! pip show tensorflow-gpu"
      ],
      "execution_count": 20,
      "outputs": [
        {
          "output_type": "stream",
          "text": [
            "Name: tensorflow-gpu\n",
            "Version: 2.2.0rc3\n",
            "Summary: TensorFlow is an open source machine learning framework for everyone.\n",
            "Home-page: https://www.tensorflow.org/\n",
            "Author: Google Inc.\n",
            "Author-email: packages@tensorflow.org\n",
            "License: Apache 2.0\n",
            "Location: /usr/local/lib/python3.6/dist-packages\n",
            "Requires: opt-einsum, gast, google-pasta, tensorboard, tensorflow-estimator, wheel, absl-py, grpcio, astunparse, wrapt, h5py, scipy, termcolor, six, numpy, protobuf, keras-preprocessing\n",
            "Required-by: \n"
          ],
          "name": "stdout"
        }
      ]
    },
    {
      "cell_type": "code",
      "metadata": {
        "id": "56BJY9L3Rya4",
        "colab_type": "code",
        "colab": {}
      },
      "source": [
        "import tensorflow as tf\n",
        "from tensorflow import keras"
      ],
      "execution_count": 0,
      "outputs": []
    },
    {
      "cell_type": "code",
      "metadata": {
        "id": "Jl8QgL8YR3MB",
        "colab_type": "code",
        "colab": {
          "base_uri": "https://localhost:8080/",
          "height": 90
        },
        "outputId": "8a213f8b-6936-43cd-c0e6-ef97fac13cb8"
      },
      "source": [
        "from tensorflow.keras.models import Sequential\n",
        "from tensorflow.keras.layers import Bidirectional, LSTM, Dropout\n",
        "\n",
        "model = tf.keras.Sequential()\n",
        "\n",
        "model.add(Bidirectional(LSTM(MAX_LENGTH, return_sequences = False, recurrent_dropout = 0.2), merge_mode = 'concat',\n",
        "          input_shape = (MAX_LENGTH, 1)))\n",
        "model.add(Dropout(0.2))\n",
        "model.add(Dense(1, activation = 'sigmoid'))"
      ],
      "execution_count": 27,
      "outputs": [
        {
          "output_type": "stream",
          "text": [
            "WARNING:tensorflow:Layer lstm_2 will not use cuDNN kernel since it doesn't meet the cuDNN kernel criteria. It will use generic GPU kernel as fallback when running on GPU\n",
            "WARNING:tensorflow:Layer lstm_2 will not use cuDNN kernel since it doesn't meet the cuDNN kernel criteria. It will use generic GPU kernel as fallback when running on GPU\n",
            "WARNING:tensorflow:Layer lstm_2 will not use cuDNN kernel since it doesn't meet the cuDNN kernel criteria. It will use generic GPU kernel as fallback when running on GPU\n"
          ],
          "name": "stdout"
        }
      ]
    },
    {
      "cell_type": "code",
      "metadata": {
        "id": "0XOQCFPLSxAY",
        "colab_type": "code",
        "colab": {
          "base_uri": "https://localhost:8080/",
          "height": 263
        },
        "outputId": "e4e18d24-55a4-4577-be4a-c8f942e0ffa4"
      },
      "source": [
        "model.compile(optimizer = 'adam',\n",
        "              loss = 'binary_crossentropy',\n",
        "              metrics = ['accuracy'])\n",
        "\n",
        "model.summary()"
      ],
      "execution_count": 28,
      "outputs": [
        {
          "output_type": "stream",
          "text": [
            "Model: \"sequential_2\"\n",
            "_________________________________________________________________\n",
            "Layer (type)                 Output Shape              Param #   \n",
            "=================================================================\n",
            "bidirectional_2 (Bidirection (None, 400)               323200    \n",
            "_________________________________________________________________\n",
            "dropout_2 (Dropout)          (None, 400)               0         \n",
            "_________________________________________________________________\n",
            "dense_2 (Dense)              (None, 1)                 401       \n",
            "=================================================================\n",
            "Total params: 323,601\n",
            "Trainable params: 323,601\n",
            "Non-trainable params: 0\n",
            "_________________________________________________________________\n"
          ],
          "name": "stdout"
        }
      ]
    },
    {
      "cell_type": "code",
      "metadata": {
        "id": "0P7S_oSbUyqR",
        "colab_type": "code",
        "colab": {}
      },
      "source": [
        "X_train = np.asarray(list(train_df_intized['ints'].values), dtype = float)[..., np.newaxis]\n",
        "X_test = np.asarray(list(test_df_intized['ints'].values), dtype = float)[..., np.newaxis]\n",
        "\n",
        "y_train = np.asarray(list(train_df_intized['label'].values))\n",
        "y_test = np.asarray(list(test_df_intized['label'].values))"
      ],
      "execution_count": 0,
      "outputs": []
    },
    {
      "cell_type": "code",
      "metadata": {
        "id": "VCBDllgPS5v4",
        "colab_type": "code",
        "colab": {
          "base_uri": "https://localhost:8080/",
          "height": 210
        },
        "outputId": "d57fd502-c9d9-4b29-c6d2-0b64d9865db2"
      },
      "source": [
        "r = 1093\n",
        "\n",
        "r_v = 234\n",
        "\n",
        "batch_size = 32\n",
        "\n",
        "model.fit(x = X_train[:r * batch_size], y = y_train[:r * batch_size],\n",
        "          validation_data = (X_test[:r_v * batch_size], y_test[:r_v * batch_size]),\n",
        "          epochs = 5, batch_size = batch_size)"
      ],
      "execution_count": 31,
      "outputs": [
        {
          "output_type": "stream",
          "text": [
            "Epoch 1/5\n",
            "1093/1093 [==============================] - 459s 420ms/step - loss: 0.6900 - accuracy: 0.5409 - val_loss: 0.6778 - val_accuracy: 0.5693\n",
            "Epoch 2/5\n",
            "1093/1093 [==============================] - 456s 417ms/step - loss: 0.6831 - accuracy: 0.5604 - val_loss: 0.6748 - val_accuracy: 0.5829\n",
            "Epoch 3/5\n",
            "1093/1093 [==============================] - 457s 418ms/step - loss: 0.6810 - accuracy: 0.5654 - val_loss: 0.6875 - val_accuracy: 0.5469\n",
            "Epoch 4/5\n",
            "1093/1093 [==============================] - 457s 418ms/step - loss: 0.6794 - accuracy: 0.5711 - val_loss: 0.6742 - val_accuracy: 0.5773\n",
            "Epoch 5/5\n",
            "1093/1093 [==============================] - 462s 422ms/step - loss: 0.6768 - accuracy: 0.5775 - val_loss: 0.6725 - val_accuracy: 0.5804\n"
          ],
          "name": "stdout"
        },
        {
          "output_type": "execute_result",
          "data": {
            "text/plain": [
              "<tensorflow.python.keras.callbacks.History at 0x7f5da9e639e8>"
            ]
          },
          "metadata": {
            "tags": []
          },
          "execution_count": 31
        }
      ]
    },
    {
      "cell_type": "markdown",
      "metadata": {
        "id": "x2DsAeq2kbGK",
        "colab_type": "text"
      },
      "source": [
        "### Задание 3\n",
        "\n",
        "Используйте индексы слов и их различное внутреннее представление (_word2vec_, _glove_). Как влияет данное преобразование на качество классификации?"
      ]
    },
    {
      "cell_type": "markdown",
      "metadata": {
        "id": "D5-qnk0zkiE8",
        "colab_type": "text"
      },
      "source": [
        "### Задание 4\n",
        "\n",
        "Поэкспериментируйте со структурой сети (добавьте больше рекуррентных, полносвязных или сверточных слоев). Как это повлияло на качество классификации?"
      ]
    },
    {
      "cell_type": "markdown",
      "metadata": {
        "id": "EZ1LfR8dkrK8",
        "colab_type": "text"
      },
      "source": [
        "### Задание 5\n",
        "\n",
        "Используйте предобученную рекуррентную нейронную сеть (например, _DeepMoji_ или что-то подобное).\n",
        "\n",
        "Какой максимальный результат удалось получить на контрольной выборке?"
      ]
    }
  ]
}