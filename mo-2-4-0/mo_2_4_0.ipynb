{
  "nbformat": 4,
  "nbformat_minor": 0,
  "metadata": {
    "colab": {
      "name": "mo-2-4-0.ipynb",
      "provenance": [],
      "collapsed_sections": [],
      "machine_shape": "hm"
    },
    "kernelspec": {
      "name": "python3",
      "display_name": "Python 3"
    },
    "accelerator": "GPU"
  },
  "cells": [
    {
      "cell_type": "markdown",
      "metadata": {
        "id": "AJbO6Hqtaukq",
        "colab_type": "text"
      },
      "source": [
        "# Лабораторная работа №4\n",
        "\n",
        "## Реализация приложения по распознаванию номеров домов"
      ]
    },
    {
      "cell_type": "markdown",
      "metadata": {
        "id": "1jBSK2FabPKC",
        "colab_type": "text"
      },
      "source": [
        "Набор изображений из _Google Street View_ с изображениями номеров домов, содержащий 10 классов, соответствующих цифрам от 0 до 9.\n",
        "\n",
        "* 73257 изображений цифр в обучающей выборке;\n",
        "\n",
        "* 26032 изображения цифр в тестовой выборке;\n",
        "\n",
        "* 531131 изображения, которые можно использовать как дополнение к обучающей выборке;\n",
        "\n",
        "* В двух форматах:\n",
        "\n",
        "    * Оригинальные изображения с выделенными цифрами;\n",
        "\n",
        "    * Изображения размером 32×32, содержащие одну цифру;\n",
        "\n",
        "* Данные первого формата можно скачать по ссылкам:\n",
        "\n",
        "    * http://ufldl.stanford.edu/housenumbers/train.tar.gz (обучающая выборка);\n",
        "\n",
        "    * http://ufldl.stanford.edu/housenumbers/test.tar.gz (тестовая выборка);\n",
        "\n",
        "    * http://ufldl.stanford.edu/housenumbers/extra.tar.gz (дополнительные данные);\n",
        "\n",
        "* Данные второго формата можно скачать по ссылкам:\n",
        "\n",
        "    * http://ufldl.stanford.edu/housenumbers/train_32x32.mat (обучающая выборка);\n",
        "\n",
        "    * http://ufldl.stanford.edu/housenumbers/test_32x32.mat (тестовая выборка);\n",
        "\n",
        "    * http://ufldl.stanford.edu/housenumbers/extra_32x32.mat (дополнительные данные);\n",
        "\n",
        "* Описание данных на английском языке доступно по ссылке:\n",
        "\n",
        "    * http://ufldl.stanford.edu/housenumbers/"
      ]
    },
    {
      "cell_type": "markdown",
      "metadata": {
        "id": "T8r0rcrSbum0",
        "colab_type": "text"
      },
      "source": [
        "### Задание 1\n",
        "\n",
        "Реализуйте глубокую нейронную сеть (полносвязную или сверточную) и обучите ее на синтетических данных (например, наборы _MNIST_ (http://yann.lecun.com/exdb/mnist/) или _notMNIST_).\n",
        "\n",
        "Ознакомьтесь с имеющимися работами по данной тематике: англоязычная статья ( http://static.googleusercontent.com/media/research.google.com/en//pubs/archive/42241.pdf ), видео на _YouTube_ (https://www.youtube.com/watch?v=vGPI_JvLoN0)."
      ]
    },
    {
      "cell_type": "markdown",
      "metadata": {
        "id": "NhEJUbH-b9RT",
        "colab_type": "text"
      },
      "source": [
        "### Задание 2\n",
        "\n",
        "После уточнения модели на синтетических данных попробуйте обучить ее на реальных данных (набор _Google Street View_). Что изменилось в модели?"
      ]
    },
    {
      "cell_type": "markdown",
      "metadata": {
        "id": "qI_e3nVUcCXb",
        "colab_type": "text"
      },
      "source": [
        "### Задание 3\n",
        "\n",
        "Сделайте множество снимков изображений номеров домов с помощью смартфона на ОС _Android_. Также можно использовать библиотеки _OpenCV_, _Simple CV_ или _Pygame_ для обработки изображений с общедоступных камер видеонаблюдения (например, https://www.earthcam.com/).\n",
        "\n",
        "Пример использования библиотеки _TensorFlow_ на смартфоне можете воспользоваться демонстрационным приложением от _Google_ (https://github.com/tensorflow/tensorflow/tree/master/tensorflow/examples/android)."
      ]
    },
    {
      "cell_type": "markdown",
      "metadata": {
        "id": "xDRp62kQcQd8",
        "colab_type": "text"
      },
      "source": [
        "### Задание 4\n",
        "\n",
        "Реализуйте приложение для ОС _Android_, которое может распознавать цифры в номерах домов, используя разработанный ранее классификатор. Какова доля правильных классификаций?"
      ]
    }
  ]
}