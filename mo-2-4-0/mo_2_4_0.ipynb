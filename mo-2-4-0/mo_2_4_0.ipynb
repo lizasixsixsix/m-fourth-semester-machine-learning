{
  "nbformat": 4,
  "nbformat_minor": 0,
  "metadata": {
    "colab": {
      "name": "mo-2-4-0.ipynb",
      "provenance": [],
      "collapsed_sections": [],
      "toc_visible": true,
      "machine_shape": "hm"
    },
    "kernelspec": {
      "name": "python3",
      "display_name": "Python 3"
    },
    "accelerator": "GPU"
  },
  "cells": [
    {
      "cell_type": "markdown",
      "metadata": {
        "id": "AJbO6Hqtaukq",
        "colab_type": "text"
      },
      "source": [
        "# Лабораторная работа №4\n",
        "\n",
        "## Реализация приложения по распознаванию номеров домов"
      ]
    },
    {
      "cell_type": "markdown",
      "metadata": {
        "id": "1jBSK2FabPKC",
        "colab_type": "text"
      },
      "source": [
        "Набор изображений из _Google Street View_ с изображениями номеров домов, содержащий 10 классов, соответствующих цифрам от 0 до 9.\n",
        "\n",
        "* 73257 изображений цифр в обучающей выборке;\n",
        "\n",
        "* 26032 изображения цифр в тестовой выборке;\n",
        "\n",
        "* 531131 изображения, которые можно использовать как дополнение к обучающей выборке;\n",
        "\n",
        "* В двух форматах:\n",
        "\n",
        "    * Оригинальные изображения с выделенными цифрами;\n",
        "\n",
        "    * Изображения размером 32×32, содержащие одну цифру;\n",
        "\n",
        "* Данные первого формата можно скачать по ссылкам:\n",
        "\n",
        "    * http://ufldl.stanford.edu/housenumbers/train.tar.gz (обучающая выборка);\n",
        "\n",
        "    * http://ufldl.stanford.edu/housenumbers/test.tar.gz (тестовая выборка);\n",
        "\n",
        "    * http://ufldl.stanford.edu/housenumbers/extra.tar.gz (дополнительные данные);\n",
        "\n",
        "* Данные второго формата можно скачать по ссылкам:\n",
        "\n",
        "    * http://ufldl.stanford.edu/housenumbers/train_32x32.mat (обучающая выборка);\n",
        "\n",
        "    * http://ufldl.stanford.edu/housenumbers/test_32x32.mat (тестовая выборка);\n",
        "\n",
        "    * http://ufldl.stanford.edu/housenumbers/extra_32x32.mat (дополнительные данные);\n",
        "\n",
        "* Описание данных на английском языке доступно по ссылке:\n",
        "\n",
        "    * http://ufldl.stanford.edu/housenumbers/"
      ]
    },
    {
      "cell_type": "markdown",
      "metadata": {
        "id": "T8r0rcrSbum0",
        "colab_type": "text"
      },
      "source": [
        "### Задание 1\n",
        "\n",
        "Реализуйте глубокую нейронную сеть (полносвязную или сверточную) и обучите ее на синтетических данных (например, наборы _MNIST_ (http://yann.lecun.com/exdb/mnist/) или _notMNIST_).\n",
        "\n",
        "Ознакомьтесь с имеющимися работами по данной тематике: англоязычная статья ( http://static.googleusercontent.com/media/research.google.com/en//pubs/archive/42241.pdf ), видео на _YouTube_ (https://www.youtube.com/watch?v=vGPI_JvLoN0)."
      ]
    },
    {
      "cell_type": "markdown",
      "metadata": {
        "id": "XwZ5YedLSmq5",
        "colab_type": "text"
      },
      "source": [
        "Используем архитектуру _LeNet-5_ и обучим сеть сначала на данных из набора _MNIST_."
      ]
    },
    {
      "cell_type": "code",
      "metadata": {
        "id": "p5VyFAn6oppw",
        "colab_type": "code",
        "outputId": "a20a882c-2d8f-4e58-e3dd-c468de029007",
        "colab": {
          "base_uri": "https://localhost:8080/",
          "height": 213
        }
      },
      "source": [
        "! pip install tensorflow-gpu --pre --quiet\n",
        "\n",
        "! pip show tensorflow-gpu"
      ],
      "execution_count": 1,
      "outputs": [
        {
          "output_type": "stream",
          "text": [
            "Name: tensorflow-gpu\n",
            "Version: 2.2.0rc3\n",
            "Summary: TensorFlow is an open source machine learning framework for everyone.\n",
            "Home-page: https://www.tensorflow.org/\n",
            "Author: Google Inc.\n",
            "Author-email: packages@tensorflow.org\n",
            "License: Apache 2.0\n",
            "Location: /usr/local/lib/python3.6/dist-packages\n",
            "Requires: google-pasta, wrapt, wheel, protobuf, astunparse, h5py, gast, keras-preprocessing, six, grpcio, absl-py, opt-einsum, tensorboard, scipy, numpy, tensorflow-estimator, termcolor\n",
            "Required-by: \n"
          ],
          "name": "stdout"
        }
      ]
    },
    {
      "cell_type": "code",
      "metadata": {
        "id": "4A6ova40mePh",
        "colab_type": "code",
        "colab": {}
      },
      "source": [
        "import tensorflow as tf\n",
        "from tensorflow import keras"
      ],
      "execution_count": 0,
      "outputs": []
    },
    {
      "cell_type": "code",
      "metadata": {
        "id": "JxMOj2NcyUrR",
        "colab_type": "code",
        "colab": {}
      },
      "source": [
        "import numpy as np"
      ],
      "execution_count": 0,
      "outputs": []
    },
    {
      "cell_type": "code",
      "metadata": {
        "id": "lqe79JL0mGNh",
        "colab_type": "code",
        "colab": {}
      },
      "source": [
        "from tensorflow.keras.datasets import mnist\n",
        "\n",
        "(x_train, y_train), (x_test, y_test) = mnist.load_data()"
      ],
      "execution_count": 0,
      "outputs": []
    },
    {
      "cell_type": "code",
      "metadata": {
        "id": "AEaLeEAKy-sx",
        "colab_type": "code",
        "colab": {}
      },
      "source": [
        "x_train, x_test = tf.keras.utils.normalize(x_train, axis = 1), tf.keras.utils.normalize(x_test, axis = 1)"
      ],
      "execution_count": 0,
      "outputs": []
    },
    {
      "cell_type": "code",
      "metadata": {
        "id": "fDy2wUQwyQFM",
        "colab_type": "code",
        "colab": {}
      },
      "source": [
        "x_train, x_test = x_train[..., np.newaxis], x_test[..., np.newaxis]"
      ],
      "execution_count": 0,
      "outputs": []
    },
    {
      "cell_type": "code",
      "metadata": {
        "id": "SA-LEJ-DH85n",
        "colab_type": "code",
        "outputId": "37ed5c47-6d7b-4353-8ab3-c94733bf3f60",
        "colab": {
          "base_uri": "https://localhost:8080/",
          "height": 34
        }
      },
      "source": [
        "from tensorflow.keras.utils import to_categorical\n",
        "\n",
        "y_train, y_test = to_categorical(y_train), to_categorical(y_test)\n",
        "\n",
        "y_train.shape"
      ],
      "execution_count": 7,
      "outputs": [
        {
          "output_type": "execute_result",
          "data": {
            "text/plain": [
              "(60000, 10)"
            ]
          },
          "metadata": {
            "tags": []
          },
          "execution_count": 7
        }
      ]
    },
    {
      "cell_type": "code",
      "metadata": {
        "id": "QW4-m2kcv1bg",
        "colab_type": "code",
        "colab": {}
      },
      "source": [
        "IMAGE_DIM_0, IMAGE_DIM_1 = x_train.shape[1], x_train.shape[2]"
      ],
      "execution_count": 0,
      "outputs": []
    },
    {
      "cell_type": "code",
      "metadata": {
        "id": "h8FxR1mymxWS",
        "colab_type": "code",
        "colab": {}
      },
      "source": [
        "CLASSES_N = y_train.shape[1]"
      ],
      "execution_count": 0,
      "outputs": []
    },
    {
      "cell_type": "code",
      "metadata": {
        "id": "nfSn_LKOm6U_",
        "colab_type": "code",
        "outputId": "a48a483e-5dd4-4bab-8679-b5e552226f88",
        "colab": {
          "base_uri": "https://localhost:8080/",
          "height": 34
        }
      },
      "source": [
        "x_train.shape, x_test.shape"
      ],
      "execution_count": 10,
      "outputs": [
        {
          "output_type": "execute_result",
          "data": {
            "text/plain": [
              "((60000, 28, 28, 1), (10000, 28, 28, 1))"
            ]
          },
          "metadata": {
            "tags": []
          },
          "execution_count": 10
        }
      ]
    },
    {
      "cell_type": "code",
      "metadata": {
        "id": "oGJQ6uXanJQ3",
        "colab_type": "code",
        "colab": {}
      },
      "source": [
        "from tensorflow.keras.models import Sequential\n",
        "from tensorflow.keras.layers import AveragePooling2D, Conv2D, Dense, Flatten\n",
        "\n",
        "model = tf.keras.Sequential()\n",
        "\n",
        "model.add(Conv2D(6, kernel_size = (5, 5), strides = (1, 1), activation = 'tanh', padding = 'same',\n",
        "                   input_shape = (IMAGE_DIM_0, IMAGE_DIM_1, 1)))\n",
        "model.add(AveragePooling2D(pool_size = (2, 2), strides = (2, 2), padding = 'valid'))\n",
        "model.add(Conv2D(16, kernel_size = (5, 5), strides = (1, 1), activation = 'tanh', padding = 'valid'))\n",
        "model.add(AveragePooling2D(pool_size = (2, 2), strides = (2, 2), padding = 'valid'))\n",
        "model.add(Flatten())\n",
        "model.add(Dense(120, activation = 'tanh'))\n",
        "model.add(Dense(84, activation = 'tanh'))\n",
        "model.add(Dense(CLASSES_N, activation = 'softmax'))"
      ],
      "execution_count": 0,
      "outputs": []
    },
    {
      "cell_type": "code",
      "metadata": {
        "id": "QF5wW8VYnca7",
        "colab_type": "code",
        "colab": {}
      },
      "source": [
        "# 'sparse_categorical_crossentropy' gave NAN loss\n",
        "\n",
        "model.compile(optimizer = 'adam',\n",
        "              loss = 'categorical_crossentropy',\n",
        "              metrics = ['categorical_accuracy'])"
      ],
      "execution_count": 0,
      "outputs": []
    },
    {
      "cell_type": "code",
      "metadata": {
        "id": "qiqd4HCfnezG",
        "colab_type": "code",
        "outputId": "f7403cba-ecd0-41ca-fd19-a646b3a3eafa",
        "colab": {
          "base_uri": "https://localhost:8080/",
          "height": 439
        }
      },
      "source": [
        "model.summary()"
      ],
      "execution_count": 13,
      "outputs": [
        {
          "output_type": "stream",
          "text": [
            "Model: \"sequential\"\n",
            "_________________________________________________________________\n",
            "Layer (type)                 Output Shape              Param #   \n",
            "=================================================================\n",
            "conv2d (Conv2D)              (None, 28, 28, 6)         156       \n",
            "_________________________________________________________________\n",
            "average_pooling2d (AveragePo (None, 14, 14, 6)         0         \n",
            "_________________________________________________________________\n",
            "conv2d_1 (Conv2D)            (None, 10, 10, 16)        2416      \n",
            "_________________________________________________________________\n",
            "average_pooling2d_1 (Average (None, 5, 5, 16)          0         \n",
            "_________________________________________________________________\n",
            "flatten (Flatten)            (None, 400)               0         \n",
            "_________________________________________________________________\n",
            "dense (Dense)                (None, 120)               48120     \n",
            "_________________________________________________________________\n",
            "dense_1 (Dense)              (None, 84)                10164     \n",
            "_________________________________________________________________\n",
            "dense_2 (Dense)              (None, 10)                850       \n",
            "=================================================================\n",
            "Total params: 61,706\n",
            "Trainable params: 61,706\n",
            "Non-trainable params: 0\n",
            "_________________________________________________________________\n"
          ],
          "name": "stdout"
        }
      ]
    },
    {
      "cell_type": "code",
      "metadata": {
        "id": "Qnv6sb5Tniww",
        "colab_type": "code",
        "colab": {}
      },
      "source": [
        "EPOCHS_N = 20"
      ],
      "execution_count": 0,
      "outputs": []
    },
    {
      "cell_type": "code",
      "metadata": {
        "id": "wWfwaspGnsVK",
        "colab_type": "code",
        "outputId": "042bf404-3245-4de2-f0c4-c1125b3e2a5a",
        "colab": {
          "base_uri": "https://localhost:8080/",
          "height": 758
        }
      },
      "source": [
        "model.fit(x = x_train, y = y_train, validation_split = 0.15, epochs = EPOCHS_N)"
      ],
      "execution_count": 15,
      "outputs": [
        {
          "output_type": "stream",
          "text": [
            "Epoch 1/20\n",
            "1594/1594 [==============================] - 5s 3ms/step - loss: 0.2767 - categorical_accuracy: 0.9161 - val_loss: 0.1310 - val_categorical_accuracy: 0.9619\n",
            "Epoch 2/20\n",
            "1594/1594 [==============================] - 5s 3ms/step - loss: 0.1169 - categorical_accuracy: 0.9639 - val_loss: 0.0892 - val_categorical_accuracy: 0.9724\n",
            "Epoch 3/20\n",
            "1594/1594 [==============================] - 5s 3ms/step - loss: 0.0789 - categorical_accuracy: 0.9751 - val_loss: 0.0922 - val_categorical_accuracy: 0.9732\n",
            "Epoch 4/20\n",
            "1594/1594 [==============================] - 5s 3ms/step - loss: 0.0603 - categorical_accuracy: 0.9808 - val_loss: 0.0775 - val_categorical_accuracy: 0.9769\n",
            "Epoch 5/20\n",
            "1594/1594 [==============================] - 5s 3ms/step - loss: 0.0465 - categorical_accuracy: 0.9852 - val_loss: 0.0781 - val_categorical_accuracy: 0.9759\n",
            "Epoch 6/20\n",
            "1594/1594 [==============================] - 5s 3ms/step - loss: 0.0376 - categorical_accuracy: 0.9877 - val_loss: 0.0611 - val_categorical_accuracy: 0.9811\n",
            "Epoch 7/20\n",
            "1594/1594 [==============================] - 5s 3ms/step - loss: 0.0305 - categorical_accuracy: 0.9902 - val_loss: 0.0683 - val_categorical_accuracy: 0.9793\n",
            "Epoch 8/20\n",
            "1594/1594 [==============================] - 5s 3ms/step - loss: 0.0273 - categorical_accuracy: 0.9911 - val_loss: 0.0615 - val_categorical_accuracy: 0.9831\n",
            "Epoch 9/20\n",
            "1594/1594 [==============================] - 5s 3ms/step - loss: 0.0224 - categorical_accuracy: 0.9928 - val_loss: 0.0674 - val_categorical_accuracy: 0.9812\n",
            "Epoch 10/20\n",
            "1594/1594 [==============================] - 5s 3ms/step - loss: 0.0196 - categorical_accuracy: 0.9936 - val_loss: 0.0629 - val_categorical_accuracy: 0.9829\n",
            "Epoch 11/20\n",
            "1594/1594 [==============================] - 5s 3ms/step - loss: 0.0165 - categorical_accuracy: 0.9945 - val_loss: 0.0683 - val_categorical_accuracy: 0.9826\n",
            "Epoch 12/20\n",
            "1594/1594 [==============================] - 5s 3ms/step - loss: 0.0166 - categorical_accuracy: 0.9942 - val_loss: 0.0647 - val_categorical_accuracy: 0.9838\n",
            "Epoch 13/20\n",
            "1594/1594 [==============================] - 5s 3ms/step - loss: 0.0121 - categorical_accuracy: 0.9961 - val_loss: 0.0799 - val_categorical_accuracy: 0.9794\n",
            "Epoch 14/20\n",
            "1594/1594 [==============================] - 5s 3ms/step - loss: 0.0124 - categorical_accuracy: 0.9957 - val_loss: 0.0695 - val_categorical_accuracy: 0.9833\n",
            "Epoch 15/20\n",
            "1594/1594 [==============================] - 5s 3ms/step - loss: 0.0112 - categorical_accuracy: 0.9964 - val_loss: 0.0743 - val_categorical_accuracy: 0.9821\n",
            "Epoch 16/20\n",
            "1594/1594 [==============================] - 5s 3ms/step - loss: 0.0107 - categorical_accuracy: 0.9964 - val_loss: 0.0716 - val_categorical_accuracy: 0.9818\n",
            "Epoch 17/20\n",
            "1594/1594 [==============================] - 5s 3ms/step - loss: 0.0102 - categorical_accuracy: 0.9964 - val_loss: 0.0757 - val_categorical_accuracy: 0.9838\n",
            "Epoch 18/20\n",
            "1594/1594 [==============================] - 5s 3ms/step - loss: 0.0101 - categorical_accuracy: 0.9966 - val_loss: 0.0710 - val_categorical_accuracy: 0.9850\n",
            "Epoch 19/20\n",
            "1594/1594 [==============================] - 5s 3ms/step - loss: 0.0080 - categorical_accuracy: 0.9973 - val_loss: 0.0765 - val_categorical_accuracy: 0.9846\n",
            "Epoch 20/20\n",
            "1594/1594 [==============================] - 5s 3ms/step - loss: 0.0093 - categorical_accuracy: 0.9971 - val_loss: 0.0721 - val_categorical_accuracy: 0.9842\n"
          ],
          "name": "stdout"
        },
        {
          "output_type": "execute_result",
          "data": {
            "text/plain": [
              "<tensorflow.python.keras.callbacks.History at 0x7f0ad01780b8>"
            ]
          },
          "metadata": {
            "tags": []
          },
          "execution_count": 15
        }
      ]
    },
    {
      "cell_type": "code",
      "metadata": {
        "id": "_jEk5lajSKKV",
        "colab_type": "code",
        "outputId": "99fd9076-3980-4a9a-b919-2d3df7eb823e",
        "colab": {
          "base_uri": "https://localhost:8080/",
          "height": 52
        }
      },
      "source": [
        "results = model.evaluate(x_test, y_test)\n",
        "\n",
        "print('Test loss, test accuracy:', results)"
      ],
      "execution_count": 16,
      "outputs": [
        {
          "output_type": "stream",
          "text": [
            "313/313 [==============================] - 1s 2ms/step - loss: 0.0756 - categorical_accuracy: 0.9830\n",
            "Test loss, test accuracy: [0.0756305530667305, 0.9829999804496765]\n"
          ],
          "name": "stdout"
        }
      ]
    },
    {
      "cell_type": "markdown",
      "metadata": {
        "id": "e_YPL2eNS-IW",
        "colab_type": "text"
      },
      "source": [
        "Удалось достичь отличного результата &mdash; точность распознавания на тестовой выборке составила 98,0%."
      ]
    },
    {
      "cell_type": "markdown",
      "metadata": {
        "id": "NhEJUbH-b9RT",
        "colab_type": "text"
      },
      "source": [
        "### Задание 2\n",
        "\n",
        "После уточнения модели на синтетических данных попробуйте обучить ее на реальных данных (набор _Google Street View_). Что изменилось в модели?"
      ]
    },
    {
      "cell_type": "code",
      "metadata": {
        "id": "dpjg0mUPPZzR",
        "colab_type": "code",
        "colab": {}
      },
      "source": [
        "DS_URL_FOLDER = 'http://ufldl.stanford.edu/housenumbers/'\n",
        "\n",
        "FIRST_DS_EXT = '.tar.gz'\n",
        "SECOND_DS_EXT = '_32x32.mat'\n",
        "\n",
        "TRAIN_DS_NAME = 'train'\n",
        "TEST_DS_NAME = 'test'\n",
        "EXTRA_DS_NAME = 'extra'"
      ],
      "execution_count": 0,
      "outputs": []
    },
    {
      "cell_type": "code",
      "metadata": {
        "id": "UQ1Au9pWQ1gx",
        "colab_type": "code",
        "colab": {}
      },
      "source": [
        "from urllib.request import urlretrieve\n",
        "import tarfile\n",
        "import os\n",
        "\n",
        "def load_file(_url_folder, _name, _ext, _key, _local_ext = ''):\n",
        "\n",
        "    file_url_ = _url_folder + _name + _ext\n",
        "\n",
        "    local_file_name_ = _name + '_' + _key + _local_ext\n",
        "\n",
        "    urlretrieve(file_url_, local_file_name_)\n",
        "\n",
        "    return local_file_name_\n",
        "\n",
        "def tar_gz_to_dir(_url_folder, _name, _ext, _key):\n",
        "\n",
        "    local_file_name_ = load_file(_url_folder, _name, _ext, _key, _ext)\n",
        "\n",
        "    dir_name_ = _name + '_' + _key\n",
        "    \n",
        "    with tarfile.open(local_file_name_, 'r:gz') as tar_:\n",
        "        tar_.extractall(dir_name_)\n",
        "\n",
        "    os.remove(local_file_name_)\n",
        "\n",
        "    return dir_name_"
      ],
      "execution_count": 0,
      "outputs": []
    },
    {
      "cell_type": "code",
      "metadata": {
        "id": "fY9H9gOx_agn",
        "colab_type": "code",
        "colab": {}
      },
      "source": [
        "second_ds_train_file = load_file(DS_URL_FOLDER, TRAIN_DS_NAME, SECOND_DS_EXT, 'second')\n",
        "second_ds_test_file = load_file(DS_URL_FOLDER, TEST_DS_NAME, SECOND_DS_EXT, 'second')\n",
        "second_ds_extra_file = load_file(DS_URL_FOLDER, EXTRA_DS_NAME, SECOND_DS_EXT, 'second')"
      ],
      "execution_count": 0,
      "outputs": []
    },
    {
      "cell_type": "code",
      "metadata": {
        "id": "VRmvtvvHjWam",
        "colab_type": "code",
        "colab": {}
      },
      "source": [
        "from scipy import io\n",
        "\n",
        "second_ds_train = io.loadmat(second_ds_train_file)\n",
        "second_ds_test = io.loadmat(second_ds_test_file)\n",
        "second_ds_extra = io.loadmat(second_ds_extra_file)"
      ],
      "execution_count": 0,
      "outputs": []
    },
    {
      "cell_type": "code",
      "metadata": {
        "id": "8aZehuSyjtMa",
        "colab_type": "code",
        "outputId": "463b3d09-0945-447e-a714-603ec6d4515e",
        "colab": {
          "base_uri": "https://localhost:8080/",
          "height": 70
        }
      },
      "source": [
        "X_second_ds_train = np.moveaxis(second_ds_train['X'], -1, 0)\n",
        "X_second_ds_test = np.moveaxis(second_ds_test['X'], -1, 0)\n",
        "X_second_ds_extra = np.moveaxis(second_ds_extra['X'], -1, 0)\n",
        "\n",
        "y_second_ds_train = second_ds_train['y']\n",
        "y_second_ds_test = second_ds_test['y']\n",
        "y_second_ds_extra = second_ds_extra['y']\n",
        "\n",
        "print(X_second_ds_train.shape, y_second_ds_train.shape)\n",
        "print(X_second_ds_test.shape, y_second_ds_test.shape)\n",
        "print(X_second_ds_extra.shape, y_second_ds_extra.shape)"
      ],
      "execution_count": 21,
      "outputs": [
        {
          "output_type": "stream",
          "text": [
            "(73257, 32, 32, 3) (73257, 1)\n",
            "(26032, 32, 32, 3) (26032, 1)\n",
            "(531131, 32, 32, 3) (531131, 1)\n"
          ],
          "name": "stdout"
        }
      ]
    },
    {
      "cell_type": "code",
      "metadata": {
        "id": "7rGezUtOltjt",
        "colab_type": "code",
        "outputId": "e6ba8419-9fa4-497c-8d74-303e89ff4b02",
        "colab": {
          "base_uri": "https://localhost:8080/",
          "height": 266
        }
      },
      "source": [
        "import matplotlib.pyplot as plt\n",
        "\n",
        "plt.imshow(X_second_ds_train[0])\n",
        "\n",
        "plt.show()"
      ],
      "execution_count": 22,
      "outputs": [
        {
          "output_type": "display_data",
          "data": {
            "image/png": "[encoded data removed]",
            "text/plain": [
              "<Figure size 432x288 with 1 Axes>"
            ]
          },
          "metadata": {
            "tags": [],
            "needs_background": "light"
          }
        }
      ]
    },
    {
      "cell_type": "code",
      "metadata": {
        "id": "iUuo9YEP3w0c",
        "colab_type": "code",
        "colab": {}
      },
      "source": [
        "IMAGE_DIM_0_2, IMAGE_DIM_1_2, IMAGE_DIM_2_2 = X_second_ds_train.shape[-3], X_second_ds_train.shape[-2], X_second_ds_train.shape[-1]"
      ],
      "execution_count": 0,
      "outputs": []
    },
    {
      "cell_type": "code",
      "metadata": {
        "id": "xnfDnP9D5U_W",
        "colab_type": "code",
        "colab": {}
      },
      "source": [
        "y_second_ds_train_cat = to_categorical(y_second_ds_train)\n",
        "y_second_ds_test_cat = to_categorical(y_second_ds_test)"
      ],
      "execution_count": 0,
      "outputs": []
    },
    {
      "cell_type": "code",
      "metadata": {
        "id": "VSuoxju15AGx",
        "colab_type": "code",
        "colab": {}
      },
      "source": [
        "CLASSES_N_2 = y_second_ds_train_cat.shape[1]"
      ],
      "execution_count": 0,
      "outputs": []
    },
    {
      "cell_type": "code",
      "metadata": {
        "id": "XH96BC9-3s7p",
        "colab_type": "code",
        "colab": {}
      },
      "source": [
        "model_2 = tf.keras.Sequential()\n",
        "\n",
        "model_2.add(Conv2D(6, kernel_size = (5, 5), strides = (1, 1), activation = 'tanh', padding = 'same',\n",
        "                   input_shape = (IMAGE_DIM_0_2, IMAGE_DIM_1_2, IMAGE_DIM_2_2)))\n",
        "model_2.add(AveragePooling2D(pool_size = (2, 2), strides = (2, 2), padding = 'valid'))\n",
        "model_2.add(Conv2D(16, kernel_size = (5, 5), strides = (1, 1), activation = 'tanh', padding = 'valid'))\n",
        "model_2.add(AveragePooling2D(pool_size = (2, 2), strides = (2, 2), padding = 'valid'))\n",
        "model_2.add(Flatten())\n",
        "model_2.add(Dense(120, activation = 'tanh'))\n",
        "model_2.add(Dense(84, activation = 'tanh'))\n",
        "model_2.add(Dense(CLASSES_N_2, activation = 'softmax'))"
      ],
      "execution_count": 0,
      "outputs": []
    },
    {
      "cell_type": "code",
      "metadata": {
        "id": "RxY6LEWR3q33",
        "colab_type": "code",
        "colab": {}
      },
      "source": [
        "model_2.compile(optimizer = 'adam',\n",
        "                loss = 'categorical_crossentropy',\n",
        "                metrics = ['categorical_accuracy'])"
      ],
      "execution_count": 0,
      "outputs": []
    },
    {
      "cell_type": "code",
      "metadata": {
        "id": "Ubm_QyIZ3qCV",
        "colab_type": "code",
        "outputId": "9cf6adbc-cf05-4a95-af2a-6117622c1f52",
        "colab": {
          "base_uri": "https://localhost:8080/",
          "height": 439
        }
      },
      "source": [
        "model_2.summary()"
      ],
      "execution_count": 28,
      "outputs": [
        {
          "output_type": "stream",
          "text": [
            "Model: \"sequential_1\"\n",
            "_________________________________________________________________\n",
            "Layer (type)                 Output Shape              Param #   \n",
            "=================================================================\n",
            "conv2d_2 (Conv2D)            (None, 32, 32, 6)         456       \n",
            "_________________________________________________________________\n",
            "average_pooling2d_2 (Average (None, 16, 16, 6)         0         \n",
            "_________________________________________________________________\n",
            "conv2d_3 (Conv2D)            (None, 12, 12, 16)        2416      \n",
            "_________________________________________________________________\n",
            "average_pooling2d_3 (Average (None, 6, 6, 16)          0         \n",
            "_________________________________________________________________\n",
            "flatten_1 (Flatten)          (None, 576)               0         \n",
            "_________________________________________________________________\n",
            "dense_3 (Dense)              (None, 120)               69240     \n",
            "_________________________________________________________________\n",
            "dense_4 (Dense)              (None, 84)                10164     \n",
            "_________________________________________________________________\n",
            "dense_5 (Dense)              (None, 11)                935       \n",
            "=================================================================\n",
            "Total params: 83,211\n",
            "Trainable params: 83,211\n",
            "Non-trainable params: 0\n",
            "_________________________________________________________________\n"
          ],
          "name": "stdout"
        }
      ]
    },
    {
      "cell_type": "code",
      "metadata": {
        "id": "eAONS2Z92v8g",
        "colab_type": "code",
        "outputId": "9488434d-e651-41eb-ff68-d185ef0e0008",
        "colab": {
          "base_uri": "https://localhost:8080/",
          "height": 758
        }
      },
      "source": [
        "model_2.fit(x = X_second_ds_train, y = y_second_ds_train_cat, validation_split = 0.15, epochs = EPOCHS_N)"
      ],
      "execution_count": 29,
      "outputs": [
        {
          "output_type": "stream",
          "text": [
            "Epoch 1/20\n",
            "1946/1946 [==============================] - 6s 3ms/step - loss: 1.0282 - categorical_accuracy: 0.6717 - val_loss: 0.7178 - val_categorical_accuracy: 0.7772\n",
            "Epoch 2/20\n",
            "1946/1946 [==============================] - 6s 3ms/step - loss: 0.6711 - categorical_accuracy: 0.7900 - val_loss: 0.6110 - val_categorical_accuracy: 0.8098\n",
            "Epoch 3/20\n",
            "1946/1946 [==============================] - 6s 3ms/step - loss: 0.5652 - categorical_accuracy: 0.8228 - val_loss: 0.6023 - val_categorical_accuracy: 0.8105\n",
            "Epoch 4/20\n",
            "1946/1946 [==============================] - 6s 3ms/step - loss: 0.5118 - categorical_accuracy: 0.8394 - val_loss: 0.6266 - val_categorical_accuracy: 0.8065\n",
            "Epoch 5/20\n",
            "1946/1946 [==============================] - 6s 3ms/step - loss: 0.4731 - categorical_accuracy: 0.8516 - val_loss: 0.5390 - val_categorical_accuracy: 0.8373\n",
            "Epoch 6/20\n",
            "1946/1946 [==============================] - 6s 3ms/step - loss: 0.4438 - categorical_accuracy: 0.8621 - val_loss: 0.4970 - val_categorical_accuracy: 0.8503\n",
            "Epoch 7/20\n",
            "1946/1946 [==============================] - 6s 3ms/step - loss: 0.4253 - categorical_accuracy: 0.8668 - val_loss: 0.4794 - val_categorical_accuracy: 0.8572\n",
            "Epoch 8/20\n",
            "1946/1946 [==============================] - 6s 3ms/step - loss: 0.3957 - categorical_accuracy: 0.8765 - val_loss: 0.4964 - val_categorical_accuracy: 0.8514\n",
            "Epoch 9/20\n",
            "1946/1946 [==============================] - 6s 3ms/step - loss: 0.3862 - categorical_accuracy: 0.8797 - val_loss: 0.4827 - val_categorical_accuracy: 0.8560\n",
            "Epoch 10/20\n",
            "1946/1946 [==============================] - 6s 3ms/step - loss: 0.3683 - categorical_accuracy: 0.8839 - val_loss: 0.4800 - val_categorical_accuracy: 0.8530\n",
            "Epoch 11/20\n",
            "1946/1946 [==============================] - 6s 3ms/step - loss: 0.3730 - categorical_accuracy: 0.8805 - val_loss: 0.4484 - val_categorical_accuracy: 0.8658\n",
            "Epoch 12/20\n",
            "1946/1946 [==============================] - 6s 3ms/step - loss: 0.3508 - categorical_accuracy: 0.8909 - val_loss: 0.4820 - val_categorical_accuracy: 0.8544\n",
            "Epoch 13/20\n",
            "1946/1946 [==============================] - 6s 3ms/step - loss: 0.3317 - categorical_accuracy: 0.8961 - val_loss: 0.4633 - val_categorical_accuracy: 0.8620\n",
            "Epoch 14/20\n",
            "1946/1946 [==============================] - 6s 3ms/step - loss: 0.3272 - categorical_accuracy: 0.8958 - val_loss: 0.4577 - val_categorical_accuracy: 0.8642\n",
            "Epoch 15/20\n",
            "1946/1946 [==============================] - 6s 3ms/step - loss: 0.3204 - categorical_accuracy: 0.8983 - val_loss: 0.4435 - val_categorical_accuracy: 0.8688\n",
            "Epoch 16/20\n",
            "1946/1946 [==============================] - 6s 3ms/step - loss: 0.3038 - categorical_accuracy: 0.9041 - val_loss: 0.4707 - val_categorical_accuracy: 0.8622\n",
            "Epoch 17/20\n",
            "1946/1946 [==============================] - 6s 3ms/step - loss: 0.2952 - categorical_accuracy: 0.9065 - val_loss: 0.4846 - val_categorical_accuracy: 0.8547\n",
            "Epoch 18/20\n",
            "1946/1946 [==============================] - 6s 3ms/step - loss: 0.2945 - categorical_accuracy: 0.9065 - val_loss: 0.4746 - val_categorical_accuracy: 0.8637\n",
            "Epoch 19/20\n",
            "1946/1946 [==============================] - 6s 3ms/step - loss: 0.2885 - categorical_accuracy: 0.9084 - val_loss: 0.4615 - val_categorical_accuracy: 0.8706\n",
            "Epoch 20/20\n",
            "1946/1946 [==============================] - 6s 3ms/step - loss: 0.2745 - categorical_accuracy: 0.9137 - val_loss: 0.4993 - val_categorical_accuracy: 0.8527\n"
          ],
          "name": "stdout"
        },
        {
          "output_type": "execute_result",
          "data": {
            "text/plain": [
              "<tensorflow.python.keras.callbacks.History at 0x7f0ab60cc160>"
            ]
          },
          "metadata": {
            "tags": []
          },
          "execution_count": 29
        }
      ]
    },
    {
      "cell_type": "code",
      "metadata": {
        "id": "AYW78QJPSfMr",
        "colab_type": "code",
        "outputId": "284d8c15-d4b5-4231-9800-d64f3f165b08",
        "colab": {
          "base_uri": "https://localhost:8080/",
          "height": 52
        }
      },
      "source": [
        "results = model_2.evaluate(X_second_ds_test, y_second_ds_test_cat)\n",
        "\n",
        "print('Test loss, test accuracy:', results)"
      ],
      "execution_count": 30,
      "outputs": [
        {
          "output_type": "stream",
          "text": [
            "814/814 [==============================] - 2s 2ms/step - loss: 0.5624 - categorical_accuracy: 0.8352\n",
            "Test loss, test accuracy: [0.5623723268508911, 0.8352412581443787]\n"
          ],
          "name": "stdout"
        }
      ]
    },
    {
      "cell_type": "markdown",
      "metadata": {
        "id": "xLwTArXRTZY8",
        "colab_type": "text"
      },
      "source": [
        "Прежде всего, в модели изменилось то, что добавился ещё один класс &mdash; _не распознано_."
      ]
    },
    {
      "cell_type": "markdown",
      "metadata": {
        "id": "7q-E6_NBTVOD",
        "colab_type": "text"
      },
      "source": [
        "Эти данные более сложны для распознавания, что повлияло на результат &mdash; точность распознавания на тестовой выборке составила 77,4%."
      ]
    },
    {
      "cell_type": "markdown",
      "metadata": {
        "id": "vdvfzRdmK6Ub",
        "colab_type": "text"
      },
      "source": [
        "Теперь реализуем распознавание первого датасета &mdash; реальных изображений с несколькими цифрами и границами. Для этого потребуется реализация алгоритма _YOLO_."
      ]
    },
    {
      "cell_type": "code",
      "metadata": {
        "id": "tN40X3-GXrTS",
        "colab_type": "code",
        "colab": {}
      },
      "source": [
        "from imageio import imread\n",
        "import pandas as pd\n",
        "\n",
        "def image_to_array(_image):  \n",
        "    try:\n",
        "        array_ = imread(_image)\n",
        "\n",
        "        return True, array_\n",
        "    except:\n",
        "        return False, None\n",
        "\n",
        "def dir_to_dataframe(_dir_path):\n",
        "\n",
        "    data_ = []\n",
        "\n",
        "    files_ = sorted(os.listdir(_dir_path))\n",
        "\n",
        "    for f in files_:\n",
        "        file_path_ = os.path.join(_dir_path, f)\n",
        "        \n",
        "        can_read_, im = image_to_array(file_path_)\n",
        "\n",
        "        if can_read_:\n",
        "            data_.append(im)\n",
        "\n",
        "    dataframe_ = pd.DataFrame()\n",
        "\n",
        "    dataframe_['data'] = np.array(data_)\n",
        "\n",
        "    return dataframe_"
      ],
      "execution_count": 0,
      "outputs": []
    },
    {
      "cell_type": "code",
      "metadata": {
        "id": "DN9RJdxlXntc",
        "colab_type": "code",
        "colab": {}
      },
      "source": [
        "first_ds_train_dir = tar_gz_to_dir(DS_URL_FOLDER, TRAIN_DS_NAME, FIRST_DS_EXT, 'first')\n",
        "first_ds_test_dir = tar_gz_to_dir(DS_URL_FOLDER, TEST_DS_NAME, FIRST_DS_EXT, 'first')"
      ],
      "execution_count": 0,
      "outputs": []
    },
    {
      "cell_type": "code",
      "metadata": {
        "id": "dEPDH71FX2Uu",
        "colab_type": "code",
        "colab": {}
      },
      "source": [
        "first_ds_train_subdir = os.path.join(first_ds_train_dir, 'train')\n",
        "first_ds_test_subdir = os.path.join(first_ds_test_dir, 'test')"
      ],
      "execution_count": 0,
      "outputs": []
    },
    {
      "cell_type": "code",
      "metadata": {
        "id": "oz_6HaS1YLgV",
        "colab_type": "code",
        "colab": {}
      },
      "source": [
        "first_ds_train_images_df = dir_to_dataframe(first_ds_train_subdir)\n",
        "first_ds_test_images_df = dir_to_dataframe(first_ds_test_subdir)"
      ],
      "execution_count": 0,
      "outputs": []
    },
    {
      "cell_type": "code",
      "metadata": {
        "colab_type": "code",
        "id": "QzBibRs8hnZ4",
        "colab": {}
      },
      "source": [
        "import h5py\n",
        "\n",
        "first_ds_train_boxes_mat = h5py.File(os.path.join(first_ds_train_subdir, 'digitStruct.mat'), 'r')\n",
        "first_ds_test_boxes_mat = h5py.File(os.path.join(first_ds_test_subdir, 'digitStruct.mat'), 'r')"
      ],
      "execution_count": 0,
      "outputs": []
    },
    {
      "cell_type": "code",
      "metadata": {
        "id": "uJulHRzVzL7k",
        "colab_type": "code",
        "colab": {}
      },
      "source": [
        "import numpy as np\n",
        "import pickle\n",
        "import h5py\n",
        "\n",
        "def mat_to_pickle(_mat_path, _key):\n",
        "\n",
        "    f = h5py.File(_mat_path, 'r')\n",
        "\n",
        "    metadata = {}\n",
        "\n",
        "    metadata['height'] = []\n",
        "    metadata['label'] = []\n",
        "    metadata['left'] = []\n",
        "    metadata['top'] = []\n",
        "    metadata['width'] = []\n",
        "\n",
        "    def print_attrs(name, obj):\n",
        "        vals = []\n",
        "        if obj.shape[0] == 1:\n",
        "            vals.append(int(obj[0][0]))\n",
        "        else:\n",
        "            for k in range(obj.shape[0]):\n",
        "                vals.append(int(f[obj[k][0]][0][0]))\n",
        "        metadata[name].append(vals)\n",
        "\n",
        "    for item in f['/digitStruct/bbox']:\n",
        "        f[item[0]].visititems(print_attrs)\n",
        "\n",
        "    with open('{}.pickle'.format((_key)),'wb') as pf:\n",
        "        pickle.dump(metadata, pf, pickle.HIGHEST_PROTOCOL)"
      ],
      "execution_count": 0,
      "outputs": []
    },
    {
      "cell_type": "code",
      "metadata": {
        "id": "ouNZkB3S4Tfc",
        "colab_type": "code",
        "colab": {}
      },
      "source": [
        "mat_to_pickle(os.path.join(first_ds_train_subdir, 'digitStruct.mat'), 'train_bbox')\n",
        "mat_to_pickle(os.path.join(first_ds_test_subdir, 'digitStruct.mat'), 'test_bbox')"
      ],
      "execution_count": 0,
      "outputs": []
    },
    {
      "cell_type": "code",
      "metadata": {
        "id": "8RT9NfQz5RoB",
        "colab_type": "code",
        "colab": {}
      },
      "source": [
        "train_bbox_data = np.load('train_bbox.pickle', allow_pickle = True)\n",
        "test_bbox_data = np.load('test_bbox.pickle', allow_pickle = True)"
      ],
      "execution_count": 0,
      "outputs": []
    },
    {
      "cell_type": "code",
      "metadata": {
        "id": "Sg8R6NdwLUdE",
        "colab_type": "code",
        "colab": {
          "base_uri": "https://localhost:8080/",
          "height": 210
        },
        "outputId": "20ed0539-25ff-4e31-d784-c676ebaca78e"
      },
      "source": [
        "plt.imshow(first_ds_train_images_df['data'][0])\n",
        "\n",
        "plt.show()"
      ],
      "execution_count": 39,
      "outputs": [
        {
          "output_type": "display_data",
          "data": {
            "image/png": "[encoded data removed]",
            "text/plain": [
              "<Figure size 432x288 with 1 Axes>"
            ]
          },
          "metadata": {
            "tags": [],
            "needs_background": "light"
          }
        }
      ]
    },
    {
      "cell_type": "code",
      "metadata": {
        "id": "8VkIxxya075r",
        "colab_type": "code",
        "colab": {
          "base_uri": "https://localhost:8080/",
          "height": 34
        },
        "outputId": "176135e2-7b41-4336-fa9e-e10344051871"
      },
      "source": [
        "train_bbox_data['label'][0]"
      ],
      "execution_count": 40,
      "outputs": [
        {
          "output_type": "execute_result",
          "data": {
            "text/plain": [
              "[1, 9]"
            ]
          },
          "metadata": {
            "tags": []
          },
          "execution_count": 40
        }
      ]
    },
    {
      "cell_type": "markdown",
      "metadata": {
        "id": "qI_e3nVUcCXb",
        "colab_type": "text"
      },
      "source": [
        "### Задание 3\n",
        "\n",
        "Сделайте множество снимков изображений номеров домов с помощью смартфона на ОС _Android_. Также можно использовать библиотеки _OpenCV_, _Simple CV_ или _Pygame_ для обработки изображений с общедоступных камер видеонаблюдения (например, https://www.earthcam.com/).\n",
        "\n",
        "В качестве примера использования библиотеки _TensorFlow_ на смартфоне можете воспользоваться демонстрационным приложением от _Google_ (https://github.com/tensorflow/tensorflow/tree/master/tensorflow/examples/android)."
      ]
    },
    {
      "cell_type": "markdown",
      "metadata": {
        "id": "xDRp62kQcQd8",
        "colab_type": "text"
      },
      "source": [
        "### Задание 4\n",
        "\n",
        "Реализуйте приложение для ОС _Android_, которое может распознавать цифры в номерах домов, используя разработанный ранее классификатор. Какова доля правильных классификаций?"
      ]
    }
  ]
}