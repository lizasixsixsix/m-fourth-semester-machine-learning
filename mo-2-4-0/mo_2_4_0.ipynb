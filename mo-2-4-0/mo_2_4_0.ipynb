{
  "nbformat": 4,
  "nbformat_minor": 0,
  "metadata": {
    "colab": {
      "name": "mo-2-4-0.ipynb",
      "provenance": [],
      "collapsed_sections": [],
      "machine_shape": "hm"
    },
    "kernelspec": {
      "name": "python3",
      "display_name": "Python 3"
    },
    "accelerator": "GPU"
  },
  "cells": [
    {
      "cell_type": "markdown",
      "metadata": {
        "id": "AJbO6Hqtaukq",
        "colab_type": "text"
      },
      "source": [
        "# Лабораторная работа №4\n",
        "\n",
        "## Реализация приложения по распознаванию номеров домов"
      ]
    },
    {
      "cell_type": "markdown",
      "metadata": {
        "id": "1jBSK2FabPKC",
        "colab_type": "text"
      },
      "source": [
        "Набор изображений из _Google Street View_ с изображениями номеров домов, содержащий 10 классов, соответствующих цифрам от 0 до 9.\n",
        "\n",
        "* 73257 изображений цифр в обучающей выборке;\n",
        "\n",
        "* 26032 изображения цифр в тестовой выборке;\n",
        "\n",
        "* 531131 изображения, которые можно использовать как дополнение к обучающей выборке;\n",
        "\n",
        "* В двух форматах:\n",
        "\n",
        "    * Оригинальные изображения с выделенными цифрами;\n",
        "\n",
        "    * Изображения размером 32×32, содержащие одну цифру;\n",
        "\n",
        "* Данные первого формата можно скачать по ссылкам:\n",
        "\n",
        "    * http://ufldl.stanford.edu/housenumbers/train.tar.gz (обучающая выборка);\n",
        "\n",
        "    * http://ufldl.stanford.edu/housenumbers/test.tar.gz (тестовая выборка);\n",
        "\n",
        "    * http://ufldl.stanford.edu/housenumbers/extra.tar.gz (дополнительные данные);\n",
        "\n",
        "* Данные второго формата можно скачать по ссылкам:\n",
        "\n",
        "    * http://ufldl.stanford.edu/housenumbers/train_32x32.mat (обучающая выборка);\n",
        "\n",
        "    * http://ufldl.stanford.edu/housenumbers/test_32x32.mat (тестовая выборка);\n",
        "\n",
        "    * http://ufldl.stanford.edu/housenumbers/extra_32x32.mat (дополнительные данные);\n",
        "\n",
        "* Описание данных на английском языке доступно по ссылке:\n",
        "\n",
        "    * http://ufldl.stanford.edu/housenumbers/"
      ]
    },
    {
      "cell_type": "markdown",
      "metadata": {
        "id": "T8r0rcrSbum0",
        "colab_type": "text"
      },
      "source": [
        "### Задание 1\n",
        "\n",
        "Реализуйте глубокую нейронную сеть (полносвязную или сверточную) и обучите ее на синтетических данных (например, наборы _MNIST_ (http://yann.lecun.com/exdb/mnist/) или _notMNIST_).\n",
        "\n",
        "Ознакомьтесь с имеющимися работами по данной тематике: англоязычная статья ( http://static.googleusercontent.com/media/research.google.com/en//pubs/archive/42241.pdf ), видео на _YouTube_ (https://www.youtube.com/watch?v=vGPI_JvLoN0)."
      ]
    },
    {
      "cell_type": "markdown",
      "metadata": {
        "id": "XwZ5YedLSmq5",
        "colab_type": "text"
      },
      "source": [
        "Используем архитектуру _LeNet-5_ и обучим сеть сначала на данных из набора _MNIST_."
      ]
    },
    {
      "cell_type": "code",
      "metadata": {
        "id": "dcGUk4Rz3sRb",
        "colab_type": "code",
        "colab": {}
      },
      "source": [
        "import warnings\n",
        "\n",
        "warnings.filterwarnings('ignore')"
      ],
      "execution_count": 0,
      "outputs": []
    },
    {
      "cell_type": "code",
      "metadata": {
        "id": "8ltq-FTlUL4b",
        "colab_type": "code",
        "colab": {
          "base_uri": "https://localhost:8080/",
          "height": 34
        },
        "outputId": "fa45871f-1ff7-47a8-d3ac-06f07719732f"
      },
      "source": [
        "from google.colab import drive\n",
        "\n",
        "drive.mount('/content/drive', force_remount = True)"
      ],
      "execution_count": 2,
      "outputs": [
        {
          "output_type": "stream",
          "text": [
            "Mounted at /content/drive\n"
          ],
          "name": "stdout"
        }
      ]
    },
    {
      "cell_type": "code",
      "metadata": {
        "id": "p5VyFAn6oppw",
        "colab_type": "code",
        "colab": {}
      },
      "source": [
        "! pip install tensorflow-gpu --pre --quiet"
      ],
      "execution_count": 0,
      "outputs": []
    },
    {
      "cell_type": "code",
      "metadata": {
        "id": "4A6ova40mePh",
        "colab_type": "code",
        "colab": {}
      },
      "source": [
        "import tensorflow as tf\n",
        "from tensorflow import keras\n",
        "\n",
        "# To fix memory leak: https://github.com/tensorflow/tensorflow/issues/33009\n",
        "\n",
        "tf.compat.v1.disable_eager_execution()"
      ],
      "execution_count": 0,
      "outputs": []
    },
    {
      "cell_type": "code",
      "metadata": {
        "id": "JxMOj2NcyUrR",
        "colab_type": "code",
        "colab": {}
      },
      "source": [
        "import numpy as np"
      ],
      "execution_count": 0,
      "outputs": []
    },
    {
      "cell_type": "code",
      "metadata": {
        "id": "lqe79JL0mGNh",
        "colab_type": "code",
        "colab": {}
      },
      "source": [
        "from tensorflow.keras.datasets import mnist\n",
        "\n",
        "(x_train, y_train), (x_test, y_test) = mnist.load_data()"
      ],
      "execution_count": 0,
      "outputs": []
    },
    {
      "cell_type": "code",
      "metadata": {
        "id": "AEaLeEAKy-sx",
        "colab_type": "code",
        "colab": {}
      },
      "source": [
        "x_train = tf.keras.utils.normalize(x_train, axis = 1)\n",
        "x_test = tf.keras.utils.normalize(x_test, axis = 1)"
      ],
      "execution_count": 0,
      "outputs": []
    },
    {
      "cell_type": "code",
      "metadata": {
        "id": "fDy2wUQwyQFM",
        "colab_type": "code",
        "colab": {}
      },
      "source": [
        "x_train = x_train[..., np.newaxis]\n",
        "x_test = x_test[..., np.newaxis]"
      ],
      "execution_count": 0,
      "outputs": []
    },
    {
      "cell_type": "code",
      "metadata": {
        "id": "SA-LEJ-DH85n",
        "colab_type": "code",
        "outputId": "7d346098-604b-4a07-e4f8-20ff0471a73e",
        "colab": {
          "base_uri": "https://localhost:8080/",
          "height": 34
        }
      },
      "source": [
        "from tensorflow.keras.utils import to_categorical\n",
        "\n",
        "y_train, y_test = to_categorical(y_train), to_categorical(y_test)\n",
        "\n",
        "y_train.shape"
      ],
      "execution_count": 9,
      "outputs": [
        {
          "output_type": "execute_result",
          "data": {
            "text/plain": [
              "(60000, 10)"
            ]
          },
          "metadata": {
            "tags": []
          },
          "execution_count": 9
        }
      ]
    },
    {
      "cell_type": "code",
      "metadata": {
        "id": "QW4-m2kcv1bg",
        "colab_type": "code",
        "colab": {}
      },
      "source": [
        "IMAGE_DIM_0, IMAGE_DIM_1 = x_train.shape[1], x_train.shape[2]"
      ],
      "execution_count": 0,
      "outputs": []
    },
    {
      "cell_type": "code",
      "metadata": {
        "id": "h8FxR1mymxWS",
        "colab_type": "code",
        "colab": {}
      },
      "source": [
        "CLASSES_N = y_train.shape[1]"
      ],
      "execution_count": 0,
      "outputs": []
    },
    {
      "cell_type": "code",
      "metadata": {
        "id": "nfSn_LKOm6U_",
        "colab_type": "code",
        "outputId": "d2f13914-973e-40ed-daee-f517820144af",
        "colab": {
          "base_uri": "https://localhost:8080/",
          "height": 34
        }
      },
      "source": [
        "x_train.shape, x_test.shape"
      ],
      "execution_count": 12,
      "outputs": [
        {
          "output_type": "execute_result",
          "data": {
            "text/plain": [
              "((60000, 28, 28, 1), (10000, 28, 28, 1))"
            ]
          },
          "metadata": {
            "tags": []
          },
          "execution_count": 12
        }
      ]
    },
    {
      "cell_type": "code",
      "metadata": {
        "id": "oGJQ6uXanJQ3",
        "colab_type": "code",
        "outputId": "f62a5ca5-6b9a-4687-e1e7-e0d9cbe7140b",
        "colab": {
          "base_uri": "https://localhost:8080/",
          "height": 90
        }
      },
      "source": [
        "from tensorflow.keras.models import Sequential\n",
        "from tensorflow.keras.layers import AveragePooling2D, Conv2D, Dense, Flatten\n",
        "\n",
        "model = tf.keras.Sequential()\n",
        "\n",
        "model.add(Conv2D(6, kernel_size = (5, 5), strides = (1, 1),\n",
        "                 activation = 'tanh', padding = 'same',\n",
        "                 input_shape = (IMAGE_DIM_0, IMAGE_DIM_1, 1)))\n",
        "model.add(AveragePooling2D(pool_size = (2, 2), strides = (2, 2),\n",
        "                           padding = 'valid'))\n",
        "model.add(Conv2D(16, kernel_size = (5, 5), strides = (1, 1),\n",
        "                 activation = 'tanh', padding = 'valid'))\n",
        "model.add(AveragePooling2D(pool_size = (2, 2), strides = (2, 2),\n",
        "                           padding = 'valid'))\n",
        "model.add(Flatten())\n",
        "model.add(Dense(120, activation = 'tanh'))\n",
        "model.add(Dense(84, activation = 'tanh'))\n",
        "model.add(Dense(CLASSES_N, activation = 'softmax'))"
      ],
      "execution_count": 13,
      "outputs": [
        {
          "output_type": "stream",
          "text": [
            "WARNING:tensorflow:From /usr/local/lib/python3.6/dist-packages/tensorflow/python/ops/resource_variable_ops.py:1666: calling BaseResourceVariable.__init__ (from tensorflow.python.ops.resource_variable_ops) with constraint is deprecated and will be removed in a future version.\n",
            "Instructions for updating:\n",
            "If using Keras pass *_constraint arguments to layers.\n"
          ],
          "name": "stdout"
        }
      ]
    },
    {
      "cell_type": "code",
      "metadata": {
        "id": "QF5wW8VYnca7",
        "colab_type": "code",
        "colab": {}
      },
      "source": [
        "# 'sparse_categorical_crossentropy' gave NAN loss\n",
        "\n",
        "model.compile(optimizer = 'adam',\n",
        "              loss = 'categorical_crossentropy',\n",
        "              metrics = ['categorical_accuracy'])"
      ],
      "execution_count": 0,
      "outputs": []
    },
    {
      "cell_type": "code",
      "metadata": {
        "id": "qiqd4HCfnezG",
        "colab_type": "code",
        "outputId": "453f14d5-e4a2-4dad-e475-ea384faba490",
        "colab": {
          "base_uri": "https://localhost:8080/",
          "height": 439
        }
      },
      "source": [
        "model.summary()"
      ],
      "execution_count": 15,
      "outputs": [
        {
          "output_type": "stream",
          "text": [
            "Model: \"sequential\"\n",
            "_________________________________________________________________\n",
            "Layer (type)                 Output Shape              Param #   \n",
            "=================================================================\n",
            "conv2d (Conv2D)              (None, 28, 28, 6)         156       \n",
            "_________________________________________________________________\n",
            "average_pooling2d (AveragePo (None, 14, 14, 6)         0         \n",
            "_________________________________________________________________\n",
            "conv2d_1 (Conv2D)            (None, 10, 10, 16)        2416      \n",
            "_________________________________________________________________\n",
            "average_pooling2d_1 (Average (None, 5, 5, 16)          0         \n",
            "_________________________________________________________________\n",
            "flatten (Flatten)            (None, 400)               0         \n",
            "_________________________________________________________________\n",
            "dense (Dense)                (None, 120)               48120     \n",
            "_________________________________________________________________\n",
            "dense_1 (Dense)              (None, 84)                10164     \n",
            "_________________________________________________________________\n",
            "dense_2 (Dense)              (None, 10)                850       \n",
            "=================================================================\n",
            "Total params: 61,706\n",
            "Trainable params: 61,706\n",
            "Non-trainable params: 0\n",
            "_________________________________________________________________\n"
          ],
          "name": "stdout"
        }
      ]
    },
    {
      "cell_type": "code",
      "metadata": {
        "id": "Qnv6sb5Tniww",
        "colab_type": "code",
        "colab": {}
      },
      "source": [
        "EPOCHS_N = 20"
      ],
      "execution_count": 0,
      "outputs": []
    },
    {
      "cell_type": "code",
      "metadata": {
        "id": "wWfwaspGnsVK",
        "colab_type": "code",
        "colab": {}
      },
      "source": [
        "history = model.fit(x = x_train, y = y_train, validation_split = 0.15,\n",
        "                    epochs = EPOCHS_N, verbose = 0)"
      ],
      "execution_count": 0,
      "outputs": []
    },
    {
      "cell_type": "code",
      "metadata": {
        "id": "U66Nj3eGSKj4",
        "colab_type": "code",
        "colab": {}
      },
      "source": [
        "%matplotlib inline\n",
        "\n",
        "import matplotlib.pyplot as plt\n",
        "import seaborn as sns\n",
        "from matplotlib import rcParams\n",
        "\n",
        "rcParams['figure.figsize'] = 8, 6\n",
        "\n",
        "sns.set()\n",
        "sns.set_palette(sns.color_palette('hls'))\n",
        "\n",
        "def plot_accuracy(_history,\n",
        "                  _train_acc_name = 'accuracy',\n",
        "                  _val_acc_name = 'val_accuracy'):\n",
        "\n",
        "    plt.plot(_history.history[_train_acc_name])\n",
        "    plt.plot(_history.history[_val_acc_name])\n",
        "\n",
        "    plt.title('Model accuracy')\n",
        "\n",
        "    plt.ylabel('Accuracy')\n",
        "    plt.xlabel('Epoch')\n",
        "\n",
        "    plt.legend(['Train', 'Validation'], loc = 'right')\n",
        "\n",
        "    plt.show()\n",
        "\n",
        "def plot_loss(_history,\n",
        "              _train_loss_name = 'loss',\n",
        "              _val_loss_name = 'val_loss'):\n",
        "\n",
        "    plt.plot(_history.history[_train_loss_name])\n",
        "    plt.plot(_history.history[_val_loss_name])\n",
        "\n",
        "    plt.title('Model loss')\n",
        "\n",
        "    plt.ylabel('Loss')\n",
        "    plt.xlabel('Epoch')\n",
        "\n",
        "    plt.legend(['Train', 'Validation'], loc = 'right')\n",
        "\n",
        "    plt.show()"
      ],
      "execution_count": 0,
      "outputs": []
    },
    {
      "cell_type": "code",
      "metadata": {
        "id": "qXbubWMCyYgE",
        "colab_type": "code",
        "colab": {
          "base_uri": "https://localhost:8080/",
          "height": 410
        },
        "outputId": "2dec7a17-4d7d-4c9c-f4a0-4511a5173e0c"
      },
      "source": [
        "plot_accuracy(history, 'categorical_accuracy', 'val_categorical_accuracy')"
      ],
      "execution_count": 19,
      "outputs": [
        {
          "output_type": "display_data",
          "data": {
            "image/png": "[encoded data removed]",
            "text/plain": [
              "<Figure size 576x432 with 1 Axes>"
            ]
          },
          "metadata": {
            "tags": []
          }
        }
      ]
    },
    {
      "cell_type": "code",
      "metadata": {
        "id": "NqQo9kdmCcZ2",
        "colab_type": "code",
        "colab": {
          "base_uri": "https://localhost:8080/",
          "height": 410
        },
        "outputId": "b3e556d0-a61c-4a5b-cc3f-d4e8ce131aea"
      },
      "source": [
        "plot_loss(history)"
      ],
      "execution_count": 20,
      "outputs": [
        {
          "output_type": "display_data",
          "data": {
            "image/png": "[encoded data removed]",
            "text/plain": [
              "<Figure size 576x432 with 1 Axes>"
            ]
          },
          "metadata": {
            "tags": []
          }
        }
      ]
    },
    {
      "cell_type": "code",
      "metadata": {
        "id": "_jEk5lajSKKV",
        "colab_type": "code",
        "colab": {
          "base_uri": "https://localhost:8080/",
          "height": 34
        },
        "outputId": "35bd8d79-aecf-4b09-d3a1-eec277a6cb7a"
      },
      "source": [
        "results = model.evaluate(x_test, y_test)\n",
        "\n",
        "print('Test loss, test accuracy:', results)"
      ],
      "execution_count": 21,
      "outputs": [
        {
          "output_type": "stream",
          "text": [
            "Test loss, test accuracy: [0.05852550842055716, 0.9841]\n"
          ],
          "name": "stdout"
        }
      ]
    },
    {
      "cell_type": "markdown",
      "metadata": {
        "id": "e_YPL2eNS-IW",
        "colab_type": "text"
      },
      "source": [
        "Удалось достичь отличного результата &mdash; точность распознавания на тестовой выборке составила 98%."
      ]
    },
    {
      "cell_type": "markdown",
      "metadata": {
        "id": "NhEJUbH-b9RT",
        "colab_type": "text"
      },
      "source": [
        "### Задание 2\n",
        "\n",
        "После уточнения модели на синтетических данных попробуйте обучить ее на реальных данных (набор _Google Street View_). Что изменилось в модели?"
      ]
    },
    {
      "cell_type": "markdown",
      "metadata": {
        "id": "GjtRbUArC0wc",
        "colab_type": "text"
      },
      "source": [
        "##### Одна цифра"
      ]
    },
    {
      "cell_type": "code",
      "metadata": {
        "id": "dpjg0mUPPZzR",
        "colab_type": "code",
        "colab": {}
      },
      "source": [
        "DS_URL_FOLDER = 'http://ufldl.stanford.edu/housenumbers/'\n",
        "\n",
        "FIRST_DS_EXT = '.tar.gz'\n",
        "SECOND_DS_EXT = '_32x32.mat'\n",
        "\n",
        "TRAIN_DS_NAME = 'train'\n",
        "TEST_DS_NAME = 'test'\n",
        "EXTRA_DS_NAME = 'extra'"
      ],
      "execution_count": 0,
      "outputs": []
    },
    {
      "cell_type": "code",
      "metadata": {
        "id": "UQ1Au9pWQ1gx",
        "colab_type": "code",
        "colab": {}
      },
      "source": [
        "from urllib.request import urlretrieve\n",
        "import tarfile\n",
        "import os\n",
        "\n",
        "def load_file(_url_folder, _name, _ext, _key, _local_ext = ''):\n",
        "\n",
        "    file_url_ = _url_folder + _name + _ext\n",
        "\n",
        "    local_file_name_ = _name + '_' + _key + _local_ext\n",
        "\n",
        "    urlretrieve(file_url_, local_file_name_)\n",
        "\n",
        "    return local_file_name_\n",
        "\n",
        "def tar_gz_to_dir(_url_folder, _name, _ext, _key):\n",
        "\n",
        "    local_file_name_ = load_file(_url_folder, _name, _ext, _key, _ext)\n",
        "\n",
        "    dir_name_ = _name + '_' + _key\n",
        "    \n",
        "    with tarfile.open(local_file_name_, 'r:gz') as tar_:\n",
        "        tar_.extractall(dir_name_)\n",
        "\n",
        "    os.remove(local_file_name_)\n",
        "\n",
        "    return dir_name_"
      ],
      "execution_count": 0,
      "outputs": []
    },
    {
      "cell_type": "code",
      "metadata": {
        "id": "fY9H9gOx_agn",
        "colab_type": "code",
        "colab": {}
      },
      "source": [
        "second_ds_train_file = load_file(DS_URL_FOLDER, TRAIN_DS_NAME, SECOND_DS_EXT,\n",
        "                                 'second')\n",
        "second_ds_test_file = load_file(DS_URL_FOLDER, TEST_DS_NAME, SECOND_DS_EXT,\n",
        "                                'second')\n",
        "second_ds_extra_file = load_file(DS_URL_FOLDER, EXTRA_DS_NAME, SECOND_DS_EXT,\n",
        "                                 'second')"
      ],
      "execution_count": 0,
      "outputs": []
    },
    {
      "cell_type": "code",
      "metadata": {
        "id": "VRmvtvvHjWam",
        "colab_type": "code",
        "colab": {}
      },
      "source": [
        "from scipy import io\n",
        "\n",
        "second_ds_train = io.loadmat(second_ds_train_file)\n",
        "second_ds_test = io.loadmat(second_ds_test_file)\n",
        "second_ds_extra = io.loadmat(second_ds_extra_file)"
      ],
      "execution_count": 0,
      "outputs": []
    },
    {
      "cell_type": "code",
      "metadata": {
        "id": "8aZehuSyjtMa",
        "colab_type": "code",
        "colab": {
          "base_uri": "https://localhost:8080/",
          "height": 70
        },
        "outputId": "556edd13-4d73-4aa1-bfa7-13292a07b1c7"
      },
      "source": [
        "X_second_ds_train = np.moveaxis(second_ds_train['X'], -1, 0)\n",
        "X_second_ds_test = np.moveaxis(second_ds_test['X'], -1, 0)\n",
        "X_second_ds_extra = np.moveaxis(second_ds_extra['X'], -1, 0)\n",
        "\n",
        "y_second_ds_train = second_ds_train['y']\n",
        "y_second_ds_test = second_ds_test['y']\n",
        "y_second_ds_extra = second_ds_extra['y']\n",
        "\n",
        "print(X_second_ds_train.shape, y_second_ds_train.shape)\n",
        "print(X_second_ds_test.shape, y_second_ds_test.shape)\n",
        "print(X_second_ds_extra.shape, y_second_ds_extra.shape)"
      ],
      "execution_count": 26,
      "outputs": [
        {
          "output_type": "stream",
          "text": [
            "(73257, 32, 32, 3) (73257, 1)\n",
            "(26032, 32, 32, 3) (26032, 1)\n",
            "(531131, 32, 32, 3) (531131, 1)\n"
          ],
          "name": "stdout"
        }
      ]
    },
    {
      "cell_type": "code",
      "metadata": {
        "id": "_9A34iBYyP1V",
        "colab_type": "code",
        "colab": {}
      },
      "source": [
        "%matplotlib inline\n",
        "\n",
        "import matplotlib.pyplot as plt"
      ],
      "execution_count": 0,
      "outputs": []
    },
    {
      "cell_type": "code",
      "metadata": {
        "id": "Sq-OenDBySB0",
        "colab_type": "code",
        "colab": {}
      },
      "source": [
        "import seaborn as sns\n",
        "\n",
        "from matplotlib import rcParams\n",
        "\n",
        "rcParams['figure.figsize'] = 8, 6\n",
        "\n",
        "sns.set()\n",
        "\n",
        "sns.set_palette(sns.color_palette('hls'))"
      ],
      "execution_count": 0,
      "outputs": []
    },
    {
      "cell_type": "code",
      "metadata": {
        "id": "7rGezUtOltjt",
        "colab_type": "code",
        "colab": {
          "base_uri": "https://localhost:8080/",
          "height": 377
        },
        "outputId": "cc2d4663-c68c-4fa7-f4ed-bac64ece2bd5"
      },
      "source": [
        "plt.imshow(X_second_ds_train[0])\n",
        "\n",
        "plt.show()"
      ],
      "execution_count": 29,
      "outputs": [
        {
          "output_type": "display_data",
          "data": {
            "image/png": "[encoded data removed]",
            "text/plain": [
              "<Figure size 576x432 with 1 Axes>"
            ]
          },
          "metadata": {
            "tags": []
          }
        }
      ]
    },
    {
      "cell_type": "code",
      "metadata": {
        "id": "iUuo9YEP3w0c",
        "colab_type": "code",
        "colab": {}
      },
      "source": [
        "IMAGE_DIM_0_2 = X_second_ds_train.shape[-3]\n",
        "IMAGE_DIM_1_2 = X_second_ds_train.shape[-2]\n",
        "IMAGE_DIM_2_2 = X_second_ds_train.shape[-1]"
      ],
      "execution_count": 0,
      "outputs": []
    },
    {
      "cell_type": "code",
      "metadata": {
        "id": "xnfDnP9D5U_W",
        "colab_type": "code",
        "colab": {}
      },
      "source": [
        "y_second_ds_train_cat = to_categorical(y_second_ds_train)\n",
        "y_second_ds_test_cat = to_categorical(y_second_ds_test)"
      ],
      "execution_count": 0,
      "outputs": []
    },
    {
      "cell_type": "code",
      "metadata": {
        "id": "VSuoxju15AGx",
        "colab_type": "code",
        "colab": {}
      },
      "source": [
        "CLASSES_N_2 = y_second_ds_train_cat.shape[1]"
      ],
      "execution_count": 0,
      "outputs": []
    },
    {
      "cell_type": "code",
      "metadata": {
        "id": "XH96BC9-3s7p",
        "colab_type": "code",
        "colab": {}
      },
      "source": [
        "model_2 = tf.keras.Sequential()\n",
        "\n",
        "model_2.add(Conv2D(6, kernel_size = (5, 5), strides = (1, 1),\n",
        "                   activation = 'tanh', padding = 'same',\n",
        "                   input_shape = (IMAGE_DIM_0_2, IMAGE_DIM_1_2, IMAGE_DIM_2_2)))\n",
        "model_2.add(AveragePooling2D(pool_size = (2, 2), strides = (2, 2),\n",
        "                             padding = 'valid'))\n",
        "model_2.add(Conv2D(16, kernel_size = (5, 5), strides = (1, 1),\n",
        "                   activation = 'tanh', padding = 'valid'))\n",
        "model_2.add(AveragePooling2D(pool_size = (2, 2), strides = (2, 2),\n",
        "                             padding = 'valid'))\n",
        "model_2.add(Flatten())\n",
        "model_2.add(Dense(120, activation = 'tanh'))\n",
        "model_2.add(Dense(84, activation = 'tanh'))\n",
        "model_2.add(Dense(CLASSES_N_2, activation = 'softmax'))"
      ],
      "execution_count": 0,
      "outputs": []
    },
    {
      "cell_type": "code",
      "metadata": {
        "id": "RxY6LEWR3q33",
        "colab_type": "code",
        "colab": {}
      },
      "source": [
        "model_2.compile(optimizer = 'adam',\n",
        "                loss = 'categorical_crossentropy',\n",
        "                metrics = ['categorical_accuracy'])"
      ],
      "execution_count": 0,
      "outputs": []
    },
    {
      "cell_type": "code",
      "metadata": {
        "id": "Ubm_QyIZ3qCV",
        "colab_type": "code",
        "colab": {
          "base_uri": "https://localhost:8080/",
          "height": 439
        },
        "outputId": "9819b813-9c9d-43fc-aa54-4091a05b77b4"
      },
      "source": [
        "model_2.summary()"
      ],
      "execution_count": 35,
      "outputs": [
        {
          "output_type": "stream",
          "text": [
            "Model: \"sequential_1\"\n",
            "_________________________________________________________________\n",
            "Layer (type)                 Output Shape              Param #   \n",
            "=================================================================\n",
            "conv2d_2 (Conv2D)            (None, 32, 32, 6)         456       \n",
            "_________________________________________________________________\n",
            "average_pooling2d_2 (Average (None, 16, 16, 6)         0         \n",
            "_________________________________________________________________\n",
            "conv2d_3 (Conv2D)            (None, 12, 12, 16)        2416      \n",
            "_________________________________________________________________\n",
            "average_pooling2d_3 (Average (None, 6, 6, 16)          0         \n",
            "_________________________________________________________________\n",
            "flatten_1 (Flatten)          (None, 576)               0         \n",
            "_________________________________________________________________\n",
            "dense_3 (Dense)              (None, 120)               69240     \n",
            "_________________________________________________________________\n",
            "dense_4 (Dense)              (None, 84)                10164     \n",
            "_________________________________________________________________\n",
            "dense_5 (Dense)              (None, 11)                935       \n",
            "=================================================================\n",
            "Total params: 83,211\n",
            "Trainable params: 83,211\n",
            "Non-trainable params: 0\n",
            "_________________________________________________________________\n"
          ],
          "name": "stdout"
        }
      ]
    },
    {
      "cell_type": "code",
      "metadata": {
        "id": "eAONS2Z92v8g",
        "colab_type": "code",
        "colab": {}
      },
      "source": [
        "history_2 = model_2.fit(x = X_second_ds_train, y = y_second_ds_train_cat,\n",
        "                        validation_split = 0.15, epochs = EPOCHS_N, verbose = 0)"
      ],
      "execution_count": 0,
      "outputs": []
    },
    {
      "cell_type": "code",
      "metadata": {
        "id": "PNzgQ8ldyjCI",
        "colab_type": "code",
        "colab": {
          "base_uri": "https://localhost:8080/",
          "height": 410
        },
        "outputId": "6fae9cf1-3a39-4b3c-cb63-d7aac3c97b07"
      },
      "source": [
        "plot_accuracy(history_2, 'categorical_accuracy', 'val_categorical_accuracy')"
      ],
      "execution_count": 37,
      "outputs": [
        {
          "output_type": "display_data",
          "data": {
            "image/png": "[encoded data removed]",
            "text/plain": [
              "<Figure size 576x432 with 1 Axes>"
            ]
          },
          "metadata": {
            "tags": []
          }
        }
      ]
    },
    {
      "cell_type": "code",
      "metadata": {
        "id": "Wj03BgG9Cg29",
        "colab_type": "code",
        "colab": {
          "base_uri": "https://localhost:8080/",
          "height": 410
        },
        "outputId": "7e6847ee-7b7c-4548-8008-6f28f7af27a8"
      },
      "source": [
        "plot_loss(history_2)"
      ],
      "execution_count": 38,
      "outputs": [
        {
          "output_type": "display_data",
          "data": {
            "image/png": "[encoded data removed]",
            "text/plain": [
              "<Figure size 576x432 with 1 Axes>"
            ]
          },
          "metadata": {
            "tags": []
          }
        }
      ]
    },
    {
      "cell_type": "code",
      "metadata": {
        "id": "AYW78QJPSfMr",
        "colab_type": "code",
        "colab": {
          "base_uri": "https://localhost:8080/",
          "height": 34
        },
        "outputId": "703c0d99-ef8d-4c4b-d01c-d7757367ad3f"
      },
      "source": [
        "results = model_2.evaluate(X_second_ds_test, y_second_ds_test_cat)\n",
        "\n",
        "print('Test loss, test accuracy:', results)"
      ],
      "execution_count": 39,
      "outputs": [
        {
          "output_type": "stream",
          "text": [
            "Test loss, test accuracy: [0.5583448587804025, 0.8333973]\n"
          ],
          "name": "stdout"
        }
      ]
    },
    {
      "cell_type": "markdown",
      "metadata": {
        "id": "xLwTArXRTZY8",
        "colab_type": "text"
      },
      "source": [
        "Здесь в модели изменилось то, что добавился ещё один класс &mdash; _нет цифры_."
      ]
    },
    {
      "cell_type": "markdown",
      "metadata": {
        "id": "7q-E6_NBTVOD",
        "colab_type": "text"
      },
      "source": [
        "Эти данные более сложны для распознавания, что повлияло на результат &mdash; точность распознавания на тестовой выборке составила 83%."
      ]
    },
    {
      "cell_type": "markdown",
      "metadata": {
        "id": "U7MLsgypCrXl",
        "colab_type": "text"
      },
      "source": [
        "##### Несколько цифр"
      ]
    },
    {
      "cell_type": "markdown",
      "metadata": {
        "id": "vdvfzRdmK6Ub",
        "colab_type": "text"
      },
      "source": [
        "Загрузим первый датасет &mdash; реальные изображения с несколькими цифрами и рамками границ."
      ]
    },
    {
      "cell_type": "code",
      "metadata": {
        "id": "tN40X3-GXrTS",
        "colab_type": "code",
        "colab": {}
      },
      "source": [
        "from imageio import imread\n",
        "import pandas as pd\n",
        "\n",
        "def image_to_array(_image):  \n",
        "    try:\n",
        "        array_ = imread(_image)\n",
        "\n",
        "        return True, array_\n",
        "    except:\n",
        "        return False, None\n",
        "\n",
        "def dir_to_dataframe(_dir_path):\n",
        "\n",
        "    data_ = []\n",
        "\n",
        "    files_ = sorted(os.listdir(_dir_path))\n",
        "\n",
        "    for f in files_:\n",
        "        file_path_ = os.path.join(_dir_path, f)\n",
        "        \n",
        "        can_read_, im = image_to_array(file_path_)\n",
        "\n",
        "        if can_read_:\n",
        "            data_.append(im)\n",
        "\n",
        "    dataframe_ = pd.DataFrame()\n",
        "\n",
        "    dataframe_['data'] = np.array(data_)\n",
        "\n",
        "    return dataframe_"
      ],
      "execution_count": 0,
      "outputs": []
    },
    {
      "cell_type": "code",
      "metadata": {
        "id": "cDzDtb1AUWE7",
        "colab_type": "code",
        "colab": {}
      },
      "source": [
        "PROCESS = False"
      ],
      "execution_count": 0,
      "outputs": []
    },
    {
      "cell_type": "code",
      "metadata": {
        "id": "DN9RJdxlXntc",
        "colab_type": "code",
        "colab": {}
      },
      "source": [
        "if PROCESS:\n",
        "    first_ds_train_dir = tar_gz_to_dir(\n",
        "        DS_URL_FOLDER, TRAIN_DS_NAME, FIRST_DS_EXT, 'first')\n",
        "    first_ds_test_dir = tar_gz_to_dir(\n",
        "        DS_URL_FOLDER, TEST_DS_NAME, FIRST_DS_EXT, 'first')"
      ],
      "execution_count": 0,
      "outputs": []
    },
    {
      "cell_type": "code",
      "metadata": {
        "id": "dEPDH71FX2Uu",
        "colab_type": "code",
        "colab": {}
      },
      "source": [
        "if PROCESS:\n",
        "    first_ds_train_subdir = os.path.join(first_ds_train_dir, 'train')\n",
        "    first_ds_test_subdir = os.path.join(first_ds_test_dir, 'test')"
      ],
      "execution_count": 0,
      "outputs": []
    },
    {
      "cell_type": "code",
      "metadata": {
        "id": "oz_6HaS1YLgV",
        "colab_type": "code",
        "colab": {}
      },
      "source": [
        "if PROCESS:\n",
        "    first_ds_train_images_df = dir_to_dataframe(first_ds_train_subdir)\n",
        "    first_ds_test_images_df = dir_to_dataframe(first_ds_test_subdir)"
      ],
      "execution_count": 0,
      "outputs": []
    },
    {
      "cell_type": "code",
      "metadata": {
        "colab_type": "code",
        "id": "QzBibRs8hnZ4",
        "colab": {}
      },
      "source": [
        "import h5py\n",
        "\n",
        "if PROCESS:\n",
        "    first_ds_train_boxes_mat = h5py.File(\n",
        "        os.path.join(first_ds_train_subdir, 'digitStruct.mat'), 'r')\n",
        "    first_ds_test_boxes_mat = h5py.File(\n",
        "        os.path.join(first_ds_test_subdir, 'digitStruct.mat'), 'r')"
      ],
      "execution_count": 0,
      "outputs": []
    },
    {
      "cell_type": "code",
      "metadata": {
        "id": "uJulHRzVzL7k",
        "colab_type": "code",
        "colab": {}
      },
      "source": [
        "import numpy as np\n",
        "import pickle\n",
        "import h5py\n",
        "\n",
        "def mat_to_pickle(_mat_path, _key):\n",
        "\n",
        "    f = h5py.File(_mat_path, 'r')\n",
        "\n",
        "    metadata = {}\n",
        "\n",
        "    metadata['height'] = []\n",
        "    metadata['label'] = []\n",
        "    metadata['left'] = []\n",
        "    metadata['top'] = []\n",
        "    metadata['width'] = []\n",
        "\n",
        "    def print_attrs(name, obj):\n",
        "\n",
        "        vals = []\n",
        "\n",
        "        if obj.shape[0] == 1:\n",
        "            vals.append(int(obj[0][0]))\n",
        "        else:\n",
        "            for k in range(obj.shape[0]):\n",
        "                \n",
        "                vals.append(int(f[obj[k][0]][0][0]))\n",
        "\n",
        "        metadata[name].append(vals)\n",
        "\n",
        "    for item in f['/digitStruct/bbox']:\n",
        "\n",
        "        f[item[0]].visititems(print_attrs)\n",
        "\n",
        "    with open('{}.pickle'.format((_key)),'wb') as pf:\n",
        "\n",
        "        pickle.dump(metadata, pf, pickle.HIGHEST_PROTOCOL)"
      ],
      "execution_count": 0,
      "outputs": []
    },
    {
      "cell_type": "code",
      "metadata": {
        "id": "ouNZkB3S4Tfc",
        "colab_type": "code",
        "colab": {}
      },
      "source": [
        "if PROCESS:\n",
        "    mat_to_pickle(\n",
        "        os.path.join(first_ds_train_subdir, 'digitStruct.mat'), 'train_bbox')\n",
        "    mat_to_pickle(\n",
        "        os.path.join(first_ds_test_subdir, 'digitStruct.mat'), 'test_bbox')"
      ],
      "execution_count": 0,
      "outputs": []
    },
    {
      "cell_type": "code",
      "metadata": {
        "id": "8RT9NfQz5RoB",
        "colab_type": "code",
        "colab": {}
      },
      "source": [
        "if PROCESS:\n",
        "    train_bbox_data = np.load('train_bbox.pickle', allow_pickle = True)\n",
        "    test_bbox_data = np.load('test_bbox.pickle', allow_pickle = True)"
      ],
      "execution_count": 0,
      "outputs": []
    },
    {
      "cell_type": "code",
      "metadata": {
        "id": "Sg8R6NdwLUdE",
        "colab_type": "code",
        "colab": {}
      },
      "source": [
        "if PROCESS:\n",
        "    plt.imshow(first_ds_train_images_df['data'][0])\n",
        "\n",
        "    plt.show()"
      ],
      "execution_count": 0,
      "outputs": []
    },
    {
      "cell_type": "code",
      "metadata": {
        "id": "XM80WC6REkNe",
        "colab_type": "code",
        "colab": {}
      },
      "source": [
        "MAX_DIGITS = 6"
      ],
      "execution_count": 0,
      "outputs": []
    },
    {
      "cell_type": "code",
      "metadata": {
        "id": "XSEKiYQ-L0d5",
        "colab_type": "code",
        "colab": {}
      },
      "source": [
        "def to_full_df(_ds_images_df, _bbox_data):\n",
        "\n",
        "    LENGTH = len(_bbox_data['height'])\n",
        "\n",
        "    BBOX_SHAPE_TUPLE = (LENGTH, MAX_DIGITS)\n",
        "\n",
        "    bbox_heights = np.zeros(BBOX_SHAPE_TUPLE)\n",
        "    bbox_labels = np.zeros(BBOX_SHAPE_TUPLE)\n",
        "    bbox_lefts = np.zeros(BBOX_SHAPE_TUPLE)\n",
        "    bbox_tops = np.zeros(BBOX_SHAPE_TUPLE)\n",
        "    bbox_widths = np.zeros(BBOX_SHAPE_TUPLE)\n",
        "\n",
        "    for i in range(LENGTH):\n",
        "\n",
        "        j = 0\n",
        "\n",
        "        l = len(_bbox_data['height'][i])\n",
        "\n",
        "        while j < l:\n",
        "\n",
        "            bbox_heights[i][j] = _bbox_data['height'][i][j]\n",
        "            bbox_labels[i][j] = _bbox_data['label'][i][j]\n",
        "            bbox_lefts[i][j] = _bbox_data['left'][i][j]\n",
        "            bbox_tops[i][j] = _bbox_data['top'][i][j]\n",
        "            bbox_widths[i][j] = _bbox_data['width'][i][j]\n",
        "\n",
        "            j = j + 1\n",
        "\n",
        "    data_dict_ = {\n",
        "        'data': _ds_images_df['data'],\n",
        "\n",
        "        'height_0': bbox_heights[:, 0],\n",
        "        'label_0': bbox_labels[:, 0],\n",
        "        'left_0': bbox_lefts[:, 0],\n",
        "        'top_0': bbox_tops[:, 0],\n",
        "        'width_0': bbox_widths[:, 0],\n",
        "\n",
        "        'height_1': bbox_heights[:, 1],\n",
        "        'label_1': bbox_labels[:, 1],\n",
        "        'left_1': bbox_lefts[:, 1],\n",
        "        'top_1': bbox_tops[:, 1],\n",
        "        'width_1': bbox_widths[:, 1],\n",
        "\n",
        "        'height_2': bbox_heights[:, 2],\n",
        "        'label_2': bbox_labels[:, 2],\n",
        "        'left_2': bbox_lefts[:, 2],\n",
        "        'top_2': bbox_tops[:, 2],\n",
        "        'width_2': bbox_widths[:, 2],\n",
        "\n",
        "        'height_3': bbox_heights[:, 3],\n",
        "        'label_3': bbox_labels[:, 3],\n",
        "        'left_3': bbox_lefts[:, 3],\n",
        "        'top_3': bbox_tops[:, 3],\n",
        "        'width_3': bbox_widths[:, 3],\n",
        "\n",
        "        'height_4': bbox_heights[:, 4],\n",
        "        'label_4': bbox_labels[:, 4],\n",
        "        'left_4': bbox_lefts[:, 4],\n",
        "        'top_4': bbox_tops[:, 4],\n",
        "        'width_4': bbox_widths[:, 4],\n",
        "\n",
        "        'height_5': bbox_heights[:, 5],\n",
        "        'label_5': bbox_labels[:, 5],\n",
        "        'left_5': bbox_lefts[:, 5],\n",
        "        'top_5': bbox_tops[:, 5],\n",
        "        'width_5': bbox_widths[:, 5],\n",
        "    }\n",
        "\n",
        "    full_ds_ = pd.DataFrame(data_dict_,\n",
        "                            columns = [\n",
        "                                       'data',\n",
        "\n",
        "                                       'height_0',\n",
        "                                       'label_0',\n",
        "                                       'left_0',\n",
        "                                       'top_0',\n",
        "                                       'width_0',\n",
        "\n",
        "                                       'height_1',\n",
        "                                       'label_1',\n",
        "                                       'left_1',\n",
        "                                       'top_1',\n",
        "                                       'width_1',\n",
        "\n",
        "                                       'height_2',\n",
        "                                       'label_2',\n",
        "                                       'left_2',\n",
        "                                       'top_2',\n",
        "                                       'width_2',\n",
        "\n",
        "                                       'height_3',\n",
        "                                       'label_3',\n",
        "                                       'left_3',\n",
        "                                       'top_3',\n",
        "                                       'width_3',\n",
        "\n",
        "                                       'height_4',\n",
        "                                       'label_4',\n",
        "                                       'left_4',\n",
        "                                       'top_4',\n",
        "                                       'width_4',\n",
        "\n",
        "                                       'height_5',\n",
        "                                       'label_5',\n",
        "                                       'left_5',\n",
        "                                       'top_5',\n",
        "                                       'width_5',\n",
        "                                       ])\n",
        "    \n",
        "    return full_ds_"
      ],
      "execution_count": 0,
      "outputs": []
    },
    {
      "cell_type": "code",
      "metadata": {
        "id": "k1Nd1Q87NbDr",
        "colab_type": "code",
        "colab": {}
      },
      "source": [
        "if PROCESS:\n",
        "    first_ds_train_full_df = to_full_df(\n",
        "        first_ds_train_images_df, train_bbox_data)\n",
        "    first_ds_test_full_df = to_full_df(\n",
        "        first_ds_test_images_df, test_bbox_data)"
      ],
      "execution_count": 0,
      "outputs": []
    },
    {
      "cell_type": "code",
      "metadata": {
        "id": "GRPJY_chS91i",
        "colab_type": "code",
        "colab": {}
      },
      "source": [
        "def no_more_than_two_digits(_full_df):\n",
        "\n",
        "    _2_digits_df = _full_df[_full_df['height_2'] == 0.0].reset_index()\n",
        "\n",
        "    _2_digits_df = _2_digits_df.drop(columns = [\n",
        "                                                'height_2',\n",
        "                                                'label_2',\n",
        "                                                'left_2',\n",
        "                                                'top_2',\n",
        "                                                'width_2',\n",
        "\n",
        "                                                'height_3',\n",
        "                                                'label_3',\n",
        "                                                'left_3',\n",
        "                                                'top_3',\n",
        "                                                'width_3',\n",
        "\n",
        "                                                'height_4',\n",
        "                                                'label_4',\n",
        "                                                'left_4',\n",
        "                                                'top_4',\n",
        "                                                'width_4',\n",
        "\n",
        "                                                'height_5',\n",
        "                                                'label_5',\n",
        "                                                'left_5',\n",
        "                                                'top_5',\n",
        "                                                'width_5'\n",
        "                                                ]) \n",
        "    \n",
        "    return _2_digits_df"
      ],
      "execution_count": 0,
      "outputs": []
    },
    {
      "cell_type": "code",
      "metadata": {
        "id": "rKRqjSGfR62l",
        "colab_type": "code",
        "colab": {}
      },
      "source": [
        "if PROCESS:\n",
        "    first_ds_train_2_digits_df = no_more_than_two_digits(\n",
        "        first_ds_train_full_df)\n",
        "    first_ds_test_2_digits_df = no_more_than_two_digits(\n",
        "        first_ds_test_full_df)"
      ],
      "execution_count": 0,
      "outputs": []
    },
    {
      "cell_type": "code",
      "metadata": {
        "id": "b3rBvq1SRiWt",
        "colab_type": "code",
        "colab": {}
      },
      "source": [
        "from math import ceil\n",
        "\n",
        "def get_image_central_square(_image):\n",
        "\n",
        "    dim_0 = _image.shape[0]\n",
        "    dim_1 = _image.shape[1]\n",
        "\n",
        "    if dim_0 == 0 or dim_1 == 0:\n",
        "\n",
        "        print(_image.shape)\n",
        "\n",
        "    cutoff_ = ceil(abs(dim_0 - dim_1) / 2)\n",
        "\n",
        "    if dim_0 > dim_1:\n",
        "        cut_image_ = _image[cutoff_:-cutoff_,\n",
        "                            :,\n",
        "                            :]\n",
        "    elif dim_0 < dim_1:\n",
        "        cut_image_ = _image[:,\n",
        "                            cutoff_:-cutoff_,\n",
        "                            :]\n",
        "    else:\n",
        "        cut_image_ = _image[:,\n",
        "                            :,\n",
        "                            :]\n",
        "\n",
        "    return cut_image_"
      ],
      "execution_count": 0,
      "outputs": []
    },
    {
      "cell_type": "code",
      "metadata": {
        "id": "3F7SAPqiV4bf",
        "colab_type": "code",
        "colab": {}
      },
      "source": [
        "NEW_IMAGE_DIM = 50"
      ],
      "execution_count": 0,
      "outputs": []
    },
    {
      "cell_type": "code",
      "metadata": {
        "id": "jgCVSEPpWcB2",
        "colab_type": "code",
        "colab": {}
      },
      "source": [
        "import cv2\n",
        "\n",
        "def resize_image(_image, _dim_0 = NEW_IMAGE_DIM, _dim_1 = NEW_IMAGE_DIM):\n",
        "\n",
        "    try:\n",
        "        resized_ = cv2.resize(_image, dsize = (_dim_0, _dim_1),\n",
        "                              interpolation = cv2.INTER_CUBIC)\n",
        "    except:\n",
        "        print(_image.shape)\n",
        "    \n",
        "    return resized_"
      ],
      "execution_count": 0,
      "outputs": []
    },
    {
      "cell_type": "code",
      "metadata": {
        "id": "wqLLO-GwdhvO",
        "colab_type": "code",
        "colab": {}
      },
      "source": [
        "def process_image(_image):\n",
        "\n",
        "    squared_ = get_image_central_square(_image)\n",
        "\n",
        "    resized_ = resize_image(squared_)\n",
        "\n",
        "    return resized_"
      ],
      "execution_count": 0,
      "outputs": []
    },
    {
      "cell_type": "code",
      "metadata": {
        "id": "MDaJNpYbn_ew",
        "colab_type": "code",
        "colab": {}
      },
      "source": [
        "def get_digits_n_from_row(_row):\n",
        "\n",
        "    if _row['height_1'] != 0.0:\n",
        "        return 2\n",
        "\n",
        "    if _row['height_0'] != 0.0:\n",
        "        return 1\n",
        "\n",
        "    return 0"
      ],
      "execution_count": 0,
      "outputs": []
    },
    {
      "cell_type": "code",
      "metadata": {
        "id": "B1RVxtU2YSgd",
        "colab_type": "code",
        "colab": {}
      },
      "source": [
        "def to_new_format_dataframe(_dataframe):\n",
        "\n",
        "    df_copy_ = _dataframe.copy()\n",
        "    \n",
        "    rrrr = df_copy_.apply(lambda row: process_image(row['data']), axis = 1)\n",
        "\n",
        "    df_copy_.drop(columns = ['data'])\n",
        "\n",
        "    df_copy_['data'] = rrrr\n",
        "\n",
        "    nnnn = df_copy_.apply(lambda row: get_digits_n_from_row(row), axis = 1)\n",
        "\n",
        "    df_copy_['digits_n'] = nnnn\n",
        "\n",
        "    df_copy_['digit_0'] = df_copy_['label_0'].astype(int)\n",
        "    df_copy_['digit_1'] = df_copy_['label_1'].astype(int)\n",
        "\n",
        "    df_copy_ = df_copy_.drop(columns = [\n",
        "                                        'height_0',\n",
        "                                        'label_0',\n",
        "                                        'left_0',\n",
        "                                        'top_0',\n",
        "                                        'width_0',\n",
        "\n",
        "                                        'height_1',\n",
        "                                        'label_1',\n",
        "                                        'left_1',\n",
        "                                        'top_1',\n",
        "                                        'width_1'\n",
        "                                       ])\n",
        "\n",
        "    return df_copy_"
      ],
      "execution_count": 0,
      "outputs": []
    },
    {
      "cell_type": "code",
      "metadata": {
        "id": "27RJ9K6hTVZm",
        "colab_type": "code",
        "colab": {}
      },
      "source": [
        "if PROCESS:\n",
        "    train_resized_df = to_new_format_dataframe(first_ds_train_2_digits_df)\n",
        "    test_resized_df = to_new_format_dataframe(first_ds_test_2_digits_df)"
      ],
      "execution_count": 0,
      "outputs": []
    },
    {
      "cell_type": "code",
      "metadata": {
        "id": "yh-mN6N7HfG8",
        "colab_type": "code",
        "colab": {}
      },
      "source": [
        "if PROCESS:\n",
        "    train_resized_df.to_pickle(\n",
        "        '/content/drive/My Drive/Colab Files/mo-2/multidigit_train.pkl')\n",
        "    test_resized_df.to_pickle(\n",
        "        '/content/drive/My Drive/Colab Files/mo-2/multidigit_test.pkl')"
      ],
      "execution_count": 0,
      "outputs": []
    },
    {
      "cell_type": "code",
      "metadata": {
        "id": "TUZYAL6NHlgR",
        "colab_type": "code",
        "colab": {}
      },
      "source": [
        "train_multidigit_df = pd.read_pickle(\n",
        "    '/content/drive/My Drive/Colab Files/mo-2/multidigit_train.pkl')\n",
        "test_multidigit_df = pd.read_pickle(\n",
        "    '/content/drive/My Drive/Colab Files/mo-2/multidigit_test.pkl')"
      ],
      "execution_count": 0,
      "outputs": []
    },
    {
      "cell_type": "code",
      "metadata": {
        "id": "UQ5hSkp0SlhU",
        "colab_type": "code",
        "colab": {
          "base_uri": "https://localhost:8080/",
          "height": 377
        },
        "outputId": "29dd090e-486b-4d29-b221-85ecc824cc65"
      },
      "source": [
        "plt.imshow(train_multidigit_df['data'][0])\n",
        "\n",
        "plt.show()"
      ],
      "execution_count": 64,
      "outputs": [
        {
          "output_type": "display_data",
          "data": {
            "image/png": "[encoded data removed]",
            "text/plain": [
              "<Figure size 576x432 with 1 Axes>"
            ]
          },
          "metadata": {
            "tags": []
          }
        }
      ]
    },
    {
      "cell_type": "code",
      "metadata": {
        "id": "-kMS0EMNgZA-",
        "colab_type": "code",
        "colab": {
          "base_uri": "https://localhost:8080/",
          "height": 34
        },
        "outputId": "39bcf139-c7b0-4309-c175-7228ef5f7d47"
      },
      "source": [
        "print('digits_n:', train_multidigit_df['digits_n'][0], '\\t',\n",
        "      'digit_0:', train_multidigit_df['digit_0'][0], '\\t',\n",
        "      'digit_1:', train_multidigit_df['digit_1'][0])"
      ],
      "execution_count": 65,
      "outputs": [
        {
          "output_type": "stream",
          "text": [
            "digits_n: 2 \t digit_0: 1 \t digit_1: 9\n"
          ],
          "name": "stdout"
        }
      ]
    },
    {
      "cell_type": "code",
      "metadata": {
        "id": "N8RRK89EB9ry",
        "colab_type": "code",
        "colab": {}
      },
      "source": [
        "inputs = keras.Input(shape = (NEW_IMAGE_DIM, NEW_IMAGE_DIM, IMAGE_DIM_2_2))"
      ],
      "execution_count": 0,
      "outputs": []
    },
    {
      "cell_type": "code",
      "metadata": {
        "id": "qGwsVXyJE9zk",
        "colab_type": "code",
        "colab": {}
      },
      "source": [
        "from tensorflow.keras.layers import Dropout, MaxPooling2D\n",
        "\n",
        "l_d_0_0 = Conv2D(16, kernel_size = (5, 5), strides = (1, 1),\n",
        "                activation = 'relu', padding = 'same')(inputs)\n",
        "l_d_0_1 = MaxPooling2D(pool_size = (2, 2), strides = 2,\n",
        "                            padding = 'valid')(l_d_0_0)\n",
        "l_d_0_2 = Dropout(0.2)(l_d_0_0)\n",
        "\n",
        "l_d_1_0 = Conv2D(32, kernel_size = (5, 5), strides = (1, 1),\n",
        "                activation = 'relu', padding = 'same')(l_d_0_2)\n",
        "l_d_1_1 = MaxPooling2D(pool_size = (2, 2), strides = 1,\n",
        "                            padding = 'valid')(l_d_1_0)\n",
        "l_d_1_2 = Dropout(0.2)(l_d_1_0)\n",
        "\n",
        "l_d_2_0 = Conv2D(64, kernel_size = (5, 5), strides = (1, 1),\n",
        "                activation = 'relu', padding = 'same')(l_d_1_2)\n",
        "l_d_2_1 = MaxPooling2D(pool_size = (2, 2), strides = 2,\n",
        "                            padding = 'valid')(l_d_2_0)\n",
        "l_d_2_2 = Dropout(0.2)(l_d_2_0)\n",
        "\n",
        "l_fl_0 = Flatten()(l_d_2_2)\n",
        "l_dense_0 = Dense(2400, activation = 'relu')(l_fl_0)\n",
        "\n",
        "output_common = Dense(1200, activation = 'relu')(l_dense_0)\n",
        "\n",
        "digits_n_output = Dense(2, activation = 'softmax', name = 'digits_n')(output_common)\n",
        "digit_0_output = Dense(10, activation = 'softmax', name = 'digit_0')(output_common)\n",
        "digit_1_output = Dense(11, activation = 'softmax', name = 'digit_1')(output_common)"
      ],
      "execution_count": 0,
      "outputs": []
    },
    {
      "cell_type": "code",
      "metadata": {
        "id": "t5DJW4cWBJfS",
        "colab_type": "code",
        "colab": {}
      },
      "source": [
        "def digits_n_loss(n_logits, n_labels):\n",
        "    return tf.reduce_mean(\n",
        "        tf.compat.v1.losses.softmax_cross_entropy(n_logits, n_labels))\n",
        "    \n",
        "def digit_0_loss(digit_0_logits, digit_0_labels):\n",
        "    return tf.reduce_mean(\n",
        "        tf.compat.v1.losses.softmax_cross_entropy(digit_0_logits, digit_0_labels))\n",
        "\n",
        "def digit_1_loss(digit_1_logits, digit_1_labels):\n",
        "    return tf.reduce_mean(\n",
        "        tf.compat.v1.losses.softmax_cross_entropy(digit_1_logits, digit_1_labels))\n",
        "\n",
        "losses = {\n",
        "\t'digits_n': digits_n_loss,\n",
        "    'digit_0': digit_0_loss,\n",
        "    'digit_1': digit_1_loss\n",
        "}\n",
        "\n",
        "loss_weights = {\n",
        "    'digits_n': 1.0,\n",
        "    'digit_0': 1.0,\n",
        "    'digit_1': 1.0\n",
        "}"
      ],
      "execution_count": 0,
      "outputs": []
    },
    {
      "cell_type": "code",
      "metadata": {
        "id": "xVZo0n3-AC2v",
        "colab_type": "code",
        "colab": {}
      },
      "source": [
        "model_3 = keras.Model(inputs = inputs,\n",
        "                      outputs = [\n",
        "                                 digits_n_output,\n",
        "                                 digit_0_output,\n",
        "                                 digit_1_output])"
      ],
      "execution_count": 0,
      "outputs": []
    },
    {
      "cell_type": "code",
      "metadata": {
        "id": "Sq31Kp9tBbdi",
        "colab_type": "code",
        "colab": {
          "base_uri": "https://localhost:8080/",
          "height": 615
        },
        "outputId": "c05f54ec-fcad-4f42-aeba-e7c281229c4d"
      },
      "source": [
        "model_3.summary()"
      ],
      "execution_count": 70,
      "outputs": [
        {
          "output_type": "stream",
          "text": [
            "Model: \"model\"\n",
            "__________________________________________________________________________________________________\n",
            "Layer (type)                    Output Shape         Param #     Connected to                     \n",
            "==================================================================================================\n",
            "input_1 (InputLayer)            [(None, 50, 50, 3)]  0                                            \n",
            "__________________________________________________________________________________________________\n",
            "conv2d_4 (Conv2D)               (None, 50, 50, 16)   1216        input_1[0][0]                    \n",
            "__________________________________________________________________________________________________\n",
            "dropout (Dropout)               (None, 50, 50, 16)   0           conv2d_4[0][0]                   \n",
            "__________________________________________________________________________________________________\n",
            "conv2d_5 (Conv2D)               (None, 50, 50, 32)   12832       dropout[0][0]                    \n",
            "__________________________________________________________________________________________________\n",
            "dropout_1 (Dropout)             (None, 50, 50, 32)   0           conv2d_5[0][0]                   \n",
            "__________________________________________________________________________________________________\n",
            "conv2d_6 (Conv2D)               (None, 50, 50, 64)   51264       dropout_1[0][0]                  \n",
            "__________________________________________________________________________________________________\n",
            "dropout_2 (Dropout)             (None, 50, 50, 64)   0           conv2d_6[0][0]                   \n",
            "__________________________________________________________________________________________________\n",
            "flatten_2 (Flatten)             (None, 160000)       0           dropout_2[0][0]                  \n",
            "__________________________________________________________________________________________________\n",
            "dense_6 (Dense)                 (None, 2400)         384002400   flatten_2[0][0]                  \n",
            "__________________________________________________________________________________________________\n",
            "dense_7 (Dense)                 (None, 1200)         2881200     dense_6[0][0]                    \n",
            "__________________________________________________________________________________________________\n",
            "digits_n (Dense)                (None, 2)            2402        dense_7[0][0]                    \n",
            "__________________________________________________________________________________________________\n",
            "digit_0 (Dense)                 (None, 10)           12010       dense_7[0][0]                    \n",
            "__________________________________________________________________________________________________\n",
            "digit_1 (Dense)                 (None, 11)           13211       dense_7[0][0]                    \n",
            "==================================================================================================\n",
            "Total params: 386,976,535\n",
            "Trainable params: 386,976,535\n",
            "Non-trainable params: 0\n",
            "__________________________________________________________________________________________________\n"
          ],
          "name": "stdout"
        }
      ]
    },
    {
      "cell_type": "code",
      "metadata": {
        "id": "4c6kucv9C78V",
        "colab_type": "code",
        "colab": {
          "base_uri": "https://localhost:8080/",
          "height": 1000
        },
        "outputId": "e3cf69b5-7867-4f74-ff3f-ad1cba556f97"
      },
      "source": [
        "keras.utils.plot_model(model_3, 'multidigit.png')"
      ],
      "execution_count": 71,
      "outputs": [
        {
          "output_type": "execute_result",
          "data": {
            "image/png": "[encoded data removed]",
            "text/plain": [
              "<IPython.core.display.Image object>"
            ]
          },
          "metadata": {
            "tags": []
          },
          "execution_count": 71
        }
      ]
    },
    {
      "cell_type": "code",
      "metadata": {
        "id": "x_UJdKJtDSlg",
        "colab_type": "code",
        "colab": {}
      },
      "source": [
        "X_multidigit = tf.keras.utils.normalize(np.asarray(list(train_multidigit_df['data'])), axis = 1)\n",
        "\n",
        "y_n_multidigit = (to_categorical(train_multidigit_df['digits_n']\n",
        "                                 .astype('category')\n",
        "                                 .cat.codes.astype('int32')))\n",
        "y_d_0_multidigit = (to_categorical(train_multidigit_df['digit_0']\n",
        "                                   .astype('category')\n",
        "                                   .cat.codes.astype('int32')))\n",
        "y_d_1_multidigit = (to_categorical(train_multidigit_df['digit_1']\n",
        "                                   .astype('category')\n",
        "                                   .cat.codes.astype('int32')))\n",
        "\n",
        "y_multidigit = [\n",
        "                y_n_multidigit,\n",
        "                y_d_0_multidigit,\n",
        "                y_d_1_multidigit\n",
        "               ]"
      ],
      "execution_count": 0,
      "outputs": []
    },
    {
      "cell_type": "code",
      "metadata": {
        "id": "AOVVOvs1Ea4m",
        "colab_type": "code",
        "colab": {}
      },
      "source": [
        "model_3.compile(optimizer = 'adam',\n",
        "                loss = losses, loss_weights = loss_weights,\n",
        "                metrics = ['categorical_accuracy'])"
      ],
      "execution_count": 0,
      "outputs": []
    },
    {
      "cell_type": "code",
      "metadata": {
        "id": "3d4wEGpCDFj3",
        "colab_type": "code",
        "colab": {
          "base_uri": "https://localhost:8080/",
          "height": 406
        },
        "outputId": "834f9fa5-1dcc-4b90-ce58-1fff01205562"
      },
      "source": [
        "history_3 = model_3.fit(x = X_multidigit,\n",
        "                        y = y_multidigit,\n",
        "                        epochs = 10,\n",
        "                        validation_split = 0.15)"
      ],
      "execution_count": 74,
      "outputs": [
        {
          "output_type": "stream",
          "text": [
            "Train on 19776 samples, validate on 3491 samples\n",
            "Epoch 1/10\n",
            "19776/19776 [==============================] - 42s 2ms/sample - loss: 5.1188 - digits_n_loss: 0.5362 - digit_0_loss: 2.2618 - digit_1_loss: 2.3208 - digits_n_categorical_accuracy: 0.7768 - digit_0_categorical_accuracy: 0.1993 - digit_1_categorical_accuracy: 0.2216 - val_loss: 5.1304 - val_digits_n_loss: 0.5209 - val_digit_0_loss: 2.2729 - val_digit_1_loss: 2.3354 - val_digits_n_categorical_accuracy: 0.7906 - val_digit_0_categorical_accuracy: 0.1871 - val_digit_1_categorical_accuracy: 0.2094\n",
            "Epoch 2/10\n",
            "19776/19776 [==============================] - 42s 2ms/sample - loss: 5.1175 - digits_n_loss: 0.5361 - digit_0_loss: 2.2612 - digit_1_loss: 2.3203 - digits_n_categorical_accuracy: 0.7772 - digit_0_categorical_accuracy: 0.2000 - digit_1_categorical_accuracy: 0.2228 - val_loss: 5.1304 - val_digits_n_loss: 0.5209 - val_digit_0_loss: 2.2729 - val_digit_1_loss: 2.3354 - val_digits_n_categorical_accuracy: 0.7906 - val_digit_0_categorical_accuracy: 0.1871 - val_digit_1_categorical_accuracy: 0.2094\n",
            "Epoch 3/10\n",
            "19776/19776 [==============================] - 42s 2ms/sample - loss: 5.1175 - digits_n_loss: 0.5361 - digit_0_loss: 2.2612 - digit_1_loss: 2.3203 - digits_n_categorical_accuracy: 0.7772 - digit_0_categorical_accuracy: 0.2000 - digit_1_categorical_accuracy: 0.2228 - val_loss: 5.1304 - val_digits_n_loss: 0.5209 - val_digit_0_loss: 2.2729 - val_digit_1_loss: 2.3354 - val_digits_n_categorical_accuracy: 0.7906 - val_digit_0_categorical_accuracy: 0.1871 - val_digit_1_categorical_accuracy: 0.2094\n",
            "Epoch 4/10\n",
            "19776/19776 [==============================] - 42s 2ms/sample - loss: 5.1175 - digits_n_loss: 0.5361 - digit_0_loss: 2.2612 - digit_1_loss: 2.3203 - digits_n_categorical_accuracy: 0.7772 - digit_0_categorical_accuracy: 0.2000 - digit_1_categorical_accuracy: 0.2228 - val_loss: 5.1304 - val_digits_n_loss: 0.5237 - val_digit_0_loss: 2.2674 - val_digit_1_loss: 2.3326 - val_digits_n_categorical_accuracy: 0.7906 - val_digit_0_categorical_accuracy: 0.1871 - val_digit_1_categorical_accuracy: 0.2094\n",
            "Epoch 5/10\n",
            "19776/19776 [==============================] - 42s 2ms/sample - loss: 5.1175 - digits_n_loss: 0.5361 - digit_0_loss: 2.2612 - digit_1_loss: 2.3203 - digits_n_categorical_accuracy: 0.7772 - digit_0_categorical_accuracy: 0.2000 - digit_1_categorical_accuracy: 0.2228 - val_loss: 5.1304 - val_digits_n_loss: 0.5237 - val_digit_0_loss: 2.2756 - val_digit_1_loss: 2.3326 - val_digits_n_categorical_accuracy: 0.7906 - val_digit_0_categorical_accuracy: 0.1871 - val_digit_1_categorical_accuracy: 0.2094\n",
            "Epoch 6/10\n",
            "19776/19776 [==============================] - 42s 2ms/sample - loss: 5.1175 - digits_n_loss: 0.5361 - digit_0_loss: 2.2612 - digit_1_loss: 2.3203 - digits_n_categorical_accuracy: 0.7772 - digit_0_categorical_accuracy: 0.2000 - digit_1_categorical_accuracy: 0.2228 - val_loss: 5.1304 - val_digits_n_loss: 0.5292 - val_digit_0_loss: 2.2756 - val_digit_1_loss: 2.3271 - val_digits_n_categorical_accuracy: 0.7906 - val_digit_0_categorical_accuracy: 0.1871 - val_digit_1_categorical_accuracy: 0.2094\n",
            "Epoch 7/10\n",
            "19776/19776 [==============================] - 42s 2ms/sample - loss: 5.1175 - digits_n_loss: 0.5361 - digit_0_loss: 2.2612 - digit_1_loss: 2.3203 - digits_n_categorical_accuracy: 0.7772 - digit_0_categorical_accuracy: 0.2000 - digit_1_categorical_accuracy: 0.2228 - val_loss: 5.1304 - val_digits_n_loss: 0.5209 - val_digit_0_loss: 2.2756 - val_digit_1_loss: 2.3354 - val_digits_n_categorical_accuracy: 0.7906 - val_digit_0_categorical_accuracy: 0.1871 - val_digit_1_categorical_accuracy: 0.2094\n",
            "Epoch 8/10\n",
            "19776/19776 [==============================] - 42s 2ms/sample - loss: 5.1175 - digits_n_loss: 0.5361 - digit_0_loss: 2.2612 - digit_1_loss: 2.3203 - digits_n_categorical_accuracy: 0.7772 - digit_0_categorical_accuracy: 0.2000 - digit_1_categorical_accuracy: 0.2228 - val_loss: 5.1304 - val_digits_n_loss: 0.5237 - val_digit_0_loss: 2.2756 - val_digit_1_loss: 2.3326 - val_digits_n_categorical_accuracy: 0.7906 - val_digit_0_categorical_accuracy: 0.1871 - val_digit_1_categorical_accuracy: 0.2094\n",
            "Epoch 9/10\n",
            "19776/19776 [==============================] - 42s 2ms/sample - loss: 5.1175 - digits_n_loss: 0.5361 - digit_0_loss: 2.2612 - digit_1_loss: 2.3203 - digits_n_categorical_accuracy: 0.7772 - digit_0_categorical_accuracy: 0.2000 - digit_1_categorical_accuracy: 0.2228 - val_loss: 5.1304 - val_digits_n_loss: 0.5209 - val_digit_0_loss: 2.2756 - val_digit_1_loss: 2.3354 - val_digits_n_categorical_accuracy: 0.7906 - val_digit_0_categorical_accuracy: 0.1871 - val_digit_1_categorical_accuracy: 0.2094\n",
            "Epoch 10/10\n",
            "19776/19776 [==============================] - 42s 2ms/sample - loss: 5.1175 - digits_n_loss: 0.5361 - digit_0_loss: 2.2612 - digit_1_loss: 2.3203 - digits_n_categorical_accuracy: 0.7772 - digit_0_categorical_accuracy: 0.2000 - digit_1_categorical_accuracy: 0.2228 - val_loss: 5.1304 - val_digits_n_loss: 0.5237 - val_digit_0_loss: 2.2756 - val_digit_1_loss: 2.3326 - val_digits_n_categorical_accuracy: 0.7906 - val_digit_0_categorical_accuracy: 0.1871 - val_digit_1_categorical_accuracy: 0.2094\n"
          ],
          "name": "stdout"
        }
      ]
    },
    {
      "cell_type": "code",
      "metadata": {
        "id": "J8TC1-fQoHMR",
        "colab_type": "code",
        "colab": {
          "base_uri": "https://localhost:8080/",
          "height": 410
        },
        "outputId": "704598f1-ae25-4085-a288-2b70af36cac9"
      },
      "source": [
        "plot_accuracy(history_3, 'digits_n_categorical_accuracy', 'val_digits_n_categorical_accuracy')"
      ],
      "execution_count": 75,
      "outputs": [
        {
          "output_type": "display_data",
          "data": {
            "image/png": "[encoded data removed]",
            "text/plain": [
              "<Figure size 576x432 with 1 Axes>"
            ]
          },
          "metadata": {
            "tags": []
          }
        }
      ]
    },
    {
      "cell_type": "code",
      "metadata": {
        "id": "06uH8q9SSOFw",
        "colab_type": "code",
        "colab": {
          "base_uri": "https://localhost:8080/",
          "height": 410
        },
        "outputId": "533aeb27-9568-4a51-9ed6-b9969af62894"
      },
      "source": [
        "plot_accuracy(history_3, 'digit_0_categorical_accuracy', 'val_digit_0_categorical_accuracy')"
      ],
      "execution_count": 76,
      "outputs": [
        {
          "output_type": "display_data",
          "data": {
            "image/png": "[encoded data removed]",
            "text/plain": [
              "<Figure size 576x432 with 1 Axes>"
            ]
          },
          "metadata": {
            "tags": []
          }
        }
      ]
    },
    {
      "cell_type": "code",
      "metadata": {
        "id": "dwchTsLsSR8c",
        "colab_type": "code",
        "colab": {
          "base_uri": "https://localhost:8080/",
          "height": 410
        },
        "outputId": "a5c0d702-2257-40d7-98b1-4a7ffc01fcf0"
      },
      "source": [
        "plot_accuracy(history_3, 'digit_1_categorical_accuracy', 'val_digit_1_categorical_accuracy')"
      ],
      "execution_count": 77,
      "outputs": [
        {
          "output_type": "display_data",
          "data": {
            "image/png": "[encoded data removed]",
            "text/plain": [
              "<Figure size 576x432 with 1 Axes>"
            ]
          },
          "metadata": {
            "tags": []
          }
        }
      ]
    },
    {
      "cell_type": "code",
      "metadata": {
        "id": "NlsQvhoioTJM",
        "colab_type": "code",
        "colab": {
          "base_uri": "https://localhost:8080/",
          "height": 410
        },
        "outputId": "8cef51df-c148-4893-89a4-545302622095"
      },
      "source": [
        "plot_loss(history_3, 'digits_n_loss', 'val_digits_n_loss')"
      ],
      "execution_count": 78,
      "outputs": [
        {
          "output_type": "display_data",
          "data": {
            "image/png": "[encoded data removed]",
            "text/plain": [
              "<Figure size 576x432 with 1 Axes>"
            ]
          },
          "metadata": {
            "tags": []
          }
        }
      ]
    },
    {
      "cell_type": "code",
      "metadata": {
        "id": "1iTRlnCeomMo",
        "colab_type": "code",
        "colab": {
          "base_uri": "https://localhost:8080/",
          "height": 410
        },
        "outputId": "b2208528-b5be-4490-d8dc-b483ec832681"
      },
      "source": [
        "plot_loss(history_3, 'digit_0_loss', 'val_digit_0_loss')"
      ],
      "execution_count": 79,
      "outputs": [
        {
          "output_type": "display_data",
          "data": {
            "image/png": "[encoded data removed]",
            "text/plain": [
              "<Figure size 576x432 with 1 Axes>"
            ]
          },
          "metadata": {
            "tags": []
          }
        }
      ]
    },
    {
      "cell_type": "code",
      "metadata": {
        "id": "lp7G99q0oo7j",
        "colab_type": "code",
        "colab": {
          "base_uri": "https://localhost:8080/",
          "height": 410
        },
        "outputId": "67156f77-ef7e-4afb-cd3b-2551c9562b2f"
      },
      "source": [
        "plot_loss(history_3, 'digit_1_loss', 'val_digit_1_loss')"
      ],
      "execution_count": 80,
      "outputs": [
        {
          "output_type": "display_data",
          "data": {
            "image/png": "[encoded data removed]",
            "text/plain": [
              "<Figure size 576x432 with 1 Axes>"
            ]
          },
          "metadata": {
            "tags": []
          }
        }
      ]
    },
    {
      "cell_type": "code",
      "metadata": {
        "id": "Yw6oB6l5TCNR",
        "colab_type": "code",
        "colab": {}
      },
      "source": [
        "X_test_multidigit = tf.keras.utils.normalize(\n",
        "    np.asarray(list(test_multidigit_df['data'])), axis = 1)\n",
        "\n",
        "y_n_test_multidigit = (to_categorical(test_multidigit_df['digits_n']\n",
        "                                 .astype('category')\n",
        "                                 .cat.codes.astype('int32')))\n",
        "y_d_0_test_multidigit = (to_categorical(test_multidigit_df['digit_0']\n",
        "                                   .astype('category')\n",
        "                                   .cat.codes.astype('int32')))\n",
        "y_d_1_test_multidigit = (to_categorical(test_multidigit_df['digit_1']\n",
        "                                   .astype('category')\n",
        "                                   .cat.codes.astype('int32')))\n",
        "\n",
        "y_test_multidigit = [\n",
        "                     y_n_test_multidigit,\n",
        "                     y_d_0_test_multidigit,\n",
        "                     y_d_1_test_multidigit\n",
        "                    ]"
      ],
      "execution_count": 0,
      "outputs": []
    },
    {
      "cell_type": "code",
      "metadata": {
        "id": "0AiCUXZtTh1E",
        "colab_type": "code",
        "colab": {
          "base_uri": "https://localhost:8080/",
          "height": 140
        },
        "outputId": "0b53c8cd-384e-4576-eba6-e51444767135"
      },
      "source": [
        "results_3 = model_3.evaluate(X_test_multidigit, y_test_multidigit)\n",
        "\n",
        "for i, k in enumerate(history_3.history.keys()):\n",
        "    if i < len(results_3):\n",
        "        print(k, '\\t', results_3[i])"
      ],
      "execution_count": 82,
      "outputs": [
        {
          "output_type": "stream",
          "text": [
            "loss \t 5.093077011154151\n",
            "digits_n_loss \t 0.5423692\n",
            "digit_0_loss \t 2.236772\n",
            "digit_1_loss \t 2.3139274\n",
            "digits_n_categorical_accuracy \t 0.7709198\n",
            "digit_0_categorical_accuracy \t 0.22437494\n",
            "digit_1_categorical_accuracy \t 0.22908017\n"
          ],
          "name": "stdout"
        }
      ]
    },
    {
      "cell_type": "code",
      "metadata": {
        "id": "UK8e4GTGe9NN",
        "colab_type": "code",
        "colab": {
          "base_uri": "https://localhost:8080/",
          "height": 377
        },
        "outputId": "79ca9a59-6538-477c-81c6-cd419cef22aa"
      },
      "source": [
        "plt.imshow(test_multidigit_df['data'][0])\n",
        "\n",
        "plt.show()"
      ],
      "execution_count": 83,
      "outputs": [
        {
          "output_type": "display_data",
          "data": {
            "image/png": "[encoded data removed]",
            "text/plain": [
              "<Figure size 576x432 with 1 Axes>"
            ]
          },
          "metadata": {
            "tags": []
          }
        }
      ]
    },
    {
      "cell_type": "code",
      "metadata": {
        "id": "5kGz3t0-fVut",
        "colab_type": "code",
        "colab": {
          "base_uri": "https://localhost:8080/",
          "height": 70
        },
        "outputId": "8e10410b-102e-409a-bb2c-7c4683c8e6cd"
      },
      "source": [
        "prediction_3 = model_3.predict(np.asarray([test_multidigit_df['data'][0]]))\n",
        "\n",
        "print('digits_n:', prediction_3[0].squeeze(), '\\n',\n",
        "      'digit_0:', prediction_3[1].squeeze(), '\\n',\n",
        "      'digit_1:', prediction_3[2].squeeze())"
      ],
      "execution_count": 84,
      "outputs": [
        {
          "output_type": "stream",
          "text": [
            "digits_n: [0. 1.] \n",
            " digit_0: [1. 0. 0. 0. 0. 0. 0. 0. 0. 0.] \n",
            " digit_1: [1. 0. 0. 0. 0. 0. 0. 0. 0. 0. 0.]\n"
          ],
          "name": "stdout"
        }
      ]
    },
    {
      "cell_type": "markdown",
      "metadata": {
        "id": "qI_e3nVUcCXb",
        "colab_type": "text"
      },
      "source": [
        "### Задание 3\n",
        "\n",
        "Сделайте множество снимков изображений номеров домов с помощью смартфона на ОС _Android_. Также можно использовать библиотеки _OpenCV_, _Simple CV_ или _Pygame_ для обработки изображений с общедоступных камер видеонаблюдения (например, https://www.earthcam.com/).\n",
        "\n",
        "В качестве примера использования библиотеки _TensorFlow_ на смартфоне можете воспользоваться демонстрационным приложением от _Google_ (https://github.com/tensorflow/tensorflow/tree/master/tensorflow/examples/android)."
      ]
    },
    {
      "cell_type": "markdown",
      "metadata": {
        "id": "xDRp62kQcQd8",
        "colab_type": "text"
      },
      "source": [
        "### Задание 4\n",
        "\n",
        "Реализуйте приложение для ОС _Android_, которое может распознавать цифры в номерах домов, используя разработанный ранее классификатор. Какова доля правильных классификаций?"
      ]
    }
  ]
}