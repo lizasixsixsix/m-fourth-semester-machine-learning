{
  "nbformat": 4,
  "nbformat_minor": 0,
  "metadata": {
    "colab": {
      "name": "mo-2-4-0.ipynb",
      "provenance": [],
      "collapsed_sections": [],
      "toc_visible": true,
      "machine_shape": "hm"
    },
    "kernelspec": {
      "name": "python3",
      "display_name": "Python 3"
    },
    "accelerator": "GPU"
  },
  "cells": [
    {
      "cell_type": "markdown",
      "metadata": {
        "id": "AJbO6Hqtaukq",
        "colab_type": "text"
      },
      "source": [
        "# Лабораторная работа №4\n",
        "\n",
        "## Реализация приложения по распознаванию номеров домов"
      ]
    },
    {
      "cell_type": "markdown",
      "metadata": {
        "id": "1jBSK2FabPKC",
        "colab_type": "text"
      },
      "source": [
        "Набор изображений из _Google Street View_ с изображениями номеров домов, содержащий 10 классов, соответствующих цифрам от 0 до 9.\n",
        "\n",
        "* 73257 изображений цифр в обучающей выборке;\n",
        "\n",
        "* 26032 изображения цифр в тестовой выборке;\n",
        "\n",
        "* 531131 изображения, которые можно использовать как дополнение к обучающей выборке;\n",
        "\n",
        "* В двух форматах:\n",
        "\n",
        "    * Оригинальные изображения с выделенными цифрами;\n",
        "\n",
        "    * Изображения размером 32×32, содержащие одну цифру;\n",
        "\n",
        "* Данные первого формата можно скачать по ссылкам:\n",
        "\n",
        "    * http://ufldl.stanford.edu/housenumbers/train.tar.gz (обучающая выборка);\n",
        "\n",
        "    * http://ufldl.stanford.edu/housenumbers/test.tar.gz (тестовая выборка);\n",
        "\n",
        "    * http://ufldl.stanford.edu/housenumbers/extra.tar.gz (дополнительные данные);\n",
        "\n",
        "* Данные второго формата можно скачать по ссылкам:\n",
        "\n",
        "    * http://ufldl.stanford.edu/housenumbers/train_32x32.mat (обучающая выборка);\n",
        "\n",
        "    * http://ufldl.stanford.edu/housenumbers/test_32x32.mat (тестовая выборка);\n",
        "\n",
        "    * http://ufldl.stanford.edu/housenumbers/extra_32x32.mat (дополнительные данные);\n",
        "\n",
        "* Описание данных на английском языке доступно по ссылке:\n",
        "\n",
        "    * http://ufldl.stanford.edu/housenumbers/"
      ]
    },
    {
      "cell_type": "markdown",
      "metadata": {
        "id": "T8r0rcrSbum0",
        "colab_type": "text"
      },
      "source": [
        "### Задание 1\n",
        "\n",
        "Реализуйте глубокую нейронную сеть (полносвязную или сверточную) и обучите ее на синтетических данных (например, наборы _MNIST_ (http://yann.lecun.com/exdb/mnist/) или _notMNIST_).\n",
        "\n",
        "Ознакомьтесь с имеющимися работами по данной тематике: англоязычная статья ( http://static.googleusercontent.com/media/research.google.com/en//pubs/archive/42241.pdf ), видео на _YouTube_ (https://www.youtube.com/watch?v=vGPI_JvLoN0)."
      ]
    },
    {
      "cell_type": "markdown",
      "metadata": {
        "id": "XwZ5YedLSmq5",
        "colab_type": "text"
      },
      "source": [
        "Используем архитектуру _LeNet-5_ и обучим сеть сначала на данных из набора MNIST."
      ]
    },
    {
      "cell_type": "code",
      "metadata": {
        "id": "p5VyFAn6oppw",
        "colab_type": "code",
        "outputId": "8cd7aeb0-26e5-4401-8fae-b61fa2a67ffc",
        "colab": {
          "base_uri": "https://localhost:8080/",
          "height": 230
        }
      },
      "source": [
        "! pip install tensorflow-gpu --pre --quiet\n",
        "\n",
        "! pip show tensorflow-gpu"
      ],
      "execution_count": 0,
      "outputs": [
        {
          "output_type": "stream",
          "text": [
            "\u001b[K     |████████████████████████████████| 516.1MB 30kB/s \n",
            "\u001b[?25hName: tensorflow-gpu\n",
            "Version: 2.2.0rc2\n",
            "Summary: TensorFlow is an open source machine learning framework for everyone.\n",
            "Home-page: https://www.tensorflow.org/\n",
            "Author: Google Inc.\n",
            "Author-email: packages@tensorflow.org\n",
            "License: Apache 2.0\n",
            "Location: /usr/local/lib/python3.6/dist-packages\n",
            "Requires: absl-py, gast, wrapt, grpcio, keras-preprocessing, tensorflow-estimator, tensorboard, termcolor, wheel, scipy, opt-einsum, astunparse, six, h5py, google-pasta, protobuf, numpy\n",
            "Required-by: \n"
          ],
          "name": "stdout"
        }
      ]
    },
    {
      "cell_type": "code",
      "metadata": {
        "id": "4A6ova40mePh",
        "colab_type": "code",
        "colab": {}
      },
      "source": [
        "import tensorflow as tf\n",
        "from tensorflow import keras"
      ],
      "execution_count": 0,
      "outputs": []
    },
    {
      "cell_type": "code",
      "metadata": {
        "id": "JxMOj2NcyUrR",
        "colab_type": "code",
        "colab": {}
      },
      "source": [
        "import numpy as np"
      ],
      "execution_count": 0,
      "outputs": []
    },
    {
      "cell_type": "code",
      "metadata": {
        "id": "lqe79JL0mGNh",
        "colab_type": "code",
        "outputId": "bb694360-3ce5-4f89-cf52-709a1961ff9d",
        "colab": {
          "base_uri": "https://localhost:8080/",
          "height": 52
        }
      },
      "source": [
        "from tensorflow.keras.datasets import mnist\n",
        "\n",
        "(x_train, y_train), (x_val, y_val) = mnist.load_data()"
      ],
      "execution_count": 0,
      "outputs": [
        {
          "output_type": "stream",
          "text": [
            "Downloading data from https://storage.googleapis.com/tensorflow/tf-keras-datasets/mnist.npz\n",
            "11493376/11490434 [==============================] - 0s 0us/step\n"
          ],
          "name": "stdout"
        }
      ]
    },
    {
      "cell_type": "code",
      "metadata": {
        "id": "AEaLeEAKy-sx",
        "colab_type": "code",
        "colab": {}
      },
      "source": [
        "x_train, x_val = tf.keras.utils.normalize(x_train, axis = 1), tf.keras.utils.normalize(x_val, axis = 1)"
      ],
      "execution_count": 0,
      "outputs": []
    },
    {
      "cell_type": "code",
      "metadata": {
        "id": "fDy2wUQwyQFM",
        "colab_type": "code",
        "colab": {}
      },
      "source": [
        "x_train, x_val = x_train[..., np.newaxis], x_val[..., np.newaxis]"
      ],
      "execution_count": 0,
      "outputs": []
    },
    {
      "cell_type": "code",
      "metadata": {
        "id": "SA-LEJ-DH85n",
        "colab_type": "code",
        "outputId": "5e52c93c-b4d0-4771-b898-00ff0398d36d",
        "colab": {
          "base_uri": "https://localhost:8080/",
          "height": 34
        }
      },
      "source": [
        "from tensorflow.keras.utils import to_categorical\n",
        "\n",
        "y_train, y_val = to_categorical(y_train), to_categorical(y_val)\n",
        "\n",
        "y_train.shape"
      ],
      "execution_count": 0,
      "outputs": [
        {
          "output_type": "execute_result",
          "data": {
            "text/plain": [
              "(60000, 10)"
            ]
          },
          "metadata": {
            "tags": []
          },
          "execution_count": 9
        }
      ]
    },
    {
      "cell_type": "code",
      "metadata": {
        "id": "QW4-m2kcv1bg",
        "colab_type": "code",
        "colab": {}
      },
      "source": [
        "IMAGE_DIM_0, IMAGE_DIM_1 = x_train.shape[1], x_train.shape[2]"
      ],
      "execution_count": 0,
      "outputs": []
    },
    {
      "cell_type": "code",
      "metadata": {
        "id": "h8FxR1mymxWS",
        "colab_type": "code",
        "colab": {}
      },
      "source": [
        "CLASSES_N = y_train.shape[1]"
      ],
      "execution_count": 0,
      "outputs": []
    },
    {
      "cell_type": "code",
      "metadata": {
        "id": "nfSn_LKOm6U_",
        "colab_type": "code",
        "outputId": "32cf9a11-c7e1-4262-ebd4-f9560da7874c",
        "colab": {
          "base_uri": "https://localhost:8080/",
          "height": 34
        }
      },
      "source": [
        "print(x_train.shape, x_val.shape)"
      ],
      "execution_count": 0,
      "outputs": [
        {
          "output_type": "stream",
          "text": [
            "(60000, 28, 28, 1) (10000, 28, 28, 1)\n"
          ],
          "name": "stdout"
        }
      ]
    },
    {
      "cell_type": "code",
      "metadata": {
        "id": "oGJQ6uXanJQ3",
        "colab_type": "code",
        "colab": {}
      },
      "source": [
        "from tensorflow.keras.models import Sequential\n",
        "from tensorflow.keras.layers import AveragePooling2D, Conv2D, Dense, Flatten\n",
        "\n",
        "model = tf.keras.Sequential()\n",
        "\n",
        "model.add(Conv2D(6, kernel_size = (5, 5), strides = (1, 1), activation = 'tanh', padding = 'same',\n",
        "                   input_shape = (IMAGE_DIM_0, IMAGE_DIM_1, 1)))\n",
        "model.add(AveragePooling2D(pool_size = (2, 2), strides = (2, 2), padding = 'valid'))\n",
        "model.add(Conv2D(16, kernel_size = (5, 5), strides = (1, 1), activation = 'tanh', padding = 'valid'))\n",
        "model.add(AveragePooling2D(pool_size = (2, 2), strides = (2, 2), padding = 'valid'))\n",
        "model.add(Flatten())\n",
        "model.add(Dense(120, activation = 'tanh'))\n",
        "model.add(Dense(84, activation = 'tanh'))\n",
        "model.add(Dense(CLASSES_N, activation = 'softmax'))"
      ],
      "execution_count": 0,
      "outputs": []
    },
    {
      "cell_type": "code",
      "metadata": {
        "id": "QF5wW8VYnca7",
        "colab_type": "code",
        "colab": {}
      },
      "source": [
        "# 'sparse_categorical_crossentropy' gave NAN loss\n",
        "\n",
        "model.compile(optimizer = 'adam',\n",
        "              loss = 'categorical_crossentropy',\n",
        "              metrics = ['categorical_accuracy'])"
      ],
      "execution_count": 0,
      "outputs": []
    },
    {
      "cell_type": "code",
      "metadata": {
        "id": "qiqd4HCfnezG",
        "colab_type": "code",
        "outputId": "86279e39-ad6c-4d19-bb48-ae0168b4900e",
        "colab": {
          "base_uri": "https://localhost:8080/",
          "height": 439
        }
      },
      "source": [
        "model.summary()"
      ],
      "execution_count": 0,
      "outputs": [
        {
          "output_type": "stream",
          "text": [
            "Model: \"sequential\"\n",
            "_________________________________________________________________\n",
            "Layer (type)                 Output Shape              Param #   \n",
            "=================================================================\n",
            "conv2d (Conv2D)              (None, 28, 28, 6)         156       \n",
            "_________________________________________________________________\n",
            "average_pooling2d (AveragePo (None, 14, 14, 6)         0         \n",
            "_________________________________________________________________\n",
            "conv2d_1 (Conv2D)            (None, 10, 10, 16)        2416      \n",
            "_________________________________________________________________\n",
            "average_pooling2d_1 (Average (None, 5, 5, 16)          0         \n",
            "_________________________________________________________________\n",
            "flatten (Flatten)            (None, 400)               0         \n",
            "_________________________________________________________________\n",
            "dense (Dense)                (None, 120)               48120     \n",
            "_________________________________________________________________\n",
            "dense_1 (Dense)              (None, 84)                10164     \n",
            "_________________________________________________________________\n",
            "dense_2 (Dense)              (None, 10)                850       \n",
            "=================================================================\n",
            "Total params: 61,706\n",
            "Trainable params: 61,706\n",
            "Non-trainable params: 0\n",
            "_________________________________________________________________\n"
          ],
          "name": "stdout"
        }
      ]
    },
    {
      "cell_type": "code",
      "metadata": {
        "id": "Qnv6sb5Tniww",
        "colab_type": "code",
        "colab": {}
      },
      "source": [
        "EPOCHS_N = 20"
      ],
      "execution_count": 0,
      "outputs": []
    },
    {
      "cell_type": "code",
      "metadata": {
        "id": "wWfwaspGnsVK",
        "colab_type": "code",
        "outputId": "3c408dd6-e1ff-4530-a485-895b301c9cd4",
        "colab": {
          "base_uri": "https://localhost:8080/",
          "height": 758
        }
      },
      "source": [
        "model.fit(x = x_train, y = y_train, validation_data = (x_val, y_val), epochs = EPOCHS_N)"
      ],
      "execution_count": 0,
      "outputs": [
        {
          "output_type": "stream",
          "text": [
            "Epoch 1/20\n",
            "1875/1875 [==============================] - 8s 4ms/step - loss: 0.2580 - categorical_accuracy: 0.9216 - val_loss: 0.1337 - val_categorical_accuracy: 0.9576\n",
            "Epoch 2/20\n",
            "1875/1875 [==============================] - 8s 4ms/step - loss: 0.1109 - categorical_accuracy: 0.9656 - val_loss: 0.0900 - val_categorical_accuracy: 0.9706\n",
            "Epoch 3/20\n",
            "1875/1875 [==============================] - 7s 4ms/step - loss: 0.0757 - categorical_accuracy: 0.9764 - val_loss: 0.0701 - val_categorical_accuracy: 0.9779\n",
            "Epoch 4/20\n",
            "1875/1875 [==============================] - 8s 4ms/step - loss: 0.0604 - categorical_accuracy: 0.9809 - val_loss: 0.0776 - val_categorical_accuracy: 0.9754\n",
            "Epoch 5/20\n",
            "1875/1875 [==============================] - 8s 4ms/step - loss: 0.0465 - categorical_accuracy: 0.9851 - val_loss: 0.0577 - val_categorical_accuracy: 0.9814\n",
            "Epoch 6/20\n",
            "1875/1875 [==============================] - 8s 4ms/step - loss: 0.0396 - categorical_accuracy: 0.9873 - val_loss: 0.0642 - val_categorical_accuracy: 0.9819\n",
            "Epoch 7/20\n",
            "1875/1875 [==============================] - 8s 4ms/step - loss: 0.0318 - categorical_accuracy: 0.9897 - val_loss: 0.0559 - val_categorical_accuracy: 0.9821\n",
            "Epoch 8/20\n",
            "1875/1875 [==============================] - 8s 4ms/step - loss: 0.0266 - categorical_accuracy: 0.9916 - val_loss: 0.0580 - val_categorical_accuracy: 0.9817\n",
            "Epoch 9/20\n",
            "1875/1875 [==============================] - 8s 4ms/step - loss: 0.0239 - categorical_accuracy: 0.9922 - val_loss: 0.0616 - val_categorical_accuracy: 0.9813\n",
            "Epoch 10/20\n",
            "1875/1875 [==============================] - 8s 4ms/step - loss: 0.0201 - categorical_accuracy: 0.9934 - val_loss: 0.0579 - val_categorical_accuracy: 0.9831\n",
            "Epoch 11/20\n",
            "1875/1875 [==============================] - 8s 4ms/step - loss: 0.0176 - categorical_accuracy: 0.9942 - val_loss: 0.0605 - val_categorical_accuracy: 0.9824\n",
            "Epoch 12/20\n",
            "1875/1875 [==============================] - 8s 4ms/step - loss: 0.0155 - categorical_accuracy: 0.9951 - val_loss: 0.0524 - val_categorical_accuracy: 0.9849\n",
            "Epoch 13/20\n",
            "1875/1875 [==============================] - 8s 4ms/step - loss: 0.0156 - categorical_accuracy: 0.9946 - val_loss: 0.0528 - val_categorical_accuracy: 0.9844\n",
            "Epoch 14/20\n",
            "1875/1875 [==============================] - 8s 4ms/step - loss: 0.0124 - categorical_accuracy: 0.9955 - val_loss: 0.0578 - val_categorical_accuracy: 0.9840\n",
            "Epoch 15/20\n",
            "1875/1875 [==============================] - 8s 4ms/step - loss: 0.0122 - categorical_accuracy: 0.9960 - val_loss: 0.0636 - val_categorical_accuracy: 0.9838\n",
            "Epoch 16/20\n",
            "1875/1875 [==============================] - 8s 4ms/step - loss: 0.0105 - categorical_accuracy: 0.9966 - val_loss: 0.0634 - val_categorical_accuracy: 0.9845\n",
            "Epoch 17/20\n",
            "1875/1875 [==============================] - 8s 4ms/step - loss: 0.0108 - categorical_accuracy: 0.9963 - val_loss: 0.0657 - val_categorical_accuracy: 0.9836\n",
            "Epoch 18/20\n",
            "1875/1875 [==============================] - 8s 4ms/step - loss: 0.0117 - categorical_accuracy: 0.9958 - val_loss: 0.0644 - val_categorical_accuracy: 0.9841\n",
            "Epoch 19/20\n",
            "1875/1875 [==============================] - 8s 4ms/step - loss: 0.0097 - categorical_accuracy: 0.9967 - val_loss: 0.0644 - val_categorical_accuracy: 0.9840\n",
            "Epoch 20/20\n",
            "1875/1875 [==============================] - 8s 4ms/step - loss: 0.0079 - categorical_accuracy: 0.9973 - val_loss: 0.0610 - val_categorical_accuracy: 0.9844\n"
          ],
          "name": "stdout"
        },
        {
          "output_type": "execute_result",
          "data": {
            "text/plain": [
              "<tensorflow.python.keras.callbacks.History at 0x7f7020198898>"
            ]
          },
          "metadata": {
            "tags": []
          },
          "execution_count": 17
        }
      ]
    },
    {
      "cell_type": "markdown",
      "metadata": {
        "id": "e_YPL2eNS-IW",
        "colab_type": "text"
      },
      "source": [
        "Удалось достичь отличного результата &mdash; точность распознавания на валидационной выборке составила 98,4%."
      ]
    },
    {
      "cell_type": "markdown",
      "metadata": {
        "id": "NhEJUbH-b9RT",
        "colab_type": "text"
      },
      "source": [
        "### Задание 2\n",
        "\n",
        "После уточнения модели на синтетических данных попробуйте обучить ее на реальных данных (набор _Google Street View_). Что изменилось в модели?"
      ]
    },
    {
      "cell_type": "code",
      "metadata": {
        "id": "dpjg0mUPPZzR",
        "colab_type": "code",
        "colab": {}
      },
      "source": [
        "DS_URL_FOLDER = 'http://ufldl.stanford.edu/housenumbers/'\n",
        "\n",
        "FIRST_DS_EXT = '.tar.gz'\n",
        "SECOND_DS_EXT = '_32x32.mat'\n",
        "\n",
        "TRAIN_DS_NAME = 'train'\n",
        "TEST_DS_NAME = 'test'\n",
        "EXTRA_DS_NAME = 'extra'"
      ],
      "execution_count": 0,
      "outputs": []
    },
    {
      "cell_type": "code",
      "metadata": {
        "id": "UQ1Au9pWQ1gx",
        "colab_type": "code",
        "colab": {}
      },
      "source": [
        "from urllib.request import urlretrieve\n",
        "import tarfile\n",
        "import os\n",
        "\n",
        "def load_file(_url_folder, _name, _ext, _key, _local_ext = ''):\n",
        "\n",
        "    file_url_ = _url_folder + _name + _ext\n",
        "\n",
        "    local_file_name_ = _name + '_' + _key + _local_ext\n",
        "\n",
        "    urlretrieve(file_url_, local_file_name_)\n",
        "\n",
        "    return local_file_name_\n",
        "\n",
        "def tar_gz_to_dir(_url_folder, _name, _ext, _key):\n",
        "\n",
        "    local_file_name_ = load_file(_url_folder, _name, _ext, _key, _ext)\n",
        "\n",
        "    dir_name_ = _name + '_' + _key\n",
        "    \n",
        "    with tarfile.open(local_file_name_, 'r:gz') as tar_:\n",
        "        tar_.extractall(dir_name_)\n",
        "\n",
        "    os.remove(local_file_name_)\n",
        "\n",
        "    return dir_name_"
      ],
      "execution_count": 0,
      "outputs": []
    },
    {
      "cell_type": "code",
      "metadata": {
        "id": "bMhgLBpdQ2M2",
        "colab_type": "code",
        "colab": {}
      },
      "source": [
        "first_ds_train_dir = tar_gz_to_dir(DS_URL_FOLDER, TRAIN_DS_NAME, FIRST_DS_EXT, 'first')\n",
        "first_ds_test_dir = tar_gz_to_dir(DS_URL_FOLDER, TEST_DS_NAME, FIRST_DS_EXT, 'first')\n",
        "first_ds_extra_dir = tar_gz_to_dir(DS_URL_FOLDER, EXTRA_DS_NAME, FIRST_DS_EXT, 'first')"
      ],
      "execution_count": 0,
      "outputs": []
    },
    {
      "cell_type": "code",
      "metadata": {
        "id": "fY9H9gOx_agn",
        "colab_type": "code",
        "colab": {}
      },
      "source": [
        "second_ds_train_file = load_file(DS_URL_FOLDER, TRAIN_DS_NAME, SECOND_DS_EXT, 'second')\n",
        "second_ds_test_file = load_file(DS_URL_FOLDER, TEST_DS_NAME, SECOND_DS_EXT, 'second')\n",
        "second_ds_extra_file = load_file(DS_URL_FOLDER, EXTRA_DS_NAME, SECOND_DS_EXT, 'second')"
      ],
      "execution_count": 0,
      "outputs": []
    },
    {
      "cell_type": "code",
      "metadata": {
        "id": "4gIR7l4gLIha",
        "colab_type": "code",
        "colab": {}
      },
      "source": [
        "# ! ls extra_first/extra"
      ],
      "execution_count": 0,
      "outputs": []
    },
    {
      "cell_type": "code",
      "metadata": {
        "id": "VRmvtvvHjWam",
        "colab_type": "code",
        "colab": {}
      },
      "source": [
        "from scipy import io\n",
        "\n",
        "second_ds_train = io.loadmat(second_ds_train_file)\n",
        "second_ds_test = io.loadmat(second_ds_test_file)\n",
        "second_ds_extra = io.loadmat(second_ds_extra_file)"
      ],
      "execution_count": 0,
      "outputs": []
    },
    {
      "cell_type": "code",
      "metadata": {
        "id": "8aZehuSyjtMa",
        "colab_type": "code",
        "outputId": "0279c0f0-cc56-499c-f0ca-a52d88e0d7eb",
        "colab": {
          "base_uri": "https://localhost:8080/",
          "height": 70
        }
      },
      "source": [
        "X_second_ds_train = np.moveaxis(second_ds_train['X'], -1, 0)\n",
        "X_second_ds_test = np.moveaxis(second_ds_test['X'], -1, 0)\n",
        "X_second_ds_extra = np.moveaxis(second_ds_extra['X'], -1, 0)\n",
        "\n",
        "y_second_ds_train = second_ds_train['y']\n",
        "y_second_ds_test = second_ds_test['y']\n",
        "y_second_ds_extra = second_ds_extra['y']\n",
        "\n",
        "print(X_second_ds_train.shape, y_second_ds_train.shape)\n",
        "print(X_second_ds_test.shape, y_second_ds_test.shape)\n",
        "print(X_second_ds_extra.shape, y_second_ds_extra.shape)"
      ],
      "execution_count": 0,
      "outputs": [
        {
          "output_type": "stream",
          "text": [
            "(73257, 32, 32, 3) (73257, 1)\n",
            "(26032, 32, 32, 3) (26032, 1)\n",
            "(531131, 32, 32, 3) (531131, 1)\n"
          ],
          "name": "stdout"
        }
      ]
    },
    {
      "cell_type": "code",
      "metadata": {
        "id": "7rGezUtOltjt",
        "colab_type": "code",
        "outputId": "f064cb14-1343-4450-cb82-46fa33667a33",
        "colab": {
          "base_uri": "https://localhost:8080/",
          "height": 284
        }
      },
      "source": [
        "import matplotlib.pyplot as plt\n",
        "\n",
        "plt.imshow(X_second_ds_train[100])\n",
        "plt.imshow(X_second_ds_test[100])\n",
        "plt.imshow(X_second_ds_extra[100])"
      ],
      "execution_count": 0,
      "outputs": [
        {
          "output_type": "execute_result",
          "data": {
            "text/plain": [
              "<matplotlib.image.AxesImage at 0x7f70023e9630>"
            ]
          },
          "metadata": {
            "tags": []
          },
          "execution_count": 25
        },
        {
          "output_type": "display_data",
          "data": {
            "image/png": "[encoded data removed]",
            "text/plain": [
              "<Figure size 432x288 with 1 Axes>"
            ]
          },
          "metadata": {
            "tags": [],
            "needs_background": "light"
          }
        }
      ]
    },
    {
      "cell_type": "code",
      "metadata": {
        "id": "iUuo9YEP3w0c",
        "colab_type": "code",
        "colab": {}
      },
      "source": [
        "IMAGE_DIM_0_2, IMAGE_DIM_1_2, IMAGE_DIM_2_2 = X_second_ds_train.shape[-3], X_second_ds_train.shape[-2], X_second_ds_train.shape[-1]"
      ],
      "execution_count": 0,
      "outputs": []
    },
    {
      "cell_type": "code",
      "metadata": {
        "id": "xnfDnP9D5U_W",
        "colab_type": "code",
        "colab": {}
      },
      "source": [
        "y_second_ds_train_cat = to_categorical(y_second_ds_train)\n",
        "y_second_ds_test_cat = to_categorical(y_second_ds_test)"
      ],
      "execution_count": 0,
      "outputs": []
    },
    {
      "cell_type": "code",
      "metadata": {
        "id": "VSuoxju15AGx",
        "colab_type": "code",
        "colab": {}
      },
      "source": [
        "CLASSES_N_2 = y_second_ds_train_cat.shape[1]"
      ],
      "execution_count": 0,
      "outputs": []
    },
    {
      "cell_type": "code",
      "metadata": {
        "id": "XH96BC9-3s7p",
        "colab_type": "code",
        "colab": {}
      },
      "source": [
        "model_2 = tf.keras.Sequential()\n",
        "\n",
        "model_2.add(Conv2D(6, kernel_size = (5, 5), strides = (1, 1), activation = 'tanh', padding = 'same',\n",
        "                   input_shape = (IMAGE_DIM_0_2, IMAGE_DIM_1_2, IMAGE_DIM_2_2)))\n",
        "model_2.add(AveragePooling2D(pool_size = (2, 2), strides = (2, 2), padding = 'valid'))\n",
        "model_2.add(Conv2D(16, kernel_size = (5, 5), strides = (1, 1), activation = 'tanh', padding = 'valid'))\n",
        "model_2.add(AveragePooling2D(pool_size = (2, 2), strides = (2, 2), padding = 'valid'))\n",
        "model_2.add(Flatten())\n",
        "model_2.add(Dense(120, activation = 'tanh'))\n",
        "model_2.add(Dense(84, activation = 'tanh'))\n",
        "model_2.add(Dense(CLASSES_N_2, activation = 'softmax'))"
      ],
      "execution_count": 0,
      "outputs": []
    },
    {
      "cell_type": "code",
      "metadata": {
        "id": "RxY6LEWR3q33",
        "colab_type": "code",
        "colab": {}
      },
      "source": [
        "model_2.compile(optimizer = 'adam',\n",
        "                loss = 'categorical_crossentropy',\n",
        "                metrics = ['categorical_accuracy'])"
      ],
      "execution_count": 0,
      "outputs": []
    },
    {
      "cell_type": "code",
      "metadata": {
        "id": "Ubm_QyIZ3qCV",
        "colab_type": "code",
        "outputId": "d15a86ea-b848-4ea7-d3b9-78c5c1726a77",
        "colab": {
          "base_uri": "https://localhost:8080/",
          "height": 439
        }
      },
      "source": [
        "model_2.summary()"
      ],
      "execution_count": 0,
      "outputs": [
        {
          "output_type": "stream",
          "text": [
            "Model: \"sequential_3\"\n",
            "_________________________________________________________________\n",
            "Layer (type)                 Output Shape              Param #   \n",
            "=================================================================\n",
            "conv2d_6 (Conv2D)            (None, 32, 32, 6)         456       \n",
            "_________________________________________________________________\n",
            "average_pooling2d_6 (Average (None, 16, 16, 6)         0         \n",
            "_________________________________________________________________\n",
            "conv2d_7 (Conv2D)            (None, 12, 12, 16)        2416      \n",
            "_________________________________________________________________\n",
            "average_pooling2d_7 (Average (None, 6, 6, 16)          0         \n",
            "_________________________________________________________________\n",
            "flatten_3 (Flatten)          (None, 576)               0         \n",
            "_________________________________________________________________\n",
            "dense_9 (Dense)              (None, 120)               69240     \n",
            "_________________________________________________________________\n",
            "dense_10 (Dense)             (None, 84)                10164     \n",
            "_________________________________________________________________\n",
            "dense_11 (Dense)             (None, 11)                935       \n",
            "=================================================================\n",
            "Total params: 83,211\n",
            "Trainable params: 83,211\n",
            "Non-trainable params: 0\n",
            "_________________________________________________________________\n"
          ],
          "name": "stdout"
        }
      ]
    },
    {
      "cell_type": "code",
      "metadata": {
        "id": "eAONS2Z92v8g",
        "colab_type": "code",
        "outputId": "4d0d5917-be55-4897-8927-68e70f24701d",
        "colab": {
          "base_uri": "https://localhost:8080/",
          "height": 758
        }
      },
      "source": [
        "model_2.fit(x = X_second_ds_train, y = y_second_ds_train_cat,\n",
        "            validation_data = (X_second_ds_test, y_second_ds_test_cat),\n",
        "            epochs = EPOCHS_N)"
      ],
      "execution_count": 0,
      "outputs": [
        {
          "output_type": "stream",
          "text": [
            "Epoch 1/20\n",
            "2290/2290 [==============================] - 7s 3ms/step - loss: 1.2603 - categorical_accuracy: 0.5877 - val_loss: 0.8378 - val_categorical_accuracy: 0.7328\n",
            "Epoch 2/20\n",
            "2290/2290 [==============================] - 7s 3ms/step - loss: 0.7390 - categorical_accuracy: 0.7641 - val_loss: 0.7672 - val_categorical_accuracy: 0.7554\n",
            "Epoch 3/20\n",
            "2290/2290 [==============================] - 7s 3ms/step - loss: 0.6408 - categorical_accuracy: 0.7952 - val_loss: 0.7343 - val_categorical_accuracy: 0.7676\n",
            "Epoch 4/20\n",
            "2290/2290 [==============================] - 7s 3ms/step - loss: 0.5971 - categorical_accuracy: 0.8091 - val_loss: 0.7058 - val_categorical_accuracy: 0.7740\n",
            "Epoch 5/20\n",
            "2290/2290 [==============================] - 7s 3ms/step - loss: 0.5655 - categorical_accuracy: 0.8197 - val_loss: 0.6665 - val_categorical_accuracy: 0.7923\n",
            "Epoch 6/20\n",
            "2290/2290 [==============================] - 7s 3ms/step - loss: 0.5358 - categorical_accuracy: 0.8295 - val_loss: 0.6720 - val_categorical_accuracy: 0.7855\n",
            "Epoch 7/20\n",
            "2290/2290 [==============================] - 7s 3ms/step - loss: 0.5174 - categorical_accuracy: 0.8361 - val_loss: 0.6566 - val_categorical_accuracy: 0.7959\n",
            "Epoch 8/20\n",
            "2290/2290 [==============================] - 7s 3ms/step - loss: 0.5040 - categorical_accuracy: 0.8394 - val_loss: 0.6529 - val_categorical_accuracy: 0.7935\n",
            "Epoch 9/20\n",
            "2290/2290 [==============================] - 7s 3ms/step - loss: 0.4870 - categorical_accuracy: 0.8447 - val_loss: 0.6480 - val_categorical_accuracy: 0.8001\n",
            "Epoch 10/20\n",
            "2290/2290 [==============================] - 8s 3ms/step - loss: 0.4750 - categorical_accuracy: 0.8486 - val_loss: 0.6462 - val_categorical_accuracy: 0.8032\n",
            "Epoch 11/20\n",
            "2290/2290 [==============================] - 7s 3ms/step - loss: 0.4670 - categorical_accuracy: 0.8516 - val_loss: 0.6810 - val_categorical_accuracy: 0.7866\n",
            "Epoch 12/20\n",
            "2290/2290 [==============================] - 8s 4ms/step - loss: 0.4537 - categorical_accuracy: 0.8553 - val_loss: 0.6491 - val_categorical_accuracy: 0.7996\n",
            "Epoch 13/20\n",
            "2290/2290 [==============================] - 7s 3ms/step - loss: 0.4534 - categorical_accuracy: 0.8555 - val_loss: 0.6035 - val_categorical_accuracy: 0.8130\n",
            "Epoch 14/20\n",
            "2290/2290 [==============================] - 7s 3ms/step - loss: 0.4372 - categorical_accuracy: 0.8610 - val_loss: 0.6164 - val_categorical_accuracy: 0.8117\n",
            "Epoch 15/20\n",
            "2290/2290 [==============================] - 7s 3ms/step - loss: 0.4273 - categorical_accuracy: 0.8638 - val_loss: 0.6125 - val_categorical_accuracy: 0.8099\n",
            "Epoch 16/20\n",
            "2290/2290 [==============================] - 7s 3ms/step - loss: 0.4238 - categorical_accuracy: 0.8644 - val_loss: 0.6231 - val_categorical_accuracy: 0.8056\n",
            "Epoch 17/20\n",
            "2290/2290 [==============================] - 7s 3ms/step - loss: 0.4054 - categorical_accuracy: 0.8708 - val_loss: 0.6689 - val_categorical_accuracy: 0.7969\n",
            "Epoch 18/20\n",
            "2290/2290 [==============================] - 7s 3ms/step - loss: 0.4014 - categorical_accuracy: 0.8716 - val_loss: 0.6217 - val_categorical_accuracy: 0.8078\n",
            "Epoch 19/20\n",
            "2290/2290 [==============================] - 7s 3ms/step - loss: 0.3941 - categorical_accuracy: 0.8748 - val_loss: 0.6191 - val_categorical_accuracy: 0.8110\n",
            "Epoch 20/20\n",
            "2290/2290 [==============================] - 7s 3ms/step - loss: 0.3900 - categorical_accuracy: 0.8759 - val_loss: 0.6034 - val_categorical_accuracy: 0.8143\n"
          ],
          "name": "stdout"
        },
        {
          "output_type": "execute_result",
          "data": {
            "text/plain": [
              "<tensorflow.python.keras.callbacks.History at 0x7f6fe803f240>"
            ]
          },
          "metadata": {
            "tags": []
          },
          "execution_count": 51
        }
      ]
    },
    {
      "cell_type": "markdown",
      "metadata": {
        "id": "xLwTArXRTZY8",
        "colab_type": "text"
      },
      "source": [
        "Прежде всего, в модели изменилось то, что добавился ещё один класс &mdash; _нет цифры_. Это связано с тем, что в данные представляют собой снимки скользящего окна, в котором не всегда есть то, что мы хотим распознать."
      ]
    },
    {
      "cell_type": "markdown",
      "metadata": {
        "id": "7q-E6_NBTVOD",
        "colab_type": "text"
      },
      "source": [
        "Несмотря на это, результат также неплох &mdash; точность распознавания на валидационной выборке составила 81,4%."
      ]
    },
    {
      "cell_type": "markdown",
      "metadata": {
        "id": "qI_e3nVUcCXb",
        "colab_type": "text"
      },
      "source": [
        "### Задание 3\n",
        "\n",
        "Сделайте множество снимков изображений номеров домов с помощью смартфона на ОС _Android_. Также можно использовать библиотеки _OpenCV_, _Simple CV_ или _Pygame_ для обработки изображений с общедоступных камер видеонаблюдения (например, https://www.earthcam.com/).\n",
        "\n",
        "В качестве примера использования библиотеки _TensorFlow_ на смартфоне можете воспользоваться демонстрационным приложением от _Google_ (https://github.com/tensorflow/tensorflow/tree/master/tensorflow/examples/android)."
      ]
    },
    {
      "cell_type": "markdown",
      "metadata": {
        "id": "xDRp62kQcQd8",
        "colab_type": "text"
      },
      "source": [
        "### Задание 4\n",
        "\n",
        "Реализуйте приложение для ОС _Android_, которое может распознавать цифры в номерах домов, используя разработанный ранее классификатор. Какова доля правильных классификаций?"
      ]
    }
  ]
}