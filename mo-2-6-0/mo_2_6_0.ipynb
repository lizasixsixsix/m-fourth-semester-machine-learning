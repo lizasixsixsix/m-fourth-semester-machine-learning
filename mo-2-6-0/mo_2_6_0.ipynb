{
  "nbformat": 4,
  "nbformat_minor": 0,
  "metadata": {
    "colab": {
      "name": "mo-2-6-0.ipynb",
      "provenance": [],
      "collapsed_sections": [],
      "toc_visible": true,
      "machine_shape": "hm"
    },
    "kernelspec": {
      "name": "python3",
      "display_name": "Python 3"
    },
    "accelerator": "GPU"
  },
  "cells": [
    {
      "cell_type": "markdown",
      "metadata": {
        "id": "K_cfSTC_fExd",
        "colab_type": "text"
      },
      "source": [
        "# Лабораторная работа №6\n",
        "\n",
        "## Применение сверточных нейронных сетей (многоклассовая классификация)"
      ]
    },
    {
      "cell_type": "markdown",
      "metadata": {
        "id": "rj2xTHG6fYhe",
        "colab_type": "text"
      },
      "source": [
        "Набор данных для распознавания языка жестов, который состоит из изображений размерности 28x28 в оттенках серого (значение пикселя от 0 до 255).\n",
        "\n",
        "Каждое из изображений обозначает букву латинского алфавита, обозначенную с помощью жеста (изображения в наборе данных в оттенках серого).\n",
        "\n",
        "Обучающая выборка включает в себя 27,455 изображений, а контрольная выборка содержит 7172 изображения.\n",
        "\n",
        "Данные в виде _csv_-файлов можно скачать на сайте _Kaggle_: https://www.kaggle.com/datamunge/sign-language-mnist"
      ]
    },
    {
      "cell_type": "markdown",
      "metadata": {
        "id": "2R2bvokTfwuG",
        "colab_type": "text"
      },
      "source": [
        "### Задание 1\n",
        "\n",
        "Загрузите данные. Разделите исходный набор данных на обучающую и валидационную выборки."
      ]
    },
    {
      "cell_type": "code",
      "metadata": {
        "id": "xSU2rJJGrn5s",
        "colab_type": "code",
        "colab": {
          "base_uri": "https://localhost:8080/",
          "height": 34
        },
        "outputId": "46edafba-6735-4828-ee3b-916c5a554853"
      },
      "source": [
        "from google.colab import drive\n",
        "\n",
        "drive.mount('/content/drive', force_remount = True)"
      ],
      "execution_count": 1,
      "outputs": [
        {
          "output_type": "stream",
          "text": [
            "Mounted at /content/drive\n"
          ],
          "name": "stdout"
        }
      ]
    },
    {
      "cell_type": "code",
      "metadata": {
        "id": "gw--OkDXry4a",
        "colab_type": "code",
        "colab": {}
      },
      "source": [
        "BASE_DIR = '/content/drive/My Drive/Colab Files/mo-2'\n",
        "\n",
        "import sys\n",
        "\n",
        "sys.path.append(BASE_DIR)\n",
        "\n",
        "import os"
      ],
      "execution_count": 0,
      "outputs": []
    },
    {
      "cell_type": "code",
      "metadata": {
        "id": "BLSt5UKjr2q6",
        "colab_type": "code",
        "colab": {}
      },
      "source": [
        "DATA_ARCHIVE_NAME = 'sign-language-mnist.zip'\n",
        "\n",
        "LOCAL_DIR_NAME = 'sign-language'"
      ],
      "execution_count": 0,
      "outputs": []
    },
    {
      "cell_type": "code",
      "metadata": {
        "id": "ZRDKuhNDsHcv",
        "colab_type": "code",
        "colab": {}
      },
      "source": [
        "from zipfile import ZipFile\n",
        "\n",
        "with ZipFile(os.path.join(BASE_DIR, DATA_ARCHIVE_NAME), 'r') as zip_:\n",
        "    zip_.extractall(path = os.path.join(LOCAL_DIR_NAME, 'train'))"
      ],
      "execution_count": 0,
      "outputs": []
    },
    {
      "cell_type": "code",
      "metadata": {
        "id": "2eaDS5TrsMIl",
        "colab_type": "code",
        "colab": {}
      },
      "source": [
        "TRAIN_FILE_PATH = 'sign-language/train/sign_mnist_train.csv'\n",
        "TEST_FILE_PATH = 'sign-language/train/sign_mnist_test.csv'"
      ],
      "execution_count": 0,
      "outputs": []
    },
    {
      "cell_type": "code",
      "metadata": {
        "id": "_xZdjccQssbH",
        "colab_type": "code",
        "colab": {}
      },
      "source": [
        "import pandas as pd\n",
        "\n",
        "train_df = pd.read_csv(TRAIN_FILE_PATH)\n",
        "test_all_df = pd.read_csv(TEST_FILE_PATH)"
      ],
      "execution_count": 0,
      "outputs": []
    },
    {
      "cell_type": "code",
      "metadata": {
        "id": "olZmSdvitTTf",
        "colab_type": "code",
        "colab": {}
      },
      "source": [
        "val_df = test_all_df.sample(frac = 0.5)\n",
        "test_df = test_all_df.drop(val_df.index)"
      ],
      "execution_count": 0,
      "outputs": []
    },
    {
      "cell_type": "code",
      "metadata": {
        "id": "HIs-JqDptwi7",
        "colab_type": "code",
        "colab": {
          "base_uri": "https://localhost:8080/",
          "height": 70
        },
        "outputId": "c7e0a6d6-07e0-41de-ff85-7c5b8deec5ca"
      },
      "source": [
        "print(train_df.shape)\n",
        "print(val_df.shape)\n",
        "print(test_df.shape)"
      ],
      "execution_count": 8,
      "outputs": [
        {
          "output_type": "stream",
          "text": [
            "(27455, 785)\n",
            "(3586, 785)\n",
            "(3586, 785)\n"
          ],
          "name": "stdout"
        }
      ]
    },
    {
      "cell_type": "markdown",
      "metadata": {
        "id": "u0p2LpcBf02u",
        "colab_type": "text"
      },
      "source": [
        "### Задание 2\n",
        "\n",
        "Реализуйте глубокую нейронную сеть со сверточными слоями. Какое качество классификации получено? Какая архитектура сети была использована?"
      ]
    },
    {
      "cell_type": "markdown",
      "metadata": {
        "id": "jDd07Vzwf4fM",
        "colab_type": "text"
      },
      "source": [
        "### Задание 3\n",
        "\n",
        "Примените дополнение данных (_data augmentation_). Как это повлияло на качество классификатора?"
      ]
    },
    {
      "cell_type": "markdown",
      "metadata": {
        "id": "8nPvDhWtf9EW",
        "colab_type": "text"
      },
      "source": [
        "### Задание 4\n",
        "\n",
        "Поэкспериментируйте с готовыми нейронными сетями (например, _AlexNet_, _VGG16_, _Inception_ и т.п.), применив передаточное обучение. Как это повлияло на качество классификатора? Можно ли было обойтись без него?\n",
        "\n",
        "Какой максимальный результат удалось получить на контрольной выборке?"
      ]
    }
  ]
}