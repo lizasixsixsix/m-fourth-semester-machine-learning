{
  "nbformat": 4,
  "nbformat_minor": 0,
  "metadata": {
    "colab": {
      "name": "mo-2-6-0.ipynb",
      "provenance": [],
      "collapsed_sections": [],
      "toc_visible": true,
      "machine_shape": "hm"
    },
    "kernelspec": {
      "name": "python3",
      "display_name": "Python 3"
    },
    "accelerator": "GPU"
  },
  "cells": [
    {
      "cell_type": "markdown",
      "metadata": {
        "id": "K_cfSTC_fExd",
        "colab_type": "text"
      },
      "source": [
        "# Лабораторная работа №6\n",
        "\n",
        "## Применение сверточных нейронных сетей (многоклассовая классификация)"
      ]
    },
    {
      "cell_type": "markdown",
      "metadata": {
        "id": "rj2xTHG6fYhe",
        "colab_type": "text"
      },
      "source": [
        "Набор данных для распознавания языка жестов, который состоит из изображений размерности 28x28 в оттенках серого (значение пикселя от 0 до 255).\n",
        "\n",
        "Каждое из изображений обозначает букву латинского алфавита, обозначенную с помощью жеста (изображения в наборе данных в оттенках серого).\n",
        "\n",
        "Обучающая выборка включает в себя 27,455 изображений, а контрольная выборка содержит 7172 изображения.\n",
        "\n",
        "Данные в виде _csv_-файлов можно скачать на сайте _Kaggle_: https://www.kaggle.com/datamunge/sign-language-mnist"
      ]
    },
    {
      "cell_type": "markdown",
      "metadata": {
        "id": "2R2bvokTfwuG",
        "colab_type": "text"
      },
      "source": [
        "### Задание 1\n",
        "\n",
        "Загрузите данные. Разделите исходный набор данных на обучающую и валидационную выборки."
      ]
    },
    {
      "cell_type": "code",
      "metadata": {
        "id": "xSU2rJJGrn5s",
        "colab_type": "code",
        "outputId": "26b59592-ae5d-42a3-c996-b1f0a3565e0e",
        "colab": {
          "base_uri": "https://localhost:8080/",
          "height": 34
        }
      },
      "source": [
        "from google.colab import drive\n",
        "\n",
        "drive.mount('/content/drive', force_remount = True)"
      ],
      "execution_count": 1,
      "outputs": [
        {
          "output_type": "stream",
          "text": [
            "Mounted at /content/drive\n"
          ],
          "name": "stdout"
        }
      ]
    },
    {
      "cell_type": "code",
      "metadata": {
        "id": "gw--OkDXry4a",
        "colab_type": "code",
        "colab": {}
      },
      "source": [
        "BASE_DIR = '/content/drive/My Drive/Colab Files/mo-2'\n",
        "\n",
        "import sys\n",
        "\n",
        "sys.path.append(BASE_DIR)\n",
        "\n",
        "import os"
      ],
      "execution_count": 0,
      "outputs": []
    },
    {
      "cell_type": "code",
      "metadata": {
        "id": "BLSt5UKjr2q6",
        "colab_type": "code",
        "colab": {}
      },
      "source": [
        "DATA_ARCHIVE_NAME = 'sign-language-mnist.zip'\n",
        "\n",
        "LOCAL_DIR_NAME = 'sign-language'"
      ],
      "execution_count": 0,
      "outputs": []
    },
    {
      "cell_type": "code",
      "metadata": {
        "id": "ZRDKuhNDsHcv",
        "colab_type": "code",
        "colab": {}
      },
      "source": [
        "from zipfile import ZipFile\n",
        "\n",
        "with ZipFile(os.path.join(BASE_DIR, DATA_ARCHIVE_NAME), 'r') as zip_:\n",
        "    zip_.extractall(path = os.path.join(LOCAL_DIR_NAME, 'train'))"
      ],
      "execution_count": 0,
      "outputs": []
    },
    {
      "cell_type": "code",
      "metadata": {
        "id": "2eaDS5TrsMIl",
        "colab_type": "code",
        "colab": {}
      },
      "source": [
        "TRAIN_FILE_PATH = 'sign-language/train/sign_mnist_train.csv'\n",
        "TEST_FILE_PATH = 'sign-language/train/sign_mnist_test.csv'"
      ],
      "execution_count": 0,
      "outputs": []
    },
    {
      "cell_type": "code",
      "metadata": {
        "id": "_xZdjccQssbH",
        "colab_type": "code",
        "colab": {}
      },
      "source": [
        "import pandas as pd\n",
        "\n",
        "train_df = pd.read_csv(TRAIN_FILE_PATH)\n",
        "test_df = pd.read_csv(TEST_FILE_PATH)"
      ],
      "execution_count": 0,
      "outputs": []
    },
    {
      "cell_type": "code",
      "metadata": {
        "id": "HIs-JqDptwi7",
        "colab_type": "code",
        "outputId": "11b135f4-b861-4319-9ce8-081f7606522d",
        "colab": {
          "base_uri": "https://localhost:8080/",
          "height": 34
        }
      },
      "source": [
        "train_df.shape, test_df.shape"
      ],
      "execution_count": 7,
      "outputs": [
        {
          "output_type": "execute_result",
          "data": {
            "text/plain": [
              "((27455, 785), (7172, 785))"
            ]
          },
          "metadata": {
            "tags": []
          },
          "execution_count": 7
        }
      ]
    },
    {
      "cell_type": "code",
      "metadata": {
        "id": "-WTptMAe7IFq",
        "colab_type": "code",
        "colab": {}
      },
      "source": [
        "IMAGE_DIM = 28"
      ],
      "execution_count": 0,
      "outputs": []
    },
    {
      "cell_type": "code",
      "metadata": {
        "id": "BxYJPtuG7jpb",
        "colab_type": "code",
        "colab": {}
      },
      "source": [
        "def row_to_label(_row):\n",
        "    return _row[0]\n",
        "\n",
        "def row_to_one_image(_row):\n",
        "    return _row[1:].values.reshape((IMAGE_DIM, IMAGE_DIM, 1))"
      ],
      "execution_count": 0,
      "outputs": []
    },
    {
      "cell_type": "code",
      "metadata": {
        "id": "01Fmd0L49EEF",
        "colab_type": "code",
        "colab": {}
      },
      "source": [
        "def to_images_and_labels(_dataframe):\n",
        "\n",
        "    llll = _dataframe.apply(lambda row: row_to_label(row), axis = 1)\n",
        "    mmmm = _dataframe.apply(lambda row: row_to_one_image(row), axis = 1)\n",
        "\n",
        "    data_dict_ = { 'label': llll, 'image': mmmm }\n",
        "\n",
        "    reshaped_ = pd.DataFrame(data_dict_, columns = ['label', 'image'])\n",
        "\n",
        "    return reshaped_"
      ],
      "execution_count": 0,
      "outputs": []
    },
    {
      "cell_type": "code",
      "metadata": {
        "id": "7PeWh5EJM6pG",
        "colab_type": "code",
        "colab": {}
      },
      "source": [
        "train_df_reshaped = to_images_and_labels(train_df)\n",
        "test_df_reshaped = to_images_and_labels(test_df)"
      ],
      "execution_count": 0,
      "outputs": []
    },
    {
      "cell_type": "markdown",
      "metadata": {
        "id": "u0p2LpcBf02u",
        "colab_type": "text"
      },
      "source": [
        "### Задание 2\n",
        "\n",
        "Реализуйте глубокую нейронную сеть со сверточными слоями. Какое качество классификации получено? Какая архитектура сети была использована?"
      ]
    },
    {
      "cell_type": "markdown",
      "metadata": {
        "id": "xlORE3O0FQQ8",
        "colab_type": "text"
      },
      "source": [
        "Возьмём _LeNet-5_."
      ]
    },
    {
      "cell_type": "code",
      "metadata": {
        "id": "CxG1n5fUJP9d",
        "colab_type": "code",
        "outputId": "770fd766-807b-4272-85e9-830a9fd46cbc",
        "colab": {
          "base_uri": "https://localhost:8080/",
          "height": 230
        }
      },
      "source": [
        "! pip install tensorflow-gpu --pre --quiet\n",
        "\n",
        "! pip show tensorflow-gpu"
      ],
      "execution_count": 12,
      "outputs": [
        {
          "output_type": "stream",
          "text": [
            "\u001b[K     |████████████████████████████████| 516.2MB 30kB/s \n",
            "\u001b[?25hName: tensorflow-gpu\n",
            "Version: 2.2.0rc3\n",
            "Summary: TensorFlow is an open source machine learning framework for everyone.\n",
            "Home-page: https://www.tensorflow.org/\n",
            "Author: Google Inc.\n",
            "Author-email: packages@tensorflow.org\n",
            "License: Apache 2.0\n",
            "Location: /usr/local/lib/python3.6/dist-packages\n",
            "Requires: gast, numpy, astunparse, tensorboard, tensorflow-estimator, termcolor, wrapt, google-pasta, opt-einsum, grpcio, scipy, h5py, six, keras-preprocessing, absl-py, protobuf, wheel\n",
            "Required-by: \n"
          ],
          "name": "stdout"
        }
      ]
    },
    {
      "cell_type": "code",
      "metadata": {
        "id": "i-Ium3RsJTM1",
        "colab_type": "code",
        "colab": {}
      },
      "source": [
        "import tensorflow as tf"
      ],
      "execution_count": 0,
      "outputs": []
    },
    {
      "cell_type": "code",
      "metadata": {
        "id": "2wDnBN8RACua",
        "colab_type": "code",
        "colab": {}
      },
      "source": [
        "from tensorflow.keras.utils import to_categorical\n",
        "import numpy as np\n",
        "\n",
        "X_train = tf.keras.utils.normalize(np.asarray(list(train_df_reshaped['image'])), axis = 1)\n",
        "X_test = tf.keras.utils.normalize(np.asarray(list(test_df_reshaped['image'])), axis = 1)\n",
        "\n",
        "y_train = to_categorical(train_df_reshaped['label'].astype('category').cat.codes.astype('int32'))\n",
        "y_test = to_categorical(test_df_reshaped['label'].astype('category').cat.codes.astype('int32'))"
      ],
      "execution_count": 0,
      "outputs": []
    },
    {
      "cell_type": "code",
      "metadata": {
        "id": "sOG3bi2slMco",
        "colab_type": "code",
        "outputId": "8a8a685e-5ed8-4e78-8cf6-297c6ebc0f0a",
        "colab": {
          "base_uri": "https://localhost:8080/",
          "height": 34
        }
      },
      "source": [
        "X_train.shape, y_train.shape, X_test.shape, y_test.shape"
      ],
      "execution_count": 15,
      "outputs": [
        {
          "output_type": "execute_result",
          "data": {
            "text/plain": [
              "((27455, 28, 28, 1), (27455, 24), (7172, 28, 28, 1), (7172, 24))"
            ]
          },
          "metadata": {
            "tags": []
          },
          "execution_count": 15
        }
      ]
    },
    {
      "cell_type": "code",
      "metadata": {
        "id": "u8mEQ38cA9Fs",
        "colab_type": "code",
        "colab": {}
      },
      "source": [
        "CLASSES_N = y_train.shape[1]"
      ],
      "execution_count": 0,
      "outputs": []
    },
    {
      "cell_type": "code",
      "metadata": {
        "id": "b0cFJ4s5FN2_",
        "colab_type": "code",
        "colab": {}
      },
      "source": [
        "from tensorflow.keras.models import Sequential\n",
        "from tensorflow.keras.layers import AveragePooling2D, Conv2D, Dense, Flatten\n",
        "\n",
        "model = tf.keras.Sequential()\n",
        "\n",
        "model.add(Conv2D(6, kernel_size = (5, 5), strides = (1, 1), activation = 'tanh', padding = 'same',\n",
        "                   input_shape = (IMAGE_DIM, IMAGE_DIM, 1)))\n",
        "model.add(AveragePooling2D(pool_size = (2, 2), strides = (2, 2), padding = 'valid'))\n",
        "model.add(Conv2D(16, kernel_size = (5, 5), strides = (1, 1), activation = 'tanh', padding = 'valid'))\n",
        "model.add(AveragePooling2D(pool_size = (2, 2), strides = (2, 2), padding = 'valid'))\n",
        "model.add(Flatten())\n",
        "model.add(Dense(120, activation = 'tanh'))\n",
        "model.add(Dense(84, activation = 'tanh'))\n",
        "model.add(Dense(CLASSES_N, activation = 'softmax'))"
      ],
      "execution_count": 0,
      "outputs": []
    },
    {
      "cell_type": "code",
      "metadata": {
        "id": "bo7TE0JOGabq",
        "colab_type": "code",
        "colab": {}
      },
      "source": [
        "model.compile(optimizer = 'adam',\n",
        "              loss = 'categorical_crossentropy',\n",
        "              metrics = ['categorical_accuracy'])"
      ],
      "execution_count": 0,
      "outputs": []
    },
    {
      "cell_type": "code",
      "metadata": {
        "colab_type": "code",
        "outputId": "c9c544a2-17a4-48ac-bba5-b65a35bd70b4",
        "id": "SdowxeAVaqmz",
        "colab": {
          "base_uri": "https://localhost:8080/",
          "height": 439
        }
      },
      "source": [
        "model.summary()"
      ],
      "execution_count": 19,
      "outputs": [
        {
          "output_type": "stream",
          "text": [
            "Model: \"sequential\"\n",
            "_________________________________________________________________\n",
            "Layer (type)                 Output Shape              Param #   \n",
            "=================================================================\n",
            "conv2d (Conv2D)              (None, 28, 28, 6)         156       \n",
            "_________________________________________________________________\n",
            "average_pooling2d (AveragePo (None, 14, 14, 6)         0         \n",
            "_________________________________________________________________\n",
            "conv2d_1 (Conv2D)            (None, 10, 10, 16)        2416      \n",
            "_________________________________________________________________\n",
            "average_pooling2d_1 (Average (None, 5, 5, 16)          0         \n",
            "_________________________________________________________________\n",
            "flatten (Flatten)            (None, 400)               0         \n",
            "_________________________________________________________________\n",
            "dense (Dense)                (None, 120)               48120     \n",
            "_________________________________________________________________\n",
            "dense_1 (Dense)              (None, 84)                10164     \n",
            "_________________________________________________________________\n",
            "dense_2 (Dense)              (None, 24)                2040      \n",
            "=================================================================\n",
            "Total params: 62,896\n",
            "Trainable params: 62,896\n",
            "Non-trainable params: 0\n",
            "_________________________________________________________________\n"
          ],
          "name": "stdout"
        }
      ]
    },
    {
      "cell_type": "code",
      "metadata": {
        "id": "jYpxqvQMGiy6",
        "colab_type": "code",
        "outputId": "38869f38-1ee0-4b85-ed35-c592118db8ef",
        "colab": {
          "base_uri": "https://localhost:8080/",
          "height": 741
        }
      },
      "source": [
        "history = model.fit(x = X_train, y = y_train, epochs = 20, validation_split = 0.15)"
      ],
      "execution_count": 20,
      "outputs": [
        {
          "output_type": "stream",
          "text": [
            "Epoch 1/20\n",
            "730/730 [==============================] - 3s 4ms/step - loss: 1.2839 - categorical_accuracy: 0.6213 - val_loss: 0.6058 - val_categorical_accuracy: 0.8237\n",
            "Epoch 2/20\n",
            "730/730 [==============================] - 3s 4ms/step - loss: 0.3387 - categorical_accuracy: 0.9224 - val_loss: 0.1501 - val_categorical_accuracy: 0.9852\n",
            "Epoch 3/20\n",
            "730/730 [==============================] - 3s 4ms/step - loss: 0.0872 - categorical_accuracy: 0.9943 - val_loss: 0.0430 - val_categorical_accuracy: 0.9998\n",
            "Epoch 4/20\n",
            "730/730 [==============================] - 3s 4ms/step - loss: 0.0279 - categorical_accuracy: 0.9999 - val_loss: 0.0172 - val_categorical_accuracy: 1.0000\n",
            "Epoch 5/20\n",
            "730/730 [==============================] - 3s 4ms/step - loss: 0.0119 - categorical_accuracy: 1.0000 - val_loss: 0.0081 - val_categorical_accuracy: 1.0000\n",
            "Epoch 6/20\n",
            "730/730 [==============================] - 3s 4ms/step - loss: 0.0065 - categorical_accuracy: 0.9999 - val_loss: 0.0046 - val_categorical_accuracy: 1.0000\n",
            "Epoch 7/20\n",
            "730/730 [==============================] - 3s 4ms/step - loss: 0.0035 - categorical_accuracy: 1.0000 - val_loss: 0.0026 - val_categorical_accuracy: 1.0000\n",
            "Epoch 8/20\n",
            "730/730 [==============================] - 3s 4ms/step - loss: 0.0021 - categorical_accuracy: 1.0000 - val_loss: 0.0016 - val_categorical_accuracy: 1.0000\n",
            "Epoch 9/20\n",
            "730/730 [==============================] - 3s 4ms/step - loss: 0.0013 - categorical_accuracy: 1.0000 - val_loss: 0.0011 - val_categorical_accuracy: 1.0000\n",
            "Epoch 10/20\n",
            "730/730 [==============================] - 3s 4ms/step - loss: 8.4052e-04 - categorical_accuracy: 1.0000 - val_loss: 6.6852e-04 - val_categorical_accuracy: 1.0000\n",
            "Epoch 11/20\n",
            "730/730 [==============================] - 3s 4ms/step - loss: 5.4248e-04 - categorical_accuracy: 1.0000 - val_loss: 4.6793e-04 - val_categorical_accuracy: 1.0000\n",
            "Epoch 12/20\n",
            "730/730 [==============================] - 3s 4ms/step - loss: 3.6096e-04 - categorical_accuracy: 1.0000 - val_loss: 2.9138e-04 - val_categorical_accuracy: 1.0000\n",
            "Epoch 13/20\n",
            "730/730 [==============================] - 3s 4ms/step - loss: 2.3311e-04 - categorical_accuracy: 1.0000 - val_loss: 1.9329e-04 - val_categorical_accuracy: 1.0000\n",
            "Epoch 14/20\n",
            "730/730 [==============================] - 3s 4ms/step - loss: 1.5398e-04 - categorical_accuracy: 1.0000 - val_loss: 1.3504e-04 - val_categorical_accuracy: 1.0000\n",
            "Epoch 15/20\n",
            "730/730 [==============================] - 3s 4ms/step - loss: 1.0419e-04 - categorical_accuracy: 1.0000 - val_loss: 8.6794e-05 - val_categorical_accuracy: 1.0000\n",
            "Epoch 16/20\n",
            "730/730 [==============================] - 3s 4ms/step - loss: 7.0365e-05 - categorical_accuracy: 1.0000 - val_loss: 5.9591e-05 - val_categorical_accuracy: 1.0000\n",
            "Epoch 17/20\n",
            "730/730 [==============================] - 3s 4ms/step - loss: 0.0283 - categorical_accuracy: 0.9922 - val_loss: 9.3350e-04 - val_categorical_accuracy: 1.0000\n",
            "Epoch 18/20\n",
            "730/730 [==============================] - 3s 4ms/step - loss: 5.7962e-04 - categorical_accuracy: 1.0000 - val_loss: 4.6569e-04 - val_categorical_accuracy: 1.0000\n",
            "Epoch 19/20\n",
            "730/730 [==============================] - 3s 4ms/step - loss: 3.4192e-04 - categorical_accuracy: 1.0000 - val_loss: 3.1113e-04 - val_categorical_accuracy: 1.0000\n",
            "Epoch 20/20\n",
            "730/730 [==============================] - 3s 4ms/step - loss: 2.3316e-04 - categorical_accuracy: 1.0000 - val_loss: 2.1958e-04 - val_categorical_accuracy: 1.0000\n"
          ],
          "name": "stdout"
        }
      ]
    },
    {
      "cell_type": "code",
      "metadata": {
        "id": "i2xpKgYIbszv",
        "colab_type": "code",
        "colab": {}
      },
      "source": [
        "%matplotlib inline\n",
        "\n",
        "import matplotlib.pyplot as plt"
      ],
      "execution_count": 0,
      "outputs": []
    },
    {
      "cell_type": "code",
      "metadata": {
        "id": "_wgcEzxybuDg",
        "colab_type": "code",
        "colab": {
          "base_uri": "https://localhost:8080/",
          "height": 72
        },
        "outputId": "5d87a660-c96f-43fb-db04-1aac5aa39b28"
      },
      "source": [
        "import seaborn as sns\n",
        "\n",
        "from matplotlib import rcParams\n",
        "\n",
        "rcParams['figure.figsize'] = 11.7, 8.27\n",
        "\n",
        "sns.set()\n",
        "\n",
        "sns.set_palette(sns.color_palette('hls'))"
      ],
      "execution_count": 22,
      "outputs": [
        {
          "output_type": "stream",
          "text": [
            "/usr/local/lib/python3.6/dist-packages/statsmodels/tools/_testing.py:19: FutureWarning: pandas.util.testing is deprecated. Use the functions in the public API at pandas.testing instead.\n",
            "  import pandas.util.testing as tm\n"
          ],
          "name": "stderr"
        }
      ]
    },
    {
      "cell_type": "code",
      "metadata": {
        "id": "r9ywQU8cbwA-",
        "colab_type": "code",
        "colab": {
          "base_uri": "https://localhost:8080/",
          "height": 1000
        },
        "outputId": "9beb847a-75fb-4d0e-8c60-6f0485e6116a"
      },
      "source": [
        "plt.plot(history.history['categorical_accuracy'])\n",
        "plt.plot(history.history['val_categorical_accuracy'])\n",
        "plt.title('Model accuracy')\n",
        "plt.ylabel('Accuracy')\n",
        "plt.xlabel('Epoch')\n",
        "plt.legend(['Train', 'Validation'], loc = 'upper left')\n",
        "plt.show()\n",
        "\n",
        "plt.plot(history.history['loss'])\n",
        "plt.plot(history.history['val_loss'])\n",
        "plt.title('Model loss')\n",
        "plt.ylabel('Loss')\n",
        "plt.xlabel('Epoch')\n",
        "plt.legend(['Train', 'Validation'], loc = 'upper left')\n",
        "plt.show()"
      ],
      "execution_count": 23,
      "outputs": [
        {
          "output_type": "display_data",
          "data": {
            "image/png": "[encoded data removed]",
            "text/plain": [
              "<Figure size 842.4x595.44 with 1 Axes>"
            ]
          },
          "metadata": {
            "tags": []
          }
        },
        {
          "output_type": "display_data",
          "data": {
            "image/png": "[encoded data removed]",
            "text/plain": [
              "<Figure size 842.4x595.44 with 1 Axes>"
            ]
          },
          "metadata": {
            "tags": []
          }
        }
      ]
    },
    {
      "cell_type": "code",
      "metadata": {
        "id": "tLqAfoeSlVM9",
        "colab_type": "code",
        "outputId": "cff6f315-d7de-438e-e83c-de64a9798d03",
        "colab": {
          "base_uri": "https://localhost:8080/",
          "height": 52
        }
      },
      "source": [
        "results = model.evaluate(X_test, y_test)\n",
        "\n",
        "print('Test loss, test accuracy:', results)"
      ],
      "execution_count": 24,
      "outputs": [
        {
          "output_type": "stream",
          "text": [
            "225/225 [==============================] - 1s 2ms/step - loss: 0.7200 - categorical_accuracy: 0.8441\n",
            "Test loss, test accuracy: [0.720040500164032, 0.8441160321235657]\n"
          ],
          "name": "stdout"
        }
      ]
    },
    {
      "cell_type": "markdown",
      "metadata": {
        "id": "s0IKq9rnDL0v",
        "colab_type": "text"
      },
      "source": [
        "За 20 эпох удалось достичь точности 84% на тестовой выборке."
      ]
    },
    {
      "cell_type": "markdown",
      "metadata": {
        "id": "jDd07Vzwf4fM",
        "colab_type": "text"
      },
      "source": [
        "### Задание 3\n",
        "\n",
        "Примените дополнение данных (_data augmentation_). Как это повлияло на качество классификатора?"
      ]
    },
    {
      "cell_type": "code",
      "metadata": {
        "id": "06eplvBAbaqo",
        "colab_type": "code",
        "colab": {}
      },
      "source": [
        "def augment_image(image):\n",
        "\n",
        "  image = tf.image.convert_image_dtype(image, tf.float32)\n",
        "  image = tf.image.resize_with_crop_or_pad(image, IMAGE_DIM + 6, IMAGE_DIM + 6)\n",
        "  image = tf.image.random_crop(image, size = [IMAGE_DIM, IMAGE_DIM, 1])\n",
        "\n",
        "  return image.numpy()"
      ],
      "execution_count": 0,
      "outputs": []
    },
    {
      "cell_type": "code",
      "metadata": {
        "id": "FS1YVgFJbVKy",
        "colab_type": "code",
        "outputId": "f5ed4b33-6524-478f-9a58-11d1744678ed",
        "colab": {
          "base_uri": "https://localhost:8080/",
          "height": 34
        }
      },
      "source": [
        "X_train_augmented = np.zeros_like(X_train)\n",
        "\n",
        "for i, img in enumerate(X_train):\n",
        "\n",
        "    X_train_augmented[i] = augment_image(img)\n",
        "\n",
        "X_train_augmented.shape"
      ],
      "execution_count": 26,
      "outputs": [
        {
          "output_type": "execute_result",
          "data": {
            "text/plain": [
              "(27455, 28, 28, 1)"
            ]
          },
          "metadata": {
            "tags": []
          },
          "execution_count": 26
        }
      ]
    },
    {
      "cell_type": "code",
      "metadata": {
        "id": "KcXa5asIdtFB",
        "colab_type": "code",
        "colab": {}
      },
      "source": [
        "y_train_augmented = y_train"
      ],
      "execution_count": 0,
      "outputs": []
    },
    {
      "cell_type": "code",
      "metadata": {
        "id": "zphHpK8CMFbB",
        "colab_type": "code",
        "outputId": "c3119a01-aa8d-4c4b-f07f-ab9722bf2ff4",
        "colab": {
          "base_uri": "https://localhost:8080/",
          "height": 741
        }
      },
      "source": [
        "history_2 = model.fit(x = X_train_augmented, y = y_train_augmented, epochs = 20, validation_split = 0.15)"
      ],
      "execution_count": 28,
      "outputs": [
        {
          "output_type": "stream",
          "text": [
            "Epoch 1/20\n",
            "730/730 [==============================] - 3s 4ms/step - loss: 1.4882 - categorical_accuracy: 0.5935 - val_loss: 0.9350 - val_categorical_accuracy: 0.7038\n",
            "Epoch 2/20\n",
            "730/730 [==============================] - 3s 4ms/step - loss: 0.7458 - categorical_accuracy: 0.7629 - val_loss: 0.7156 - val_categorical_accuracy: 0.7762\n",
            "Epoch 3/20\n",
            "730/730 [==============================] - 3s 4ms/step - loss: 0.5453 - categorical_accuracy: 0.8287 - val_loss: 0.5752 - val_categorical_accuracy: 0.8123\n",
            "Epoch 4/20\n",
            "730/730 [==============================] - 3s 4ms/step - loss: 0.4258 - categorical_accuracy: 0.8715 - val_loss: 0.4928 - val_categorical_accuracy: 0.8444\n",
            "Epoch 5/20\n",
            "730/730 [==============================] - 3s 4ms/step - loss: 0.3402 - categorical_accuracy: 0.8977 - val_loss: 0.4242 - val_categorical_accuracy: 0.8740\n",
            "Epoch 6/20\n",
            "730/730 [==============================] - 3s 4ms/step - loss: 0.2777 - categorical_accuracy: 0.9204 - val_loss: 0.3704 - val_categorical_accuracy: 0.8878\n",
            "Epoch 7/20\n",
            "730/730 [==============================] - 3s 4ms/step - loss: 0.2303 - categorical_accuracy: 0.9347 - val_loss: 0.3587 - val_categorical_accuracy: 0.8898\n",
            "Epoch 8/20\n",
            "730/730 [==============================] - 3s 4ms/step - loss: 0.1896 - categorical_accuracy: 0.9472 - val_loss: 0.3076 - val_categorical_accuracy: 0.8995\n",
            "Epoch 9/20\n",
            "730/730 [==============================] - 3s 4ms/step - loss: 0.1572 - categorical_accuracy: 0.9579 - val_loss: 0.2898 - val_categorical_accuracy: 0.9119\n",
            "Epoch 10/20\n",
            "730/730 [==============================] - 3s 4ms/step - loss: 0.1344 - categorical_accuracy: 0.9635 - val_loss: 0.2764 - val_categorical_accuracy: 0.9155\n",
            "Epoch 11/20\n",
            "730/730 [==============================] - 3s 4ms/step - loss: 0.1129 - categorical_accuracy: 0.9708 - val_loss: 0.2405 - val_categorical_accuracy: 0.9272\n",
            "Epoch 12/20\n",
            "730/730 [==============================] - 3s 4ms/step - loss: 0.0956 - categorical_accuracy: 0.9762 - val_loss: 0.2428 - val_categorical_accuracy: 0.9240\n",
            "Epoch 13/20\n",
            "730/730 [==============================] - 3s 4ms/step - loss: 0.0815 - categorical_accuracy: 0.9798 - val_loss: 0.2197 - val_categorical_accuracy: 0.9315\n",
            "Epoch 14/20\n",
            "730/730 [==============================] - 3s 4ms/step - loss: 0.0701 - categorical_accuracy: 0.9836 - val_loss: 0.2292 - val_categorical_accuracy: 0.9279\n",
            "Epoch 15/20\n",
            "730/730 [==============================] - 3s 4ms/step - loss: 0.0619 - categorical_accuracy: 0.9856 - val_loss: 0.2041 - val_categorical_accuracy: 0.9420\n",
            "Epoch 16/20\n",
            "730/730 [==============================] - 3s 4ms/step - loss: 0.0572 - categorical_accuracy: 0.9856 - val_loss: 0.2073 - val_categorical_accuracy: 0.9374\n",
            "Epoch 17/20\n",
            "730/730 [==============================] - 3s 4ms/step - loss: 0.0584 - categorical_accuracy: 0.9842 - val_loss: 0.2021 - val_categorical_accuracy: 0.9354\n",
            "Epoch 18/20\n",
            "730/730 [==============================] - 3s 4ms/step - loss: 0.0446 - categorical_accuracy: 0.9900 - val_loss: 0.1930 - val_categorical_accuracy: 0.9429\n",
            "Epoch 19/20\n",
            "730/730 [==============================] - 3s 4ms/step - loss: 0.0402 - categorical_accuracy: 0.9909 - val_loss: 0.2038 - val_categorical_accuracy: 0.9420\n",
            "Epoch 20/20\n",
            "730/730 [==============================] - 3s 4ms/step - loss: 0.0364 - categorical_accuracy: 0.9920 - val_loss: 0.2035 - val_categorical_accuracy: 0.9422\n"
          ],
          "name": "stdout"
        }
      ]
    },
    {
      "cell_type": "code",
      "metadata": {
        "id": "5C_pzckOb6u8",
        "colab_type": "code",
        "colab": {
          "base_uri": "https://localhost:8080/",
          "height": 1000
        },
        "outputId": "7f40b1d8-1ac8-4d43-ef5c-2b3f5c15bc81"
      },
      "source": [
        "plt.plot(history_2.history['categorical_accuracy'])\n",
        "plt.plot(history_2.history['val_categorical_accuracy'])\n",
        "plt.title('Model accuracy')\n",
        "plt.ylabel('Accuracy')\n",
        "plt.xlabel('Epoch')\n",
        "plt.legend(['Train', 'Validation'], loc = 'upper left')\n",
        "plt.show()\n",
        "\n",
        "plt.plot(history_2.history['loss'])\n",
        "plt.plot(history_2.history['val_loss'])\n",
        "plt.title('Model loss')\n",
        "plt.ylabel('Loss')\n",
        "plt.xlabel('Epoch')\n",
        "plt.legend(['Train', 'Validation'], loc = 'upper left')\n",
        "plt.show()"
      ],
      "execution_count": 29,
      "outputs": [
        {
          "output_type": "display_data",
          "data": {
            "image/png": "[encoded data removed]",
            "text/plain": [
              "<Figure size 842.4x595.44 with 1 Axes>"
            ]
          },
          "metadata": {
            "tags": []
          }
        },
        {
          "output_type": "display_data",
          "data": {
            "image/png": "[encoded data removed]",
            "text/plain": [
              "<Figure size 842.4x595.44 with 1 Axes>"
            ]
          },
          "metadata": {
            "tags": []
          }
        }
      ]
    },
    {
      "cell_type": "code",
      "metadata": {
        "id": "UriSZMNWeFFQ",
        "colab_type": "code",
        "outputId": "3ec3bc8b-d88a-4880-e782-78c79b9e8859",
        "colab": {
          "base_uri": "https://localhost:8080/",
          "height": 52
        }
      },
      "source": [
        "results_2 = model.evaluate(X_test, y_test)\n",
        "\n",
        "print('Test loss, test accuracy:', results_2)"
      ],
      "execution_count": 30,
      "outputs": [
        {
          "output_type": "stream",
          "text": [
            "225/225 [==============================] - 1s 3ms/step - loss: 0.3715 - categorical_accuracy: 0.9106\n",
            "Test loss, test accuracy: [0.371463805437088, 0.910624623298645]\n"
          ],
          "name": "stdout"
        }
      ]
    },
    {
      "cell_type": "markdown",
      "metadata": {
        "id": "8QA8Rva5eJ63",
        "colab_type": "text"
      },
      "source": [
        "После того, как сеть обучилась на тех же данных, к которым был применён _data augmentation_, точность предсказания на тестовой выборке увеличилась до 91%."
      ]
    },
    {
      "cell_type": "markdown",
      "metadata": {
        "id": "8nPvDhWtf9EW",
        "colab_type": "text"
      },
      "source": [
        "### Задание 4\n",
        "\n",
        "Поэкспериментируйте с готовыми нейронными сетями (например, _AlexNet_, _VGG16_, _Inception_ и т.п.), применив передаточное обучение. Как это повлияло на качество классификатора? Можно ли было обойтись без него?\n",
        "\n",
        "Какой максимальный результат удалось получить на контрольной выборке?"
      ]
    }
  ]
}