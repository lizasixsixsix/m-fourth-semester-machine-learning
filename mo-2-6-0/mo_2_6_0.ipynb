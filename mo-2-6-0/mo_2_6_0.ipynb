{
  "nbformat": 4,
  "nbformat_minor": 0,
  "metadata": {
    "colab": {
      "name": "mo-2-6-0.ipynb",
      "provenance": [],
      "collapsed_sections": [],
      "toc_visible": true,
      "machine_shape": "hm"
    },
    "kernelspec": {
      "name": "python3",
      "display_name": "Python 3"
    },
    "accelerator": "GPU"
  },
  "cells": [
    {
      "cell_type": "markdown",
      "metadata": {
        "id": "K_cfSTC_fExd",
        "colab_type": "text"
      },
      "source": [
        "# Лабораторная работа №6\n",
        "\n",
        "## Применение сверточных нейронных сетей (многоклассовая классификация)"
      ]
    },
    {
      "cell_type": "markdown",
      "metadata": {
        "id": "rj2xTHG6fYhe",
        "colab_type": "text"
      },
      "source": [
        "Набор данных для распознавания языка жестов, который состоит из изображений размерности 28x28 в оттенках серого (значение пикселя от 0 до 255).\n",
        "\n",
        "Каждое из изображений обозначает букву латинского алфавита, обозначенную с помощью жеста (изображения в наборе данных в оттенках серого).\n",
        "\n",
        "Обучающая выборка включает в себя 27,455 изображений, а контрольная выборка содержит 7172 изображения.\n",
        "\n",
        "Данные в виде _csv_-файлов можно скачать на сайте _Kaggle_: https://www.kaggle.com/datamunge/sign-language-mnist"
      ]
    },
    {
      "cell_type": "markdown",
      "metadata": {
        "id": "2R2bvokTfwuG",
        "colab_type": "text"
      },
      "source": [
        "### Задание 1\n",
        "\n",
        "Загрузите данные. Разделите исходный набор данных на обучающую и валидационную выборки."
      ]
    },
    {
      "cell_type": "code",
      "metadata": {
        "id": "xSU2rJJGrn5s",
        "colab_type": "code",
        "outputId": "2addd75b-5fde-4d55-98fb-ac0f567f30f9",
        "colab": {
          "base_uri": "https://localhost:8080/",
          "height": 34
        }
      },
      "source": [
        "from google.colab import drive\n",
        "\n",
        "drive.mount('/content/drive', force_remount = True)"
      ],
      "execution_count": 1,
      "outputs": [
        {
          "output_type": "stream",
          "text": [
            "Mounted at /content/drive\n"
          ],
          "name": "stdout"
        }
      ]
    },
    {
      "cell_type": "code",
      "metadata": {
        "id": "gw--OkDXry4a",
        "colab_type": "code",
        "colab": {}
      },
      "source": [
        "BASE_DIR = '/content/drive/My Drive/Colab Files/mo-2'\n",
        "\n",
        "import sys\n",
        "\n",
        "sys.path.append(BASE_DIR)\n",
        "\n",
        "import os"
      ],
      "execution_count": 0,
      "outputs": []
    },
    {
      "cell_type": "code",
      "metadata": {
        "id": "BLSt5UKjr2q6",
        "colab_type": "code",
        "colab": {}
      },
      "source": [
        "DATA_ARCHIVE_NAME = 'sign-language-mnist.zip'\n",
        "\n",
        "LOCAL_DIR_NAME = 'sign-language'"
      ],
      "execution_count": 0,
      "outputs": []
    },
    {
      "cell_type": "code",
      "metadata": {
        "id": "ZRDKuhNDsHcv",
        "colab_type": "code",
        "colab": {}
      },
      "source": [
        "from zipfile import ZipFile\n",
        "\n",
        "with ZipFile(os.path.join(BASE_DIR, DATA_ARCHIVE_NAME), 'r') as zip_:\n",
        "    zip_.extractall(path = os.path.join(LOCAL_DIR_NAME, 'train'))"
      ],
      "execution_count": 0,
      "outputs": []
    },
    {
      "cell_type": "code",
      "metadata": {
        "id": "2eaDS5TrsMIl",
        "colab_type": "code",
        "colab": {}
      },
      "source": [
        "TRAIN_FILE_PATH = 'sign-language/train/sign_mnist_train.csv'\n",
        "TEST_FILE_PATH = 'sign-language/train/sign_mnist_test.csv'"
      ],
      "execution_count": 0,
      "outputs": []
    },
    {
      "cell_type": "code",
      "metadata": {
        "id": "_xZdjccQssbH",
        "colab_type": "code",
        "colab": {}
      },
      "source": [
        "import pandas as pd\n",
        "\n",
        "train_df = pd.read_csv(TRAIN_FILE_PATH)\n",
        "test_df = pd.read_csv(TEST_FILE_PATH)"
      ],
      "execution_count": 0,
      "outputs": []
    },
    {
      "cell_type": "code",
      "metadata": {
        "id": "olZmSdvitTTf",
        "colab_type": "code",
        "colab": {}
      },
      "source": [
        "all_df = pd.concat([train_df, test_df])"
      ],
      "execution_count": 0,
      "outputs": []
    },
    {
      "cell_type": "code",
      "metadata": {
        "id": "HIs-JqDptwi7",
        "colab_type": "code",
        "outputId": "ad2096af-d564-48f8-a39c-6fffdb3f5361",
        "colab": {
          "base_uri": "https://localhost:8080/",
          "height": 34
        }
      },
      "source": [
        "print(all_df.shape)"
      ],
      "execution_count": 8,
      "outputs": [
        {
          "output_type": "stream",
          "text": [
            "(34627, 785)\n"
          ],
          "name": "stdout"
        }
      ]
    },
    {
      "cell_type": "code",
      "metadata": {
        "id": "-WTptMAe7IFq",
        "colab_type": "code",
        "colab": {}
      },
      "source": [
        "IMAGE_DIM = 28"
      ],
      "execution_count": 0,
      "outputs": []
    },
    {
      "cell_type": "code",
      "metadata": {
        "id": "BxYJPtuG7jpb",
        "colab_type": "code",
        "colab": {}
      },
      "source": [
        "def row_to_label(_row):\n",
        "    return _row[0]\n",
        "\n",
        "def row_to_one_image(_row):\n",
        "    return _row[1:].values.reshape((IMAGE_DIM, IMAGE_DIM, 1))"
      ],
      "execution_count": 0,
      "outputs": []
    },
    {
      "cell_type": "code",
      "metadata": {
        "id": "01Fmd0L49EEF",
        "colab_type": "code",
        "colab": {}
      },
      "source": [
        "def to_images_and_labels(_dataframe):\n",
        "\n",
        "    llll = _dataframe.apply(lambda row: row_to_label(row), axis = 1)\n",
        "    mmmm = _dataframe.apply(lambda row: row_to_one_image(row), axis = 1)\n",
        "\n",
        "    data_dict_ = { 'label': llll, 'image': mmmm }\n",
        "\n",
        "    reshaped_ = pd.DataFrame(data_dict_, columns = ['label', 'image'])\n",
        "\n",
        "    return reshaped_"
      ],
      "execution_count": 0,
      "outputs": []
    },
    {
      "cell_type": "code",
      "metadata": {
        "id": "7PeWh5EJM6pG",
        "colab_type": "code",
        "colab": {}
      },
      "source": [
        "all_df_reshaped = to_images_and_labels(all_df)"
      ],
      "execution_count": 0,
      "outputs": []
    },
    {
      "cell_type": "markdown",
      "metadata": {
        "id": "u0p2LpcBf02u",
        "colab_type": "text"
      },
      "source": [
        "### Задание 2\n",
        "\n",
        "Реализуйте глубокую нейронную сеть со сверточными слоями. Какое качество классификации получено? Какая архитектура сети была использована?"
      ]
    },
    {
      "cell_type": "markdown",
      "metadata": {
        "id": "xlORE3O0FQQ8",
        "colab_type": "text"
      },
      "source": [
        "Возьмём _LeNet-5_."
      ]
    },
    {
      "cell_type": "code",
      "metadata": {
        "id": "CxG1n5fUJP9d",
        "colab_type": "code",
        "colab": {
          "base_uri": "https://localhost:8080/",
          "height": 213
        },
        "outputId": "90985ee5-82ec-4ab1-abd4-6745ea7c0fe1"
      },
      "source": [
        "! pip install tensorflow-gpu --pre --quiet\n",
        "\n",
        "! pip show tensorflow-gpu"
      ],
      "execution_count": 13,
      "outputs": [
        {
          "output_type": "stream",
          "text": [
            "Name: tensorflow-gpu\n",
            "Version: 2.2.0rc3\n",
            "Summary: TensorFlow is an open source machine learning framework for everyone.\n",
            "Home-page: https://www.tensorflow.org/\n",
            "Author: Google Inc.\n",
            "Author-email: packages@tensorflow.org\n",
            "License: Apache 2.0\n",
            "Location: /usr/local/lib/python3.6/dist-packages\n",
            "Requires: google-pasta, keras-preprocessing, wrapt, numpy, h5py, tensorboard, scipy, opt-einsum, tensorflow-estimator, protobuf, six, wheel, termcolor, grpcio, absl-py, gast, astunparse\n",
            "Required-by: \n"
          ],
          "name": "stdout"
        }
      ]
    },
    {
      "cell_type": "code",
      "metadata": {
        "id": "2wDnBN8RACua",
        "colab_type": "code",
        "colab": {}
      },
      "source": [
        "from tensorflow.keras.utils import to_categorical\n",
        "import numpy as np\n",
        "\n",
        "X = np.asarray(list(all_df_reshaped['image']))\n",
        "\n",
        "y = to_categorical(all_df_reshaped['label'].astype('category').cat.codes.astype('int32'))"
      ],
      "execution_count": 0,
      "outputs": []
    },
    {
      "cell_type": "code",
      "metadata": {
        "id": "u8mEQ38cA9Fs",
        "colab_type": "code",
        "colab": {}
      },
      "source": [
        "CLASSES_N = y.shape[1]"
      ],
      "execution_count": 0,
      "outputs": []
    },
    {
      "cell_type": "code",
      "metadata": {
        "id": "i-Ium3RsJTM1",
        "colab_type": "code",
        "colab": {}
      },
      "source": [
        "import tensorflow as tf"
      ],
      "execution_count": 0,
      "outputs": []
    },
    {
      "cell_type": "code",
      "metadata": {
        "id": "b0cFJ4s5FN2_",
        "colab_type": "code",
        "colab": {}
      },
      "source": [
        "from tensorflow.keras.models import Sequential\n",
        "from tensorflow.keras.layers import AveragePooling2D, Conv2D, Dense, Flatten\n",
        "\n",
        "model = tf.keras.Sequential()\n",
        "\n",
        "model.add(Conv2D(6, kernel_size = (5, 5), strides = (1, 1), activation = 'tanh', padding = 'same',\n",
        "                   input_shape = (IMAGE_DIM, IMAGE_DIM, 1)))\n",
        "model.add(AveragePooling2D(pool_size = (2, 2), strides = (2, 2), padding = 'valid'))\n",
        "model.add(Conv2D(16, kernel_size = (5, 5), strides = (1, 1), activation = 'tanh', padding = 'valid'))\n",
        "model.add(AveragePooling2D(pool_size = (2, 2), strides = (2, 2), padding = 'valid'))\n",
        "model.add(Flatten())\n",
        "model.add(Dense(120, activation = 'tanh'))\n",
        "model.add(Dense(84, activation = 'tanh'))\n",
        "model.add(Dense(CLASSES_N, activation = 'softmax'))"
      ],
      "execution_count": 0,
      "outputs": []
    },
    {
      "cell_type": "code",
      "metadata": {
        "id": "bo7TE0JOGabq",
        "colab_type": "code",
        "colab": {}
      },
      "source": [
        "model.compile(optimizer = 'adam',\n",
        "              loss = 'categorical_crossentropy',\n",
        "              metrics = ['categorical_accuracy'])"
      ],
      "execution_count": 0,
      "outputs": []
    },
    {
      "cell_type": "code",
      "metadata": {
        "id": "jYpxqvQMGiy6",
        "colab_type": "code",
        "colab": {
          "base_uri": "https://localhost:8080/",
          "height": 406
        },
        "outputId": "525db1c1-ea98-4698-b3c9-36e401a3d598"
      },
      "source": [
        "model.fit(x = X, y = y, epochs = 10, validation_split = 0.15)"
      ],
      "execution_count": 19,
      "outputs": [
        {
          "output_type": "stream",
          "text": [
            "Epoch 1/10\n",
            "920/920 [==============================] - 4s 4ms/step - loss: 0.8570 - categorical_accuracy: 0.7699 - val_loss: 0.2257 - val_categorical_accuracy: 0.9575\n",
            "Epoch 2/10\n",
            "920/920 [==============================] - 3s 4ms/step - loss: 0.0546 - categorical_accuracy: 0.9943 - val_loss: 0.0513 - val_categorical_accuracy: 0.9919\n",
            "Epoch 3/10\n",
            "920/920 [==============================] - 3s 4ms/step - loss: 0.0288 - categorical_accuracy: 0.9946 - val_loss: 0.0454 - val_categorical_accuracy: 0.9896\n",
            "Epoch 4/10\n",
            "920/920 [==============================] - 3s 4ms/step - loss: 0.0082 - categorical_accuracy: 0.9989 - val_loss: 0.0063 - val_categorical_accuracy: 0.9996\n",
            "Epoch 5/10\n",
            "920/920 [==============================] - 3s 4ms/step - loss: 0.0015 - categorical_accuracy: 1.0000 - val_loss: 0.0036 - val_categorical_accuracy: 0.9998\n",
            "Epoch 6/10\n",
            "920/920 [==============================] - 3s 4ms/step - loss: 9.3112e-04 - categorical_accuracy: 1.0000 - val_loss: 0.0029 - val_categorical_accuracy: 0.9994\n",
            "Epoch 7/10\n",
            "920/920 [==============================] - 3s 4ms/step - loss: 5.6752e-04 - categorical_accuracy: 1.0000 - val_loss: 0.0019 - val_categorical_accuracy: 0.9998\n",
            "Epoch 8/10\n",
            "920/920 [==============================] - 3s 4ms/step - loss: 3.6362e-04 - categorical_accuracy: 1.0000 - val_loss: 0.0019 - val_categorical_accuracy: 0.9996\n",
            "Epoch 9/10\n",
            "920/920 [==============================] - 3s 4ms/step - loss: 2.2100e-04 - categorical_accuracy: 1.0000 - val_loss: 8.5026e-04 - val_categorical_accuracy: 1.0000\n",
            "Epoch 10/10\n",
            "920/920 [==============================] - 3s 4ms/step - loss: 0.0914 - categorical_accuracy: 0.9749 - val_loss: 0.0128 - val_categorical_accuracy: 0.9973\n"
          ],
          "name": "stdout"
        },
        {
          "output_type": "execute_result",
          "data": {
            "text/plain": [
              "<tensorflow.python.keras.callbacks.History at 0x7fe81b0658d0>"
            ]
          },
          "metadata": {
            "tags": []
          },
          "execution_count": 19
        }
      ]
    },
    {
      "cell_type": "markdown",
      "metadata": {
        "id": "s0IKq9rnDL0v",
        "colab_type": "text"
      },
      "source": [
        "За 10 эпох удалось достичь 100%-й точности на валидационной выборке!"
      ]
    },
    {
      "cell_type": "markdown",
      "metadata": {
        "id": "jDd07Vzwf4fM",
        "colab_type": "text"
      },
      "source": [
        "### Задание 3\n",
        "\n",
        "Примените дополнение данных (_data augmentation_). Как это повлияло на качество классификатора?"
      ]
    },
    {
      "cell_type": "markdown",
      "metadata": {
        "id": "8nPvDhWtf9EW",
        "colab_type": "text"
      },
      "source": [
        "### Задание 4\n",
        "\n",
        "Поэкспериментируйте с готовыми нейронными сетями (например, _AlexNet_, _VGG16_, _Inception_ и т.п.), применив передаточное обучение. Как это повлияло на качество классификатора? Можно ли было обойтись без него?\n",
        "\n",
        "Какой максимальный результат удалось получить на контрольной выборке?"
      ]
    }
  ]
}