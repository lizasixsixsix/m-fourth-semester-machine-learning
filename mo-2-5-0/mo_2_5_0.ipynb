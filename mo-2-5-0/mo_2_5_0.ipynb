{
  "nbformat": 4,
  "nbformat_minor": 0,
  "metadata": {
    "colab": {
      "name": "mo-2-5-0.ipynb",
      "provenance": [],
      "collapsed_sections": [],
      "machine_shape": "hm"
    },
    "kernelspec": {
      "name": "python3",
      "display_name": "Python 3"
    },
    "accelerator": "GPU"
  },
  "cells": [
    {
      "cell_type": "markdown",
      "metadata": {
        "id": "NpYkjliyceN1",
        "colab_type": "text"
      },
      "source": [
        "# Лабораторная работа №5\n",
        "\n",
        "## Применение сверточных нейронных сетей (бинарная классификация)"
      ]
    },
    {
      "cell_type": "markdown",
      "metadata": {
        "id": "T323qXKAdzkv",
        "colab_type": "text"
      },
      "source": [
        "Набор данных _DogsVsCats_, который состоит из изображений различной размерности, содержащих фотографии собак и кошек.\n",
        "\n",
        "Обучающая выборка включает в себя 25 тыс. изображений (12,5 тыс. кошек: _cat.0.jpg_, ..., _cat.12499.jpg_ и 12,5 тыс. собак: _dog.0.jpg_, …, _dog.12499.jpg_), а контрольная выборка содержит 12,5 тыс. неразмеченных изображений.\n",
        "\n",
        "Скачать данные, а также проверить качество классификатора на тестовой выборке можно на сайте _Kaggle_: https://www.kaggle.com/c/dogs-vs-cats/data"
      ]
    },
    {
      "cell_type": "markdown",
      "metadata": {
        "id": "XqcGtjToeWIZ",
        "colab_type": "text"
      },
      "source": [
        "### Задание 1\n",
        "\n",
        "Загрузите данные. Разделите исходный набор данных на обучающую, валидационную и контрольную выборки."
      ]
    },
    {
      "cell_type": "markdown",
      "metadata": {
        "id": "aEgu0zJ-eZ95",
        "colab_type": "text"
      },
      "source": [
        "### Задание 2\n",
        "\n",
        "Реализуйте глубокую нейронную сеть с как минимум тремя сверточными слоями. Какое качество классификации получено?"
      ]
    },
    {
      "cell_type": "markdown",
      "metadata": {
        "id": "2LvqUqkZeePy",
        "colab_type": "text"
      },
      "source": [
        "### Задание 3\n",
        "\n",
        "Примените дополнение данных (_data augmentation_). Как это повлияло на качество классификатора?"
      ]
    },
    {
      "cell_type": "markdown",
      "metadata": {
        "id": "_5pdWbkNes7E",
        "colab_type": "text"
      },
      "source": [
        "### Задание 4\n",
        "\n",
        "Поэкспериментируйте с готовыми нейронными сетями (например, _AlexNet_, _VGG16_, _Inception_ и т.п.), применив передаточное обучение. Как это повлияло на качество классификатора?\n",
        "\n",
        "Какой максимальный результат удалось получить на сайте _Kaggle_? Почему?"
      ]
    }
  ]
}