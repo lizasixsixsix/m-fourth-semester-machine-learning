{
  "nbformat": 4,
  "nbformat_minor": 0,
  "metadata": {
    "colab": {
      "name": "mo-2-5-0.ipynb",
      "provenance": [],
      "collapsed_sections": [],
      "toc_visible": true,
      "machine_shape": "hm"
    },
    "kernelspec": {
      "name": "python3",
      "display_name": "Python 3"
    },
    "accelerator": "GPU"
  },
  "cells": [
    {
      "cell_type": "markdown",
      "metadata": {
        "id": "NpYkjliyceN1",
        "colab_type": "text"
      },
      "source": [
        "# Лабораторная работа №5\n",
        "\n",
        "## Применение сверточных нейронных сетей (бинарная классификация)"
      ]
    },
    {
      "cell_type": "markdown",
      "metadata": {
        "id": "T323qXKAdzkv",
        "colab_type": "text"
      },
      "source": [
        "Набор данных _DogsVsCats_, который состоит из изображений различной размерности, содержащих фотографии собак и кошек.\n",
        "\n",
        "Обучающая выборка включает в себя 25 тыс. изображений (12,5 тыс. кошек: _cat.0.jpg_, ..., _cat.12499.jpg_ и 12,5 тыс. собак: _dog.0.jpg_, …, _dog.12499.jpg_), а контрольная выборка содержит 12,5 тыс. неразмеченных изображений.\n",
        "\n",
        "Скачать данные, а также проверить качество классификатора на тестовой выборке можно на сайте _Kaggle_: https://www.kaggle.com/c/dogs-vs-cats/data"
      ]
    },
    {
      "cell_type": "markdown",
      "metadata": {
        "id": "XqcGtjToeWIZ",
        "colab_type": "text"
      },
      "source": [
        "### Задание 1\n",
        "\n",
        "Загрузите данные. Разделите исходный набор данных на обучающую, валидационную и контрольную выборки."
      ]
    },
    {
      "cell_type": "code",
      "metadata": {
        "id": "0bGLFU16cKYi",
        "colab_type": "code",
        "outputId": "e3d70701-6070-4557-e7f2-906ce9f7dc33",
        "colab": {
          "base_uri": "https://localhost:8080/",
          "height": 34
        }
      },
      "source": [
        "from google.colab import drive\n",
        "\n",
        "drive.mount('/content/drive', force_remount = True)"
      ],
      "execution_count": 1,
      "outputs": [
        {
          "output_type": "stream",
          "text": [
            "Mounted at /content/drive\n"
          ],
          "name": "stdout"
        }
      ]
    },
    {
      "cell_type": "code",
      "metadata": {
        "id": "xA9RItvlcOS7",
        "colab_type": "code",
        "colab": {}
      },
      "source": [
        "BASE_DIR = '/content/drive/My Drive/Colab Files/mo-2/dogs-vs-cats'\n",
        "\n",
        "import sys\n",
        "\n",
        "sys.path.append(BASE_DIR)\n",
        "\n",
        "import os"
      ],
      "execution_count": 0,
      "outputs": []
    },
    {
      "cell_type": "code",
      "metadata": {
        "id": "wHPUrbwXcPZM",
        "colab_type": "code",
        "colab": {}
      },
      "source": [
        "TRAIN_ARCHIVE_NAME = 'train.zip'\n",
        "TEST_ARCHIVE_NAME = 'test1.zip'\n",
        "\n",
        "LOCAL_DIR_NAME = 'dogs-vs-cats'"
      ],
      "execution_count": 0,
      "outputs": []
    },
    {
      "cell_type": "code",
      "metadata": {
        "id": "_DnEhWn4cYCV",
        "colab_type": "code",
        "colab": {}
      },
      "source": [
        "from zipfile import ZipFile\n",
        "\n",
        "with ZipFile(os.path.join(BASE_DIR, TRAIN_ARCHIVE_NAME), 'r') as zip_:\n",
        "    zip_.extractall(path = os.path.join(LOCAL_DIR_NAME, 'train'))\n",
        "\n",
        "with ZipFile(os.path.join(BASE_DIR, TEST_ARCHIVE_NAME), 'r') as zip_:\n",
        "    zip_.extractall(path = os.path.join(LOCAL_DIR_NAME, 'test-1'))"
      ],
      "execution_count": 0,
      "outputs": []
    },
    {
      "cell_type": "code",
      "metadata": {
        "id": "rgI_OaQhqLE0",
        "colab_type": "code",
        "colab": {}
      },
      "source": [
        "# ! ls dogs-vs-cats/train/train"
      ],
      "execution_count": 0,
      "outputs": []
    },
    {
      "cell_type": "markdown",
      "metadata": {
        "id": "aEgu0zJ-eZ95",
        "colab_type": "text"
      },
      "source": [
        "### Задание 2\n",
        "\n",
        "Реализуйте глубокую нейронную сеть с как минимум тремя сверточными слоями. Какое качество классификации получено?"
      ]
    },
    {
      "cell_type": "markdown",
      "metadata": {
        "id": "2LvqUqkZeePy",
        "colab_type": "text"
      },
      "source": [
        "### Задание 3\n",
        "\n",
        "Примените дополнение данных (_data augmentation_). Как это повлияло на качество классификатора?"
      ]
    },
    {
      "cell_type": "markdown",
      "metadata": {
        "id": "_5pdWbkNes7E",
        "colab_type": "text"
      },
      "source": [
        "### Задание 4\n",
        "\n",
        "Поэкспериментируйте с готовыми нейронными сетями (например, _AlexNet_, _VGG16_, _Inception_ и т.п.), применив передаточное обучение. Как это повлияло на качество классификатора?\n",
        "\n",
        "Какой максимальный результат удалось получить на сайте _Kaggle_? Почему?"
      ]
    }
  ]
}