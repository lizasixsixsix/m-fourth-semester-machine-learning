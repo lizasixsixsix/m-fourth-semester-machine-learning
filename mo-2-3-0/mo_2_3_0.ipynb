{
  "nbformat": 4,
  "nbformat_minor": 0,
  "metadata": {
    "colab": {
      "name": "mo-2-3-0.ipynb",
      "provenance": [],
      "collapsed_sections": [],
      "toc_visible": true,
      "machine_shape": "hm"
    },
    "kernelspec": {
      "name": "python3",
      "display_name": "Python 3"
    },
    "accelerator": "GPU"
  },
  "cells": [
    {
      "cell_type": "markdown",
      "metadata": {
        "id": "kVIY2b3AX_aJ",
        "colab_type": "text"
      },
      "source": [
        "# Лабораторная работа №3\n",
        "\n",
        "## Реализация сверточной нейронной сети"
      ]
    },
    {
      "cell_type": "markdown",
      "metadata": {
        "id": "s_PQ44IXYNX8",
        "colab_type": "text"
      },
      "source": [
        "В работе предлагается использовать набор данных _notMNIST_, который состоит из изображений размерностью 28×28 первых 10 букв латинского алфавита (_A_ ... _J_, соответственно). Обучающая выборка содержит порядка 500 тыс. изображений, а тестовая – около 19 тыс.\n",
        "\n",
        "Данные можно скачать по ссылке:\n",
        "\n",
        "* https://commondatastorage.googleapis.com/books1000/notMNIST_large.tar.gz (большой набор данных);\n",
        "\n",
        "* https://commondatastorage.googleapis.com/books1000/notMNIST_small.tar.gz (маленький набор данных);\n",
        "\n",
        "Описание данных на английском языке доступно по ссылке:\n",
        "http://yaroslavvb.blogspot.sg/2011/09/notmnist-dataset.html"
      ]
    },
    {
      "cell_type": "markdown",
      "metadata": {
        "id": "LoUd7jlSYPtZ",
        "colab_type": "text"
      },
      "source": [
        "### Задание 1\n",
        "\n",
        "Реализуйте нейронную сеть с двумя сверточными слоями, и одним полносвязным с нейронами с кусочно-линейной функцией активации. Какова точность построенной модели?"
      ]
    },
    {
      "cell_type": "code",
      "metadata": {
        "id": "GZHnGIItx0K6",
        "colab_type": "code",
        "outputId": "054af135-5341-4ad5-f9cb-7b74fc8a0a40",
        "colab": {
          "base_uri": "https://localhost:8080/",
          "height": 34
        }
      },
      "source": [
        "from google.colab import drive\n",
        "\n",
        "drive.mount('/content/drive', force_remount = True)"
      ],
      "execution_count": 1,
      "outputs": [
        {
          "output_type": "stream",
          "text": [
            "Mounted at /content/drive\n"
          ],
          "name": "stdout"
        }
      ]
    },
    {
      "cell_type": "code",
      "metadata": {
        "id": "LOk0rWC6x3P8",
        "colab_type": "code",
        "colab": {}
      },
      "source": [
        "BASE_DIR = '/content/drive/My Drive/Colab Files/mo-2'\n",
        "\n",
        "import sys\n",
        "\n",
        "sys.path.append(BASE_DIR)\n",
        "\n",
        "import os\n",
        "\n",
        "os.chdir(BASE_DIR)"
      ],
      "execution_count": 0,
      "outputs": []
    },
    {
      "cell_type": "code",
      "metadata": {
        "id": "7pjP0Cm1x5Zl",
        "colab_type": "code",
        "colab": {}
      },
      "source": [
        "import pandas as pd\n",
        "\n",
        "dataframe = pd.read_pickle(\"./large.pkl\")"
      ],
      "execution_count": 0,
      "outputs": []
    },
    {
      "cell_type": "code",
      "metadata": {
        "id": "Mtl9Mngwx8Zl",
        "colab_type": "code",
        "outputId": "5511e90a-325a-471e-dee1-eeb9371cd6e5",
        "colab": {
          "base_uri": "https://localhost:8080/",
          "height": 213
        }
      },
      "source": [
        "! pip install tensorflow-gpu --pre --quiet\n",
        "\n",
        "! pip show tensorflow-gpu"
      ],
      "execution_count": 4,
      "outputs": [
        {
          "output_type": "stream",
          "text": [
            "Name: tensorflow-gpu\n",
            "Version: 2.2.0rc3\n",
            "Summary: TensorFlow is an open source machine learning framework for everyone.\n",
            "Home-page: https://www.tensorflow.org/\n",
            "Author: Google Inc.\n",
            "Author-email: packages@tensorflow.org\n",
            "License: Apache 2.0\n",
            "Location: /usr/local/lib/python3.6/dist-packages\n",
            "Requires: astunparse, six, google-pasta, tensorflow-estimator, gast, tensorboard, grpcio, scipy, termcolor, wrapt, keras-preprocessing, protobuf, absl-py, numpy, h5py, opt-einsum, wheel\n",
            "Required-by: \n"
          ],
          "name": "stdout"
        }
      ]
    },
    {
      "cell_type": "code",
      "metadata": {
        "id": "mRODV9rmx-IV",
        "colab_type": "code",
        "colab": {}
      },
      "source": [
        "import tensorflow as tf"
      ],
      "execution_count": 0,
      "outputs": []
    },
    {
      "cell_type": "code",
      "metadata": {
        "id": "uzhWwY3dg0xc",
        "colab_type": "code",
        "colab": {}
      },
      "source": [
        "# To fix memory leak: https://github.com/tensorflow/tensorflow/issues/33009\n",
        "\n",
        "tf.compat.v1.disable_eager_execution()"
      ],
      "execution_count": 0,
      "outputs": []
    },
    {
      "cell_type": "code",
      "metadata": {
        "id": "_uDvZ4Vbx_6F",
        "colab_type": "code",
        "colab": {}
      },
      "source": [
        "import numpy as np"
      ],
      "execution_count": 0,
      "outputs": []
    },
    {
      "cell_type": "code",
      "metadata": {
        "id": "RDGFLjErk8oy",
        "colab_type": "code",
        "colab": {}
      },
      "source": [
        "dataframe_test = dataframe.sample(frac = 0.1)\n",
        "\n",
        "dataframe = dataframe.drop(dataframe_test.index)"
      ],
      "execution_count": 0,
      "outputs": []
    },
    {
      "cell_type": "code",
      "metadata": {
        "id": "Q2Rpnra9yBbV",
        "colab_type": "code",
        "outputId": "485e1cf9-fe43-4861-ffc5-925a7eb738db",
        "colab": {
          "base_uri": "https://localhost:8080/",
          "height": 34
        }
      },
      "source": [
        "x = np.asarray(list(dataframe['data']))[..., np.newaxis]\n",
        "\n",
        "x = tf.keras.utils.normalize(x, axis = 1)\n",
        "\n",
        "x.shape"
      ],
      "execution_count": 9,
      "outputs": [
        {
          "output_type": "execute_result",
          "data": {
            "text/plain": [
              "(415751, 28, 28, 1)"
            ]
          },
          "metadata": {
            "tags": []
          },
          "execution_count": 9
        }
      ]
    },
    {
      "cell_type": "code",
      "metadata": {
        "id": "AHq3ZtvU9EmP",
        "colab_type": "code",
        "colab": {
          "base_uri": "https://localhost:8080/",
          "height": 34
        },
        "outputId": "99a892da-312e-480c-9266-4a2a2e4b6b3a"
      },
      "source": [
        "x_test = np.asarray(list(dataframe_test['data']))[..., np.newaxis]\n",
        "\n",
        "x_test = tf.keras.utils.normalize(x_test, axis = 1)\n",
        "\n",
        "x_test.shape"
      ],
      "execution_count": 10,
      "outputs": [
        {
          "output_type": "execute_result",
          "data": {
            "text/plain": [
              "(46195, 28, 28, 1)"
            ]
          },
          "metadata": {
            "tags": []
          },
          "execution_count": 10
        }
      ]
    },
    {
      "cell_type": "code",
      "metadata": {
        "id": "65AnRo3qvgSx",
        "colab_type": "code",
        "outputId": "256de54b-83c8-4d86-b9ae-acf0973e8763",
        "colab": {
          "base_uri": "https://localhost:8080/",
          "height": 282
        }
      },
      "source": [
        "import matplotlib.pyplot as plt\n",
        "\n",
        "plt.imshow(x[100].squeeze())"
      ],
      "execution_count": 11,
      "outputs": [
        {
          "output_type": "execute_result",
          "data": {
            "text/plain": [
              "<matplotlib.image.AxesImage at 0x7f6ba8e81a90>"
            ]
          },
          "metadata": {
            "tags": []
          },
          "execution_count": 11
        },
        {
          "output_type": "display_data",
          "data": {
            "image/png": "[encoded data removed]",
            "text/plain": [
              "<Figure size 432x288 with 1 Axes>"
            ]
          },
          "metadata": {
            "tags": [],
            "needs_background": "light"
          }
        }
      ]
    },
    {
      "cell_type": "code",
      "metadata": {
        "id": "avsCi1fuyDRd",
        "colab_type": "code",
        "colab": {}
      },
      "source": [
        "IMAGE_DIM_0, IMAGE_DIM_1 = x.shape[1], x.shape[2]"
      ],
      "execution_count": 0,
      "outputs": []
    },
    {
      "cell_type": "code",
      "metadata": {
        "id": "3TIUsVTyyE4l",
        "colab_type": "code",
        "outputId": "53fce524-301e-43d7-c451-3926fc5fa276",
        "colab": {
          "base_uri": "https://localhost:8080/",
          "height": 34
        }
      },
      "source": [
        "from tensorflow.keras.utils import to_categorical\n",
        "\n",
        "y = to_categorical(dataframe['label'].astype('category').cat.codes.astype('int32'))\n",
        "\n",
        "y.shape"
      ],
      "execution_count": 13,
      "outputs": [
        {
          "output_type": "execute_result",
          "data": {
            "text/plain": [
              "(415751, 10)"
            ]
          },
          "metadata": {
            "tags": []
          },
          "execution_count": 13
        }
      ]
    },
    {
      "cell_type": "code",
      "metadata": {
        "id": "N7bXD6rG9NBK",
        "colab_type": "code",
        "colab": {
          "base_uri": "https://localhost:8080/",
          "height": 34
        },
        "outputId": "f6a37923-684a-4887-e5fc-ec8f0e8bb01c"
      },
      "source": [
        "y_test = to_categorical(dataframe_test['label'].astype('category').cat.codes.astype('int32'))\n",
        "\n",
        "y_test.shape"
      ],
      "execution_count": 14,
      "outputs": [
        {
          "output_type": "execute_result",
          "data": {
            "text/plain": [
              "(46195, 10)"
            ]
          },
          "metadata": {
            "tags": []
          },
          "execution_count": 14
        }
      ]
    },
    {
      "cell_type": "code",
      "metadata": {
        "id": "Or7diCV8yHNe",
        "colab_type": "code",
        "colab": {}
      },
      "source": [
        "CLASSES_N = y.shape[1]"
      ],
      "execution_count": 0,
      "outputs": []
    },
    {
      "cell_type": "code",
      "metadata": {
        "id": "sZjNAEhAoS_S",
        "colab_type": "code",
        "colab": {}
      },
      "source": [
        "DENSE_LAYER_WIDTH = 5000"
      ],
      "execution_count": 0,
      "outputs": []
    },
    {
      "cell_type": "code",
      "metadata": {
        "id": "FSSnWl6J7E8B",
        "colab_type": "code",
        "outputId": "6c12f7b3-bea9-4eb1-f4f1-89603282f448",
        "colab": {
          "base_uri": "https://localhost:8080/",
          "height": 90
        }
      },
      "source": [
        "from tensorflow.keras.models import Sequential\n",
        "from tensorflow.keras.layers import Conv2D, Dense, Flatten\n",
        "\n",
        "model = tf.keras.Sequential()\n",
        "\n",
        "model.add(Conv2D(16, 3, padding = 'same', activation = 'relu', input_shape = (IMAGE_DIM_0, IMAGE_DIM_1, 1)))\n",
        "model.add(Conv2D(32, 3, padding = 'same', activation = 'relu'))\n",
        "model.add(Flatten())\n",
        "model.add(Dense(DENSE_LAYER_WIDTH, activation = 'relu'))\n",
        "model.add(Dense(CLASSES_N))"
      ],
      "execution_count": 17,
      "outputs": [
        {
          "output_type": "stream",
          "text": [
            "WARNING:tensorflow:From /usr/local/lib/python3.6/dist-packages/tensorflow/python/ops/resource_variable_ops.py:1666: calling BaseResourceVariable.__init__ (from tensorflow.python.ops.resource_variable_ops) with constraint is deprecated and will be removed in a future version.\n",
            "Instructions for updating:\n",
            "If using Keras pass *_constraint arguments to layers.\n"
          ],
          "name": "stdout"
        }
      ]
    },
    {
      "cell_type": "code",
      "metadata": {
        "id": "ZJkI7ZDs7KTn",
        "colab_type": "code",
        "colab": {}
      },
      "source": [
        "def cat_cross_from_logits(y_true, y_pred):\n",
        "    return tf.keras.losses.categorical_crossentropy(y_true, y_pred, from_logits = True)\n",
        "\n",
        "model.compile(optimizer = 'sgd',\n",
        "              loss = cat_cross_from_logits,\n",
        "              metrics = ['categorical_accuracy'])"
      ],
      "execution_count": 0,
      "outputs": []
    },
    {
      "cell_type": "code",
      "metadata": {
        "id": "ryM-uIdU7Qdm",
        "colab_type": "code",
        "outputId": "5dffc7d4-e760-430e-ec03-0626aa4693b2",
        "colab": {
          "base_uri": "https://localhost:8080/",
          "height": 334
        }
      },
      "source": [
        "model.summary()"
      ],
      "execution_count": 19,
      "outputs": [
        {
          "output_type": "stream",
          "text": [
            "Model: \"sequential\"\n",
            "_________________________________________________________________\n",
            "Layer (type)                 Output Shape              Param #   \n",
            "=================================================================\n",
            "conv2d (Conv2D)              (None, 28, 28, 16)        160       \n",
            "_________________________________________________________________\n",
            "conv2d_1 (Conv2D)            (None, 28, 28, 32)        4640      \n",
            "_________________________________________________________________\n",
            "flatten (Flatten)            (None, 25088)             0         \n",
            "_________________________________________________________________\n",
            "dense (Dense)                (None, 5000)              125445000 \n",
            "_________________________________________________________________\n",
            "dense_1 (Dense)              (None, 10)                50010     \n",
            "=================================================================\n",
            "Total params: 125,499,810\n",
            "Trainable params: 125,499,810\n",
            "Non-trainable params: 0\n",
            "_________________________________________________________________\n"
          ],
          "name": "stdout"
        }
      ]
    },
    {
      "cell_type": "code",
      "metadata": {
        "id": "G0j4Oa2D7YFW",
        "colab_type": "code",
        "colab": {}
      },
      "source": [
        "VAL_SPLIT_RATE = 0.1"
      ],
      "execution_count": 0,
      "outputs": []
    },
    {
      "cell_type": "code",
      "metadata": {
        "id": "sNS8drBf7Z-u",
        "colab_type": "code",
        "colab": {}
      },
      "source": [
        "EPOCHS_N = 10"
      ],
      "execution_count": 0,
      "outputs": []
    },
    {
      "cell_type": "code",
      "metadata": {
        "id": "BmtltwXc7cxH",
        "colab_type": "code",
        "outputId": "d902038c-23b0-4fc8-d014-f62095e4acc2",
        "colab": {
          "base_uri": "https://localhost:8080/",
          "height": 424
        }
      },
      "source": [
        "model.fit(x = x, y = y, epochs = EPOCHS_N, validation_split = VAL_SPLIT_RATE)"
      ],
      "execution_count": 22,
      "outputs": [
        {
          "output_type": "stream",
          "text": [
            "Train on 374175 samples, validate on 41576 samples\n",
            "Epoch 1/10\n",
            "374175/374175 [==============================] - 114s 304us/sample - loss: 0.4815 - categorical_accuracy: 0.8573 - val_loss: 2.9091 - val_categorical_accuracy: 0.3111\n",
            "Epoch 2/10\n",
            "374175/374175 [==============================] - 114s 304us/sample - loss: 0.3455 - categorical_accuracy: 0.8956 - val_loss: 2.7738 - val_categorical_accuracy: 0.2886\n",
            "Epoch 3/10\n",
            "374175/374175 [==============================] - 113s 303us/sample - loss: 0.2926 - categorical_accuracy: 0.9110 - val_loss: 1.9089 - val_categorical_accuracy: 0.5299\n",
            "Epoch 4/10\n",
            "374175/374175 [==============================] - 113s 302us/sample - loss: 0.2517 - categorical_accuracy: 0.9231 - val_loss: 2.2537 - val_categorical_accuracy: 0.4842\n",
            "Epoch 5/10\n",
            "374175/374175 [==============================] - 114s 303us/sample - loss: 0.2144 - categorical_accuracy: 0.9342 - val_loss: 2.7603 - val_categorical_accuracy: 0.3479\n",
            "Epoch 6/10\n",
            "374175/374175 [==============================] - 113s 301us/sample - loss: 0.1803 - categorical_accuracy: 0.9447 - val_loss: 2.1086 - val_categorical_accuracy: 0.5454\n",
            "Epoch 7/10\n",
            "374175/374175 [==============================] - 114s 305us/sample - loss: 0.1466 - categorical_accuracy: 0.9551 - val_loss: 2.4950 - val_categorical_accuracy: 0.4780\n",
            "Epoch 8/10\n",
            "374175/374175 [==============================] - 113s 302us/sample - loss: 0.1170 - categorical_accuracy: 0.9647 - val_loss: 2.0592 - val_categorical_accuracy: 0.6014\n",
            "Epoch 9/10\n",
            "374175/374175 [==============================] - 113s 301us/sample - loss: 0.0925 - categorical_accuracy: 0.9728 - val_loss: 2.6105 - val_categorical_accuracy: 0.5198\n",
            "Epoch 10/10\n",
            "374175/374175 [==============================] - 113s 302us/sample - loss: 0.0738 - categorical_accuracy: 0.9786 - val_loss: 2.7623 - val_categorical_accuracy: 0.5034\n"
          ],
          "name": "stdout"
        },
        {
          "output_type": "execute_result",
          "data": {
            "text/plain": [
              "<tensorflow.python.keras.callbacks.History at 0x7f6ba8e81cf8>"
            ]
          },
          "metadata": {
            "tags": []
          },
          "execution_count": 22
        }
      ]
    },
    {
      "cell_type": "code",
      "metadata": {
        "id": "G0hhsNVG9Rha",
        "colab_type": "code",
        "colab": {
          "base_uri": "https://localhost:8080/",
          "height": 34
        },
        "outputId": "98c75489-96ca-43ca-a5bb-552ff3cd1187"
      },
      "source": [
        "results = model.evaluate(x_test, y_test)\n",
        "\n",
        "print('Test loss, test accuracy:', results)"
      ],
      "execution_count": 23,
      "outputs": [
        {
          "output_type": "stream",
          "text": [
            "Test loss, test accuracy: [0.5621323866975915, 0.88420826]\n"
          ],
          "name": "stdout"
        }
      ]
    },
    {
      "cell_type": "markdown",
      "metadata": {
        "id": "dPT5baf0OuAv",
        "colab_type": "text"
      },
      "source": [
        "Лучшая точность построенной модели на тестовой выборке составила 88%."
      ]
    },
    {
      "cell_type": "markdown",
      "metadata": {
        "id": "_QTPmwbvaAiN",
        "colab_type": "text"
      },
      "source": [
        "### Задание 2\n",
        "\n",
        "Замените один из сверточных слоев на слой, реализующий операцию пулинга (_Pooling_) с функцией максимума или среднего. Как это повлияло на точность классификатора?"
      ]
    },
    {
      "cell_type": "code",
      "metadata": {
        "id": "aP_i1EWAGOPS",
        "colab_type": "code",
        "colab": {}
      },
      "source": [
        "from tensorflow.keras.layers import MaxPooling2D\n",
        "\n",
        "model_2 = tf.keras.Sequential()\n",
        "\n",
        "model_2.add(Conv2D(16, 3, padding = 'same', activation = 'relu', input_shape = (IMAGE_DIM_0, IMAGE_DIM_1, 1)))\n",
        "model_2.add(MaxPooling2D())\n",
        "model_2.add(Flatten())\n",
        "model_2.add(Dense(DENSE_LAYER_WIDTH, activation = 'relu'))\n",
        "model_2.add(Dense(CLASSES_N))"
      ],
      "execution_count": 0,
      "outputs": []
    },
    {
      "cell_type": "code",
      "metadata": {
        "id": "q5GFfxN0gnhB",
        "colab_type": "code",
        "colab": {}
      },
      "source": [
        "model_2.compile(optimizer = 'sgd',\n",
        "               loss = cat_cross_from_logits,\n",
        "               metrics = ['categorical_accuracy'])"
      ],
      "execution_count": 0,
      "outputs": []
    },
    {
      "cell_type": "code",
      "metadata": {
        "id": "ZDtqGb2Egrpf",
        "colab_type": "code",
        "outputId": "8e2b2b33-700b-4fc0-f8ab-648a5a671da2",
        "colab": {
          "base_uri": "https://localhost:8080/",
          "height": 334
        }
      },
      "source": [
        "model_2.summary()"
      ],
      "execution_count": 26,
      "outputs": [
        {
          "output_type": "stream",
          "text": [
            "Model: \"sequential_1\"\n",
            "_________________________________________________________________\n",
            "Layer (type)                 Output Shape              Param #   \n",
            "=================================================================\n",
            "conv2d_2 (Conv2D)            (None, 28, 28, 16)        160       \n",
            "_________________________________________________________________\n",
            "max_pooling2d (MaxPooling2D) (None, 14, 14, 16)        0         \n",
            "_________________________________________________________________\n",
            "flatten_1 (Flatten)          (None, 3136)              0         \n",
            "_________________________________________________________________\n",
            "dense_2 (Dense)              (None, 5000)              15685000  \n",
            "_________________________________________________________________\n",
            "dense_3 (Dense)              (None, 10)                50010     \n",
            "=================================================================\n",
            "Total params: 15,735,170\n",
            "Trainable params: 15,735,170\n",
            "Non-trainable params: 0\n",
            "_________________________________________________________________\n"
          ],
          "name": "stdout"
        }
      ]
    },
    {
      "cell_type": "code",
      "metadata": {
        "id": "r1WKjxR6gvSP",
        "colab_type": "code",
        "outputId": "48bb3f58-c7fb-42c1-c27e-bc09c693ca18",
        "colab": {
          "base_uri": "https://localhost:8080/",
          "height": 424
        }
      },
      "source": [
        "model_2.fit(x = x, y = y, epochs = EPOCHS_N, validation_split = VAL_SPLIT_RATE)"
      ],
      "execution_count": 27,
      "outputs": [
        {
          "output_type": "stream",
          "text": [
            "Train on 374175 samples, validate on 41576 samples\n",
            "Epoch 1/10\n",
            "374175/374175 [==============================] - 36s 97us/sample - loss: 0.5802 - categorical_accuracy: 0.8338 - val_loss: 3.2642 - val_categorical_accuracy: 0.0382\n",
            "Epoch 2/10\n",
            "374175/374175 [==============================] - 36s 96us/sample - loss: 0.4135 - categorical_accuracy: 0.8762 - val_loss: 3.0404 - val_categorical_accuracy: 0.1671\n",
            "Epoch 3/10\n",
            "374175/374175 [==============================] - 36s 97us/sample - loss: 0.3677 - categorical_accuracy: 0.8891 - val_loss: 2.6523 - val_categorical_accuracy: 0.3309\n",
            "Epoch 4/10\n",
            "374175/374175 [==============================] - 36s 95us/sample - loss: 0.3384 - categorical_accuracy: 0.8975 - val_loss: 2.3369 - val_categorical_accuracy: 0.4434\n",
            "Epoch 5/10\n",
            "374175/374175 [==============================] - 36s 96us/sample - loss: 0.3159 - categorical_accuracy: 0.9037 - val_loss: 2.4419 - val_categorical_accuracy: 0.4272\n",
            "Epoch 6/10\n",
            "374175/374175 [==============================] - 36s 95us/sample - loss: 0.2965 - categorical_accuracy: 0.9099 - val_loss: 2.2025 - val_categorical_accuracy: 0.4449\n",
            "Epoch 7/10\n",
            "374175/374175 [==============================] - 36s 96us/sample - loss: 0.2797 - categorical_accuracy: 0.9147 - val_loss: 2.2130 - val_categorical_accuracy: 0.4772\n",
            "Epoch 8/10\n",
            "374175/374175 [==============================] - 37s 98us/sample - loss: 0.2644 - categorical_accuracy: 0.9193 - val_loss: 2.1537 - val_categorical_accuracy: 0.5218\n",
            "Epoch 9/10\n",
            "374175/374175 [==============================] - 36s 95us/sample - loss: 0.2509 - categorical_accuracy: 0.9233 - val_loss: 1.8914 - val_categorical_accuracy: 0.5983\n",
            "Epoch 10/10\n",
            "374175/374175 [==============================] - 36s 96us/sample - loss: 0.2375 - categorical_accuracy: 0.9274 - val_loss: 2.2922 - val_categorical_accuracy: 0.5274\n"
          ],
          "name": "stdout"
        },
        {
          "output_type": "execute_result",
          "data": {
            "text/plain": [
              "<tensorflow.python.keras.callbacks.History at 0x7f6ba828da58>"
            ]
          },
          "metadata": {
            "tags": []
          },
          "execution_count": 27
        }
      ]
    },
    {
      "cell_type": "code",
      "metadata": {
        "id": "AXn92Y_69Yto",
        "colab_type": "code",
        "colab": {
          "base_uri": "https://localhost:8080/",
          "height": 34
        },
        "outputId": "7a433bef-709d-4af3-995c-a9570cff0a56"
      },
      "source": [
        "results_2 = model_2.evaluate(x_test, y_test)\n",
        "\n",
        "print('Test loss, test accuracy:', results_2)"
      ],
      "execution_count": 28,
      "outputs": [
        {
          "output_type": "stream",
          "text": [
            "Test loss, test accuracy: [0.5017564680594646, 0.87370926]\n"
          ],
          "name": "stdout"
        }
      ]
    },
    {
      "cell_type": "markdown",
      "metadata": {
        "id": "MEjhLucgO0Cl",
        "colab_type": "text"
      },
      "source": [
        "Замена свёрточного слоя на операцию пулинга снизила точность на тестовой выборке до 87%."
      ]
    },
    {
      "cell_type": "markdown",
      "metadata": {
        "id": "fUSDBLccaH1F",
        "colab_type": "text"
      },
      "source": [
        "### Задание 3\n",
        "\n",
        "Реализуйте классическую архитектуру сверточных сетей _LeNet-5_ (http://yann.lecun.com/exdb/lenet/)."
      ]
    },
    {
      "cell_type": "code",
      "metadata": {
        "id": "RwpQ0RV1KUmW",
        "colab_type": "code",
        "colab": {}
      },
      "source": [
        "from tensorflow.keras.layers import AveragePooling2D\n",
        "\n",
        "model_3 = tf.keras.Sequential()\n",
        "\n",
        "model_3.add(Conv2D(6, kernel_size = (5, 5), strides = (1, 1), activation = 'tanh', padding = 'same',\n",
        "                   input_shape = (IMAGE_DIM_0, IMAGE_DIM_1, 1)))\n",
        "model_3.add(AveragePooling2D(pool_size = (2, 2), strides = (2, 2), padding = 'valid'))\n",
        "model_3.add(Conv2D(16, kernel_size = (5, 5), strides = (1, 1), activation = 'tanh', padding = 'valid'))\n",
        "model_3.add(AveragePooling2D(pool_size = (2, 2), strides = (2, 2), padding = 'valid'))\n",
        "model_3.add(Flatten())\n",
        "model_3.add(Dense(120, activation = 'tanh'))\n",
        "model_3.add(Dense(84, activation = 'tanh'))\n",
        "model_3.add(Dense(CLASSES_N, activation = 'softmax'))"
      ],
      "execution_count": 0,
      "outputs": []
    },
    {
      "cell_type": "code",
      "metadata": {
        "id": "rp3AmwxZLBjw",
        "colab_type": "code",
        "colab": {}
      },
      "source": [
        "model_3.compile(optimizer = 'adam',\n",
        "                loss = 'categorical_crossentropy',\n",
        "                metrics = ['categorical_accuracy'])"
      ],
      "execution_count": 0,
      "outputs": []
    },
    {
      "cell_type": "code",
      "metadata": {
        "id": "FyOP4S16LM_V",
        "colab_type": "code",
        "outputId": "2420b9c9-b2dc-412b-f98a-d9ffe4557774",
        "colab": {
          "base_uri": "https://localhost:8080/",
          "height": 424
        }
      },
      "source": [
        "model_3.fit(x = x, y = y, epochs = EPOCHS_N, validation_split = VAL_SPLIT_RATE)"
      ],
      "execution_count": 31,
      "outputs": [
        {
          "output_type": "stream",
          "text": [
            "Train on 374175 samples, validate on 41576 samples\n",
            "Epoch 1/10\n",
            "374175/374175 [==============================] - 30s 79us/sample - loss: 0.4504 - categorical_accuracy: 0.8640 - val_loss: 2.7422 - val_categorical_accuracy: 0.2516\n",
            "Epoch 2/10\n",
            "374175/374175 [==============================] - 30s 80us/sample - loss: 0.3514 - categorical_accuracy: 0.8912 - val_loss: 2.9686 - val_categorical_accuracy: 0.2343\n",
            "Epoch 3/10\n",
            "374175/374175 [==============================] - 29s 79us/sample - loss: 0.3239 - categorical_accuracy: 0.8995 - val_loss: 2.3722 - val_categorical_accuracy: 0.4675\n",
            "Epoch 4/10\n",
            "374175/374175 [==============================] - 30s 79us/sample - loss: 0.3086 - categorical_accuracy: 0.9037 - val_loss: 2.9093 - val_categorical_accuracy: 0.3062\n",
            "Epoch 5/10\n",
            "374175/374175 [==============================] - 30s 79us/sample - loss: 0.2972 - categorical_accuracy: 0.9069 - val_loss: 2.3950 - val_categorical_accuracy: 0.4489\n",
            "Epoch 6/10\n",
            "374175/374175 [==============================] - 30s 79us/sample - loss: 0.2891 - categorical_accuracy: 0.9092 - val_loss: 2.7761 - val_categorical_accuracy: 0.2896\n",
            "Epoch 7/10\n",
            "374175/374175 [==============================] - 30s 80us/sample - loss: 0.2811 - categorical_accuracy: 0.9117 - val_loss: 2.7471 - val_categorical_accuracy: 0.3655\n",
            "Epoch 8/10\n",
            "374175/374175 [==============================] - 30s 80us/sample - loss: 0.2749 - categorical_accuracy: 0.9136 - val_loss: 1.9750 - val_categorical_accuracy: 0.5368\n",
            "Epoch 9/10\n",
            "374175/374175 [==============================] - 29s 79us/sample - loss: 0.2707 - categorical_accuracy: 0.9148 - val_loss: 2.1891 - val_categorical_accuracy: 0.5343\n",
            "Epoch 10/10\n",
            "374175/374175 [==============================] - 30s 80us/sample - loss: 0.2659 - categorical_accuracy: 0.9163 - val_loss: 2.2132 - val_categorical_accuracy: 0.5457\n"
          ],
          "name": "stdout"
        },
        {
          "output_type": "execute_result",
          "data": {
            "text/plain": [
              "<tensorflow.python.keras.callbacks.History at 0x7f6ba7593048>"
            ]
          },
          "metadata": {
            "tags": []
          },
          "execution_count": 31
        }
      ]
    },
    {
      "cell_type": "code",
      "metadata": {
        "id": "JSN-NuiS9gbp",
        "colab_type": "code",
        "colab": {
          "base_uri": "https://localhost:8080/",
          "height": 34
        },
        "outputId": "4acfe5df-455f-4c81-9afb-9ad5538da922"
      },
      "source": [
        "results_3 = model_3.evaluate(x_test, y_test)\n",
        "\n",
        "print('Test loss, test accuracy:', results_3)"
      ],
      "execution_count": 32,
      "outputs": [
        {
          "output_type": "stream",
          "text": [
            "Test loss, test accuracy: [0.49347359862197515, 0.8702024]\n"
          ],
          "name": "stdout"
        }
      ]
    },
    {
      "cell_type": "markdown",
      "metadata": {
        "id": "JJE42pyNPRcm",
        "colab_type": "text"
      },
      "source": [
        "Удивительно, но _LeNet-5_ показала результат хуже, чем первая модель &mdash; 87% на тестовой выборке. Объяснить это можно тем, что первая модель содержит свёрточный слой с большей выходной размерностью."
      ]
    },
    {
      "cell_type": "markdown",
      "metadata": {
        "id": "X408QNkzaOnm",
        "colab_type": "text"
      },
      "source": [
        "### Задание 4\n",
        "\n",
        "Сравните максимальные точности моделей, построенных в лабораторных работах 1-3. Как можно объяснить полученные различия?"
      ]
    },
    {
      "cell_type": "markdown",
      "metadata": {
        "id": "bVfoAcYYPyvN",
        "colab_type": "text"
      },
      "source": [
        "Результаты на валидационной выборке:\n",
        "\n",
        "* логистическая регрессия &mdash; 81%;\n",
        "\n",
        "* модель с только полносвязными слоями &mdash; 10%;\n",
        "\n",
        "    * с регуляризацией и сбросом нейронов &mdash; 72%;\n",
        "\n",
        "        * с адапливны шагом &mdash; 72%;\n",
        "\n",
        "* модель с двумя свёрточными слоями и одним полносвязным &mdash; 88%;\n",
        "\n",
        "* модель с одним свёрточным слоем, операцией пулинга и одним полносвязным &mdash; 87%;\n",
        "\n",
        "* _LeNet-5_ &mdash; два свёрточных слоя две операции пулинга два полносвязных слоя &mdash; 87%.\n",
        "\n",
        "Объяснение превосходства свёрточных сетей над полносвязными &mdash; такая архитектура просто предназначена для работы с изображениями."
      ]
    }
  ]
}