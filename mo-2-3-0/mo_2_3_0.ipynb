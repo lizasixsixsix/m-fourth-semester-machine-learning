{
  "nbformat": 4,
  "nbformat_minor": 0,
  "metadata": {
    "colab": {
      "name": "mo-2-3-0.ipynb",
      "provenance": [],
      "collapsed_sections": [],
      "machine_shape": "hm"
    },
    "kernelspec": {
      "name": "python3",
      "display_name": "Python 3"
    },
    "accelerator": "GPU"
  },
  "cells": [
    {
      "cell_type": "markdown",
      "metadata": {
        "id": "kVIY2b3AX_aJ",
        "colab_type": "text"
      },
      "source": [
        "# Лабораторная работа №3\n",
        "\n",
        "## Реализация сверточной нейронной сети"
      ]
    },
    {
      "cell_type": "markdown",
      "metadata": {
        "id": "s_PQ44IXYNX8",
        "colab_type": "text"
      },
      "source": [
        "В работе предлагается использовать набор данных _notMNIST_, который состоит из изображений размерностью 28×28 первых 10 букв латинского алфавита (_A_ ... _J_, соответственно). Обучающая выборка содержит порядка 500 тыс. изображений, а тестовая – около 19 тыс.\n",
        "\n",
        "Данные можно скачать по ссылке:\n",
        "\n",
        "* https://commondatastorage.googleapis.com/books1000/notMNIST_large.tar.gz (большой набор данных);\n",
        "\n",
        "* https://commondatastorage.googleapis.com/books1000/notMNIST_small.tar.gz (маленький набор данных);\n",
        "\n",
        "Описание данных на английском языке доступно по ссылке:\n",
        "http://yaroslavvb.blogspot.sg/2011/09/notmnist-dataset.html"
      ]
    },
    {
      "cell_type": "markdown",
      "metadata": {
        "id": "LoUd7jlSYPtZ",
        "colab_type": "text"
      },
      "source": [
        "### Задание 1\n",
        "\n",
        "Реализуйте нейронную сеть с двумя сверточными слоями, и одним полносвязным с нейронами с кусочно-линейной функцией активации. Какова точность построенное модели?"
      ]
    },
    {
      "cell_type": "markdown",
      "metadata": {
        "id": "_QTPmwbvaAiN",
        "colab_type": "text"
      },
      "source": [
        "### Задание 2\n",
        "\n",
        "Замените один из сверточных слоев на слой, реализующий операцию пулинга (_Pooling_) с функцией максимума или среднего. Как это повлияло на точность классификатора?"
      ]
    },
    {
      "cell_type": "markdown",
      "metadata": {
        "id": "fUSDBLccaH1F",
        "colab_type": "text"
      },
      "source": [
        "### Задание 3\n",
        "\n",
        "Реализуйте классическую архитектуру сверточных сетей _LeNet-5_ (http://yann.lecun.com/exdb/lenet/)."
      ]
    },
    {
      "cell_type": "markdown",
      "metadata": {
        "id": "X408QNkzaOnm",
        "colab_type": "text"
      },
      "source": [
        "### Задание 4\n",
        "\n",
        "Сравните максимальные точности моделей, построенных в лабораторных работах 1-3. Как можно объяснить полученные различия?"
      ]
    }
  ]
}