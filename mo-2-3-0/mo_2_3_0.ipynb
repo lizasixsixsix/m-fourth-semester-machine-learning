{
  "nbformat": 4,
  "nbformat_minor": 0,
  "metadata": {
    "colab": {
      "name": "mo-2-3-0.ipynb",
      "provenance": [],
      "collapsed_sections": [],
      "toc_visible": true,
      "machine_shape": "hm"
    },
    "kernelspec": {
      "name": "python3",
      "display_name": "Python 3"
    },
    "accelerator": "GPU"
  },
  "cells": [
    {
      "cell_type": "markdown",
      "metadata": {
        "id": "kVIY2b3AX_aJ",
        "colab_type": "text"
      },
      "source": [
        "# Лабораторная работа №3\n",
        "\n",
        "## Реализация сверточной нейронной сети"
      ]
    },
    {
      "cell_type": "markdown",
      "metadata": {
        "id": "s_PQ44IXYNX8",
        "colab_type": "text"
      },
      "source": [
        "В работе предлагается использовать набор данных _notMNIST_, который состоит из изображений размерностью 28×28 первых 10 букв латинского алфавита (_A_ ... _J_, соответственно). Обучающая выборка содержит порядка 500 тыс. изображений, а тестовая – около 19 тыс.\n",
        "\n",
        "Данные можно скачать по ссылке:\n",
        "\n",
        "* https://commondatastorage.googleapis.com/books1000/notMNIST_large.tar.gz (большой набор данных);\n",
        "\n",
        "* https://commondatastorage.googleapis.com/books1000/notMNIST_small.tar.gz (маленький набор данных);\n",
        "\n",
        "Описание данных на английском языке доступно по ссылке:\n",
        "http://yaroslavvb.blogspot.sg/2011/09/notmnist-dataset.html"
      ]
    },
    {
      "cell_type": "markdown",
      "metadata": {
        "id": "LoUd7jlSYPtZ",
        "colab_type": "text"
      },
      "source": [
        "### Задание 1\n",
        "\n",
        "Реализуйте нейронную сеть с двумя сверточными слоями, и одним полносвязным с нейронами с кусочно-линейной функцией активации. Какова точность построенной модели?"
      ]
    },
    {
      "cell_type": "code",
      "metadata": {
        "id": "GZHnGIItx0K6",
        "colab_type": "code",
        "outputId": "099923e3-20fc-4c33-bd39-70e53332d1e8",
        "colab": {
          "base_uri": "https://localhost:8080/",
          "height": 34
        }
      },
      "source": [
        "from google.colab import drive\n",
        "\n",
        "drive.mount('/content/drive', force_remount = True)"
      ],
      "execution_count": 1,
      "outputs": [
        {
          "output_type": "stream",
          "text": [
            "Mounted at /content/drive\n"
          ],
          "name": "stdout"
        }
      ]
    },
    {
      "cell_type": "code",
      "metadata": {
        "id": "LOk0rWC6x3P8",
        "colab_type": "code",
        "colab": {}
      },
      "source": [
        "BASE_DIR = '/content/drive/My Drive/Colab Files/mo-2'\n",
        "\n",
        "import sys\n",
        "\n",
        "sys.path.append(BASE_DIR)\n",
        "\n",
        "import os\n",
        "\n",
        "os.chdir(BASE_DIR)"
      ],
      "execution_count": 0,
      "outputs": []
    },
    {
      "cell_type": "code",
      "metadata": {
        "id": "7pjP0Cm1x5Zl",
        "colab_type": "code",
        "colab": {}
      },
      "source": [
        "import pandas as pd\n",
        "\n",
        "dataframe = pd.read_pickle(\"./large.pkl\")"
      ],
      "execution_count": 0,
      "outputs": []
    },
    {
      "cell_type": "code",
      "metadata": {
        "id": "Mtl9Mngwx8Zl",
        "colab_type": "code",
        "outputId": "b911a4ae-b568-4da9-e10d-9033db223d8e",
        "colab": {
          "base_uri": "https://localhost:8080/",
          "height": 213
        }
      },
      "source": [
        "! pip install tensorflow-gpu --pre --quiet\n",
        "\n",
        "! pip show tensorflow-gpu"
      ],
      "execution_count": 4,
      "outputs": [
        {
          "output_type": "stream",
          "text": [
            "Name: tensorflow-gpu\n",
            "Version: 2.2.0rc3\n",
            "Summary: TensorFlow is an open source machine learning framework for everyone.\n",
            "Home-page: https://www.tensorflow.org/\n",
            "Author: Google Inc.\n",
            "Author-email: packages@tensorflow.org\n",
            "License: Apache 2.0\n",
            "Location: /usr/local/lib/python3.6/dist-packages\n",
            "Requires: six, grpcio, termcolor, h5py, wheel, wrapt, scipy, gast, tensorflow-estimator, numpy, tensorboard, absl-py, astunparse, keras-preprocessing, protobuf, google-pasta, opt-einsum\n",
            "Required-by: \n"
          ],
          "name": "stdout"
        }
      ]
    },
    {
      "cell_type": "code",
      "metadata": {
        "id": "mRODV9rmx-IV",
        "colab_type": "code",
        "colab": {}
      },
      "source": [
        "import tensorflow as tf"
      ],
      "execution_count": 0,
      "outputs": []
    },
    {
      "cell_type": "code",
      "metadata": {
        "id": "uzhWwY3dg0xc",
        "colab_type": "code",
        "colab": {}
      },
      "source": [
        "# To fix memory leak: https://github.com/tensorflow/tensorflow/issues/33009\n",
        "\n",
        "tf.compat.v1.disable_eager_execution()"
      ],
      "execution_count": 0,
      "outputs": []
    },
    {
      "cell_type": "code",
      "metadata": {
        "id": "_uDvZ4Vbx_6F",
        "colab_type": "code",
        "colab": {}
      },
      "source": [
        "import numpy as np"
      ],
      "execution_count": 0,
      "outputs": []
    },
    {
      "cell_type": "code",
      "metadata": {
        "id": "Q2Rpnra9yBbV",
        "colab_type": "code",
        "outputId": "0bf38c03-51f1-4b31-8696-e93ab9029e16",
        "colab": {
          "base_uri": "https://localhost:8080/",
          "height": 34
        }
      },
      "source": [
        "x = np.asarray(list(dataframe['data']))[..., np.newaxis]\n",
        "\n",
        "x = tf.keras.utils.normalize(x, axis = 1)\n",
        "\n",
        "x.shape"
      ],
      "execution_count": 8,
      "outputs": [
        {
          "output_type": "execute_result",
          "data": {
            "text/plain": [
              "(461946, 28, 28, 1)"
            ]
          },
          "metadata": {
            "tags": []
          },
          "execution_count": 8
        }
      ]
    },
    {
      "cell_type": "code",
      "metadata": {
        "id": "65AnRo3qvgSx",
        "colab_type": "code",
        "colab": {
          "base_uri": "https://localhost:8080/",
          "height": 282
        },
        "outputId": "cd1417a4-4fc7-4766-c690-6dda649b3c95"
      },
      "source": [
        "import matplotlib.pyplot as plt\n",
        "\n",
        "plt.imshow(x[100].squeeze())"
      ],
      "execution_count": 27,
      "outputs": [
        {
          "output_type": "execute_result",
          "data": {
            "text/plain": [
              "<matplotlib.image.AxesImage at 0x7f8a748ef278>"
            ]
          },
          "metadata": {
            "tags": []
          },
          "execution_count": 27
        },
        {
          "output_type": "display_data",
          "data": {
            "image/png": "[encoded data removed]",
            "text/plain": [
              "<Figure size 432x288 with 1 Axes>"
            ]
          },
          "metadata": {
            "tags": [],
            "needs_background": "light"
          }
        }
      ]
    },
    {
      "cell_type": "code",
      "metadata": {
        "id": "avsCi1fuyDRd",
        "colab_type": "code",
        "colab": {}
      },
      "source": [
        "IMAGE_DIM_0, IMAGE_DIM_1 = x.shape[1], x.shape[2]"
      ],
      "execution_count": 0,
      "outputs": []
    },
    {
      "cell_type": "code",
      "metadata": {
        "id": "3TIUsVTyyE4l",
        "colab_type": "code",
        "outputId": "95af20e0-6387-410d-a4ac-6090a6c25ef6",
        "colab": {
          "base_uri": "https://localhost:8080/",
          "height": 34
        }
      },
      "source": [
        "from tensorflow.keras.utils import to_categorical\n",
        "\n",
        "y = to_categorical(dataframe['label'].astype('category').cat.codes.astype('int32'))\n",
        "\n",
        "y.shape"
      ],
      "execution_count": 10,
      "outputs": [
        {
          "output_type": "execute_result",
          "data": {
            "text/plain": [
              "(461946, 10)"
            ]
          },
          "metadata": {
            "tags": []
          },
          "execution_count": 10
        }
      ]
    },
    {
      "cell_type": "code",
      "metadata": {
        "id": "Or7diCV8yHNe",
        "colab_type": "code",
        "colab": {}
      },
      "source": [
        "CLASSES_N = y.shape[1]"
      ],
      "execution_count": 0,
      "outputs": []
    },
    {
      "cell_type": "code",
      "metadata": {
        "id": "sZjNAEhAoS_S",
        "colab_type": "code",
        "colab": {}
      },
      "source": [
        "DENSE_LAYER_WIDTH = 5000"
      ],
      "execution_count": 0,
      "outputs": []
    },
    {
      "cell_type": "code",
      "metadata": {
        "id": "FSSnWl6J7E8B",
        "colab_type": "code",
        "outputId": "86971a4b-0b5e-4650-85fe-6ed78f9f4c34",
        "colab": {
          "base_uri": "https://localhost:8080/",
          "height": 90
        }
      },
      "source": [
        "from tensorflow.keras.models import Sequential\n",
        "from tensorflow.keras.layers import Conv2D, Dense, Flatten\n",
        "\n",
        "model = tf.keras.Sequential()\n",
        "\n",
        "model.add(Conv2D(16, 3, padding = 'same', activation = 'relu', input_shape = (IMAGE_DIM_0, IMAGE_DIM_1, 1)))\n",
        "model.add(Conv2D(32, 3, padding = 'same', activation = 'relu'))\n",
        "model.add(Flatten())\n",
        "model.add(Dense(DENSE_LAYER_WIDTH, activation = 'relu'))\n",
        "model.add(Dense(CLASSES_N))"
      ],
      "execution_count": 13,
      "outputs": [
        {
          "output_type": "stream",
          "text": [
            "WARNING:tensorflow:From /usr/local/lib/python3.6/dist-packages/tensorflow/python/ops/resource_variable_ops.py:1666: calling BaseResourceVariable.__init__ (from tensorflow.python.ops.resource_variable_ops) with constraint is deprecated and will be removed in a future version.\n",
            "Instructions for updating:\n",
            "If using Keras pass *_constraint arguments to layers.\n"
          ],
          "name": "stdout"
        }
      ]
    },
    {
      "cell_type": "code",
      "metadata": {
        "id": "ZJkI7ZDs7KTn",
        "colab_type": "code",
        "colab": {}
      },
      "source": [
        "def cat_cross_from_logits(y_true, y_pred):\n",
        "    return tf.keras.losses.categorical_crossentropy(y_true, y_pred, from_logits = True)\n",
        "\n",
        "model.compile(optimizer = 'sgd',\n",
        "              loss = cat_cross_from_logits,\n",
        "              metrics = ['categorical_accuracy'])"
      ],
      "execution_count": 0,
      "outputs": []
    },
    {
      "cell_type": "code",
      "metadata": {
        "id": "ryM-uIdU7Qdm",
        "colab_type": "code",
        "outputId": "f0e2c4f1-825d-4823-f66b-62402ead2225",
        "colab": {
          "base_uri": "https://localhost:8080/",
          "height": 334
        }
      },
      "source": [
        "model.summary()"
      ],
      "execution_count": 15,
      "outputs": [
        {
          "output_type": "stream",
          "text": [
            "Model: \"sequential\"\n",
            "_________________________________________________________________\n",
            "Layer (type)                 Output Shape              Param #   \n",
            "=================================================================\n",
            "conv2d (Conv2D)              (None, 28, 28, 16)        160       \n",
            "_________________________________________________________________\n",
            "conv2d_1 (Conv2D)            (None, 28, 28, 32)        4640      \n",
            "_________________________________________________________________\n",
            "flatten (Flatten)            (None, 25088)             0         \n",
            "_________________________________________________________________\n",
            "dense (Dense)                (None, 5000)              125445000 \n",
            "_________________________________________________________________\n",
            "dense_1 (Dense)              (None, 10)                50010     \n",
            "=================================================================\n",
            "Total params: 125,499,810\n",
            "Trainable params: 125,499,810\n",
            "Non-trainable params: 0\n",
            "_________________________________________________________________\n"
          ],
          "name": "stdout"
        }
      ]
    },
    {
      "cell_type": "code",
      "metadata": {
        "id": "G0j4Oa2D7YFW",
        "colab_type": "code",
        "colab": {}
      },
      "source": [
        "VAL_SPLIT_RATE = 0.1"
      ],
      "execution_count": 0,
      "outputs": []
    },
    {
      "cell_type": "code",
      "metadata": {
        "id": "sNS8drBf7Z-u",
        "colab_type": "code",
        "colab": {}
      },
      "source": [
        "EPOCHS_N = 10"
      ],
      "execution_count": 0,
      "outputs": []
    },
    {
      "cell_type": "code",
      "metadata": {
        "id": "BmtltwXc7cxH",
        "colab_type": "code",
        "outputId": "c7683ea0-c401-4d38-db9f-0a6628e0c30b",
        "colab": {
          "base_uri": "https://localhost:8080/",
          "height": 424
        }
      },
      "source": [
        "model.fit(x = x, y = y, epochs = EPOCHS_N, validation_split = VAL_SPLIT_RATE)"
      ],
      "execution_count": 18,
      "outputs": [
        {
          "output_type": "stream",
          "text": [
            "Train on 415751 samples, validate on 46195 samples\n",
            "Epoch 1/10\n",
            "415751/415751 [==============================] - 126s 304us/sample - loss: 0.4728 - categorical_accuracy: 0.8599 - val_loss: 2.9611 - val_categorical_accuracy: 0.1937\n",
            "Epoch 2/10\n",
            "415751/415751 [==============================] - 127s 305us/sample - loss: 0.3451 - categorical_accuracy: 0.8957 - val_loss: 2.1803 - val_categorical_accuracy: 0.4669\n",
            "Epoch 3/10\n",
            "415751/415751 [==============================] - 126s 302us/sample - loss: 0.2919 - categorical_accuracy: 0.9112 - val_loss: 1.8064 - val_categorical_accuracy: 0.6041\n",
            "Epoch 4/10\n",
            "415751/415751 [==============================] - 126s 303us/sample - loss: 0.2506 - categorical_accuracy: 0.9234 - val_loss: 2.0507 - val_categorical_accuracy: 0.5340\n",
            "Epoch 5/10\n",
            "415751/415751 [==============================] - 126s 303us/sample - loss: 0.2140 - categorical_accuracy: 0.9344 - val_loss: 1.9813 - val_categorical_accuracy: 0.5627\n",
            "Epoch 6/10\n",
            "415751/415751 [==============================] - 126s 302us/sample - loss: 0.1790 - categorical_accuracy: 0.9451 - val_loss: 2.0848 - val_categorical_accuracy: 0.5237\n",
            "Epoch 7/10\n",
            "415751/415751 [==============================] - 126s 303us/sample - loss: 0.1456 - categorical_accuracy: 0.9555 - val_loss: 1.5331 - val_categorical_accuracy: 0.7031\n",
            "Epoch 8/10\n",
            "415751/415751 [==============================] - 126s 303us/sample - loss: 0.1161 - categorical_accuracy: 0.9649 - val_loss: 2.2910 - val_categorical_accuracy: 0.5456\n",
            "Epoch 9/10\n",
            "415751/415751 [==============================] - 126s 303us/sample - loss: 0.0915 - categorical_accuracy: 0.9730 - val_loss: 2.4741 - val_categorical_accuracy: 0.5926\n",
            "Epoch 10/10\n",
            "415751/415751 [==============================] - 126s 303us/sample - loss: 0.0726 - categorical_accuracy: 0.9788 - val_loss: 2.4745 - val_categorical_accuracy: 0.5619\n"
          ],
          "name": "stdout"
        },
        {
          "output_type": "execute_result",
          "data": {
            "text/plain": [
              "<tensorflow.python.keras.callbacks.History at 0x7f8a733368d0>"
            ]
          },
          "metadata": {
            "tags": []
          },
          "execution_count": 18
        }
      ]
    },
    {
      "cell_type": "markdown",
      "metadata": {
        "id": "dPT5baf0OuAv",
        "colab_type": "text"
      },
      "source": [
        "Лучшая точность построенной модели на валидационной выборке составила 60%."
      ]
    },
    {
      "cell_type": "markdown",
      "metadata": {
        "id": "_QTPmwbvaAiN",
        "colab_type": "text"
      },
      "source": [
        "### Задание 2\n",
        "\n",
        "Замените один из сверточных слоев на слой, реализующий операцию пулинга (_Pooling_) с функцией максимума или среднего. Как это повлияло на точность классификатора?"
      ]
    },
    {
      "cell_type": "code",
      "metadata": {
        "id": "aP_i1EWAGOPS",
        "colab_type": "code",
        "colab": {}
      },
      "source": [
        "from tensorflow.keras.layers import MaxPooling2D\n",
        "\n",
        "model_2 = tf.keras.Sequential()\n",
        "\n",
        "model_2.add(Conv2D(16, 3, padding = 'same', activation = 'relu', input_shape = (IMAGE_DIM_0, IMAGE_DIM_1, 1)))\n",
        "model_2.add(MaxPooling2D())\n",
        "model_2.add(Flatten())\n",
        "model_2.add(Dense(DENSE_LAYER_WIDTH, activation = 'relu'))\n",
        "model_2.add(Dense(CLASSES_N))"
      ],
      "execution_count": 0,
      "outputs": []
    },
    {
      "cell_type": "code",
      "metadata": {
        "id": "q5GFfxN0gnhB",
        "colab_type": "code",
        "colab": {}
      },
      "source": [
        "model_2.compile(optimizer = 'sgd',\n",
        "               loss = cat_cross_from_logits,\n",
        "               metrics = ['categorical_accuracy'])"
      ],
      "execution_count": 0,
      "outputs": []
    },
    {
      "cell_type": "code",
      "metadata": {
        "id": "ZDtqGb2Egrpf",
        "colab_type": "code",
        "outputId": "d411b053-2b8b-4e20-aa92-74fc3d300c29",
        "colab": {
          "base_uri": "https://localhost:8080/",
          "height": 334
        }
      },
      "source": [
        "model_2.summary()"
      ],
      "execution_count": 21,
      "outputs": [
        {
          "output_type": "stream",
          "text": [
            "Model: \"sequential_1\"\n",
            "_________________________________________________________________\n",
            "Layer (type)                 Output Shape              Param #   \n",
            "=================================================================\n",
            "conv2d_2 (Conv2D)            (None, 28, 28, 16)        160       \n",
            "_________________________________________________________________\n",
            "max_pooling2d (MaxPooling2D) (None, 14, 14, 16)        0         \n",
            "_________________________________________________________________\n",
            "flatten_1 (Flatten)          (None, 3136)              0         \n",
            "_________________________________________________________________\n",
            "dense_2 (Dense)              (None, 5000)              15685000  \n",
            "_________________________________________________________________\n",
            "dense_3 (Dense)              (None, 10)                50010     \n",
            "=================================================================\n",
            "Total params: 15,735,170\n",
            "Trainable params: 15,735,170\n",
            "Non-trainable params: 0\n",
            "_________________________________________________________________\n"
          ],
          "name": "stdout"
        }
      ]
    },
    {
      "cell_type": "code",
      "metadata": {
        "id": "r1WKjxR6gvSP",
        "colab_type": "code",
        "outputId": "12d765f4-9c39-4818-8917-0cc3d2f76fdd",
        "colab": {
          "base_uri": "https://localhost:8080/",
          "height": 424
        }
      },
      "source": [
        "model_2.fit(x = x, y = y, epochs = EPOCHS_N, validation_split = VAL_SPLIT_RATE)"
      ],
      "execution_count": 22,
      "outputs": [
        {
          "output_type": "stream",
          "text": [
            "Train on 415751 samples, validate on 46195 samples\n",
            "Epoch 1/10\n",
            "415751/415751 [==============================] - 40s 97us/sample - loss: 0.5639 - categorical_accuracy: 0.8391 - val_loss: 3.4563 - val_categorical_accuracy: 0.0550\n",
            "Epoch 2/10\n",
            "415751/415751 [==============================] - 40s 96us/sample - loss: 0.3971 - categorical_accuracy: 0.8806 - val_loss: 2.9262 - val_categorical_accuracy: 0.2779\n",
            "Epoch 3/10\n",
            "415751/415751 [==============================] - 40s 96us/sample - loss: 0.3516 - categorical_accuracy: 0.8940 - val_loss: 2.3184 - val_categorical_accuracy: 0.4270\n",
            "Epoch 4/10\n",
            "415751/415751 [==============================] - 40s 96us/sample - loss: 0.3224 - categorical_accuracy: 0.9025 - val_loss: 1.9385 - val_categorical_accuracy: 0.5441\n",
            "Epoch 5/10\n",
            "415751/415751 [==============================] - 40s 96us/sample - loss: 0.2997 - categorical_accuracy: 0.9091 - val_loss: 2.3843 - val_categorical_accuracy: 0.4684\n",
            "Epoch 6/10\n",
            "415751/415751 [==============================] - 41s 98us/sample - loss: 0.2811 - categorical_accuracy: 0.9148 - val_loss: 1.8039 - val_categorical_accuracy: 0.5672\n",
            "Epoch 7/10\n",
            "415751/415751 [==============================] - 40s 96us/sample - loss: 0.2639 - categorical_accuracy: 0.9200 - val_loss: 1.9252 - val_categorical_accuracy: 0.5571\n",
            "Epoch 8/10\n",
            "415751/415751 [==============================] - 40s 96us/sample - loss: 0.2489 - categorical_accuracy: 0.9243 - val_loss: 2.4333 - val_categorical_accuracy: 0.4514\n",
            "Epoch 9/10\n",
            "415751/415751 [==============================] - 40s 96us/sample - loss: 0.2349 - categorical_accuracy: 0.9285 - val_loss: 2.2890 - val_categorical_accuracy: 0.4605\n",
            "Epoch 10/10\n",
            "415751/415751 [==============================] - 40s 95us/sample - loss: 0.2209 - categorical_accuracy: 0.9328 - val_loss: 1.6405 - val_categorical_accuracy: 0.6391\n"
          ],
          "name": "stdout"
        },
        {
          "output_type": "execute_result",
          "data": {
            "text/plain": [
              "<tensorflow.python.keras.callbacks.History at 0x7f8a75f5a3c8>"
            ]
          },
          "metadata": {
            "tags": []
          },
          "execution_count": 22
        }
      ]
    },
    {
      "cell_type": "markdown",
      "metadata": {
        "id": "MEjhLucgO0Cl",
        "colab_type": "text"
      },
      "source": [
        "Замена свёрточного слоя на операцию пулинга снизила лучшую точность на валидационной выборке до 56%."
      ]
    },
    {
      "cell_type": "markdown",
      "metadata": {
        "id": "fUSDBLccaH1F",
        "colab_type": "text"
      },
      "source": [
        "### Задание 3\n",
        "\n",
        "Реализуйте классическую архитектуру сверточных сетей _LeNet-5_ (http://yann.lecun.com/exdb/lenet/)."
      ]
    },
    {
      "cell_type": "code",
      "metadata": {
        "id": "RwpQ0RV1KUmW",
        "colab_type": "code",
        "colab": {}
      },
      "source": [
        "from tensorflow.keras.layers import AveragePooling2D\n",
        "\n",
        "model_3 = tf.keras.Sequential()\n",
        "\n",
        "model_3.add(Conv2D(6, kernel_size = (5, 5), strides = (1, 1), activation = 'tanh', padding = 'same',\n",
        "                   input_shape = (IMAGE_DIM_0, IMAGE_DIM_1, 1)))\n",
        "model_3.add(AveragePooling2D(pool_size = (2, 2), strides = (2, 2), padding = 'valid'))\n",
        "model_3.add(Conv2D(16, kernel_size = (5, 5), strides = (1, 1), activation = 'tanh', padding = 'valid'))\n",
        "model_3.add(AveragePooling2D(pool_size = (2, 2), strides = (2, 2), padding = 'valid'))\n",
        "model_3.add(Flatten())\n",
        "model_3.add(Dense(120, activation = 'tanh'))\n",
        "model_3.add(Dense(84, activation = 'tanh'))\n",
        "model_3.add(Dense(CLASSES_N, activation = 'softmax'))"
      ],
      "execution_count": 0,
      "outputs": []
    },
    {
      "cell_type": "code",
      "metadata": {
        "id": "rp3AmwxZLBjw",
        "colab_type": "code",
        "colab": {}
      },
      "source": [
        "model_3.compile(optimizer = 'adam',\n",
        "                loss = 'categorical_crossentropy',\n",
        "                metrics = ['categorical_accuracy'])"
      ],
      "execution_count": 0,
      "outputs": []
    },
    {
      "cell_type": "code",
      "metadata": {
        "id": "FyOP4S16LM_V",
        "colab_type": "code",
        "outputId": "20fa8d3c-2315-4dda-ceaa-07ea7b38af78",
        "colab": {
          "base_uri": "https://localhost:8080/",
          "height": 424
        }
      },
      "source": [
        "model_3.fit(x = x, y = y, epochs = EPOCHS_N, validation_split = VAL_SPLIT_RATE)"
      ],
      "execution_count": 25,
      "outputs": [
        {
          "output_type": "stream",
          "text": [
            "Train on 415751 samples, validate on 46195 samples\n",
            "Epoch 1/10\n",
            "415751/415751 [==============================] - 33s 80us/sample - loss: 0.4420 - categorical_accuracy: 0.8650 - val_loss: 2.7961 - val_categorical_accuracy: 0.2953\n",
            "Epoch 2/10\n",
            "415751/415751 [==============================] - 33s 80us/sample - loss: 0.3455 - categorical_accuracy: 0.8929 - val_loss: 2.6437 - val_categorical_accuracy: 0.3695\n",
            "Epoch 3/10\n",
            "415751/415751 [==============================] - 33s 80us/sample - loss: 0.3196 - categorical_accuracy: 0.8999 - val_loss: 2.1973 - val_categorical_accuracy: 0.4337\n",
            "Epoch 4/10\n",
            "415751/415751 [==============================] - 34s 81us/sample - loss: 0.3030 - categorical_accuracy: 0.9048 - val_loss: 2.7226 - val_categorical_accuracy: 0.3638\n",
            "Epoch 5/10\n",
            "415751/415751 [==============================] - 33s 79us/sample - loss: 0.2943 - categorical_accuracy: 0.9075 - val_loss: 1.8196 - val_categorical_accuracy: 0.5834\n",
            "Epoch 6/10\n",
            "415751/415751 [==============================] - 33s 79us/sample - loss: 0.2862 - categorical_accuracy: 0.9099 - val_loss: 3.1987 - val_categorical_accuracy: 0.2773\n",
            "Epoch 7/10\n",
            "415751/415751 [==============================] - 33s 79us/sample - loss: 0.2792 - categorical_accuracy: 0.9121 - val_loss: 2.2050 - val_categorical_accuracy: 0.5181\n",
            "Epoch 8/10\n",
            "415751/415751 [==============================] - 33s 80us/sample - loss: 0.2736 - categorical_accuracy: 0.9133 - val_loss: 2.9286 - val_categorical_accuracy: 0.3003\n",
            "Epoch 9/10\n",
            "415751/415751 [==============================] - 33s 79us/sample - loss: 0.2689 - categorical_accuracy: 0.9156 - val_loss: 2.1646 - val_categorical_accuracy: 0.5527\n",
            "Epoch 10/10\n",
            "415751/415751 [==============================] - 33s 79us/sample - loss: 0.2646 - categorical_accuracy: 0.9162 - val_loss: 2.6502 - val_categorical_accuracy: 0.3697\n"
          ],
          "name": "stdout"
        },
        {
          "output_type": "execute_result",
          "data": {
            "text/plain": [
              "<tensorflow.python.keras.callbacks.History at 0x7f8a73336710>"
            ]
          },
          "metadata": {
            "tags": []
          },
          "execution_count": 25
        }
      ]
    },
    {
      "cell_type": "markdown",
      "metadata": {
        "id": "JJE42pyNPRcm",
        "colab_type": "text"
      },
      "source": [
        "Удивительно, но _LeNet-5_ показала результат хуже, чем первая модель, несмотря на то, что включала её слои и даже больше &mdash; всего 58% на валидационной выборке."
      ]
    },
    {
      "cell_type": "markdown",
      "metadata": {
        "id": "X408QNkzaOnm",
        "colab_type": "text"
      },
      "source": [
        "### Задание 4\n",
        "\n",
        "Сравните максимальные точности моделей, построенных в лабораторных работах 1-3. Как можно объяснить полученные различия?"
      ]
    },
    {
      "cell_type": "markdown",
      "metadata": {
        "id": "bVfoAcYYPyvN",
        "colab_type": "text"
      },
      "source": [
        "Результаты на валидационной выборке:\n",
        "\n",
        "* логистическая регрессия &mdash; 81%;\n",
        "\n",
        "* все модели с только полносвязными слоями &mdash; 0%;\n",
        "\n",
        "* модель с двумя свёрточными слоями и одним полносвязным &mdash; 60%;\n",
        "\n",
        "* модель с одним свёрточным слоем, операцией пулинга и одним полносвязным &mdash; 56%;\n",
        "\n",
        "* _LeNet-5_ &mdash; два свёрточных слоя две операции пулинга два полносвязных слоя &mdash; 58%.\n",
        "\n",
        "Получается, что логистическая регрессия дала наилучший результат.\n",
        "\n",
        "Объяснить это можно недостатками самостоятельной реализации сетей."
      ]
    }
  ]
}