{
  "nbformat": 4,
  "nbformat_minor": 0,
  "metadata": {
    "colab": {
      "name": "mo-2-3-0.ipynb",
      "provenance": [],
      "collapsed_sections": [],
      "toc_visible": true,
      "machine_shape": "hm"
    },
    "kernelspec": {
      "name": "python3",
      "display_name": "Python 3"
    },
    "accelerator": "GPU"
  },
  "cells": [
    {
      "cell_type": "markdown",
      "metadata": {
        "id": "kVIY2b3AX_aJ",
        "colab_type": "text"
      },
      "source": [
        "# Лабораторная работа №3\n",
        "\n",
        "## Реализация сверточной нейронной сети"
      ]
    },
    {
      "cell_type": "markdown",
      "metadata": {
        "id": "s_PQ44IXYNX8",
        "colab_type": "text"
      },
      "source": [
        "В работе предлагается использовать набор данных _notMNIST_, который состоит из изображений размерностью 28×28 первых 10 букв латинского алфавита (_A_ ... _J_, соответственно). Обучающая выборка содержит порядка 500 тыс. изображений, а тестовая – около 19 тыс.\n",
        "\n",
        "Данные можно скачать по ссылке:\n",
        "\n",
        "* https://commondatastorage.googleapis.com/books1000/notMNIST_large.tar.gz (большой набор данных);\n",
        "\n",
        "* https://commondatastorage.googleapis.com/books1000/notMNIST_small.tar.gz (маленький набор данных);\n",
        "\n",
        "Описание данных на английском языке доступно по ссылке:\n",
        "http://yaroslavvb.blogspot.sg/2011/09/notmnist-dataset.html"
      ]
    },
    {
      "cell_type": "markdown",
      "metadata": {
        "id": "LoUd7jlSYPtZ",
        "colab_type": "text"
      },
      "source": [
        "### Задание 1\n",
        "\n",
        "Реализуйте нейронную сеть с двумя сверточными слоями, и одним полносвязным с нейронами с кусочно-линейной функцией активации. Какова точность построенной модели?"
      ]
    },
    {
      "cell_type": "code",
      "metadata": {
        "id": "GZHnGIItx0K6",
        "colab_type": "code",
        "colab": {
          "base_uri": "https://localhost:8080/",
          "height": 34
        },
        "outputId": "6fd51c22-b608-4b70-ebf8-36bfba4743b8"
      },
      "source": [
        "from google.colab import drive\n",
        "\n",
        "drive.mount('/content/drive', force_remount = True)"
      ],
      "execution_count": 1,
      "outputs": [
        {
          "output_type": "stream",
          "text": [
            "Mounted at /content/drive\n"
          ],
          "name": "stdout"
        }
      ]
    },
    {
      "cell_type": "code",
      "metadata": {
        "id": "LOk0rWC6x3P8",
        "colab_type": "code",
        "colab": {}
      },
      "source": [
        "BASE_DIR = '/content/drive/My Drive/Colab Files/mo-2'\n",
        "\n",
        "import sys\n",
        "\n",
        "sys.path.append(BASE_DIR)\n",
        "\n",
        "import os\n",
        "\n",
        "os.chdir(BASE_DIR)"
      ],
      "execution_count": 0,
      "outputs": []
    },
    {
      "cell_type": "code",
      "metadata": {
        "id": "7pjP0Cm1x5Zl",
        "colab_type": "code",
        "colab": {}
      },
      "source": [
        "import pandas as pd\n",
        "\n",
        "dataframe = pd.read_pickle(\"./large.pkl\")"
      ],
      "execution_count": 0,
      "outputs": []
    },
    {
      "cell_type": "code",
      "metadata": {
        "id": "Mtl9Mngwx8Zl",
        "colab_type": "code",
        "colab": {
          "base_uri": "https://localhost:8080/",
          "height": 187
        },
        "outputId": "812f5b89-d27a-433c-8340-fd204ec3ce11"
      },
      "source": [
        "! pip install tensorflow-gpu --pre --quiet\n",
        "\n",
        "! pip show tensorflow-gpu"
      ],
      "execution_count": 4,
      "outputs": [
        {
          "output_type": "stream",
          "text": [
            "Name: tensorflow-gpu\n",
            "Version: 2.2.0rc2\n",
            "Summary: TensorFlow is an open source machine learning framework for everyone.\n",
            "Home-page: https://www.tensorflow.org/\n",
            "Author: Google Inc.\n",
            "Author-email: packages@tensorflow.org\n",
            "License: Apache 2.0\n",
            "Location: /usr/local/lib/python3.6/dist-packages\n",
            "Requires: scipy, google-pasta, termcolor, wrapt, absl-py, h5py, opt-einsum, astunparse, keras-preprocessing, numpy, grpcio, tensorboard, protobuf, gast, six, tensorflow-estimator, wheel\n",
            "Required-by: \n"
          ],
          "name": "stdout"
        }
      ]
    },
    {
      "cell_type": "code",
      "metadata": {
        "id": "mRODV9rmx-IV",
        "colab_type": "code",
        "colab": {}
      },
      "source": [
        "import tensorflow as tf"
      ],
      "execution_count": 0,
      "outputs": []
    },
    {
      "cell_type": "code",
      "metadata": {
        "id": "_uDvZ4Vbx_6F",
        "colab_type": "code",
        "colab": {}
      },
      "source": [
        "import numpy as np"
      ],
      "execution_count": 0,
      "outputs": []
    },
    {
      "cell_type": "code",
      "metadata": {
        "id": "Q2Rpnra9yBbV",
        "colab_type": "code",
        "colab": {
          "base_uri": "https://localhost:8080/",
          "height": 34
        },
        "outputId": "86935bc5-1fa1-4b94-89df-64c7a606c65b"
      },
      "source": [
        "x = np.asarray(list(dataframe['data']))[..., np.newaxis]\n",
        "\n",
        "x = tf.keras.utils.normalize(x, axis = 1)\n",
        "\n",
        "x.shape"
      ],
      "execution_count": 7,
      "outputs": [
        {
          "output_type": "execute_result",
          "data": {
            "text/plain": [
              "(461946, 28, 28, 1)"
            ]
          },
          "metadata": {
            "tags": []
          },
          "execution_count": 7
        }
      ]
    },
    {
      "cell_type": "code",
      "metadata": {
        "id": "avsCi1fuyDRd",
        "colab_type": "code",
        "colab": {}
      },
      "source": [
        "IMAGE_DIM_0, IMAGE_DIM_1 = x.shape[1], x.shape[2]"
      ],
      "execution_count": 0,
      "outputs": []
    },
    {
      "cell_type": "code",
      "metadata": {
        "id": "3TIUsVTyyE4l",
        "colab_type": "code",
        "colab": {
          "base_uri": "https://localhost:8080/",
          "height": 34
        },
        "outputId": "847f824f-dc2d-4307-ae77-681e0cea7689"
      },
      "source": [
        "from tensorflow.keras.utils import to_categorical\n",
        "\n",
        "y = to_categorical(dataframe['label'].astype('category').cat.codes.astype('int32'))\n",
        "\n",
        "y.shape"
      ],
      "execution_count": 9,
      "outputs": [
        {
          "output_type": "execute_result",
          "data": {
            "text/plain": [
              "(461946, 10)"
            ]
          },
          "metadata": {
            "tags": []
          },
          "execution_count": 9
        }
      ]
    },
    {
      "cell_type": "code",
      "metadata": {
        "id": "Or7diCV8yHNe",
        "colab_type": "code",
        "colab": {}
      },
      "source": [
        "CLASSES_N = y.shape[1]"
      ],
      "execution_count": 0,
      "outputs": []
    },
    {
      "cell_type": "code",
      "metadata": {
        "id": "sZjNAEhAoS_S",
        "colab_type": "code",
        "colab": {}
      },
      "source": [
        "DENSE_LAYER_WIDTH = 5000"
      ],
      "execution_count": 0,
      "outputs": []
    },
    {
      "cell_type": "code",
      "metadata": {
        "id": "FSSnWl6J7E8B",
        "colab_type": "code",
        "colab": {}
      },
      "source": [
        "from tensorflow.keras.models import Sequential\n",
        "from tensorflow.keras.layers import Conv2D, Dense, Flatten\n",
        "\n",
        "model = tf.keras.Sequential()\n",
        "\n",
        "model.add(Conv2D(16, 3, padding='same', activation='relu', input_shape=(IMAGE_DIM_0, IMAGE_DIM_1, 1)))\n",
        "model.add(Conv2D(32, 3, padding='same', activation='relu'))\n",
        "model.add(Flatten())\n",
        "model.add(Dense(DENSE_LAYER_WIDTH, activation='relu'))\n",
        "model.add(Dense(CLASSES_N))"
      ],
      "execution_count": 0,
      "outputs": []
    },
    {
      "cell_type": "code",
      "metadata": {
        "id": "ZJkI7ZDs7KTn",
        "colab_type": "code",
        "colab": {}
      },
      "source": [
        "def cat_cross_from_logits(y_true, y_pred):\n",
        "    return tf.keras.losses.categorical_crossentropy(y_true, y_pred, from_logits = True)\n",
        "\n",
        "model.compile(optimizer = 'sgd',\n",
        "              loss = cat_cross_from_logits,\n",
        "              metrics = ['categorical_accuracy'])"
      ],
      "execution_count": 0,
      "outputs": []
    },
    {
      "cell_type": "code",
      "metadata": {
        "id": "ryM-uIdU7Qdm",
        "colab_type": "code",
        "colab": {
          "base_uri": "https://localhost:8080/",
          "height": 323
        },
        "outputId": "d2975312-71a4-4152-b1e7-43a12a0b9f64"
      },
      "source": [
        "model.summary()"
      ],
      "execution_count": 14,
      "outputs": [
        {
          "output_type": "stream",
          "text": [
            "Model: \"sequential\"\n",
            "_________________________________________________________________\n",
            "Layer (type)                 Output Shape              Param #   \n",
            "=================================================================\n",
            "conv2d (Conv2D)              (None, 28, 28, 16)        160       \n",
            "_________________________________________________________________\n",
            "conv2d_1 (Conv2D)            (None, 28, 28, 32)        4640      \n",
            "_________________________________________________________________\n",
            "flatten (Flatten)            (None, 25088)             0         \n",
            "_________________________________________________________________\n",
            "dense (Dense)                (None, 5000)              125445000 \n",
            "_________________________________________________________________\n",
            "dense_1 (Dense)              (None, 10)                50010     \n",
            "=================================================================\n",
            "Total params: 125,499,810\n",
            "Trainable params: 125,499,810\n",
            "Non-trainable params: 0\n",
            "_________________________________________________________________\n"
          ],
          "name": "stdout"
        }
      ]
    },
    {
      "cell_type": "code",
      "metadata": {
        "id": "hHn-Avfi7TU_",
        "colab_type": "code",
        "colab": {}
      },
      "source": [
        "BATCH_SIZE = 128"
      ],
      "execution_count": 0,
      "outputs": []
    },
    {
      "cell_type": "code",
      "metadata": {
        "id": "FhWZ4l5d7Vzv",
        "colab_type": "code",
        "colab": {}
      },
      "source": [
        "r = 3608"
      ],
      "execution_count": 0,
      "outputs": []
    },
    {
      "cell_type": "code",
      "metadata": {
        "id": "G0j4Oa2D7YFW",
        "colab_type": "code",
        "colab": {}
      },
      "source": [
        "VAL_SPLIT_RATE = 0.1"
      ],
      "execution_count": 0,
      "outputs": []
    },
    {
      "cell_type": "code",
      "metadata": {
        "id": "sNS8drBf7Z-u",
        "colab_type": "code",
        "colab": {}
      },
      "source": [
        "EPOCHS_N = 20"
      ],
      "execution_count": 0,
      "outputs": []
    },
    {
      "cell_type": "code",
      "metadata": {
        "id": "BmtltwXc7cxH",
        "colab_type": "code",
        "colab": {
          "base_uri": "https://localhost:8080/",
          "height": 714
        },
        "outputId": "2973bf1e-8124-4e5d-df06-f7a4b15ce8c2"
      },
      "source": [
        "model.fit(x = x[:r * BATCH_SIZE], y = y[:r * BATCH_SIZE], epochs = EPOCHS_N, batch_size = BATCH_SIZE,\n",
        "          validation_split = VAL_SPLIT_RATE)"
      ],
      "execution_count": 19,
      "outputs": [
        {
          "output_type": "stream",
          "text": [
            "Epoch 1/20\n",
            "3248/3248 [==============================] - 68s 21ms/step - loss: 0.5783 - categorical_accuracy: 0.8341 - val_loss: 3.3317 - val_categorical_accuracy: 0.1348\n",
            "Epoch 2/20\n",
            "3248/3248 [==============================] - 67s 21ms/step - loss: 0.3994 - categorical_accuracy: 0.8802 - val_loss: 2.9922 - val_categorical_accuracy: 0.2924\n",
            "Epoch 3/20\n",
            "3248/3248 [==============================] - 68s 21ms/step - loss: 0.3580 - categorical_accuracy: 0.8920 - val_loss: 3.4655 - val_categorical_accuracy: 0.1276\n",
            "Epoch 4/20\n",
            "3248/3248 [==============================] - 67s 21ms/step - loss: 0.3320 - categorical_accuracy: 0.8997 - val_loss: 2.9824 - val_categorical_accuracy: 0.3013\n",
            "Epoch 5/20\n",
            "3248/3248 [==============================] - 67s 21ms/step - loss: 0.3113 - categorical_accuracy: 0.9057 - val_loss: 2.7058 - val_categorical_accuracy: 0.3583\n",
            "Epoch 6/20\n",
            "3248/3248 [==============================] - 67s 21ms/step - loss: 0.2939 - categorical_accuracy: 0.9107 - val_loss: 2.7739 - val_categorical_accuracy: 0.4440\n",
            "Epoch 7/20\n",
            "3248/3248 [==============================] - 67s 21ms/step - loss: 0.2774 - categorical_accuracy: 0.9154 - val_loss: 2.4171 - val_categorical_accuracy: 0.5013\n",
            "Epoch 8/20\n",
            "3248/3248 [==============================] - 67s 21ms/step - loss: 0.2622 - categorical_accuracy: 0.9197 - val_loss: 2.4415 - val_categorical_accuracy: 0.4728\n",
            "Epoch 9/20\n",
            "3248/3248 [==============================] - 67s 21ms/step - loss: 0.2482 - categorical_accuracy: 0.9240 - val_loss: 2.0331 - val_categorical_accuracy: 0.5932\n",
            "Epoch 10/20\n",
            "3248/3248 [==============================] - 68s 21ms/step - loss: 0.2341 - categorical_accuracy: 0.9282 - val_loss: 2.2442 - val_categorical_accuracy: 0.5350\n",
            "Epoch 11/20\n",
            "3248/3248 [==============================] - 67s 21ms/step - loss: 0.2207 - categorical_accuracy: 0.9322 - val_loss: 2.4903 - val_categorical_accuracy: 0.5241\n",
            "Epoch 12/20\n",
            "3248/3248 [==============================] - 68s 21ms/step - loss: 0.2070 - categorical_accuracy: 0.9362 - val_loss: 2.7420 - val_categorical_accuracy: 0.4770\n",
            "Epoch 13/20\n",
            "3248/3248 [==============================] - 67s 21ms/step - loss: 0.1938 - categorical_accuracy: 0.9401 - val_loss: 2.9653 - val_categorical_accuracy: 0.4339\n",
            "Epoch 14/20\n",
            "3248/3248 [==============================] - 68s 21ms/step - loss: 0.1802 - categorical_accuracy: 0.9445 - val_loss: 2.1787 - val_categorical_accuracy: 0.6012\n",
            "Epoch 15/20\n",
            "3248/3248 [==============================] - 67s 21ms/step - loss: 0.1675 - categorical_accuracy: 0.9482 - val_loss: 3.2919 - val_categorical_accuracy: 0.4120\n",
            "Epoch 16/20\n",
            "3248/3248 [==============================] - 67s 21ms/step - loss: 0.1549 - categorical_accuracy: 0.9519 - val_loss: 3.4469 - val_categorical_accuracy: 0.4163\n",
            "Epoch 17/20\n",
            "3248/3248 [==============================] - 67s 21ms/step - loss: 0.1422 - categorical_accuracy: 0.9561 - val_loss: 2.7405 - val_categorical_accuracy: 0.5342\n",
            "Epoch 18/20\n",
            "3248/3248 [==============================] - 67s 21ms/step - loss: 0.1307 - categorical_accuracy: 0.9599 - val_loss: 2.5604 - val_categorical_accuracy: 0.5911\n",
            "Epoch 19/20\n",
            "3248/3248 [==============================] - 68s 21ms/step - loss: 0.1196 - categorical_accuracy: 0.9635 - val_loss: 2.9184 - val_categorical_accuracy: 0.5394\n",
            "Epoch 20/20\n",
            "3248/3248 [==============================] - 67s 21ms/step - loss: 0.1091 - categorical_accuracy: 0.9670 - val_loss: 2.7400 - val_categorical_accuracy: 0.5721\n"
          ],
          "name": "stdout"
        },
        {
          "output_type": "execute_result",
          "data": {
            "text/plain": [
              "<tensorflow.python.keras.callbacks.History at 0x7f990a0ab198>"
            ]
          },
          "metadata": {
            "tags": []
          },
          "execution_count": 19
        }
      ]
    },
    {
      "cell_type": "markdown",
      "metadata": {
        "id": "_QTPmwbvaAiN",
        "colab_type": "text"
      },
      "source": [
        "### Задание 2\n",
        "\n",
        "Замените один из сверточных слоев на слой, реализующий операцию пулинга (_Pooling_) с функцией максимума или среднего. Как это повлияло на точность классификатора?"
      ]
    },
    {
      "cell_type": "code",
      "metadata": {
        "id": "aP_i1EWAGOPS",
        "colab_type": "code",
        "colab": {}
      },
      "source": [
        "from tensorflow.keras.layers import MaxPooling2D\n",
        "\n",
        "model_2 = tf.keras.Sequential()\n",
        "\n",
        "model_2.add(Conv2D(16, 3, padding='same', activation='relu', input_shape=(IMAGE_DIM_0, IMAGE_DIM_1, 1)))\n",
        "model_2.add(MaxPooling2D())\n",
        "model_2.add(Flatten())\n",
        "model_2.add(Dense(DENSE_LAYER_WIDTH, activation='relu'))\n",
        "model_2.add(Dense(CLASSES_N))"
      ],
      "execution_count": 0,
      "outputs": []
    },
    {
      "cell_type": "code",
      "metadata": {
        "id": "q5GFfxN0gnhB",
        "colab_type": "code",
        "colab": {}
      },
      "source": [
        "model_2.compile(optimizer = 'sgd',\n",
        "               loss = cat_cross_from_logits,\n",
        "               metrics = ['categorical_accuracy'])"
      ],
      "execution_count": 0,
      "outputs": []
    },
    {
      "cell_type": "code",
      "metadata": {
        "id": "ZDtqGb2Egrpf",
        "colab_type": "code",
        "colab": {
          "base_uri": "https://localhost:8080/",
          "height": 323
        },
        "outputId": "86594984-4aff-4afd-d9cc-a530521d33ff"
      },
      "source": [
        "model_2.summary()"
      ],
      "execution_count": 22,
      "outputs": [
        {
          "output_type": "stream",
          "text": [
            "Model: \"sequential_1\"\n",
            "_________________________________________________________________\n",
            "Layer (type)                 Output Shape              Param #   \n",
            "=================================================================\n",
            "conv2d_2 (Conv2D)            (None, 28, 28, 16)        160       \n",
            "_________________________________________________________________\n",
            "max_pooling2d (MaxPooling2D) (None, 14, 14, 16)        0         \n",
            "_________________________________________________________________\n",
            "flatten_1 (Flatten)          (None, 3136)              0         \n",
            "_________________________________________________________________\n",
            "dense_2 (Dense)              (None, 5000)              15685000  \n",
            "_________________________________________________________________\n",
            "dense_3 (Dense)              (None, 10)                50010     \n",
            "=================================================================\n",
            "Total params: 15,735,170\n",
            "Trainable params: 15,735,170\n",
            "Non-trainable params: 0\n",
            "_________________________________________________________________\n"
          ],
          "name": "stdout"
        }
      ]
    },
    {
      "cell_type": "code",
      "metadata": {
        "id": "r1WKjxR6gvSP",
        "colab_type": "code",
        "colab": {
          "base_uri": "https://localhost:8080/",
          "height": 714
        },
        "outputId": "a5111deb-632e-430b-908b-4023d6702f37"
      },
      "source": [
        "model_2.fit(x = x[:r * BATCH_SIZE], y = y[:r * BATCH_SIZE], epochs = EPOCHS_N, batch_size = BATCH_SIZE,\n",
        "            validation_split = VAL_SPLIT_RATE)"
      ],
      "execution_count": 23,
      "outputs": [
        {
          "output_type": "stream",
          "text": [
            "Epoch 1/20\n",
            "3248/3248 [==============================] - 18s 6ms/step - loss: 0.7484 - categorical_accuracy: 0.8014 - val_loss: 5.8276 - val_categorical_accuracy: 0.0000e+00\n",
            "Epoch 2/20\n",
            "3248/3248 [==============================] - 18s 6ms/step - loss: 0.5351 - categorical_accuracy: 0.8438 - val_loss: 4.9138 - val_categorical_accuracy: 0.0000e+00\n",
            "Epoch 3/20\n",
            "3248/3248 [==============================] - 18s 6ms/step - loss: 0.4654 - categorical_accuracy: 0.8617 - val_loss: 4.3294 - val_categorical_accuracy: 4.3306e-05\n",
            "Epoch 4/20\n",
            "3248/3248 [==============================] - 19s 6ms/step - loss: 0.4221 - categorical_accuracy: 0.8743 - val_loss: 4.5202 - val_categorical_accuracy: 1.2992e-04\n",
            "Epoch 5/20\n",
            "3248/3248 [==============================] - 18s 6ms/step - loss: 0.3929 - categorical_accuracy: 0.8826 - val_loss: 3.1279 - val_categorical_accuracy: 0.1839\n",
            "Epoch 6/20\n",
            "3248/3248 [==============================] - 18s 6ms/step - loss: 0.3718 - categorical_accuracy: 0.8884 - val_loss: 3.8962 - val_categorical_accuracy: 0.0451\n",
            "Epoch 7/20\n",
            "3248/3248 [==============================] - 18s 6ms/step - loss: 0.3547 - categorical_accuracy: 0.8935 - val_loss: 3.1393 - val_categorical_accuracy: 0.2432\n",
            "Epoch 8/20\n",
            "3248/3248 [==============================] - 18s 6ms/step - loss: 0.3409 - categorical_accuracy: 0.8977 - val_loss: 3.5592 - val_categorical_accuracy: 0.0595\n",
            "Epoch 9/20\n",
            "3248/3248 [==============================] - 18s 6ms/step - loss: 0.3291 - categorical_accuracy: 0.9010 - val_loss: 3.4489 - val_categorical_accuracy: 0.1226\n",
            "Epoch 10/20\n",
            "3248/3248 [==============================] - 18s 6ms/step - loss: 0.3188 - categorical_accuracy: 0.9038 - val_loss: 3.5299 - val_categorical_accuracy: 0.1154\n",
            "Epoch 11/20\n",
            "3248/3248 [==============================] - 19s 6ms/step - loss: 0.3096 - categorical_accuracy: 0.9064 - val_loss: 2.9763 - val_categorical_accuracy: 0.3060\n",
            "Epoch 12/20\n",
            "3248/3248 [==============================] - 18s 6ms/step - loss: 0.3007 - categorical_accuracy: 0.9088 - val_loss: 3.0604 - val_categorical_accuracy: 0.2664\n",
            "Epoch 13/20\n",
            "3248/3248 [==============================] - 18s 6ms/step - loss: 0.2929 - categorical_accuracy: 0.9112 - val_loss: 2.3917 - val_categorical_accuracy: 0.4768\n",
            "Epoch 14/20\n",
            "3248/3248 [==============================] - 18s 6ms/step - loss: 0.2856 - categorical_accuracy: 0.9132 - val_loss: 2.9372 - val_categorical_accuracy: 0.3153\n",
            "Epoch 15/20\n",
            "3248/3248 [==============================] - 18s 6ms/step - loss: 0.2786 - categorical_accuracy: 0.9153 - val_loss: 2.7960 - val_categorical_accuracy: 0.3476\n",
            "Epoch 16/20\n",
            "3248/3248 [==============================] - 18s 6ms/step - loss: 0.2718 - categorical_accuracy: 0.9173 - val_loss: 2.9253 - val_categorical_accuracy: 0.2921\n",
            "Epoch 17/20\n",
            "3248/3248 [==============================] - 18s 6ms/step - loss: 0.2656 - categorical_accuracy: 0.9195 - val_loss: 2.5196 - val_categorical_accuracy: 0.4457\n",
            "Epoch 18/20\n",
            "3248/3248 [==============================] - 18s 6ms/step - loss: 0.2592 - categorical_accuracy: 0.9215 - val_loss: 2.8845 - val_categorical_accuracy: 0.3654\n",
            "Epoch 19/20\n",
            "3248/3248 [==============================] - 18s 6ms/step - loss: 0.2531 - categorical_accuracy: 0.9232 - val_loss: 2.8311 - val_categorical_accuracy: 0.3301\n",
            "Epoch 20/20\n",
            "3248/3248 [==============================] - 18s 6ms/step - loss: 0.2477 - categorical_accuracy: 0.9244 - val_loss: 2.8044 - val_categorical_accuracy: 0.3655\n"
          ],
          "name": "stdout"
        },
        {
          "output_type": "execute_result",
          "data": {
            "text/plain": [
              "<tensorflow.python.keras.callbacks.History at 0x7f9908e2cfd0>"
            ]
          },
          "metadata": {
            "tags": []
          },
          "execution_count": 23
        }
      ]
    },
    {
      "cell_type": "markdown",
      "metadata": {
        "id": "fUSDBLccaH1F",
        "colab_type": "text"
      },
      "source": [
        "### Задание 3\n",
        "\n",
        "Реализуйте классическую архитектуру сверточных сетей _LeNet-5_ (http://yann.lecun.com/exdb/lenet/)."
      ]
    },
    {
      "cell_type": "markdown",
      "metadata": {
        "id": "X408QNkzaOnm",
        "colab_type": "text"
      },
      "source": [
        "### Задание 4\n",
        "\n",
        "Сравните максимальные точности моделей, построенных в лабораторных работах 1-3. Как можно объяснить полученные различия?"
      ]
    }
  ]
}