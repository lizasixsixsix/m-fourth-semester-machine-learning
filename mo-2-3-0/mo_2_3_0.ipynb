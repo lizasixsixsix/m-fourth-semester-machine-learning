{
  "nbformat": 4,
  "nbformat_minor": 0,
  "metadata": {
    "colab": {
      "name": "mo-2-3-0.ipynb",
      "provenance": [],
      "collapsed_sections": [],
      "toc_visible": true,
      "machine_shape": "hm"
    },
    "kernelspec": {
      "name": "python3",
      "display_name": "Python 3"
    },
    "accelerator": "GPU"
  },
  "cells": [
    {
      "cell_type": "markdown",
      "metadata": {
        "id": "kVIY2b3AX_aJ",
        "colab_type": "text"
      },
      "source": [
        "# Лабораторная работа №3\n",
        "\n",
        "## Реализация сверточной нейронной сети"
      ]
    },
    {
      "cell_type": "markdown",
      "metadata": {
        "id": "s_PQ44IXYNX8",
        "colab_type": "text"
      },
      "source": [
        "В работе предлагается использовать набор данных _notMNIST_, который состоит из изображений размерностью 28×28 первых 10 букв латинского алфавита (_A_ ... _J_, соответственно). Обучающая выборка содержит порядка 500 тыс. изображений, а тестовая – около 19 тыс.\n",
        "\n",
        "Данные можно скачать по ссылке:\n",
        "\n",
        "* https://commondatastorage.googleapis.com/books1000/notMNIST_large.tar.gz (большой набор данных);\n",
        "\n",
        "* https://commondatastorage.googleapis.com/books1000/notMNIST_small.tar.gz (маленький набор данных);\n",
        "\n",
        "Описание данных на английском языке доступно по ссылке:\n",
        "http://yaroslavvb.blogspot.sg/2011/09/notmnist-dataset.html"
      ]
    },
    {
      "cell_type": "markdown",
      "metadata": {
        "id": "LoUd7jlSYPtZ",
        "colab_type": "text"
      },
      "source": [
        "### Задание 1\n",
        "\n",
        "Реализуйте нейронную сеть с двумя сверточными слоями, и одним полносвязным с нейронами с кусочно-линейной функцией активации. Какова точность построенной модели?"
      ]
    },
    {
      "cell_type": "code",
      "metadata": {
        "id": "GZHnGIItx0K6",
        "colab_type": "code",
        "outputId": "72a61195-0c20-4063-9257-ef9e8564e9a4",
        "colab": {
          "base_uri": "https://localhost:8080/",
          "height": 34
        }
      },
      "source": [
        "from google.colab import drive\n",
        "\n",
        "drive.mount('/content/drive', force_remount = True)"
      ],
      "execution_count": 1,
      "outputs": [
        {
          "output_type": "stream",
          "text": [
            "Mounted at /content/drive\n"
          ],
          "name": "stdout"
        }
      ]
    },
    {
      "cell_type": "code",
      "metadata": {
        "id": "LOk0rWC6x3P8",
        "colab_type": "code",
        "colab": {}
      },
      "source": [
        "BASE_DIR = '/content/drive/My Drive/Colab Files/mo-2'\n",
        "\n",
        "import sys\n",
        "\n",
        "sys.path.append(BASE_DIR)\n",
        "\n",
        "import os\n",
        "\n",
        "os.chdir(BASE_DIR)"
      ],
      "execution_count": 0,
      "outputs": []
    },
    {
      "cell_type": "code",
      "metadata": {
        "id": "7pjP0Cm1x5Zl",
        "colab_type": "code",
        "colab": {}
      },
      "source": [
        "import pandas as pd\n",
        "\n",
        "dataframe = pd.read_pickle(\"./large.pkl\")"
      ],
      "execution_count": 0,
      "outputs": []
    },
    {
      "cell_type": "code",
      "metadata": {
        "id": "Mtl9Mngwx8Zl",
        "colab_type": "code",
        "outputId": "34c97b8f-1560-4f35-9136-0ad2d887f88b",
        "colab": {
          "base_uri": "https://localhost:8080/",
          "height": 187
        }
      },
      "source": [
        "! pip install tensorflow-gpu --pre --quiet\n",
        "\n",
        "! pip show tensorflow-gpu"
      ],
      "execution_count": 4,
      "outputs": [
        {
          "output_type": "stream",
          "text": [
            "Name: tensorflow-gpu\n",
            "Version: 2.2.0rc2\n",
            "Summary: TensorFlow is an open source machine learning framework for everyone.\n",
            "Home-page: https://www.tensorflow.org/\n",
            "Author: Google Inc.\n",
            "Author-email: packages@tensorflow.org\n",
            "License: Apache 2.0\n",
            "Location: /usr/local/lib/python3.6/dist-packages\n",
            "Requires: tensorboard, scipy, wrapt, google-pasta, tensorflow-estimator, h5py, keras-preprocessing, six, gast, astunparse, numpy, termcolor, absl-py, wheel, opt-einsum, grpcio, protobuf\n",
            "Required-by: \n"
          ],
          "name": "stdout"
        }
      ]
    },
    {
      "cell_type": "code",
      "metadata": {
        "id": "mRODV9rmx-IV",
        "colab_type": "code",
        "colab": {}
      },
      "source": [
        "import tensorflow as tf"
      ],
      "execution_count": 0,
      "outputs": []
    },
    {
      "cell_type": "code",
      "metadata": {
        "id": "uzhWwY3dg0xc",
        "colab_type": "code",
        "colab": {}
      },
      "source": [
        "# To fix memory leak: https://github.com/tensorflow/tensorflow/issues/33009\n",
        "\n",
        "tf.compat.v1.disable_eager_execution()"
      ],
      "execution_count": 0,
      "outputs": []
    },
    {
      "cell_type": "code",
      "metadata": {
        "id": "_uDvZ4Vbx_6F",
        "colab_type": "code",
        "colab": {}
      },
      "source": [
        "import numpy as np"
      ],
      "execution_count": 0,
      "outputs": []
    },
    {
      "cell_type": "code",
      "metadata": {
        "id": "Q2Rpnra9yBbV",
        "colab_type": "code",
        "outputId": "7e586d3f-c81d-4aeb-bc25-f0cd1a24190d",
        "colab": {
          "base_uri": "https://localhost:8080/",
          "height": 34
        }
      },
      "source": [
        "x = np.asarray(list(dataframe['data']))[..., np.newaxis]\n",
        "\n",
        "x = tf.keras.utils.normalize(x, axis = 1)\n",
        "\n",
        "x.shape"
      ],
      "execution_count": 8,
      "outputs": [
        {
          "output_type": "execute_result",
          "data": {
            "text/plain": [
              "(461946, 28, 28, 1)"
            ]
          },
          "metadata": {
            "tags": []
          },
          "execution_count": 8
        }
      ]
    },
    {
      "cell_type": "code",
      "metadata": {
        "id": "avsCi1fuyDRd",
        "colab_type": "code",
        "colab": {}
      },
      "source": [
        "IMAGE_DIM_0, IMAGE_DIM_1 = x.shape[1], x.shape[2]"
      ],
      "execution_count": 0,
      "outputs": []
    },
    {
      "cell_type": "code",
      "metadata": {
        "id": "3TIUsVTyyE4l",
        "colab_type": "code",
        "outputId": "33b913f2-d952-43ad-e90e-861e0aa06ae1",
        "colab": {
          "base_uri": "https://localhost:8080/",
          "height": 34
        }
      },
      "source": [
        "from tensorflow.keras.utils import to_categorical\n",
        "\n",
        "y = to_categorical(dataframe['label'].astype('category').cat.codes.astype('int32'))\n",
        "\n",
        "y.shape"
      ],
      "execution_count": 10,
      "outputs": [
        {
          "output_type": "execute_result",
          "data": {
            "text/plain": [
              "(461946, 10)"
            ]
          },
          "metadata": {
            "tags": []
          },
          "execution_count": 10
        }
      ]
    },
    {
      "cell_type": "code",
      "metadata": {
        "id": "Or7diCV8yHNe",
        "colab_type": "code",
        "colab": {}
      },
      "source": [
        "CLASSES_N = y.shape[1]"
      ],
      "execution_count": 0,
      "outputs": []
    },
    {
      "cell_type": "code",
      "metadata": {
        "id": "sZjNAEhAoS_S",
        "colab_type": "code",
        "colab": {}
      },
      "source": [
        "DENSE_LAYER_WIDTH = 5000"
      ],
      "execution_count": 0,
      "outputs": []
    },
    {
      "cell_type": "code",
      "metadata": {
        "id": "FSSnWl6J7E8B",
        "colab_type": "code",
        "colab": {
          "base_uri": "https://localhost:8080/",
          "height": 88
        },
        "outputId": "7462650e-2e1f-4603-d167-0075b07439cf"
      },
      "source": [
        "from tensorflow.keras.models import Sequential\n",
        "from tensorflow.keras.layers import Conv2D, Dense, Flatten\n",
        "\n",
        "model = tf.keras.Sequential()\n",
        "\n",
        "model.add(Conv2D(16, 3, padding='same', activation='relu', input_shape=(IMAGE_DIM_0, IMAGE_DIM_1, 1)))\n",
        "model.add(Conv2D(32, 3, padding='same', activation='relu'))\n",
        "model.add(Flatten())\n",
        "model.add(Dense(DENSE_LAYER_WIDTH, activation='relu'))\n",
        "model.add(Dense(CLASSES_N))"
      ],
      "execution_count": 13,
      "outputs": [
        {
          "output_type": "stream",
          "text": [
            "WARNING:tensorflow:From /usr/local/lib/python3.6/dist-packages/tensorflow/python/ops/resource_variable_ops.py:1666: calling BaseResourceVariable.__init__ (from tensorflow.python.ops.resource_variable_ops) with constraint is deprecated and will be removed in a future version.\n",
            "Instructions for updating:\n",
            "If using Keras pass *_constraint arguments to layers.\n"
          ],
          "name": "stdout"
        }
      ]
    },
    {
      "cell_type": "code",
      "metadata": {
        "id": "ZJkI7ZDs7KTn",
        "colab_type": "code",
        "colab": {}
      },
      "source": [
        "def cat_cross_from_logits(y_true, y_pred):\n",
        "    return tf.keras.losses.categorical_crossentropy(y_true, y_pred, from_logits = True)\n",
        "\n",
        "model.compile(optimizer = 'sgd',\n",
        "              loss = cat_cross_from_logits,\n",
        "              metrics = ['categorical_accuracy'])"
      ],
      "execution_count": 0,
      "outputs": []
    },
    {
      "cell_type": "code",
      "metadata": {
        "id": "ryM-uIdU7Qdm",
        "colab_type": "code",
        "outputId": "270a24d7-00b2-4e78-8b67-6765bbe04cc7",
        "colab": {
          "base_uri": "https://localhost:8080/",
          "height": 323
        }
      },
      "source": [
        "model.summary()"
      ],
      "execution_count": 15,
      "outputs": [
        {
          "output_type": "stream",
          "text": [
            "Model: \"sequential\"\n",
            "_________________________________________________________________\n",
            "Layer (type)                 Output Shape              Param #   \n",
            "=================================================================\n",
            "conv2d (Conv2D)              (None, 28, 28, 16)        160       \n",
            "_________________________________________________________________\n",
            "conv2d_1 (Conv2D)            (None, 28, 28, 32)        4640      \n",
            "_________________________________________________________________\n",
            "flatten (Flatten)            (None, 25088)             0         \n",
            "_________________________________________________________________\n",
            "dense (Dense)                (None, 5000)              125445000 \n",
            "_________________________________________________________________\n",
            "dense_1 (Dense)              (None, 10)                50010     \n",
            "=================================================================\n",
            "Total params: 125,499,810\n",
            "Trainable params: 125,499,810\n",
            "Non-trainable params: 0\n",
            "_________________________________________________________________\n"
          ],
          "name": "stdout"
        }
      ]
    },
    {
      "cell_type": "code",
      "metadata": {
        "id": "hHn-Avfi7TU_",
        "colab_type": "code",
        "colab": {}
      },
      "source": [
        "BATCH_SIZE = 128"
      ],
      "execution_count": 0,
      "outputs": []
    },
    {
      "cell_type": "code",
      "metadata": {
        "id": "FhWZ4l5d7Vzv",
        "colab_type": "code",
        "colab": {}
      },
      "source": [
        "r = 3608"
      ],
      "execution_count": 0,
      "outputs": []
    },
    {
      "cell_type": "code",
      "metadata": {
        "id": "G0j4Oa2D7YFW",
        "colab_type": "code",
        "colab": {}
      },
      "source": [
        "VAL_SPLIT_RATE = 0.1"
      ],
      "execution_count": 0,
      "outputs": []
    },
    {
      "cell_type": "code",
      "metadata": {
        "id": "sNS8drBf7Z-u",
        "colab_type": "code",
        "colab": {}
      },
      "source": [
        "EPOCHS_N = 20"
      ],
      "execution_count": 0,
      "outputs": []
    },
    {
      "cell_type": "code",
      "metadata": {
        "id": "BmtltwXc7cxH",
        "colab_type": "code",
        "outputId": "eb8a16ec-5331-49ba-e448-50c973d7ae90",
        "colab": {
          "base_uri": "https://localhost:8080/",
          "height": 731
        }
      },
      "source": [
        "model.fit(x = x[:r * BATCH_SIZE], y = y[:r * BATCH_SIZE], epochs = EPOCHS_N, batch_size = BATCH_SIZE,\n",
        "          validation_split = VAL_SPLIT_RATE)"
      ],
      "execution_count": 20,
      "outputs": [
        {
          "output_type": "stream",
          "text": [
            "Train on 415641 samples, validate on 46183 samples\n",
            "Epoch 1/20\n",
            "415641/415641 [==============================] - 67s 161us/sample - loss: 0.5828 - categorical_accuracy: 0.8328 - val_loss: 3.6818 - val_categorical_accuracy: 0.0402\n",
            "Epoch 2/20\n",
            "415641/415641 [==============================] - 67s 161us/sample - loss: 0.3997 - categorical_accuracy: 0.8802 - val_loss: 3.1953 - val_categorical_accuracy: 0.2366\n",
            "Epoch 3/20\n",
            "415641/415641 [==============================] - 67s 160us/sample - loss: 0.3576 - categorical_accuracy: 0.8924 - val_loss: 2.8583 - val_categorical_accuracy: 0.3743\n",
            "Epoch 4/20\n",
            "415641/415641 [==============================] - 67s 160us/sample - loss: 0.3310 - categorical_accuracy: 0.9001 - val_loss: 3.6683 - val_categorical_accuracy: 0.1414\n",
            "Epoch 5/20\n",
            "415641/415641 [==============================] - 67s 162us/sample - loss: 0.3099 - categorical_accuracy: 0.9059 - val_loss: 3.5571 - val_categorical_accuracy: 0.1573\n",
            "Epoch 6/20\n",
            "415641/415641 [==============================] - 67s 160us/sample - loss: 0.2922 - categorical_accuracy: 0.9112 - val_loss: 3.0633 - val_categorical_accuracy: 0.2995\n",
            "Epoch 7/20\n",
            "415641/415641 [==============================] - 67s 160us/sample - loss: 0.2763 - categorical_accuracy: 0.9160 - val_loss: 2.6749 - val_categorical_accuracy: 0.4326\n",
            "Epoch 8/20\n",
            "415641/415641 [==============================] - 67s 161us/sample - loss: 0.2611 - categorical_accuracy: 0.9202 - val_loss: 3.0528 - val_categorical_accuracy: 0.3453\n",
            "Epoch 9/20\n",
            "415641/415641 [==============================] - 67s 161us/sample - loss: 0.2463 - categorical_accuracy: 0.9244 - val_loss: 2.6370 - val_categorical_accuracy: 0.4956\n",
            "Epoch 10/20\n",
            "415641/415641 [==============================] - 67s 160us/sample - loss: 0.2321 - categorical_accuracy: 0.9289 - val_loss: 3.4969 - val_categorical_accuracy: 0.2507\n",
            "Epoch 11/20\n",
            "415641/415641 [==============================] - 67s 161us/sample - loss: 0.2182 - categorical_accuracy: 0.9329 - val_loss: 2.5658 - val_categorical_accuracy: 0.4967\n",
            "Epoch 12/20\n",
            "415641/415641 [==============================] - 67s 161us/sample - loss: 0.2050 - categorical_accuracy: 0.9367 - val_loss: 2.8512 - val_categorical_accuracy: 0.4565\n",
            "Epoch 13/20\n",
            "415641/415641 [==============================] - 67s 161us/sample - loss: 0.1911 - categorical_accuracy: 0.9414 - val_loss: 2.3238 - val_categorical_accuracy: 0.5793\n",
            "Epoch 14/20\n",
            "415641/415641 [==============================] - 67s 160us/sample - loss: 0.1781 - categorical_accuracy: 0.9451 - val_loss: 2.5880 - val_categorical_accuracy: 0.5235\n",
            "Epoch 15/20\n",
            "415641/415641 [==============================] - 67s 160us/sample - loss: 0.1658 - categorical_accuracy: 0.9487 - val_loss: 2.1316 - val_categorical_accuracy: 0.6282\n",
            "Epoch 16/20\n",
            "415641/415641 [==============================] - 67s 161us/sample - loss: 0.1526 - categorical_accuracy: 0.9530 - val_loss: 2.7962 - val_categorical_accuracy: 0.5082\n",
            "Epoch 17/20\n",
            "415641/415641 [==============================] - 67s 161us/sample - loss: 0.1414 - categorical_accuracy: 0.9563 - val_loss: 2.2386 - val_categorical_accuracy: 0.6266\n",
            "Epoch 18/20\n",
            "415641/415641 [==============================] - 67s 161us/sample - loss: 0.1298 - categorical_accuracy: 0.9600 - val_loss: 2.6603 - val_categorical_accuracy: 0.5602\n",
            "Epoch 19/20\n",
            "415641/415641 [==============================] - 67s 161us/sample - loss: 0.1184 - categorical_accuracy: 0.9639 - val_loss: 2.8770 - val_categorical_accuracy: 0.5429\n",
            "Epoch 20/20\n",
            "415641/415641 [==============================] - 68s 163us/sample - loss: 0.1082 - categorical_accuracy: 0.9671 - val_loss: 3.0234 - val_categorical_accuracy: 0.5385\n"
          ],
          "name": "stdout"
        },
        {
          "output_type": "execute_result",
          "data": {
            "text/plain": [
              "<tensorflow.python.keras.callbacks.History at 0x7fd3ed20c668>"
            ]
          },
          "metadata": {
            "tags": []
          },
          "execution_count": 20
        }
      ]
    },
    {
      "cell_type": "markdown",
      "metadata": {
        "id": "_QTPmwbvaAiN",
        "colab_type": "text"
      },
      "source": [
        "### Задание 2\n",
        "\n",
        "Замените один из сверточных слоев на слой, реализующий операцию пулинга (_Pooling_) с функцией максимума или среднего. Как это повлияло на точность классификатора?"
      ]
    },
    {
      "cell_type": "code",
      "metadata": {
        "id": "aP_i1EWAGOPS",
        "colab_type": "code",
        "colab": {}
      },
      "source": [
        "from tensorflow.keras.layers import MaxPooling2D\n",
        "\n",
        "model_2 = tf.keras.Sequential()\n",
        "\n",
        "model_2.add(Conv2D(16, 3, padding = 'same', activation = 'relu', input_shape = (IMAGE_DIM_0, IMAGE_DIM_1, 1)))\n",
        "model_2.add(MaxPooling2D())\n",
        "model_2.add(Flatten())\n",
        "model_2.add(Dense(DENSE_LAYER_WIDTH, activation = 'relu'))\n",
        "model_2.add(Dense(CLASSES_N))"
      ],
      "execution_count": 0,
      "outputs": []
    },
    {
      "cell_type": "code",
      "metadata": {
        "id": "q5GFfxN0gnhB",
        "colab_type": "code",
        "colab": {}
      },
      "source": [
        "model_2.compile(optimizer = 'sgd',\n",
        "               loss = cat_cross_from_logits,\n",
        "               metrics = ['categorical_accuracy'])"
      ],
      "execution_count": 0,
      "outputs": []
    },
    {
      "cell_type": "code",
      "metadata": {
        "id": "ZDtqGb2Egrpf",
        "colab_type": "code",
        "outputId": "de4c622d-3f04-4635-dd1c-c7d3af8bb65d",
        "colab": {
          "base_uri": "https://localhost:8080/",
          "height": 323
        }
      },
      "source": [
        "model_2.summary()"
      ],
      "execution_count": 23,
      "outputs": [
        {
          "output_type": "stream",
          "text": [
            "Model: \"sequential_1\"\n",
            "_________________________________________________________________\n",
            "Layer (type)                 Output Shape              Param #   \n",
            "=================================================================\n",
            "conv2d_2 (Conv2D)            (None, 28, 28, 16)        160       \n",
            "_________________________________________________________________\n",
            "max_pooling2d (MaxPooling2D) (None, 14, 14, 16)        0         \n",
            "_________________________________________________________________\n",
            "flatten_1 (Flatten)          (None, 3136)              0         \n",
            "_________________________________________________________________\n",
            "dense_2 (Dense)              (None, 5000)              15685000  \n",
            "_________________________________________________________________\n",
            "dense_3 (Dense)              (None, 10)                50010     \n",
            "=================================================================\n",
            "Total params: 15,735,170\n",
            "Trainable params: 15,735,170\n",
            "Non-trainable params: 0\n",
            "_________________________________________________________________\n"
          ],
          "name": "stdout"
        }
      ]
    },
    {
      "cell_type": "code",
      "metadata": {
        "id": "r1WKjxR6gvSP",
        "colab_type": "code",
        "outputId": "085311a4-b891-42f7-bc5d-a68381566aeb",
        "colab": {
          "base_uri": "https://localhost:8080/",
          "height": 731
        }
      },
      "source": [
        "model_2.fit(x = x[:r * BATCH_SIZE], y = y[:r * BATCH_SIZE], epochs = EPOCHS_N, batch_size = BATCH_SIZE,\n",
        "            validation_split = VAL_SPLIT_RATE)"
      ],
      "execution_count": 24,
      "outputs": [
        {
          "output_type": "stream",
          "text": [
            "Train on 415641 samples, validate on 46183 samples\n",
            "Epoch 1/20\n",
            "415641/415641 [==============================] - 17s 41us/sample - loss: 0.7566 - categorical_accuracy: 0.7999 - val_loss: 6.3352 - val_categorical_accuracy: 0.0000e+00\n",
            "Epoch 2/20\n",
            "415641/415641 [==============================] - 17s 41us/sample - loss: 0.5386 - categorical_accuracy: 0.8429 - val_loss: 5.3920 - val_categorical_accuracy: 0.0000e+00\n",
            "Epoch 3/20\n",
            "415641/415641 [==============================] - 17s 40us/sample - loss: 0.4687 - categorical_accuracy: 0.8610 - val_loss: 4.6387 - val_categorical_accuracy: 0.0000e+00\n",
            "Epoch 4/20\n",
            "415641/415641 [==============================] - 17s 41us/sample - loss: 0.4241 - categorical_accuracy: 0.8732 - val_loss: 3.5897 - val_categorical_accuracy: 0.0688\n",
            "Epoch 5/20\n",
            "415641/415641 [==============================] - 18s 42us/sample - loss: 0.3944 - categorical_accuracy: 0.8823 - val_loss: 3.9220 - val_categorical_accuracy: 0.0213\n",
            "Epoch 6/20\n",
            "415641/415641 [==============================] - 17s 41us/sample - loss: 0.3724 - categorical_accuracy: 0.8883 - val_loss: 3.7430 - val_categorical_accuracy: 0.1144\n",
            "Epoch 7/20\n",
            "415641/415641 [==============================] - 18s 42us/sample - loss: 0.3556 - categorical_accuracy: 0.8931 - val_loss: 3.0020 - val_categorical_accuracy: 0.3136\n",
            "Epoch 8/20\n",
            "415641/415641 [==============================] - 17s 41us/sample - loss: 0.3415 - categorical_accuracy: 0.8974 - val_loss: 4.1046 - val_categorical_accuracy: 0.0268\n",
            "Epoch 9/20\n",
            "415641/415641 [==============================] - 17s 42us/sample - loss: 0.3297 - categorical_accuracy: 0.9007 - val_loss: 3.5372 - val_categorical_accuracy: 0.1201\n",
            "Epoch 10/20\n",
            "415641/415641 [==============================] - 17s 41us/sample - loss: 0.3192 - categorical_accuracy: 0.9039 - val_loss: 2.7099 - val_categorical_accuracy: 0.3892\n",
            "Epoch 11/20\n",
            "415641/415641 [==============================] - 17s 42us/sample - loss: 0.3097 - categorical_accuracy: 0.9066 - val_loss: 2.8571 - val_categorical_accuracy: 0.3502\n",
            "Epoch 12/20\n",
            "415641/415641 [==============================] - 17s 41us/sample - loss: 0.3009 - categorical_accuracy: 0.9092 - val_loss: 2.9250 - val_categorical_accuracy: 0.3386\n",
            "Epoch 13/20\n",
            "415641/415641 [==============================] - 17s 42us/sample - loss: 0.2931 - categorical_accuracy: 0.9114 - val_loss: 2.7978 - val_categorical_accuracy: 0.3492\n",
            "Epoch 14/20\n",
            "415641/415641 [==============================] - 17s 41us/sample - loss: 0.2851 - categorical_accuracy: 0.9139 - val_loss: 2.8242 - val_categorical_accuracy: 0.3413\n",
            "Epoch 15/20\n",
            "415641/415641 [==============================] - 17s 42us/sample - loss: 0.2784 - categorical_accuracy: 0.9158 - val_loss: 2.7426 - val_categorical_accuracy: 0.3575\n",
            "Epoch 16/20\n",
            "415641/415641 [==============================] - 17s 40us/sample - loss: 0.2715 - categorical_accuracy: 0.9177 - val_loss: 3.3175 - val_categorical_accuracy: 0.2122\n",
            "Epoch 17/20\n",
            "415641/415641 [==============================] - 17s 41us/sample - loss: 0.2650 - categorical_accuracy: 0.9199 - val_loss: 2.9444 - val_categorical_accuracy: 0.2640\n",
            "Epoch 18/20\n",
            "415641/415641 [==============================] - 17s 41us/sample - loss: 0.2589 - categorical_accuracy: 0.9215 - val_loss: 2.9972 - val_categorical_accuracy: 0.2534\n",
            "Epoch 19/20\n",
            "415641/415641 [==============================] - 17s 40us/sample - loss: 0.2524 - categorical_accuracy: 0.9236 - val_loss: 2.6750 - val_categorical_accuracy: 0.3907\n",
            "Epoch 20/20\n",
            "415641/415641 [==============================] - 17s 40us/sample - loss: 0.2466 - categorical_accuracy: 0.9253 - val_loss: 2.6008 - val_categorical_accuracy: 0.4137\n"
          ],
          "name": "stdout"
        },
        {
          "output_type": "execute_result",
          "data": {
            "text/plain": [
              "<tensorflow.python.keras.callbacks.History at 0x7fd3ecfb4f98>"
            ]
          },
          "metadata": {
            "tags": []
          },
          "execution_count": 24
        }
      ]
    },
    {
      "cell_type": "markdown",
      "metadata": {
        "id": "fUSDBLccaH1F",
        "colab_type": "text"
      },
      "source": [
        "### Задание 3\n",
        "\n",
        "Реализуйте классическую архитектуру сверточных сетей _LeNet-5_ (http://yann.lecun.com/exdb/lenet/)."
      ]
    },
    {
      "cell_type": "code",
      "metadata": {
        "id": "RwpQ0RV1KUmW",
        "colab_type": "code",
        "colab": {}
      },
      "source": [
        "from tensorflow.keras.layers import AveragePooling2D\n",
        "\n",
        "model_3 = tf.keras.Sequential()\n",
        "\n",
        "model_3.add(Conv2D(6, kernel_size = (5, 5), strides = (1, 1), activation = 'tanh', padding = 'same',\n",
        "                   input_shape = (IMAGE_DIM_0, IMAGE_DIM_1, 1)))\n",
        "model_3.add(AveragePooling2D(pool_size = (2, 2), strides = (2, 2), padding = 'valid'))\n",
        "model_3.add(Conv2D(16, kernel_size = (5, 5), strides = (1, 1), activation = 'tanh', padding = 'valid'))\n",
        "model_3.add(AveragePooling2D(pool_size = (2, 2), strides = (2, 2), padding = 'valid'))\n",
        "model_3.add(Flatten())\n",
        "model_3.add(Dense(120, activation = 'tanh'))\n",
        "model_3.add(Dense(84, activation = 'tanh'))\n",
        "model_3.add(Dense(CLASSES_N, activation = 'softmax'))"
      ],
      "execution_count": 0,
      "outputs": []
    },
    {
      "cell_type": "code",
      "metadata": {
        "id": "rp3AmwxZLBjw",
        "colab_type": "code",
        "colab": {}
      },
      "source": [
        "model_3.compile(optimizer = 'adam',\n",
        "                loss = 'categorical_crossentropy',\n",
        "                metrics = ['categorical_accuracy'])"
      ],
      "execution_count": 0,
      "outputs": []
    },
    {
      "cell_type": "code",
      "metadata": {
        "id": "FyOP4S16LM_V",
        "colab_type": "code",
        "outputId": "ab160cce-62b0-4272-d402-de9354e99d30",
        "colab": {
          "base_uri": "https://localhost:8080/",
          "height": 731
        }
      },
      "source": [
        "model_3.fit(x = x[:r * BATCH_SIZE], y = y[:r * BATCH_SIZE], epochs = EPOCHS_N, batch_size = BATCH_SIZE,\n",
        "            validation_split = VAL_SPLIT_RATE)"
      ],
      "execution_count": 27,
      "outputs": [
        {
          "output_type": "stream",
          "text": [
            "Train on 415641 samples, validate on 46183 samples\n",
            "Epoch 1/20\n",
            "415641/415641 [==============================] - 11s 27us/sample - loss: 0.4755 - categorical_accuracy: 0.8556 - val_loss: 3.9593 - val_categorical_accuracy: 0.0066\n",
            "Epoch 2/20\n",
            "415641/415641 [==============================] - 11s 26us/sample - loss: 0.3540 - categorical_accuracy: 0.8905 - val_loss: 2.9415 - val_categorical_accuracy: 0.1864\n",
            "Epoch 3/20\n",
            "415641/415641 [==============================] - 11s 26us/sample - loss: 0.3196 - categorical_accuracy: 0.9010 - val_loss: 2.4161 - val_categorical_accuracy: 0.4554\n",
            "Epoch 4/20\n",
            "415641/415641 [==============================] - 11s 26us/sample - loss: 0.2977 - categorical_accuracy: 0.9070 - val_loss: 2.3002 - val_categorical_accuracy: 0.5382\n",
            "Epoch 5/20\n",
            "415641/415641 [==============================] - 11s 26us/sample - loss: 0.2841 - categorical_accuracy: 0.9113 - val_loss: 2.6019 - val_categorical_accuracy: 0.4619\n",
            "Epoch 6/20\n",
            "415641/415641 [==============================] - 11s 27us/sample - loss: 0.2725 - categorical_accuracy: 0.9145 - val_loss: 2.4573 - val_categorical_accuracy: 0.4077\n",
            "Epoch 7/20\n",
            "415641/415641 [==============================] - 11s 26us/sample - loss: 0.2630 - categorical_accuracy: 0.9171 - val_loss: 2.5795 - val_categorical_accuracy: 0.4983\n",
            "Epoch 8/20\n",
            "415641/415641 [==============================] - 11s 26us/sample - loss: 0.2552 - categorical_accuracy: 0.9194 - val_loss: 2.8293 - val_categorical_accuracy: 0.4467\n",
            "Epoch 9/20\n",
            "415641/415641 [==============================] - 11s 26us/sample - loss: 0.2489 - categorical_accuracy: 0.9213 - val_loss: 3.1323 - val_categorical_accuracy: 0.3268\n",
            "Epoch 10/20\n",
            "415641/415641 [==============================] - 11s 26us/sample - loss: 0.2427 - categorical_accuracy: 0.9230 - val_loss: 2.6005 - val_categorical_accuracy: 0.4587\n",
            "Epoch 11/20\n",
            "415641/415641 [==============================] - 11s 26us/sample - loss: 0.2373 - categorical_accuracy: 0.9244 - val_loss: 2.6273 - val_categorical_accuracy: 0.4629\n",
            "Epoch 12/20\n",
            "415641/415641 [==============================] - 11s 26us/sample - loss: 0.2326 - categorical_accuracy: 0.9261 - val_loss: 2.1977 - val_categorical_accuracy: 0.5568\n",
            "Epoch 13/20\n",
            "415641/415641 [==============================] - 11s 26us/sample - loss: 0.2281 - categorical_accuracy: 0.9271 - val_loss: 2.0962 - val_categorical_accuracy: 0.5932\n",
            "Epoch 14/20\n",
            "415641/415641 [==============================] - 11s 27us/sample - loss: 0.2240 - categorical_accuracy: 0.9288 - val_loss: 2.4441 - val_categorical_accuracy: 0.4963\n",
            "Epoch 15/20\n",
            "415641/415641 [==============================] - 11s 26us/sample - loss: 0.2196 - categorical_accuracy: 0.9298 - val_loss: 2.7443 - val_categorical_accuracy: 0.4724\n",
            "Epoch 16/20\n",
            "415641/415641 [==============================] - 11s 26us/sample - loss: 0.2160 - categorical_accuracy: 0.9311 - val_loss: 2.4576 - val_categorical_accuracy: 0.5294\n",
            "Epoch 17/20\n",
            "415641/415641 [==============================] - 11s 26us/sample - loss: 0.2129 - categorical_accuracy: 0.9321 - val_loss: 2.4352 - val_categorical_accuracy: 0.5456\n",
            "Epoch 18/20\n",
            "415641/415641 [==============================] - 11s 26us/sample - loss: 0.2097 - categorical_accuracy: 0.9328 - val_loss: 2.8148 - val_categorical_accuracy: 0.4736\n",
            "Epoch 19/20\n",
            "415641/415641 [==============================] - 11s 26us/sample - loss: 0.2065 - categorical_accuracy: 0.9339 - val_loss: 3.0537 - val_categorical_accuracy: 0.4605\n",
            "Epoch 20/20\n",
            "415641/415641 [==============================] - 11s 26us/sample - loss: 0.2037 - categorical_accuracy: 0.9350 - val_loss: 2.9014 - val_categorical_accuracy: 0.4429\n"
          ],
          "name": "stdout"
        },
        {
          "output_type": "execute_result",
          "data": {
            "text/plain": [
              "<tensorflow.python.keras.callbacks.History at 0x7fd3ecd75be0>"
            ]
          },
          "metadata": {
            "tags": []
          },
          "execution_count": 27
        }
      ]
    },
    {
      "cell_type": "markdown",
      "metadata": {
        "id": "X408QNkzaOnm",
        "colab_type": "text"
      },
      "source": [
        "### Задание 4\n",
        "\n",
        "Сравните максимальные точности моделей, построенных в лабораторных работах 1-3. Как можно объяснить полученные различия?"
      ]
    }
  ]
}