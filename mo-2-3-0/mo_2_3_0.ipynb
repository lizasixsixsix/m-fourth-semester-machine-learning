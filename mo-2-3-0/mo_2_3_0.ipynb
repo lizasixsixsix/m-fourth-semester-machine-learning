{
  "nbformat": 4,
  "nbformat_minor": 0,
  "metadata": {
    "colab": {
      "name": "mo-2-3-0.ipynb",
      "provenance": [],
      "collapsed_sections": [],
      "toc_visible": true,
      "machine_shape": "hm"
    },
    "kernelspec": {
      "name": "python3",
      "display_name": "Python 3"
    },
    "accelerator": "GPU"
  },
  "cells": [
    {
      "cell_type": "markdown",
      "metadata": {
        "id": "kVIY2b3AX_aJ",
        "colab_type": "text"
      },
      "source": [
        "# Лабораторная работа №3\n",
        "\n",
        "## Реализация сверточной нейронной сети"
      ]
    },
    {
      "cell_type": "markdown",
      "metadata": {
        "id": "s_PQ44IXYNX8",
        "colab_type": "text"
      },
      "source": [
        "В работе предлагается использовать набор данных _notMNIST_, который состоит из изображений размерностью 28×28 первых 10 букв латинского алфавита (_A_ ... _J_, соответственно). Обучающая выборка содержит порядка 500 тыс. изображений, а тестовая – около 19 тыс.\n",
        "\n",
        "Данные можно скачать по ссылке:\n",
        "\n",
        "* https://commondatastorage.googleapis.com/books1000/notMNIST_large.tar.gz (большой набор данных);\n",
        "\n",
        "* https://commondatastorage.googleapis.com/books1000/notMNIST_small.tar.gz (маленький набор данных);\n",
        "\n",
        "Описание данных на английском языке доступно по ссылке:\n",
        "http://yaroslavvb.blogspot.sg/2011/09/notmnist-dataset.html"
      ]
    },
    {
      "cell_type": "markdown",
      "metadata": {
        "id": "LoUd7jlSYPtZ",
        "colab_type": "text"
      },
      "source": [
        "### Задание 1\n",
        "\n",
        "Реализуйте нейронную сеть с двумя сверточными слоями, и одним полносвязным с нейронами с кусочно-линейной функцией активации. Какова точность построенной модели?"
      ]
    },
    {
      "cell_type": "code",
      "metadata": {
        "id": "GZHnGIItx0K6",
        "colab_type": "code",
        "outputId": "97dfefc4-ab11-4214-b380-f3eb1d392e20",
        "colab": {
          "base_uri": "https://localhost:8080/",
          "height": 34
        }
      },
      "source": [
        "from google.colab import drive\n",
        "\n",
        "drive.mount('/content/drive', force_remount = True)"
      ],
      "execution_count": 1,
      "outputs": [
        {
          "output_type": "stream",
          "text": [
            "Mounted at /content/drive\n"
          ],
          "name": "stdout"
        }
      ]
    },
    {
      "cell_type": "code",
      "metadata": {
        "id": "LOk0rWC6x3P8",
        "colab_type": "code",
        "colab": {}
      },
      "source": [
        "BASE_DIR = '/content/drive/My Drive/Colab Files/mo-2'\n",
        "\n",
        "import sys\n",
        "\n",
        "sys.path.append(BASE_DIR)\n",
        "\n",
        "import os\n",
        "\n",
        "os.chdir(BASE_DIR)"
      ],
      "execution_count": 0,
      "outputs": []
    },
    {
      "cell_type": "code",
      "metadata": {
        "id": "7pjP0Cm1x5Zl",
        "colab_type": "code",
        "colab": {}
      },
      "source": [
        "import pandas as pd\n",
        "\n",
        "dataframe = pd.read_pickle(\"./large.pkl\")"
      ],
      "execution_count": 0,
      "outputs": []
    },
    {
      "cell_type": "code",
      "metadata": {
        "id": "Mtl9Mngwx8Zl",
        "colab_type": "code",
        "outputId": "b9f2f2a4-d5d2-469a-97d8-78e223475727",
        "colab": {
          "base_uri": "https://localhost:8080/",
          "height": 213
        }
      },
      "source": [
        "! pip install tensorflow-gpu --pre --quiet\n",
        "\n",
        "! pip show tensorflow-gpu"
      ],
      "execution_count": 4,
      "outputs": [
        {
          "output_type": "stream",
          "text": [
            "Name: tensorflow-gpu\n",
            "Version: 2.2.0rc3\n",
            "Summary: TensorFlow is an open source machine learning framework for everyone.\n",
            "Home-page: https://www.tensorflow.org/\n",
            "Author: Google Inc.\n",
            "Author-email: packages@tensorflow.org\n",
            "License: Apache 2.0\n",
            "Location: /usr/local/lib/python3.6/dist-packages\n",
            "Requires: astunparse, opt-einsum, six, absl-py, tensorflow-estimator, termcolor, grpcio, wrapt, h5py, gast, google-pasta, numpy, tensorboard, wheel, scipy, keras-preprocessing, protobuf\n",
            "Required-by: \n"
          ],
          "name": "stdout"
        }
      ]
    },
    {
      "cell_type": "code",
      "metadata": {
        "id": "mRODV9rmx-IV",
        "colab_type": "code",
        "colab": {}
      },
      "source": [
        "import tensorflow as tf"
      ],
      "execution_count": 0,
      "outputs": []
    },
    {
      "cell_type": "code",
      "metadata": {
        "id": "uzhWwY3dg0xc",
        "colab_type": "code",
        "colab": {}
      },
      "source": [
        "# To fix memory leak: https://github.com/tensorflow/tensorflow/issues/33009\n",
        "\n",
        "tf.compat.v1.disable_eager_execution()"
      ],
      "execution_count": 0,
      "outputs": []
    },
    {
      "cell_type": "code",
      "metadata": {
        "id": "_uDvZ4Vbx_6F",
        "colab_type": "code",
        "colab": {}
      },
      "source": [
        "import numpy as np"
      ],
      "execution_count": 0,
      "outputs": []
    },
    {
      "cell_type": "code",
      "metadata": {
        "id": "RDGFLjErk8oy",
        "colab_type": "code",
        "colab": {}
      },
      "source": [
        "dataframe_test = dataframe.sample(frac = 0.1)\n",
        "\n",
        "dataframe = dataframe.drop(dataframe_test.index)"
      ],
      "execution_count": 0,
      "outputs": []
    },
    {
      "cell_type": "code",
      "metadata": {
        "id": "Q2Rpnra9yBbV",
        "colab_type": "code",
        "outputId": "b1ceff6f-ca5d-4838-aebe-fbd19e4a7b00",
        "colab": {
          "base_uri": "https://localhost:8080/",
          "height": 34
        }
      },
      "source": [
        "x = np.asarray(list(dataframe['data']))[..., np.newaxis]\n",
        "\n",
        "x = tf.keras.utils.normalize(x, axis = 1)\n",
        "\n",
        "x.shape"
      ],
      "execution_count": 9,
      "outputs": [
        {
          "output_type": "execute_result",
          "data": {
            "text/plain": [
              "(415751, 28, 28, 1)"
            ]
          },
          "metadata": {
            "tags": []
          },
          "execution_count": 9
        }
      ]
    },
    {
      "cell_type": "code",
      "metadata": {
        "id": "AHq3ZtvU9EmP",
        "colab_type": "code",
        "outputId": "e7450da6-4fda-4855-f33c-7f1bb580cc91",
        "colab": {
          "base_uri": "https://localhost:8080/",
          "height": 34
        }
      },
      "source": [
        "x_test = np.asarray(list(dataframe_test['data']))[..., np.newaxis]\n",
        "\n",
        "x_test = tf.keras.utils.normalize(x_test, axis = 1)\n",
        "\n",
        "x_test.shape"
      ],
      "execution_count": 10,
      "outputs": [
        {
          "output_type": "execute_result",
          "data": {
            "text/plain": [
              "(46195, 28, 28, 1)"
            ]
          },
          "metadata": {
            "tags": []
          },
          "execution_count": 10
        }
      ]
    },
    {
      "cell_type": "code",
      "metadata": {
        "id": "_uY6fQTtqnxO",
        "colab_type": "code",
        "colab": {}
      },
      "source": [
        "%matplotlib inline\n",
        "\n",
        "import matplotlib.pyplot as plt"
      ],
      "execution_count": 0,
      "outputs": []
    },
    {
      "cell_type": "code",
      "metadata": {
        "id": "2GwJ1nrorAv2",
        "colab_type": "code",
        "outputId": "4f35063f-3004-4b68-a770-670ab69bbd12",
        "colab": {
          "base_uri": "https://localhost:8080/",
          "height": 72
        }
      },
      "source": [
        "import seaborn as sns\n",
        "\n",
        "from matplotlib import rcParams\n",
        "\n",
        "rcParams['figure.figsize'] = 11.7, 8.27\n",
        "\n",
        "sns.set()\n",
        "\n",
        "sns.set_palette(sns.color_palette('hls'))"
      ],
      "execution_count": 12,
      "outputs": [
        {
          "output_type": "stream",
          "text": [
            "/usr/local/lib/python3.6/dist-packages/statsmodels/tools/_testing.py:19: FutureWarning: pandas.util.testing is deprecated. Use the functions in the public API at pandas.testing instead.\n",
            "  import pandas.util.testing as tm\n"
          ],
          "name": "stderr"
        }
      ]
    },
    {
      "cell_type": "code",
      "metadata": {
        "id": "65AnRo3qvgSx",
        "colab_type": "code",
        "outputId": "848c0319-9b5f-46ab-8e25-1b446cc9c1ec",
        "colab": {
          "base_uri": "https://localhost:8080/",
          "height": 500
        }
      },
      "source": [
        "plt.imshow(x[100].squeeze())\n",
        "\n",
        "plt.show()"
      ],
      "execution_count": 13,
      "outputs": [
        {
          "output_type": "display_data",
          "data": {
            "image/png": "[encoded data removed]",
            "text/plain": [
              "<Figure size 842.4x595.44 with 1 Axes>"
            ]
          },
          "metadata": {
            "tags": []
          }
        }
      ]
    },
    {
      "cell_type": "code",
      "metadata": {
        "id": "avsCi1fuyDRd",
        "colab_type": "code",
        "colab": {}
      },
      "source": [
        "IMAGE_DIM_0, IMAGE_DIM_1 = x.shape[1], x.shape[2]"
      ],
      "execution_count": 0,
      "outputs": []
    },
    {
      "cell_type": "code",
      "metadata": {
        "id": "3TIUsVTyyE4l",
        "colab_type": "code",
        "outputId": "052e940f-33a3-41b4-82c8-110219f9ab30",
        "colab": {
          "base_uri": "https://localhost:8080/",
          "height": 34
        }
      },
      "source": [
        "from tensorflow.keras.utils import to_categorical\n",
        "\n",
        "y = to_categorical(dataframe['label'].astype('category').cat.codes.astype('int32'))\n",
        "\n",
        "y.shape"
      ],
      "execution_count": 15,
      "outputs": [
        {
          "output_type": "execute_result",
          "data": {
            "text/plain": [
              "(415751, 10)"
            ]
          },
          "metadata": {
            "tags": []
          },
          "execution_count": 15
        }
      ]
    },
    {
      "cell_type": "code",
      "metadata": {
        "id": "N7bXD6rG9NBK",
        "colab_type": "code",
        "outputId": "9b93254d-8685-46a2-c7e0-cf9b6208512a",
        "colab": {
          "base_uri": "https://localhost:8080/",
          "height": 34
        }
      },
      "source": [
        "y_test = to_categorical(dataframe_test['label'].astype('category').cat.codes.astype('int32'))\n",
        "\n",
        "y_test.shape"
      ],
      "execution_count": 16,
      "outputs": [
        {
          "output_type": "execute_result",
          "data": {
            "text/plain": [
              "(46195, 10)"
            ]
          },
          "metadata": {
            "tags": []
          },
          "execution_count": 16
        }
      ]
    },
    {
      "cell_type": "code",
      "metadata": {
        "id": "Or7diCV8yHNe",
        "colab_type": "code",
        "colab": {}
      },
      "source": [
        "CLASSES_N = y.shape[1]"
      ],
      "execution_count": 0,
      "outputs": []
    },
    {
      "cell_type": "code",
      "metadata": {
        "id": "sZjNAEhAoS_S",
        "colab_type": "code",
        "colab": {}
      },
      "source": [
        "DENSE_LAYER_WIDTH = 5000"
      ],
      "execution_count": 0,
      "outputs": []
    },
    {
      "cell_type": "code",
      "metadata": {
        "id": "FSSnWl6J7E8B",
        "colab_type": "code",
        "outputId": "accdcdfd-a0a0-4356-c4ba-a39a902b77f6",
        "colab": {
          "base_uri": "https://localhost:8080/",
          "height": 90
        }
      },
      "source": [
        "from tensorflow.keras.models import Sequential\n",
        "from tensorflow.keras.layers import Conv2D, Dense, Flatten\n",
        "\n",
        "model = tf.keras.Sequential()\n",
        "\n",
        "model.add(Conv2D(16, 3, padding = 'same', activation = 'relu', input_shape = (IMAGE_DIM_0, IMAGE_DIM_1, 1)))\n",
        "model.add(Conv2D(32, 3, padding = 'same', activation = 'relu'))\n",
        "model.add(Flatten())\n",
        "model.add(Dense(DENSE_LAYER_WIDTH, activation = 'relu'))\n",
        "model.add(Dense(CLASSES_N))"
      ],
      "execution_count": 19,
      "outputs": [
        {
          "output_type": "stream",
          "text": [
            "WARNING:tensorflow:From /usr/local/lib/python3.6/dist-packages/tensorflow/python/ops/resource_variable_ops.py:1666: calling BaseResourceVariable.__init__ (from tensorflow.python.ops.resource_variable_ops) with constraint is deprecated and will be removed in a future version.\n",
            "Instructions for updating:\n",
            "If using Keras pass *_constraint arguments to layers.\n"
          ],
          "name": "stdout"
        }
      ]
    },
    {
      "cell_type": "code",
      "metadata": {
        "id": "ZJkI7ZDs7KTn",
        "colab_type": "code",
        "colab": {}
      },
      "source": [
        "def cat_cross_from_logits(y_true, y_pred):\n",
        "    return tf.keras.losses.categorical_crossentropy(y_true, y_pred, from_logits = True)\n",
        "\n",
        "model.compile(optimizer = 'sgd',\n",
        "              loss = cat_cross_from_logits,\n",
        "              metrics = ['categorical_accuracy'])"
      ],
      "execution_count": 0,
      "outputs": []
    },
    {
      "cell_type": "code",
      "metadata": {
        "id": "ryM-uIdU7Qdm",
        "colab_type": "code",
        "outputId": "d59dbb8f-b19f-4d45-ac54-f548302e2d65",
        "colab": {
          "base_uri": "https://localhost:8080/",
          "height": 334
        }
      },
      "source": [
        "model.summary()"
      ],
      "execution_count": 21,
      "outputs": [
        {
          "output_type": "stream",
          "text": [
            "Model: \"sequential\"\n",
            "_________________________________________________________________\n",
            "Layer (type)                 Output Shape              Param #   \n",
            "=================================================================\n",
            "conv2d (Conv2D)              (None, 28, 28, 16)        160       \n",
            "_________________________________________________________________\n",
            "conv2d_1 (Conv2D)            (None, 28, 28, 32)        4640      \n",
            "_________________________________________________________________\n",
            "flatten (Flatten)            (None, 25088)             0         \n",
            "_________________________________________________________________\n",
            "dense (Dense)                (None, 5000)              125445000 \n",
            "_________________________________________________________________\n",
            "dense_1 (Dense)              (None, 10)                50010     \n",
            "=================================================================\n",
            "Total params: 125,499,810\n",
            "Trainable params: 125,499,810\n",
            "Non-trainable params: 0\n",
            "_________________________________________________________________\n"
          ],
          "name": "stdout"
        }
      ]
    },
    {
      "cell_type": "code",
      "metadata": {
        "id": "G0j4Oa2D7YFW",
        "colab_type": "code",
        "colab": {}
      },
      "source": [
        "VAL_SPLIT_RATE = 0.1"
      ],
      "execution_count": 0,
      "outputs": []
    },
    {
      "cell_type": "code",
      "metadata": {
        "id": "sNS8drBf7Z-u",
        "colab_type": "code",
        "colab": {}
      },
      "source": [
        "EPOCHS_N = 10"
      ],
      "execution_count": 0,
      "outputs": []
    },
    {
      "cell_type": "code",
      "metadata": {
        "id": "BmtltwXc7cxH",
        "colab_type": "code",
        "outputId": "b1996981-fe9d-415d-8a2f-39dc53f7f8b1",
        "colab": {
          "base_uri": "https://localhost:8080/",
          "height": 406
        }
      },
      "source": [
        "history = model.fit(x = x, y = y, epochs = EPOCHS_N, validation_split = VAL_SPLIT_RATE)"
      ],
      "execution_count": 24,
      "outputs": [
        {
          "output_type": "stream",
          "text": [
            "Train on 374175 samples, validate on 41576 samples\n",
            "Epoch 1/10\n",
            "374175/374175 [==============================] - 120s 321us/sample - loss: 0.4768 - categorical_accuracy: 0.8591 - val_loss: 3.3758 - val_categorical_accuracy: 0.1301\n",
            "Epoch 2/10\n",
            "374175/374175 [==============================] - 121s 324us/sample - loss: 0.3468 - categorical_accuracy: 0.8955 - val_loss: 2.2694 - val_categorical_accuracy: 0.4353\n",
            "Epoch 3/10\n",
            "374175/374175 [==============================] - 121s 324us/sample - loss: 0.2936 - categorical_accuracy: 0.9108 - val_loss: 2.3619 - val_categorical_accuracy: 0.4416\n",
            "Epoch 4/10\n",
            "374175/374175 [==============================] - 121s 322us/sample - loss: 0.2526 - categorical_accuracy: 0.9231 - val_loss: 2.0237 - val_categorical_accuracy: 0.5219\n",
            "Epoch 5/10\n",
            "374175/374175 [==============================] - 121s 323us/sample - loss: 0.2159 - categorical_accuracy: 0.9337 - val_loss: 2.3267 - val_categorical_accuracy: 0.4358\n",
            "Epoch 6/10\n",
            "374175/374175 [==============================] - 121s 322us/sample - loss: 0.1808 - categorical_accuracy: 0.9447 - val_loss: 1.9957 - val_categorical_accuracy: 0.5889\n",
            "Epoch 7/10\n",
            "374175/374175 [==============================] - 120s 322us/sample - loss: 0.1470 - categorical_accuracy: 0.9554 - val_loss: 2.5000 - val_categorical_accuracy: 0.4760\n",
            "Epoch 8/10\n",
            "374175/374175 [==============================] - 120s 322us/sample - loss: 0.1164 - categorical_accuracy: 0.9649 - val_loss: 2.7292 - val_categorical_accuracy: 0.4765\n",
            "Epoch 9/10\n",
            "374175/374175 [==============================] - 120s 321us/sample - loss: 0.0915 - categorical_accuracy: 0.9733 - val_loss: 2.0604 - val_categorical_accuracy: 0.6077\n",
            "Epoch 10/10\n",
            "374175/374175 [==============================] - 120s 321us/sample - loss: 0.0729 - categorical_accuracy: 0.9791 - val_loss: 2.5033 - val_categorical_accuracy: 0.5875\n"
          ],
          "name": "stdout"
        }
      ]
    },
    {
      "cell_type": "code",
      "metadata": {
        "id": "pRYlQXeEM5ml",
        "colab_type": "code",
        "outputId": "8b0d1ca7-d27b-4a5f-9805-111ae60da87e",
        "colab": {
          "base_uri": "https://localhost:8080/",
          "height": 1000
        }
      },
      "source": [
        "plt.plot(history.history['categorical_accuracy'])\n",
        "plt.plot(history.history['val_categorical_accuracy'])\n",
        "plt.title('Model accuracy')\n",
        "plt.ylabel('Accuracy')\n",
        "plt.xlabel('Epoch')\n",
        "plt.legend(['Train', 'Validation'], loc = 'right')\n",
        "plt.show()\n",
        "\n",
        "plt.plot(history.history['loss'])\n",
        "plt.plot(history.history['val_loss'])\n",
        "plt.title('Model loss')\n",
        "plt.ylabel('Loss')\n",
        "plt.xlabel('Epoch')\n",
        "plt.legend(['Train', 'Validation'], loc = 'right')\n",
        "plt.show()"
      ],
      "execution_count": 25,
      "outputs": [
        {
          "output_type": "display_data",
          "data": {
            "image/png": "[encoded data removed]",
            "text/plain": [
              "<Figure size 842.4x595.44 with 1 Axes>"
            ]
          },
          "metadata": {
            "tags": []
          }
        },
        {
          "output_type": "display_data",
          "data": {
            "image/png": "[encoded data removed]",
            "text/plain": [
              "<Figure size 842.4x595.44 with 1 Axes>"
            ]
          },
          "metadata": {
            "tags": []
          }
        }
      ]
    },
    {
      "cell_type": "code",
      "metadata": {
        "id": "G0hhsNVG9Rha",
        "colab_type": "code",
        "outputId": "0d2fb556-a832-4f39-ba71-bf078504a9f7",
        "colab": {
          "base_uri": "https://localhost:8080/",
          "height": 34
        }
      },
      "source": [
        "results = model.evaluate(x_test, y_test)\n",
        "\n",
        "print('Test loss, test accuracy:', results)"
      ],
      "execution_count": 26,
      "outputs": [
        {
          "output_type": "stream",
          "text": [
            "Test loss, test accuracy: [0.5405509961460728, 0.89239097]\n"
          ],
          "name": "stdout"
        }
      ]
    },
    {
      "cell_type": "markdown",
      "metadata": {
        "id": "dPT5baf0OuAv",
        "colab_type": "text"
      },
      "source": [
        "Лучшая точность построенной модели на тестовой выборке составила 89%."
      ]
    },
    {
      "cell_type": "markdown",
      "metadata": {
        "id": "_QTPmwbvaAiN",
        "colab_type": "text"
      },
      "source": [
        "### Задание 2\n",
        "\n",
        "Замените один из сверточных слоев на слой, реализующий операцию пулинга (_Pooling_) с функцией максимума или среднего. Как это повлияло на точность классификатора?"
      ]
    },
    {
      "cell_type": "code",
      "metadata": {
        "id": "aP_i1EWAGOPS",
        "colab_type": "code",
        "colab": {}
      },
      "source": [
        "from tensorflow.keras.layers import MaxPooling2D\n",
        "\n",
        "model_2 = tf.keras.Sequential()\n",
        "\n",
        "model_2.add(Conv2D(16, 3, padding = 'same', activation = 'relu', input_shape = (IMAGE_DIM_0, IMAGE_DIM_1, 1)))\n",
        "model_2.add(MaxPooling2D())\n",
        "model_2.add(Flatten())\n",
        "model_2.add(Dense(DENSE_LAYER_WIDTH, activation = 'relu'))\n",
        "model_2.add(Dense(CLASSES_N))"
      ],
      "execution_count": 0,
      "outputs": []
    },
    {
      "cell_type": "code",
      "metadata": {
        "id": "q5GFfxN0gnhB",
        "colab_type": "code",
        "colab": {}
      },
      "source": [
        "model_2.compile(optimizer = 'sgd',\n",
        "               loss = cat_cross_from_logits,\n",
        "               metrics = ['categorical_accuracy'])"
      ],
      "execution_count": 0,
      "outputs": []
    },
    {
      "cell_type": "code",
      "metadata": {
        "id": "ZDtqGb2Egrpf",
        "colab_type": "code",
        "outputId": "d6b3e5ea-da63-4342-b365-3c0a6d5d15f8",
        "colab": {
          "base_uri": "https://localhost:8080/",
          "height": 334
        }
      },
      "source": [
        "model_2.summary()"
      ],
      "execution_count": 29,
      "outputs": [
        {
          "output_type": "stream",
          "text": [
            "Model: \"sequential_1\"\n",
            "_________________________________________________________________\n",
            "Layer (type)                 Output Shape              Param #   \n",
            "=================================================================\n",
            "conv2d_2 (Conv2D)            (None, 28, 28, 16)        160       \n",
            "_________________________________________________________________\n",
            "max_pooling2d (MaxPooling2D) (None, 14, 14, 16)        0         \n",
            "_________________________________________________________________\n",
            "flatten_1 (Flatten)          (None, 3136)              0         \n",
            "_________________________________________________________________\n",
            "dense_2 (Dense)              (None, 5000)              15685000  \n",
            "_________________________________________________________________\n",
            "dense_3 (Dense)              (None, 10)                50010     \n",
            "=================================================================\n",
            "Total params: 15,735,170\n",
            "Trainable params: 15,735,170\n",
            "Non-trainable params: 0\n",
            "_________________________________________________________________\n"
          ],
          "name": "stdout"
        }
      ]
    },
    {
      "cell_type": "code",
      "metadata": {
        "id": "r1WKjxR6gvSP",
        "colab_type": "code",
        "outputId": "2b06c8b4-2016-4f3f-eac0-bec2d52db688",
        "colab": {
          "base_uri": "https://localhost:8080/",
          "height": 406
        }
      },
      "source": [
        "history_2 = model_2.fit(x = x, y = y, epochs = EPOCHS_N, validation_split = VAL_SPLIT_RATE)"
      ],
      "execution_count": 30,
      "outputs": [
        {
          "output_type": "stream",
          "text": [
            "Train on 374175 samples, validate on 41576 samples\n",
            "Epoch 1/10\n",
            "374175/374175 [==============================] - 43s 114us/sample - loss: 0.5757 - categorical_accuracy: 0.8356 - val_loss: 3.3338 - val_categorical_accuracy: 0.0800\n",
            "Epoch 2/10\n",
            "374175/374175 [==============================] - 42s 112us/sample - loss: 0.4074 - categorical_accuracy: 0.8776 - val_loss: 2.9557 - val_categorical_accuracy: 0.2613\n",
            "Epoch 3/10\n",
            "374175/374175 [==============================] - 42s 112us/sample - loss: 0.3602 - categorical_accuracy: 0.8914 - val_loss: 2.9767 - val_categorical_accuracy: 0.2739\n",
            "Epoch 4/10\n",
            "374175/374175 [==============================] - 42s 112us/sample - loss: 0.3305 - categorical_accuracy: 0.8999 - val_loss: 2.4212 - val_categorical_accuracy: 0.3749\n",
            "Epoch 5/10\n",
            "374175/374175 [==============================] - 42s 113us/sample - loss: 0.3076 - categorical_accuracy: 0.9067 - val_loss: 2.4744 - val_categorical_accuracy: 0.3780\n",
            "Epoch 6/10\n",
            "374175/374175 [==============================] - 42s 112us/sample - loss: 0.2886 - categorical_accuracy: 0.9123 - val_loss: 2.2084 - val_categorical_accuracy: 0.4795\n",
            "Epoch 7/10\n",
            "374175/374175 [==============================] - 42s 111us/sample - loss: 0.2720 - categorical_accuracy: 0.9170 - val_loss: 2.3712 - val_categorical_accuracy: 0.4542\n",
            "Epoch 8/10\n",
            "374175/374175 [==============================] - 43s 114us/sample - loss: 0.2570 - categorical_accuracy: 0.9216 - val_loss: 2.0687 - val_categorical_accuracy: 0.5458\n",
            "Epoch 9/10\n",
            "374175/374175 [==============================] - 42s 112us/sample - loss: 0.2426 - categorical_accuracy: 0.9259 - val_loss: 2.1407 - val_categorical_accuracy: 0.5115\n",
            "Epoch 10/10\n",
            "374175/374175 [==============================] - 42s 112us/sample - loss: 0.2289 - categorical_accuracy: 0.9302 - val_loss: 1.9345 - val_categorical_accuracy: 0.5752\n"
          ],
          "name": "stdout"
        }
      ]
    },
    {
      "cell_type": "code",
      "metadata": {
        "id": "AsP0BALPM_7K",
        "colab_type": "code",
        "outputId": "fab1a6dc-f785-412b-c7bc-9b7af8602b20",
        "colab": {
          "base_uri": "https://localhost:8080/",
          "height": 1000
        }
      },
      "source": [
        "plt.plot(history_2.history['categorical_accuracy'])\n",
        "plt.plot(history_2.history['val_categorical_accuracy'])\n",
        "plt.title('Model accuracy')\n",
        "plt.ylabel('Accuracy')\n",
        "plt.xlabel('Epoch')\n",
        "plt.legend(['Train', 'Validation'], loc = 'right')\n",
        "plt.show()\n",
        "\n",
        "plt.plot(history_2.history['loss'])\n",
        "plt.plot(history_2.history['val_loss'])\n",
        "plt.title('Model loss')\n",
        "plt.ylabel('Loss')\n",
        "plt.xlabel('Epoch')\n",
        "plt.legend(['Train', 'Validation'], loc = 'right')\n",
        "plt.show()"
      ],
      "execution_count": 31,
      "outputs": [
        {
          "output_type": "display_data",
          "data": {
            "image/png": "[encoded data removed]",
            "text/plain": [
              "<Figure size 842.4x595.44 with 1 Axes>"
            ]
          },
          "metadata": {
            "tags": []
          }
        },
        {
          "output_type": "display_data",
          "data": {
            "image/png": "[encoded data removed]",
            "text/plain": [
              "<Figure size 842.4x595.44 with 1 Axes>"
            ]
          },
          "metadata": {
            "tags": []
          }
        }
      ]
    },
    {
      "cell_type": "code",
      "metadata": {
        "id": "AXn92Y_69Yto",
        "colab_type": "code",
        "outputId": "5caa13db-ff51-445a-8a27-0060724211bc",
        "colab": {
          "base_uri": "https://localhost:8080/",
          "height": 34
        }
      },
      "source": [
        "results_2 = model_2.evaluate(x_test, y_test)\n",
        "\n",
        "print('Test loss, test accuracy:', results_2)"
      ],
      "execution_count": 32,
      "outputs": [
        {
          "output_type": "stream",
          "text": [
            "Test loss, test accuracy: [0.45766007790563945, 0.87918603]\n"
          ],
          "name": "stdout"
        }
      ]
    },
    {
      "cell_type": "markdown",
      "metadata": {
        "id": "MEjhLucgO0Cl",
        "colab_type": "text"
      },
      "source": [
        "Замена свёрточного слоя на операцию пулинга снизила точность на тестовой выборке до 87%."
      ]
    },
    {
      "cell_type": "markdown",
      "metadata": {
        "id": "fUSDBLccaH1F",
        "colab_type": "text"
      },
      "source": [
        "### Задание 3\n",
        "\n",
        "Реализуйте классическую архитектуру сверточных сетей _LeNet-5_ (http://yann.lecun.com/exdb/lenet/)."
      ]
    },
    {
      "cell_type": "code",
      "metadata": {
        "id": "RwpQ0RV1KUmW",
        "colab_type": "code",
        "colab": {}
      },
      "source": [
        "from tensorflow.keras.layers import AveragePooling2D\n",
        "\n",
        "model_3 = tf.keras.Sequential()\n",
        "\n",
        "model_3.add(Conv2D(6, kernel_size = (5, 5), strides = (1, 1), activation = 'tanh', padding = 'same',\n",
        "                   input_shape = (IMAGE_DIM_0, IMAGE_DIM_1, 1)))\n",
        "model_3.add(AveragePooling2D(pool_size = (2, 2), strides = (2, 2), padding = 'valid'))\n",
        "model_3.add(Conv2D(16, kernel_size = (5, 5), strides = (1, 1), activation = 'tanh', padding = 'valid'))\n",
        "model_3.add(AveragePooling2D(pool_size = (2, 2), strides = (2, 2), padding = 'valid'))\n",
        "model_3.add(Flatten())\n",
        "model_3.add(Dense(120, activation = 'tanh'))\n",
        "model_3.add(Dense(84, activation = 'tanh'))\n",
        "model_3.add(Dense(CLASSES_N, activation = 'softmax'))"
      ],
      "execution_count": 0,
      "outputs": []
    },
    {
      "cell_type": "code",
      "metadata": {
        "id": "rp3AmwxZLBjw",
        "colab_type": "code",
        "colab": {}
      },
      "source": [
        "model_3.compile(optimizer = 'adam',\n",
        "                loss = 'categorical_crossentropy',\n",
        "                metrics = ['categorical_accuracy'])"
      ],
      "execution_count": 0,
      "outputs": []
    },
    {
      "cell_type": "code",
      "metadata": {
        "id": "FyOP4S16LM_V",
        "colab_type": "code",
        "outputId": "467ed357-f46c-4ba2-c98e-ec9c695795dc",
        "colab": {
          "base_uri": "https://localhost:8080/",
          "height": 406
        }
      },
      "source": [
        "history_3 = model_3.fit(x = x, y = y, epochs = EPOCHS_N, validation_split = VAL_SPLIT_RATE)"
      ],
      "execution_count": 40,
      "outputs": [
        {
          "output_type": "stream",
          "text": [
            "Train on 374175 samples, validate on 41576 samples\n",
            "Epoch 1/10\n",
            "374175/374175 [==============================] - 39s 104us/sample - loss: 0.4516 - categorical_accuracy: 0.8618 - val_loss: 3.2148 - val_categorical_accuracy: 0.1163\n",
            "Epoch 2/10\n",
            "374175/374175 [==============================] - 39s 103us/sample - loss: 0.3568 - categorical_accuracy: 0.8898 - val_loss: 2.8585 - val_categorical_accuracy: 0.4042\n",
            "Epoch 3/10\n",
            "374175/374175 [==============================] - 39s 103us/sample - loss: 0.3279 - categorical_accuracy: 0.8980 - val_loss: 2.0824 - val_categorical_accuracy: 0.5103\n",
            "Epoch 4/10\n",
            "374175/374175 [==============================] - 39s 103us/sample - loss: 0.3107 - categorical_accuracy: 0.9030 - val_loss: 3.7105 - val_categorical_accuracy: 0.1722\n",
            "Epoch 5/10\n",
            "374175/374175 [==============================] - 39s 103us/sample - loss: 0.2994 - categorical_accuracy: 0.9060 - val_loss: 2.8629 - val_categorical_accuracy: 0.2903\n",
            "Epoch 6/10\n",
            "374175/374175 [==============================] - 38s 103us/sample - loss: 0.2897 - categorical_accuracy: 0.9091 - val_loss: 2.1490 - val_categorical_accuracy: 0.4624\n",
            "Epoch 7/10\n",
            "374175/374175 [==============================] - 39s 104us/sample - loss: 0.2830 - categorical_accuracy: 0.9107 - val_loss: 2.1406 - val_categorical_accuracy: 0.5335\n",
            "Epoch 8/10\n",
            "374175/374175 [==============================] - 39s 105us/sample - loss: 0.2765 - categorical_accuracy: 0.9128 - val_loss: 2.3037 - val_categorical_accuracy: 0.5000\n",
            "Epoch 9/10\n",
            "374175/374175 [==============================] - 38s 102us/sample - loss: 0.2712 - categorical_accuracy: 0.9143 - val_loss: 2.7005 - val_categorical_accuracy: 0.3632\n",
            "Epoch 10/10\n",
            "374175/374175 [==============================] - 38s 103us/sample - loss: 0.2672 - categorical_accuracy: 0.9153 - val_loss: 2.0758 - val_categorical_accuracy: 0.4649\n"
          ],
          "name": "stdout"
        }
      ]
    },
    {
      "cell_type": "code",
      "metadata": {
        "id": "MzeXU_PtNHA_",
        "colab_type": "code",
        "outputId": "8bd9aebd-ac8f-44fb-8487-3d92d37ca6e2",
        "colab": {
          "base_uri": "https://localhost:8080/",
          "height": 1000
        }
      },
      "source": [
        "plt.plot(history_3.history['categorical_accuracy'])\n",
        "plt.plot(history_3.history['val_categorical_accuracy'])\n",
        "plt.title('Model accuracy')\n",
        "plt.ylabel('Accuracy')\n",
        "plt.xlabel('Epoch')\n",
        "plt.legend(['Train', 'Validation'], loc = 'right')\n",
        "plt.show()\n",
        "\n",
        "plt.plot(history_3.history['loss'])\n",
        "plt.plot(history_3.history['val_loss'])\n",
        "plt.title('Model loss')\n",
        "plt.ylabel('Loss')\n",
        "plt.xlabel('Epoch')\n",
        "plt.legend(['Train', 'Validation'], loc = 'right')\n",
        "plt.show()"
      ],
      "execution_count": 41,
      "outputs": [
        {
          "output_type": "display_data",
          "data": {
            "image/png": "[encoded data removed]",
            "text/plain": [
              "<Figure size 842.4x595.44 with 1 Axes>"
            ]
          },
          "metadata": {
            "tags": []
          }
        },
        {
          "output_type": "display_data",
          "data": {
            "image/png": "[encoded data removed]",
            "text/plain": [
              "<Figure size 842.4x595.44 with 1 Axes>"
            ]
          },
          "metadata": {
            "tags": []
          }
        }
      ]
    },
    {
      "cell_type": "code",
      "metadata": {
        "id": "JSN-NuiS9gbp",
        "colab_type": "code",
        "outputId": "732d0a49-72dd-4713-befb-eef60166de1a",
        "colab": {
          "base_uri": "https://localhost:8080/",
          "height": 34
        }
      },
      "source": [
        "results_3 = model_3.evaluate(x_test, y_test)\n",
        "\n",
        "print('Test loss, test accuracy:', results_3)"
      ],
      "execution_count": 42,
      "outputs": [
        {
          "output_type": "stream",
          "text": [
            "Test loss, test accuracy: [0.4807648109272324, 0.85974675]\n"
          ],
          "name": "stdout"
        }
      ]
    },
    {
      "cell_type": "markdown",
      "metadata": {
        "id": "JJE42pyNPRcm",
        "colab_type": "text"
      },
      "source": [
        "Удивительно, но _LeNet-5_ показала результат хуже, чем первая и вторая модель &mdash; 85% на тестовой выборке. Объяснить это можно тем, что первая модель содержит свёрточный слой с большей выходной размерностью."
      ]
    },
    {
      "cell_type": "markdown",
      "metadata": {
        "id": "X408QNkzaOnm",
        "colab_type": "text"
      },
      "source": [
        "### Задание 4\n",
        "\n",
        "Сравните максимальные точности моделей, построенных в лабораторных работах 1-3. Как можно объяснить полученные различия?"
      ]
    },
    {
      "cell_type": "markdown",
      "metadata": {
        "id": "bVfoAcYYPyvN",
        "colab_type": "text"
      },
      "source": [
        "Результаты на валидационной выборке:\n",
        "\n",
        "* логистическая регрессия &mdash; 81%;\n",
        "\n",
        "* модель с только полносвязными слоями &mdash; 10%;\n",
        "\n",
        "    * с регуляризацией и сбросом нейронов &mdash; 62%;\n",
        "\n",
        "        * с адаптивным шагом &mdash; 72%;\n",
        "\n",
        "* модель с двумя свёрточными слоями и одним полносвязным &mdash; 89%;\n",
        "\n",
        "* модель с одним свёрточным слоем, операцией пулинга и одним полносвязным &mdash; 87%;\n",
        "\n",
        "* _LeNet-5_ &mdash; два свёрточных слоя, две операции пулинга, два полносвязных слоя &mdash; 85%.\n",
        "\n",
        "Объяснение превосходства свёрточных сетей над полносвязными &mdash; такая архитектура просто предназначена для работы с изображениями."
      ]
    }
  ]
}