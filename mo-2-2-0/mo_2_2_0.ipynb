{
  "nbformat": 4,
  "nbformat_minor": 0,
  "metadata": {
    "colab": {
      "name": "mo-2-2-0.ipynb",
      "provenance": [],
      "collapsed_sections": [],
      "toc_visible": true,
      "machine_shape": "hm"
    },
    "kernelspec": {
      "name": "python3",
      "display_name": "Python 3"
    },
    "accelerator": "GPU"
  },
  "cells": [
    {
      "cell_type": "markdown",
      "metadata": {
        "id": "xo5gG8TPIMB2",
        "colab_type": "text"
      },
      "source": [
        "# Лабораторная работа №2\n",
        "\n",
        "## Реализация глубокой нейронной сети"
      ]
    },
    {
      "cell_type": "markdown",
      "metadata": {
        "id": "Fv1NYuWxIQie",
        "colab_type": "text"
      },
      "source": [
        "В работе предлагается использовать набор данных _notMNIST_, который состоит из изображений размерностью 28×28 первых 10 букв латинского алфавита (_A_ ... _J_, соответственно). Обучающая выборка содержит порядка 500 тыс. изображений, а тестовая – около 19 тыс.\n",
        "\n",
        "Данные можно скачать по ссылке:\n",
        "\n",
        "* https://commondatastorage.googleapis.com/books1000/notMNIST_large.tar.gz (большой набор данных);\n",
        "\n",
        "* https://commondatastorage.googleapis.com/books1000/notMNIST_small.tar.gz (маленький набор данных);\n",
        "\n",
        "Описание данных на английском языке доступно по ссылке:\n",
        "http://yaroslavvb.blogspot.sg/2011/09/notmnist-dataset.html"
      ]
    },
    {
      "cell_type": "markdown",
      "metadata": {
        "id": "rxRA69DeV1du",
        "colab_type": "text"
      },
      "source": [
        "### Задание 1\n",
        "\n",
        "Реализуйте полносвязную нейронную сеть с помощью библиотеки _TensorFlow_. В качестве алгоритма оптимизации можно использовать, например, стохастический градиент (_Stochastic Gradient Descent_, _SGD_). Определите количество скрытых слоев от 1 до 5, количество нейронов в каждом из слоев до нескольких сотен, а также их функции активации (кусочно-линейная, сигмоидная, гиперболический тангенс и т.д.)."
      ]
    },
    {
      "cell_type": "code",
      "metadata": {
        "id": "cB3DxRASFTUT",
        "colab_type": "code",
        "outputId": "c25dbb0e-ef76-4e8c-cdcf-7fbedf4601cc",
        "colab": {
          "base_uri": "https://localhost:8080/",
          "height": 34
        }
      },
      "source": [
        "from google.colab import drive\n",
        "\n",
        "drive.mount('/content/drive', force_remount = True)"
      ],
      "execution_count": 1,
      "outputs": [
        {
          "output_type": "stream",
          "text": [
            "Mounted at /content/drive\n"
          ],
          "name": "stdout"
        }
      ]
    },
    {
      "cell_type": "code",
      "metadata": {
        "id": "nRR2oJQkFWOZ",
        "colab_type": "code",
        "colab": {}
      },
      "source": [
        "BASE_DIR = '/content/drive/My Drive/Colab Files/mo-2'\n",
        "\n",
        "import sys\n",
        "\n",
        "sys.path.append(BASE_DIR)\n",
        "\n",
        "import os\n",
        "\n",
        "os.chdir(BASE_DIR)"
      ],
      "execution_count": 0,
      "outputs": []
    },
    {
      "cell_type": "code",
      "metadata": {
        "id": "kQ3XaBd_gE2w",
        "colab_type": "code",
        "colab": {}
      },
      "source": [
        "import pandas as pd\n",
        "\n",
        "dataframe = pd.read_pickle(\"./large.pkl\")"
      ],
      "execution_count": 0,
      "outputs": []
    },
    {
      "cell_type": "code",
      "metadata": {
        "id": "XTRymgc_1l_5",
        "colab_type": "code",
        "outputId": "cf6c2da8-a39a-446a-e17e-8f90e1f5488e",
        "colab": {
          "base_uri": "https://localhost:8080/",
          "height": 34
        }
      },
      "source": [
        "dataframe['data'].shape"
      ],
      "execution_count": 4,
      "outputs": [
        {
          "output_type": "execute_result",
          "data": {
            "text/plain": [
              "(461946,)"
            ]
          },
          "metadata": {
            "tags": []
          },
          "execution_count": 4
        }
      ]
    },
    {
      "cell_type": "code",
      "metadata": {
        "id": "N5SQpkkmtJPi",
        "colab_type": "code",
        "outputId": "0080c450-b4fc-460d-c112-7594a57033b1",
        "colab": {
          "base_uri": "https://localhost:8080/",
          "height": 187
        }
      },
      "source": [
        "! pip install tensorflow-gpu --pre --quiet\n",
        "\n",
        "! pip show tensorflow-gpu"
      ],
      "execution_count": 5,
      "outputs": [
        {
          "output_type": "stream",
          "text": [
            "Name: tensorflow-gpu\n",
            "Version: 2.2.0rc2\n",
            "Summary: TensorFlow is an open source machine learning framework for everyone.\n",
            "Home-page: https://www.tensorflow.org/\n",
            "Author: Google Inc.\n",
            "Author-email: packages@tensorflow.org\n",
            "License: Apache 2.0\n",
            "Location: /usr/local/lib/python3.6/dist-packages\n",
            "Requires: astunparse, google-pasta, six, scipy, termcolor, opt-einsum, keras-preprocessing, tensorflow-estimator, gast, numpy, protobuf, grpcio, wrapt, wheel, tensorboard, h5py, absl-py\n",
            "Required-by: \n"
          ],
          "name": "stdout"
        }
      ]
    },
    {
      "cell_type": "code",
      "metadata": {
        "id": "1P4YjwNPtKwg",
        "colab_type": "code",
        "colab": {}
      },
      "source": [
        "import tensorflow as tf"
      ],
      "execution_count": 0,
      "outputs": []
    },
    {
      "cell_type": "code",
      "metadata": {
        "id": "mw7YDGMBRjOF",
        "colab_type": "code",
        "colab": {}
      },
      "source": [
        "import numpy as np"
      ],
      "execution_count": 0,
      "outputs": []
    },
    {
      "cell_type": "code",
      "metadata": {
        "id": "6xMfSLqWexl3",
        "colab_type": "code",
        "outputId": "374cbf97-dbb7-41ae-f40f-a0118b0a4460",
        "colab": {
          "base_uri": "https://localhost:8080/",
          "height": 34
        }
      },
      "source": [
        "x = np.asarray(list(dataframe['data']))[..., np.newaxis]\n",
        "\n",
        "x = tf.keras.utils.normalize(x, axis = 1)\n",
        "\n",
        "x.shape"
      ],
      "execution_count": 8,
      "outputs": [
        {
          "output_type": "execute_result",
          "data": {
            "text/plain": [
              "(461946, 28, 28, 1)"
            ]
          },
          "metadata": {
            "tags": []
          },
          "execution_count": 8
        }
      ]
    },
    {
      "cell_type": "code",
      "metadata": {
        "id": "glJClm9psvnU",
        "colab_type": "code",
        "colab": {}
      },
      "source": [
        "IMAGE_DIM_0, IMAGE_DIM_1 = x.shape[1], x.shape[2]"
      ],
      "execution_count": 0,
      "outputs": []
    },
    {
      "cell_type": "code",
      "metadata": {
        "id": "zyiOmQu2e6dL",
        "colab_type": "code",
        "outputId": "83ccd170-1b9c-46f9-ebdd-50fc87233e86",
        "colab": {
          "base_uri": "https://localhost:8080/",
          "height": 34
        }
      },
      "source": [
        "from tensorflow.keras.utils import to_categorical\n",
        "\n",
        "y = to_categorical(dataframe['label'].astype('category').cat.codes.astype('int32'))\n",
        "\n",
        "y.shape"
      ],
      "execution_count": 10,
      "outputs": [
        {
          "output_type": "execute_result",
          "data": {
            "text/plain": [
              "(461946, 10)"
            ]
          },
          "metadata": {
            "tags": []
          },
          "execution_count": 10
        }
      ]
    },
    {
      "cell_type": "code",
      "metadata": {
        "id": "TWb5SSn1DZwM",
        "colab_type": "code",
        "colab": {}
      },
      "source": [
        "LAYER_WIDTH = 5000"
      ],
      "execution_count": 0,
      "outputs": []
    },
    {
      "cell_type": "code",
      "metadata": {
        "id": "rt6l033LDnbc",
        "colab_type": "code",
        "colab": {}
      },
      "source": [
        "CLASSES_N = y.shape[1]"
      ],
      "execution_count": 0,
      "outputs": []
    },
    {
      "cell_type": "code",
      "metadata": {
        "id": "Ck3I1OmAS-EL",
        "colab_type": "code",
        "colab": {}
      },
      "source": [
        "from tensorflow.keras.models import Sequential\n",
        "from tensorflow.keras.layers import Dense, Reshape\n",
        "\n",
        "model = tf.keras.Sequential()\n",
        "\n",
        "model.add(Reshape((IMAGE_DIM_0 * IMAGE_DIM_1,), input_shape = (IMAGE_DIM_0, IMAGE_DIM_1, 1)))\n",
        "model.add(Dense(LAYER_WIDTH, activation = 'relu'))\n",
        "model.add(Dense(LAYER_WIDTH, activation = 'sigmoid'))\n",
        "model.add(Dense(LAYER_WIDTH, activation = 'tanh'))\n",
        "model.add(Dense(LAYER_WIDTH, activation = 'elu'))\n",
        "model.add(Dense(LAYER_WIDTH, activation = 'softmax'))\n",
        "model.add(Dense(CLASSES_N))"
      ],
      "execution_count": 0,
      "outputs": []
    },
    {
      "cell_type": "code",
      "metadata": {
        "id": "iQdYZhJ5TGef",
        "colab_type": "code",
        "colab": {}
      },
      "source": [
        "def cat_cross_from_logits(y_true, y_pred):\n",
        "    return tf.keras.losses.categorical_crossentropy(y_true, y_pred, from_logits = True)\n",
        "\n",
        "model.compile(optimizer = 'sgd',\n",
        "              loss = cat_cross_from_logits,\n",
        "              metrics = ['categorical_accuracy'])"
      ],
      "execution_count": 0,
      "outputs": []
    },
    {
      "cell_type": "code",
      "metadata": {
        "id": "agCUkO8LTVOk",
        "colab_type": "code",
        "outputId": "c889a12d-f11d-4aed-c026-1cda49de9137",
        "colab": {
          "base_uri": "https://localhost:8080/",
          "height": 391
        }
      },
      "source": [
        "model.summary()"
      ],
      "execution_count": 15,
      "outputs": [
        {
          "output_type": "stream",
          "text": [
            "Model: \"sequential\"\n",
            "_________________________________________________________________\n",
            "Layer (type)                 Output Shape              Param #   \n",
            "=================================================================\n",
            "reshape (Reshape)            (None, 784)               0         \n",
            "_________________________________________________________________\n",
            "dense (Dense)                (None, 5000)              3925000   \n",
            "_________________________________________________________________\n",
            "dense_1 (Dense)              (None, 5000)              25005000  \n",
            "_________________________________________________________________\n",
            "dense_2 (Dense)              (None, 5000)              25005000  \n",
            "_________________________________________________________________\n",
            "dense_3 (Dense)              (None, 5000)              25005000  \n",
            "_________________________________________________________________\n",
            "dense_4 (Dense)              (None, 5000)              25005000  \n",
            "_________________________________________________________________\n",
            "dense_5 (Dense)              (None, 10)                50010     \n",
            "=================================================================\n",
            "Total params: 103,995,010\n",
            "Trainable params: 103,995,010\n",
            "Non-trainable params: 0\n",
            "_________________________________________________________________\n"
          ],
          "name": "stdout"
        }
      ]
    },
    {
      "cell_type": "code",
      "metadata": {
        "id": "dO8I4K_Jfpz_",
        "colab_type": "code",
        "colab": {}
      },
      "source": [
        "BATCH_SIZE = 128"
      ],
      "execution_count": 0,
      "outputs": []
    },
    {
      "cell_type": "code",
      "metadata": {
        "id": "doU3VSjbfPY9",
        "colab_type": "code",
        "colab": {}
      },
      "source": [
        "r = 3608"
      ],
      "execution_count": 0,
      "outputs": []
    },
    {
      "cell_type": "code",
      "metadata": {
        "id": "fq-tMfJha3am",
        "colab_type": "code",
        "colab": {}
      },
      "source": [
        "VAL_SPLIT_RATE = 0.1"
      ],
      "execution_count": 0,
      "outputs": []
    },
    {
      "cell_type": "code",
      "metadata": {
        "id": "2Yc_RbKgbGnb",
        "colab_type": "code",
        "colab": {}
      },
      "source": [
        "EPOCHS_N = 20"
      ],
      "execution_count": 0,
      "outputs": []
    },
    {
      "cell_type": "code",
      "metadata": {
        "id": "KaFzwztDTZy8",
        "colab_type": "code",
        "outputId": "16403099-e1c3-4b43-bd94-7d6eeccc0434",
        "colab": {
          "base_uri": "https://localhost:8080/",
          "height": 714
        }
      },
      "source": [
        "model.fit(x = x[:r * BATCH_SIZE], y = y[:r * BATCH_SIZE], epochs = EPOCHS_N, batch_size = BATCH_SIZE,\n",
        "          validation_split = VAL_SPLIT_RATE)"
      ],
      "execution_count": 20,
      "outputs": [
        {
          "output_type": "stream",
          "text": [
            "Epoch 1/20\n",
            "3248/3248 [==============================] - 62s 19ms/step - loss: 2.2421 - categorical_accuracy: 0.1129 - val_loss: 3.7853 - val_categorical_accuracy: 0.0000e+00\n",
            "Epoch 2/20\n",
            "3248/3248 [==============================] - 61s 19ms/step - loss: 2.2144 - categorical_accuracy: 0.1133 - val_loss: 4.3620 - val_categorical_accuracy: 0.0000e+00\n",
            "Epoch 3/20\n",
            "3248/3248 [==============================] - 61s 19ms/step - loss: 2.2083 - categorical_accuracy: 0.1127 - val_loss: 4.7218 - val_categorical_accuracy: 0.0000e+00\n",
            "Epoch 4/20\n",
            "3248/3248 [==============================] - 61s 19ms/step - loss: 2.2056 - categorical_accuracy: 0.1127 - val_loss: 4.9821 - val_categorical_accuracy: 0.0000e+00\n",
            "Epoch 5/20\n",
            "3248/3248 [==============================] - 61s 19ms/step - loss: 2.2042 - categorical_accuracy: 0.1132 - val_loss: 5.1854 - val_categorical_accuracy: 0.0000e+00\n",
            "Epoch 6/20\n",
            "3248/3248 [==============================] - 61s 19ms/step - loss: 2.2032 - categorical_accuracy: 0.1128 - val_loss: 5.3514 - val_categorical_accuracy: 0.0000e+00\n",
            "Epoch 7/20\n",
            "3248/3248 [==============================] - 61s 19ms/step - loss: 2.2026 - categorical_accuracy: 0.1132 - val_loss: 5.4915 - val_categorical_accuracy: 0.0000e+00\n",
            "Epoch 8/20\n",
            "3248/3248 [==============================] - 61s 19ms/step - loss: 2.2021 - categorical_accuracy: 0.1127 - val_loss: 5.6123 - val_categorical_accuracy: 0.0000e+00\n",
            "Epoch 9/20\n",
            "3248/3248 [==============================] - 61s 19ms/step - loss: 2.2017 - categorical_accuracy: 0.1127 - val_loss: 5.7181 - val_categorical_accuracy: 0.0000e+00\n",
            "Epoch 10/20\n",
            "3248/3248 [==============================] - 61s 19ms/step - loss: 2.2014 - categorical_accuracy: 0.1130 - val_loss: 5.8122 - val_categorical_accuracy: 0.0000e+00\n",
            "Epoch 11/20\n",
            "3248/3248 [==============================] - 61s 19ms/step - loss: 2.2012 - categorical_accuracy: 0.1131 - val_loss: 5.8967 - val_categorical_accuracy: 0.0000e+00\n",
            "Epoch 12/20\n",
            "3248/3248 [==============================] - 61s 19ms/step - loss: 2.2010 - categorical_accuracy: 0.1128 - val_loss: 5.9733 - val_categorical_accuracy: 0.0000e+00\n",
            "Epoch 13/20\n",
            "3248/3248 [==============================] - 61s 19ms/step - loss: 2.2009 - categorical_accuracy: 0.1128 - val_loss: 6.0431 - val_categorical_accuracy: 0.0000e+00\n",
            "Epoch 14/20\n",
            "3248/3248 [==============================] - 61s 19ms/step - loss: 2.2008 - categorical_accuracy: 0.1128 - val_loss: 6.1068 - val_categorical_accuracy: 0.0000e+00\n",
            "Epoch 15/20\n",
            "3248/3248 [==============================] - 61s 19ms/step - loss: 2.2007 - categorical_accuracy: 0.1129 - val_loss: 6.1661 - val_categorical_accuracy: 0.0000e+00\n",
            "Epoch 16/20\n",
            "3248/3248 [==============================] - 61s 19ms/step - loss: 2.2006 - categorical_accuracy: 0.1134 - val_loss: 6.2209 - val_categorical_accuracy: 0.0000e+00\n",
            "Epoch 17/20\n",
            "3248/3248 [==============================] - 61s 19ms/step - loss: 2.2005 - categorical_accuracy: 0.1133 - val_loss: 6.2719 - val_categorical_accuracy: 0.0000e+00\n",
            "Epoch 18/20\n",
            "3248/3248 [==============================] - 61s 19ms/step - loss: 2.2004 - categorical_accuracy: 0.1132 - val_loss: 6.3196 - val_categorical_accuracy: 0.0000e+00\n",
            "Epoch 19/20\n",
            "3248/3248 [==============================] - 61s 19ms/step - loss: 2.2004 - categorical_accuracy: 0.1127 - val_loss: 6.3643 - val_categorical_accuracy: 0.0000e+00\n",
            "Epoch 20/20\n",
            "3248/3248 [==============================] - 61s 19ms/step - loss: 2.2003 - categorical_accuracy: 0.1130 - val_loss: 6.4064 - val_categorical_accuracy: 0.0000e+00\n"
          ],
          "name": "stdout"
        },
        {
          "output_type": "execute_result",
          "data": {
            "text/plain": [
              "<tensorflow.python.keras.callbacks.History at 0x7f7d657cf320>"
            ]
          },
          "metadata": {
            "tags": []
          },
          "execution_count": 20
        }
      ]
    },
    {
      "cell_type": "markdown",
      "metadata": {
        "id": "yU-FLc1TXkWv",
        "colab_type": "text"
      },
      "source": [
        "### Задание 2\n",
        "\n",
        "Как улучшилась точность классификатора по сравнению с логистической регрессией?"
      ]
    },
    {
      "cell_type": "markdown",
      "metadata": {
        "id": "yS3aHzgBXoLX",
        "colab_type": "text"
      },
      "source": [
        "### Задание 3\n",
        "\n",
        "Используйте регуляризацию и метод сброса нейронов (_dropout_) для борьбы с переобучением. Как улучшилось качество классификации?"
      ]
    },
    {
      "cell_type": "code",
      "metadata": {
        "id": "KK8_7mx6ExSa",
        "colab_type": "code",
        "colab": {}
      },
      "source": [
        "REG_RATE = 0.001"
      ],
      "execution_count": 0,
      "outputs": []
    },
    {
      "cell_type": "code",
      "metadata": {
        "id": "iKKn4cz5E3Zd",
        "colab_type": "code",
        "colab": {}
      },
      "source": [
        "from tensorflow.keras.regularizers import l2\n",
        "\n",
        "l2_reg = l2(REG_RATE)"
      ],
      "execution_count": 0,
      "outputs": []
    },
    {
      "cell_type": "code",
      "metadata": {
        "id": "Rwzn-lFyDzDU",
        "colab_type": "code",
        "colab": {}
      },
      "source": [
        "DROPOUT_RATE = 0.2"
      ],
      "execution_count": 0,
      "outputs": []
    },
    {
      "cell_type": "code",
      "metadata": {
        "id": "Mx7qA0UwFA2I",
        "colab_type": "code",
        "colab": {}
      },
      "source": [
        "from tensorflow.keras.layers import Dropout\n",
        "\n",
        "dropout_layer = Dropout(DROPOUT_RATE)"
      ],
      "execution_count": 0,
      "outputs": []
    },
    {
      "cell_type": "code",
      "metadata": {
        "id": "H_-Tit9SulyG",
        "colab_type": "code",
        "colab": {}
      },
      "source": [
        "model_2 = tf.keras.Sequential()\n",
        "\n",
        "model_2.add(Reshape((IMAGE_DIM_0 * IMAGE_DIM_1,), input_shape = (IMAGE_DIM_0, IMAGE_DIM_1, 1)))\n",
        "model_2.add(Dense(LAYER_WIDTH, activation = 'relu', kernel_regularizer = l2_reg))\n",
        "model_2.add(dropout_layer)\n",
        "model_2.add(Dense(LAYER_WIDTH, activation = 'sigmoid', kernel_regularizer = l2_reg))\n",
        "model_2.add(dropout_layer)\n",
        "model_2.add(Dense(LAYER_WIDTH, activation = 'tanh', kernel_regularizer = l2_reg))\n",
        "model_2.add(dropout_layer)\n",
        "model_2.add(Dense(LAYER_WIDTH, activation = 'sigmoid', kernel_regularizer = l2_reg))\n",
        "model_2.add(dropout_layer)\n",
        "model_2.add(Dense(LAYER_WIDTH, activation = 'relu', kernel_regularizer = l2_reg))\n",
        "model_2.add(dropout_layer)\n",
        "model_2.add(Dense(CLASSES_N))"
      ],
      "execution_count": 0,
      "outputs": []
    },
    {
      "cell_type": "code",
      "metadata": {
        "id": "TiCOKPpI3bJ6",
        "colab_type": "code",
        "colab": {}
      },
      "source": [
        "model_2.compile(optimizer = 'sgd',\n",
        "                loss = cat_cross_from_logits,\n",
        "                metrics = ['categorical_accuracy'])"
      ],
      "execution_count": 0,
      "outputs": []
    },
    {
      "cell_type": "code",
      "metadata": {
        "id": "7ZAaa1g23gAy",
        "colab_type": "code",
        "colab": {
          "base_uri": "https://localhost:8080/",
          "height": 425
        },
        "outputId": "6bf62cb3-dc02-40a7-be3f-3d6dbdbb8243"
      },
      "source": [
        "model_2.summary()"
      ],
      "execution_count": 27,
      "outputs": [
        {
          "output_type": "stream",
          "text": [
            "Model: \"sequential_1\"\n",
            "_________________________________________________________________\n",
            "Layer (type)                 Output Shape              Param #   \n",
            "=================================================================\n",
            "reshape_1 (Reshape)          (None, 784)               0         \n",
            "_________________________________________________________________\n",
            "dense_6 (Dense)              (None, 5000)              3925000   \n",
            "_________________________________________________________________\n",
            "dropout (Dropout)            (None, 5000)              0         \n",
            "_________________________________________________________________\n",
            "dense_7 (Dense)              (None, 5000)              25005000  \n",
            "_________________________________________________________________\n",
            "dense_8 (Dense)              (None, 5000)              25005000  \n",
            "_________________________________________________________________\n",
            "dense_9 (Dense)              (None, 5000)              25005000  \n",
            "_________________________________________________________________\n",
            "dense_10 (Dense)             (None, 5000)              25005000  \n",
            "_________________________________________________________________\n",
            "dense_11 (Dense)             (None, 10)                50010     \n",
            "=================================================================\n",
            "Total params: 103,995,010\n",
            "Trainable params: 103,995,010\n",
            "Non-trainable params: 0\n",
            "_________________________________________________________________\n"
          ],
          "name": "stdout"
        }
      ]
    },
    {
      "cell_type": "code",
      "metadata": {
        "id": "xnvgsUDy3krC",
        "colab_type": "code",
        "colab": {
          "base_uri": "https://localhost:8080/",
          "height": 714
        },
        "outputId": "8789de24-64ae-461d-ace1-fce86ba5b912"
      },
      "source": [
        "model_2.fit(x = x[:r * BATCH_SIZE], y = y[:r * BATCH_SIZE], epochs = EPOCHS_N, batch_size = BATCH_SIZE,\n",
        "            validation_split = VAL_SPLIT_RATE)"
      ],
      "execution_count": 28,
      "outputs": [
        {
          "output_type": "stream",
          "text": [
            "Epoch 1/20\n",
            "3248/3248 [==============================] - 91s 28ms/step - loss: 22.2429 - categorical_accuracy: 0.1171 - val_loss: 24.7438 - val_categorical_accuracy: 0.0000e+00\n",
            "Epoch 2/20\n",
            "3248/3248 [==============================] - 91s 28ms/step - loss: 19.7819 - categorical_accuracy: 0.1298 - val_loss: 23.7590 - val_categorical_accuracy: 0.0000e+00\n",
            "Epoch 3/20\n",
            "3248/3248 [==============================] - 91s 28ms/step - loss: 17.2906 - categorical_accuracy: 0.2769 - val_loss: 21.7852 - val_categorical_accuracy: 0.0000e+00\n",
            "Epoch 4/20\n",
            "3248/3248 [==============================] - 91s 28ms/step - loss: 15.1711 - categorical_accuracy: 0.3934 - val_loss: 19.9977 - val_categorical_accuracy: 0.0000e+00\n",
            "Epoch 5/20\n",
            "3248/3248 [==============================] - 91s 28ms/step - loss: 13.3202 - categorical_accuracy: 0.5224 - val_loss: 18.5776 - val_categorical_accuracy: 0.0000e+00\n",
            "Epoch 6/20\n",
            "3248/3248 [==============================] - 91s 28ms/step - loss: 11.6135 - categorical_accuracy: 0.6610 - val_loss: 17.3491 - val_categorical_accuracy: 0.0000e+00\n",
            "Epoch 7/20\n",
            "3248/3248 [==============================] - 91s 28ms/step - loss: 10.2608 - categorical_accuracy: 0.6931 - val_loss: 15.9380 - val_categorical_accuracy: 0.0000e+00\n",
            "Epoch 8/20\n",
            "3248/3248 [==============================] - 91s 28ms/step - loss: 9.0927 - categorical_accuracy: 0.7122 - val_loss: 14.5146 - val_categorical_accuracy: 0.0000e+00\n",
            "Epoch 9/20\n",
            "3248/3248 [==============================] - 91s 28ms/step - loss: 8.0740 - categorical_accuracy: 0.7280 - val_loss: 13.6928 - val_categorical_accuracy: 0.0000e+00\n",
            "Epoch 10/20\n",
            "3248/3248 [==============================] - 91s 28ms/step - loss: 7.1753 - categorical_accuracy: 0.7419 - val_loss: 12.7549 - val_categorical_accuracy: 0.0000e+00\n",
            "Epoch 11/20\n",
            "3248/3248 [==============================] - 91s 28ms/step - loss: 6.3772 - categorical_accuracy: 0.7561 - val_loss: 11.8387 - val_categorical_accuracy: 0.0000e+00\n",
            "Epoch 12/20\n",
            "3248/3248 [==============================] - 91s 28ms/step - loss: 5.6869 - categorical_accuracy: 0.7653 - val_loss: 11.2668 - val_categorical_accuracy: 0.0000e+00\n",
            "Epoch 13/20\n",
            "3248/3248 [==============================] - 91s 28ms/step - loss: 5.0860 - categorical_accuracy: 0.7718 - val_loss: 10.8435 - val_categorical_accuracy: 0.0000e+00\n",
            "Epoch 14/20\n",
            "3248/3248 [==============================] - 91s 28ms/step - loss: 4.5614 - categorical_accuracy: 0.7766 - val_loss: 10.5157 - val_categorical_accuracy: 0.0000e+00\n",
            "Epoch 15/20\n",
            "3248/3248 [==============================] - 91s 28ms/step - loss: 4.1030 - categorical_accuracy: 0.7795 - val_loss: 10.0728 - val_categorical_accuracy: 0.0000e+00\n",
            "Epoch 16/20\n",
            "3248/3248 [==============================] - 91s 28ms/step - loss: 3.7020 - categorical_accuracy: 0.7824 - val_loss: 9.4158 - val_categorical_accuracy: 0.0000e+00\n",
            "Epoch 17/20\n",
            "3248/3248 [==============================] - 91s 28ms/step - loss: 3.3495 - categorical_accuracy: 0.7845 - val_loss: 9.0905 - val_categorical_accuracy: 0.0000e+00\n",
            "Epoch 18/20\n",
            "3248/3248 [==============================] - 91s 28ms/step - loss: 3.0401 - categorical_accuracy: 0.7866 - val_loss: 8.6761 - val_categorical_accuracy: 0.0000e+00\n",
            "Epoch 19/20\n",
            "3248/3248 [==============================] - 91s 28ms/step - loss: 2.7687 - categorical_accuracy: 0.7883 - val_loss: 8.7779 - val_categorical_accuracy: 0.0000e+00\n",
            "Epoch 20/20\n",
            "3248/3248 [==============================] - 91s 28ms/step - loss: 2.5310 - categorical_accuracy: 0.7900 - val_loss: 8.4748 - val_categorical_accuracy: 0.0000e+00\n"
          ],
          "name": "stdout"
        },
        {
          "output_type": "execute_result",
          "data": {
            "text/plain": [
              "<tensorflow.python.keras.callbacks.History at 0x7f7d6447a208>"
            ]
          },
          "metadata": {
            "tags": []
          },
          "execution_count": 28
        }
      ]
    },
    {
      "cell_type": "markdown",
      "metadata": {
        "id": "DJJ4R3miXtnA",
        "colab_type": "text"
      },
      "source": [
        "### Задание 4\n",
        "\n",
        "Воспользуйтесь динамически изменяемой скоростью обучения (_learning rate_). Наилучшая точность, достигнутая с помощью данной модели составляет 97.1%. Какую точность демонстрирует Ваша реализованная модель?"
      ]
    },
    {
      "cell_type": "code",
      "metadata": {
        "id": "NHKfjeYg8bh7",
        "colab_type": "code",
        "colab": {
          "base_uri": "https://localhost:8080/",
          "height": 714
        },
        "outputId": "775c5198-c528-4505-96e1-cb714c8d565e"
      },
      "source": [
        "from tensorflow.keras.optimizers import SGD\n",
        "\n",
        "dyn_lr_sgd = SGD(lr = 0.01, momentum = 0.9)\n",
        "\n",
        "model_2.compile(optimizer = dyn_lr_sgd,\n",
        "                loss = cat_cross_from_logits,\n",
        "                metrics = ['categorical_accuracy'])\n",
        "\n",
        "model_2.fit(x = x[:r * BATCH_SIZE], y = y[:r * BATCH_SIZE], epochs = EPOCHS_N, batch_size = BATCH_SIZE,\n",
        "            validation_split = VAL_SPLIT_RATE)"
      ],
      "execution_count": 29,
      "outputs": [
        {
          "output_type": "stream",
          "text": [
            "Epoch 1/20\n",
            "3248/3248 [==============================] - 99s 30ms/step - loss: 1.7904 - categorical_accuracy: 0.7848 - val_loss: 6.7390 - val_categorical_accuracy: 0.0000e+00\n",
            "Epoch 2/20\n",
            "3248/3248 [==============================] - 99s 30ms/step - loss: 1.1303 - categorical_accuracy: 0.7947 - val_loss: 7.1027 - val_categorical_accuracy: 0.0000e+00\n",
            "Epoch 3/20\n",
            "3248/3248 [==============================] - 98s 30ms/step - loss: 0.9437 - categorical_accuracy: 0.7997 - val_loss: 6.2875 - val_categorical_accuracy: 0.0000e+00\n",
            "Epoch 4/20\n",
            "3248/3248 [==============================] - 99s 30ms/step - loss: 0.8940 - categorical_accuracy: 0.8028 - val_loss: 6.0434 - val_categorical_accuracy: 0.0000e+00\n",
            "Epoch 5/20\n",
            "3248/3248 [==============================] - 99s 30ms/step - loss: 0.8779 - categorical_accuracy: 0.8048 - val_loss: 6.2465 - val_categorical_accuracy: 0.0000e+00\n",
            "Epoch 6/20\n",
            "3248/3248 [==============================] - 99s 30ms/step - loss: 0.8706 - categorical_accuracy: 0.8071 - val_loss: 6.2936 - val_categorical_accuracy: 0.0000e+00\n",
            "Epoch 7/20\n",
            "3248/3248 [==============================] - 99s 30ms/step - loss: 0.8662 - categorical_accuracy: 0.8091 - val_loss: 6.4543 - val_categorical_accuracy: 0.0000e+00\n",
            "Epoch 8/20\n",
            "3248/3248 [==============================] - 98s 30ms/step - loss: 0.8652 - categorical_accuracy: 0.8096 - val_loss: 6.8076 - val_categorical_accuracy: 0.0000e+00\n",
            "Epoch 9/20\n",
            "3248/3248 [==============================] - 99s 30ms/step - loss: 0.8640 - categorical_accuracy: 0.8106 - val_loss: 6.0376 - val_categorical_accuracy: 0.0000e+00\n",
            "Epoch 10/20\n",
            "3248/3248 [==============================] - 99s 30ms/step - loss: 0.8612 - categorical_accuracy: 0.8113 - val_loss: 5.6306 - val_categorical_accuracy: 0.0000e+00\n",
            "Epoch 11/20\n",
            "3248/3248 [==============================] - 99s 30ms/step - loss: 0.8593 - categorical_accuracy: 0.8128 - val_loss: 6.0645 - val_categorical_accuracy: 0.0000e+00\n",
            "Epoch 12/20\n",
            "3248/3248 [==============================] - 99s 30ms/step - loss: 0.8584 - categorical_accuracy: 0.8129 - val_loss: 6.2229 - val_categorical_accuracy: 0.0000e+00\n",
            "Epoch 13/20\n",
            "3248/3248 [==============================] - 99s 30ms/step - loss: 0.8571 - categorical_accuracy: 0.8137 - val_loss: 6.5056 - val_categorical_accuracy: 0.0000e+00\n",
            "Epoch 14/20\n",
            "3248/3248 [==============================] - 98s 30ms/step - loss: 0.8576 - categorical_accuracy: 0.8138 - val_loss: 5.6894 - val_categorical_accuracy: 0.0000e+00\n",
            "Epoch 15/20\n",
            "3248/3248 [==============================] - 99s 30ms/step - loss: 0.8562 - categorical_accuracy: 0.8140 - val_loss: 5.0470 - val_categorical_accuracy: 0.0000e+00\n",
            "Epoch 16/20\n",
            "3248/3248 [==============================] - 99s 30ms/step - loss: 0.8563 - categorical_accuracy: 0.8136 - val_loss: 5.6367 - val_categorical_accuracy: 0.0000e+00\n",
            "Epoch 17/20\n",
            "3248/3248 [==============================] - 98s 30ms/step - loss: 0.8552 - categorical_accuracy: 0.8145 - val_loss: 5.9914 - val_categorical_accuracy: 0.0000e+00\n",
            "Epoch 18/20\n",
            "3248/3248 [==============================] - 99s 30ms/step - loss: 0.8553 - categorical_accuracy: 0.8143 - val_loss: 5.7025 - val_categorical_accuracy: 0.0000e+00\n",
            "Epoch 19/20\n",
            "3248/3248 [==============================] - 99s 30ms/step - loss: 0.8524 - categorical_accuracy: 0.8156 - val_loss: 5.8125 - val_categorical_accuracy: 0.0000e+00\n",
            "Epoch 20/20\n",
            "3248/3248 [==============================] - 98s 30ms/step - loss: 0.8524 - categorical_accuracy: 0.8149 - val_loss: 6.5712 - val_categorical_accuracy: 0.0000e+00\n"
          ],
          "name": "stdout"
        },
        {
          "output_type": "execute_result",
          "data": {
            "text/plain": [
              "<tensorflow.python.keras.callbacks.History at 0x7f7d63806ac8>"
            ]
          },
          "metadata": {
            "tags": []
          },
          "execution_count": 29
        }
      ]
    }
  ]
}