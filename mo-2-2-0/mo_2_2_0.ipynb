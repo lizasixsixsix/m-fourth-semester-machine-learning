{
  "nbformat": 4,
  "nbformat_minor": 0,
  "metadata": {
    "colab": {
      "name": "mo-2-2-0.ipynb",
      "provenance": [],
      "collapsed_sections": [],
      "toc_visible": true,
      "machine_shape": "hm"
    },
    "kernelspec": {
      "name": "python3",
      "display_name": "Python 3"
    },
    "accelerator": "GPU"
  },
  "cells": [
    {
      "cell_type": "markdown",
      "metadata": {
        "id": "xo5gG8TPIMB2",
        "colab_type": "text"
      },
      "source": [
        "# Лабораторная работа №2\n",
        "\n",
        "## Реализация глубокой нейронной сети"
      ]
    },
    {
      "cell_type": "markdown",
      "metadata": {
        "id": "Fv1NYuWxIQie",
        "colab_type": "text"
      },
      "source": [
        "В работе предлагается использовать набор данных _notMNIST_, который состоит из изображений размерностью 28×28 первых 10 букв латинского алфавита (_A_ ... _J_, соответственно). Обучающая выборка содержит порядка 500 тыс. изображений, а тестовая – около 19 тыс.\n",
        "\n",
        "Данные можно скачать по ссылке:\n",
        "\n",
        "* https://commondatastorage.googleapis.com/books1000/notMNIST_large.tar.gz (большой набор данных);\n",
        "\n",
        "* https://commondatastorage.googleapis.com/books1000/notMNIST_small.tar.gz (маленький набор данных);\n",
        "\n",
        "Описание данных на английском языке доступно по ссылке:\n",
        "http://yaroslavvb.blogspot.sg/2011/09/notmnist-dataset.html"
      ]
    },
    {
      "cell_type": "markdown",
      "metadata": {
        "id": "rxRA69DeV1du",
        "colab_type": "text"
      },
      "source": [
        "### Задание 1\n",
        "\n",
        "Реализуйте полносвязную нейронную сеть с помощью библиотеки _TensorFlow_. В качестве алгоритма оптимизации можно использовать, например, стохастический градиент (_Stochastic Gradient Descent_, _SGD_). Определите количество скрытых слоев от 1 до 5, количество нейронов в каждом из слоев до нескольких сотен, а также их функции активации (кусочно-линейная, сигмоидная, гиперболический тангенс и т.д.)."
      ]
    },
    {
      "cell_type": "markdown",
      "metadata": {
        "id": "FmW2WQJlB0Vz",
        "colab_type": "text"
      },
      "source": [
        "Загрузим файл с датасетом, обработанным в лабораторной работе №1."
      ]
    },
    {
      "cell_type": "code",
      "metadata": {
        "id": "DgqXtBOhY3GI",
        "colab_type": "code",
        "colab": {}
      },
      "source": [
        "import warnings\n",
        "\n",
        "warnings.filterwarnings('ignore')"
      ],
      "execution_count": 0,
      "outputs": []
    },
    {
      "cell_type": "code",
      "metadata": {
        "id": "cB3DxRASFTUT",
        "colab_type": "code",
        "outputId": "ebd4883f-6d8f-4563-d129-04c1dbbf61af",
        "colab": {
          "base_uri": "https://localhost:8080/",
          "height": 34
        }
      },
      "source": [
        "from google.colab import drive\n",
        "\n",
        "drive.mount('/content/drive', force_remount = True)"
      ],
      "execution_count": 2,
      "outputs": [
        {
          "output_type": "stream",
          "text": [
            "Mounted at /content/drive\n"
          ],
          "name": "stdout"
        }
      ]
    },
    {
      "cell_type": "code",
      "metadata": {
        "id": "nRR2oJQkFWOZ",
        "colab_type": "code",
        "colab": {}
      },
      "source": [
        "BASE_DIR = '/content/drive/My Drive/Colab Files/mo-2'\n",
        "\n",
        "import sys\n",
        "\n",
        "sys.path.append(BASE_DIR)\n",
        "\n",
        "import os\n",
        "\n",
        "os.chdir(BASE_DIR)"
      ],
      "execution_count": 0,
      "outputs": []
    },
    {
      "cell_type": "code",
      "metadata": {
        "id": "kQ3XaBd_gE2w",
        "colab_type": "code",
        "colab": {}
      },
      "source": [
        "import pandas as pd\n",
        "\n",
        "dataframe = pd.read_pickle(\"./large.pkl\")"
      ],
      "execution_count": 0,
      "outputs": []
    },
    {
      "cell_type": "code",
      "metadata": {
        "id": "XTRymgc_1l_5",
        "colab_type": "code",
        "outputId": "93da2c70-b0b5-4fbf-bdd1-f08fdaea4f9f",
        "colab": {
          "base_uri": "https://localhost:8080/",
          "height": 34
        }
      },
      "source": [
        "dataframe['data'].shape"
      ],
      "execution_count": 5,
      "outputs": [
        {
          "output_type": "execute_result",
          "data": {
            "text/plain": [
              "(461946,)"
            ]
          },
          "metadata": {
            "tags": []
          },
          "execution_count": 5
        }
      ]
    },
    {
      "cell_type": "code",
      "metadata": {
        "id": "N5SQpkkmtJPi",
        "colab_type": "code",
        "colab": {}
      },
      "source": [
        "! pip install tensorflow-gpu --pre --quiet"
      ],
      "execution_count": 0,
      "outputs": []
    },
    {
      "cell_type": "code",
      "metadata": {
        "id": "1P4YjwNPtKwg",
        "colab_type": "code",
        "colab": {}
      },
      "source": [
        "import tensorflow as tf"
      ],
      "execution_count": 0,
      "outputs": []
    },
    {
      "cell_type": "code",
      "metadata": {
        "id": "mw7YDGMBRjOF",
        "colab_type": "code",
        "colab": {}
      },
      "source": [
        "import numpy as np"
      ],
      "execution_count": 0,
      "outputs": []
    },
    {
      "cell_type": "code",
      "metadata": {
        "id": "ikAfPyI_j2KJ",
        "colab_type": "code",
        "colab": {}
      },
      "source": [
        "dataframe_test = dataframe.sample(frac = 0.1)\n",
        "\n",
        "dataframe = dataframe.drop(dataframe_test.index)"
      ],
      "execution_count": 0,
      "outputs": []
    },
    {
      "cell_type": "code",
      "metadata": {
        "id": "6xMfSLqWexl3",
        "colab_type": "code",
        "outputId": "7702ff7a-cd30-47a2-d97a-0dfc26d83ec1",
        "colab": {
          "base_uri": "https://localhost:8080/",
          "height": 34
        }
      },
      "source": [
        "x = np.asarray(list(dataframe['data']))[..., np.newaxis]\n",
        "\n",
        "x = tf.keras.utils.normalize(x, axis = 1)\n",
        "\n",
        "x.shape"
      ],
      "execution_count": 10,
      "outputs": [
        {
          "output_type": "execute_result",
          "data": {
            "text/plain": [
              "(415751, 28, 28, 1)"
            ]
          },
          "metadata": {
            "tags": []
          },
          "execution_count": 10
        }
      ]
    },
    {
      "cell_type": "code",
      "metadata": {
        "id": "4vxcM_uN66-R",
        "colab_type": "code",
        "outputId": "6a799e5c-3ce4-4a0b-840d-d5a62eec89f6",
        "colab": {
          "base_uri": "https://localhost:8080/",
          "height": 34
        }
      },
      "source": [
        "x_test = np.asarray(list(dataframe_test['data']))[..., np.newaxis]\n",
        "\n",
        "x_test = tf.keras.utils.normalize(x_test, axis = 1)\n",
        "\n",
        "x_test.shape"
      ],
      "execution_count": 11,
      "outputs": [
        {
          "output_type": "execute_result",
          "data": {
            "text/plain": [
              "(46195, 28, 28, 1)"
            ]
          },
          "metadata": {
            "tags": []
          },
          "execution_count": 11
        }
      ]
    },
    {
      "cell_type": "code",
      "metadata": {
        "id": "glJClm9psvnU",
        "colab_type": "code",
        "colab": {}
      },
      "source": [
        "IMAGE_DIM_0, IMAGE_DIM_1 = x.shape[1], x.shape[2]"
      ],
      "execution_count": 0,
      "outputs": []
    },
    {
      "cell_type": "code",
      "metadata": {
        "id": "zyiOmQu2e6dL",
        "colab_type": "code",
        "outputId": "87ef8c28-5318-44a0-b589-dfefa5aaa27d",
        "colab": {
          "base_uri": "https://localhost:8080/",
          "height": 34
        }
      },
      "source": [
        "from tensorflow.keras.utils import to_categorical\n",
        "\n",
        "y = to_categorical(dataframe['label'].astype('category').cat.codes.astype('int32'))\n",
        "\n",
        "y.shape"
      ],
      "execution_count": 13,
      "outputs": [
        {
          "output_type": "execute_result",
          "data": {
            "text/plain": [
              "(415751, 10)"
            ]
          },
          "metadata": {
            "tags": []
          },
          "execution_count": 13
        }
      ]
    },
    {
      "cell_type": "code",
      "metadata": {
        "id": "JuRp-w6_7Cs6",
        "colab_type": "code",
        "outputId": "87cee100-991d-4b48-dee3-f17204a80b69",
        "colab": {
          "base_uri": "https://localhost:8080/",
          "height": 34
        }
      },
      "source": [
        "y_test = to_categorical(dataframe_test['label'].astype('category').cat.codes.astype('int32'))\n",
        "\n",
        "y_test.shape"
      ],
      "execution_count": 14,
      "outputs": [
        {
          "output_type": "execute_result",
          "data": {
            "text/plain": [
              "(46195, 10)"
            ]
          },
          "metadata": {
            "tags": []
          },
          "execution_count": 14
        }
      ]
    },
    {
      "cell_type": "code",
      "metadata": {
        "id": "TWb5SSn1DZwM",
        "colab_type": "code",
        "colab": {}
      },
      "source": [
        "LAYER_WIDTH = 5000"
      ],
      "execution_count": 0,
      "outputs": []
    },
    {
      "cell_type": "code",
      "metadata": {
        "id": "rt6l033LDnbc",
        "colab_type": "code",
        "colab": {}
      },
      "source": [
        "CLASSES_N = y.shape[1]"
      ],
      "execution_count": 0,
      "outputs": []
    },
    {
      "cell_type": "code",
      "metadata": {
        "id": "Ck3I1OmAS-EL",
        "colab_type": "code",
        "colab": {}
      },
      "source": [
        "from tensorflow.keras.models import Sequential\n",
        "from tensorflow.keras.layers import Dense, Reshape\n",
        "\n",
        "model = tf.keras.Sequential()\n",
        "\n",
        "model.add(Reshape((IMAGE_DIM_0 * IMAGE_DIM_1,),\n",
        "                  input_shape = (IMAGE_DIM_0, IMAGE_DIM_1, 1)))\n",
        "model.add(Dense(LAYER_WIDTH, activation = 'relu'))\n",
        "model.add(Dense(LAYER_WIDTH, activation = 'sigmoid'))\n",
        "model.add(Dense(LAYER_WIDTH, activation = 'tanh'))\n",
        "model.add(Dense(LAYER_WIDTH, activation = 'elu'))\n",
        "model.add(Dense(LAYER_WIDTH, activation = 'softmax'))\n",
        "model.add(Dense(CLASSES_N))"
      ],
      "execution_count": 0,
      "outputs": []
    },
    {
      "cell_type": "code",
      "metadata": {
        "id": "iQdYZhJ5TGef",
        "colab_type": "code",
        "colab": {}
      },
      "source": [
        "def cat_cross_from_logits(y_true, y_pred):\n",
        "    return tf.keras.losses.categorical_crossentropy(\n",
        "        y_true, y_pred, from_logits = True)\n",
        "\n",
        "model.compile(optimizer = 'sgd',\n",
        "              loss = cat_cross_from_logits,\n",
        "              metrics = ['categorical_accuracy'])"
      ],
      "execution_count": 0,
      "outputs": []
    },
    {
      "cell_type": "code",
      "metadata": {
        "id": "agCUkO8LTVOk",
        "colab_type": "code",
        "outputId": "139ffbf1-9ce6-44f3-a480-dc063c022214",
        "colab": {
          "base_uri": "https://localhost:8080/",
          "height": 404
        }
      },
      "source": [
        "model.summary()"
      ],
      "execution_count": 19,
      "outputs": [
        {
          "output_type": "stream",
          "text": [
            "Model: \"sequential\"\n",
            "_________________________________________________________________\n",
            "Layer (type)                 Output Shape              Param #   \n",
            "=================================================================\n",
            "reshape (Reshape)            (None, 784)               0         \n",
            "_________________________________________________________________\n",
            "dense (Dense)                (None, 5000)              3925000   \n",
            "_________________________________________________________________\n",
            "dense_1 (Dense)              (None, 5000)              25005000  \n",
            "_________________________________________________________________\n",
            "dense_2 (Dense)              (None, 5000)              25005000  \n",
            "_________________________________________________________________\n",
            "dense_3 (Dense)              (None, 5000)              25005000  \n",
            "_________________________________________________________________\n",
            "dense_4 (Dense)              (None, 5000)              25005000  \n",
            "_________________________________________________________________\n",
            "dense_5 (Dense)              (None, 10)                50010     \n",
            "=================================================================\n",
            "Total params: 103,995,010\n",
            "Trainable params: 103,995,010\n",
            "Non-trainable params: 0\n",
            "_________________________________________________________________\n"
          ],
          "name": "stdout"
        }
      ]
    },
    {
      "cell_type": "code",
      "metadata": {
        "id": "fq-tMfJha3am",
        "colab_type": "code",
        "colab": {}
      },
      "source": [
        "VAL_SPLIT_RATE = 0.1"
      ],
      "execution_count": 0,
      "outputs": []
    },
    {
      "cell_type": "code",
      "metadata": {
        "id": "2Yc_RbKgbGnb",
        "colab_type": "code",
        "colab": {}
      },
      "source": [
        "EPOCHS_N = 10"
      ],
      "execution_count": 0,
      "outputs": []
    },
    {
      "cell_type": "code",
      "metadata": {
        "id": "KaFzwztDTZy8",
        "colab_type": "code",
        "colab": {}
      },
      "source": [
        "history = model.fit(x = x, y = y, epochs = EPOCHS_N,\n",
        "                    validation_split = VAL_SPLIT_RATE, verbose = 0)"
      ],
      "execution_count": 0,
      "outputs": []
    },
    {
      "cell_type": "code",
      "metadata": {
        "id": "W-3ws8HdrEID",
        "colab_type": "code",
        "colab": {}
      },
      "source": [
        "%matplotlib inline\n",
        "\n",
        "import matplotlib.pyplot as plt\n",
        "import seaborn as sns\n",
        "from matplotlib import rcParams\n",
        "\n",
        "rcParams['figure.figsize'] = 11.7, 8.27\n",
        "\n",
        "sns.set()\n",
        "sns.set_palette(sns.color_palette('hls'))\n",
        "\n",
        "def plot_accuracy(_history,\n",
        "                 _train_acc_name = 'accuracy', _val_acc_name = 'val_accuracy'):\n",
        "\n",
        "    plt.plot(_history.history[_train_acc_name])\n",
        "    plt.plot(_history.history[_val_acc_name])\n",
        "\n",
        "    plt.title('Model accuracy')\n",
        "\n",
        "    plt.ylabel('Accuracy')\n",
        "    plt.xlabel('Epoch')\n",
        "\n",
        "    plt.legend(['Train', 'Validation'], loc = 'right')\n",
        "\n",
        "    plt.show()\n",
        "\n",
        "def plot_loss(_history):\n",
        "\n",
        "    plt.plot(_history.history['loss'])\n",
        "    plt.plot(_history.history['val_loss'])\n",
        "\n",
        "    plt.title('Model loss')\n",
        "\n",
        "    plt.ylabel('Loss')\n",
        "    plt.xlabel('Epoch')\n",
        "\n",
        "    plt.legend(['Train', 'Validation'], loc = 'right')\n",
        "\n",
        "    plt.show()"
      ],
      "execution_count": 0,
      "outputs": []
    },
    {
      "cell_type": "code",
      "metadata": {
        "id": "9xxz0UxaMKW3",
        "colab_type": "code",
        "colab": {
          "base_uri": "https://localhost:8080/",
          "height": 533
        },
        "outputId": "6f83bf1a-3355-4c0e-cafa-806389c00924"
      },
      "source": [
        "plot_accuracy(history, 'categorical_accuracy', 'val_categorical_accuracy')"
      ],
      "execution_count": 24,
      "outputs": [
        {
          "output_type": "display_data",
          "data": {
            "image/png": "[encoded data removed]",
            "text/plain": [
              "<Figure size 842.4x595.44 with 1 Axes>"
            ]
          },
          "metadata": {
            "tags": []
          }
        }
      ]
    },
    {
      "cell_type": "code",
      "metadata": {
        "id": "0nHw-C9T_-ar",
        "colab_type": "code",
        "colab": {
          "base_uri": "https://localhost:8080/",
          "height": 533
        },
        "outputId": "cc262787-55e8-4ffb-8366-09764d5b306e"
      },
      "source": [
        "plot_loss(history)"
      ],
      "execution_count": 25,
      "outputs": [
        {
          "output_type": "display_data",
          "data": {
            "image/png": "[encoded data removed]",
            "text/plain": [
              "<Figure size 842.4x595.44 with 1 Axes>"
            ]
          },
          "metadata": {
            "tags": []
          }
        }
      ]
    },
    {
      "cell_type": "code",
      "metadata": {
        "id": "qXAAePG_5ZnQ",
        "colab_type": "code",
        "colab": {
          "base_uri": "https://localhost:8080/",
          "height": 52
        },
        "outputId": "28dc1724-91e7-42f2-f534-faf36dd82955"
      },
      "source": [
        "results = model.evaluate(x_test, y_test)\n",
        "\n",
        "print('Test loss, test accuracy:', results)"
      ],
      "execution_count": 26,
      "outputs": [
        {
          "output_type": "stream",
          "text": [
            "1444/1444 [==============================] - 5s 4ms/step - loss: 2.6373 - categorical_accuracy: 0.1020\n",
            "Test loss, test accuracy: [2.6373043060302734, 0.10204567760229111]\n"
          ],
          "name": "stdout"
        }
      ]
    },
    {
      "cell_type": "markdown",
      "metadata": {
        "id": "yU-FLc1TXkWv",
        "colab_type": "text"
      },
      "source": [
        "### Задание 2\n",
        "\n",
        "Как улучшилась точность классификатора по сравнению с логистической регрессией?"
      ]
    },
    {
      "cell_type": "markdown",
      "metadata": {
        "id": "zrNhoIxaM5lM",
        "colab_type": "text"
      },
      "source": [
        "Стало хуже &mdash; на тестовой выборке точность составила 10%. Похоже, что данная модель совершенно не подходит для решения этой задачи."
      ]
    },
    {
      "cell_type": "markdown",
      "metadata": {
        "id": "yS3aHzgBXoLX",
        "colab_type": "text"
      },
      "source": [
        "### Задание 3\n",
        "\n",
        "Используйте регуляризацию и метод сброса нейронов (_dropout_) для борьбы с переобучением. Как улучшилось качество классификации?"
      ]
    },
    {
      "cell_type": "code",
      "metadata": {
        "id": "KK8_7mx6ExSa",
        "colab_type": "code",
        "colab": {}
      },
      "source": [
        "REG_RATE = 0.001"
      ],
      "execution_count": 0,
      "outputs": []
    },
    {
      "cell_type": "code",
      "metadata": {
        "id": "iKKn4cz5E3Zd",
        "colab_type": "code",
        "colab": {}
      },
      "source": [
        "from tensorflow.keras.regularizers import l2\n",
        "\n",
        "l2_reg = l2(REG_RATE)"
      ],
      "execution_count": 0,
      "outputs": []
    },
    {
      "cell_type": "code",
      "metadata": {
        "id": "Rwzn-lFyDzDU",
        "colab_type": "code",
        "colab": {}
      },
      "source": [
        "DROPOUT_RATE = 0.2"
      ],
      "execution_count": 0,
      "outputs": []
    },
    {
      "cell_type": "code",
      "metadata": {
        "id": "Mx7qA0UwFA2I",
        "colab_type": "code",
        "colab": {}
      },
      "source": [
        "from tensorflow.keras.layers import Dropout\n",
        "\n",
        "dropout_layer = Dropout(DROPOUT_RATE)"
      ],
      "execution_count": 0,
      "outputs": []
    },
    {
      "cell_type": "code",
      "metadata": {
        "id": "H_-Tit9SulyG",
        "colab_type": "code",
        "colab": {}
      },
      "source": [
        "model_2 = tf.keras.Sequential()\n",
        "\n",
        "model_2.add(Reshape((IMAGE_DIM_0 * IMAGE_DIM_1,),\n",
        "                    input_shape = (IMAGE_DIM_0, IMAGE_DIM_1, 1)))\n",
        "model_2.add(Dense(LAYER_WIDTH, activation = 'relu',\n",
        "                  kernel_regularizer = l2_reg))\n",
        "model_2.add(dropout_layer)\n",
        "model_2.add(Dense(LAYER_WIDTH, activation = 'sigmoid',\n",
        "                  kernel_regularizer = l2_reg))\n",
        "model_2.add(dropout_layer)\n",
        "model_2.add(Dense(LAYER_WIDTH, activation = 'tanh',\n",
        "                  kernel_regularizer = l2_reg))\n",
        "model_2.add(dropout_layer)\n",
        "model_2.add(Dense(LAYER_WIDTH, activation = 'sigmoid',\n",
        "                  kernel_regularizer = l2_reg))\n",
        "model_2.add(dropout_layer)\n",
        "model_2.add(Dense(LAYER_WIDTH, activation = 'relu',\n",
        "                  kernel_regularizer = l2_reg))\n",
        "model_2.add(dropout_layer)\n",
        "model_2.add(Dense(CLASSES_N))"
      ],
      "execution_count": 0,
      "outputs": []
    },
    {
      "cell_type": "code",
      "metadata": {
        "id": "TiCOKPpI3bJ6",
        "colab_type": "code",
        "colab": {}
      },
      "source": [
        "model_2.compile(optimizer = 'sgd',\n",
        "                loss = cat_cross_from_logits,\n",
        "                metrics = ['categorical_accuracy'])"
      ],
      "execution_count": 0,
      "outputs": []
    },
    {
      "cell_type": "code",
      "metadata": {
        "id": "7ZAaa1g23gAy",
        "colab_type": "code",
        "colab": {
          "base_uri": "https://localhost:8080/",
          "height": 439
        },
        "outputId": "758a306a-fb27-43df-b01e-44ff8ede0881"
      },
      "source": [
        "model_2.summary()"
      ],
      "execution_count": 33,
      "outputs": [
        {
          "output_type": "stream",
          "text": [
            "Model: \"sequential_1\"\n",
            "_________________________________________________________________\n",
            "Layer (type)                 Output Shape              Param #   \n",
            "=================================================================\n",
            "reshape_1 (Reshape)          (None, 784)               0         \n",
            "_________________________________________________________________\n",
            "dense_6 (Dense)              (None, 5000)              3925000   \n",
            "_________________________________________________________________\n",
            "dropout (Dropout)            (None, 5000)              0         \n",
            "_________________________________________________________________\n",
            "dense_7 (Dense)              (None, 5000)              25005000  \n",
            "_________________________________________________________________\n",
            "dense_8 (Dense)              (None, 5000)              25005000  \n",
            "_________________________________________________________________\n",
            "dense_9 (Dense)              (None, 5000)              25005000  \n",
            "_________________________________________________________________\n",
            "dense_10 (Dense)             (None, 5000)              25005000  \n",
            "_________________________________________________________________\n",
            "dense_11 (Dense)             (None, 10)                50010     \n",
            "=================================================================\n",
            "Total params: 103,995,010\n",
            "Trainable params: 103,995,010\n",
            "Non-trainable params: 0\n",
            "_________________________________________________________________\n"
          ],
          "name": "stdout"
        }
      ]
    },
    {
      "cell_type": "code",
      "metadata": {
        "id": "xnvgsUDy3krC",
        "colab_type": "code",
        "colab": {}
      },
      "source": [
        "history_2 = model_2.fit(x = x, y = y, epochs = EPOCHS_N,\n",
        "                        validation_split = VAL_SPLIT_RATE, verbose = 0)"
      ],
      "execution_count": 0,
      "outputs": []
    },
    {
      "cell_type": "code",
      "metadata": {
        "id": "S-3YqEIDMYm6",
        "colab_type": "code",
        "colab": {
          "base_uri": "https://localhost:8080/",
          "height": 533
        },
        "outputId": "15555c5c-3b6d-40fc-9001-a7124b54928e"
      },
      "source": [
        "plot_accuracy(history_2, 'categorical_accuracy', 'val_categorical_accuracy')"
      ],
      "execution_count": 35,
      "outputs": [
        {
          "output_type": "display_data",
          "data": {
            "image/png": "[encoded data removed]",
            "text/plain": [
              "<Figure size 842.4x595.44 with 1 Axes>"
            ]
          },
          "metadata": {
            "tags": []
          }
        }
      ]
    },
    {
      "cell_type": "code",
      "metadata": {
        "id": "oYUq_FNqAD4P",
        "colab_type": "code",
        "colab": {
          "base_uri": "https://localhost:8080/",
          "height": 533
        },
        "outputId": "393d3650-1a18-4469-f5a7-bdb80d24cf0e"
      },
      "source": [
        "plot_loss(history_2)"
      ],
      "execution_count": 36,
      "outputs": [
        {
          "output_type": "display_data",
          "data": {
            "image/png": "[encoded data removed]",
            "text/plain": [
              "<Figure size 842.4x595.44 with 1 Axes>"
            ]
          },
          "metadata": {
            "tags": []
          }
        }
      ]
    },
    {
      "cell_type": "code",
      "metadata": {
        "id": "MOzAddnK7ZU1",
        "colab_type": "code",
        "colab": {
          "base_uri": "https://localhost:8080/",
          "height": 52
        },
        "outputId": "5ba3918b-c183-4653-f534-c42fecfaf244"
      },
      "source": [
        "results_2 = model_2.evaluate(x_test, y_test)\n",
        "\n",
        "print('Test loss, test accuracy:', results_2)"
      ],
      "execution_count": 37,
      "outputs": [
        {
          "output_type": "stream",
          "text": [
            "1444/1444 [==============================] - 8s 6ms/step - loss: 2.0460 - categorical_accuracy: 0.6126\n",
            "Test loss, test accuracy: [2.046029567718506, 0.6125987768173218]\n"
          ],
          "name": "stdout"
        }
      ]
    },
    {
      "cell_type": "markdown",
      "metadata": {
        "id": "ROo1GeG0NNiq",
        "colab_type": "text"
      },
      "source": [
        "Регуляризация и сброс нейронов значительно помогли &mdash; модель показывает 61% точности на тестовой выборке."
      ]
    },
    {
      "cell_type": "markdown",
      "metadata": {
        "id": "DJJ4R3miXtnA",
        "colab_type": "text"
      },
      "source": [
        "### Задание 4\n",
        "\n",
        "Воспользуйтесь динамически изменяемой скоростью обучения (_learning rate_). Наилучшая точность, достигнутая с помощью данной модели составляет 97.1%. Какую точность демонстрирует Ваша реализованная модель?"
      ]
    },
    {
      "cell_type": "code",
      "metadata": {
        "id": "NHKfjeYg8bh7",
        "colab_type": "code",
        "colab": {}
      },
      "source": [
        "from tensorflow.keras.optimizers import SGD\n",
        "\n",
        "dyn_lr_sgd = SGD(lr = 0.01, momentum = 0.9)\n",
        "\n",
        "model_2.compile(optimizer = dyn_lr_sgd,\n",
        "                loss = cat_cross_from_logits,\n",
        "                metrics = ['categorical_accuracy'])\n",
        "\n",
        "history_3 = model_2.fit(x = x, y = y, epochs = EPOCHS_N,\n",
        "                        validation_split = VAL_SPLIT_RATE, verbose = 0)"
      ],
      "execution_count": 0,
      "outputs": []
    },
    {
      "cell_type": "code",
      "metadata": {
        "id": "CJbvOMz2Md4f",
        "colab_type": "code",
        "colab": {
          "base_uri": "https://localhost:8080/",
          "height": 533
        },
        "outputId": "2da64714-d2ae-4219-9001-bc80adbe07ab"
      },
      "source": [
        "plot_accuracy(history_3, 'categorical_accuracy', 'val_categorical_accuracy')"
      ],
      "execution_count": 39,
      "outputs": [
        {
          "output_type": "display_data",
          "data": {
            "image/png": "[encoded data removed]",
            "text/plain": [
              "<Figure size 842.4x595.44 with 1 Axes>"
            ]
          },
          "metadata": {
            "tags": []
          }
        }
      ]
    },
    {
      "cell_type": "code",
      "metadata": {
        "id": "PbG8-BdCAGoN",
        "colab_type": "code",
        "colab": {
          "base_uri": "https://localhost:8080/",
          "height": 533
        },
        "outputId": "2a531e33-0b99-49e1-92fc-91ac235d0485"
      },
      "source": [
        "plot_loss(history_3)"
      ],
      "execution_count": 40,
      "outputs": [
        {
          "output_type": "display_data",
          "data": {
            "image/png": "[encoded data removed]",
            "text/plain": [
              "<Figure size 842.4x595.44 with 1 Axes>"
            ]
          },
          "metadata": {
            "tags": []
          }
        }
      ]
    },
    {
      "cell_type": "code",
      "metadata": {
        "id": "Ty76GshO7mW6",
        "colab_type": "code",
        "colab": {
          "base_uri": "https://localhost:8080/",
          "height": 52
        },
        "outputId": "9a82c6eb-8bf6-41ca-9938-31243dcdb739"
      },
      "source": [
        "results_3 = model_2.evaluate(x_test, y_test)\n",
        "\n",
        "print('Test loss, test accuracy:', results_3)"
      ],
      "execution_count": 41,
      "outputs": [
        {
          "output_type": "stream",
          "text": [
            "1444/1444 [==============================] - 8s 6ms/step - loss: 1.5419 - categorical_accuracy: 0.6827\n",
            "Test loss, test accuracy: [1.5419150590896606, 0.6827362179756165]\n"
          ],
          "name": "stdout"
        }
      ]
    },
    {
      "cell_type": "markdown",
      "metadata": {
        "id": "IAC8lUGvNeec",
        "colab_type": "text"
      },
      "source": [
        "Динамически изменяемая скорость обучения улучшила результат &mdash; 68% на тестовой выборке."
      ]
    },
    {
      "cell_type": "markdown",
      "metadata": {
        "id": "oFR1lH2nN1er",
        "colab_type": "text"
      },
      "source": [
        "Можно сделать вывод, что модель с полносвязными слоями может использоваться для решения задачи распознавания изображений, однако она очевидно не является наилучшей."
      ]
    }
  ]
}