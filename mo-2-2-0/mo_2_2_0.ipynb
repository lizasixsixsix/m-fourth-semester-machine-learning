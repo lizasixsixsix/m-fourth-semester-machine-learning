{
  "nbformat": 4,
  "nbformat_minor": 0,
  "metadata": {
    "colab": {
      "name": "mo-2-2-0.ipynb",
      "provenance": [],
      "collapsed_sections": [],
      "machine_shape": "hm"
    },
    "kernelspec": {
      "name": "python3",
      "display_name": "Python 3"
    },
    "accelerator": "GPU"
  },
  "cells": [
    {
      "cell_type": "markdown",
      "metadata": {
        "id": "xo5gG8TPIMB2",
        "colab_type": "text"
      },
      "source": [
        "# Лабораторная работа №2\n",
        "\n",
        "## Реализация глубокой нейронной сети"
      ]
    },
    {
      "cell_type": "markdown",
      "metadata": {
        "id": "Fv1NYuWxIQie",
        "colab_type": "text"
      },
      "source": [
        "В работе предлагается использовать набор данных _notMNIST_, который состоит из изображений размерностью 28×28 первых 10 букв латинского алфавита (_A_ ... _J_, соответственно). Обучающая выборка содержит порядка 500 тыс. изображений, а тестовая – около 19 тыс.\n",
        "\n",
        "Данные можно скачать по ссылке:\n",
        "\n",
        "* https://commondatastorage.googleapis.com/books1000/notMNIST_large.tar.gz (большой набор данных);\n",
        "\n",
        "* https://commondatastorage.googleapis.com/books1000/notMNIST_small.tar.gz (маленький набор данных);\n",
        "\n",
        "Описание данных на английском языке доступно по ссылке:\n",
        "http://yaroslavvb.blogspot.sg/2011/09/notmnist-dataset.html"
      ]
    },
    {
      "cell_type": "markdown",
      "metadata": {
        "id": "rxRA69DeV1du",
        "colab_type": "text"
      },
      "source": [
        "### Задание 1\n",
        "\n",
        "Реализуйте полносвязную нейронную сеть с помощью библиотеки _TensorFlow_. В качестве алгоритма оптимизации можно использовать, например, стохастический градиент (_Stochastic Gradient Descent_, _SGD_). Определите количество скрытых слоев от 1 до 5, количество нейронов в каждом из слоев до нескольких сотен, а также их функции активации (кусочно-линейная, сигмоидная, гиперболический тангенс и т.д.)."
      ]
    },
    {
      "cell_type": "markdown",
      "metadata": {
        "id": "yU-FLc1TXkWv",
        "colab_type": "text"
      },
      "source": [
        "### Задание 2\n",
        "\n",
        "Как улучшилась точность классификатора по сравнению с логистической регрессией?"
      ]
    },
    {
      "cell_type": "markdown",
      "metadata": {
        "id": "yS3aHzgBXoLX",
        "colab_type": "text"
      },
      "source": [
        "### Задание 3\n",
        "\n",
        "Используйте регуляризацию и метод сброса нейронов (_dropout_) для борьбы с переобучением. Как улучшилось качество классификации?"
      ]
    },
    {
      "cell_type": "markdown",
      "metadata": {
        "id": "DJJ4R3miXtnA",
        "colab_type": "text"
      },
      "source": [
        "### Задание 4\n",
        "\n",
        "Воспользуйтесь динамически изменяемой скоростью обучения (_learning rate_). Наилучшая точность, достигнутая с помощью данной модели составляет 97.1%. Какую точность демонстрирует Ваша реализованная модель?"
      ]
    }
  ]
}