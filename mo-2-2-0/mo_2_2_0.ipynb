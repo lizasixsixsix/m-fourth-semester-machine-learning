{
  "nbformat": 4,
  "nbformat_minor": 0,
  "metadata": {
    "colab": {
      "name": "mo-2-2-0.ipynb",
      "provenance": [],
      "collapsed_sections": [],
      "toc_visible": true,
      "machine_shape": "hm"
    },
    "kernelspec": {
      "name": "python3",
      "display_name": "Python 3"
    },
    "accelerator": "GPU"
  },
  "cells": [
    {
      "cell_type": "markdown",
      "metadata": {
        "id": "xo5gG8TPIMB2",
        "colab_type": "text"
      },
      "source": [
        "# Лабораторная работа №2\n",
        "\n",
        "## Реализация глубокой нейронной сети"
      ]
    },
    {
      "cell_type": "markdown",
      "metadata": {
        "id": "Fv1NYuWxIQie",
        "colab_type": "text"
      },
      "source": [
        "В работе предлагается использовать набор данных _notMNIST_, который состоит из изображений размерностью 28×28 первых 10 букв латинского алфавита (_A_ ... _J_, соответственно). Обучающая выборка содержит порядка 500 тыс. изображений, а тестовая – около 19 тыс.\n",
        "\n",
        "Данные можно скачать по ссылке:\n",
        "\n",
        "* https://commondatastorage.googleapis.com/books1000/notMNIST_large.tar.gz (большой набор данных);\n",
        "\n",
        "* https://commondatastorage.googleapis.com/books1000/notMNIST_small.tar.gz (маленький набор данных);\n",
        "\n",
        "Описание данных на английском языке доступно по ссылке:\n",
        "http://yaroslavvb.blogspot.sg/2011/09/notmnist-dataset.html"
      ]
    },
    {
      "cell_type": "markdown",
      "metadata": {
        "id": "rxRA69DeV1du",
        "colab_type": "text"
      },
      "source": [
        "### Задание 1\n",
        "\n",
        "Реализуйте полносвязную нейронную сеть с помощью библиотеки _TensorFlow_. В качестве алгоритма оптимизации можно использовать, например, стохастический градиент (_Stochastic Gradient Descent_, _SGD_). Определите количество скрытых слоев от 1 до 5, количество нейронов в каждом из слоев до нескольких сотен, а также их функции активации (кусочно-линейная, сигмоидная, гиперболический тангенс и т.д.)."
      ]
    },
    {
      "cell_type": "code",
      "metadata": {
        "id": "cB3DxRASFTUT",
        "colab_type": "code",
        "outputId": "d38444e9-3d87-411b-d592-f8a83b3f06ce",
        "colab": {
          "base_uri": "https://localhost:8080/",
          "height": 125
        }
      },
      "source": [
        "from google.colab import drive\n",
        "\n",
        "drive.mount('/content/drive', force_remount = True)"
      ],
      "execution_count": 1,
      "outputs": [
        {
          "output_type": "stream",
          "text": [
            "Go to this URL in a browser: https://accounts.google.com/o/oauth2/auth?client_id=947318989803-6bn6qk8qdgf4n4g3pfee6491hc0brc4i.apps.googleusercontent.com&redirect_uri=urn%3aietf%3awg%3aoauth%3a2.0%3aoob&response_type=code&scope=email%20https%3a%2f%2fwww.googleapis.com%2fauth%2fdocs.test%20https%3a%2f%2fwww.googleapis.com%2fauth%2fdrive%20https%3a%2f%2fwww.googleapis.com%2fauth%2fdrive.photos.readonly%20https%3a%2f%2fwww.googleapis.com%2fauth%2fpeopleapi.readonly\n",
            "\n",
            "Enter your authorization code:\n",
            "··········\n",
            "Mounted at /content/drive\n"
          ],
          "name": "stdout"
        }
      ]
    },
    {
      "cell_type": "code",
      "metadata": {
        "id": "nRR2oJQkFWOZ",
        "colab_type": "code",
        "colab": {}
      },
      "source": [
        "BASE_DIR = '/content/drive/My Drive/Colab Files/mo-2'\n",
        "\n",
        "import sys\n",
        "\n",
        "sys.path.append(BASE_DIR)\n",
        "\n",
        "import os\n",
        "\n",
        "os.chdir(BASE_DIR)"
      ],
      "execution_count": 0,
      "outputs": []
    },
    {
      "cell_type": "code",
      "metadata": {
        "id": "kQ3XaBd_gE2w",
        "colab_type": "code",
        "colab": {}
      },
      "source": [
        "import pandas as pd\n",
        "\n",
        "dataframe = pd.read_pickle(\"./large.pkl\")"
      ],
      "execution_count": 0,
      "outputs": []
    },
    {
      "cell_type": "code",
      "metadata": {
        "id": "XTRymgc_1l_5",
        "colab_type": "code",
        "outputId": "8f4e69d4-e603-42a0-b883-06fe1df16442",
        "colab": {
          "base_uri": "https://localhost:8080/",
          "height": 34
        }
      },
      "source": [
        "dataframe['data'].shape"
      ],
      "execution_count": 4,
      "outputs": [
        {
          "output_type": "execute_result",
          "data": {
            "text/plain": [
              "(461946,)"
            ]
          },
          "metadata": {
            "tags": []
          },
          "execution_count": 4
        }
      ]
    },
    {
      "cell_type": "code",
      "metadata": {
        "id": "N5SQpkkmtJPi",
        "colab_type": "code",
        "outputId": "8bf8ebd9-5c77-4443-e9a3-a55c53d874b6",
        "colab": {
          "base_uri": "https://localhost:8080/",
          "height": 230
        }
      },
      "source": [
        "! pip install tensorflow-gpu --pre --quiet\n",
        "\n",
        "! pip show tensorflow-gpu"
      ],
      "execution_count": 5,
      "outputs": [
        {
          "output_type": "stream",
          "text": [
            "\u001b[K     |████████████████████████████████| 516.2MB 26kB/s \n",
            "\u001b[?25hName: tensorflow-gpu\n",
            "Version: 2.2.0rc3\n",
            "Summary: TensorFlow is an open source machine learning framework for everyone.\n",
            "Home-page: https://www.tensorflow.org/\n",
            "Author: Google Inc.\n",
            "Author-email: packages@tensorflow.org\n",
            "License: Apache 2.0\n",
            "Location: /usr/local/lib/python3.6/dist-packages\n",
            "Requires: termcolor, tensorflow-estimator, opt-einsum, wrapt, absl-py, protobuf, tensorboard, astunparse, keras-preprocessing, h5py, numpy, wheel, scipy, gast, six, google-pasta, grpcio\n",
            "Required-by: \n"
          ],
          "name": "stdout"
        }
      ]
    },
    {
      "cell_type": "code",
      "metadata": {
        "id": "1P4YjwNPtKwg",
        "colab_type": "code",
        "colab": {}
      },
      "source": [
        "import tensorflow as tf"
      ],
      "execution_count": 0,
      "outputs": []
    },
    {
      "cell_type": "code",
      "metadata": {
        "id": "mw7YDGMBRjOF",
        "colab_type": "code",
        "colab": {}
      },
      "source": [
        "import numpy as np"
      ],
      "execution_count": 0,
      "outputs": []
    },
    {
      "cell_type": "code",
      "metadata": {
        "id": "ikAfPyI_j2KJ",
        "colab_type": "code",
        "colab": {}
      },
      "source": [
        "dataframe_test = dataframe.sample(frac = 0.1)\n",
        "\n",
        "dataframe = dataframe.drop(dataframe_test.index)"
      ],
      "execution_count": 0,
      "outputs": []
    },
    {
      "cell_type": "code",
      "metadata": {
        "id": "6xMfSLqWexl3",
        "colab_type": "code",
        "outputId": "a4a49e4d-6c61-49cd-abbf-5ee6be87aa33",
        "colab": {
          "base_uri": "https://localhost:8080/",
          "height": 34
        }
      },
      "source": [
        "x = np.asarray(list(dataframe['data']))[..., np.newaxis]\n",
        "\n",
        "x = tf.keras.utils.normalize(x, axis = 1)\n",
        "\n",
        "x.shape"
      ],
      "execution_count": 9,
      "outputs": [
        {
          "output_type": "execute_result",
          "data": {
            "text/plain": [
              "(415751, 28, 28, 1)"
            ]
          },
          "metadata": {
            "tags": []
          },
          "execution_count": 9
        }
      ]
    },
    {
      "cell_type": "code",
      "metadata": {
        "id": "4vxcM_uN66-R",
        "colab_type": "code",
        "colab": {
          "base_uri": "https://localhost:8080/",
          "height": 34
        },
        "outputId": "589f4a44-be53-4ed3-c593-50b95f1da13c"
      },
      "source": [
        "x_test = np.asarray(list(dataframe_test['data']))[..., np.newaxis]\n",
        "\n",
        "x_test = tf.keras.utils.normalize(x_test, axis = 1)\n",
        "\n",
        "x_test.shape"
      ],
      "execution_count": 31,
      "outputs": [
        {
          "output_type": "execute_result",
          "data": {
            "text/plain": [
              "(46195, 28, 28, 1)"
            ]
          },
          "metadata": {
            "tags": []
          },
          "execution_count": 31
        }
      ]
    },
    {
      "cell_type": "code",
      "metadata": {
        "id": "glJClm9psvnU",
        "colab_type": "code",
        "colab": {}
      },
      "source": [
        "IMAGE_DIM_0, IMAGE_DIM_1 = x.shape[1], x.shape[2]"
      ],
      "execution_count": 0,
      "outputs": []
    },
    {
      "cell_type": "code",
      "metadata": {
        "id": "zyiOmQu2e6dL",
        "colab_type": "code",
        "outputId": "262083e9-e571-4851-c485-60704faeb1b2",
        "colab": {
          "base_uri": "https://localhost:8080/",
          "height": 34
        }
      },
      "source": [
        "from tensorflow.keras.utils import to_categorical\n",
        "\n",
        "y = to_categorical(dataframe['label'].astype('category').cat.codes.astype('int32'))\n",
        "\n",
        "y.shape"
      ],
      "execution_count": 11,
      "outputs": [
        {
          "output_type": "execute_result",
          "data": {
            "text/plain": [
              "(415751, 10)"
            ]
          },
          "metadata": {
            "tags": []
          },
          "execution_count": 11
        }
      ]
    },
    {
      "cell_type": "code",
      "metadata": {
        "id": "JuRp-w6_7Cs6",
        "colab_type": "code",
        "colab": {
          "base_uri": "https://localhost:8080/",
          "height": 34
        },
        "outputId": "272aa2e8-68b4-4bf0-df0a-1bd4f78db706"
      },
      "source": [
        "y_test = to_categorical(dataframe_test['label'].astype('category').cat.codes.astype('int32'))\n",
        "\n",
        "y_test.shape"
      ],
      "execution_count": 32,
      "outputs": [
        {
          "output_type": "execute_result",
          "data": {
            "text/plain": [
              "(46195, 10)"
            ]
          },
          "metadata": {
            "tags": []
          },
          "execution_count": 32
        }
      ]
    },
    {
      "cell_type": "code",
      "metadata": {
        "id": "TWb5SSn1DZwM",
        "colab_type": "code",
        "colab": {}
      },
      "source": [
        "LAYER_WIDTH = 5000"
      ],
      "execution_count": 0,
      "outputs": []
    },
    {
      "cell_type": "code",
      "metadata": {
        "id": "rt6l033LDnbc",
        "colab_type": "code",
        "colab": {}
      },
      "source": [
        "CLASSES_N = y.shape[1]"
      ],
      "execution_count": 0,
      "outputs": []
    },
    {
      "cell_type": "code",
      "metadata": {
        "id": "Ck3I1OmAS-EL",
        "colab_type": "code",
        "colab": {}
      },
      "source": [
        "from tensorflow.keras.models import Sequential\n",
        "from tensorflow.keras.layers import Dense, Reshape\n",
        "\n",
        "model = tf.keras.Sequential()\n",
        "\n",
        "model.add(Reshape((IMAGE_DIM_0 * IMAGE_DIM_1,), input_shape = (IMAGE_DIM_0, IMAGE_DIM_1, 1)))\n",
        "model.add(Dense(LAYER_WIDTH, activation = 'relu'))\n",
        "model.add(Dense(LAYER_WIDTH, activation = 'sigmoid'))\n",
        "model.add(Dense(LAYER_WIDTH, activation = 'tanh'))\n",
        "model.add(Dense(LAYER_WIDTH, activation = 'elu'))\n",
        "model.add(Dense(LAYER_WIDTH, activation = 'softmax'))\n",
        "model.add(Dense(CLASSES_N))"
      ],
      "execution_count": 0,
      "outputs": []
    },
    {
      "cell_type": "code",
      "metadata": {
        "id": "iQdYZhJ5TGef",
        "colab_type": "code",
        "colab": {}
      },
      "source": [
        "def cat_cross_from_logits(y_true, y_pred):\n",
        "    return tf.keras.losses.categorical_crossentropy(y_true, y_pred, from_logits = True)\n",
        "\n",
        "model.compile(optimizer = 'sgd',\n",
        "              loss = cat_cross_from_logits,\n",
        "              metrics = ['categorical_accuracy'])"
      ],
      "execution_count": 0,
      "outputs": []
    },
    {
      "cell_type": "code",
      "metadata": {
        "id": "agCUkO8LTVOk",
        "colab_type": "code",
        "outputId": "4f90356a-c608-4ec1-83ba-5b97172434db",
        "colab": {
          "base_uri": "https://localhost:8080/",
          "height": 404
        }
      },
      "source": [
        "model.summary()"
      ],
      "execution_count": 16,
      "outputs": [
        {
          "output_type": "stream",
          "text": [
            "Model: \"sequential\"\n",
            "_________________________________________________________________\n",
            "Layer (type)                 Output Shape              Param #   \n",
            "=================================================================\n",
            "reshape (Reshape)            (None, 784)               0         \n",
            "_________________________________________________________________\n",
            "dense (Dense)                (None, 5000)              3925000   \n",
            "_________________________________________________________________\n",
            "dense_1 (Dense)              (None, 5000)              25005000  \n",
            "_________________________________________________________________\n",
            "dense_2 (Dense)              (None, 5000)              25005000  \n",
            "_________________________________________________________________\n",
            "dense_3 (Dense)              (None, 5000)              25005000  \n",
            "_________________________________________________________________\n",
            "dense_4 (Dense)              (None, 5000)              25005000  \n",
            "_________________________________________________________________\n",
            "dense_5 (Dense)              (None, 10)                50010     \n",
            "=================================================================\n",
            "Total params: 103,995,010\n",
            "Trainable params: 103,995,010\n",
            "Non-trainable params: 0\n",
            "_________________________________________________________________\n"
          ],
          "name": "stdout"
        }
      ]
    },
    {
      "cell_type": "code",
      "metadata": {
        "id": "fq-tMfJha3am",
        "colab_type": "code",
        "colab": {}
      },
      "source": [
        "VAL_SPLIT_RATE = 0.1"
      ],
      "execution_count": 0,
      "outputs": []
    },
    {
      "cell_type": "code",
      "metadata": {
        "id": "2Yc_RbKgbGnb",
        "colab_type": "code",
        "colab": {}
      },
      "source": [
        "EPOCHS_N = 10"
      ],
      "execution_count": 0,
      "outputs": []
    },
    {
      "cell_type": "code",
      "metadata": {
        "id": "KaFzwztDTZy8",
        "colab_type": "code",
        "outputId": "eebcd905-0d29-462b-c56e-5744b5aa4efa",
        "colab": {
          "base_uri": "https://localhost:8080/",
          "height": 406
        }
      },
      "source": [
        "model.fit(x = x, y = y, epochs = EPOCHS_N, validation_split = VAL_SPLIT_RATE)"
      ],
      "execution_count": 19,
      "outputs": [
        {
          "output_type": "stream",
          "text": [
            "Epoch 1/10\n",
            "11693/11693 [==============================] - 103s 9ms/step - loss: 2.2195 - categorical_accuracy: 0.1122 - val_loss: 4.8722 - val_categorical_accuracy: 0.0000e+00\n",
            "Epoch 2/10\n",
            "11693/11693 [==============================] - 102s 9ms/step - loss: 2.2042 - categorical_accuracy: 0.1130 - val_loss: 5.4886 - val_categorical_accuracy: 0.0000e+00\n",
            "Epoch 3/10\n",
            "11693/11693 [==============================] - 102s 9ms/step - loss: 2.2025 - categorical_accuracy: 0.1126 - val_loss: 5.8407 - val_categorical_accuracy: 0.0000e+00\n",
            "Epoch 4/10\n",
            "11693/11693 [==============================] - 102s 9ms/step - loss: 2.2018 - categorical_accuracy: 0.1127 - val_loss: 6.0791 - val_categorical_accuracy: 0.0000e+00\n",
            "Epoch 5/10\n",
            "11693/11693 [==============================] - 102s 9ms/step - loss: 2.2015 - categorical_accuracy: 0.1123 - val_loss: 6.2565 - val_categorical_accuracy: 0.0000e+00\n",
            "Epoch 6/10\n",
            "11693/11693 [==============================] - 102s 9ms/step - loss: 2.2013 - categorical_accuracy: 0.1127 - val_loss: 6.3940 - val_categorical_accuracy: 0.0000e+00\n",
            "Epoch 7/10\n",
            "11693/11693 [==============================] - 102s 9ms/step - loss: 2.2012 - categorical_accuracy: 0.1134 - val_loss: 6.5053 - val_categorical_accuracy: 0.0000e+00\n",
            "Epoch 8/10\n",
            "11693/11693 [==============================] - 102s 9ms/step - loss: 2.2011 - categorical_accuracy: 0.1130 - val_loss: 6.5967 - val_categorical_accuracy: 0.0000e+00\n",
            "Epoch 9/10\n",
            "11693/11693 [==============================] - 102s 9ms/step - loss: 2.2010 - categorical_accuracy: 0.1134 - val_loss: 6.6732 - val_categorical_accuracy: 0.0000e+00\n",
            "Epoch 10/10\n",
            "11693/11693 [==============================] - 102s 9ms/step - loss: 2.2010 - categorical_accuracy: 0.1134 - val_loss: 6.7377 - val_categorical_accuracy: 0.0000e+00\n"
          ],
          "name": "stdout"
        },
        {
          "output_type": "execute_result",
          "data": {
            "text/plain": [
              "<tensorflow.python.keras.callbacks.History at 0x7f399433fbe0>"
            ]
          },
          "metadata": {
            "tags": []
          },
          "execution_count": 19
        }
      ]
    },
    {
      "cell_type": "code",
      "metadata": {
        "id": "qXAAePG_5ZnQ",
        "colab_type": "code",
        "colab": {
          "base_uri": "https://localhost:8080/",
          "height": 52
        },
        "outputId": "6cf1fada-b5f9-4c96-9db5-faa203081987"
      },
      "source": [
        "results = model.evaluate(x_test, y_test)\n",
        "\n",
        "print('Test loss, test accuracy:', results)"
      ],
      "execution_count": 34,
      "outputs": [
        {
          "output_type": "stream",
          "text": [
            "1444/1444 [==============================] - 5s 4ms/step - loss: 2.6571 - categorical_accuracy: 0.1008\n",
            "Test loss, test accuracy: [2.657094955444336, 0.10081177949905396]\n"
          ],
          "name": "stdout"
        }
      ]
    },
    {
      "cell_type": "markdown",
      "metadata": {
        "id": "yU-FLc1TXkWv",
        "colab_type": "text"
      },
      "source": [
        "### Задание 2\n",
        "\n",
        "Как улучшилась точность классификатора по сравнению с логистической регрессией?"
      ]
    },
    {
      "cell_type": "markdown",
      "metadata": {
        "id": "zrNhoIxaM5lM",
        "colab_type": "text"
      },
      "source": [
        "Стало хуже &mdash; на тестовой выборке точность составила 10%. Похоже, что данная модель совершенно не подходит для решения этой задачи."
      ]
    },
    {
      "cell_type": "markdown",
      "metadata": {
        "id": "yS3aHzgBXoLX",
        "colab_type": "text"
      },
      "source": [
        "### Задание 3\n",
        "\n",
        "Используйте регуляризацию и метод сброса нейронов (_dropout_) для борьбы с переобучением. Как улучшилось качество классификации?"
      ]
    },
    {
      "cell_type": "code",
      "metadata": {
        "id": "KK8_7mx6ExSa",
        "colab_type": "code",
        "colab": {}
      },
      "source": [
        "REG_RATE = 0.001"
      ],
      "execution_count": 0,
      "outputs": []
    },
    {
      "cell_type": "code",
      "metadata": {
        "id": "iKKn4cz5E3Zd",
        "colab_type": "code",
        "colab": {}
      },
      "source": [
        "from tensorflow.keras.regularizers import l2\n",
        "\n",
        "l2_reg = l2(REG_RATE)"
      ],
      "execution_count": 0,
      "outputs": []
    },
    {
      "cell_type": "code",
      "metadata": {
        "id": "Rwzn-lFyDzDU",
        "colab_type": "code",
        "colab": {}
      },
      "source": [
        "DROPOUT_RATE = 0.2"
      ],
      "execution_count": 0,
      "outputs": []
    },
    {
      "cell_type": "code",
      "metadata": {
        "id": "Mx7qA0UwFA2I",
        "colab_type": "code",
        "colab": {}
      },
      "source": [
        "from tensorflow.keras.layers import Dropout\n",
        "\n",
        "dropout_layer = Dropout(DROPOUT_RATE)"
      ],
      "execution_count": 0,
      "outputs": []
    },
    {
      "cell_type": "code",
      "metadata": {
        "id": "H_-Tit9SulyG",
        "colab_type": "code",
        "colab": {}
      },
      "source": [
        "model_2 = tf.keras.Sequential()\n",
        "\n",
        "model_2.add(Reshape((IMAGE_DIM_0 * IMAGE_DIM_1,), input_shape = (IMAGE_DIM_0, IMAGE_DIM_1, 1)))\n",
        "model_2.add(Dense(LAYER_WIDTH, activation = 'relu', kernel_regularizer = l2_reg))\n",
        "model_2.add(dropout_layer)\n",
        "model_2.add(Dense(LAYER_WIDTH, activation = 'sigmoid', kernel_regularizer = l2_reg))\n",
        "model_2.add(dropout_layer)\n",
        "model_2.add(Dense(LAYER_WIDTH, activation = 'tanh', kernel_regularizer = l2_reg))\n",
        "model_2.add(dropout_layer)\n",
        "model_2.add(Dense(LAYER_WIDTH, activation = 'sigmoid', kernel_regularizer = l2_reg))\n",
        "model_2.add(dropout_layer)\n",
        "model_2.add(Dense(LAYER_WIDTH, activation = 'relu', kernel_regularizer = l2_reg))\n",
        "model_2.add(dropout_layer)\n",
        "model_2.add(Dense(CLASSES_N))"
      ],
      "execution_count": 0,
      "outputs": []
    },
    {
      "cell_type": "code",
      "metadata": {
        "id": "TiCOKPpI3bJ6",
        "colab_type": "code",
        "colab": {}
      },
      "source": [
        "model_2.compile(optimizer = 'sgd',\n",
        "                loss = cat_cross_from_logits,\n",
        "                metrics = ['categorical_accuracy'])"
      ],
      "execution_count": 0,
      "outputs": []
    },
    {
      "cell_type": "code",
      "metadata": {
        "id": "7ZAaa1g23gAy",
        "colab_type": "code",
        "outputId": "c12bf5dc-41cd-4f72-d506-6d934b9e7c44",
        "colab": {
          "base_uri": "https://localhost:8080/",
          "height": 439
        }
      },
      "source": [
        "model_2.summary()"
      ],
      "execution_count": 26,
      "outputs": [
        {
          "output_type": "stream",
          "text": [
            "Model: \"sequential_1\"\n",
            "_________________________________________________________________\n",
            "Layer (type)                 Output Shape              Param #   \n",
            "=================================================================\n",
            "reshape_1 (Reshape)          (None, 784)               0         \n",
            "_________________________________________________________________\n",
            "dense_6 (Dense)              (None, 5000)              3925000   \n",
            "_________________________________________________________________\n",
            "dropout (Dropout)            (None, 5000)              0         \n",
            "_________________________________________________________________\n",
            "dense_7 (Dense)              (None, 5000)              25005000  \n",
            "_________________________________________________________________\n",
            "dense_8 (Dense)              (None, 5000)              25005000  \n",
            "_________________________________________________________________\n",
            "dense_9 (Dense)              (None, 5000)              25005000  \n",
            "_________________________________________________________________\n",
            "dense_10 (Dense)             (None, 5000)              25005000  \n",
            "_________________________________________________________________\n",
            "dense_11 (Dense)             (None, 10)                50010     \n",
            "=================================================================\n",
            "Total params: 103,995,010\n",
            "Trainable params: 103,995,010\n",
            "Non-trainable params: 0\n",
            "_________________________________________________________________\n"
          ],
          "name": "stdout"
        }
      ]
    },
    {
      "cell_type": "code",
      "metadata": {
        "id": "xnvgsUDy3krC",
        "colab_type": "code",
        "outputId": "0ffac520-73d1-4923-e48a-abb80485edc8",
        "colab": {
          "base_uri": "https://localhost:8080/",
          "height": 406
        }
      },
      "source": [
        "model_2.fit(x = x, y = y, epochs = EPOCHS_N, validation_split = VAL_SPLIT_RATE)"
      ],
      "execution_count": 27,
      "outputs": [
        {
          "output_type": "stream",
          "text": [
            "Epoch 1/10\n",
            "11693/11693 [==============================] - 210s 18ms/step - loss: 19.2705 - categorical_accuracy: 0.1154 - val_loss: 19.6030 - val_categorical_accuracy: 0.0000e+00\n",
            "Epoch 2/10\n",
            "11693/11693 [==============================] - 210s 18ms/step - loss: 12.8899 - categorical_accuracy: 0.1193 - val_loss: 15.0547 - val_categorical_accuracy: 0.0000e+00\n",
            "Epoch 3/10\n",
            "11693/11693 [==============================] - 210s 18ms/step - loss: 8.4027 - categorical_accuracy: 0.3462 - val_loss: 12.9659 - val_categorical_accuracy: 0.0000e+00\n",
            "Epoch 4/10\n",
            "11693/11693 [==============================] - 210s 18ms/step - loss: 5.6802 - categorical_accuracy: 0.4805 - val_loss: 11.1155 - val_categorical_accuracy: 0.0000e+00\n",
            "Epoch 5/10\n",
            "11693/11693 [==============================] - 210s 18ms/step - loss: 4.0491 - categorical_accuracy: 0.5286 - val_loss: 9.5503 - val_categorical_accuracy: 0.0000e+00\n",
            "Epoch 6/10\n",
            "11693/11693 [==============================] - 210s 18ms/step - loss: 3.0297 - categorical_accuracy: 0.5674 - val_loss: 8.9475 - val_categorical_accuracy: 0.0000e+00\n",
            "Epoch 7/10\n",
            "11693/11693 [==============================] - 210s 18ms/step - loss: 2.3880 - categorical_accuracy: 0.5944 - val_loss: 8.4980 - val_categorical_accuracy: 0.0000e+00\n",
            "Epoch 8/10\n",
            "11693/11693 [==============================] - 210s 18ms/step - loss: 1.9772 - categorical_accuracy: 0.6292 - val_loss: 7.8002 - val_categorical_accuracy: 0.0000e+00\n",
            "Epoch 9/10\n",
            "11693/11693 [==============================] - 210s 18ms/step - loss: 1.7196 - categorical_accuracy: 0.6475 - val_loss: 7.6441 - val_categorical_accuracy: 0.0000e+00\n",
            "Epoch 10/10\n",
            "11693/11693 [==============================] - 211s 18ms/step - loss: 1.5578 - categorical_accuracy: 0.6599 - val_loss: 7.5225 - val_categorical_accuracy: 0.0000e+00\n"
          ],
          "name": "stdout"
        },
        {
          "output_type": "execute_result",
          "data": {
            "text/plain": [
              "<tensorflow.python.keras.callbacks.History at 0x7f399345a9b0>"
            ]
          },
          "metadata": {
            "tags": []
          },
          "execution_count": 27
        }
      ]
    },
    {
      "cell_type": "code",
      "metadata": {
        "id": "MOzAddnK7ZU1",
        "colab_type": "code",
        "colab": {
          "base_uri": "https://localhost:8080/",
          "height": 52
        },
        "outputId": "d006a40a-14fd-4677-ca92-d11fb9fafc96"
      },
      "source": [
        "results_2 = model_2.evaluate(x_test, y_test)\n",
        "\n",
        "print('Test loss, test accuracy:', results_2)"
      ],
      "execution_count": 36,
      "outputs": [
        {
          "output_type": "stream",
          "text": [
            "1444/1444 [==============================] - 8s 6ms/step - loss: 1.4656 - categorical_accuracy: 0.7228\n",
            "Test loss, test accuracy: [1.4655554294586182, 0.7227838635444641]\n"
          ],
          "name": "stdout"
        }
      ]
    },
    {
      "cell_type": "markdown",
      "metadata": {
        "id": "ROo1GeG0NNiq",
        "colab_type": "text"
      },
      "source": [
        "Регуляризация и сброс нейронов значительно помогли &mdash; модель показывает 72% точности на тестовой выборке!"
      ]
    },
    {
      "cell_type": "markdown",
      "metadata": {
        "id": "DJJ4R3miXtnA",
        "colab_type": "text"
      },
      "source": [
        "### Задание 4\n",
        "\n",
        "Воспользуйтесь динамически изменяемой скоростью обучения (_learning rate_). Наилучшая точность, достигнутая с помощью данной модели составляет 97.1%. Какую точность демонстрирует Ваша реализованная модель?"
      ]
    },
    {
      "cell_type": "code",
      "metadata": {
        "id": "NHKfjeYg8bh7",
        "colab_type": "code",
        "outputId": "3a57b39e-54ce-4aed-a318-d4de3720abe5",
        "colab": {
          "base_uri": "https://localhost:8080/",
          "height": 406
        }
      },
      "source": [
        "from tensorflow.keras.optimizers import SGD\n",
        "\n",
        "dyn_lr_sgd = SGD(lr = 0.01, momentum = 0.9)\n",
        "\n",
        "model_2.compile(optimizer = dyn_lr_sgd,\n",
        "                loss = cat_cross_from_logits,\n",
        "                metrics = ['categorical_accuracy'])\n",
        "\n",
        "model_2.fit(x = x, y = y, epochs = EPOCHS_N, validation_split = VAL_SPLIT_RATE)"
      ],
      "execution_count": 28,
      "outputs": [
        {
          "output_type": "stream",
          "text": [
            "Epoch 1/10\n",
            "11693/11693 [==============================] - 240s 20ms/step - loss: 1.3780 - categorical_accuracy: 0.6521 - val_loss: 6.3145 - val_categorical_accuracy: 0.0000e+00\n",
            "Epoch 2/10\n",
            "11693/11693 [==============================] - 239s 20ms/step - loss: 1.0968 - categorical_accuracy: 0.7462 - val_loss: 6.1084 - val_categorical_accuracy: 0.0000e+00\n",
            "Epoch 3/10\n",
            "11693/11693 [==============================] - 239s 20ms/step - loss: 1.0805 - categorical_accuracy: 0.7522 - val_loss: 6.2995 - val_categorical_accuracy: 0.0000e+00\n",
            "Epoch 4/10\n",
            "11693/11693 [==============================] - 238s 20ms/step - loss: 1.0759 - categorical_accuracy: 0.7534 - val_loss: 6.1664 - val_categorical_accuracy: 0.0000e+00\n",
            "Epoch 5/10\n",
            "11693/11693 [==============================] - 239s 20ms/step - loss: 1.0707 - categorical_accuracy: 0.7564 - val_loss: 6.4368 - val_categorical_accuracy: 0.0000e+00\n",
            "Epoch 6/10\n",
            "11693/11693 [==============================] - 238s 20ms/step - loss: 1.0186 - categorical_accuracy: 0.7755 - val_loss: 6.6284 - val_categorical_accuracy: 0.0000e+00\n",
            "Epoch 7/10\n",
            "11693/11693 [==============================] - 239s 20ms/step - loss: 0.9949 - categorical_accuracy: 0.7805 - val_loss: 6.6951 - val_categorical_accuracy: 0.0000e+00\n",
            "Epoch 8/10\n",
            "11693/11693 [==============================] - 239s 20ms/step - loss: 0.9902 - categorical_accuracy: 0.7824 - val_loss: 6.1755 - val_categorical_accuracy: 0.0000e+00\n",
            "Epoch 9/10\n",
            "11693/11693 [==============================] - 239s 20ms/step - loss: 0.9873 - categorical_accuracy: 0.7840 - val_loss: 6.3812 - val_categorical_accuracy: 0.0000e+00\n",
            "Epoch 10/10\n",
            "11693/11693 [==============================] - 239s 20ms/step - loss: 0.9844 - categorical_accuracy: 0.7852 - val_loss: 6.3063 - val_categorical_accuracy: 0.0000e+00\n"
          ],
          "name": "stdout"
        },
        {
          "output_type": "execute_result",
          "data": {
            "text/plain": [
              "<tensorflow.python.keras.callbacks.History at 0x7f39922ee0f0>"
            ]
          },
          "metadata": {
            "tags": []
          },
          "execution_count": 28
        }
      ]
    },
    {
      "cell_type": "code",
      "metadata": {
        "id": "Ty76GshO7mW6",
        "colab_type": "code",
        "colab": {
          "base_uri": "https://localhost:8080/",
          "height": 52
        },
        "outputId": "c65145c1-07f8-4d7f-db4c-ef5c27970bb7"
      },
      "source": [
        "results_3 = model_2.evaluate(x_test, y_test)\n",
        "\n",
        "print('Test loss, test accuracy:', results_3)"
      ],
      "execution_count": 38,
      "outputs": [
        {
          "output_type": "stream",
          "text": [
            "1444/1444 [==============================] - 8s 6ms/step - loss: 1.4656 - categorical_accuracy: 0.7228\n",
            "Test loss, test accuracy: [1.4655554294586182, 0.7227838635444641]\n"
          ],
          "name": "stdout"
        }
      ]
    },
    {
      "cell_type": "markdown",
      "metadata": {
        "id": "IAC8lUGvNeec",
        "colab_type": "text"
      },
      "source": [
        "Динамически изменяемая скорость обучения не улучшила результат &mdash; 72% на тестовой выборке."
      ]
    },
    {
      "cell_type": "markdown",
      "metadata": {
        "id": "oFR1lH2nN1er",
        "colab_type": "text"
      },
      "source": [
        "Можно сделать вывод, что модель с полносвязными слоями может использоваться для решения задачи распознавания изображений, однако она очевидно не является наилучшей."
      ]
    }
  ]
}