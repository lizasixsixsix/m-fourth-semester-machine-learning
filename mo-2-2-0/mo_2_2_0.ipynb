{
  "nbformat": 4,
  "nbformat_minor": 0,
  "metadata": {
    "colab": {
      "name": "mo-2-2-0.ipynb",
      "provenance": [],
      "collapsed_sections": [],
      "toc_visible": true,
      "machine_shape": "hm"
    },
    "kernelspec": {
      "name": "python3",
      "display_name": "Python 3"
    },
    "accelerator": "GPU"
  },
  "cells": [
    {
      "cell_type": "markdown",
      "metadata": {
        "id": "xo5gG8TPIMB2",
        "colab_type": "text"
      },
      "source": [
        "# Лабораторная работа №2\n",
        "\n",
        "## Реализация глубокой нейронной сети"
      ]
    },
    {
      "cell_type": "markdown",
      "metadata": {
        "id": "Fv1NYuWxIQie",
        "colab_type": "text"
      },
      "source": [
        "В работе предлагается использовать набор данных _notMNIST_, который состоит из изображений размерностью 28×28 первых 10 букв латинского алфавита (_A_ ... _J_, соответственно). Обучающая выборка содержит порядка 500 тыс. изображений, а тестовая – около 19 тыс.\n",
        "\n",
        "Данные можно скачать по ссылке:\n",
        "\n",
        "* https://commondatastorage.googleapis.com/books1000/notMNIST_large.tar.gz (большой набор данных);\n",
        "\n",
        "* https://commondatastorage.googleapis.com/books1000/notMNIST_small.tar.gz (маленький набор данных);\n",
        "\n",
        "Описание данных на английском языке доступно по ссылке:\n",
        "http://yaroslavvb.blogspot.sg/2011/09/notmnist-dataset.html"
      ]
    },
    {
      "cell_type": "markdown",
      "metadata": {
        "id": "rxRA69DeV1du",
        "colab_type": "text"
      },
      "source": [
        "### Задание 1\n",
        "\n",
        "Реализуйте полносвязную нейронную сеть с помощью библиотеки _TensorFlow_. В качестве алгоритма оптимизации можно использовать, например, стохастический градиент (_Stochastic Gradient Descent_, _SGD_). Определите количество скрытых слоев от 1 до 5, количество нейронов в каждом из слоев до нескольких сотен, а также их функции активации (кусочно-линейная, сигмоидная, гиперболический тангенс и т.д.)."
      ]
    },
    {
      "cell_type": "code",
      "metadata": {
        "id": "cB3DxRASFTUT",
        "colab_type": "code",
        "outputId": "427be59e-313b-46e7-dfd1-ce5b7e402b61",
        "colab": {
          "base_uri": "https://localhost:8080/",
          "height": 34
        }
      },
      "source": [
        "from google.colab import drive\n",
        "\n",
        "drive.mount('/content/drive', force_remount = True)"
      ],
      "execution_count": 1,
      "outputs": [
        {
          "output_type": "stream",
          "text": [
            "Mounted at /content/drive\n"
          ],
          "name": "stdout"
        }
      ]
    },
    {
      "cell_type": "code",
      "metadata": {
        "id": "nRR2oJQkFWOZ",
        "colab_type": "code",
        "colab": {}
      },
      "source": [
        "BASE_DIR = '/content/drive/My Drive/Colab Files/mo-2'\n",
        "\n",
        "import sys\n",
        "\n",
        "sys.path.append(BASE_DIR)\n",
        "\n",
        "import os\n",
        "\n",
        "os.chdir(BASE_DIR)"
      ],
      "execution_count": 0,
      "outputs": []
    },
    {
      "cell_type": "code",
      "metadata": {
        "id": "kQ3XaBd_gE2w",
        "colab_type": "code",
        "colab": {}
      },
      "source": [
        "import pandas as pd\n",
        "\n",
        "dataframe = pd.read_pickle(\"./large.pkl\")"
      ],
      "execution_count": 0,
      "outputs": []
    },
    {
      "cell_type": "code",
      "metadata": {
        "id": "XTRymgc_1l_5",
        "colab_type": "code",
        "outputId": "8686dfd4-ebc9-4df7-936f-e4f6a0557f52",
        "colab": {
          "base_uri": "https://localhost:8080/",
          "height": 34
        }
      },
      "source": [
        "dataframe['data'].shape"
      ],
      "execution_count": 4,
      "outputs": [
        {
          "output_type": "execute_result",
          "data": {
            "text/plain": [
              "(461946,)"
            ]
          },
          "metadata": {
            "tags": []
          },
          "execution_count": 4
        }
      ]
    },
    {
      "cell_type": "code",
      "metadata": {
        "id": "N5SQpkkmtJPi",
        "colab_type": "code",
        "outputId": "351f7b61-7e79-41bb-bdf7-36f8039e7160",
        "colab": {
          "base_uri": "https://localhost:8080/",
          "height": 213
        }
      },
      "source": [
        "! pip install tensorflow-gpu --pre --quiet\n",
        "\n",
        "! pip show tensorflow-gpu"
      ],
      "execution_count": 5,
      "outputs": [
        {
          "output_type": "stream",
          "text": [
            "Name: tensorflow-gpu\n",
            "Version: 2.2.0rc3\n",
            "Summary: TensorFlow is an open source machine learning framework for everyone.\n",
            "Home-page: https://www.tensorflow.org/\n",
            "Author: Google Inc.\n",
            "Author-email: packages@tensorflow.org\n",
            "License: Apache 2.0\n",
            "Location: /usr/local/lib/python3.6/dist-packages\n",
            "Requires: absl-py, keras-preprocessing, termcolor, opt-einsum, grpcio, protobuf, google-pasta, tensorflow-estimator, wrapt, six, wheel, scipy, tensorboard, numpy, h5py, gast, astunparse\n",
            "Required-by: \n"
          ],
          "name": "stdout"
        }
      ]
    },
    {
      "cell_type": "code",
      "metadata": {
        "id": "1P4YjwNPtKwg",
        "colab_type": "code",
        "colab": {}
      },
      "source": [
        "import tensorflow as tf"
      ],
      "execution_count": 0,
      "outputs": []
    },
    {
      "cell_type": "code",
      "metadata": {
        "id": "mw7YDGMBRjOF",
        "colab_type": "code",
        "colab": {}
      },
      "source": [
        "import numpy as np"
      ],
      "execution_count": 0,
      "outputs": []
    },
    {
      "cell_type": "code",
      "metadata": {
        "id": "ikAfPyI_j2KJ",
        "colab_type": "code",
        "colab": {}
      },
      "source": [
        "dataframe_test = dataframe.sample(frac = 0.1)\n",
        "\n",
        "dataframe = dataframe.drop(dataframe_test.index)"
      ],
      "execution_count": 0,
      "outputs": []
    },
    {
      "cell_type": "code",
      "metadata": {
        "id": "6xMfSLqWexl3",
        "colab_type": "code",
        "outputId": "3fbc1809-a717-4c66-e48e-08ddcb4dcf0c",
        "colab": {
          "base_uri": "https://localhost:8080/",
          "height": 34
        }
      },
      "source": [
        "x = np.asarray(list(dataframe['data']))[..., np.newaxis]\n",
        "\n",
        "x = tf.keras.utils.normalize(x, axis = 1)\n",
        "\n",
        "x.shape"
      ],
      "execution_count": 9,
      "outputs": [
        {
          "output_type": "execute_result",
          "data": {
            "text/plain": [
              "(415751, 28, 28, 1)"
            ]
          },
          "metadata": {
            "tags": []
          },
          "execution_count": 9
        }
      ]
    },
    {
      "cell_type": "code",
      "metadata": {
        "id": "4vxcM_uN66-R",
        "colab_type": "code",
        "outputId": "86a128bb-584b-4fc5-c5ce-5184111a2709",
        "colab": {
          "base_uri": "https://localhost:8080/",
          "height": 34
        }
      },
      "source": [
        "x_test = np.asarray(list(dataframe_test['data']))[..., np.newaxis]\n",
        "\n",
        "x_test = tf.keras.utils.normalize(x_test, axis = 1)\n",
        "\n",
        "x_test.shape"
      ],
      "execution_count": 10,
      "outputs": [
        {
          "output_type": "execute_result",
          "data": {
            "text/plain": [
              "(46195, 28, 28, 1)"
            ]
          },
          "metadata": {
            "tags": []
          },
          "execution_count": 10
        }
      ]
    },
    {
      "cell_type": "code",
      "metadata": {
        "id": "glJClm9psvnU",
        "colab_type": "code",
        "colab": {}
      },
      "source": [
        "IMAGE_DIM_0, IMAGE_DIM_1 = x.shape[1], x.shape[2]"
      ],
      "execution_count": 0,
      "outputs": []
    },
    {
      "cell_type": "code",
      "metadata": {
        "id": "zyiOmQu2e6dL",
        "colab_type": "code",
        "outputId": "7e9598fb-9737-4a5e-f317-49a8d71cb9ff",
        "colab": {
          "base_uri": "https://localhost:8080/",
          "height": 34
        }
      },
      "source": [
        "from tensorflow.keras.utils import to_categorical\n",
        "\n",
        "y = to_categorical(dataframe['label'].astype('category').cat.codes.astype('int32'))\n",
        "\n",
        "y.shape"
      ],
      "execution_count": 12,
      "outputs": [
        {
          "output_type": "execute_result",
          "data": {
            "text/plain": [
              "(415751, 10)"
            ]
          },
          "metadata": {
            "tags": []
          },
          "execution_count": 12
        }
      ]
    },
    {
      "cell_type": "code",
      "metadata": {
        "id": "JuRp-w6_7Cs6",
        "colab_type": "code",
        "outputId": "f6eb5564-df71-44cd-de4b-63aaffd18699",
        "colab": {
          "base_uri": "https://localhost:8080/",
          "height": 34
        }
      },
      "source": [
        "y_test = to_categorical(dataframe_test['label'].astype('category').cat.codes.astype('int32'))\n",
        "\n",
        "y_test.shape"
      ],
      "execution_count": 13,
      "outputs": [
        {
          "output_type": "execute_result",
          "data": {
            "text/plain": [
              "(46195, 10)"
            ]
          },
          "metadata": {
            "tags": []
          },
          "execution_count": 13
        }
      ]
    },
    {
      "cell_type": "code",
      "metadata": {
        "id": "TWb5SSn1DZwM",
        "colab_type": "code",
        "colab": {}
      },
      "source": [
        "LAYER_WIDTH = 5000"
      ],
      "execution_count": 0,
      "outputs": []
    },
    {
      "cell_type": "code",
      "metadata": {
        "id": "rt6l033LDnbc",
        "colab_type": "code",
        "colab": {}
      },
      "source": [
        "CLASSES_N = y.shape[1]"
      ],
      "execution_count": 0,
      "outputs": []
    },
    {
      "cell_type": "code",
      "metadata": {
        "id": "Ck3I1OmAS-EL",
        "colab_type": "code",
        "colab": {}
      },
      "source": [
        "from tensorflow.keras.models import Sequential\n",
        "from tensorflow.keras.layers import Dense, Reshape\n",
        "\n",
        "model = tf.keras.Sequential()\n",
        "\n",
        "model.add(Reshape((IMAGE_DIM_0 * IMAGE_DIM_1,), input_shape = (IMAGE_DIM_0, IMAGE_DIM_1, 1)))\n",
        "model.add(Dense(LAYER_WIDTH, activation = 'relu'))\n",
        "model.add(Dense(LAYER_WIDTH, activation = 'sigmoid'))\n",
        "model.add(Dense(LAYER_WIDTH, activation = 'tanh'))\n",
        "model.add(Dense(LAYER_WIDTH, activation = 'elu'))\n",
        "model.add(Dense(LAYER_WIDTH, activation = 'softmax'))\n",
        "model.add(Dense(CLASSES_N))"
      ],
      "execution_count": 0,
      "outputs": []
    },
    {
      "cell_type": "code",
      "metadata": {
        "id": "iQdYZhJ5TGef",
        "colab_type": "code",
        "colab": {}
      },
      "source": [
        "def cat_cross_from_logits(y_true, y_pred):\n",
        "    return tf.keras.losses.categorical_crossentropy(y_true, y_pred, from_logits = True)\n",
        "\n",
        "model.compile(optimizer = 'sgd',\n",
        "              loss = cat_cross_from_logits,\n",
        "              metrics = ['categorical_accuracy'])"
      ],
      "execution_count": 0,
      "outputs": []
    },
    {
      "cell_type": "code",
      "metadata": {
        "id": "agCUkO8LTVOk",
        "colab_type": "code",
        "outputId": "6bdb869d-e7f9-4ce6-a6dd-ad4ea44ab44f",
        "colab": {
          "base_uri": "https://localhost:8080/",
          "height": 404
        }
      },
      "source": [
        "model.summary()"
      ],
      "execution_count": 18,
      "outputs": [
        {
          "output_type": "stream",
          "text": [
            "Model: \"sequential\"\n",
            "_________________________________________________________________\n",
            "Layer (type)                 Output Shape              Param #   \n",
            "=================================================================\n",
            "reshape (Reshape)            (None, 784)               0         \n",
            "_________________________________________________________________\n",
            "dense (Dense)                (None, 5000)              3925000   \n",
            "_________________________________________________________________\n",
            "dense_1 (Dense)              (None, 5000)              25005000  \n",
            "_________________________________________________________________\n",
            "dense_2 (Dense)              (None, 5000)              25005000  \n",
            "_________________________________________________________________\n",
            "dense_3 (Dense)              (None, 5000)              25005000  \n",
            "_________________________________________________________________\n",
            "dense_4 (Dense)              (None, 5000)              25005000  \n",
            "_________________________________________________________________\n",
            "dense_5 (Dense)              (None, 10)                50010     \n",
            "=================================================================\n",
            "Total params: 103,995,010\n",
            "Trainable params: 103,995,010\n",
            "Non-trainable params: 0\n",
            "_________________________________________________________________\n"
          ],
          "name": "stdout"
        }
      ]
    },
    {
      "cell_type": "code",
      "metadata": {
        "id": "fq-tMfJha3am",
        "colab_type": "code",
        "colab": {}
      },
      "source": [
        "VAL_SPLIT_RATE = 0.1"
      ],
      "execution_count": 0,
      "outputs": []
    },
    {
      "cell_type": "code",
      "metadata": {
        "id": "2Yc_RbKgbGnb",
        "colab_type": "code",
        "colab": {}
      },
      "source": [
        "EPOCHS_N = 10"
      ],
      "execution_count": 0,
      "outputs": []
    },
    {
      "cell_type": "code",
      "metadata": {
        "id": "KaFzwztDTZy8",
        "colab_type": "code",
        "outputId": "2a2adccb-b304-48ae-ca80-8fb20901e408",
        "colab": {
          "base_uri": "https://localhost:8080/",
          "height": 389
        }
      },
      "source": [
        "history = model.fit(x = x, y = y, epochs = EPOCHS_N, validation_split = VAL_SPLIT_RATE)"
      ],
      "execution_count": 21,
      "outputs": [
        {
          "output_type": "stream",
          "text": [
            "Epoch 1/10\n",
            "11693/11693 [==============================] - 102s 9ms/step - loss: 2.2191 - categorical_accuracy: 0.1130 - val_loss: 4.8881 - val_categorical_accuracy: 0.0000e+00\n",
            "Epoch 2/10\n",
            "11693/11693 [==============================] - 102s 9ms/step - loss: 2.2036 - categorical_accuracy: 0.1121 - val_loss: 5.5146 - val_categorical_accuracy: 0.0000e+00\n",
            "Epoch 3/10\n",
            "11693/11693 [==============================] - 102s 9ms/step - loss: 2.2018 - categorical_accuracy: 0.1131 - val_loss: 5.8773 - val_categorical_accuracy: 0.0000e+00\n",
            "Epoch 4/10\n",
            "11693/11693 [==============================] - 102s 9ms/step - loss: 2.2010 - categorical_accuracy: 0.1135 - val_loss: 6.1279 - val_categorical_accuracy: 0.0000e+00\n",
            "Epoch 5/10\n",
            "11693/11693 [==============================] - 102s 9ms/step - loss: 2.2007 - categorical_accuracy: 0.1128 - val_loss: 6.3155 - val_categorical_accuracy: 0.0000e+00\n",
            "Epoch 6/10\n",
            "11693/11693 [==============================] - 102s 9ms/step - loss: 2.2005 - categorical_accuracy: 0.1125 - val_loss: 6.4637 - val_categorical_accuracy: 0.0000e+00\n",
            "Epoch 7/10\n",
            "11693/11693 [==============================] - 102s 9ms/step - loss: 2.2003 - categorical_accuracy: 0.1131 - val_loss: 6.5846 - val_categorical_accuracy: 0.0000e+00\n",
            "Epoch 8/10\n",
            "11693/11693 [==============================] - 102s 9ms/step - loss: 2.2002 - categorical_accuracy: 0.1126 - val_loss: 6.6856 - val_categorical_accuracy: 0.0000e+00\n",
            "Epoch 9/10\n",
            "11693/11693 [==============================] - 102s 9ms/step - loss: 2.2002 - categorical_accuracy: 0.1130 - val_loss: 6.7715 - val_categorical_accuracy: 0.0000e+00\n",
            "Epoch 10/10\n",
            "11693/11693 [==============================] - 102s 9ms/step - loss: 2.2001 - categorical_accuracy: 0.1130 - val_loss: 6.8451 - val_categorical_accuracy: 0.0000e+00\n"
          ],
          "name": "stdout"
        }
      ]
    },
    {
      "cell_type": "code",
      "metadata": {
        "id": "W-3ws8HdrEID",
        "colab_type": "code",
        "colab": {}
      },
      "source": [
        "%matplotlib inline\n",
        "\n",
        "import matplotlib.pyplot as plt"
      ],
      "execution_count": 0,
      "outputs": []
    },
    {
      "cell_type": "code",
      "metadata": {
        "id": "8wK9dXRZrFRw",
        "colab_type": "code",
        "outputId": "a4d4ac53-e98c-4690-ae6c-7384d40060f3",
        "colab": {
          "base_uri": "https://localhost:8080/",
          "height": 72
        }
      },
      "source": [
        "import seaborn as sns\n",
        "\n",
        "from matplotlib import rcParams\n",
        "\n",
        "rcParams['figure.figsize'] = 11.7, 8.27\n",
        "\n",
        "sns.set()\n",
        "\n",
        "sns.set_palette(sns.color_palette('hls'))"
      ],
      "execution_count": 23,
      "outputs": [
        {
          "output_type": "stream",
          "text": [
            "/usr/local/lib/python3.6/dist-packages/statsmodels/tools/_testing.py:19: FutureWarning: pandas.util.testing is deprecated. Use the functions in the public API at pandas.testing instead.\n",
            "  import pandas.util.testing as tm\n"
          ],
          "name": "stderr"
        }
      ]
    },
    {
      "cell_type": "code",
      "metadata": {
        "id": "9xxz0UxaMKW3",
        "colab_type": "code",
        "outputId": "2c5c28d7-c7f3-41e3-bb5c-7764f1f559bd",
        "colab": {
          "base_uri": "https://localhost:8080/",
          "height": 1000
        }
      },
      "source": [
        "import matplotlib.pyplot as plt\n",
        "\n",
        "plt.plot(history.history['categorical_accuracy'])\n",
        "plt.plot(history.history['val_categorical_accuracy'])\n",
        "plt.title('Model accuracy')\n",
        "plt.ylabel('Accuracy')\n",
        "plt.xlabel('Epoch')\n",
        "plt.legend(['Train', 'Validation'], loc = 'right')\n",
        "plt.show()\n",
        "\n",
        "plt.plot(history.history['loss'])\n",
        "plt.plot(history.history['val_loss'])\n",
        "plt.title('Model loss')\n",
        "plt.ylabel('Loss')\n",
        "plt.xlabel('Epoch')\n",
        "plt.legend(['Train', 'Validation'], loc = 'right')\n",
        "plt.show()"
      ],
      "execution_count": 24,
      "outputs": [
        {
          "output_type": "display_data",
          "data": {
            "image/png": "[encoded data removed]",
            "text/plain": [
              "<Figure size 842.4x595.44 with 1 Axes>"
            ]
          },
          "metadata": {
            "tags": []
          }
        },
        {
          "output_type": "display_data",
          "data": {
            "image/png": "[encoded data removed]",
            "text/plain": [
              "<Figure size 842.4x595.44 with 1 Axes>"
            ]
          },
          "metadata": {
            "tags": []
          }
        }
      ]
    },
    {
      "cell_type": "code",
      "metadata": {
        "id": "qXAAePG_5ZnQ",
        "colab_type": "code",
        "outputId": "690c32f0-2c43-4c62-fcbe-ff4937f3ad54",
        "colab": {
          "base_uri": "https://localhost:8080/",
          "height": 52
        }
      },
      "source": [
        "results = model.evaluate(x_test, y_test)\n",
        "\n",
        "print('Test loss, test accuracy:', results)"
      ],
      "execution_count": 25,
      "outputs": [
        {
          "output_type": "stream",
          "text": [
            "1444/1444 [==============================] - 5s 3ms/step - loss: 2.6747 - categorical_accuracy: 0.1050\n",
            "Test loss, test accuracy: [2.6747310161590576, 0.10496807098388672]\n"
          ],
          "name": "stdout"
        }
      ]
    },
    {
      "cell_type": "markdown",
      "metadata": {
        "id": "yU-FLc1TXkWv",
        "colab_type": "text"
      },
      "source": [
        "### Задание 2\n",
        "\n",
        "Как улучшилась точность классификатора по сравнению с логистической регрессией?"
      ]
    },
    {
      "cell_type": "markdown",
      "metadata": {
        "id": "zrNhoIxaM5lM",
        "colab_type": "text"
      },
      "source": [
        "Стало хуже &mdash; на тестовой выборке точность составила 10%. Похоже, что данная модель совершенно не подходит для решения этой задачи."
      ]
    },
    {
      "cell_type": "markdown",
      "metadata": {
        "id": "yS3aHzgBXoLX",
        "colab_type": "text"
      },
      "source": [
        "### Задание 3\n",
        "\n",
        "Используйте регуляризацию и метод сброса нейронов (_dropout_) для борьбы с переобучением. Как улучшилось качество классификации?"
      ]
    },
    {
      "cell_type": "code",
      "metadata": {
        "id": "KK8_7mx6ExSa",
        "colab_type": "code",
        "colab": {}
      },
      "source": [
        "REG_RATE = 0.001"
      ],
      "execution_count": 0,
      "outputs": []
    },
    {
      "cell_type": "code",
      "metadata": {
        "id": "iKKn4cz5E3Zd",
        "colab_type": "code",
        "colab": {}
      },
      "source": [
        "from tensorflow.keras.regularizers import l2\n",
        "\n",
        "l2_reg = l2(REG_RATE)"
      ],
      "execution_count": 0,
      "outputs": []
    },
    {
      "cell_type": "code",
      "metadata": {
        "id": "Rwzn-lFyDzDU",
        "colab_type": "code",
        "colab": {}
      },
      "source": [
        "DROPOUT_RATE = 0.2"
      ],
      "execution_count": 0,
      "outputs": []
    },
    {
      "cell_type": "code",
      "metadata": {
        "id": "Mx7qA0UwFA2I",
        "colab_type": "code",
        "colab": {}
      },
      "source": [
        "from tensorflow.keras.layers import Dropout\n",
        "\n",
        "dropout_layer = Dropout(DROPOUT_RATE)"
      ],
      "execution_count": 0,
      "outputs": []
    },
    {
      "cell_type": "code",
      "metadata": {
        "id": "H_-Tit9SulyG",
        "colab_type": "code",
        "colab": {}
      },
      "source": [
        "model_2 = tf.keras.Sequential()\n",
        "\n",
        "model_2.add(Reshape((IMAGE_DIM_0 * IMAGE_DIM_1,), input_shape = (IMAGE_DIM_0, IMAGE_DIM_1, 1)))\n",
        "model_2.add(Dense(LAYER_WIDTH, activation = 'relu', kernel_regularizer = l2_reg))\n",
        "model_2.add(dropout_layer)\n",
        "model_2.add(Dense(LAYER_WIDTH, activation = 'sigmoid', kernel_regularizer = l2_reg))\n",
        "model_2.add(dropout_layer)\n",
        "model_2.add(Dense(LAYER_WIDTH, activation = 'tanh', kernel_regularizer = l2_reg))\n",
        "model_2.add(dropout_layer)\n",
        "model_2.add(Dense(LAYER_WIDTH, activation = 'sigmoid', kernel_regularizer = l2_reg))\n",
        "model_2.add(dropout_layer)\n",
        "model_2.add(Dense(LAYER_WIDTH, activation = 'relu', kernel_regularizer = l2_reg))\n",
        "model_2.add(dropout_layer)\n",
        "model_2.add(Dense(CLASSES_N))"
      ],
      "execution_count": 0,
      "outputs": []
    },
    {
      "cell_type": "code",
      "metadata": {
        "id": "TiCOKPpI3bJ6",
        "colab_type": "code",
        "colab": {}
      },
      "source": [
        "model_2.compile(optimizer = 'sgd',\n",
        "                loss = cat_cross_from_logits,\n",
        "                metrics = ['categorical_accuracy'])"
      ],
      "execution_count": 0,
      "outputs": []
    },
    {
      "cell_type": "code",
      "metadata": {
        "id": "7ZAaa1g23gAy",
        "colab_type": "code",
        "outputId": "8e1e1c78-7718-4922-e78b-d6df84136e87",
        "colab": {
          "base_uri": "https://localhost:8080/",
          "height": 439
        }
      },
      "source": [
        "model_2.summary()"
      ],
      "execution_count": 32,
      "outputs": [
        {
          "output_type": "stream",
          "text": [
            "Model: \"sequential_1\"\n",
            "_________________________________________________________________\n",
            "Layer (type)                 Output Shape              Param #   \n",
            "=================================================================\n",
            "reshape_1 (Reshape)          (None, 784)               0         \n",
            "_________________________________________________________________\n",
            "dense_6 (Dense)              (None, 5000)              3925000   \n",
            "_________________________________________________________________\n",
            "dropout (Dropout)            (None, 5000)              0         \n",
            "_________________________________________________________________\n",
            "dense_7 (Dense)              (None, 5000)              25005000  \n",
            "_________________________________________________________________\n",
            "dense_8 (Dense)              (None, 5000)              25005000  \n",
            "_________________________________________________________________\n",
            "dense_9 (Dense)              (None, 5000)              25005000  \n",
            "_________________________________________________________________\n",
            "dense_10 (Dense)             (None, 5000)              25005000  \n",
            "_________________________________________________________________\n",
            "dense_11 (Dense)             (None, 10)                50010     \n",
            "=================================================================\n",
            "Total params: 103,995,010\n",
            "Trainable params: 103,995,010\n",
            "Non-trainable params: 0\n",
            "_________________________________________________________________\n"
          ],
          "name": "stdout"
        }
      ]
    },
    {
      "cell_type": "code",
      "metadata": {
        "id": "xnvgsUDy3krC",
        "colab_type": "code",
        "outputId": "6bb98ce6-940a-4aa2-c36f-1a7dcfc8c8cf",
        "colab": {
          "base_uri": "https://localhost:8080/",
          "height": 389
        }
      },
      "source": [
        "history_2 = model_2.fit(x = x, y = y, epochs = EPOCHS_N, validation_split = VAL_SPLIT_RATE)"
      ],
      "execution_count": 33,
      "outputs": [
        {
          "output_type": "stream",
          "text": [
            "Epoch 1/10\n",
            "11693/11693 [==============================] - 210s 18ms/step - loss: 19.2714 - categorical_accuracy: 0.1146 - val_loss: 19.8313 - val_categorical_accuracy: 0.0000e+00\n",
            "Epoch 2/10\n",
            "11693/11693 [==============================] - 210s 18ms/step - loss: 12.8747 - categorical_accuracy: 0.1274 - val_loss: 17.0186 - val_categorical_accuracy: 0.0000e+00\n",
            "Epoch 3/10\n",
            "11693/11693 [==============================] - 210s 18ms/step - loss: 8.3172 - categorical_accuracy: 0.3775 - val_loss: 13.3244 - val_categorical_accuracy: 0.0000e+00\n",
            "Epoch 4/10\n",
            "11693/11693 [==============================] - 210s 18ms/step - loss: 5.6690 - categorical_accuracy: 0.4852 - val_loss: 11.4049 - val_categorical_accuracy: 0.0000e+00\n",
            "Epoch 5/10\n",
            "11693/11693 [==============================] - 210s 18ms/step - loss: 4.0415 - categorical_accuracy: 0.5333 - val_loss: 9.9179 - val_categorical_accuracy: 0.0000e+00\n",
            "Epoch 6/10\n",
            "11693/11693 [==============================] - 209s 18ms/step - loss: 3.0223 - categorical_accuracy: 0.5735 - val_loss: 9.1476 - val_categorical_accuracy: 0.0000e+00\n",
            "Epoch 7/10\n",
            "11693/11693 [==============================] - 209s 18ms/step - loss: 2.3748 - categorical_accuracy: 0.6146 - val_loss: 8.5456 - val_categorical_accuracy: 0.0000e+00\n",
            "Epoch 8/10\n",
            "11693/11693 [==============================] - 209s 18ms/step - loss: 1.9693 - categorical_accuracy: 0.6367 - val_loss: 8.3567 - val_categorical_accuracy: 0.0000e+00\n",
            "Epoch 9/10\n",
            "11693/11693 [==============================] - 209s 18ms/step - loss: 1.7159 - categorical_accuracy: 0.6505 - val_loss: 7.9502 - val_categorical_accuracy: 0.0000e+00\n",
            "Epoch 10/10\n",
            "11693/11693 [==============================] - 210s 18ms/step - loss: 1.5561 - categorical_accuracy: 0.6608 - val_loss: 7.3123 - val_categorical_accuracy: 0.0000e+00\n"
          ],
          "name": "stdout"
        }
      ]
    },
    {
      "cell_type": "code",
      "metadata": {
        "id": "S-3YqEIDMYm6",
        "colab_type": "code",
        "outputId": "caad88af-43f5-4d64-aa08-5ca992415323",
        "colab": {
          "base_uri": "https://localhost:8080/",
          "height": 1000
        }
      },
      "source": [
        "plt.plot(history_2.history['categorical_accuracy'])\n",
        "plt.plot(history_2.history['val_categorical_accuracy'])\n",
        "plt.title('Model accuracy')\n",
        "plt.ylabel('Accuracy')\n",
        "plt.xlabel('Epoch')\n",
        "plt.legend(['Train', 'Validation'], loc = 'right')\n",
        "plt.show()\n",
        "\n",
        "plt.plot(history_2.history['loss'])\n",
        "plt.plot(history_2.history['val_loss'])\n",
        "plt.title('Model loss')\n",
        "plt.ylabel('Loss')\n",
        "plt.xlabel('Epoch')\n",
        "plt.legend(['Train', 'Validation'], loc = 'right')\n",
        "plt.show()"
      ],
      "execution_count": 34,
      "outputs": [
        {
          "output_type": "display_data",
          "data": {
            "image/png": "[encoded data removed]",
            "text/plain": [
              "<Figure size 842.4x595.44 with 1 Axes>"
            ]
          },
          "metadata": {
            "tags": []
          }
        },
        {
          "output_type": "display_data",
          "data": {
            "image/png": "[encoded data removed]",
            "text/plain": [
              "<Figure size 842.4x595.44 with 1 Axes>"
            ]
          },
          "metadata": {
            "tags": []
          }
        }
      ]
    },
    {
      "cell_type": "code",
      "metadata": {
        "id": "MOzAddnK7ZU1",
        "colab_type": "code",
        "colab": {
          "base_uri": "https://localhost:8080/",
          "height": 52
        },
        "outputId": "f456dbe6-e6bd-4898-ec0a-126ac32c33bf"
      },
      "source": [
        "results_2 = model_2.evaluate(x_test, y_test)\n",
        "\n",
        "print('Test loss, test accuracy:', results_2)"
      ],
      "execution_count": 35,
      "outputs": [
        {
          "output_type": "stream",
          "text": [
            "1444/1444 [==============================] - 8s 6ms/step - loss: 2.0421 - categorical_accuracy: 0.6249\n",
            "Test loss, test accuracy: [2.042070150375366, 0.6248944401741028]\n"
          ],
          "name": "stdout"
        }
      ]
    },
    {
      "cell_type": "markdown",
      "metadata": {
        "id": "ROo1GeG0NNiq",
        "colab_type": "text"
      },
      "source": [
        "Регуляризация и сброс нейронов значительно помогли &mdash; модель показывает 62% точности на тестовой выборке."
      ]
    },
    {
      "cell_type": "markdown",
      "metadata": {
        "id": "DJJ4R3miXtnA",
        "colab_type": "text"
      },
      "source": [
        "### Задание 4\n",
        "\n",
        "Воспользуйтесь динамически изменяемой скоростью обучения (_learning rate_). Наилучшая точность, достигнутая с помощью данной модели составляет 97.1%. Какую точность демонстрирует Ваша реализованная модель?"
      ]
    },
    {
      "cell_type": "code",
      "metadata": {
        "id": "NHKfjeYg8bh7",
        "colab_type": "code",
        "colab": {
          "base_uri": "https://localhost:8080/",
          "height": 389
        },
        "outputId": "8b203ecb-3ee8-46aa-c395-40870c29f943"
      },
      "source": [
        "from tensorflow.keras.optimizers import SGD\n",
        "\n",
        "dyn_lr_sgd = SGD(lr = 0.01, momentum = 0.9)\n",
        "\n",
        "model_2.compile(optimizer = dyn_lr_sgd,\n",
        "                loss = cat_cross_from_logits,\n",
        "                metrics = ['categorical_accuracy'])\n",
        "\n",
        "history_3 = model_2.fit(x = x, y = y, epochs = EPOCHS_N, validation_split = VAL_SPLIT_RATE)"
      ],
      "execution_count": 36,
      "outputs": [
        {
          "output_type": "stream",
          "text": [
            "Epoch 1/10\n",
            "11693/11693 [==============================] - 237s 20ms/step - loss: 1.3790 - categorical_accuracy: 0.6511 - val_loss: 6.8754 - val_categorical_accuracy: 0.0000e+00\n",
            "Epoch 2/10\n",
            "11693/11693 [==============================] - 237s 20ms/step - loss: 1.0942 - categorical_accuracy: 0.7466 - val_loss: 6.3502 - val_categorical_accuracy: 0.0000e+00\n",
            "Epoch 3/10\n",
            "11693/11693 [==============================] - 237s 20ms/step - loss: 1.0778 - categorical_accuracy: 0.7529 - val_loss: 6.7014 - val_categorical_accuracy: 0.0000e+00\n",
            "Epoch 4/10\n",
            "11693/11693 [==============================] - 237s 20ms/step - loss: 1.0749 - categorical_accuracy: 0.7540 - val_loss: 7.1483 - val_categorical_accuracy: 0.0000e+00\n",
            "Epoch 5/10\n",
            "11693/11693 [==============================] - 237s 20ms/step - loss: 1.0698 - categorical_accuracy: 0.7556 - val_loss: 7.1391 - val_categorical_accuracy: 0.0000e+00\n",
            "Epoch 6/10\n",
            "11693/11693 [==============================] - 237s 20ms/step - loss: 1.0231 - categorical_accuracy: 0.7744 - val_loss: 6.6427 - val_categorical_accuracy: 0.0000e+00\n",
            "Epoch 7/10\n",
            "11693/11693 [==============================] - 237s 20ms/step - loss: 0.9952 - categorical_accuracy: 0.7805 - val_loss: 6.3981 - val_categorical_accuracy: 0.0000e+00\n",
            "Epoch 8/10\n",
            "11693/11693 [==============================] - 237s 20ms/step - loss: 0.9859 - categorical_accuracy: 0.7839 - val_loss: 6.4524 - val_categorical_accuracy: 0.0000e+00\n",
            "Epoch 9/10\n",
            "11693/11693 [==============================] - 237s 20ms/step - loss: 0.9838 - categorical_accuracy: 0.7843 - val_loss: 6.9396 - val_categorical_accuracy: 0.0000e+00\n",
            "Epoch 10/10\n",
            "11693/11693 [==============================] - 237s 20ms/step - loss: 0.9809 - categorical_accuracy: 0.7857 - val_loss: 7.0662 - val_categorical_accuracy: 0.0000e+00\n"
          ],
          "name": "stdout"
        }
      ]
    },
    {
      "cell_type": "code",
      "metadata": {
        "id": "CJbvOMz2Md4f",
        "colab_type": "code",
        "colab": {
          "base_uri": "https://localhost:8080/",
          "height": 1000
        },
        "outputId": "f33797bd-7de3-4072-b00d-3b7aced35f4a"
      },
      "source": [
        "plt.plot(history_3.history['categorical_accuracy'])\n",
        "plt.plot(history_3.history['val_categorical_accuracy'])\n",
        "plt.title('Model accuracy')\n",
        "plt.ylabel('Accuracy')\n",
        "plt.xlabel('Epoch')\n",
        "plt.legend(['Train', 'Validation'], loc = 'right')\n",
        "plt.show()\n",
        "\n",
        "plt.plot(history_3.history['loss'])\n",
        "plt.plot(history_3.history['val_loss'])\n",
        "plt.title('Model loss')\n",
        "plt.ylabel('Loss')\n",
        "plt.xlabel('Epoch')\n",
        "plt.legend(['Train', 'Validation'], loc = 'right')\n",
        "plt.show()"
      ],
      "execution_count": 38,
      "outputs": [
        {
          "output_type": "display_data",
          "data": {
            "image/png": "[encoded data removed]",
            "text/plain": [
              "<Figure size 842.4x595.44 with 1 Axes>"
            ]
          },
          "metadata": {
            "tags": []
          }
        },
        {
          "output_type": "display_data",
          "data": {
            "image/png": "[encoded data removed]",
            "text/plain": [
              "<Figure size 842.4x595.44 with 1 Axes>"
            ]
          },
          "metadata": {
            "tags": []
          }
        }
      ]
    },
    {
      "cell_type": "code",
      "metadata": {
        "id": "Ty76GshO7mW6",
        "colab_type": "code",
        "colab": {
          "base_uri": "https://localhost:8080/",
          "height": 52
        },
        "outputId": "61adcc7b-640a-4e37-8268-7514bc2b56c1"
      },
      "source": [
        "results_3 = model_2.evaluate(x_test, y_test)\n",
        "\n",
        "print('Test loss, test accuracy:', results_3)"
      ],
      "execution_count": 39,
      "outputs": [
        {
          "output_type": "stream",
          "text": [
            "1444/1444 [==============================] - 8s 6ms/step - loss: 1.5414 - categorical_accuracy: 0.7253\n",
            "Test loss, test accuracy: [1.5414141416549683, 0.7252733111381531]\n"
          ],
          "name": "stdout"
        }
      ]
    },
    {
      "cell_type": "markdown",
      "metadata": {
        "id": "IAC8lUGvNeec",
        "colab_type": "text"
      },
      "source": [
        "Динамически изменяемая скорость обучения улучшила результат &mdash; 72% на тестовой выборке."
      ]
    },
    {
      "cell_type": "markdown",
      "metadata": {
        "id": "oFR1lH2nN1er",
        "colab_type": "text"
      },
      "source": [
        "Можно сделать вывод, что модель с полносвязными слоями может использоваться для решения задачи распознавания изображений, однако она очевидно не является наилучшей."
      ]
    }
  ]
}