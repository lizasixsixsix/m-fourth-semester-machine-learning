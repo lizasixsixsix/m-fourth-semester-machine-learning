{
  "nbformat": 4,
  "nbformat_minor": 0,
  "metadata": {
    "colab": {
      "name": "mo-2-2-0.ipynb",
      "provenance": [],
      "collapsed_sections": [],
      "toc_visible": true,
      "machine_shape": "hm"
    },
    "kernelspec": {
      "name": "python3",
      "display_name": "Python 3"
    },
    "accelerator": "GPU"
  },
  "cells": [
    {
      "cell_type": "markdown",
      "metadata": {
        "id": "xo5gG8TPIMB2",
        "colab_type": "text"
      },
      "source": [
        "# Лабораторная работа №2\n",
        "\n",
        "## Реализация глубокой нейронной сети"
      ]
    },
    {
      "cell_type": "markdown",
      "metadata": {
        "id": "Fv1NYuWxIQie",
        "colab_type": "text"
      },
      "source": [
        "В работе предлагается использовать набор данных _notMNIST_, который состоит из изображений размерностью 28×28 первых 10 букв латинского алфавита (_A_ ... _J_, соответственно). Обучающая выборка содержит порядка 500 тыс. изображений, а тестовая – около 19 тыс.\n",
        "\n",
        "Данные можно скачать по ссылке:\n",
        "\n",
        "* https://commondatastorage.googleapis.com/books1000/notMNIST_large.tar.gz (большой набор данных);\n",
        "\n",
        "* https://commondatastorage.googleapis.com/books1000/notMNIST_small.tar.gz (маленький набор данных);\n",
        "\n",
        "Описание данных на английском языке доступно по ссылке:\n",
        "http://yaroslavvb.blogspot.sg/2011/09/notmnist-dataset.html"
      ]
    },
    {
      "cell_type": "markdown",
      "metadata": {
        "id": "rxRA69DeV1du",
        "colab_type": "text"
      },
      "source": [
        "### Задание 1\n",
        "\n",
        "Реализуйте полносвязную нейронную сеть с помощью библиотеки _TensorFlow_. В качестве алгоритма оптимизации можно использовать, например, стохастический градиент (_Stochastic Gradient Descent_, _SGD_). Определите количество скрытых слоев от 1 до 5, количество нейронов в каждом из слоев до нескольких сотен, а также их функции активации (кусочно-линейная, сигмоидная, гиперболический тангенс и т.д.)."
      ]
    },
    {
      "cell_type": "code",
      "metadata": {
        "id": "cB3DxRASFTUT",
        "colab_type": "code",
        "outputId": "9e14bab8-9d7f-47cd-dda6-ad331471dc83",
        "colab": {
          "base_uri": "https://localhost:8080/",
          "height": 34
        }
      },
      "source": [
        "from google.colab import drive\n",
        "\n",
        "drive.mount('/content/drive', force_remount = True)"
      ],
      "execution_count": 1,
      "outputs": [
        {
          "output_type": "stream",
          "text": [
            "Mounted at /content/drive\n"
          ],
          "name": "stdout"
        }
      ]
    },
    {
      "cell_type": "code",
      "metadata": {
        "id": "nRR2oJQkFWOZ",
        "colab_type": "code",
        "colab": {}
      },
      "source": [
        "BASE_DIR = '/content/drive/My Drive/Colab Files/mo-2'\n",
        "\n",
        "import sys\n",
        "\n",
        "sys.path.append(BASE_DIR)\n",
        "\n",
        "import os\n",
        "\n",
        "os.chdir(BASE_DIR)"
      ],
      "execution_count": 0,
      "outputs": []
    },
    {
      "cell_type": "code",
      "metadata": {
        "id": "kQ3XaBd_gE2w",
        "colab_type": "code",
        "colab": {}
      },
      "source": [
        "import pandas as pd\n",
        "\n",
        "dataframe = pd.read_pickle(\"./large.pkl\")"
      ],
      "execution_count": 0,
      "outputs": []
    },
    {
      "cell_type": "code",
      "metadata": {
        "id": "XTRymgc_1l_5",
        "colab_type": "code",
        "outputId": "a29f1939-9ca5-4f26-c6b8-ac0026d8fdc6",
        "colab": {
          "base_uri": "https://localhost:8080/",
          "height": 34
        }
      },
      "source": [
        "dataframe['data'].shape"
      ],
      "execution_count": 4,
      "outputs": [
        {
          "output_type": "execute_result",
          "data": {
            "text/plain": [
              "(461946,)"
            ]
          },
          "metadata": {
            "tags": []
          },
          "execution_count": 4
        }
      ]
    },
    {
      "cell_type": "code",
      "metadata": {
        "id": "N5SQpkkmtJPi",
        "colab_type": "code",
        "outputId": "d90d0acf-05b4-4dab-a4e6-8dfe66f69e2d",
        "colab": {
          "base_uri": "https://localhost:8080/",
          "height": 205
        }
      },
      "source": [
        "! pip install tensorflow-gpu --pre --quiet\n",
        "\n",
        "! pip show tensorflow-gpu"
      ],
      "execution_count": 5,
      "outputs": [
        {
          "output_type": "stream",
          "text": [
            "Name: tensorflow-gpu\n",
            "Version: 2.2.0rc2\n",
            "Summary: TensorFlow is an open source machine learning framework for everyone.\n",
            "Home-page: https://www.tensorflow.org/\n",
            "Author: Google Inc.\n",
            "Author-email: packages@tensorflow.org\n",
            "License: Apache 2.0\n",
            "Location: /usr/local/lib/python3.6/dist-packages\n",
            "Requires: protobuf, termcolor, wrapt, h5py, wheel, astunparse, scipy, six, gast, absl-py, tensorboard, opt-einsum, google-pasta, grpcio, numpy, tensorflow-estimator, keras-preprocessing\n",
            "Required-by: \n"
          ],
          "name": "stdout"
        }
      ]
    },
    {
      "cell_type": "code",
      "metadata": {
        "id": "1P4YjwNPtKwg",
        "colab_type": "code",
        "colab": {}
      },
      "source": [
        "import tensorflow as tf"
      ],
      "execution_count": 0,
      "outputs": []
    },
    {
      "cell_type": "code",
      "metadata": {
        "id": "mw7YDGMBRjOF",
        "colab_type": "code",
        "colab": {}
      },
      "source": [
        "import numpy as np"
      ],
      "execution_count": 0,
      "outputs": []
    },
    {
      "cell_type": "code",
      "metadata": {
        "id": "a1MyLTpeXDec",
        "colab_type": "code",
        "colab": {}
      },
      "source": [
        "# train_df = dataframe.sample(frac = 0.7)\n",
        "# test_df = dataframe.drop(train_df.index)\n",
        "\n",
        "# train_df = train_df.reset_index()\n",
        "# test_df = test_df.reset_index()"
      ],
      "execution_count": 0,
      "outputs": []
    },
    {
      "cell_type": "code",
      "metadata": {
        "id": "2Sd5Y5qHYeD1",
        "colab_type": "code",
        "colab": {}
      },
      "source": [
        "# train_dataset = tf.data.Dataset.from_tensor_slices((np.asarray(list(train_df['data'])), train_df['label']))\n",
        "# test_dataset = tf.data.Dataset.from_tensor_slices((np.asarray(list(test_df['data'])), test_df['label']))"
      ],
      "execution_count": 0,
      "outputs": []
    },
    {
      "cell_type": "code",
      "metadata": {
        "id": "KDyUB9ZOIIXB",
        "colab_type": "code",
        "colab": {}
      },
      "source": [
        "# dataset = tf.data.Dataset.from_tensors((np.asarray(list(dataframe['data'])), dataframe['label']))"
      ],
      "execution_count": 0,
      "outputs": []
    },
    {
      "cell_type": "code",
      "metadata": {
        "id": "6xMfSLqWexl3",
        "colab_type": "code",
        "outputId": "82c0d3a0-98c5-4820-d127-0dec0732d01a",
        "colab": {
          "base_uri": "https://localhost:8080/",
          "height": 34
        }
      },
      "source": [
        "x = np.asarray(list(dataframe['data']))[..., np.newaxis]\n",
        "\n",
        "x = tf.keras.utils.normalize(x, axis = 1)\n",
        "\n",
        "x.shape"
      ],
      "execution_count": 11,
      "outputs": [
        {
          "output_type": "execute_result",
          "data": {
            "text/plain": [
              "(461946, 28, 28, 1)"
            ]
          },
          "metadata": {
            "tags": []
          },
          "execution_count": 11
        }
      ]
    },
    {
      "cell_type": "code",
      "metadata": {
        "id": "zyiOmQu2e6dL",
        "colab_type": "code",
        "outputId": "8bc813a6-2ea3-4b8e-ca98-b814719590df",
        "colab": {
          "base_uri": "https://localhost:8080/",
          "height": 34
        }
      },
      "source": [
        "from tensorflow.keras.utils import to_categorical\n",
        "\n",
        "y = to_categorical(dataframe['label'].astype('category').cat.codes.astype('int32'))\n",
        "\n",
        "y.shape"
      ],
      "execution_count": 12,
      "outputs": [
        {
          "output_type": "execute_result",
          "data": {
            "text/plain": [
              "(461946, 10)"
            ]
          },
          "metadata": {
            "tags": []
          },
          "execution_count": 12
        }
      ]
    },
    {
      "cell_type": "code",
      "metadata": {
        "id": "Ck3I1OmAS-EL",
        "colab_type": "code",
        "colab": {}
      },
      "source": [
        "from tensorflow.keras.models import Sequential\n",
        "from tensorflow.keras.layers import Conv2D, MaxPooling2D, Flatten, Dense\n",
        "\n",
        "model = tf.keras.Sequential()\n",
        "\n",
        "model.add(Conv2D(16, 3, padding='same', activation='relu', input_shape=(28, 28, 1)))\n",
        "model.add(MaxPooling2D())\n",
        "model.add(Conv2D(32, 3, padding='same', activation='relu'))\n",
        "model.add(MaxPooling2D())\n",
        "model.add(Conv2D(64, 3, padding='same', activation='relu'))\n",
        "model.add(MaxPooling2D())\n",
        "model.add(Flatten())\n",
        "model.add(Dense(512, activation='relu'))\n",
        "model.add(Dense(10))"
      ],
      "execution_count": 0,
      "outputs": []
    },
    {
      "cell_type": "code",
      "metadata": {
        "id": "iQdYZhJ5TGef",
        "colab_type": "code",
        "colab": {}
      },
      "source": [
        "def custom_loss(y_true, y_pred):\n",
        "    return tf.keras.losses.categorical_crossentropy(\n",
        "    y_true, y_pred, from_logits=True)\n",
        "\n",
        "model.compile(optimizer='sgd',\n",
        "              loss=custom_loss,\n",
        "              metrics=['categorical_accuracy'])"
      ],
      "execution_count": 0,
      "outputs": []
    },
    {
      "cell_type": "code",
      "metadata": {
        "id": "agCUkO8LTVOk",
        "colab_type": "code",
        "outputId": "0b184413-7ff1-4075-d7c6-ab353bc5c645",
        "colab": {
          "base_uri": "https://localhost:8080/",
          "height": 454
        }
      },
      "source": [
        "model.summary()"
      ],
      "execution_count": 15,
      "outputs": [
        {
          "output_type": "stream",
          "text": [
            "Model: \"sequential\"\n",
            "_________________________________________________________________\n",
            "Layer (type)                 Output Shape              Param #   \n",
            "=================================================================\n",
            "conv2d (Conv2D)              (None, 28, 28, 16)        160       \n",
            "_________________________________________________________________\n",
            "max_pooling2d (MaxPooling2D) (None, 14, 14, 16)        0         \n",
            "_________________________________________________________________\n",
            "conv2d_1 (Conv2D)            (None, 14, 14, 32)        4640      \n",
            "_________________________________________________________________\n",
            "max_pooling2d_1 (MaxPooling2 (None, 7, 7, 32)          0         \n",
            "_________________________________________________________________\n",
            "conv2d_2 (Conv2D)            (None, 7, 7, 64)          18496     \n",
            "_________________________________________________________________\n",
            "max_pooling2d_2 (MaxPooling2 (None, 3, 3, 64)          0         \n",
            "_________________________________________________________________\n",
            "flatten (Flatten)            (None, 576)               0         \n",
            "_________________________________________________________________\n",
            "dense (Dense)                (None, 512)               295424    \n",
            "_________________________________________________________________\n",
            "dense_1 (Dense)              (None, 10)                5130      \n",
            "=================================================================\n",
            "Total params: 323,850\n",
            "Trainable params: 323,850\n",
            "Non-trainable params: 0\n",
            "_________________________________________________________________\n"
          ],
          "name": "stdout"
        }
      ]
    },
    {
      "cell_type": "code",
      "metadata": {
        "id": "dO8I4K_Jfpz_",
        "colab_type": "code",
        "colab": {}
      },
      "source": [
        "batch_size = 128"
      ],
      "execution_count": 0,
      "outputs": []
    },
    {
      "cell_type": "code",
      "metadata": {
        "id": "doU3VSjbfPY9",
        "colab_type": "code",
        "colab": {}
      },
      "source": [
        "r = 3608"
      ],
      "execution_count": 0,
      "outputs": []
    },
    {
      "cell_type": "code",
      "metadata": {
        "id": "KaFzwztDTZy8",
        "colab_type": "code",
        "outputId": "980862d9-0820-4df4-fa70-8f32562bdd29",
        "colab": {
          "base_uri": "https://localhost:8080/",
          "height": 1000
        }
      },
      "source": [
        "model.fit(x = x[:r * batch_size], y = y[:r * batch_size], epochs = 50, batch_size = batch_size,\n",
        "          validation_split = 0.15)"
      ],
      "execution_count": 18,
      "outputs": [
        {
          "output_type": "stream",
          "text": [
            "Epoch 1/50\n",
            "3067/3067 [==============================] - 13s 4ms/step - loss: 0.9794 - categorical_accuracy: 0.7194 - val_loss: 7.9179 - val_categorical_accuracy: 0.2404\n",
            "Epoch 2/50\n",
            "3067/3067 [==============================] - 12s 4ms/step - loss: 0.4839 - categorical_accuracy: 0.8569 - val_loss: 6.6196 - val_categorical_accuracy: 0.2464\n",
            "Epoch 3/50\n",
            "3067/3067 [==============================] - 12s 4ms/step - loss: 0.4193 - categorical_accuracy: 0.8739 - val_loss: 6.7106 - val_categorical_accuracy: 0.2584\n",
            "Epoch 4/50\n",
            "3067/3067 [==============================] - 12s 4ms/step - loss: 0.3838 - categorical_accuracy: 0.8840 - val_loss: 6.7257 - val_categorical_accuracy: 0.2600\n",
            "Epoch 5/50\n",
            "3067/3067 [==============================] - 12s 4ms/step - loss: 0.3604 - categorical_accuracy: 0.8905 - val_loss: 7.3149 - val_categorical_accuracy: 0.2747\n",
            "Epoch 6/50\n",
            "3067/3067 [==============================] - 13s 4ms/step - loss: 0.3431 - categorical_accuracy: 0.8954 - val_loss: 7.3590 - val_categorical_accuracy: 0.2537\n",
            "Epoch 7/50\n",
            "3067/3067 [==============================] - 12s 4ms/step - loss: 0.3296 - categorical_accuracy: 0.8996 - val_loss: 7.7753 - val_categorical_accuracy: 0.2706\n",
            "Epoch 8/50\n",
            "3067/3067 [==============================] - 12s 4ms/step - loss: 0.3182 - categorical_accuracy: 0.9025 - val_loss: 7.7761 - val_categorical_accuracy: 0.2671\n",
            "Epoch 9/50\n",
            "3067/3067 [==============================] - 12s 4ms/step - loss: 0.3083 - categorical_accuracy: 0.9059 - val_loss: 7.9621 - val_categorical_accuracy: 0.2659\n",
            "Epoch 10/50\n",
            "3067/3067 [==============================] - 12s 4ms/step - loss: 0.2998 - categorical_accuracy: 0.9081 - val_loss: 8.0694 - val_categorical_accuracy: 0.2762\n",
            "Epoch 11/50\n",
            "3067/3067 [==============================] - 12s 4ms/step - loss: 0.2923 - categorical_accuracy: 0.9100 - val_loss: 7.8721 - val_categorical_accuracy: 0.2750\n",
            "Epoch 12/50\n",
            "3067/3067 [==============================] - 12s 4ms/step - loss: 0.2853 - categorical_accuracy: 0.9123 - val_loss: 8.3045 - val_categorical_accuracy: 0.2723\n",
            "Epoch 13/50\n",
            "3067/3067 [==============================] - 12s 4ms/step - loss: 0.2790 - categorical_accuracy: 0.9143 - val_loss: 8.3278 - val_categorical_accuracy: 0.2651\n",
            "Epoch 14/50\n",
            "3067/3067 [==============================] - 12s 4ms/step - loss: 0.2728 - categorical_accuracy: 0.9161 - val_loss: 8.3465 - val_categorical_accuracy: 0.2715\n",
            "Epoch 15/50\n",
            "3067/3067 [==============================] - 12s 4ms/step - loss: 0.2674 - categorical_accuracy: 0.9175 - val_loss: 8.8763 - val_categorical_accuracy: 0.2828\n",
            "Epoch 16/50\n",
            "3067/3067 [==============================] - 12s 4ms/step - loss: 0.2623 - categorical_accuracy: 0.9193 - val_loss: 8.7322 - val_categorical_accuracy: 0.2717\n",
            "Epoch 17/50\n",
            "3067/3067 [==============================] - 12s 4ms/step - loss: 0.2574 - categorical_accuracy: 0.9207 - val_loss: 8.6527 - val_categorical_accuracy: 0.2772\n",
            "Epoch 18/50\n",
            "3067/3067 [==============================] - 12s 4ms/step - loss: 0.2527 - categorical_accuracy: 0.9221 - val_loss: 9.5708 - val_categorical_accuracy: 0.2810\n",
            "Epoch 19/50\n",
            "3067/3067 [==============================] - 12s 4ms/step - loss: 0.2481 - categorical_accuracy: 0.9235 - val_loss: 9.4188 - val_categorical_accuracy: 0.2780\n",
            "Epoch 20/50\n",
            "3067/3067 [==============================] - 12s 4ms/step - loss: 0.2440 - categorical_accuracy: 0.9246 - val_loss: 9.4934 - val_categorical_accuracy: 0.2732\n",
            "Epoch 21/50\n",
            "3067/3067 [==============================] - 12s 4ms/step - loss: 0.2397 - categorical_accuracy: 0.9260 - val_loss: 9.8097 - val_categorical_accuracy: 0.2763\n",
            "Epoch 22/50\n",
            "3067/3067 [==============================] - 12s 4ms/step - loss: 0.2357 - categorical_accuracy: 0.9269 - val_loss: 9.6898 - val_categorical_accuracy: 0.2834\n",
            "Epoch 23/50\n",
            "3067/3067 [==============================] - 12s 4ms/step - loss: 0.2317 - categorical_accuracy: 0.9282 - val_loss: 9.5319 - val_categorical_accuracy: 0.2772\n",
            "Epoch 24/50\n",
            "3067/3067 [==============================] - 12s 4ms/step - loss: 0.2281 - categorical_accuracy: 0.9295 - val_loss: 10.3653 - val_categorical_accuracy: 0.2879\n",
            "Epoch 25/50\n",
            "3067/3067 [==============================] - 12s 4ms/step - loss: 0.2241 - categorical_accuracy: 0.9306 - val_loss: 9.5635 - val_categorical_accuracy: 0.2764\n",
            "Epoch 26/50\n",
            "3067/3067 [==============================] - 12s 4ms/step - loss: 0.2210 - categorical_accuracy: 0.9314 - val_loss: 10.3426 - val_categorical_accuracy: 0.2766\n",
            "Epoch 27/50\n",
            "3067/3067 [==============================] - 12s 4ms/step - loss: 0.2170 - categorical_accuracy: 0.9327 - val_loss: 10.4826 - val_categorical_accuracy: 0.2778\n",
            "Epoch 28/50\n",
            "3067/3067 [==============================] - 12s 4ms/step - loss: 0.2140 - categorical_accuracy: 0.9338 - val_loss: 10.4472 - val_categorical_accuracy: 0.2878\n",
            "Epoch 29/50\n",
            "3067/3067 [==============================] - 12s 4ms/step - loss: 0.2106 - categorical_accuracy: 0.9346 - val_loss: 10.6615 - val_categorical_accuracy: 0.2839\n",
            "Epoch 30/50\n",
            "3067/3067 [==============================] - 12s 4ms/step - loss: 0.2071 - categorical_accuracy: 0.9354 - val_loss: 10.6478 - val_categorical_accuracy: 0.2855\n",
            "Epoch 31/50\n",
            "3067/3067 [==============================] - 12s 4ms/step - loss: 0.2041 - categorical_accuracy: 0.9367 - val_loss: 10.7252 - val_categorical_accuracy: 0.2842\n",
            "Epoch 32/50\n",
            "3067/3067 [==============================] - 13s 4ms/step - loss: 0.2009 - categorical_accuracy: 0.9376 - val_loss: 11.3352 - val_categorical_accuracy: 0.2800\n",
            "Epoch 33/50\n",
            "3067/3067 [==============================] - 12s 4ms/step - loss: 0.1978 - categorical_accuracy: 0.9383 - val_loss: 11.0226 - val_categorical_accuracy: 0.2819\n",
            "Epoch 34/50\n",
            "3067/3067 [==============================] - 12s 4ms/step - loss: 0.1947 - categorical_accuracy: 0.9393 - val_loss: 10.7872 - val_categorical_accuracy: 0.2800\n",
            "Epoch 35/50\n",
            "3067/3067 [==============================] - 12s 4ms/step - loss: 0.1921 - categorical_accuracy: 0.9400 - val_loss: 11.4083 - val_categorical_accuracy: 0.2821\n",
            "Epoch 36/50\n",
            "3067/3067 [==============================] - 12s 4ms/step - loss: 0.1889 - categorical_accuracy: 0.9408 - val_loss: 11.6106 - val_categorical_accuracy: 0.2886\n",
            "Epoch 37/50\n",
            "3067/3067 [==============================] - 12s 4ms/step - loss: 0.1860 - categorical_accuracy: 0.9418 - val_loss: 11.6171 - val_categorical_accuracy: 0.2851\n",
            "Epoch 38/50\n",
            "3067/3067 [==============================] - 12s 4ms/step - loss: 0.1831 - categorical_accuracy: 0.9426 - val_loss: 10.9600 - val_categorical_accuracy: 0.2817\n",
            "Epoch 39/50\n",
            "3067/3067 [==============================] - 12s 4ms/step - loss: 0.1802 - categorical_accuracy: 0.9434 - val_loss: 11.7726 - val_categorical_accuracy: 0.2789\n",
            "Epoch 40/50\n",
            "3067/3067 [==============================] - 12s 4ms/step - loss: 0.1776 - categorical_accuracy: 0.9444 - val_loss: 11.6960 - val_categorical_accuracy: 0.2765\n",
            "Epoch 41/50\n",
            "3067/3067 [==============================] - 12s 4ms/step - loss: 0.1749 - categorical_accuracy: 0.9453 - val_loss: 11.8338 - val_categorical_accuracy: 0.2783\n",
            "Epoch 42/50\n",
            "3067/3067 [==============================] - 12s 4ms/step - loss: 0.1721 - categorical_accuracy: 0.9460 - val_loss: 12.1532 - val_categorical_accuracy: 0.2883\n",
            "Epoch 43/50\n",
            "3067/3067 [==============================] - 12s 4ms/step - loss: 0.1693 - categorical_accuracy: 0.9470 - val_loss: 12.3885 - val_categorical_accuracy: 0.2803\n",
            "Epoch 44/50\n",
            "3067/3067 [==============================] - 12s 4ms/step - loss: 0.1665 - categorical_accuracy: 0.9478 - val_loss: 13.1601 - val_categorical_accuracy: 0.2862\n",
            "Epoch 45/50\n",
            "3067/3067 [==============================] - 12s 4ms/step - loss: 0.1641 - categorical_accuracy: 0.9484 - val_loss: 12.8766 - val_categorical_accuracy: 0.2839\n",
            "Epoch 46/50\n",
            "3067/3067 [==============================] - 12s 4ms/step - loss: 0.1615 - categorical_accuracy: 0.9493 - val_loss: 12.4769 - val_categorical_accuracy: 0.2773\n",
            "Epoch 47/50\n",
            "3067/3067 [==============================] - 12s 4ms/step - loss: 0.1586 - categorical_accuracy: 0.9504 - val_loss: 13.3042 - val_categorical_accuracy: 0.2897\n",
            "Epoch 48/50\n",
            "3067/3067 [==============================] - 12s 4ms/step - loss: 0.1561 - categorical_accuracy: 0.9508 - val_loss: 13.3606 - val_categorical_accuracy: 0.2884\n",
            "Epoch 49/50\n",
            "3067/3067 [==============================] - 12s 4ms/step - loss: 0.1536 - categorical_accuracy: 0.9516 - val_loss: 12.9080 - val_categorical_accuracy: 0.2849\n",
            "Epoch 50/50\n",
            "3067/3067 [==============================] - 12s 4ms/step - loss: 0.1508 - categorical_accuracy: 0.9527 - val_loss: 13.5841 - val_categorical_accuracy: 0.2814\n"
          ],
          "name": "stdout"
        },
        {
          "output_type": "execute_result",
          "data": {
            "text/plain": [
              "<tensorflow.python.keras.callbacks.History at 0x7fd8dfa3f0f0>"
            ]
          },
          "metadata": {
            "tags": []
          },
          "execution_count": 18
        }
      ]
    },
    {
      "cell_type": "markdown",
      "metadata": {
        "id": "yU-FLc1TXkWv",
        "colab_type": "text"
      },
      "source": [
        "### Задание 2\n",
        "\n",
        "Как улучшилась точность классификатора по сравнению с логистической регрессией?"
      ]
    },
    {
      "cell_type": "markdown",
      "metadata": {
        "id": "yS3aHzgBXoLX",
        "colab_type": "text"
      },
      "source": [
        "### Задание 3\n",
        "\n",
        "Используйте регуляризацию и метод сброса нейронов (_dropout_) для борьбы с переобучением. Как улучшилось качество классификации?"
      ]
    },
    {
      "cell_type": "markdown",
      "metadata": {
        "id": "DJJ4R3miXtnA",
        "colab_type": "text"
      },
      "source": [
        "### Задание 4\n",
        "\n",
        "Воспользуйтесь динамически изменяемой скоростью обучения (_learning rate_). Наилучшая точность, достигнутая с помощью данной модели составляет 97.1%. Какую точность демонстрирует Ваша реализованная модель?"
      ]
    }
  ]
}