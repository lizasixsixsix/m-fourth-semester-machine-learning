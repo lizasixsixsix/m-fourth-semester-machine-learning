{
  "nbformat": 4,
  "nbformat_minor": 0,
  "metadata": {
    "colab": {
      "name": "mo-2-8-0.ipynb",
      "provenance": [],
      "collapsed_sections": [],
      "toc_visible": true,
      "machine_shape": "hm"
    },
    "kernelspec": {
      "name": "python3",
      "display_name": "Python 3"
    },
    "accelerator": "GPU"
  },
  "cells": [
    {
      "cell_type": "markdown",
      "metadata": {
        "id": "mh5lhGERk_D0",
        "colab_type": "text"
      },
      "source": [
        "# Лабораторная работа №8\n",
        "\n",
        "## Рекуррентные нейронные сети для анализа временных рядов"
      ]
    },
    {
      "cell_type": "markdown",
      "metadata": {
        "id": "9ziistIKlFbc",
        "colab_type": "text"
      },
      "source": [
        "Набор данных для прогнозирования временных рядов, который состоит из среднемесячного числа пятен на солнце, наблюдаемых с января 1749 по август 2017.\n",
        "\n",
        "Данные в виде csv-файла можно скачать на сайте _Kaggle_: https://www.kaggle.com/robervalt/sunspots/"
      ]
    },
    {
      "cell_type": "markdown",
      "metadata": {
        "id": "fFfPPt1DlMxd",
        "colab_type": "text"
      },
      "source": [
        "### Задание 1\n",
        "\n",
        "Загрузите данные. Изобразите ряд в виде графика. Вычислите основные характеристики временного ряда (сезонность, тренд, автокорреляцию)."
      ]
    },
    {
      "cell_type": "code",
      "metadata": {
        "id": "QEwpDMpI7D85",
        "colab_type": "code",
        "colab": {
          "base_uri": "https://localhost:8080/",
          "height": 34
        },
        "outputId": "b08812f6-5946-4b0a-de4c-3a4d4b09d598"
      },
      "source": [
        "from google.colab import drive\n",
        "\n",
        "drive.mount('/content/drive', force_remount = True)"
      ],
      "execution_count": 1,
      "outputs": [
        {
          "output_type": "stream",
          "text": [
            "Mounted at /content/drive\n"
          ],
          "name": "stdout"
        }
      ]
    },
    {
      "cell_type": "code",
      "metadata": {
        "id": "M0B2cjNm7SOm",
        "colab_type": "code",
        "colab": {}
      },
      "source": [
        "BASE_DIR = '/content/drive/My Drive/Colab Files/mo-2'\n",
        "\n",
        "import sys\n",
        "\n",
        "sys.path.append(BASE_DIR)\n",
        "\n",
        "import os"
      ],
      "execution_count": 0,
      "outputs": []
    },
    {
      "cell_type": "code",
      "metadata": {
        "id": "XnJyvf4V7uTY",
        "colab_type": "code",
        "colab": {}
      },
      "source": [
        "DATA_ARCHIVE_NAME = 'sunspots.zip'\n",
        "\n",
        "LOCAL_DIR_NAME = 'sunspots'"
      ],
      "execution_count": 0,
      "outputs": []
    },
    {
      "cell_type": "code",
      "metadata": {
        "id": "ebb7XqvI9qnf",
        "colab_type": "code",
        "colab": {}
      },
      "source": [
        "from zipfile import ZipFile\n",
        "\n",
        "with ZipFile(os.path.join(BASE_DIR, DATA_ARCHIVE_NAME), 'r') as zip_:\n",
        "    zip_.extractall(LOCAL_DIR_NAME)"
      ],
      "execution_count": 0,
      "outputs": []
    },
    {
      "cell_type": "code",
      "metadata": {
        "id": "ADC3wXvS9x9h",
        "colab_type": "code",
        "colab": {}
      },
      "source": [
        "DATA_FILE_PATH = 'sunspots/Sunspots.csv'"
      ],
      "execution_count": 0,
      "outputs": []
    },
    {
      "cell_type": "code",
      "metadata": {
        "id": "hjdy4_VW93SN",
        "colab_type": "code",
        "colab": {}
      },
      "source": [
        "import pandas as pd\n",
        "\n",
        "all_df = pd.read_csv(DATA_FILE_PATH)"
      ],
      "execution_count": 0,
      "outputs": []
    },
    {
      "cell_type": "code",
      "metadata": {
        "id": "QmXQIU6Y-E26",
        "colab_type": "code",
        "colab": {
          "base_uri": "https://localhost:8080/",
          "height": 34
        },
        "outputId": "4d727507-f55c-402c-f859-43f4fa2ebcd2"
      },
      "source": [
        "print(all_df.shape)"
      ],
      "execution_count": 7,
      "outputs": [
        {
          "output_type": "stream",
          "text": [
            "(3252, 3)\n"
          ],
          "name": "stdout"
        }
      ]
    },
    {
      "cell_type": "markdown",
      "metadata": {
        "id": "1c3kWt_PlRwd",
        "colab_type": "text"
      },
      "source": [
        "### Задание 2\n",
        "\n",
        "Для прогнозирования разделите временной ряд на обучающую, валидационную и контрольную выборки."
      ]
    },
    {
      "cell_type": "code",
      "metadata": {
        "id": "EpI1plGG-J_I",
        "colab_type": "code",
        "colab": {}
      },
      "source": [
        "train_df = all_df.sample(frac = 0.5)\n",
        "all_df = all_df.drop(train_df.index)\n",
        "\n",
        "val_df = all_df.sample(frac = 0.5)\n",
        "test_df = all_df.drop(val_df.index)"
      ],
      "execution_count": 0,
      "outputs": []
    },
    {
      "cell_type": "code",
      "metadata": {
        "id": "xoNJ52nX-suH",
        "colab_type": "code",
        "colab": {
          "base_uri": "https://localhost:8080/",
          "height": 70
        },
        "outputId": "f146d89d-5bff-4576-e153-9a66ce6872bf"
      },
      "source": [
        "print(train_df.shape)\n",
        "print(val_df.shape)\n",
        "print(test_df.shape)"
      ],
      "execution_count": 9,
      "outputs": [
        {
          "output_type": "stream",
          "text": [
            "(1626, 3)\n",
            "(813, 3)\n",
            "(813, 3)\n"
          ],
          "name": "stdout"
        }
      ]
    },
    {
      "cell_type": "markdown",
      "metadata": {
        "id": "OkFarguIlbpf",
        "colab_type": "text"
      },
      "source": [
        "### Задание 3\n",
        "\n",
        "Примените модель _ARIMA_ для прогнозирования значений данного временного ряда."
      ]
    },
    {
      "cell_type": "markdown",
      "metadata": {
        "id": "5g5-t-hwlhYu",
        "colab_type": "text"
      },
      "source": [
        "### Задание 4\n",
        "\n",
        "Повторите эксперимент по прогнозированию, реализовав рекуррентную нейронную сеть (с как минимум 2 рекуррентными слоями)."
      ]
    },
    {
      "cell_type": "markdown",
      "metadata": {
        "id": "SURSxxiPlnRI",
        "colab_type": "text"
      },
      "source": [
        "### Задание 5\n",
        "\n",
        "Сравните качество прогноза моделей.\n",
        "\n",
        "Какой максимальный результат удалось получить на контрольной выборке?"
      ]
    }
  ]
}