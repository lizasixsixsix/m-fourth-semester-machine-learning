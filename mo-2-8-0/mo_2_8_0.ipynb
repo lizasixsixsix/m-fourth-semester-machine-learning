{
  "nbformat": 4,
  "nbformat_minor": 0,
  "metadata": {
    "colab": {
      "name": "mo-2-8-0.ipynb",
      "provenance": [],
      "collapsed_sections": [],
      "machine_shape": "hm"
    },
    "kernelspec": {
      "name": "python3",
      "display_name": "Python 3"
    },
    "accelerator": "GPU"
  },
  "cells": [
    {
      "cell_type": "markdown",
      "metadata": {
        "id": "mh5lhGERk_D0",
        "colab_type": "text"
      },
      "source": [
        "# Лабораторная работа №8\n",
        "\n",
        "## Рекуррентные нейронные сети для анализа временных рядов"
      ]
    },
    {
      "cell_type": "markdown",
      "metadata": {
        "id": "9ziistIKlFbc",
        "colab_type": "text"
      },
      "source": [
        "Набор данных для прогнозирования временных рядов, который состоит из среднемесячного числа пятен на солнце, наблюдаемых с января 1749 по август 2017.\n",
        "\n",
        "Данные в виде csv-файла можно скачать на сайте _Kaggle_: https://www.kaggle.com/robervalt/sunspots/"
      ]
    },
    {
      "cell_type": "markdown",
      "metadata": {
        "id": "fFfPPt1DlMxd",
        "colab_type": "text"
      },
      "source": [
        "### Задание 1\n",
        "\n",
        "Загрузите данные. Изобразите ряд в виде графика. Вычислите основные характеристики временного ряда (сезонность, тренд, автокорреляцию)."
      ]
    },
    {
      "cell_type": "markdown",
      "metadata": {
        "id": "1c3kWt_PlRwd",
        "colab_type": "text"
      },
      "source": [
        "### Задание 2\n",
        "\n",
        "Для прогнозирования разделите временной ряд на обучающую, валидационную и контрольную выборки."
      ]
    },
    {
      "cell_type": "markdown",
      "metadata": {
        "id": "OkFarguIlbpf",
        "colab_type": "text"
      },
      "source": [
        "### Задание 3\n",
        "\n",
        "Примените модель _ARIMA_ для прогнозирования значений данного временного ряда."
      ]
    },
    {
      "cell_type": "markdown",
      "metadata": {
        "id": "5g5-t-hwlhYu",
        "colab_type": "text"
      },
      "source": [
        "### Задание 4\n",
        "\n",
        "Повторите эксперимент по прогнозированию, реализовав рекуррентную нейронную сеть (с как минимум 2 рекуррентными слоями)."
      ]
    },
    {
      "cell_type": "markdown",
      "metadata": {
        "id": "SURSxxiPlnRI",
        "colab_type": "text"
      },
      "source": [
        "### Задание 5\n",
        "\n",
        "Сравните качество прогноза моделей.\n",
        "\n",
        "Какой максимальный результат удалось получить на контрольной выборке?"
      ]
    }
  ]
}