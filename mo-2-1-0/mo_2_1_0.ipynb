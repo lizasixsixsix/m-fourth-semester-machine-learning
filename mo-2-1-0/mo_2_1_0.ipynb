{
  "nbformat": 4,
  "nbformat_minor": 0,
  "metadata": {
    "colab": {
      "name": "mo-2-1-0.ipynb",
      "provenance": [],
      "collapsed_sections": [],
      "toc_visible": true,
      "machine_shape": "hm"
    },
    "kernelspec": {
      "name": "python3",
      "display_name": "Python 3"
    },
    "accelerator": "GPU"
  },
  "cells": [
    {
      "cell_type": "markdown",
      "metadata": {
        "id": "m26ox_I7woWm",
        "colab_type": "text"
      },
      "source": [
        "# Лабораторная работа №1\n",
        "\n",
        "## Логистическая регрессия в качестве нейронной сети"
      ]
    },
    {
      "cell_type": "markdown",
      "metadata": {
        "id": "4R9L4YjYwvzg",
        "colab_type": "text"
      },
      "source": [
        "В работе предлагается использовать набор данных _notMNIST_, который состоит из изображений размерностью 28×28 первых 10 букв латинского алфавита (_A_ ... _J_, соответственно). Обучающая выборка содержит порядка 500 тыс. изображений, а тестовая – около 19 тыс.\n",
        "\n",
        "Данные можно скачать по ссылке:\n",
        "\n",
        "* https://commondatastorage.googleapis.com/books1000/notMNIST_large.tar.gz (большой набор данных);\n",
        "\n",
        "* https://commondatastorage.googleapis.com/books1000/notMNIST_small.tar.gz (маленький набор данных);\n",
        "\n",
        "Описание данных на английском языке доступно по ссылке:\n",
        "http://yaroslavvb.blogspot.sg/2011/09/notmnist-dataset.html"
      ]
    },
    {
      "cell_type": "markdown",
      "metadata": {
        "id": "VP9EjYpYxMFZ",
        "colab_type": "text"
      },
      "source": [
        "### Задание 1\n",
        "\n",
        "Загрузите данные и отобразите на экране несколько из изображений с помощью языка Python."
      ]
    },
    {
      "cell_type": "code",
      "metadata": {
        "id": "D1rl-DXZwlOM",
        "colab_type": "code",
        "colab": {}
      },
      "source": [
        "SMALL_DS_URL = 'https://commondatastorage.googleapis.com/books1000/notMNIST_small.tar.gz'\n",
        "LARGE_DS_URL = 'https://commondatastorage.googleapis.com/books1000/notMNIST_large.tar.gz'"
      ],
      "execution_count": 0,
      "outputs": []
    },
    {
      "cell_type": "code",
      "metadata": {
        "id": "OgPp1kiXt-SD",
        "colab_type": "code",
        "colab": {}
      },
      "source": [
        "%matplotlib inline\n",
        "\n",
        "import matplotlib.pyplot as plt"
      ],
      "execution_count": 0,
      "outputs": []
    },
    {
      "cell_type": "code",
      "metadata": {
        "id": "dgjSRANfZ9Zc",
        "colab_type": "code",
        "colab": {}
      },
      "source": [
        "from urllib.request import urlretrieve\n",
        "import tarfile\n",
        "import os\n",
        "\n",
        "def tar_to_dir(_tar_url, _key):\n",
        "\n",
        "    local_file_name_ = 'dataset_' + _key + '.f'    \n",
        "    dir_name_ = 'dataset_' + _key\n",
        "\n",
        "    urlretrieve(_tar_url, local_file_name_)\n",
        "\n",
        "    tar = tarfile.open(local_file_name_)\n",
        "    tar.extractall(dir_name_)\n",
        "\n",
        "    os.remove(local_file_name_)\n",
        "\n",
        "    return dir_name_"
      ],
      "execution_count": 0,
      "outputs": []
    },
    {
      "cell_type": "code",
      "metadata": {
        "id": "w1BvU5VrhCp7",
        "colab_type": "code",
        "colab": {}
      },
      "source": [
        "from glob import glob\n",
        "\n",
        "def get_subdirs(_dir_name):\n",
        "\n",
        "    inner_dir_ = [x[0] for x in os.walk(_dir_name)][1]\n",
        "\n",
        "    subdir_pattern_ = os.path.join(inner_dir_, '*')\n",
        "\n",
        "    level_3_ = sorted(glob(subdir_pattern_))\n",
        "\n",
        "    return level_3_"
      ],
      "execution_count": 0,
      "outputs": []
    },
    {
      "cell_type": "code",
      "metadata": {
        "id": "-SW4-heOQrUc",
        "colab_type": "code",
        "colab": {}
      },
      "source": [
        "import cv2\n",
        "import os\n",
        "import shutil\n",
        "\n",
        "def subdirs_to_img_dict(_subdirs, _dir_name, _img_dict):\n",
        "\n",
        "    for subdir_ in _subdirs:\n",
        "        images_ = []\n",
        "\n",
        "        for imagefile_ in os.listdir(subdir_):\n",
        "            imagepath_ = os.path.join(subdir_, imagefile_)\n",
        "\n",
        "            images_.append(cv2.imread(imagepath_))\n",
        "\n",
        "        key_ = os.path.basename(os.path.normpath(subdir_))\n",
        "        \n",
        "        _img_dict[key_] = images_\n",
        "\n",
        "    shutil.rmtree(_dir_name)"
      ],
      "execution_count": 0,
      "outputs": []
    },
    {
      "cell_type": "code",
      "metadata": {
        "id": "LnmBOY41R45g",
        "colab_type": "code",
        "colab": {}
      },
      "source": [
        "import random\n",
        "\n",
        "def get_examples(_img_dict):\n",
        "\n",
        "    examples_ = []\n",
        "\n",
        "    for v in _img_dict.values():\n",
        "        examples_.append(v[random.randrange(len(v))])\n",
        "\n",
        "    return examples_"
      ],
      "execution_count": 0,
      "outputs": []
    },
    {
      "cell_type": "code",
      "metadata": {
        "id": "vmh1NQyctkko",
        "colab_type": "code",
        "colab": {}
      },
      "source": [
        "def print_examples(_examples):\n",
        "\n",
        "    fig = plt.figure(figsize=(16, 6))\n",
        "\n",
        "    for i, img in enumerate(_examples):\n",
        "        ax = fig.add_subplot(2, 5, i + 1)\n",
        "        ax.axis('off')\n",
        "        ax.imshow(img)\n",
        "\n",
        "    plt.show()"
      ],
      "execution_count": 0,
      "outputs": []
    },
    {
      "cell_type": "code",
      "metadata": {
        "id": "4deBIyqSsHUG",
        "colab_type": "code",
        "colab": {}
      },
      "source": [
        "def tar_to_img_dict(_tar_url, _img_dict, _key):\n",
        "    \n",
        "    dir_name_ = tar_to_dir(_tar_url, _key)\n",
        "\n",
        "    subdirs_ = get_subdirs(dir_name_)\n",
        "\n",
        "    subdirs_to_img_dict(subdirs_, dir_name_, _img_dict)\n",
        "\n",
        "    examples_ = get_examples(_img_dict)\n",
        "\n",
        "    print_examples(examples_)"
      ],
      "execution_count": 0,
      "outputs": []
    },
    {
      "cell_type": "code",
      "metadata": {
        "id": "rMm-4WF_tUrp",
        "colab_type": "code",
        "colab": {
          "base_uri": "https://localhost:8080/",
          "height": 357
        },
        "outputId": "2d68e15c-37da-4c6d-b443-4dc844cd4407"
      },
      "source": [
        "small_imgs = {}\n",
        "\n",
        "tar_to_img_dict(SMALL_DS_URL, small_imgs, 'small')"
      ],
      "execution_count": 9,
      "outputs": [
        {
          "output_type": "display_data",
          "data": {
            "image/png": "[encoded data removed]",
            "text/plain": [
              "<Figure size 1152x432 with 10 Axes>"
            ]
          },
          "metadata": {
            "tags": []
          }
        }
      ]
    },
    {
      "cell_type": "code",
      "metadata": {
        "id": "s9CTaXBNvNyf",
        "colab_type": "code",
        "colab": {
          "base_uri": "https://localhost:8080/",
          "height": 357
        },
        "outputId": "fe2779c6-8073-41e8-b004-f8a7dc55669a"
      },
      "source": [
        "large_imgs = {}\n",
        "\n",
        "tar_to_img_dict(LARGE_DS_URL, large_imgs, 'large')"
      ],
      "execution_count": 10,
      "outputs": [
        {
          "output_type": "display_data",
          "data": {
            "image/png": "[encoded data removed]",
            "text/plain": [
              "<Figure size 1152x432 with 10 Axes>"
            ]
          },
          "metadata": {
            "tags": []
          }
        }
      ]
    },
    {
      "cell_type": "markdown",
      "metadata": {
        "id": "0caNSzyYxiKS",
        "colab_type": "text"
      },
      "source": [
        "### Задание 2\n",
        "\n",
        "Проверьте, что классы являются сбалансированными, т.е. количество изображений, принадлежащих каждому из классов, примерно одинаково (в данной задаче 10 классов)."
      ]
    },
    {
      "cell_type": "code",
      "metadata": {
        "id": "QFluJmzdY6TY",
        "colab_type": "code",
        "colab": {}
      },
      "source": [
        "def print_balance(_dict):\n",
        "    print(*[k + ': ' + str(len(v)) for k, v in _dict.items()], sep = '    ')"
      ],
      "execution_count": 0,
      "outputs": []
    },
    {
      "cell_type": "code",
      "metadata": {
        "id": "p0FQk7swt1fe",
        "colab_type": "code",
        "colab": {
          "base_uri": "https://localhost:8080/",
          "height": 34
        },
        "outputId": "8e6f4754-2bc0-45c7-f3c6-bdfe810b7ac4"
      },
      "source": [
        "print_balance(small_imgs)"
      ],
      "execution_count": 12,
      "outputs": [
        {
          "output_type": "stream",
          "text": [
            "A: 1873    B: 1873    C: 1873    D: 1873    E: 1873    F: 1873    G: 1872    H: 1872    I: 1872    J: 1872\n"
          ],
          "name": "stdout"
        }
      ]
    },
    {
      "cell_type": "code",
      "metadata": {
        "id": "dPm_8_3qwER2",
        "colab_type": "code",
        "colab": {
          "base_uri": "https://localhost:8080/",
          "height": 34
        },
        "outputId": "2570c633-f00e-4f47-82e9-7523fd05eccb"
      },
      "source": [
        "print_balance(large_imgs)"
      ],
      "execution_count": 13,
      "outputs": [
        {
          "output_type": "stream",
          "text": [
            "A: 52912    B: 52912    C: 52912    D: 52912    E: 52912    F: 52912    G: 52912    H: 52912    I: 52912    J: 52911\n"
          ],
          "name": "stdout"
        }
      ]
    },
    {
      "cell_type": "markdown",
      "metadata": {
        "id": "7Mvt8iqdxrbA",
        "colab_type": "text"
      },
      "source": [
        "### Задание 3\n",
        "\n",
        "Разделите данные на три подвыборки: обучающую (200 тыс. изображений), валидационную (10 тыс. изображений) и контрольную (тестовую) (19 тыс. изображений)."
      ]
    },
    {
      "cell_type": "markdown",
      "metadata": {
        "id": "qnxVPboLxw4M",
        "colab_type": "text"
      },
      "source": [
        "### Задание 4\n",
        "\n",
        "Проверьте, что данные из обучающей выборки не пересекаются с данными из валидационной и контрольной выборок. Другими словами, избавьтесь от дубликатов в обучающей выборке."
      ]
    },
    {
      "cell_type": "markdown",
      "metadata": {
        "id": "HIrB235Wx3Pg",
        "colab_type": "text"
      },
      "source": [
        "### Задание 5\n",
        "\n",
        "Постройте простейший классификатор (например, с помощью логистической регрессии). Постройте график зависимости точности классификатора от размера обучающей выборки (50, 100, 1000, 50000). Для построения классификатора можете использовать библиотеку _SkLearn_ (http://scikit-learn.org)."
      ]
    }
  ]
}