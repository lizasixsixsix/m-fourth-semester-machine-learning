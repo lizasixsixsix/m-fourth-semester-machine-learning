{
  "nbformat": 4,
  "nbformat_minor": 0,
  "metadata": {
    "colab": {
      "name": "mo-2-1-0.ipynb",
      "provenance": [],
      "collapsed_sections": [],
      "toc_visible": true,
      "machine_shape": "hm"
    },
    "kernelspec": {
      "name": "python3",
      "display_name": "Python 3"
    },
    "accelerator": "GPU"
  },
  "cells": [
    {
      "cell_type": "markdown",
      "metadata": {
        "id": "m26ox_I7woWm",
        "colab_type": "text"
      },
      "source": [
        "# Лабораторная работа №1\n",
        "\n",
        "## Логистическая регрессия в качестве нейронной сети"
      ]
    },
    {
      "cell_type": "markdown",
      "metadata": {
        "id": "4R9L4YjYwvzg",
        "colab_type": "text"
      },
      "source": [
        "В работе предлагается использовать набор данных _notMNIST_, который состоит из изображений размерностью 28×28 первых 10 букв латинского алфавита (_A_ ... _J_, соответственно). Обучающая выборка содержит порядка 500 тыс. изображений, а тестовая – около 19 тыс.\n",
        "\n",
        "Данные можно скачать по ссылке:\n",
        "\n",
        "* https://commondatastorage.googleapis.com/books1000/notMNIST_large.tar.gz (большой набор данных);\n",
        "\n",
        "* https://commondatastorage.googleapis.com/books1000/notMNIST_small.tar.gz (маленький набор данных);\n",
        "\n",
        "Описание данных на английском языке доступно по ссылке:\n",
        "http://yaroslavvb.blogspot.sg/2011/09/notmnist-dataset.html"
      ]
    },
    {
      "cell_type": "markdown",
      "metadata": {
        "id": "VP9EjYpYxMFZ",
        "colab_type": "text"
      },
      "source": [
        "### Задание 1\n",
        "\n",
        "Загрузите данные и отобразите на экране несколько из изображений с помощью языка Python."
      ]
    },
    {
      "cell_type": "code",
      "metadata": {
        "id": "i2Jzerm4bjqJ",
        "colab_type": "code",
        "colab": {}
      },
      "source": [
        "import warnings\n",
        "\n",
        "warnings.filterwarnings('ignore')"
      ],
      "execution_count": 0,
      "outputs": []
    },
    {
      "cell_type": "code",
      "metadata": {
        "id": "D1rl-DXZwlOM",
        "colab_type": "code",
        "colab": {}
      },
      "source": [
        "SMALL_DS_URL = (\n",
        "    'https://commondatastorage.googleapis.com/books1000/notMNIST_small.tar.gz')\n",
        "LARGE_DS_URL = (\n",
        "    'https://commondatastorage.googleapis.com/books1000/notMNIST_large.tar.gz')"
      ],
      "execution_count": 0,
      "outputs": []
    },
    {
      "cell_type": "code",
      "metadata": {
        "id": "OgPp1kiXt-SD",
        "colab_type": "code",
        "colab": {}
      },
      "source": [
        "%matplotlib inline\n",
        "\n",
        "import matplotlib.pyplot as plt\n",
        "import seaborn as sns\n",
        "from matplotlib import rcParams\n",
        "\n",
        "rcParams['figure.figsize'] = 8, 6\n",
        "\n",
        "sns.set()\n",
        "sns.set_palette(sns.color_palette('hls'))"
      ],
      "execution_count": 0,
      "outputs": []
    },
    {
      "cell_type": "code",
      "metadata": {
        "id": "dgjSRANfZ9Zc",
        "colab_type": "code",
        "colab": {}
      },
      "source": [
        "from urllib.request import urlretrieve\n",
        "import tarfile\n",
        "import os\n",
        "\n",
        "def tar_to_dir(_tar_url, _key):\n",
        "\n",
        "    dir_name_ = 'dataset_' + _key\n",
        "    local_file_name_ = dir_name_ + '.f'\n",
        "\n",
        "    urlretrieve(_tar_url, local_file_name_)\n",
        "\n",
        "    with tarfile.open(local_file_name_, 'r:gz') as tar_:\n",
        "        tar_.extractall(dir_name_)\n",
        "\n",
        "    os.remove(local_file_name_)\n",
        "\n",
        "    return dir_name_"
      ],
      "execution_count": 0,
      "outputs": []
    },
    {
      "cell_type": "code",
      "metadata": {
        "id": "UiSnQQgw9gm5",
        "colab_type": "code",
        "colab": {}
      },
      "source": [
        "def get_examples(_dataframe, _label_column_name, _data_column_name):\n",
        "\n",
        "    n_ = _dataframe[_label_column_name].nunique()\n",
        "\n",
        "    examples_ = _dataframe.sample(n_)[_data_column_name]\n",
        "\n",
        "    return examples_"
      ],
      "execution_count": 0,
      "outputs": []
    },
    {
      "cell_type": "code",
      "metadata": {
        "id": "n3ZPpYSf9zPI",
        "colab_type": "code",
        "colab": {}
      },
      "source": [
        "from math import ceil\n",
        "import numpy as np\n",
        "\n",
        "def print_examples(_examples):\n",
        "\n",
        "    fig = plt.figure(figsize = (8, 4))\n",
        "\n",
        "    height_ = 2\n",
        "    width_ = ceil(_examples.count() / height_)\n",
        "    \n",
        "    for i, item_ in enumerate(_examples):\n",
        "\n",
        "        ax = fig.add_subplot(height_, width_, i + 1)\n",
        "        ax.axis('off')\n",
        "        ax.imshow(item_, cmap = 'gray', interpolation = 'none')\n",
        "\n",
        "    plt.show()"
      ],
      "execution_count": 0,
      "outputs": []
    },
    {
      "cell_type": "code",
      "metadata": {
        "id": "7bccSE9KHYfo",
        "colab_type": "code",
        "colab": {}
      },
      "source": [
        "from imageio import imread\n",
        "import pandas as pd\n",
        "\n",
        "def image_to_array(_image):  \n",
        "    try:\n",
        "        array_ = imread(_image)\n",
        "\n",
        "        return True, array_\n",
        "    except:\n",
        "        return False, None\n",
        "\n",
        "def get_inner_dir(_dir_path):\n",
        "    \n",
        "    return [x[0] for x in os.walk(_dir_path)][1]\n",
        "\n",
        "def remove_duplicates(_dataframe, _data_column_name):\n",
        "\n",
        "   return (_dataframe\n",
        "           .loc[_dataframe[_data_column_name]\n",
        "                .astype(str).drop_duplicates().index])\n",
        "\n",
        "def dir_to_dataframe(_dir_path):\n",
        "\n",
        "    dataframes_ = []\n",
        "\n",
        "    inner_dir_path_ = get_inner_dir(_dir_path)\n",
        "\n",
        "    for subdir_ in sorted(os.listdir(inner_dir_path_)):\n",
        "        \n",
        "        letter_ = subdir_\n",
        "\n",
        "        data_ = []\n",
        "\n",
        "        files_ = os.listdir(os.path.join(inner_dir_path_, subdir_))\n",
        "\n",
        "        for f in files_:\n",
        "            file_path_ = os.path.join(inner_dir_path_, subdir_, f)\n",
        "            \n",
        "            can_read_, im = image_to_array(file_path_)\n",
        "\n",
        "            if can_read_:\n",
        "                data_.append(im)\n",
        "\n",
        "        g = [letter_] * len(data_)\n",
        "\n",
        "        e = np.array(data_)\n",
        "\n",
        "        h = pd.DataFrame()\n",
        "\n",
        "        h['data'] = data_\n",
        "        h['label'] = letter_\n",
        "\n",
        "        dataframes_.append(h)\n",
        "\n",
        "    result_ = pd.concat(dataframes_, ignore_index = True)\n",
        "\n",
        "    unique_ = remove_duplicates(result_, 'data')\n",
        "\n",
        "    return unique_"
      ],
      "execution_count": 0,
      "outputs": []
    },
    {
      "cell_type": "code",
      "metadata": {
        "colab_type": "code",
        "id": "XsNpEQL4YhWY",
        "colab": {}
      },
      "source": [
        "def tar_to_dataframe(_tar_url, _key):\n",
        "    \n",
        "    dir_name_ = tar_to_dir(_tar_url, _key)\n",
        "\n",
        "    inner_dir_ = get_inner_dir(dir_name_)\n",
        "\n",
        "    dataframe_ = dir_to_dataframe(dir_name_)\n",
        "\n",
        "    examples_ = get_examples(dataframe_, 'label', 'data')\n",
        "\n",
        "    print_examples(examples_)\n",
        "\n",
        "    return dataframe_"
      ],
      "execution_count": 0,
      "outputs": []
    },
    {
      "cell_type": "code",
      "metadata": {
        "id": "C7Q17R7aYzg6",
        "colab_type": "code",
        "outputId": "038ff87d-f2d4-4576-d27e-301a25c138a3",
        "colab": {
          "base_uri": "https://localhost:8080/",
          "height": 226
        }
      },
      "source": [
        "small_dataframe = tar_to_dataframe(SMALL_DS_URL, 'small')"
      ],
      "execution_count": 9,
      "outputs": [
        {
          "output_type": "display_data",
          "data": {
            "image/png": "[encoded data removed]",
            "text/plain": [
              "<Figure size 576x288 with 10 Axes>"
            ]
          },
          "metadata": {
            "tags": []
          }
        }
      ]
    },
    {
      "cell_type": "code",
      "metadata": {
        "id": "8S9Qpa7KLMSZ",
        "colab_type": "code",
        "outputId": "49502521-d621-4768-d4b5-72c854329dbc",
        "colab": {
          "base_uri": "https://localhost:8080/",
          "height": 226
        }
      },
      "source": [
        "large_dataframe = tar_to_dataframe(LARGE_DS_URL, 'large')"
      ],
      "execution_count": 10,
      "outputs": [
        {
          "output_type": "display_data",
          "data": {
            "image/png": "[encoded data removed]",
            "text/plain": [
              "<Figure size 576x288 with 10 Axes>"
            ]
          },
          "metadata": {
            "tags": []
          }
        }
      ]
    },
    {
      "cell_type": "markdown",
      "metadata": {
        "id": "0caNSzyYxiKS",
        "colab_type": "text"
      },
      "source": [
        "### Задание 2\n",
        "\n",
        "Проверьте, что классы являются сбалансированными, т.е. количество изображений, принадлежащих каждому из классов, примерно одинаково (в данной задаче 10 классов)."
      ]
    },
    {
      "cell_type": "code",
      "metadata": {
        "colab_type": "code",
        "id": "cDcC1FKhBAVZ",
        "colab": {}
      },
      "source": [
        "def print_balance(_dataframe, _label_column_name):\n",
        "    \n",
        "    values_ = (_dataframe[_label_column_name]\n",
        "               .value_counts().sort_values(ascending = False))\n",
        "\n",
        "    print(('{:>10}' * len(values_)).format(*values_))"
      ],
      "execution_count": 0,
      "outputs": []
    },
    {
      "cell_type": "code",
      "metadata": {
        "id": "kgef-YKiA7J0",
        "colab_type": "code",
        "outputId": "5f6191fe-520b-49f3-cf57-f1a70ea9525e",
        "colab": {
          "base_uri": "https://localhost:8080/",
          "height": 34
        }
      },
      "source": [
        "print_balance(small_dataframe, 'label')"
      ],
      "execution_count": 12,
      "outputs": [
        {
          "output_type": "stream",
          "text": [
            "      1853      1850      1850      1848      1848      1848      1847      1847      1845      1596\n"
          ],
          "name": "stdout"
        }
      ]
    },
    {
      "cell_type": "code",
      "metadata": {
        "id": "dPm_8_3qwER2",
        "colab_type": "code",
        "outputId": "eab98e75-d72f-4742-86bc-2c4e39e2731a",
        "colab": {
          "base_uri": "https://localhost:8080/",
          "height": 34
        }
      },
      "source": [
        "print_balance(large_dataframe, 'label')"
      ],
      "execution_count": 13,
      "outputs": [
        {
          "output_type": "stream",
          "text": [
            "     47226     47102     47012     46890     46771     46663     46577     46521     46098     41086\n"
          ],
          "name": "stdout"
        }
      ]
    },
    {
      "cell_type": "markdown",
      "metadata": {
        "id": "JS_y0IsdKEP_",
        "colab_type": "text"
      },
      "source": [
        "Как видим, классы сбалансированы."
      ]
    },
    {
      "cell_type": "markdown",
      "metadata": {
        "id": "7Mvt8iqdxrbA",
        "colab_type": "text"
      },
      "source": [
        "### Задание 3\n",
        "\n",
        "Разделите данные на три подвыборки: обучающую (200 тыс. изображений), валидационную (10 тыс. изображений) и контрольную (тестовую) (19 тыс. изображений)."
      ]
    },
    {
      "cell_type": "code",
      "metadata": {
        "id": "udKRHrwEuX-A",
        "colab_type": "code",
        "colab": {}
      },
      "source": [
        "def split(_dataframe, _n_train, _n_test, _n_val):\n",
        "\n",
        "    assert _dataframe.shape[0] >= _n_train + _n_test + _n_val\n",
        "\n",
        "    to_be_split_ = _dataframe.copy(deep = True)\n",
        "\n",
        "    seed_ = 666\n",
        "\n",
        "    train_ = to_be_split_.sample(n = _n_train, random_state = seed_)\n",
        "\n",
        "    to_be_split_ = to_be_split_.drop(train_.index)\n",
        "    test_ = to_be_split_.sample(n = _n_test, random_state = seed_)\n",
        "    \n",
        "    val_ = (to_be_split_\n",
        "            .drop(test_.index).sample(n = _n_val, random_state = seed_))\n",
        "\n",
        "    return train_, test_, val_"
      ],
      "execution_count": 0,
      "outputs": []
    },
    {
      "cell_type": "code",
      "metadata": {
        "id": "N7X6lTZfvW39",
        "colab_type": "code",
        "outputId": "1945ced3-7c1e-4c04-8afb-c94b03fd668a",
        "colab": {
          "base_uri": "https://localhost:8080/",
          "height": 34
        }
      },
      "source": [
        "large_dataframe.shape[0]"
      ],
      "execution_count": 15,
      "outputs": [
        {
          "output_type": "execute_result",
          "data": {
            "text/plain": [
              "461946"
            ]
          },
          "metadata": {
            "tags": []
          },
          "execution_count": 15
        }
      ]
    },
    {
      "cell_type": "code",
      "metadata": {
        "id": "Frl0g562miww",
        "colab_type": "code",
        "outputId": "79b58156-5b71-4c1e-e537-f3d39e0c93b2",
        "colab": {
          "base_uri": "https://localhost:8080/",
          "height": 70
        }
      },
      "source": [
        "train, test, validation = split(large_dataframe, 200000, 10000, 19000)\n",
        "\n",
        "print_balance(train, 'label')\n",
        "print_balance(test, 'label')\n",
        "print_balance(validation, 'label')"
      ],
      "execution_count": 16,
      "outputs": [
        {
          "output_type": "stream",
          "text": [
            "     20415     20350     20317     20290     20278     20191     20170     20124     20100     17765\n",
            "      1049      1043      1033      1029      1021      1016       995       981       961       872\n",
            "      2014      1945      1934      1931      1912      1903      1898      1887      1864      1712\n"
          ],
          "name": "stdout"
        }
      ]
    },
    {
      "cell_type": "markdown",
      "metadata": {
        "id": "MH537dUmKLJ4",
        "colab_type": "text"
      },
      "source": [
        "Видно, что удалось сохранить баланс между классами."
      ]
    },
    {
      "cell_type": "markdown",
      "metadata": {
        "id": "qnxVPboLxw4M",
        "colab_type": "text"
      },
      "source": [
        "### Задание 4\n",
        "\n",
        "Проверьте, что данные из обучающей выборки не пересекаются с данными из валидационной и контрольной выборок. Другими словами, избавьтесь от дубликатов в обучающей выборке."
      ]
    },
    {
      "cell_type": "code",
      "metadata": {
        "id": "P7Kg2koD7Vp7",
        "colab_type": "code",
        "colab": {}
      },
      "source": [
        "def no_duplicates(_dataframe, _data_column_name):\n",
        "\n",
        "    original_length_ = _dataframe.shape[0]\n",
        "\n",
        "    unique_length_ = (_dataframe[_data_column_name]\n",
        "                      .astype(str).unique().shape[0])\n",
        "\n",
        "    print(str(original_length_) + ' -- ' + str(unique_length_))\n",
        "\n",
        "    return original_length_ == unique_length_"
      ],
      "execution_count": 0,
      "outputs": []
    },
    {
      "cell_type": "code",
      "metadata": {
        "id": "trcIBTHO3OYB",
        "colab_type": "code",
        "outputId": "1720dc29-3f40-40c0-8499-218a841ed2c4",
        "colab": {
          "base_uri": "https://localhost:8080/",
          "height": 52
        }
      },
      "source": [
        "print(no_duplicates(small_dataframe, 'data'))"
      ],
      "execution_count": 18,
      "outputs": [
        {
          "output_type": "stream",
          "text": [
            "18232 -- 18232\n",
            "True\n"
          ],
          "name": "stdout"
        }
      ]
    },
    {
      "cell_type": "code",
      "metadata": {
        "id": "qoLJ2JI2tyb3",
        "colab_type": "code",
        "outputId": "742cbc2d-eb45-4aed-834e-cf66f31a79e8",
        "colab": {
          "base_uri": "https://localhost:8080/",
          "height": 52
        }
      },
      "source": [
        "print(no_duplicates(large_dataframe, 'data'))"
      ],
      "execution_count": 19,
      "outputs": [
        {
          "output_type": "stream",
          "text": [
            "461946 -- 461946\n",
            "True\n"
          ],
          "name": "stdout"
        }
      ]
    },
    {
      "cell_type": "code",
      "metadata": {
        "id": "CPd9TDceNwh2",
        "colab_type": "code",
        "colab": {}
      },
      "source": [
        "small_dataframe.to_pickle(\"./small.pkl\")\n",
        "large_dataframe.to_pickle(\"./large.pkl\")"
      ],
      "execution_count": 0,
      "outputs": []
    },
    {
      "cell_type": "markdown",
      "metadata": {
        "id": "QHfguRVrKSCe",
        "colab_type": "text"
      },
      "source": [
        "Дубликатов не обнаружено, так как они были удалены на шаге построения датасета из файлов."
      ]
    },
    {
      "cell_type": "markdown",
      "metadata": {
        "id": "HIrB235Wx3Pg",
        "colab_type": "text"
      },
      "source": [
        "### Задание 5\n",
        "\n",
        "Постройте простейший классификатор (например, с помощью логистической регрессии). Постройте график зависимости точности классификатора от размера обучающей выборки (50, 100, 1000, 50000). Для построения классификатора можете использовать библиотеку _SkLearn_ (http://scikit-learn.org)."
      ]
    },
    {
      "cell_type": "code",
      "metadata": {
        "id": "11aB0E289Hp9",
        "colab_type": "code",
        "colab": {}
      },
      "source": [
        "def dataframe_to_x_y(_dataframe):\n",
        "\n",
        "    x_ = np.stack(_dataframe['data']).reshape((_dataframe.shape[0], -1))\n",
        "\n",
        "    y_= _dataframe['label'].to_numpy()\n",
        "\n",
        "    return x_, y_"
      ],
      "execution_count": 0,
      "outputs": []
    },
    {
      "cell_type": "code",
      "metadata": {
        "id": "hPd2nW6h4Ij7",
        "colab_type": "code",
        "colab": {}
      },
      "source": [
        "X_train, y_train = dataframe_to_x_y(train)\n",
        "X_test, y_test = dataframe_to_x_y(test)"
      ],
      "execution_count": 0,
      "outputs": []
    },
    {
      "cell_type": "code",
      "metadata": {
        "id": "FtB-cYzxCR7o",
        "colab_type": "code",
        "colab": {}
      },
      "source": [
        "sizes = [50, 100, 1000, 50000]\n",
        "\n",
        "clfs = {}\n",
        "\n",
        "scores = {}"
      ],
      "execution_count": 0,
      "outputs": []
    },
    {
      "cell_type": "code",
      "metadata": {
        "id": "5-XZHKbn3RFn",
        "colab_type": "code",
        "colab": {}
      },
      "source": [
        "from sklearn.linear_model import LogisticRegression\n",
        "\n",
        "for size_ in sizes:\n",
        "\n",
        "    clf_ = (LogisticRegression(max_iter = 100)\n",
        "            .fit(X_train[:size_], y_train[:size_]))\n",
        "\n",
        "    clfs[size_] = clf_"
      ],
      "execution_count": 0,
      "outputs": []
    },
    {
      "cell_type": "code",
      "metadata": {
        "id": "N916ZCKR39JP",
        "colab_type": "code",
        "outputId": "43e7e68b-d01a-4f3a-efc9-d938f65cbe5b",
        "colab": {
          "base_uri": "https://localhost:8080/",
          "height": 34
        }
      },
      "source": [
        "print(*clfs[50000].predict(X_test[:10]), sep = '\\t')"
      ],
      "execution_count": 25,
      "outputs": [
        {
          "output_type": "stream",
          "text": [
            "I\tC\tB\tH\tC\tG\tB\tE\tG\tI\n"
          ],
          "name": "stdout"
        }
      ]
    },
    {
      "cell_type": "code",
      "metadata": {
        "id": "IiR0QaJN5GRH",
        "colab_type": "code",
        "outputId": "cda1cf37-82de-418d-ae0e-db61b7f985db",
        "colab": {
          "base_uri": "https://localhost:8080/",
          "height": 34
        }
      },
      "source": [
        "print(*y_test[:10], sep = '\\t')"
      ],
      "execution_count": 26,
      "outputs": [
        {
          "output_type": "stream",
          "text": [
            "C\tC\tB\tH\tC\tG\tB\tE\tG\tH\n"
          ],
          "name": "stdout"
        }
      ]
    },
    {
      "cell_type": "code",
      "metadata": {
        "id": "4P6FLP7K4Fhh",
        "colab_type": "code",
        "colab": {}
      },
      "source": [
        "for size_ in sizes:\n",
        "    \n",
        "    scores[size_] = clfs[size_].score(X_test, y_test)"
      ],
      "execution_count": 0,
      "outputs": []
    },
    {
      "cell_type": "code",
      "metadata": {
        "id": "dlE8sZn-lvmH",
        "colab_type": "code",
        "outputId": "5c93f0db-06e8-4ab2-8f2c-b9c01d785f5d",
        "colab": {
          "base_uri": "https://localhost:8080/",
          "height": 34
        }
      },
      "source": [
        "print(scores)"
      ],
      "execution_count": 28,
      "outputs": [
        {
          "output_type": "stream",
          "text": [
            "{50: 0.6183, 100: 0.7057, 1000: 0.7259, 50000: 0.8161}\n"
          ],
          "name": "stdout"
        }
      ]
    },
    {
      "cell_type": "code",
      "metadata": {
        "id": "J8CienYl_dTL",
        "colab_type": "code",
        "outputId": "351be98c-cbf5-430e-e11a-e4dac6423396",
        "colab": {
          "base_uri": "https://localhost:8080/",
          "height": 416
        }
      },
      "source": [
        "sns.lineplot(sizes, [scores[s] for s in sizes])\n",
        "\n",
        "plt.xlabel('Samples $n$')\n",
        "plt.ylabel('Classifies Accuracy')\n",
        "\n",
        "plt.title('Accuracy for Samples $n$')\n",
        "\n",
        "plt.show()"
      ],
      "execution_count": 29,
      "outputs": [
        {
          "output_type": "display_data",
          "data": {
            "image/png": "[encoded data removed]",
            "text/plain": [
              "<Figure size 576x432 with 1 Axes>"
            ]
          },
          "metadata": {
            "tags": []
          }
        }
      ]
    },
    {
      "cell_type": "markdown",
      "metadata": {
        "id": "NYDD1yYLKeJ1",
        "colab_type": "text"
      },
      "source": [
        "На графике видим, что с увеличением выборки качество классификации растёт с размером выборки."
      ]
    }
  ]
}