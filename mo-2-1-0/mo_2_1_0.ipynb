{
  "nbformat": 4,
  "nbformat_minor": 0,
  "metadata": {
    "colab": {
      "name": "mo-2-1-0.ipynb",
      "provenance": [],
      "collapsed_sections": []
    },
    "kernelspec": {
      "name": "python3",
      "display_name": "Python 3"
    }
  },
  "cells": [
    {
      "cell_type": "markdown",
      "metadata": {
        "id": "m26ox_I7woWm",
        "colab_type": "text"
      },
      "source": [
        "# Лабораторная работа №1\n",
        "\n",
        "## Логистическая регрессия в качестве нейронной сети"
      ]
    },
    {
      "cell_type": "markdown",
      "metadata": {
        "id": "4R9L4YjYwvzg",
        "colab_type": "text"
      },
      "source": [
        "В работе предлагается использовать набор данных _notMNIST_, который состоит из изображений размерностью 28×28 первых 10 букв латинского алфавита (_A_ ... _J_, соответственно). Обучающая выборка содержит порядка 500 тыс. изображений, а тестовая – около 19 тыс.\n",
        "\n",
        "Данные можно скачать по ссылке:\n",
        "\n",
        "* https://commondatastorage.googleapis.com/books1000/notMNIST_large.tar.gz (большой набор данных);\n",
        "\n",
        "* https://commondatastorage.googleapis.com/books1000/notMNIST_small.tar.gz (маленький набор данных);\n",
        "\n",
        "Описание данных на английском языке доступно по ссылке:\n",
        "http://yaroslavvb.blogspot.sg/2011/09/notmnist-dataset.html"
      ]
    },
    {
      "cell_type": "markdown",
      "metadata": {
        "id": "VP9EjYpYxMFZ",
        "colab_type": "text"
      },
      "source": [
        "### Задание 1\n",
        "\n",
        "Загрузите данные и отобразите на экране несколько из изображений с помощью языка Python."
      ]
    },
    {
      "cell_type": "markdown",
      "metadata": {
        "id": "0caNSzyYxiKS",
        "colab_type": "text"
      },
      "source": [
        "### Задание 2\n",
        "\n",
        "Проверьте, что классы являются сбалансированными, т.е. количество изображений, принадлежащих каждому из классов, примерно одинаково (в данной задаче 10 классов)."
      ]
    },
    {
      "cell_type": "markdown",
      "metadata": {
        "id": "7Mvt8iqdxrbA",
        "colab_type": "text"
      },
      "source": [
        "### Задание 3\n",
        "\n",
        "Разделите данные на три подвыборки: обучающую (200 тыс. изображений), валидационную (10 тыс. изображений) и контрольную (тестовую) (19 тыс. изображений)."
      ]
    },
    {
      "cell_type": "markdown",
      "metadata": {
        "id": "qnxVPboLxw4M",
        "colab_type": "text"
      },
      "source": [
        "### Задание 4\n",
        "\n",
        "Проверьте, что данные из обучающей выборки не пересекаются с данными из валидационной и контрольной выборок. Другими словами, избавьтесь от дубликатов в обучающей выборке."
      ]
    },
    {
      "cell_type": "markdown",
      "metadata": {
        "id": "HIrB235Wx3Pg",
        "colab_type": "text"
      },
      "source": [
        "### Задание 5\n",
        "\n",
        "Постройте простейший классификатор (например, с помощью логистической регрессии). Постройте график зависимости точности классификатора от размера обучающей выборки (50, 100, 1000, 50000). Для построения классификатора можете использовать библиотеку _SkLearn_ (http://scikit-learn.org)."
      ]
    }
  ]
}